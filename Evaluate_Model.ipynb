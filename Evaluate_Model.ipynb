{
 "cells": [
  {
   "cell_type": "code",
   "execution_count": 1,
   "metadata": {},
   "outputs": [],
   "source": [
    "# coding='utf-8'\n",
    "import os\n",
    "import sys\n",
    "import numpy as np\n",
    "import time\n",
    "import datetime\n",
    "import json\n",
    "import importlib\n",
    "import logging\n",
    "import shutil\n",
    "\n",
    "import torch\n",
    "import torch.nn as nn\n",
    "\n",
    "from yolo_model import yoloModel\n",
    "from PASCAL_Dataloader import create_split_loaders\n",
    "from YOLO_Loss import YoloLoss\n",
    "#from utils import NMS\n",
    "from bbox import bbox_iou, non_max_suppression"
   ]
  },
  {
   "cell_type": "code",
   "execution_count": 2,
   "metadata": {},
   "outputs": [],
   "source": [
    "def evaluate(config):\n",
    "    # Load and initialize network\n",
    "    net = yoloModel(config)\n",
    "\n",
    "    # Set data parallel\n",
    "    net = net.cuda()\n",
    "\n",
    "    # Restore pretrain model\n",
    "    if config[\"pretrain_snapshot\"]:\n",
    "        state_dict = torch.load(config[\"pretrain_snapshot\"])\n",
    "        net.load_state_dict(state_dict)\n",
    "    else:\n",
    "        logging.warning(\"missing pretrain_snapshot!!!\")\n",
    "\n",
    "    # YOLO loss with 3 scales\n",
    "    yolo_losses = []\n",
    "    for i in range(3):\n",
    "        yolo_losses.append(YoloLoss(config[\"classes\"], (config[\"img_w\"], config[\"img_h\"]), config[\"anchors\"][i]))\n",
    "\n",
    "    # DataLoader\n",
    "    root_dir = os.getcwd()\n",
    "    train_loader, val_loader, test_loader = create_split_loaders(root_dir, config['batch_size'])\n",
    "\n",
    "    # Start the eval loop\n",
    "    logging.info(\"Start eval.\")\n",
    "    n_gt = 0\n",
    "    correct = 0\n",
    "    for step, samples in enumerate(test_loader):\n",
    "        images, labels = samples[\"image\"], samples[\"label\"]\n",
    "        images,labels = images.cuda(),labels.cuda()\n",
    "        with torch.no_grad():\n",
    "            outputs = net(images)\n",
    "            output_list = []\n",
    "            for i in range(3):\n",
    "                output_list.append(yolo_losses[i](outputs[i]))\n",
    "            output = torch.cat(output_list, 1)\n",
    "            output = non_max_suppression(output, config[\"classes\"], conf_thres=0.5)\n",
    "            #  calculate\n",
    "            for sample_i in range(labels.size(0)):\n",
    "                # Get labels for sample where width is not zero (dummies)\n",
    "                target_sample = labels[sample_i, labels[sample_i, :, 3] != 0]\n",
    "                for obj_cls, tx, ty, tw, th in target_sample:\n",
    "                    # Get rescaled gt coordinates\n",
    "                    tx1, tx2 = config[\"img_w\"] * (tx - tw / 2), config[\"img_w\"] * (tx + tw / 2)\n",
    "                    ty1, ty2 = config[\"img_h\"] * (ty - th / 2), config[\"img_h\"] * (ty + th / 2)\n",
    "                    n_gt += 1\n",
    "                    box_gt = torch.cat([coord.unsqueeze(0) for coord in [tx1, ty1, tx2, ty2]]).view(1, -1)\n",
    "                    box_gt = box_gt.float()\n",
    "                    sample_pred = output[sample_i]\n",
    "                    #print(sample_pred)\n",
    "                    #print(obj_cls, tx1,ty1,tx2,ty2)\n",
    "                    if sample_pred is not None:\n",
    "                        # Iterate through predictions where the class predicted is same as gt\n",
    "                        for x1, y1, x2, y2, conf, obj_conf, obj_pred in sample_pred[sample_pred[:, 6] == obj_cls.float()]:\n",
    "                            box_pred = torch.cat([coord.unsqueeze(0) for coord in [x1, y1, x2, y2]]).view(1, -1)\n",
    "                            print('Pred:',box_pred)\n",
    "                            print('GT:',box_gt)\n",
    "                            iou = bbox_iou(box_pred, box_gt)\n",
    "                            if iou >= config[\"confidence_threshold\"]:\n",
    "                                correct += 1\n",
    "                                break\n",
    "        if n_gt:\n",
    "            logging.info('Batch [%d/%d] mAP: %.5f' % (step, len(test_loader), float(correct / n_gt)))\n",
    "\n",
    "    logging.info('Mean Average Precision: %.5f' % float(correct / n_gt))"
   ]
  },
  {
   "cell_type": "code",
   "execution_count": 3,
   "metadata": {},
   "outputs": [
    {
     "name": "stderr",
     "output_type": "stream",
     "text": [
      "[2019-05-31 10:46:28,688 <ipython-input-2-7667fb18f09c>] Start eval.\n",
      "[2019-05-31 10:46:31,237 <ipython-input-2-7667fb18f09c>] Batch [0/2077] mAP: 0.16667\n",
      "[2019-05-31 10:46:31,318 <ipython-input-2-7667fb18f09c>] Batch [1/2077] mAP: 0.28571\n",
      "[2019-05-31 10:46:31,350 <ipython-input-2-7667fb18f09c>] Batch [2/2077] mAP: 0.22222\n"
     ]
    },
    {
     "name": "stdout",
     "output_type": "stream",
     "text": [
      "Pred: tensor([[153.5014, 221.7497, 189.1909, 310.3811]], device='cuda:0')\n",
      "GT: tensor([[163.6098, 244.6080, 195.3171, 297.8560]], device='cuda:0')\n",
      "Pred: tensor([[257.0607, 229.7418, 293.9885, 298.7388]], device='cuda:0')\n",
      "GT: tensor([[163.6098, 244.6080, 195.3171, 297.8560]], device='cuda:0')\n",
      "Pred: tensor([[153.5014, 221.7497, 189.1909, 310.3811]], device='cuda:0')\n",
      "GT: tensor([[221.9512, 235.4560, 260.0000, 295.3600]], device='cuda:0')\n",
      "Pred: tensor([[257.0607, 229.7418, 293.9885, 298.7388]], device='cuda:0')\n",
      "GT: tensor([[221.9512, 235.4560, 260.0000, 295.3600]], device='cuda:0')\n",
      "Pred: tensor([[153.5014, 221.7497, 189.1909, 310.3811]], device='cuda:0')\n",
      "GT: tensor([[285.3658, 237.1200, 323.4146, 294.5280]], device='cuda:0')\n",
      "Pred: tensor([[257.0607, 229.7418, 293.9885, 298.7388]], device='cuda:0')\n",
      "GT: tensor([[285.3658, 237.1200, 323.4146, 294.5280]], device='cuda:0')\n",
      "Pred: tensor([[153.5014, 221.7497, 189.1909, 310.3811]], device='cuda:0')\n",
      "GT: tensor([[139.5122, 240.4480, 169.9512, 298.6880]], device='cuda:0')\n",
      "Pred: tensor([[257.0607, 229.7418, 293.9885, 298.7388]], device='cuda:0')\n",
      "GT: tensor([[139.5122, 240.4480, 169.9512, 298.6880]], device='cuda:0')\n",
      "Pred: tensor([[153.5014, 221.7497, 189.1909, 310.3811]], device='cuda:0')\n",
      "GT: tensor([[258.7317, 240.4480, 291.7073, 295.3600]], device='cuda:0')\n",
      "Pred: tensor([[257.0607, 229.7418, 293.9885, 298.7388]], device='cuda:0')\n",
      "GT: tensor([[258.7317, 240.4480, 291.7073, 295.3600]], device='cuda:0')\n",
      "Pred: tensor([[153.5014, 221.7497, 189.1909, 310.3811]], device='cuda:0')\n",
      "GT: tensor([[298.0488, 199.6800, 313.2683, 219.6480]], device='cuda:0')\n",
      "Pred: tensor([[257.0607, 229.7418, 293.9885, 298.7388]], device='cuda:0')\n",
      "GT: tensor([[298.0488, 199.6800, 313.2683, 219.6480]], device='cuda:0')\n",
      "Pred: tensor([[ 88.6990,  59.0786, 379.1251, 371.8253]], device='cuda:0')\n",
      "GT: tensor([[ 92.0747,  43.2640, 389.3760, 370.2400]], device='cuda:0')\n"
     ]
    },
    {
     "name": "stderr",
     "output_type": "stream",
     "text": [
      "[2019-05-31 10:46:31,391 <ipython-input-2-7667fb18f09c>] Batch [3/2077] mAP: 0.27273\n",
      "[2019-05-31 10:46:31,437 <ipython-input-2-7667fb18f09c>] Batch [4/2077] mAP: 0.38462\n",
      "[2019-05-31 10:46:31,475 <ipython-input-2-7667fb18f09c>] Batch [5/2077] mAP: 0.42857\n",
      "[2019-05-31 10:46:31,512 <ipython-input-2-7667fb18f09c>] Batch [6/2077] mAP: 0.46667\n",
      "[2019-05-31 10:46:31,543 <ipython-input-2-7667fb18f09c>] Batch [7/2077] mAP: 0.38889\n",
      "[2019-05-31 10:46:31,574 <ipython-input-2-7667fb18f09c>] Batch [8/2077] mAP: 0.36842\n"
     ]
    },
    {
     "name": "stdout",
     "output_type": "stream",
     "text": [
      "Pred: tensor([[161.3467, 144.7428, 270.9502, 396.1806]], device='cuda:0')\n",
      "GT: tensor([[146.4320, 147.5413, 259.5840, 392.7040]], device='cuda:0')\n",
      "Pred: tensor([[161.3467, 144.7428, 270.9502, 396.1806]], device='cuda:0')\n",
      "GT: tensor([[199.6800, 166.4000, 301.1840, 388.2667]], device='cuda:0')\n",
      "Pred: tensor([[206.1532, 218.3599, 265.8383, 312.7794]], device='cuda:0')\n",
      "GT: tensor([[162.2400, 210.4762, 207.1680, 321.9048]], device='cuda:0')\n",
      "Pred: tensor([[150.9110, 192.5718, 210.3128, 336.0300]], device='cuda:0')\n",
      "GT: tensor([[162.2400, 210.4762, 207.1680, 321.9048]], device='cuda:0')\n",
      "Pred: tensor([[206.1532, 218.3599, 265.8383, 312.7794]], device='cuda:0')\n",
      "GT: tensor([[213.8240, 210.4762, 274.5600, 323.1429]], device='cuda:0')\n",
      "Pred: tensor([[191.2173, 197.3741, 331.7399, 298.4532]], device='cuda:0')\n",
      "GT: tensor([[120.6400, 188.2190, 357.7600, 299.7118]], device='cuda:0')\n",
      "Pred: tensor([[101.1174,  70.2710, 323.1919, 295.2101]], device='cuda:0')\n",
      "GT: tensor([[ 58.8421,  31.4502, 350.3158, 331.6564]], device='cuda:0')\n"
     ]
    },
    {
     "name": "stderr",
     "output_type": "stream",
     "text": [
      "[2019-05-31 10:46:31,611 <ipython-input-2-7667fb18f09c>] Batch [9/2077] mAP: 0.31818\n",
      "[2019-05-31 10:46:31,652 <ipython-input-2-7667fb18f09c>] Batch [10/2077] mAP: 0.32000\n",
      "[2019-05-31 10:46:31,710 <ipython-input-2-7667fb18f09c>] Batch [11/2077] mAP: 0.30769\n",
      "[2019-05-31 10:46:31,751 <ipython-input-2-7667fb18f09c>] Batch [12/2077] mAP: 0.28571\n",
      "[2019-05-31 10:46:31,789 <ipython-input-2-7667fb18f09c>] Batch [13/2077] mAP: 0.25000\n",
      "[2019-05-31 10:46:31,826 <ipython-input-2-7667fb18f09c>] Batch [14/2077] mAP: 0.23529\n"
     ]
    },
    {
     "name": "stdout",
     "output_type": "stream",
     "text": [
      "Pred: tensor([[ 65.9069, 106.3742, 344.8694, 372.6653]], device='cuda:0')\n",
      "GT: tensor([[119.8080,  44.9730, 321.9840, 414.7508]], device='cuda:0')\n",
      "Pred: tensor([[ 65.9069, 106.3742, 344.8694, 372.6653]], device='cuda:0')\n",
      "GT: tensor([[267.0720,   0.0000, 374.4000, 414.7508]], device='cuda:0')\n"
     ]
    },
    {
     "name": "stderr",
     "output_type": "stream",
     "text": [
      "[2019-05-31 10:46:31,863 <ipython-input-2-7667fb18f09c>] Batch [15/2077] mAP: 0.25714\n",
      "[2019-05-31 10:46:31,919 <ipython-input-2-7667fb18f09c>] Batch [16/2077] mAP: 0.23810\n",
      "[2019-05-31 10:46:31,969 <ipython-input-2-7667fb18f09c>] Batch [17/2077] mAP: 0.23256\n",
      "[2019-05-31 10:46:32,013 <ipython-input-2-7667fb18f09c>] Batch [18/2077] mAP: 0.25000\n",
      "[2019-05-31 10:46:32,045 <ipython-input-2-7667fb18f09c>] Batch [19/2077] mAP: 0.24444\n"
     ]
    },
    {
     "name": "stdout",
     "output_type": "stream",
     "text": [
      "Pred: tensor([[ 64.0632, 151.4146, 368.6718, 254.8757]], device='cuda:0')\n",
      "GT: tensor([[ 64.8960, 151.4985, 365.2480, 257.0508]], device='cuda:0')\n",
      "Pred: tensor([[ 27.5130,  98.9462, 119.5083, 322.9487]], device='cuda:0')\n",
      "GT: tensor([[  5.8240, 122.0267, 134.7840, 281.7707]], device='cuda:0')\n",
      "Pred: tensor([[ 27.5130,  98.9462, 119.5083, 322.9487]], device='cuda:0')\n",
      "GT: tensor([[129.7920, 126.4640, 278.7200, 319.4880]], device='cuda:0')\n",
      "Pred: tensor([[ 27.5130,  98.9462, 119.5083, 322.9487]], device='cuda:0')\n",
      "GT: tensor([[124.8000,   0.0000, 218.8160,  41.0453]], device='cuda:0')\n",
      "Pred: tensor([[ 44.4792,  31.9312, 375.0067, 448.2700]], device='cuda:0')\n",
      "GT: tensor([[ 34.1120,  26.6240, 415.1680, 414.8907]], device='cuda:0')\n"
     ]
    },
    {
     "name": "stderr",
     "output_type": "stream",
     "text": [
      "[2019-05-31 10:46:32,080 <ipython-input-2-7667fb18f09c>] Batch [20/2077] mAP: 0.21154\n",
      "[2019-05-31 10:46:32,113 <ipython-input-2-7667fb18f09c>] Batch [21/2077] mAP: 0.20370\n",
      "[2019-05-31 10:46:32,181 <ipython-input-2-7667fb18f09c>] Batch [22/2077] mAP: 0.23729\n",
      "[2019-05-31 10:46:32,218 <ipython-input-2-7667fb18f09c>] Batch [23/2077] mAP: 0.25000\n",
      "[2019-05-31 10:46:32,252 <ipython-input-2-7667fb18f09c>] Batch [24/2077] mAP: 0.24590\n",
      "[2019-05-31 10:46:32,289 <ipython-input-2-7667fb18f09c>] Batch [25/2077] mAP: 0.24194\n",
      "[2019-05-31 10:46:32,330 <ipython-input-2-7667fb18f09c>] Batch [26/2077] mAP: 0.23438\n"
     ]
    },
    {
     "name": "stdout",
     "output_type": "stream",
     "text": [
      "Pred: tensor([[352.6765, 175.5349, 400.9540, 301.3730]], device='cuda:0')\n",
      "GT: tensor([[359.4240, 174.3448, 396.0320, 295.7242]], device='cuda:0')\n",
      "Pred: tensor([[ 98.1224, 153.4773, 324.9598, 335.1637]], device='cuda:0')\n",
      "GT: tensor([[ 53.2480, 173.2414, 369.4080, 311.1724]], device='cuda:0')\n",
      "Pred: tensor([[352.6765, 175.5349, 400.9540, 301.3730]], device='cuda:0')\n",
      "GT: tensor([[235.4560, 162.2069, 252.9280, 211.8621]], device='cuda:0')\n",
      "Pred: tensor([[ 98.1224, 153.4773, 324.9598, 335.1637]], device='cuda:0')\n",
      "GT: tensor([[  0.0000, 174.3448, 159.7440, 258.2069]], device='cuda:0')\n",
      "Pred: tensor([[ 18.3497, 176.2815, 135.4112, 258.9441]], device='cuda:0')\n",
      "GT: tensor([[  0.0000, 174.3448, 159.7440, 258.2069]], device='cuda:0')\n",
      "Pred: tensor([[ 98.1224, 153.4773, 324.9598, 335.1637]], device='cuda:0')\n",
      "GT: tensor([[  0.0000, 173.2414,  61.5680, 205.2414]], device='cuda:0')\n",
      "Pred: tensor([[ 18.3497, 176.2815, 135.4112, 258.9441]], device='cuda:0')\n",
      "GT: tensor([[  0.0000, 173.2414,  61.5680, 205.2414]], device='cuda:0')\n",
      "Pred: tensor([[ 90.4867,  -6.2067, 375.8423, 413.1992]], device='cuda:0')\n",
      "GT: tensor([[ 73.2160,  12.4925, 372.7360, 401.0090]], device='cuda:0')\n",
      "Pred: tensor([[ 95.0080, 114.4290, 305.8726, 285.1252]], device='cuda:0')\n",
      "GT: tensor([[  0.0000,  44.3733, 415.1680, 338.3467]], device='cuda:0')\n",
      "Pred: tensor([[149.2537, 205.4420, 207.3027, 270.8485]], device='cuda:0')\n",
      "GT: tensor([[193.0240, 191.9147, 294.5280, 270.6773]], device='cuda:0')\n",
      "Pred: tensor([[149.2537, 205.4420, 207.3027, 270.8485]], device='cuda:0')\n",
      "GT: tensor([[129.7920, 186.3680, 195.5200, 285.0987]], device='cuda:0')\n"
     ]
    },
    {
     "name": "stderr",
     "output_type": "stream",
     "text": [
      "[2019-05-31 10:46:32,378 <ipython-input-2-7667fb18f09c>] Batch [27/2077] mAP: 0.23881\n",
      "[2019-05-31 10:46:32,411 <ipython-input-2-7667fb18f09c>] Batch [28/2077] mAP: 0.23529\n",
      "[2019-05-31 10:46:32,473 <ipython-input-2-7667fb18f09c>] Batch [29/2077] mAP: 0.26027\n",
      "[2019-05-31 10:46:32,530 <ipython-input-2-7667fb18f09c>] Batch [30/2077] mAP: 0.28571\n"
     ]
    },
    {
     "name": "stdout",
     "output_type": "stream",
     "text": [
      "Pred: tensor([[ 63.2477, 155.9532, 285.9427, 252.5872]], device='cuda:0')\n",
      "GT: tensor([[ 89.8560, 169.7280, 256.2560, 246.2720]], device='cuda:0')\n",
      "Pred: tensor([[387.3945, 159.7308, 402.9253, 178.0873]], device='cuda:0')\n",
      "GT: tensor([[381.6107, 150.5920, 414.8907, 173.0560]], device='cuda:0')\n",
      "Pred: tensor([[387.3945, 159.7308, 402.9253, 178.0873]], device='cuda:0')\n",
      "GT: tensor([[  0.0000,  49.9200, 342.7840, 415.1680]], device='cuda:0')\n",
      "Pred: tensor([[145.3927,  73.4536, 270.9987, 327.9651]], device='cuda:0')\n",
      "GT: tensor([[252.0960,  40.8101, 359.4240, 326.4810]], device='cuda:0')\n",
      "Pred: tensor([[266.4765, -25.4979, 357.0173, 392.7280]], device='cuda:0')\n",
      "GT: tensor([[252.0960,  40.8101, 359.4240, 326.4810]], device='cuda:0')\n",
      "Pred: tensor([[145.3927,  73.4536, 270.9987, 327.9651]], device='cuda:0')\n",
      "GT: tensor([[153.9200,  43.4430, 276.2240, 318.5823]], device='cuda:0')\n",
      "Pred: tensor([[145.3927,  73.4536, 270.9987, 327.9651]], device='cuda:0')\n",
      "GT: tensor([[ 69.8880, 151.3924, 138.1120, 273.8228]], device='cuda:0')\n",
      "Pred: tensor([[266.4765, -25.4979, 357.0173, 392.7280]], device='cuda:0')\n",
      "GT: tensor([[ 69.8880, 151.3924, 138.1120, 273.8228]], device='cuda:0')\n",
      "Pred: tensor([[ 71.3723, 157.3183, 151.3035, 306.1918]], device='cuda:0')\n",
      "GT: tensor([[ 69.8880, 151.3924, 138.1120, 273.8228]], device='cuda:0')\n",
      "Pred: tensor([[ 67.9599, 149.7936, 161.6886, 255.9374]], device='cuda:0')\n",
      "GT: tensor([[244.6080, 205.4634, 351.1040, 347.5122]], device='cuda:0')\n",
      "Pred: tensor([[248.6079, 204.4129, 354.8314, 342.6335]], device='cuda:0')\n",
      "GT: tensor([[244.6080, 205.4634, 351.1040, 347.5122]], device='cuda:0')\n",
      "Pred: tensor([[ 67.9599, 149.7936, 161.6886, 255.9374]], device='cuda:0')\n",
      "GT: tensor([[ 68.2240, 136.9756, 161.4080, 267.6097]], device='cuda:0')\n",
      "Pred: tensor([[267.7438,  98.9548, 334.7646, 313.3199]], device='cuda:0')\n",
      "GT: tensor([[267.9040, 106.5366, 336.9600, 315.8049]], device='cuda:0')\n",
      "Pred: tensor([[267.7438,  98.9548, 334.7646, 313.3199]], device='cuda:0')\n",
      "GT: tensor([[ 65.7280,  93.8537, 123.9680, 233.3659]], device='cuda:0')\n",
      "Pred: tensor([[ 89.9041,  16.1709, 133.3717,  88.9292]], device='cuda:0')\n",
      "GT: "
     ]
    },
    {
     "name": "stderr",
     "output_type": "stream",
     "text": [
      "[2019-05-31 10:46:32,575 <ipython-input-2-7667fb18f09c>] Batch [31/2077] mAP: 0.28205\n",
      "[2019-05-31 10:46:32,630 <ipython-input-2-7667fb18f09c>] Batch [32/2077] mAP: 0.24719\n",
      "[2019-05-31 10:46:32,701 <ipython-input-2-7667fb18f09c>] Batch [33/2077] mAP: 0.25556\n",
      "[2019-05-31 10:46:32,745 <ipython-input-2-7667fb18f09c>] Batch [34/2077] mAP: 0.26374\n"
     ]
    },
    {
     "name": "stdout",
     "output_type": "stream",
     "text": [
      "tensor([[ 76.5440,  32.0000, 398.5280, 415.0857]], device='cuda:0')\n",
      "Pred: tensor([[117.8574,   4.9696, 155.8683,  94.6661]], device='cuda:0')\n",
      "GT: tensor([[ 76.5440,  32.0000, 398.5280, 415.0857]], device='cuda:0')\n",
      "Pred: tensor([[ 43.3695,  87.2730, 372.7721, 384.3058]], device='cuda:0')\n",
      "GT: tensor([[  4.9920,  79.9520, 412.6720, 394.7628]], device='cuda:0')\n",
      "Pred: tensor([[-16.6359,  -5.0414, 381.5073, 415.8334]], device='cuda:0')\n",
      "GT: tensor([[  0.0000,  28.8427, 411.8400, 367.1893]], device='cuda:0')\n"
     ]
    },
    {
     "name": "stderr",
     "output_type": "stream",
     "text": [
      "[2019-05-31 10:46:32,784 <ipython-input-2-7667fb18f09c>] Batch [35/2077] mAP: 0.27174\n",
      "[2019-05-31 10:46:32,821 <ipython-input-2-7667fb18f09c>] Batch [36/2077] mAP: 0.27660\n",
      "[2019-05-31 10:46:32,886 <ipython-input-2-7667fb18f09c>] Batch [37/2077] mAP: 0.29167\n",
      "[2019-05-31 10:46:32,928 <ipython-input-2-7667fb18f09c>] Batch [38/2077] mAP: 0.29897\n",
      "[2019-05-31 10:46:32,977 <ipython-input-2-7667fb18f09c>] Batch [39/2077] mAP: 0.28431\n"
     ]
    },
    {
     "name": "stdout",
     "output_type": "stream",
     "text": [
      "Pred: tensor([[ 89.2396, 170.0923, 256.5081, 431.8329]], device='cuda:0')\n",
      "GT: tensor([[ 67.3237, 175.5520, 288.3865, 400.1920]], device='cuda:0')\n",
      "Pred: tensor([[147.0683,  97.5185, 341.3191, 312.2284]], device='cuda:0')\n",
      "GT: tensor([[160.8533, 110.6560, 376.0640, 272.8960]], device='cuda:0')\n",
      "Pred: tensor([[144.3708, 191.9626, 264.4503, 284.9274]], device='cuda:0')\n",
      "GT: tensor([[142.4144, 202.1760, 266.0901, 289.5360]], device='cuda:0')\n",
      "Pred: tensor([[162.0427, 119.1296, 252.1775, 291.7905]], device='cuda:0')\n",
      "GT: tensor([[146.1622, 132.2880, 246.1021, 255.4240]], device='cuda:0')\n",
      "Pred: tensor([[ 29.2513,  43.6467, 389.5054, 370.5698]], device='cuda:0')\n",
      "GT: tensor([[ 27.4560,   9.9840, 364.4160, 407.1253]], device='cuda:0')\n",
      "Pred: tensor([[ 80.3463, 332.4176, 141.4248, 406.5189]], device='cuda:0')\n",
      "GT: tensor([[287.8720, 234.0693, 372.7360, 379.3920]], device='cuda:0')\n",
      "Pred: tensor([[ 80.3463, 332.4176, 141.4248, 406.5189]], device='cuda:0')\n",
      "GT: tensor([[236.2880, 228.5227, 282.0480, 332.8000]], device='cuda:0')\n",
      "Pred: tensor([[ 80.3463, 332.4176, 141.4248, 406.5189]], device='cuda:0')\n",
      "GT: tensor([[  0.0000, 371.6267, 146.4320, 414.8907]], device='cuda:0')\n"
     ]
    },
    {
     "name": "stderr",
     "output_type": "stream",
     "text": [
      "[2019-05-31 10:46:33,049 <ipython-input-2-7667fb18f09c>] Batch [40/2077] mAP: 0.28846\n",
      "[2019-05-31 10:46:33,105 <ipython-input-2-7667fb18f09c>] Batch [41/2077] mAP: 0.29524\n",
      "[2019-05-31 10:46:33,140 <ipython-input-2-7667fb18f09c>] Batch [42/2077] mAP: 0.29245\n",
      "[2019-05-31 10:46:33,175 <ipython-input-2-7667fb18f09c>] Batch [43/2077] mAP: 0.28972\n",
      "[2019-05-31 10:46:33,212 <ipython-input-2-7667fb18f09c>] Batch [44/2077] mAP: 0.29630\n"
     ]
    },
    {
     "name": "stdout",
     "output_type": "stream",
     "text": [
      "Pred: tensor([[243.3353,  56.6956, 373.2321, 354.2696]], device='cuda:0')\n",
      "GT: tensor([[207.4453,   0.0000, 414.8907, 338.6240]], device='cuda:0')\n",
      "Pred: tensor([[ 65.1638, 102.1095, 347.6480, 306.1500]], device='cuda:0')\n",
      "GT: tensor([[  0.0000,  81.2012, 397.6960, 292.3243]], device='cuda:0')\n",
      "Pred: tensor([[168.8663, 180.8383, 264.4576, 281.5918]], device='cuda:0')\n",
      "GT: tensor([[178.8800, 166.1501, 268.7360, 276.0841]], device='cuda:0')\n"
     ]
    },
    {
     "name": "stderr",
     "output_type": "stream",
     "text": [
      "[2019-05-31 10:46:33,252 <ipython-input-2-7667fb18f09c>] Batch [45/2077] mAP: 0.30275\n",
      "[2019-05-31 10:46:33,284 <ipython-input-2-7667fb18f09c>] Batch [46/2077] mAP: 0.30000\n",
      "[2019-05-31 10:46:33,320 <ipython-input-2-7667fb18f09c>] Batch [47/2077] mAP: 0.30631\n",
      "[2019-05-31 10:46:33,361 <ipython-input-2-7667fb18f09c>] Batch [48/2077] mAP: 0.31858\n",
      "[2019-05-31 10:46:33,398 <ipython-input-2-7667fb18f09c>] Batch [49/2077] mAP: 0.32456\n",
      "[2019-05-31 10:46:33,440 <ipython-input-2-7667fb18f09c>] Batch [50/2077] mAP: 0.32759\n"
     ]
    },
    {
     "name": "stdout",
     "output_type": "stream",
     "text": [
      "Pred: tensor([[293.7995, 162.7241, 391.7786, 401.0638]], device='cuda:0')\n",
      "GT: tensor([[302.8480, 167.5093, 399.3600, 414.8907]], device='cuda:0')\n",
      "Pred: tensor([[ 92.2927,  70.3431, 321.5421, 426.7896]], device='cuda:0')\n",
      "GT: tensor([[ 79.8720,  90.6880, 313.9413, 415.1680]], device='cuda:0')\n",
      "Pred: tensor([[109.6998, 206.0752, 164.1603, 328.3541]], device='cuda:0')\n",
      "GT: tensor([[108.9920, 168.6187, 158.9120, 322.8160]], device='cuda:0')\n",
      "Pred: tensor([[ 93.1816, -11.5725, 320.1196, 413.1746]], device='cuda:0')\n",
      "GT: tensor([[  0.0000,   0.0000, 361.9200, 400.4693]], device='cuda:0')\n",
      "Pred: tensor([[106.2243, 121.1136, 245.0487, 282.8892]], device='cuda:0')\n",
      "GT: tensor([[ 76.5440, 109.8240, 263.7440, 267.3493]], device='cuda:0')\n",
      "Pred: tensor([[229.1531, 334.8014, 310.1898, 395.1245]], device='cuda:0')\n",
      "GT: tensor([[209.6640, 295.3600, 327.2533, 415.1680]], device='cuda:0')\n",
      "Pred: tensor([[256.0605, 264.2399, 421.0060, 416.5734]], device='cuda:0')\n",
      "GT: tensor([[257.3653, 262.9120, 414.8907, 415.1680]], device='cuda:0')\n"
     ]
    },
    {
     "name": "stderr",
     "output_type": "stream",
     "text": [
      "[2019-05-31 10:46:33,473 <ipython-input-2-7667fb18f09c>] Batch [51/2077] mAP: 0.32479\n",
      "[2019-05-31 10:46:33,510 <ipython-input-2-7667fb18f09c>] Batch [52/2077] mAP: 0.32773\n",
      "[2019-05-31 10:46:33,546 <ipython-input-2-7667fb18f09c>] Batch [53/2077] mAP: 0.32500\n",
      "[2019-05-31 10:46:33,580 <ipython-input-2-7667fb18f09c>] Batch [54/2077] mAP: 0.31452\n",
      "[2019-05-31 10:46:33,622 <ipython-input-2-7667fb18f09c>] Batch [55/2077] mAP: 0.31746\n",
      "[2019-05-31 10:46:33,653 <ipython-input-2-7667fb18f09c>] Batch [56/2077] mAP: 0.31250\n"
     ]
    },
    {
     "name": "stdout",
     "output_type": "stream",
     "text": [
      "Pred: tensor([[380.0220,  52.1349, 408.0103,  98.2330]], device='cuda:0')\n",
      "GT: tensor([[376.8960,  45.4827, 415.1680,  85.4187]], device='cuda:0')\n",
      "Pred: tensor([[112.7487, 132.0172, 231.4400, 278.2151]], device='cuda:0')\n",
      "GT: tensor([[132.2880, 148.4664, 200.5120, 251.3640]], device='cuda:0')\n",
      "Pred: tensor([[127.9685, 122.9714, 296.0826, 413.1777]], device='cuda:0')\n",
      "GT: tensor([[103.0687, 144.2506, 321.6239, 379.7047]], device='cuda:0')\n",
      "Pred: tensor([[127.9685, 122.9714, 296.0826, 413.1777]], device='cuda:0')\n",
      "GT: tensor([[ 72.0239,  24.1969, 379.9881, 415.0694]], device='cuda:0')\n",
      "Pred: tensor([[214.7476, 133.8359, 316.6563, 220.4709]], device='cuda:0')\n",
      "GT: tensor([[347.7760, 166.1342, 396.0320, 257.8402]], device='cuda:0')\n",
      "Pred: tensor([[214.7476, 133.8359, 316.6563, 220.4709]], device='cuda:0')\n",
      "GT: tensor([[348.6080, 144.8690, 375.2320, 203.3482]], device='cuda:0')\n",
      "Pred: tensor([[214.7476, 133.8359, 316.6563, 220.4709]], device='cuda:0')\n",
      "GT: tensor([[303.6800, 118.2875, 363.5840, 163.4760]], device='cuda:0')\n",
      "Pred: tensor([[214.7476, 133.8359, 316.6563, 220.4709]], device='cuda:0')\n",
      "GT: tensor([[232.1280, 132.9073, 291.2000, 229.9297]], device='cuda:0')\n",
      "Pred: tensor([[214.7476, 133.8359, 316.6563, 220.4709]], device='cuda:0')\n",
      "GT: "
     ]
    },
    {
     "name": "stderr",
     "output_type": "stream",
     "text": [
      "[2019-05-31 10:46:33,736 <ipython-input-2-7667fb18f09c>] Batch [57/2077] mAP: 0.29710\n",
      "[2019-05-31 10:46:33,767 <ipython-input-2-7667fb18f09c>] Batch [58/2077] mAP: 0.29286\n",
      "[2019-05-31 10:46:33,802 <ipython-input-2-7667fb18f09c>] Batch [59/2077] mAP: 0.27517\n",
      "[2019-05-31 10:46:33,841 <ipython-input-2-7667fb18f09c>] Batch [60/2077] mAP: 0.27273\n",
      "[2019-05-31 10:46:33,878 <ipython-input-2-7667fb18f09c>] Batch [61/2077] mAP: 0.27564\n"
     ]
    },
    {
     "name": "stdout",
     "output_type": "stream",
     "text": [
      "tensor([[220.4800, 108.9840, 251.2640, 163.4760]], device='cuda:0')\n",
      "Pred: tensor([[214.7476, 133.8359, 316.6563, 220.4709]], device='cuda:0')\n",
      "GT: tensor([[168.8960, 126.2620, 212.1600, 196.7029]], device='cuda:0')\n",
      "Pred: tensor([[214.7476, 133.8359, 316.6563, 220.4709]], device='cuda:0')\n",
      "GT: tensor([[ 29.1200,  61.1374,  56.5760, 123.6038]], device='cuda:0')\n",
      "Pred: tensor([[214.7476, 133.8359, 316.6563, 220.4709]], device='cuda:0')\n",
      "GT: tensor([[ 68.2240,  98.3514, 116.4800, 172.7796]], device='cuda:0')\n",
      "Pred: tensor([[214.7476, 133.8359, 316.6563, 220.4709]], device='cuda:0')\n",
      "GT: tensor([[103.1680,  89.0479, 157.2480, 139.5527]], device='cuda:0')\n",
      "Pred: tensor([[214.7476, 133.8359, 316.6563, 220.4709]], device='cuda:0')\n",
      "GT: tensor([[ 72.3840,  89.0479,  89.8560, 123.6038]], device='cuda:0')\n",
      "Pred: tensor([[167.5337, 104.5487, 308.9535, 424.2357]], device='cuda:0')\n",
      "GT: tensor([[133.1200,  14.4213, 326.9760, 414.8907]], device='cuda:0')\n",
      "Pred: tensor([[ 26.1714, 136.2252, 323.2675, 400.2874]], device='cuda:0')\n",
      "GT: tensor([[  0.0000, 133.1200, 330.3040, 384.9387]], device='cuda:0')\n",
      "Pred: tensor([[ 88.1273, 146.1996, 267.5706, 340.9952]], device='cuda:0')\n",
      "GT: "
     ]
    },
    {
     "name": "stderr",
     "output_type": "stream",
     "text": [
      "[2019-05-31 10:46:33,912 <ipython-input-2-7667fb18f09c>] Batch [62/2077] mAP: 0.28025\n",
      "[2019-05-31 10:46:33,941 <ipython-input-2-7667fb18f09c>] Batch [63/2077] mAP: 0.27848\n",
      "[2019-05-31 10:46:33,971 <ipython-input-2-7667fb18f09c>] Batch [64/2077] mAP: 0.27500\n",
      "[2019-05-31 10:46:34,026 <ipython-input-2-7667fb18f09c>] Batch [65/2077] mAP: 0.27778\n",
      "[2019-05-31 10:46:34,087 <ipython-input-2-7667fb18f09c>] Batch [66/2077] mAP: 0.28221\n"
     ]
    },
    {
     "name": "stdout",
     "output_type": "stream",
     "text": [
      "tensor([[ 84.3093, 148.9280, 279.5520, 348.6080]], device='cuda:0')\n",
      "Pred: tensor([[ 86.6622, 122.9128, 255.7640, 303.8559]], device='cuda:0')\n",
      "GT: tensor([[ 33.2800, 111.1832, 295.3600, 313.5616]], device='cuda:0')\n",
      "Pred: tensor([[302.4793,  -7.3442, 378.9188,  63.0135]], device='cuda:0')\n",
      "GT: tensor([[ 81.5360, 109.8240, 349.4400, 414.8907]], device='cuda:0')\n",
      "Pred: tensor([[134.1346, 113.0978, 340.0627, 417.7020]], device='cuda:0')\n",
      "GT: tensor([[ 81.5360, 109.8240, 349.4400, 414.8907]], device='cuda:0')\n"
     ]
    },
    {
     "name": "stderr",
     "output_type": "stream",
     "text": [
      "[2019-05-31 10:46:34,161 <ipython-input-2-7667fb18f09c>] Batch [67/2077] mAP: 0.28313\n",
      "[2019-05-31 10:46:34,205 <ipython-input-2-7667fb18f09c>] Batch [68/2077] mAP: 0.28144\n",
      "[2019-05-31 10:46:34,263 <ipython-input-2-7667fb18f09c>] Batch [69/2077] mAP: 0.27485\n",
      "[2019-05-31 10:46:34,305 <ipython-input-2-7667fb18f09c>] Batch [70/2077] mAP: 0.27168\n"
     ]
    },
    {
     "name": "stdout",
     "output_type": "stream",
     "text": [
      "Pred: tensor([[ 92.8311, 164.0738, 178.0811, 267.9365]], device='cuda:0')\n",
      "GT: tensor([[ 96.5120, 168.0000, 149.7600, 277.0000]], device='cuda:0')\n",
      "Pred: tensor([[ 92.8311, 164.0738, 178.0811, 267.9365]], device='cuda:0')\n",
      "GT: tensor([[262.9120, 150.0000, 312.0000, 170.0000]], device='cuda:0')\n",
      "Pred: tensor([[ 92.8311, 164.0738, 178.0811, 267.9365]], device='cuda:0')\n",
      "GT: tensor([[367.7440, 119.0000, 386.0480, 153.0000]], device='cuda:0')\n",
      "Pred: tensor([[ 88.1721,  74.2411, 137.9139, 265.4641]], device='cuda:0')\n",
      "GT: tensor([[ 63.8182,  91.5200, 160.7273, 229.6320]], device='cuda:0')\n",
      "Pred: tensor([[181.4378,  23.2352, 304.3015, 131.1438]], device='cuda:0')\n",
      "GT: "
     ]
    },
    {
     "name": "stderr",
     "output_type": "stream",
     "text": [
      "[2019-05-31 10:46:34,353 <ipython-input-2-7667fb18f09c>] Batch [71/2077] mAP: 0.26257\n",
      "[2019-05-31 10:46:34,398 <ipython-input-2-7667fb18f09c>] Batch [72/2077] mAP: 0.24870\n",
      "[2019-05-31 10:46:34,454 <ipython-input-2-7667fb18f09c>] Batch [73/2077] mAP: 0.25510\n",
      "[2019-05-31 10:46:34,512 <ipython-input-2-7667fb18f09c>] Batch [74/2077] mAP: 0.26000\n",
      "[2019-05-31 10:46:34,544 <ipython-input-2-7667fb18f09c>] Batch [75/2077] mAP: 0.25743\n"
     ]
    },
    {
     "name": "stdout",
     "output_type": "stream",
     "text": [
      "tensor([[207.3754,  32.4480, 282.3303, 109.8240]], device='cuda:0')\n",
      "Pred: tensor([[154.7130, 140.5314, 316.8537, 328.8372]], device='cuda:0')\n",
      "GT: tensor([[159.9039, 168.8960, 307.3153, 262.9120]], device='cuda:0')\n",
      "Pred: tensor([[ 91.4997, 122.0449, 322.2477, 344.9196]], device='cuda:0')\n",
      "GT: tensor([[ 65.7280, 113.1520, 323.6480, 396.0320]], device='cuda:0')\n",
      "Pred: tensor([[107.3920,  93.8009, 262.1507, 440.5236]], device='cuda:0')\n",
      "GT: tensor([[126.4640, 133.1200, 249.6000, 415.1680]], device='cuda:0')\n",
      "Pred: tensor([[107.3920,  93.8009, 262.1507, 440.5236]], device='cuda:0')\n",
      "GT: tensor([[348.3307, 147.2640, 414.8907, 415.1680]], device='cuda:0')\n",
      "Pred: tensor([[307.3619, 128.6613, 368.1867, 284.2054]], device='cuda:0')\n",
      "GT: tensor([[348.3307, 147.2640, 414.8907, 415.1680]], device='cuda:0')\n",
      "Pred: tensor([[107.3920,  93.8009, 262.1507, 440.5236]], device='cuda:0')\n",
      "GT: tensor([[311.7227, 148.0960, 369.4080, 321.9840]], device='cuda:0')\n",
      "Pred: tensor([[307.3619, 128.6613, 368.1867, 284.2054]], device='cuda:0')\n",
      "GT: tensor([[311.7227, 148.0960, 369.4080, 321.9840]], device='cuda:0')\n",
      "Pred: tensor([[ 64.5322, 223.8641, 108.3908, 306.9648]], device='cuda:0')\n",
      "GT: tensor([[161.4080, 216.1201, 214.6560, 302.3183]], device='cuda:0')\n",
      "Pred: tensor([[ 64.5322, 223.8641, 108.3908, 306.9648]], device='cuda:0')\n",
      "GT: tensor([[ 69.0560, 223.6156, 114.8160, 309.8138]], device='cuda:0')\n",
      "Pred: tensor([[ 56.0234, 167.7472, 114.7096, 312.5640]], device='cuda:0')\n",
      "GT: tensor([[168.0640, 153.6577, 212.9920, 282.3303]], device='cuda:0')\n",
      "Pred: tensor([[162.8297,  96.5988, 208.0555, 335.6173]], device='cuda:0')\n",
      "GT: tensor([[168.0640, 153.6577, 212.9920, 282.3303]], device='cuda:0')\n",
      "Pred: tensor([[ 56.0234, 167.7472, 114.7096, 312.5640]], device='cuda:0')\n",
      "GT: tensor([[ 69.8880, 166.1501, 115.6480, 292.3243]], device='cuda:0')\n"
     ]
    },
    {
     "name": "stderr",
     "output_type": "stream",
     "text": [
      "[2019-05-31 10:46:34,583 <ipython-input-2-7667fb18f09c>] Batch [76/2077] mAP: 0.25616\n",
      "[2019-05-31 10:46:34,636 <ipython-input-2-7667fb18f09c>] Batch [77/2077] mAP: 0.25481\n",
      "[2019-05-31 10:46:34,678 <ipython-input-2-7667fb18f09c>] Batch [78/2077] mAP: 0.25714\n",
      "[2019-05-31 10:46:34,713 <ipython-input-2-7667fb18f09c>] Batch [79/2077] mAP: 0.24771\n",
      "[2019-05-31 10:46:34,752 <ipython-input-2-7667fb18f09c>] Batch [80/2077] mAP: 0.25000\n"
     ]
    },
    {
     "name": "stdout",
     "output_type": "stream",
     "text": [
      "Pred: tensor([[ 89.5951, 151.0219, 278.3694, 311.5317]], device='cuda:0')\n",
      "GT: tensor([[  0.0000,   0.0000, 327.8080, 414.8907]], device='cuda:0')\n",
      "Pred: tensor([[ 32.4342,  54.7881, 434.8764, 353.5657]], device='cuda:0')\n",
      "GT: tensor([[ 82.3680,  34.3893, 363.5840, 347.2213]], device='cuda:0')\n",
      "Pred: tensor([[383.4459, 230.4877, 402.8170, 305.3340]], device='cuda:0')\n",
      "GT: tensor([[362.7520, 227.4133, 387.7120, 319.4880]], device='cuda:0')\n",
      "Pred: tensor([[383.4459, 230.4877, 402.8170, 305.3340]], device='cuda:0')\n",
      "GT: tensor([[388.5440, 231.8507, 401.0240, 282.8800]], device='cuda:0')\n",
      "Pred: tensor([[383.4459, 230.4877, 402.8170, 305.3340]], device='cuda:0')\n",
      "GT: tensor([[399.3600, 230.7413, 414.3360, 282.8800]], device='cuda:0')\n",
      "Pred: tensor([[159.6837,  75.9468, 326.4173, 422.8541]], device='cuda:0')\n",
      "GT: tensor([[176.3840,  72.6747, 334.4640, 414.7470]], device='cuda:0')\n",
      "Pred: tensor([[159.6837,  75.9468, 326.4173, 422.8541]], device='cuda:0')\n",
      "GT: tensor([[  9.1520,  51.3735, 183.8720, 414.7470]], device='cuda:0')\n",
      "Pred: tensor([[ 50.5624, 152.6752, 372.7621, 316.0685]], device='cuda:0')\n",
      "GT: tensor([[ 50.7520, 136.4480, 370.2400, 323.9253]], device='cuda:0')\n"
     ]
    },
    {
     "name": "stderr",
     "output_type": "stream",
     "text": [
      "[2019-05-31 10:46:34,786 <ipython-input-2-7667fb18f09c>] Batch [81/2077] mAP: 0.24664\n",
      "[2019-05-31 10:46:34,848 <ipython-input-2-7667fb18f09c>] Batch [82/2077] mAP: 0.24444\n",
      "[2019-05-31 10:46:34,919 <ipython-input-2-7667fb18f09c>] Batch [83/2077] mAP: 0.25000\n",
      "[2019-05-31 10:46:34,964 <ipython-input-2-7667fb18f09c>] Batch [84/2077] mAP: 0.25328\n",
      "[2019-05-31 10:46:35,010 <ipython-input-2-7667fb18f09c>] Batch [85/2077] mAP: 0.25541\n"
     ]
    },
    {
     "name": "stdout",
     "output_type": "stream",
     "text": [
      "Pred: tensor([[-22.4128,  75.1612, 372.9164, 335.3206]], device='cuda:0')\n",
      "GT: tensor([[108.1600, 266.0901, 169.7280, 358.5345]], device='cuda:0')\n",
      "Pred: tensor([[-22.4128,  75.1612, 372.9164, 335.3206]], device='cuda:0')\n",
      "GT: tensor([[ 82.3680,   0.0000, 401.8560, 414.7508]], device='cuda:0')\n",
      "Pred: tensor([[185.0183, 123.4594, 281.9422, 305.1544]], device='cuda:0')\n",
      "GT: tensor([[ 94.9000, 117.3120, 183.3000, 315.3280]], device='cuda:0')\n",
      "Pred: tensor([[103.9445,  86.4704, 193.8044, 340.2355]], device='cuda:0')\n",
      "GT: tensor([[ 94.9000, 117.3120, 183.3000, 315.3280]], device='cuda:0')\n",
      "Pred: tensor([[185.0183, 123.4594, 281.9422, 305.1544]], device='cuda:0')\n",
      "GT: tensor([[183.3000, 133.9520, 282.1000, 294.5280]], device='cuda:0')\n",
      "Pred: tensor([[ 10.9812, 279.8473, 280.0172, 443.1222]], device='cuda:0')\n",
      "GT: tensor([[  0.0000, 292.1905, 415.1680, 414.7619]], device='cuda:0')\n",
      "Pred: tensor([[ 94.6357, -39.9225, 388.7900, 384.8741]], device='cuda:0')\n",
      "GT: tensor([[ 93.6937,   0.0000, 414.7508, 268.7360]], device='cuda:0')\n",
      "Pred: tensor([[ 94.6357, -39.9225, 388.7900, 384.8741]], device='cuda:0')\n",
      "GT: tensor([[  0.0000, 251.2640, 163.6517, 415.1680]], device='cuda:0')\n"
     ]
    },
    {
     "name": "stderr",
     "output_type": "stream",
     "text": [
      "[2019-05-31 10:46:35,047 <ipython-input-2-7667fb18f09c>] Batch [86/2077] mAP: 0.25862\n",
      "[2019-05-31 10:46:35,086 <ipython-input-2-7667fb18f09c>] Batch [87/2077] mAP: 0.25957\n",
      "[2019-05-31 10:46:35,120 <ipython-input-2-7667fb18f09c>] Batch [88/2077] mAP: 0.25847\n",
      "[2019-05-31 10:46:35,153 <ipython-input-2-7667fb18f09c>] Batch [89/2077] mAP: 0.25738\n",
      "[2019-05-31 10:46:35,190 <ipython-input-2-7667fb18f09c>] Batch [90/2077] mAP: 0.26050\n",
      "[2019-05-31 10:46:35,223 <ipython-input-2-7667fb18f09c>] Batch [91/2077] mAP: 0.25833\n"
     ]
    },
    {
     "name": "stdout",
     "output_type": "stream",
     "text": [
      "Pred: tensor([[162.1440, 158.0599, 326.1910, 333.1649]], device='cuda:0')\n",
      "GT: tensor([[125.6320, 173.6800, 334.4640, 349.4400]], device='cuda:0')\n",
      "Pred: tensor([[113.9604,  82.1133, 291.5189, 350.7955]], device='cuda:0')\n",
      "GT: tensor([[128.9600,  70.9973, 258.7520, 335.0187]], device='cuda:0')\n",
      "Pred: tensor([[ 51.6936,   4.9068, 357.8455, 350.9930]], device='cuda:0')\n",
      "GT: tensor([[ 62.4000,  12.2027, 332.8000, 303.9573]], device='cuda:0')\n"
     ]
    },
    {
     "name": "stderr",
     "output_type": "stream",
     "text": [
      "[2019-05-31 10:46:35,272 <ipython-input-2-7667fb18f09c>] Batch [92/2077] mAP: 0.25726\n",
      "[2019-05-31 10:46:35,325 <ipython-input-2-7667fb18f09c>] Batch [93/2077] mAP: 0.25620\n",
      "[2019-05-31 10:46:35,369 <ipython-input-2-7667fb18f09c>] Batch [94/2077] mAP: 0.25514\n",
      "[2019-05-31 10:46:35,418 <ipython-input-2-7667fb18f09c>] Batch [95/2077] mAP: 0.25714\n",
      "[2019-05-31 10:46:35,462 <ipython-input-2-7667fb18f09c>] Batch [96/2077] mAP: 0.25911\n",
      "[2019-05-31 10:46:35,520 <ipython-input-2-7667fb18f09c>] Batch [97/2077] mAP: 0.26104\n",
      "[2019-05-31 10:46:35,581 <ipython-input-2-7667fb18f09c>] Batch [98/2077] mAP: 0.26400\n"
     ]
    },
    {
     "name": "stdout",
     "output_type": "stream",
     "text": [
      "Pred: tensor([[ 50.0031, 250.2368,  93.1951, 292.0356]], device='cuda:0')\n",
      "GT: tensor([[ 45.7600, 257.0052, 101.5040, 280.9633]], device='cuda:0')\n",
      "Pred: tensor([[ 50.0031, 250.2368,  93.1951, 292.0356]], device='cuda:0')\n",
      "GT: tensor([[288.7040, 264.6283, 317.8240, 282.0524]], device='cuda:0')\n",
      "Pred: tensor([[ 29.8353, 240.7948,  82.2289, 298.8335]], device='cuda:0')\n",
      "GT: tensor([[288.7040, 264.6283, 317.8240, 282.0524]], device='cuda:0')\n",
      "Pred: tensor([[262.0020, 172.2119, 349.1033, 312.5029]], device='cuda:0')\n",
      "GT: tensor([[246.9305, 172.2240, 347.0374, 258.7520]], device='cuda:0')\n",
      "Pred: tensor([[262.0020, 172.2119, 349.1033, 312.5029]], device='cuda:0')\n",
      "GT: tensor([[ 85.6471, 199.6800, 145.7112, 251.2640]], device='cuda:0')\n",
      "Pred: tensor([[  6.8379,  12.8065, 282.6027, 344.0573]], device='cuda:0')\n",
      "GT: tensor([[ 49.9200,   1.6640, 244.0533, 415.1680]], device='cuda:0')\n",
      "Pred: tensor([[ 13.6644, 107.3241, 410.0248, 302.3382]], device='cuda:0')\n",
      "GT: tensor([[  0.0000, 105.8683, 406.0160, 303.9042]], device='cuda:0')\n"
     ]
    },
    {
     "name": "stderr",
     "output_type": "stream",
     "text": [
      "[2019-05-31 10:46:35,640 <ipython-input-2-7667fb18f09c>] Batch [99/2077] mAP: 0.26190\n",
      "[2019-05-31 10:46:35,680 <ipython-input-2-7667fb18f09c>] Batch [100/2077] mAP: 0.25984\n",
      "[2019-05-31 10:46:35,734 <ipython-input-2-7667fb18f09c>] Batch [101/2077] mAP: 0.25882\n",
      "[2019-05-31 10:46:35,804 <ipython-input-2-7667fb18f09c>] Batch [102/2077] mAP: 0.25385\n"
     ]
    },
    {
     "name": "stdout",
     "output_type": "stream",
     "text": [
      "Pred: tensor([[  3.6331, 125.9063, 160.3596, 410.0571]], device='cuda:0')\n",
      "GT: tensor([[  0.8320, 116.4800, 415.1680, 348.3307]], device='cuda:0')\n",
      "Pred: tensor([[292.5787, 175.8684, 310.6225, 234.5889]], device='cuda:0')\n",
      "GT: tensor([[316.0601, 173.0560, 332.3003, 217.1520]], device='cuda:0')\n",
      "Pred: tensor([[292.5787, 175.8684, 310.6225, 234.5889]], device='cuda:0')\n",
      "GT: tensor([[297.3213, 171.3920, 328.5526, 231.2960]], device='cuda:0')\n",
      "Pred: tensor([[292.5787, 175.8684, 310.6225, 234.5889]], device='cuda:0')\n",
      "GT: tensor([[337.2973, 158.9120, 368.5285, 220.4800]], device='cuda:0')\n",
      "Pred: tensor([[292.5787, 175.8684, 310.6225, 234.5889]], device='cuda:0')\n",
      "GT: tensor([[281.0811, 171.3920, 297.3213, 236.2880]], device='cuda:0')\n",
      "Pred: tensor([[292.5787, 175.8684, 310.6225, 234.5889]], device='cuda:0')\n",
      "GT: tensor([[263.5916, 171.3920, 291.0751, 240.4480]], device='cuda:0')\n"
     ]
    },
    {
     "name": "stderr",
     "output_type": "stream",
     "text": [
      "[2019-05-31 10:46:35,840 <ipython-input-2-7667fb18f09c>] Batch [103/2077] mAP: 0.25287\n",
      "[2019-05-31 10:46:35,880 <ipython-input-2-7667fb18f09c>] Batch [104/2077] mAP: 0.25573\n",
      "[2019-05-31 10:46:35,918 <ipython-input-2-7667fb18f09c>] Batch [105/2077] mAP: 0.25856\n",
      "[2019-05-31 10:46:35,961 <ipython-input-2-7667fb18f09c>] Batch [106/2077] mAP: 0.25940\n",
      "[2019-05-31 10:46:36,015 <ipython-input-2-7667fb18f09c>] Batch [107/2077] mAP: 0.26493\n",
      "[2019-05-31 10:46:36,066 <ipython-input-2-7667fb18f09c>] Batch [108/2077] mAP: 0.26766\n"
     ]
    },
    {
     "name": "stdout",
     "output_type": "stream",
     "text": [
      "Pred: tensor([[ 58.9918,  43.4286, 353.4454, 365.6980]], device='cuda:0')\n",
      "GT: tensor([[ 64.8960,   0.0000, 337.7920, 299.5200]], device='cuda:0')\n",
      "Pred: tensor([[ 60.6391,  34.6517, 298.0253, 379.1872]], device='cuda:0')\n",
      "GT: tensor([[ 66.3830,  29.1200, 300.9362, 393.5360]], device='cuda:0')\n",
      "Pred: tensor([[ -6.4232,  19.7530, 362.6303, 324.8679]], device='cuda:0')\n",
      "GT: tensor([[  0.0000,   0.0000, 414.8477, 315.2356]], device='cuda:0')\n",
      "Pred: tensor([[ -6.4232,  19.7530, 362.6303, 324.8679]], device='cuda:0')\n",
      "GT: tensor([[364.1440,  24.9600, 407.9335,  86.8978]], device='cuda:0')\n",
      "Pred: tensor([[112.9091, 196.1741, 222.5675, 364.0587]], device='cuda:0')\n",
      "GT: tensor([[158.9120, 129.9219, 415.1680, 377.2733]], device='cuda:0')\n",
      "Pred: tensor([[162.1426, 184.3470, 373.6666, 350.5178]], device='cuda:0')\n",
      "GT: tensor([[158.9120, 129.9219, 415.1680, 377.2733]], device='cuda:0')\n",
      "Pred: tensor([[112.9091, 196.1741, 222.5675, 364.0587]], device='cuda:0')\n",
      "GT: tensor([[124.8000, 153.6577, 202.1760, 413.5015]], device='cuda:0')\n",
      "Pred: tensor([[ 40.6912,  90.8335, 366.8521, 333.5871]], device='cuda:0')\n",
      "GT: tensor([[  9.9840, 118.5492, 381.0560, 326.5492]], device='cuda:0')\n"
     ]
    },
    {
     "name": "stderr",
     "output_type": "stream",
     "text": [
      "[2019-05-31 10:46:36,101 <ipython-input-2-7667fb18f09c>] Batch [109/2077] mAP: 0.26471\n",
      "[2019-05-31 10:46:36,139 <ipython-input-2-7667fb18f09c>] Batch [110/2077] mAP: 0.26740\n",
      "[2019-05-31 10:46:36,177 <ipython-input-2-7667fb18f09c>] Batch [111/2077] mAP: 0.27007\n",
      "[2019-05-31 10:46:36,219 <ipython-input-2-7667fb18f09c>] Batch [112/2077] mAP: 0.27174\n",
      "[2019-05-31 10:46:36,262 <ipython-input-2-7667fb18f09c>] Batch [113/2077] mAP: 0.27240\n",
      "[2019-05-31 10:46:36,315 <ipython-input-2-7667fb18f09c>] Batch [114/2077] mAP: 0.27143\n"
     ]
    },
    {
     "name": "stdout",
     "output_type": "stream",
     "text": [
      "Pred: tensor([[103.6932, 107.0296, 258.9471, 245.4836]], device='cuda:0')\n",
      "GT: tensor([[129.7920,  97.6213, 237.1200, 227.4133]], device='cuda:0')\n",
      "Pred: tensor([[ 51.9288,  95.5395, 365.9702, 328.1641]], device='cuda:0')\n",
      "GT: tensor([[ 69.0560,  17.4895, 359.4240, 383.5195]], device='cuda:0')\n",
      "Pred: tensor([[ 70.2399,  66.6473, 341.0189, 276.9157]], device='cuda:0')\n",
      "GT: tensor([[ 27.4560,  73.2160, 397.6960, 250.7093]], device='cuda:0')\n",
      "Pred: tensor([[ 70.2399,  66.6473, 341.0189, 276.9157]], device='cuda:0')\n",
      "GT: tensor([[  0.0000,  24.4053, 126.4640, 104.2773]], device='cuda:0')\n",
      "Pred: tensor([[ 75.8472,  55.9124, 344.8237, 358.5811]], device='cuda:0')\n",
      "GT: tensor([[  0.0000,   9.9840, 344.4480, 414.8907]], device='cuda:0')\n",
      "Pred: tensor([[ 75.8472,  55.9124, 344.8237, 358.5811]], device='cuda:0')\n",
      "GT: tensor([[374.4000, 100.9493, 415.1680, 232.9600]], device='cuda:0')\n",
      "Pred: tensor([[137.5611, 180.2516, 284.0530, 364.0539]], device='cuda:0')\n",
      "GT: tensor([[ 59.0720,   0.0000, 329.4720, 414.8907]], device='cuda:0')\n"
     ]
    },
    {
     "name": "stderr",
     "output_type": "stream",
     "text": [
      "[2019-05-31 10:46:36,370 <ipython-input-2-7667fb18f09c>] Batch [115/2077] mAP: 0.27046\n",
      "[2019-05-31 10:46:36,433 <ipython-input-2-7667fb18f09c>] Batch [116/2077] mAP: 0.27368\n",
      "[2019-05-31 10:46:36,469 <ipython-input-2-7667fb18f09c>] Batch [117/2077] mAP: 0.27178\n",
      "[2019-05-31 10:46:36,502 <ipython-input-2-7667fb18f09c>] Batch [118/2077] mAP: 0.27083\n",
      "[2019-05-31 10:46:36,540 <ipython-input-2-7667fb18f09c>] Batch [119/2077] mAP: 0.27336\n",
      "[2019-05-31 10:46:36,578 <ipython-input-2-7667fb18f09c>] Batch [120/2077] mAP: 0.27241\n",
      "[2019-05-31 10:46:36,610 <ipython-input-2-7667fb18f09c>] Batch [121/2077] mAP: 0.27148\n"
     ]
    },
    {
     "name": "stdout",
     "output_type": "stream",
     "text": [
      "Pred: tensor([[151.5948, 155.3075, 318.6515, 268.4239]], device='cuda:0')\n",
      "GT: tensor([[185.5360, 150.7416, 286.2080, 282.7865]], device='cuda:0')\n",
      "Pred: tensor([[ 53.9966,  41.2746, 117.1553, 389.6015]], device='cuda:0')\n",
      "GT: tensor([[ 42.4320,  64.2697, 123.1360, 414.8315]], device='cuda:0')\n",
      "Pred: tensor([[ 53.9966,  41.2746, 117.1553, 389.6015]], device='cuda:0')\n",
      "GT: tensor([[232.1280, 188.1348, 414.3360, 414.8315]], device='cuda:0')\n",
      "Pred: tensor([[146.7416, 130.2350, 329.7541, 277.5625]], device='cuda:0')\n",
      "GT: tensor([[103.1680, 116.6355, 387.7120, 278.6293]], device='cuda:0')\n",
      "Pred: tensor([[111.2135,  50.3241, 361.4105, 360.8892]], device='cuda:0')\n",
      "GT: tensor([[ 11.9911,   6.6560, 400.3193, 415.1680]], device='cuda:0')\n"
     ]
    },
    {
     "name": "stderr",
     "output_type": "stream",
     "text": [
      "[2019-05-31 10:46:36,647 <ipython-input-2-7667fb18f09c>] Batch [122/2077] mAP: 0.26689\n",
      "[2019-05-31 10:46:36,685 <ipython-input-2-7667fb18f09c>] Batch [123/2077] mAP: 0.26936\n",
      "[2019-05-31 10:46:36,737 <ipython-input-2-7667fb18f09c>] Batch [124/2077] mAP: 0.26846\n",
      "[2019-05-31 10:46:36,793 <ipython-input-2-7667fb18f09c>] Batch [125/2077] mAP: 0.25974\n"
     ]
    },
    {
     "name": "stdout",
     "output_type": "stream",
     "text": [
      "Pred: tensor([[ 66.8356,  78.3361, 303.5448, 355.5623]], device='cuda:0')\n",
      "GT: tensor([[  0.0000,  73.2160, 415.1680, 353.8773]], device='cuda:0')\n",
      "Pred: tensor([[119.4322, 112.6360, 351.3320, 299.5930]], device='cuda:0')\n",
      "GT: tensor([[406.8480, 113.6817, 415.1680, 131.1712]], device='cuda:0')\n",
      "Pred: tensor([[-31.1400,  82.7679, 236.4624, 218.9683]], device='cuda:0')\n",
      "GT: tensor([[406.8480, 113.6817, 415.1680, 131.1712]], device='cuda:0')\n",
      "Pred: tensor([[ 60.6124,  78.6826, 148.9675, 216.2004]], device='cuda:0')\n",
      "GT: tensor([[406.8480, 113.6817, 415.1680, 131.1712]], device='cuda:0')\n",
      "Pred: tensor([[119.4322, 112.6360, 351.3320, 299.5930]], device='cuda:0')\n",
      "GT: tensor([[390.2080, 114.9309, 408.5120, 131.1712]], device='cuda:0')\n",
      "Pred: tensor([[-31.1400,  82.7679, 236.4624, 218.9683]], device='cuda:0')\n",
      "GT: tensor([[390.2080, 114.9309, 408.5120, 131.1712]], device='cuda:0')\n",
      "Pred: tensor([[ 60.6124,  78.6826, 148.9675, 216.2004]], device='cuda:0')\n",
      "GT: tensor([[390.2080, 114.9309, 408.5120, 131.1712]], device='cuda:0')\n",
      "Pred: tensor([[119.4322, 112.6360, 351.3320, 299.5930]], device='cuda:0')\n",
      "GT: tensor([[370.2400, 114.9309, 394.3680, 133.6697]], device='cuda:0')\n",
      "Pred: tensor([[-31.1400,  82.7679, 236.4624, 218.9683]], device='cuda:0')\n",
      "GT: tensor([[370.2400, 114.9309, 394.3680, 133.6697]], device='cuda:0')\n",
      "Pred: tensor([[ 60.6124,  78.6826, 148.9675, 216.2004]], device='cuda:0')\n",
      "GT: tensor([[370.2400, 114.9309, 394.3680, 133.6697]], device='cuda:0')\n",
      "Pred: tensor([[119.4322, 112.6360, 351.3320, 299.5930]], device='cuda:0')\n",
      "GT: tensor([[336.9600, 119.9279, 358.5920, 129.9219]], device='cuda:0')\n",
      "Pred: "
     ]
    },
    {
     "name": "stderr",
     "output_type": "stream",
     "text": [
      "[2019-05-31 10:46:37,006 <ipython-input-2-7667fb18f09c>] Batch [126/2077] mAP: 0.25234\n",
      "[2019-05-31 10:46:37,042 <ipython-input-2-7667fb18f09c>] Batch [127/2077] mAP: 0.24695\n",
      "[2019-05-31 10:46:37,075 <ipython-input-2-7667fb18f09c>] Batch [128/2077] mAP: 0.24545\n"
     ]
    },
    {
     "name": "stdout",
     "output_type": "stream",
     "text": [
      "tensor([[-31.1400,  82.7679, 236.4624, 218.9683]], device='cuda:0')\n",
      "GT: tensor([[336.9600, 119.9279, 358.5920, 129.9219]], device='cuda:0')\n",
      "Pred: tensor([[ 60.6124,  78.6826, 148.9675, 216.2004]], device='cuda:0')\n",
      "GT: tensor([[336.9600, 119.9279, 358.5920, 129.9219]], device='cuda:0')\n",
      "Pred: tensor([[119.4322, 112.6360, 351.3320, 299.5930]], device='cuda:0')\n",
      "GT: tensor([[290.3680, 117.4294, 341.1200, 153.6577]], device='cuda:0')\n",
      "Pred: tensor([[-31.1400,  82.7679, 236.4624, 218.9683]], device='cuda:0')\n",
      "GT: tensor([[290.3680, 117.4294, 341.1200, 153.6577]], device='cuda:0')\n",
      "Pred: tensor([[ 60.6124,  78.6826, 148.9675, 216.2004]], device='cuda:0')\n",
      "GT: tensor([[290.3680, 117.4294, 341.1200, 153.6577]], device='cuda:0')\n",
      "Pred: tensor([[119.4322, 112.6360, 351.3320, 299.5930]], device='cuda:0')\n",
      "GT: tensor([[252.0960, 113.6817, 302.0160, 142.4144]], device='cuda:0')\n",
      "Pred: tensor([[-31.1400,  82.7679, 236.4624, 218.9683]], device='cuda:0')\n",
      "GT: tensor([[252.0960, 113.6817, 302.0160, 142.4144]], device='cuda:0')\n",
      "Pred: tensor([[ 60.6124,  78.6826, 148.9675, 216.2004]], device='cuda:0')\n",
      "GT: tensor([[252.0960, 113.6817, 302.0160, 142.4144]], device='cuda:0')\n",
      "Pred: tensor([[119.4322, 112.6360, 351.3320, 299.5930]], device='cuda:0')\n",
      "GT: tensor([[214.6560, 123.6757, 252.0960, 133.6697]], device='cuda:0')\n",
      "Pred: tensor([[-31.1400,  82.7679, 236.4624, 218.9683]], device='cuda:0')\n",
      "GT: tensor([[214.6560, 123.6757, 252.0960, 133.6697]], device='cuda:0')\n",
      "Pred: tensor([[ 60.6124,  78.6826, 148.9675, 216.2004]], device='cuda:0')\n",
      "GT: tensor([[214.6560, 123.6757, 252.0960, 133.6697]], device='cuda:0')\n",
      "Pred: tensor([[119.4322, 112.6360, 351.3320, 299.5930]], device='cuda:0')\n",
      "GT: tensor([[ 43.2640, 111.1832, 157.2480, 177.3934]], device='cuda:0')\n",
      "Pred: tensor([[-31.1400,  82.7679, 236.4624, 218.9683]], device='cuda:0')\n",
      "GT: tensor([[ 43.2640, 111.1832, 157.2480, 177.3934]], device='cuda:0')\n",
      "Pred: tensor([[ 60.6124,  78.6826, 148.9675, 216.2004]], device='cuda:0')\n",
      "GT: tensor([[ 43.2640, 111.1832, 157.2480, 177.3934]], device='cuda:0')\n",
      "Pred: tensor([[119.4322, 112.6360, 351.3320, 299.5930]], device='cuda:0')\n",
      "GT: tensor([[  0.0000, 139.9159,  18.3040, 173.6456]], device='cuda:0')\n",
      "Pred: tensor([[-31.1400,  82.7679, 236.4624, 218.9683]], device='cuda:0')\n",
      "GT: tensor([[  0.0000, 139.9159,  18.3040, 173.6456]], device='cuda:0')\n",
      "Pred: tensor([[ 60.6124,  78.6826, 148.9675, 216.2004]], device='cuda:0')\n",
      "GT: tensor([[  0.0000, 139.9159,  18.3040, 173.6456]], device='cuda:0')\n",
      "Pred: tensor([[119.4322, 112.6360, 351.3320, 299.5930]], device='cuda:0')\n",
      "GT: tensor([[  0.0000, 171.1471,  32.4480, 232.3604]], device='cuda:0')\n",
      "Pred: tensor([[-31.1400,  82.7679, 236.4624, 218.9683]], device='cuda:0')\n",
      "GT: tensor([[  0.0000, 171.1471,  32.4480, 232.3604]], device='cuda:0')\n",
      "Pred: tensor([[ 60.6124,  78.6826, 148.9675, 216.2004]], device='cuda:0')\n",
      "GT: tensor([[  0.0000, 171.1471,  32.4480, 232.3604]], device='cuda:0')\n",
      "Pred: tensor([[119.4322, 112.6360, 351.3320, 299.5930]], device='cuda:0')\n",
      "GT: tensor([[331.9680, 121.1772, 381.0560, 162.4024]], device='cuda:0')\n",
      "Pred: tensor([[-31.1400,  82.7679, 236.4624, 218.9683]], device='cuda:0')\n",
      "GT: tensor([[331.9680, 121.1772, 381.0560, 162.4024]], device='cuda:0')\n",
      "Pred: tensor([[ 60.6124,  78.6826, 148.9675, 216.2004]], device='cuda:0')\n",
      "GT: tensor([[331.9680, 121.1772, 381.0560, 162.4024]], device='cuda:0')\n",
      "Pred: tensor([[119.4322, 112.6360, 351.3320, 299.5930]], device='cuda:0')\n",
      "GT: tensor([[364.4160, 129.9219, 415.1680, 189.8859]], device='cuda:0')\n",
      "Pred: tensor([[-31.1400,  82.7679, 236.4624, 218.9683]], device='cuda:0')\n",
      "GT: tensor([[364.4160, 129.9219, 415.1680, 189.8859]], device='cuda:0')\n",
      "Pred: tensor([[ 60.6124,  78.6826, 148.9675, 216.2004]], device='cuda:0')\n",
      "GT: tensor([[364.4160, 129.9219, 415.1680, 189.8859]], device='cuda:0')\n",
      "Pred: tensor([[119.4322, 112.6360, 351.3320, 299.5930]], device='cuda:0')\n",
      "GT: tensor([[ 99.8400, 129.9219, 351.9360, 286.0781]], device='cuda:0')\n"
     ]
    },
    {
     "name": "stderr",
     "output_type": "stream",
     "text": [
      "[2019-05-31 10:46:37,134 <ipython-input-2-7667fb18f09c>] Batch [129/2077] mAP: 0.24773\n",
      "[2019-05-31 10:46:37,204 <ipython-input-2-7667fb18f09c>] Batch [130/2077] mAP: 0.25225\n",
      "[2019-05-31 10:46:37,261 <ipython-input-2-7667fb18f09c>] Batch [131/2077] mAP: 0.25373\n",
      "[2019-05-31 10:46:37,319 <ipython-input-2-7667fb18f09c>] Batch [132/2077] mAP: 0.25595\n"
     ]
    },
    {
     "name": "stdout",
     "output_type": "stream",
     "text": [
      "Pred: tensor([[151.6568, 121.1721, 274.0891, 361.6435]], device='cuda:0')\n",
      "GT: tensor([[171.3920,  97.6213, 265.4080, 367.1893]], device='cuda:0')\n",
      "Pred: tensor([[101.1000, 145.6961, 299.0305, 252.9978]], device='cuda:0')\n",
      "GT: tensor([[133.9520, 140.8853, 286.2080, 256.2560]], device='cuda:0')\n",
      "Pred: tensor([[141.5287,  83.4321, 267.7588, 278.2988]], device='cuda:0')\n",
      "GT: tensor([[164.7360,  96.5120, 237.9520, 276.2240]], device='cuda:0')\n",
      "Pred: tensor([[ 12.6849, 188.9491,  99.8956, 403.6666]], device='cuda:0')\n",
      "GT: tensor([[  0.0000, 157.5253, 129.7920, 414.8907]], device='cuda:0')\n",
      "Pred: tensor([[348.5315, 147.8868, 379.2606, 199.5968]], device='cuda:0')\n",
      "GT: tensor([[ 48.2560,  29.9520, 371.0720, 414.8907]], device='cuda:0')\n",
      "Pred: tensor([[127.3008,  70.0559, 280.9330, 369.6200]], device='cuda:0')\n",
      "GT: tensor([[ 48.2560,  29.9520, 371.0720, 414.8907]], device='cuda:0')\n",
      "Pred: tensor([[ 48.1534,  37.2747, 364.0891, 430.2587]], device='cuda:0')\n",
      "GT: tensor([[ 48.2560,  29.9520, 371.0720, 414.8907]], device='cuda:0')\n"
     ]
    },
    {
     "name": "stderr",
     "output_type": "stream",
     "text": [
      "[2019-05-31 10:46:37,356 <ipython-input-2-7667fb18f09c>] Batch [133/2077] mAP: 0.25519\n",
      "[2019-05-31 10:46:37,394 <ipython-input-2-7667fb18f09c>] Batch [134/2077] mAP: 0.25444\n",
      "[2019-05-31 10:46:37,441 <ipython-input-2-7667fb18f09c>] Batch [135/2077] mAP: 0.25513\n",
      "[2019-05-31 10:46:37,494 <ipython-input-2-7667fb18f09c>] Batch [136/2077] mAP: 0.25797\n",
      "[2019-05-31 10:46:37,533 <ipython-input-2-7667fb18f09c>] Batch [137/2077] mAP: 0.25723\n",
      "[2019-05-31 10:46:37,572 <ipython-input-2-7667fb18f09c>] Batch [138/2077] mAP: 0.25788\n"
     ]
    },
    {
     "name": "stdout",
     "output_type": "stream",
     "text": [
      "Pred: tensor([[188.4214, 218.5329, 217.6036, 274.9655]], device='cuda:0')\n",
      "GT: tensor([[197.1840, 226.3040, 209.6640, 264.0213]], device='cuda:0')\n",
      "Pred: tensor([[268.9483,  40.6507, 339.6181, 311.8533]], device='cuda:0')\n",
      "GT: tensor([[ 27.4560,   0.0000, 361.9200, 414.8907]], device='cuda:0')\n",
      "Pred: tensor([[268.9483,  40.6507, 339.6181, 311.8533]], device='cuda:0')\n",
      "GT: tensor([[244.6080,  38.8267, 367.7440, 323.9253]], device='cuda:0')\n",
      "Pred: tensor([[268.9483,  40.6507, 339.6181, 311.8533]], device='cuda:0')\n",
      "GT: tensor([[336.1280,   0.0000, 415.1680, 414.8907]], device='cuda:0')\n",
      "Pred: tensor([[ 74.2794, 141.2100, 347.5168, 326.4268]], device='cuda:0')\n",
      "GT: tensor([[ 84.0320, 113.4545, 336.9600, 327.2727]], device='cuda:0')\n",
      "Pred: tensor([[141.3855,  86.8253, 322.2265, 343.3170]], device='cuda:0')\n",
      "GT: tensor([[339.4560, 212.3636, 362.7520, 290.9091]], device='cuda:0')\n",
      "Pred: tensor([[ 56.3704, 217.6629,  97.2770, 261.9569]], device='cuda:0')\n",
      "GT: tensor([[ 53.2480, 216.7273,  88.1920, 261.8182]], device='cuda:0')\n",
      "Pred: tensor([[141.3855,  86.8253, 322.2265, 343.3170]], device='cuda:0')\n",
      "GT: tensor([[227.9680, 183.2727, 258.7520, 237.0909]], device='cuda:0')\n",
      "Pred: tensor([[105.5578,  57.3248, 318.3755, 345.2827]], device='cuda:0')\n",
      "GT: tensor([[ 17.4720,   6.9916, 391.0400, 402.8907]], device='cuda:0')\n",
      "Pred: tensor([[137.1310,  40.7828, 269.8654, 129.0651]], device='cuda:0')\n",
      "GT: tensor([[153.9200,  28.8427, 241.2800, 127.5733]], device='cuda:0')\n"
     ]
    },
    {
     "name": "stderr",
     "output_type": "stream",
     "text": [
      "[2019-05-31 10:46:37,617 <ipython-input-2-7667fb18f09c>] Batch [139/2077] mAP: 0.25852\n",
      "[2019-05-31 10:46:37,658 <ipython-input-2-7667fb18f09c>] Batch [140/2077] mAP: 0.26062\n",
      "[2019-05-31 10:46:37,707 <ipython-input-2-7667fb18f09c>] Batch [141/2077] mAP: 0.26124\n",
      "[2019-05-31 10:46:37,744 <ipython-input-2-7667fb18f09c>] Batch [142/2077] mAP: 0.25272\n",
      "[2019-05-31 10:46:37,783 <ipython-input-2-7667fb18f09c>] Batch [143/2077] mAP: 0.25405\n"
     ]
    },
    {
     "name": "stdout",
     "output_type": "stream",
     "text": [
      "Pred: tensor([[152.3754, 174.9044, 194.7987, 253.2809]], device='cuda:0')\n",
      "GT: tensor([[151.4240, 171.9467, 204.6720, 240.7253]], device='cuda:0')\n",
      "Pred: tensor([[152.3754, 174.9044, 194.7987, 253.2809]], device='cuda:0')\n",
      "GT: tensor([[ 38.2720, 256.2560,  68.2240, 323.9253]], device='cuda:0')\n",
      "Pred: tensor([[109.2963, -17.8724, 367.8520, 441.8605]], device='cuda:0')\n",
      "GT: tensor([[ 99.0080,   6.6560, 404.3520, 414.8907]], device='cuda:0')\n",
      "Pred: tensor([[ 20.4667, -60.5158, 339.5970, 472.2419]], device='cuda:0')\n",
      "GT: tensor([[ 41.6000,   7.4955, 297.8560, 376.0240]], device='cuda:0')\n",
      "Pred: tensor([[ 20.4667, -60.5158, 339.5970, 472.2419]], device='cuda:0')\n",
      "GT: tensor([[295.3600, 128.6727, 415.1680, 347.2913]], device='cuda:0')\n",
      "Pred: tensor([[338.1483, 233.7316, 395.7965, 417.0885]], device='cuda:0')\n",
      "GT: tensor([[353.6000, 264.8409, 384.3840, 373.5255]], device='cuda:0')\n",
      "Pred: tensor([[ 80.5169, -65.8667, 393.1265, 482.0319]], device='cuda:0')\n",
      "GT: tensor([[  0.0000,   0.0000, 414.3360, 400.4693]], device='cuda:0')\n"
     ]
    },
    {
     "name": "stderr",
     "output_type": "stream",
     "text": [
      "[2019-05-31 10:46:37,817 <ipython-input-2-7667fb18f09c>] Batch [144/2077] mAP: 0.25067\n",
      "[2019-05-31 10:46:37,856 <ipython-input-2-7667fb18f09c>] Batch [145/2077] mAP: 0.25266\n",
      "[2019-05-31 10:46:37,910 <ipython-input-2-7667fb18f09c>] Batch [146/2077] mAP: 0.25199\n",
      "[2019-05-31 10:46:37,967 <ipython-input-2-7667fb18f09c>] Batch [147/2077] mAP: 0.24611\n",
      "[2019-05-31 10:46:38,010 <ipython-input-2-7667fb18f09c>] Batch [148/2077] mAP: 0.24548\n"
     ]
    },
    {
     "name": "stdout",
     "output_type": "stream",
     "text": [
      "Pred: tensor([[ 36.6244, 104.1605, 376.8760, 304.2422]], device='cuda:0')\n",
      "GT: tensor([[ 18.3040, 118.1681, 395.2000, 296.6261]], device='cuda:0')\n",
      "Pred: tensor([[ 20.6895, 152.3225, 212.6405, 382.3008]], device='cuda:0')\n",
      "GT: tensor([[180.5440, 125.3547, 308.6720, 414.8907]], device='cuda:0')\n",
      "Pred: tensor([[ 20.6895, 152.3225, 212.6405, 382.3008]], device='cuda:0')\n",
      "GT: "
     ]
    },
    {
     "name": "stderr",
     "output_type": "stream",
     "text": [
      "[2019-05-31 10:46:38,056 <ipython-input-2-7667fb18f09c>] Batch [149/2077] mAP: 0.24615\n",
      "[2019-05-31 10:46:38,109 <ipython-input-2-7667fb18f09c>] Batch [150/2077] mAP: 0.24619\n",
      "[2019-05-31 10:46:38,143 <ipython-input-2-7667fb18f09c>] Batch [151/2077] mAP: 0.24495\n",
      "[2019-05-31 10:46:38,176 <ipython-input-2-7667fb18f09c>] Batch [152/2077] mAP: 0.24250\n",
      "[2019-05-31 10:46:38,209 <ipython-input-2-7667fb18f09c>] Batch [153/2077] mAP: 0.24190\n",
      "[2019-05-31 10:46:38,247 <ipython-input-2-7667fb18f09c>] Batch [154/2077] mAP: 0.24257\n"
     ]
    },
    {
     "name": "stdout",
     "output_type": "stream",
     "text": [
      "tensor([[ 32.4480, 108.7147, 194.6880, 414.8907]], device='cuda:0')\n",
      "Pred: tensor([[  3.7115, 130.2224, 107.2393, 400.4831]], device='cuda:0')\n",
      "GT: tensor([[119.8080,  17.7493, 208.0000, 187.4773]], device='cuda:0')\n",
      "Pred: tensor([[  3.7115, 130.2224, 107.2393, 400.4831]], device='cuda:0')\n",
      "GT: tensor([[340.2880,  11.0933, 414.3360, 164.1813]], device='cuda:0')\n",
      "Pred: tensor([[  3.7115, 130.2224, 107.2393, 400.4831]], device='cuda:0')\n",
      "GT: tensor([[269.5680, 124.2453, 408.5120, 414.8907]], device='cuda:0')\n",
      "Pred: tensor([[  3.7115, 130.2224, 107.2393, 400.4831]], device='cuda:0')\n",
      "GT: tensor([[  0.0000, 137.5573, 111.4880, 402.6880]], device='cuda:0')\n",
      "Pred: tensor([[233.1484, 122.5909, 370.1099, 298.2899]], device='cuda:0')\n",
      "GT: tensor([[259.1333, 132.8889, 382.2000, 306.2222]], device='cuda:0')\n"
     ]
    },
    {
     "name": "stderr",
     "output_type": "stream",
     "text": [
      "[2019-05-31 10:46:38,291 <ipython-input-2-7667fb18f09c>] Batch [155/2077] mAP: 0.24324\n",
      "[2019-05-31 10:46:38,341 <ipython-input-2-7667fb18f09c>] Batch [156/2077] mAP: 0.24265\n"
     ]
    },
    {
     "name": "stdout",
     "output_type": "stream",
     "text": [
      "Pred: tensor([[ 87.1607, 118.1853, 131.7023, 237.4222]], device='cuda:0')\n",
      "GT: tensor([[ 81.5360, 141.9947, 137.2800, 224.0853]], device='cuda:0')\n",
      "Pred: tensor([[ 96.7020, 118.1232, 130.3199, 174.3897]], device='cuda:0')\n",
      "GT: tensor([[112.3200, 116.4800, 135.6160, 147.5413]], device='cuda:0')\n",
      "Pred: tensor([[143.1092,  21.0417, 327.3030, 142.9438]], device='cuda:0')\n",
      "GT: tensor([[139.7760, 288.0000, 311.1680, 414.8965]], device='cuda:0')\n",
      "Pred: tensor([[143.1092,  21.0417, 327.3030, 142.9438]], device='cuda:0')\n",
      "GT: tensor([[178.8800,  18.7586, 281.2160, 155.5862]], device='cuda:0')\n",
      "Pred: tensor([[316.7128,  59.1228, 415.6487, 224.6560]], device='cuda:0')\n",
      "GT: tensor([[159.7440,  94.8966, 252.9280, 305.6552]], device='cuda:0')\n",
      "Pred: tensor([[101.5091,  21.0601, 127.4997,  55.8095]], device='cuda:0')\n",
      "GT: tensor([[159.7440,  94.8966, 252.9280, 305.6552]], device='cuda:0')\n",
      "Pred: tensor([[316.7128,  59.1228, 415.6487, 224.6560]], device='cuda:0')\n",
      "GT: tensor([[  0.0000,  59.5862,  29.9520, 220.6897]], device='cuda:0')\n",
      "Pred: tensor([[101.5091,  21.0601, 127.4997,  55.8095]], device='cuda:0')\n",
      "GT: tensor([[  0.0000,  59.5862,  29.9520, 220.6897]], device='cuda:0')\n",
      "Pred: tensor([[316.7128,  59.1228, 415.6487, 224.6560]], device='cuda:0')\n",
      "GT: tensor([[  0.0000,   0.0000,  60.7360, 158.8965]], device='cuda:0')\n",
      "Pred: tensor([[101.5091,  21.0601, 127.4997,  55.8095]], device='cuda:0')\n",
      "GT: tensor([[  0.0000,   0.0000,  60.7360, 158.8965]], device='cuda:0')\n",
      "Pred: tensor([[316.7128,  59.1228, 415.6487, 224.6560]], device='cuda:0')\n",
      "GT: tensor([[ 81.5360,   0.0000, 125.6320,  77.2414]], device='cuda:0')\n",
      "Pred: tensor([[101.5091,  21.0601, 127.4997,  55.8095]], device='cuda:0')\n",
      "GT: tensor([[ 81.5360,   0.0000, 125.6320,  77.2414]], device='cuda:0')\n",
      "Pred: tensor([[316.7128,  59.1228, 415.6487, 224.6560]], device='cuda:0')\n",
      "GT: tensor([[ 80.7040,   0.0000, 138.1120,  44.1379]], device='cuda:0')\n",
      "Pred: tensor([[101.5091,  21.0601, 127.4997,  55.8095]], device='cuda:0')\n",
      "GT: tensor([[ 80.7040,   0.0000, 138.1120,  44.1379]], device='cuda:0')\n",
      "Pred: tensor([[316.7128,  59.1228, 415.6487, 224.6560]], device='cuda:0')\n",
      "GT: tensor([[151.4240,   0.0000, 199.6800, 105.9310]], device='cuda:0')\n",
      "Pred: tensor([[101.5091,  21.0601, 127.4997,  55.8095]], device='cuda:0')\n",
      "GT: tensor([[151.4240,   0.0000, 199.6800, 105.9310]], device='cuda:0')\n",
      "Pred: tensor([[316.7128,  59.1228, 415.6487, 224.6560]], device='cuda:0')\n",
      "GT: tensor([[236.2880,   0.0000, 266.2400,  35.3103]], device='cuda:0')\n",
      "Pred: tensor([[101.5091,  21.0601, 127.4997,  55.8095]], device='cuda:0')\n",
      "GT: "
     ]
    },
    {
     "name": "stderr",
     "output_type": "stream",
     "text": [
      "[2019-05-31 10:46:38,516 <ipython-input-2-7667fb18f09c>] Batch [157/2077] mAP: 0.24228\n",
      "[2019-05-31 10:46:38,558 <ipython-input-2-7667fb18f09c>] Batch [158/2077] mAP: 0.24171\n",
      "[2019-05-31 10:46:38,591 <ipython-input-2-7667fb18f09c>] Batch [159/2077] mAP: 0.24113\n",
      "[2019-05-31 10:46:38,625 <ipython-input-2-7667fb18f09c>] Batch [160/2077] mAP: 0.24057\n",
      "[2019-05-31 10:46:38,678 <ipython-input-2-7667fb18f09c>] Batch [161/2077] mAP: 0.23944\n"
     ]
    },
    {
     "name": "stdout",
     "output_type": "stream",
     "text": [
      "tensor([[236.2880,   0.0000, 266.2400,  35.3103]], device='cuda:0')\n",
      "Pred: tensor([[316.7128,  59.1228, 415.6487, 224.6560]], device='cuda:0')\n",
      "GT: tensor([[333.6320,  59.5862, 400.1920, 224.0000]], device='cuda:0')\n",
      "Pred: tensor([[316.7128,  59.1228, 415.6487, 224.6560]], device='cuda:0')\n",
      "GT: tensor([[302.0160,  20.9655, 415.1680, 224.0000]], device='cuda:0')\n",
      "Pred: tensor([[316.7128,  59.1228, 415.6487, 224.6560]], device='cuda:0')\n",
      "GT: tensor([[354.4320,  89.3793, 415.1680, 414.8965]], device='cuda:0')\n",
      "Pred: tensor([[101.5091,  21.0601, 127.4997,  55.8095]], device='cuda:0')\n",
      "GT: tensor([[354.4320,  89.3793, 415.1680, 414.8965]], device='cuda:0')\n",
      "Pred: tensor([[316.7128,  59.1228, 415.6487, 224.6560]], device='cuda:0')\n",
      "GT: tensor([[389.3760,   0.0000, 415.1680,  44.1379]], device='cuda:0')\n",
      "Pred: tensor([[101.5091,  21.0601, 127.4997,  55.8095]], device='cuda:0')\n",
      "GT: tensor([[389.3760,   0.0000, 415.1680,  44.1379]], device='cuda:0')\n",
      "Pred: tensor([[145.4432,  71.1946, 335.7142, 325.5096]], device='cuda:0')\n",
      "GT: tensor([[ 74.8800,  37.7173, 401.0240, 338.3467]], device='cuda:0')\n"
     ]
    },
    {
     "name": "stderr",
     "output_type": "stream",
     "text": [
      "[2019-05-31 10:46:38,731 <ipython-input-2-7667fb18f09c>] Batch [162/2077] mAP: 0.23888\n",
      "[2019-05-31 10:46:38,799 <ipython-input-2-7667fb18f09c>] Batch [163/2077] mAP: 0.24009\n",
      "[2019-05-31 10:46:38,858 <ipython-input-2-7667fb18f09c>] Batch [164/2077] mAP: 0.23898\n",
      "[2019-05-31 10:46:38,906 <ipython-input-2-7667fb18f09c>] Batch [165/2077] mAP: 0.24074\n",
      "[2019-05-31 10:46:38,942 <ipython-input-2-7667fb18f09c>] Batch [166/2077] mAP: 0.24018\n",
      "[2019-05-31 10:46:38,982 <ipython-input-2-7667fb18f09c>] Batch [167/2077] mAP: 0.24194\n"
     ]
    },
    {
     "name": "stdout",
     "output_type": "stream",
     "text": [
      "Pred: tensor([[200.4448,  72.8563, 333.9778, 391.2935]], device='cuda:0')\n",
      "GT: tensor([[128.1280,  87.3846, 351.1040, 393.8462]], device='cuda:0')\n",
      "Pred: tensor([[200.4448,  72.8563, 333.9778, 391.2935]], device='cuda:0')\n",
      "GT: tensor([[198.8480,   0.0000, 415.1680, 192.0000]], device='cuda:0')\n",
      "Pred: tensor([[ 21.0806,  99.7969, 394.2139, 327.0936]], device='cuda:0')\n",
      "GT: tensor([[ 17.4720,  86.5280, 408.5120, 335.0187]], device='cuda:0')\n",
      "Pred: tensor([[ 38.5297,  40.1020, 368.9244, 384.6493]], device='cuda:0')\n",
      "GT: tensor([[ 59.0720,  80.1928, 346.1120, 359.6145]], device='cuda:0')\n"
     ]
    },
    {
     "name": "stderr",
     "output_type": "stream",
     "text": [
      "[2019-05-31 10:46:39,043 <ipython-input-2-7667fb18f09c>] Batch [168/2077] mAP: 0.23608\n",
      "[2019-05-31 10:46:39,082 <ipython-input-2-7667fb18f09c>] Batch [169/2077] mAP: 0.23778\n",
      "[2019-05-31 10:46:39,126 <ipython-input-2-7667fb18f09c>] Batch [170/2077] mAP: 0.23894\n",
      "[2019-05-31 10:46:39,162 <ipython-input-2-7667fb18f09c>] Batch [171/2077] mAP: 0.23684\n",
      "[2019-05-31 10:46:39,201 <ipython-input-2-7667fb18f09c>] Batch [172/2077] mAP: 0.23851\n"
     ]
    },
    {
     "name": "stdout",
     "output_type": "stream",
     "text": [
      "Pred: tensor([[ 79.8835, 191.7963, 141.8240, 301.8356]], device='cuda:0')\n",
      "GT: tensor([[166.4000, 144.7680, 194.1333, 200.5120]], device='cuda:0')\n",
      "Pred: tensor([[ 79.8835, 191.7963, 141.8240, 301.8356]], device='cuda:0')\n",
      "GT: tensor([[217.4293, 222.1440, 268.4587, 307.8400]], device='cuda:0')\n",
      "Pred: tensor([[ 79.8835, 191.7963, 141.8240, 301.8356]], device='cuda:0')\n",
      "GT: tensor([[ 73.2160, 210.4960, 143.1040, 302.8480]], device='cuda:0')\n",
      "Pred: tensor([[ 79.8835, 191.7963, 141.8240, 301.8356]], device='cuda:0')\n",
      "GT: tensor([[295.0827, 148.9280, 323.9253, 200.5120]], device='cuda:0')\n",
      "Pred: tensor([[295.7784, 109.1086, 381.9462, 302.9535]], device='cuda:0')\n",
      "GT: tensor([[282.0480, 117.5893, 415.1680, 276.2240]], device='cuda:0')\n",
      "Pred: tensor([[ 66.9678, 203.7624, 403.7932, 355.6430]], device='cuda:0')\n",
      "GT: tensor([[114.8160, 208.0000, 355.2640, 363.3735]], device='cuda:0')\n",
      "Pred: tensor([[ 66.9678, 203.7624, 403.7932, 355.6430]], device='cuda:0')\n",
      "GT: tensor([[368.5760, 260.6265, 389.3760, 300.7229]], device='cuda:0')\n",
      "Pred: tensor([[215.0160, 263.4521, 264.2294, 300.0451]], device='cuda:0')\n",
      "GT: tensor([[217.5333, 261.1555, 268.6667, 312.0000]], device='cuda:0')\n"
     ]
    },
    {
     "name": "stderr",
     "output_type": "stream",
     "text": [
      "[2019-05-31 10:46:39,237 <ipython-input-2-7667fb18f09c>] Batch [173/2077] mAP: 0.23799\n",
      "[2019-05-31 10:46:39,276 <ipython-input-2-7667fb18f09c>] Batch [174/2077] mAP: 0.23913\n",
      "[2019-05-31 10:46:39,309 <ipython-input-2-7667fb18f09c>] Batch [175/2077] mAP: 0.23758\n",
      "[2019-05-31 10:46:39,347 <ipython-input-2-7667fb18f09c>] Batch [176/2077] mAP: 0.23922\n",
      "[2019-05-31 10:46:39,379 <ipython-input-2-7667fb18f09c>] Batch [177/2077] mAP: 0.23871\n",
      "[2019-05-31 10:46:39,437 <ipython-input-2-7667fb18f09c>] Batch [178/2077] mAP: 0.24034\n"
     ]
    },
    {
     "name": "stdout",
     "output_type": "stream",
     "text": [
      "Pred: tensor([[224.3641,  49.8892, 330.6867, 180.0330]], device='cuda:0')\n",
      "GT: tensor([[157.4054,  44.9280, 344.7928, 173.0560]], device='cuda:0')\n",
      "Pred: tensor([[ -4.9895, -30.2808, 413.9775, 442.7905]], device='cuda:0')\n",
      "GT: tensor([[  0.0000,   0.0000, 414.8907, 405.1840]], device='cuda:0')\n",
      "Pred: tensor([[106.4753, -33.3347, 307.3043, 441.4485]], device='cuda:0')\n",
      "GT: tensor([[ 98.1760,   0.0000, 316.1600, 363.8613]], device='cuda:0')\n"
     ]
    },
    {
     "name": "stderr",
     "output_type": "stream",
     "text": [
      "[2019-05-31 10:46:39,557 <ipython-input-2-7667fb18f09c>] Batch [179/2077] mAP: 0.23729\n",
      "[2019-05-31 10:46:39,599 <ipython-input-2-7667fb18f09c>] Batch [180/2077] mAP: 0.23890\n",
      "[2019-05-31 10:46:39,632 <ipython-input-2-7667fb18f09c>] Batch [181/2077] mAP: 0.23840\n",
      "[2019-05-31 10:46:39,670 <ipython-input-2-7667fb18f09c>] Batch [182/2077] mAP: 0.24000\n"
     ]
    },
    {
     "name": "stdout",
     "output_type": "stream",
     "text": [
      "Pred: tensor([[ 98.7408, 132.9690, 267.0985, 302.9057]], device='cuda:0')\n",
      "GT: tensor([[106.4960, 203.0080, 226.3040, 240.4480]], device='cuda:0')\n",
      "Pred: tensor([[129.2525, 174.9120, 214.4399, 258.6650]], device='cuda:0')\n",
      "GT: tensor([[106.4960, 203.0080, 226.3040, 240.4480]], device='cuda:0')\n",
      "Pred: tensor([[ 98.7408, 132.9690, 267.0985, 302.9057]], device='cuda:0')\n",
      "GT: tensor([[  0.0000, 115.6480,  46.5920, 142.2720]], device='cuda:0')\n",
      "Pred: tensor([[129.2525, 174.9120, 214.4399, 258.6650]], device='cuda:0')\n",
      "GT: tensor([[  0.0000, 115.6480,  46.5920, 142.2720]], device='cuda:0')\n",
      "Pred: tensor([[ 98.7408, 132.9690, 267.0985, 302.9057]], device='cuda:0')\n",
      "GT: tensor([[190.8053, 160.5760, 252.9280, 182.2080]], device='cuda:0')\n",
      "Pred: tensor([[129.2525, 174.9120, 214.4399, 258.6650]], device='cuda:0')\n",
      "GT: tensor([[190.8053, 160.5760, 252.9280, 182.2080]], device='cuda:0')\n",
      "Pred: tensor([[ 98.7408, 132.9690, 267.0985, 302.9057]], device='cuda:0')\n",
      "GT: tensor([[188.5867, 110.6560, 236.2880, 132.2880]], device='cuda:0')\n",
      "Pred: tensor([[129.2525, 174.9120, 214.4399, 258.6650]], device='cuda:0')\n",
      "GT: tensor([[188.5867, 110.6560, 236.2880, 132.2880]], device='cuda:0')\n",
      "Pred: tensor([[ 98.7408, 132.9690, 267.0985, 302.9057]], device='cuda:0')\n",
      "GT: tensor([[256.2560, 131.4560, 383.8293, 175.5520]], device='cuda:0')\n",
      "Pred: tensor([[129.2525, 174.9120, 214.4399, 258.6650]], device='cuda:0')\n",
      "GT: tensor([[256.2560, 131.4560, 383.8293, 175.5520]], device='cuda:0')\n",
      "Pred: tensor([[ 98.7408, 132.9690, 267.0985, 302.9057]], device='cuda:0')\n",
      "GT: tensor([[288.4267, 161.4080, 410.4533, 203.0080]], device='cuda:0')\n",
      "Pred: tensor([[129.2525, 174.9120, 214.4399, 258.6650]], device='cuda:0')\n",
      "GT: tensor([[288.4267, 161.4080, 410.4533, 203.0080]], device='cuda:0')\n",
      "Pred: tensor([[180.1187, 206.3685, 376.8342, 402.2019]], device='cuda:0')\n",
      "GT: tensor([[131.4560, 208.5547, 415.1680, 414.8907]], device='cuda:0')\n",
      "Pred: tensor([[ 52.5176,  94.2689, 182.1712, 449.6408]], device='cuda:0')\n",
      "GT: tensor([[ 43.2640, 106.4960, 183.8720, 414.8907]], device='cuda:0')\n"
     ]
    },
    {
     "name": "stderr",
     "output_type": "stream",
     "text": [
      "[2019-05-31 10:46:39,720 <ipython-input-2-7667fb18f09c>] Batch [183/2077] mAP: 0.24167\n",
      "[2019-05-31 10:46:39,763 <ipython-input-2-7667fb18f09c>] Batch [184/2077] mAP: 0.24174\n",
      "[2019-05-31 10:46:39,807 <ipython-input-2-7667fb18f09c>] Batch [185/2077] mAP: 0.24486\n"
     ]
    },
    {
     "name": "stdout",
     "output_type": "stream",
     "text": [
      "Pred: tensor([[ -6.7532, 150.0876, 167.3947, 411.4747]], device='cuda:0')\n",
      "GT: tensor([[204.6720,  73.2160, 407.6800, 414.8907]], device='cuda:0')\n",
      "Pred: tensor([[167.6506,  82.7265, 430.7313, 406.8034]], device='cuda:0')\n",
      "GT: tensor([[204.6720,  73.2160, 407.6800, 414.8907]], device='cuda:0')\n",
      "Pred: tensor([[ -6.7532, 150.0876, 167.3947, 411.4747]], device='cuda:0')\n",
      "GT: tensor([[  0.0000, 143.1040, 162.2400, 414.8907]], device='cuda:0')\n",
      "Pred: tensor([[ 31.2319, 117.5570, 179.6692, 410.9805]], device='cuda:0')\n",
      "GT: tensor([[ 16.6400, 131.8139, 175.5520, 399.0698]], device='cuda:0')\n",
      "Pred: tensor([[ 31.2319, 117.5570, 179.6692, 410.9805]], device='cuda:0')\n",
      "GT: tensor([[296.1920, 126.9767, 415.1680, 395.4419]], device='cuda:0')\n",
      "Pred: tensor([[330.7950, 114.9686, 403.0902, 249.6627]], device='cuda:0')\n",
      "GT: tensor([[299.8198, 136.4480, 414.7508, 241.2800]], device='cuda:0')\n",
      "Pred: tensor([[-14.7036, 123.9672, 354.1126, 352.3069]], device='cuda:0')\n",
      "GT: tensor([[ 18.7387, 130.6240, 322.3063, 381.8880]], device='cuda:0')\n",
      "Pred: tensor([[ 38.0851, 154.5119, 193.2238, 371.6476]], device='cuda:0')\n",
      "GT: tensor([[ 74.8800, 221.6075, 143.1040, 305.8442]], device='cuda:0')\n",
      "Pred: tensor([[ 38.0851, 154.5119, 193.2238, 371.6476]], device='cuda:0')\n",
      "GT: tensor([[143.1040, 224.1994, 208.0000, 291.5888]], device='cuda:0')\n",
      "Pred: tensor([[ 38.0851, 154.5119, 193.2238, 371.6476]], device='cuda:0')\n",
      "GT: tensor([[275.3920, 213.8318, 324.4800, 259.1900]], device='cuda:0')\n",
      "Pred: tensor([[357.0456, 179.7720, 389.5481, 286.3766]], device='cuda:0')\n",
      "GT: tensor([[356.9280, 194.3925, 375.2320, 260.4860]], device='cuda:0')\n",
      "Pred: tensor([[ 78.6814, 204.9202, 159.6695, 325.4904]], device='cuda:0')\n",
      "GT: tensor([[356.9280, 194.3925, 375.2320, 260.4860]], device='cuda:0')\n",
      "Pred: tensor([[364.1933, 203.4777, 386.7868, 263.0239]], device='cuda:0')\n",
      "GT: tensor([[356.9280, 194.3925, 375.2320, 260.4860]], device='cuda:0')\n",
      "Pred: tensor([[379.3425, 198.5768, 402.9245, 268.1683]], device='cuda:0')\n",
      "GT: tensor([[356.9280, 194.3925, 375.2320, 260.4860]], device='cuda:0')\n",
      "Pred: tensor([[357.0456, 179.7720, 389.5481, 286.3766]], device='cuda:0')\n",
      "GT: tensor([[383.5520, 193.0966, 399.3600, 263.0779]], device='cuda:0')\n",
      "Pred: tensor([[ 78.6814, 204.9202, 159.6695, 325.4904]], device='cuda:0')\n",
      "GT: tensor([[383.5520, 193.0966, 399.3600, 263.0779]], device='cuda:0')\n",
      "Pred: tensor([[364.1933, 203.4777, 386.7868, 263.0239]], device='cuda:0')\n",
      "GT: tensor([[383.5520, 193.0966, 399.3600, 263.0779]], device='cuda:0')\n",
      "Pred: tensor([[379.3425, 198.5768, 402.9245, 268.1683]], device='cuda:0')\n",
      "GT: tensor([[383.5520, 193.0966, 399.3600, 263.0779]], device='cuda:0')\n",
      "Pred: tensor([[357.0456, 179.7720, 389.5481, 286.3766]], device='cuda:0')\n",
      "GT: tensor([[372.7360, 189.2087, 386.0480, 264.3738]], device='cuda:0')\n",
      "Pred: tensor([[ 78.6814, 204.9202, 159.6695, 325.4904]], device='cuda:0')\n",
      "GT: tensor([[372.7360, 189.2087, 386.0480, 264.3738]], device='cuda:0')\n",
      "Pred: tensor([[364.1933, 203.4777, 386.7868, 263.0239]], device='cuda:0')\n",
      "GT: "
     ]
    },
    {
     "name": "stderr",
     "output_type": "stream",
     "text": [
      "[2019-05-31 10:46:39,965 <ipython-input-2-7667fb18f09c>] Batch [186/2077] mAP: 0.24444\n",
      "[2019-05-31 10:46:40,025 <ipython-input-2-7667fb18f09c>] Batch [187/2077] mAP: 0.24597\n",
      "[2019-05-31 10:46:40,083 <ipython-input-2-7667fb18f09c>] Batch [188/2077] mAP: 0.24547\n"
     ]
    },
    {
     "name": "stdout",
     "output_type": "stream",
     "text": [
      "tensor([[372.7360, 189.2087, 386.0480, 264.3738]], device='cuda:0')\n",
      "Pred: tensor([[357.0456, 179.7720, 389.5481, 286.3766]], device='cuda:0')\n",
      "GT: tensor([[129.7920, 220.3115, 141.4400, 260.4860]], device='cuda:0')\n",
      "Pred: tensor([[ 78.6814, 204.9202, 159.6695, 325.4904]], device='cuda:0')\n",
      "GT: tensor([[129.7920, 220.3115, 141.4400, 260.4860]], device='cuda:0')\n",
      "Pred: tensor([[364.1933, 203.4777, 386.7868, 263.0239]], device='cuda:0')\n",
      "GT: tensor([[129.7920, 220.3115, 141.4400, 260.4860]], device='cuda:0')\n",
      "Pred: tensor([[379.3425, 198.5768, 402.9245, 268.1683]], device='cuda:0')\n",
      "GT: tensor([[129.7920, 220.3115, 141.4400, 260.4860]], device='cuda:0')\n",
      "Pred: tensor([[357.0456, 179.7720, 389.5481, 286.3766]], device='cuda:0')\n",
      "GT: tensor([[ 97.3440, 195.6885, 121.4720, 259.1900]], device='cuda:0')\n",
      "Pred: tensor([[ 78.6814, 204.9202, 159.6695, 325.4904]], device='cuda:0')\n",
      "GT: tensor([[ 97.3440, 195.6885, 121.4720, 259.1900]], device='cuda:0')\n",
      "Pred: tensor([[364.1933, 203.4777, 386.7868, 263.0239]], device='cuda:0')\n",
      "GT: tensor([[ 97.3440, 195.6885, 121.4720, 259.1900]], device='cuda:0')\n",
      "Pred: tensor([[379.3425, 198.5768, 402.9245, 268.1683]], device='cuda:0')\n",
      "GT: tensor([[ 97.3440, 195.6885, 121.4720, 259.1900]], device='cuda:0')\n",
      "Pred: tensor([[357.0456, 179.7720, 389.5481, 286.3766]], device='cuda:0')\n",
      "GT: tensor([[123.9680, 225.4953, 134.7840, 252.7103]], device='cuda:0')\n",
      "Pred: tensor([[ 78.6814, 204.9202, 159.6695, 325.4904]], device='cuda:0')\n",
      "GT: tensor([[123.9680, 225.4953, 134.7840, 252.7103]], device='cuda:0')\n",
      "Pred: tensor([[364.1933, 203.4777, 386.7868, 263.0239]], device='cuda:0')\n",
      "GT: tensor([[123.9680, 225.4953, 134.7840, 252.7103]], device='cuda:0')\n",
      "Pred: tensor([[379.3425, 198.5768, 402.9245, 268.1683]], device='cuda:0')\n",
      "GT: tensor([[123.9680, 225.4953, 134.7840, 252.7103]], device='cuda:0')\n",
      "Pred: tensor([[  6.9839, 134.8531, 397.9557, 289.8051]], device='cuda:0')\n",
      "GT: tensor([[  1.6640, 144.5600, 375.2320, 283.9200]], device='cuda:0')\n"
     ]
    },
    {
     "name": "stderr",
     "output_type": "stream",
     "text": [
      "[2019-05-31 10:46:40,167 <ipython-input-2-7667fb18f09c>] Batch [189/2077] mAP: 0.24551\n",
      "[2019-05-31 10:46:40,207 <ipython-input-2-7667fb18f09c>] Batch [190/2077] mAP: 0.24502\n",
      "[2019-05-31 10:46:40,260 <ipython-input-2-7667fb18f09c>] Batch [191/2077] mAP: 0.24453\n"
     ]
    },
    {
     "name": "stdout",
     "output_type": "stream",
     "text": [
      "Pred: tensor([[298.2993, 154.8175, 376.0740, 253.7402]], device='cuda:0')\n",
      "GT: tensor([[  0.0000,  79.9024, 173.8880, 310.7317]], device='cuda:0')\n",
      "Pred: tensor([[298.2993, 154.8175, 376.0740, 253.7402]], device='cuda:0')\n",
      "GT: tensor([[ 75.7120, 105.2683, 305.3440, 299.3171]], device='cuda:0')\n",
      "Pred: tensor([[298.2993, 154.8175, 376.0740, 253.7402]], device='cuda:0')\n",
      "GT: tensor([[297.0240, 124.2927, 390.2080, 290.4390]], device='cuda:0')\n",
      "Pred: tensor([[298.2993, 154.8175, 376.0740, 253.7402]], device='cuda:0')\n",
      "GT: tensor([[247.1040, 152.1951, 415.1680, 277.7561]], device='cuda:0')\n",
      "Pred: tensor([[184.8382, 267.2680, 230.7971, 386.7006]], device='cuda:0')\n",
      "GT: tensor([[191.3600, 276.2240, 220.4800, 326.1440]], device='cuda:0')\n",
      "Pred: tensor([[184.8382, 267.2680, 230.7971, 386.7006]], device='cuda:0')\n",
      "GT: tensor([[193.0240, 295.0827, 226.3040, 380.5013]], device='cuda:0')\n",
      "Pred: tensor([[184.8382, 267.2680, 230.7971, 386.7006]], device='cuda:0')\n",
      "GT: tensor([[ 39.9360, 265.1307,  53.2480, 311.7227]], device='cuda:0')\n",
      "Pred: tensor([[184.8382, 267.2680, 230.7971, 386.7006]], device='cuda:0')\n",
      "GT: "
     ]
    },
    {
     "name": "stderr",
     "output_type": "stream",
     "text": [
      "[2019-05-31 10:46:40,367 <ipython-input-2-7667fb18f09c>] Batch [192/2077] mAP: 0.24125\n",
      "[2019-05-31 10:46:40,429 <ipython-input-2-7667fb18f09c>] Batch [193/2077] mAP: 0.24272\n",
      "[2019-05-31 10:46:40,490 <ipython-input-2-7667fb18f09c>] Batch [194/2077] mAP: 0.24178\n"
     ]
    },
    {
     "name": "stdout",
     "output_type": "stream",
     "text": [
      "tensor([[ 52.4160, 270.6773,  63.2320, 307.2853]], device='cuda:0')\n",
      "Pred: tensor([[326.0273, 331.4936, 412.5494, 416.5559]], device='cuda:0')\n",
      "GT: tensor([[ 38.2720, 305.0667,  56.5760, 351.6587]], device='cuda:0')\n",
      "Pred: tensor([[326.0273, 331.4936, 412.5494, 416.5559]], device='cuda:0')\n",
      "GT: tensor([[ 11.6480, 318.3787,  33.2800, 376.0640]], device='cuda:0')\n",
      "Pred: tensor([[326.0273, 331.4936, 412.5494, 416.5559]], device='cuda:0')\n",
      "GT: tensor([[129.7920, 367.1893, 193.8560, 413.7813]], device='cuda:0')\n",
      "Pred: tensor([[326.0273, 331.4936, 412.5494, 416.5559]], device='cuda:0')\n",
      "GT: tensor([[346.9440, 356.0960, 398.5280, 414.8907]], device='cuda:0')\n",
      "Pred: tensor([[192.3442, 109.3437, 372.6027, 451.7104]], device='cuda:0')\n",
      "GT: tensor([[214.8709, 142.2720, 381.0210, 415.1680]], device='cuda:0')\n",
      "Pred: tensor([[ 41.6020, 131.6513, 167.4688, 368.7902]], device='cuda:0')\n",
      "GT: tensor([[ 62.4000, 188.7522, 170.5600, 285.6119]], device='cuda:0')\n"
     ]
    },
    {
     "name": "stderr",
     "output_type": "stream",
     "text": [
      "[2019-05-31 10:46:40,549 <ipython-input-2-7667fb18f09c>] Batch [195/2077] mAP: 0.23901\n",
      "[2019-05-31 10:46:40,730 <ipython-input-2-7667fb18f09c>] Batch [196/2077] mAP: 0.23585\n",
      "[2019-05-31 10:46:40,804 <ipython-input-2-7667fb18f09c>] Batch [197/2077] mAP: 0.23596\n"
     ]
    },
    {
     "name": "stdout",
     "output_type": "stream",
     "text": [
      "Pred: tensor([[254.7189, 240.4814, 305.6265, 367.1539]], device='cuda:0')\n",
      "GT: tensor([[272.0640, 249.6000, 297.0240, 353.8773]], device='cuda:0')\n",
      "Pred: tensor([[120.5900, 246.3626, 179.7283, 369.5494]], device='cuda:0')\n",
      "GT: tensor([[272.0640, 249.6000, 297.0240, 353.8773]], device='cuda:0')\n",
      "Pred: tensor([[254.7189, 240.4814, 305.6265, 367.1539]], device='cuda:0')\n",
      "GT: tensor([[141.4400, 260.6933, 168.8960, 353.8773]], device='cuda:0')\n",
      "Pred: tensor([[120.5900, 246.3626, 179.7283, 369.5494]], device='cuda:0')\n",
      "GT: tensor([[141.4400, 260.6933, 168.8960, 353.8773]], device='cuda:0')\n",
      "Pred: tensor([[135.4907, 152.5987, 223.6141, 198.4205]], device='cuda:0')\n",
      "GT: tensor([[258.7520, 167.5093, 278.7200, 198.5707]], device='cuda:0')\n",
      "Pred: tensor([[177.9251, 160.4358, 228.5268, 190.0111]], device='cuda:0')\n",
      "GT: tensor([[258.7520, 167.5093, 278.7200, 198.5707]], device='cuda:0')\n",
      "Pred: tensor([[223.0002, 168.2430, 257.5848, 187.5342]], device='cuda:0')\n",
      "GT: tensor([[258.7520, 167.5093, 278.7200, 198.5707]], device='cuda:0')\n",
      "Pred: tensor([[135.4907, 152.5987, 223.6141, 198.4205]], device='cuda:0')\n",
      "GT: tensor([[157.2480, 163.0720, 235.4560, 204.1173]], device='cuda:0')\n",
      "Pred: tensor([[177.9251, 160.4358, 228.5268, 190.0111]], device='cuda:0')\n",
      "GT: tensor([[157.2480, 163.0720, 235.4560, 204.1173]], device='cuda:0')\n",
      "Pred: tensor([[223.0002, 168.2430, 257.5848, 187.5342]], device='cuda:0')\n",
      "GT: tensor([[157.2480, 163.0720, 235.4560, 204.1173]], device='cuda:0')\n",
      "Pred: tensor([[135.4907, 152.5987, 223.6141, 198.4205]], device='cuda:0')\n",
      "GT: tensor([[ 67.3920, 168.6187, 128.1280, 199.6800]], device='cuda:0')\n",
      "Pred: tensor([[177.9251, 160.4358, 228.5268, 190.0111]], device='cuda:0')\n",
      "GT: tensor([[ 67.3920, 168.6187, 128.1280, 199.6800]], device='cuda:0')\n",
      "Pred: tensor([[223.0002, 168.2430, 257.5848, 187.5342]], device='cuda:0')\n",
      "GT: tensor([[ 67.3920, 168.6187, 128.1280, 199.6800]], device='cuda:0')\n",
      "Pred: tensor([[135.4907, 152.5987, 223.6141, 198.4205]], device='cuda:0')\n",
      "GT: tensor([[ 32.4480, 170.8373,  69.8880, 205.2267]], device='cuda:0')\n",
      "Pred: tensor([[177.9251, 160.4358, 228.5268, 190.0111]], device='cuda:0')\n",
      "GT: tensor([[ 32.4480, 170.8373,  69.8880, 205.2267]], device='cuda:0')\n",
      "Pred: tensor([[223.0002, 168.2430, 257.5848, 187.5342]], device='cuda:0')\n",
      "GT: tensor([[ 32.4480, 170.8373,  69.8880, 205.2267]], device='cuda:0')\n",
      "Pred: tensor([[135.4907, 152.5987, 223.6141, 198.4205]], device='cuda:0')\n",
      "GT: tensor([[  4.9920, 165.2907,  36.6080, 203.0080]], device='cuda:0')\n",
      "Pred: tensor([[177.9251, 160.4358, 228.5268, 190.0111]], device='cuda:0')\n",
      "GT: tensor([[  4.9920, 165.2907,  36.6080, 203.0080]], device='cuda:0')\n",
      "Pred: tensor([[223.0002, 168.2430, 257.5848, 187.5342]], device='cuda:0')\n",
      "GT: tensor([[  4.9920, 165.2907,  36.6080, 203.0080]], device='cuda:0')\n",
      "Pred: tensor([[ 85.4045, 102.2543, 390.4432, 369.6163]], device='cuda:0')\n",
      "GT: tensor([[ 87.3600,  56.5760, 414.3360, 414.8907]], device='cuda:0')\n",
      "Pred: tensor([[ 85.4045, 102.2543, 390.4432, 369.6163]], device='cuda:0')\n",
      "GT: tensor([[ 77.3760, 175.2747, 204.6720, 336.1280]], device='cuda:0')\n",
      "Pred: tensor([[ 85.4045, 102.2543, 390.4432, 369.6163]], device='cuda:0')\n",
      "GT: tensor([[ 45.7600, 165.2907, 101.5040, 234.0693]], device='cuda:0')\n"
     ]
    },
    {
     "name": "stderr",
     "output_type": "stream",
     "text": [
      "[2019-05-31 10:46:40,845 <ipython-input-2-7667fb18f09c>] Batch [198/2077] mAP: 0.23464\n",
      "[2019-05-31 10:46:40,884 <ipython-input-2-7667fb18f09c>] Batch [199/2077] mAP: 0.23606\n",
      "[2019-05-31 10:46:40,922 <ipython-input-2-7667fb18f09c>] Batch [200/2077] mAP: 0.23748\n",
      "[2019-05-31 10:46:40,968 <ipython-input-2-7667fb18f09c>] Batch [201/2077] mAP: 0.24030\n",
      "[2019-05-31 10:46:40,999 <ipython-input-2-7667fb18f09c>] Batch [202/2077] mAP: 0.23985\n",
      "[2019-05-31 10:46:41,032 <ipython-input-2-7667fb18f09c>] Batch [203/2077] mAP: 0.23941\n",
      "[2019-05-31 10:46:41,065 <ipython-input-2-7667fb18f09c>] Batch [204/2077] mAP: 0.23853\n"
     ]
    },
    {
     "name": "stdout",
     "output_type": "stream",
     "text": [
      "Pred: tensor([[ 73.6223,  57.1739, 350.9702, 371.7446]], device='cuda:0')\n",
      "GT: tensor([[ 63.2320,  15.5307, 326.9760, 413.7813]], device='cuda:0')\n",
      "Pred: tensor([[187.3527, 188.5225, 299.1633, 342.2433]], device='cuda:0')\n",
      "GT: tensor([[159.7440, 188.8640, 341.6747, 344.4480]], device='cuda:0')\n",
      "Pred: tensor([[ -2.3658,  99.3325,  92.6649, 247.6863]], device='cuda:0')\n",
      "GT: tensor([[ 98.7307,  19.9680, 414.8907, 415.1680]], device='cuda:0')\n",
      "Pred: tensor([[ 91.5276,  39.2135, 399.4747, 371.5549]], device='cuda:0')\n",
      "GT: tensor([[ 98.7307,  19.9680, 414.8907, 415.1680]], device='cuda:0')\n",
      "Pred: tensor([[ -2.3658,  99.3325,  92.6649, 247.6863]], device='cuda:0')\n",
      "GT: tensor([[  0.0000, 133.1200,  74.3253, 254.5920]], device='cuda:0')\n"
     ]
    },
    {
     "name": "stderr",
     "output_type": "stream",
     "text": [
      "[2019-05-31 10:46:41,102 <ipython-input-2-7667fb18f09c>] Batch [205/2077] mAP: 0.23993\n",
      "[2019-05-31 10:46:41,153 <ipython-input-2-7667fb18f09c>] Batch [206/2077] mAP: 0.24000\n",
      "[2019-05-31 10:46:41,192 <ipython-input-2-7667fb18f09c>] Batch [207/2077] mAP: 0.24138\n",
      "[2019-05-31 10:46:41,231 <ipython-input-2-7667fb18f09c>] Batch [208/2077] mAP: 0.24007\n",
      "[2019-05-31 10:46:41,271 <ipython-input-2-7667fb18f09c>] Batch [209/2077] mAP: 0.24144\n"
     ]
    },
    {
     "name": "stdout",
     "output_type": "stream",
     "text": [
      "Pred: tensor([[ 32.4810,  92.2740, 306.6289, 393.7841]], device='cuda:0')\n",
      "GT: tensor([[  0.0000, 113.1520, 306.1760, 374.9547]], device='cuda:0')\n",
      "Pred: tensor([[103.7795, 351.8415, 124.1365, 376.0618]], device='cuda:0')\n",
      "GT: tensor([[366.9120,  88.4000, 382.7200, 142.1333]], device='cuda:0')\n",
      "Pred: tensor([[103.7795, 351.8415, 124.1365, 376.0618]], device='cuda:0')\n",
      "GT: tensor([[220.4800,  34.6667, 234.6240,  81.4667]], device='cuda:0')\n",
      "Pred: tensor([[103.7795, 351.8415, 124.1365, 376.0618]], device='cuda:0')\n",
      "GT: tensor([[ 98.1760, 346.6667, 121.4720, 372.6667]], device='cuda:0')\n",
      "Pred: tensor([[103.7795, 351.8415, 124.1365, 376.0618]], device='cuda:0')\n",
      "GT: tensor([[ 23.2960,  72.8000,  39.1040, 114.4000]], device='cuda:0')\n",
      "Pred: tensor([[ 68.2595, 176.0191, 361.6291, 291.2738]], device='cuda:0')\n",
      "GT: tensor([[ 70.7200, 177.4933, 391.8720, 283.9893]], device='cuda:0')\n",
      "Pred: tensor([[198.0841, 130.5925, 392.1397, 273.9646]], device='cuda:0')\n",
      "GT: tensor([[ 31.6160, 150.8693, 178.8800, 257.3653]], device='cuda:0')\n",
      "Pred: tensor([[144.9727, 260.6102, 266.0580, 397.3532]], device='cuda:0')\n",
      "GT: tensor([[103.3772, 269.5680, 297.6766, 375.2320]], device='cuda:0')\n"
     ]
    },
    {
     "name": "stderr",
     "output_type": "stream",
     "text": [
      "[2019-05-31 10:46:41,326 <ipython-input-2-7667fb18f09c>] Batch [210/2077] mAP: 0.24281\n",
      "[2019-05-31 10:46:41,391 <ipython-input-2-7667fb18f09c>] Batch [211/2077] mAP: 0.24242\n",
      "[2019-05-31 10:46:41,431 <ipython-input-2-7667fb18f09c>] Batch [212/2077] mAP: 0.24199\n",
      "[2019-05-31 10:46:41,483 <ipython-input-2-7667fb18f09c>] Batch [213/2077] mAP: 0.24425\n",
      "[2019-05-31 10:46:41,517 <ipython-input-2-7667fb18f09c>] Batch [214/2077] mAP: 0.24296\n"
     ]
    },
    {
     "name": "stdout",
     "output_type": "stream",
     "text": [
      "Pred: tensor([[ 90.3542,  50.5316, 386.9643, 379.6914]], device='cuda:0')\n",
      "GT: tensor([[ 62.4000,  40.6154, 415.1680, 414.7692]], device='cuda:0')\n",
      "Pred: tensor([[ 37.1540,  68.5852, 191.3675, 283.2779]], device='cuda:0')\n",
      "GT: tensor([[ 29.9520,  52.4685, 184.7040, 382.2703]], device='cuda:0')\n",
      "Pred: tensor([[ 39.3673, 187.1266, 198.8811, 347.4130]], device='cuda:0')\n",
      "GT: tensor([[ 58.2400, 184.1493, 194.6880, 362.7520]], device='cuda:0')\n",
      "Pred: tensor([[232.5119,  74.1415, 313.8218, 406.6873]], device='cuda:0')\n",
      "GT: tensor([[254.5920, 119.8080, 307.8400, 376.0640]], device='cuda:0')\n",
      "Pred: tensor([[232.5119,  74.1415, 313.8218, 406.6873]], device='cuda:0')\n",
      "GT: tensor([[256.2560, 137.5573, 287.8720, 239.6160]], device='cuda:0')\n"
     ]
    },
    {
     "name": "stderr",
     "output_type": "stream",
     "text": [
      "[2019-05-31 10:46:41,555 <ipython-input-2-7667fb18f09c>] Batch [215/2077] mAP: 0.24253\n",
      "[2019-05-31 10:46:41,594 <ipython-input-2-7667fb18f09c>] Batch [216/2077] mAP: 0.24301\n",
      "[2019-05-31 10:46:41,629 <ipython-input-2-7667fb18f09c>] Batch [217/2077] mAP: 0.23966\n",
      "[2019-05-31 10:46:41,662 <ipython-input-2-7667fb18f09c>] Batch [218/2077] mAP: 0.23924\n",
      "[2019-05-31 10:46:41,700 <ipython-input-2-7667fb18f09c>] Batch [219/2077] mAP: 0.24055\n"
     ]
    },
    {
     "name": "stdout",
     "output_type": "stream",
     "text": [
      "Pred: tensor([[133.4957,  84.7042, 459.7108, 198.1298]], device='cuda:0')\n",
      "GT: tensor([[227.9680, 100.7296, 376.8960, 179.2201]], device='cuda:0')\n",
      "Pred: tensor([[ 48.8159, 149.6031, 317.8238, 323.2792]], device='cuda:0')\n",
      "GT: tensor([[ 26.6240,  95.4027, 338.6240, 361.6427]], device='cuda:0')\n",
      "Pred: tensor([[125.5504, 166.5076, 299.7353, 309.6230]], device='cuda:0')\n",
      "GT: tensor([[ 64.8960, 167.5093, 353.6000, 306.1760]], device='cuda:0')\n",
      "Pred: "
     ]
    },
    {
     "name": "stderr",
     "output_type": "stream",
     "text": [
      "[2019-05-31 10:46:41,757 <ipython-input-2-7667fb18f09c>] Batch [220/2077] mAP: 0.24185\n",
      "[2019-05-31 10:46:41,815 <ipython-input-2-7667fb18f09c>] Batch [221/2077] mAP: 0.24315\n",
      "[2019-05-31 10:46:41,887 <ipython-input-2-7667fb18f09c>] Batch [222/2077] mAP: 0.24361\n",
      "[2019-05-31 10:46:41,946 <ipython-input-2-7667fb18f09c>] Batch [223/2077] mAP: 0.24490\n"
     ]
    },
    {
     "name": "stdout",
     "output_type": "stream",
     "text": [
      "tensor([[ 78.6684, 134.7584, 342.6137, 285.5980]], device='cuda:0')\n",
      "GT: tensor([[105.6640, 109.8240, 309.5040, 302.8480]], device='cuda:0')\n",
      "Pred: tensor([[ 89.6964,  95.4933, 272.9541, 368.8467]], device='cuda:0')\n",
      "GT: tensor([[ 71.5520,  12.2027, 279.5520, 414.8907]], device='cuda:0')\n",
      "Pred: tensor([[219.9953, 193.3551, 244.8875, 218.3450]], device='cuda:0')\n",
      "GT: tensor([[  0.0000, 207.4453, 163.0720, 414.8907]], device='cuda:0')\n",
      "Pred: tensor([[204.1404, 199.5747, 223.8869, 219.2290]], device='cuda:0')\n",
      "GT: tensor([[  0.0000, 207.4453, 163.0720, 414.8907]], device='cuda:0')\n",
      "Pred: tensor([[362.1234, 232.2526, 424.6018, 386.8493]], device='cuda:0')\n",
      "GT: tensor([[  0.0000, 207.4453, 163.0720, 414.8907]], device='cuda:0')\n",
      "Pred: tensor([[219.9953, 193.3551, 244.8875, 218.3450]], device='cuda:0')\n",
      "GT: tensor([[346.1120, 199.6800, 415.1680, 414.8907]], device='cuda:0')\n",
      "Pred: tensor([[204.1404, 199.5747, 223.8869, 219.2290]], device='cuda:0')\n",
      "GT: tensor([[346.1120, 199.6800, 415.1680, 414.8907]], device='cuda:0')\n",
      "Pred: tensor([[362.1234, 232.2526, 424.6018, 386.8493]], device='cuda:0')\n",
      "GT: tensor([[346.1120, 199.6800, 415.1680, 414.8907]], device='cuda:0')\n",
      "Pred: tensor([[104.9449, 178.6700, 235.0355, 298.4899]], device='cuda:0')\n",
      "GT: tensor([[ 94.8480, 166.4000, 255.4240, 319.4880]], device='cuda:0')\n"
     ]
    },
    {
     "name": "stderr",
     "output_type": "stream",
     "text": [
      "[2019-05-31 10:46:42,010 <ipython-input-2-7667fb18f09c>] Batch [224/2077] mAP: 0.24618\n",
      "[2019-05-31 10:46:42,066 <ipython-input-2-7667fb18f09c>] Batch [225/2077] mAP: 0.24576\n",
      "[2019-05-31 10:46:42,166 <ipython-input-2-7667fb18f09c>] Batch [226/2077] mAP: 0.24579\n"
     ]
    },
    {
     "name": "stdout",
     "output_type": "stream",
     "text": [
      "Pred: tensor([[ 45.9635, 115.3232, 302.1916, 429.5841]], device='cuda:0')\n",
      "GT: tensor([[  0.0000, 129.9219, 415.1680, 414.7508]], device='cuda:0')\n",
      "Pred: tensor([[328.2664, 115.9053, 399.5823, 227.5346]], device='cuda:0')\n",
      "GT: tensor([[ 70.7200,  65.4507, 304.5120, 376.0640]], device='cuda:0')\n",
      "Pred: tensor([[299.9204,  64.5319, 423.2246, 236.0500]], device='cuda:0')\n",
      "GT: tensor([[ 70.7200,  65.4507, 304.5120, 376.0640]], device='cuda:0')\n",
      "Pred: tensor([[328.2664, 115.9053, 399.5823, 227.5346]], device='cuda:0')\n",
      "GT: tensor([[ 80.7040,   0.0000, 133.9520, 119.8080]], device='cuda:0')\n",
      "Pred: tensor([[299.9204,  64.5319, 423.2246, 236.0500]], device='cuda:0')\n",
      "GT: tensor([[ 80.7040,   0.0000, 133.9520, 119.8080]], device='cuda:0')\n",
      "Pred: tensor([[328.2664, 115.9053, 399.5823, 227.5346]], device='cuda:0')\n",
      "GT: tensor([[302.0160,  61.0133, 403.5200, 237.3973]], device='cuda:0')\n",
      "Pred: tensor([[299.9204,  64.5319, 423.2246, 236.0500]], device='cuda:0')\n",
      "GT: tensor([[302.0160,  61.0133, 403.5200, 237.3973]], device='cuda:0')\n",
      "Pred: tensor([[ 61.2036, -19.6821, 145.3307, 130.3595]], device='cuda:0')\n",
      "GT: tensor([[247.1040,  13.3120, 282.0480,  78.7627]], device='cuda:0')\n"
     ]
    },
    {
     "name": "stderr",
     "output_type": "stream",
     "text": [
      "[2019-05-31 10:46:42,243 <ipython-input-2-7667fb18f09c>] Batch [227/2077] mAP: 0.24623\n",
      "[2019-05-31 10:46:42,297 <ipython-input-2-7667fb18f09c>] Batch [228/2077] mAP: 0.24582\n",
      "[2019-05-31 10:46:42,337 <ipython-input-2-7667fb18f09c>] Batch [229/2077] mAP: 0.24541\n",
      "[2019-05-31 10:46:42,414 <ipython-input-2-7667fb18f09c>] Batch [230/2077] mAP: 0.24628\n"
     ]
    },
    {
     "name": "stdout",
     "output_type": "stream",
     "text": [
      "Pred: tensor([[ 13.4935, 162.2251, 147.3951, 394.4056]], device='cuda:0')\n",
      "GT: tensor([[  0.0000,  39.1040, 414.8907, 415.1680]], device='cuda:0')\n",
      "Pred: tensor([[-11.7591,  41.5601, 159.3811, 195.8380]], device='cuda:0')\n",
      "GT: tensor([[  0.0000,  39.1040, 414.8907, 415.1680]], device='cuda:0')\n",
      "Pred: tensor([[ 13.4935, 162.2251, 147.3951, 394.4056]], device='cuda:0')\n",
      "GT: tensor([[  0.0000,   0.0000, 158.6347, 205.5040]], device='cuda:0')\n",
      "Pred: tensor([[-11.7591,  41.5601, 159.3811, 195.8380]], device='cuda:0')\n",
      "GT: tensor([[  0.0000,   0.0000, 158.6347, 205.5040]], device='cuda:0')\n",
      "Pred: tensor([[156.9165,  84.8819, 467.7042, 379.2980]], device='cuda:0')\n",
      "GT: tensor([[225.4720, 120.0952, 396.8640, 315.7143]], device='cuda:0')\n",
      "Pred: tensor([[156.9165,  84.8819, 467.7042, 379.2980]], device='cuda:0')\n",
      "GT: tensor([[216.3200, 116.3810, 270.4000, 221.6190]], device='cuda:0')\n",
      "Pred: tensor([[ 20.5504, 114.2779,  82.3042, 369.4713]], device='cuda:0')\n",
      "GT: tensor([[322.8160, 111.4286, 340.2880, 143.6190]], device='cuda:0')\n",
      "Pred: tensor([[100.7011, 110.5709, 197.5884, 364.7153]], device='cuda:0')\n",
      "GT: tensor([[322.8160, 111.4286, 340.2880, 143.6190]], device='cuda:0')\n",
      "Pred: tensor([[ 20.5504, 114.2779,  82.3042, 369.4713]], device='cuda:0')\n",
      "GT: tensor([[128.1280, 120.0952, 182.2080, 366.4762]], device='cuda:0')\n",
      "Pred: tensor([[100.7011, 110.5709, 197.5884, 364.7153]], device='cuda:0')\n",
      "GT: tensor([[128.1280, 120.0952, 182.2080, 366.4762]], device='cuda:0')\n",
      "Pred: tensor([[ 20.5504, 114.2779,  82.3042, 369.4713]], device='cuda:0')\n",
      "GT: tensor([[ 19.9680, 120.0952,  78.2080, 370.1905]], device='cuda:0')\n",
      "Pred: tensor([[ 20.5504, 114.2779,  82.3042, 369.4713]], device='cuda:0')\n",
      "GT: tensor([[173.0560, 162.1905, 194.6880, 205.5238]], device='cuda:0')\n",
      "Pred: tensor([[100.7011, 110.5709, 197.5884, 364.7153]], device='cuda:0')\n",
      "GT: tensor([[173.0560, 162.1905, 194.6880, 205.5238]], device='cuda:0')\n"
     ]
    },
    {
     "name": "stderr",
     "output_type": "stream",
     "text": [
      "[2019-05-31 10:46:42,453 <ipython-input-2-7667fb18f09c>] Batch [231/2077] mAP: 0.24752\n",
      "[2019-05-31 10:46:42,491 <ipython-input-2-7667fb18f09c>] Batch [232/2077] mAP: 0.24876\n",
      "[2019-05-31 10:46:42,523 <ipython-input-2-7667fb18f09c>] Batch [233/2077] mAP: 0.24836\n",
      "[2019-05-31 10:46:42,561 <ipython-input-2-7667fb18f09c>] Batch [234/2077] mAP: 0.24959\n",
      "[2019-05-31 10:46:42,599 <ipython-input-2-7667fb18f09c>] Batch [235/2077] mAP: 0.24918\n",
      "[2019-05-31 10:46:42,647 <ipython-input-2-7667fb18f09c>] Batch [236/2077] mAP: 0.24919\n"
     ]
    },
    {
     "name": "stdout",
     "output_type": "stream",
     "text": [
      "Pred: tensor([[133.1049, 192.6100, 273.6860, 349.2646]], device='cuda:0')\n",
      "GT: tensor([[110.6560, 159.7440, 272.8960, 378.2827]], device='cuda:0')\n",
      "Pred: tensor([[-56.2241,  64.6294, 466.6670, 354.8669]], device='cuda:0')\n",
      "GT: tensor([[  0.0000,  20.8000, 382.7200, 415.1680]], device='cuda:0')\n",
      "Pred: tensor([[146.6624,  66.6736, 324.0297, 303.5930]], device='cuda:0')\n",
      "GT: tensor([[117.3120,  63.1429, 346.1120, 313.2381]], device='cuda:0')\n",
      "Pred: tensor([[223.0369,  51.5583, 378.8170, 314.0050]], device='cuda:0')\n",
      "GT: tensor([[188.0320,   0.0000, 405.1840, 414.7508]], device='cuda:0')\n",
      "Pred: tensor([[ 59.4916, 287.4094,  99.5133, 390.2378]], device='cuda:0')\n",
      "GT: tensor([[206.1261, 178.8800, 262.3423, 222.1440]], device='cuda:0')\n",
      "Pred: tensor([[ 59.4916, 287.4094,  99.5133, 390.2378]], device='cuda:0')\n",
      "GT: tensor([[ 62.4625, 303.6800, 112.4324, 394.3680]], device='cuda:0')\n",
      "Pred: tensor([[ 59.4916, 287.4094,  99.5133, 390.2378]], device='cuda:0')\n",
      "GT: tensor([[  0.0000, 306.1760,  44.9730, 401.8560]], device='cuda:0')\n"
     ]
    },
    {
     "name": "stderr",
     "output_type": "stream",
     "text": [
      "[2019-05-31 10:46:42,695 <ipython-input-2-7667fb18f09c>] Batch [237/2077] mAP: 0.24919\n",
      "[2019-05-31 10:46:42,750 <ipython-input-2-7667fb18f09c>] Batch [238/2077] mAP: 0.24879\n",
      "[2019-05-31 10:46:42,806 <ipython-input-2-7667fb18f09c>] Batch [239/2077] mAP: 0.24640\n",
      "[2019-05-31 10:46:42,865 <ipython-input-2-7667fb18f09c>] Batch [240/2077] mAP: 0.24603\n"
     ]
    },
    {
     "name": "stdout",
     "output_type": "stream",
     "text": [
      "Pred: tensor([[207.0772,   4.2021, 278.8358, 343.8579]], device='cuda:0')\n",
      "GT: tensor([[197.1840,  67.6693, 278.7200, 272.8960]], device='cuda:0')\n",
      "Pred: tensor([[207.0772,   4.2021, 278.8358, 343.8579]], device='cuda:0')\n",
      "GT: tensor([[ 0.0000, 39.9360, 33.2800, 98.7307]], device='cuda:0')\n",
      "Pred: tensor([[  4.5281,  61.2787,  27.4087, 108.0947]], device='cuda:0')\n",
      "GT: tensor([[ 0.0000, 39.9360, 33.2800, 98.7307]], device='cuda:0')\n",
      "Pred: tensor([[ 81.7716,  -4.1585, 343.0394, 425.6252]], device='cuda:0')\n",
      "GT: tensor([[  0.0000,  72.2395,  57.4080, 414.7545]], device='cuda:0')\n",
      "Pred: tensor([[ 81.7716,  -4.1585, 343.0394, 425.6252]], device='cuda:0')\n",
      "GT: tensor([[129.7920,  23.6647, 305.3440, 414.7545]], device='cuda:0')\n",
      "Pred: tensor([[ 81.7716,  -4.1585, 343.0394, 425.6252]], device='cuda:0')\n",
      "GT: tensor([[103.1680,   6.2275, 208.0000, 414.7545]], device='cuda:0')\n"
     ]
    },
    {
     "name": "stderr",
     "output_type": "stream",
     "text": [
      "[2019-05-31 10:46:42,921 <ipython-input-2-7667fb18f09c>] Batch [241/2077] mAP: 0.24803\n",
      "[2019-05-31 10:46:42,980 <ipython-input-2-7667fb18f09c>] Batch [242/2077] mAP: 0.24921\n",
      "[2019-05-31 10:46:43,048 <ipython-input-2-7667fb18f09c>] Batch [243/2077] mAP: 0.24844\n",
      "[2019-05-31 10:46:43,090 <ipython-input-2-7667fb18f09c>] Batch [244/2077] mAP: 0.24728\n"
     ]
    },
    {
     "name": "stdout",
     "output_type": "stream",
     "text": [
      "Pred: tensor([[170.8682,  64.9559, 289.9737, 342.6122]], device='cuda:0')\n",
      "GT: tensor([[141.9947, 135.6160, 292.8640, 319.4880]], device='cuda:0')\n",
      "Pred: tensor([[157.6169,  10.7060, 304.9442, 348.5092]], device='cuda:0')\n",
      "GT: tensor([[129.7920,  66.5600, 312.8320, 288.7040]], device='cuda:0')\n",
      "Pred: tensor([[170.8682,  64.9559, 289.9737, 342.6122]], device='cuda:0')\n",
      "GT: tensor([[190.8053,  47.4240, 220.7573, 111.4880]], device='cuda:0')\n",
      "Pred: tensor([[ 68.0553,  53.9367, 355.4185, 361.4434]], device='cuda:0')\n",
      "GT: tensor([[190.8053,  47.4240, 220.7573, 111.4880]], device='cuda:0')\n",
      "Pred: tensor([[112.1337, 139.9121, 244.5825, 324.9412]], device='cuda:0')\n",
      "GT: tensor([[ 84.0320, 127.4234, 276.2240, 316.0601]], device='cuda:0')\n",
      "Pred: tensor([[102.8398, 105.8717, 315.4058, 363.5977]], device='cuda:0')\n",
      "GT: tensor([[113.1520,  77.6533, 293.6960, 366.0800]], device='cuda:0')\n",
      "Pred: tensor([[102.8398, 105.8717, 315.4058, 363.5977]], device='cuda:0')\n",
      "GT: tensor([[331.1360, 198.5707, 415.1680, 358.3147]], device='cuda:0')\n"
     ]
    },
    {
     "name": "stderr",
     "output_type": "stream",
     "text": [
      "[2019-05-31 10:46:43,125 <ipython-input-2-7667fb18f09c>] Batch [245/2077] mAP: 0.24689\n",
      "[2019-05-31 10:46:43,169 <ipython-input-2-7667fb18f09c>] Batch [246/2077] mAP: 0.24613\n",
      "[2019-05-31 10:46:43,218 <ipython-input-2-7667fb18f09c>] Batch [247/2077] mAP: 0.24578\n",
      "[2019-05-31 10:46:43,265 <ipython-input-2-7667fb18f09c>] Batch [248/2077] mAP: 0.24502\n",
      "[2019-05-31 10:46:43,297 <ipython-input-2-7667fb18f09c>] Batch [249/2077] mAP: 0.24465\n",
      "[2019-05-31 10:46:43,359 <ipython-input-2-7667fb18f09c>] Batch [250/2077] mAP: 0.24505\n"
     ]
    },
    {
     "name": "stdout",
     "output_type": "stream",
     "text": [
      "Pred: tensor([[193.4352, 244.1403, 239.2232, 292.8765]], device='cuda:0')\n",
      "GT: tensor([[208.8320, 252.3077, 264.5760, 312.6154]], device='cuda:0')\n",
      "Pred: tensor([[193.4352, 244.1403, 239.2232, 292.8765]], device='cuda:0')\n",
      "GT: tensor([[192.1920, 241.2308, 222.1440, 265.8462]], device='cuda:0')\n",
      "Pred: tensor([[ 51.5376, 122.0148, 180.4982, 403.1294]], device='cuda:0')\n",
      "GT: tensor([[ 48.2560, 145.3227, 178.8800, 378.2827]], device='cuda:0')\n",
      "Pred: tensor([[ 51.5376, 122.0148, 180.4982, 403.1294]], device='cuda:0')\n",
      "GT: tensor([[155.5840,  82.0907, 268.7360, 221.8667]], device='cuda:0')\n",
      "Pred: tensor([[ 51.5376, 122.0148, 180.4982, 403.1294]], device='cuda:0')\n",
      "GT: tensor([[280.3840,  84.3093, 389.3760, 330.5813]], device='cuda:0')\n",
      "Pred: tensor([[ 16.1204, 247.5432,  90.2914, 411.2057]], device='cuda:0')\n",
      "GT: tensor([[  0.0000,  74.3253, 405.1840, 414.8907]], device='cuda:0')\n",
      "Pred: tensor([[184.6381,  96.7606, 362.4722, 389.8300]], device='cuda:0')\n",
      "GT: tensor([[  0.0000,  74.3253, 405.1840, 414.8907]], device='cuda:0')\n",
      "Pred: tensor([[-40.6468, 243.7413, 132.9514, 370.7901]], device='cuda:0')\n",
      "GT: tensor([[  0.0000,  74.3253, 405.1840, 414.8907]], device='cuda:0')\n",
      "Pred: tensor([[ 13.6436,  50.9495, 464.0502, 357.7693]], device='cuda:0')\n",
      "GT: tensor([[  0.0000, 222.9760,  69.8880, 331.6907]], device='cuda:0')\n",
      "Pred: tensor([[391.5520, 212.8085, 405.1780, 246.4395]], device='cuda:0')\n",
      "GT: tensor([[  0.0000, 222.9760,  69.8880, 331.6907]], device='cuda:0')\n",
      "Pred: tensor([[  1.7011, 242.5368,  76.6068, 303.1557]], device='cuda:0')\n",
      "GT: tensor([[  0.0000, 222.9760,  69.8880, 331.6907]], device='cuda:0')\n",
      "Pred: tensor([[ 13.6436,  50.9495, 464.0502, 357.7693]], device='cuda:0')\n",
      "GT: tensor([[381.8880, 208.5547, 415.1680, 250.7093]], device='cuda:0')\n",
      "Pred: tensor([[391.5520, 212.8085, 405.1780, 246.4395]], device='cuda:0')\n",
      "GT: tensor([[381.8880, 208.5547, 415.1680, 250.7093]], device='cuda:0')\n",
      "Pred: tensor([[  1.7011, 242.5368,  76.6068, 303.1557]], device='cuda:0')\n",
      "GT: tensor([[381.8880, 208.5547, 415.1680, 250.7093]], device='cuda:0')\n"
     ]
    },
    {
     "name": "stderr",
     "output_type": "stream",
     "text": [
      "[2019-05-31 10:46:43,394 <ipython-input-2-7667fb18f09c>] Batch [251/2077] mAP: 0.24468\n",
      "[2019-05-31 10:46:43,458 <ipython-input-2-7667fb18f09c>] Batch [252/2077] mAP: 0.24545\n",
      "[2019-05-31 10:46:43,628 <ipython-input-2-7667fb18f09c>] Batch [253/2077] mAP: 0.24551\n"
     ]
    },
    {
     "name": "stdout",
     "output_type": "stream",
     "text": [
      "Pred: tensor([[115.8324, 174.6020, 243.4763, 432.9523]], device='cuda:0')\n",
      "GT: tensor([[ 67.3920, 186.3680, 247.9360, 414.8907]], device='cuda:0')\n",
      "Pred: tensor([[115.8324, 174.6020, 243.4763, 432.9523]], device='cuda:0')\n",
      "GT: tensor([[213.8240, 201.8987, 378.5600, 414.8907]], device='cuda:0')\n",
      "Pred: tensor([[155.3996, 112.0116, 449.0684, 372.8264]], device='cuda:0')\n",
      "GT: tensor([[186.3680,  61.2132, 400.1920, 414.7508]], device='cuda:0')\n",
      "Pred: tensor([[155.3996, 112.0116, 449.0684, 372.8264]], device='cuda:0')\n",
      "GT: tensor([[ 86.5280,  61.2132, 120.6400, 202.3784]], device='cuda:0')\n",
      "Pred: tensor([[361.2932,  83.0454, 389.5900, 138.6783]], device='cuda:0')\n",
      "GT: tensor([[ 86.5280,  61.2132, 120.6400, 202.3784]], device='cuda:0')\n",
      "Pred: tensor([[ 89.3754,  57.4105, 129.4134, 217.9379]], device='cuda:0')\n",
      "GT: tensor([[ 86.5280,  61.2132, 120.6400, 202.3784]], device='cuda:0')\n",
      "Pred: tensor([[155.3996, 112.0116, 449.0684, 372.8264]], device='cuda:0')\n",
      "GT: tensor([[106.4960,  61.2132, 136.4480, 191.1351]], device='cuda:0')\n",
      "Pred: tensor([[361.2932,  83.0454, 389.5900, 138.6783]], device='cuda:0')\n",
      "GT: tensor([[106.4960,  61.2132, 136.4480, 191.1351]], device='cuda:0')\n",
      "Pred: tensor([[ 89.3754,  57.4105, 129.4134, 217.9379]], device='cuda:0')\n",
      "GT: tensor([[106.4960,  61.2132, 136.4480, 191.1351]], device='cuda:0')\n",
      "Pred: tensor([[155.3996, 112.0116, 449.0684, 372.8264]], device='cuda:0')\n",
      "GT: tensor([[ 59.0720,  46.2222,  78.2080, 182.3904]], device='cuda:0')\n",
      "Pred: tensor([[361.2932,  83.0454, 389.5900, 138.6783]], device='cuda:0')\n",
      "GT: tensor([[ 59.0720,  46.2222,  78.2080, 182.3904]], device='cuda:0')\n",
      "Pred: tensor([[ 89.3754,  57.4105, 129.4134, 217.9379]], device='cuda:0')\n",
      "GT: tensor([[ 59.0720,  46.2222,  78.2080, 182.3904]], device='cuda:0')\n",
      "Pred: tensor([[155.3996, 112.0116, 449.0684, 372.8264]], device='cuda:0')\n",
      "GT: tensor([[ 71.5520,  66.2102,  89.0240, 162.4024]], device='cuda:0')\n",
      "Pred: tensor([[361.2932,  83.0454, 389.5900, 138.6783]], device='cuda:0')\n",
      "GT: tensor([[ 71.5520,  66.2102,  89.0240, 162.4024]], device='cuda:0')\n",
      "Pred: tensor([[ 89.3754,  57.4105, 129.4134, 217.9379]], device='cuda:0')\n",
      "GT: tensor([[ 71.5520,  66.2102,  89.0240, 162.4024]], device='cuda:0')\n",
      "Pred: tensor([[155.3996, 112.0116, 449.0684, 372.8264]], device='cuda:0')\n",
      "GT: tensor([[357.7600,  82.4504, 375.2320, 132.4204]], device='cuda:0')\n",
      "Pred: tensor([[361.2932,  83.0454, 389.5900, 138.6783]], device='cuda:0')\n",
      "GT: tensor([[357.7600,  82.4504, 375.2320, 132.4204]], device='cuda:0')\n",
      "Pred: tensor([[ 89.3754,  57.4105, 129.4134, 217.9379]], device='cuda:0')\n",
      "GT: tensor([[357.7600,  82.4504, 375.2320, 132.4204]], device='cuda:0')\n",
      "Pred: tensor([[155.3996, 112.0116, 449.0684, 372.8264]], device='cuda:0')\n",
      "GT: tensor([[378.5600,  86.1982, 398.5280, 149.9099]], device='cuda:0')\n",
      "Pred: tensor([[361.2932,  83.0454, 389.5900, 138.6783]], device='cuda:0')\n",
      "GT: tensor([[378.5600,  86.1982, 398.5280, 149.9099]], device='cuda:0')\n",
      "Pred: tensor([[ 89.3754,  57.4105, 129.4134, 217.9379]], device='cuda:0')\n",
      "GT: tensor([[378.5600,  86.1982, 398.5280, 149.9099]], device='cuda:0')\n",
      "Pred: tensor([[155.3996, 112.0116, 449.0684, 372.8264]], device='cuda:0')\n",
      "GT: tensor([[393.5360,  77.4535, 408.5120, 164.9009]], device='cuda:0')\n",
      "Pred: tensor([[361.2932,  83.0454, 389.5900, 138.6783]], device='cuda:0')\n",
      "GT: tensor([[393.5360,  77.4535, 408.5120, 164.9009]], device='cuda:0')\n",
      "Pred: tensor([[ 89.3754,  57.4105, 129.4134, 217.9379]], device='cuda:0')\n",
      "GT: tensor([[393.5360,  77.4535, 408.5120, 164.9009]], device='cuda:0')\n"
     ]
    },
    {
     "name": "stderr",
     "output_type": "stream",
     "text": [
      "[2019-05-31 10:46:43,666 <ipython-input-2-7667fb18f09c>] Batch [254/2077] mAP: 0.24514\n",
      "[2019-05-31 10:46:43,726 <ipython-input-2-7667fb18f09c>] Batch [255/2077] mAP: 0.24590\n",
      "[2019-05-31 10:46:43,799 <ipython-input-2-7667fb18f09c>] Batch [256/2077] mAP: 0.24481\n",
      "[2019-05-31 10:46:43,861 <ipython-input-2-7667fb18f09c>] Batch [257/2077] mAP: 0.24593\n"
     ]
    },
    {
     "name": "stdout",
     "output_type": "stream",
     "text": [
      "Pred: tensor([[141.2531,  71.1590, 330.2372, 357.8120]], device='cuda:0')\n",
      "GT: tensor([[120.6400,   0.0000, 333.6320, 373.2444]], device='cuda:0')\n",
      "Pred: tensor([[149.6021,  43.9599, 194.6903, 175.4393]], device='cuda:0')\n",
      "GT: tensor([[ 69.8880,  23.6647, 180.5440, 414.7545]], device='cuda:0')\n",
      "Pred: tensor([[149.6021,  43.9599, 194.6903, 175.4393]], device='cuda:0')\n",
      "GT: tensor([[126.4640,  34.8743, 186.3680, 271.5210]], device='cuda:0')\n",
      "Pred: tensor([[ 40.9518,  69.6354, 377.1932, 352.3033]], device='cuda:0')\n",
      "GT: tensor([[ 43.2640, 119.6712, 415.1680, 303.4521]], device='cuda:0')\n",
      "Pred: tensor([[ 88.6033,  65.1516, 390.5950, 407.3042]], device='cuda:0')\n",
      "GT: tensor([[ 69.9580,  77.3760, 388.5165, 384.3840]], device='cuda:0')\n"
     ]
    },
    {
     "name": "stderr",
     "output_type": "stream",
     "text": [
      "[2019-05-31 10:46:43,922 <ipython-input-2-7667fb18f09c>] Batch [258/2077] mAP: 0.24704\n",
      "[2019-05-31 10:46:43,977 <ipython-input-2-7667fb18f09c>] Batch [259/2077] mAP: 0.24668\n",
      "[2019-05-31 10:46:44,077 <ipython-input-2-7667fb18f09c>] Batch [260/2077] mAP: 0.24672\n",
      "[2019-05-31 10:46:44,122 <ipython-input-2-7667fb18f09c>] Batch [261/2077] mAP: 0.24745\n",
      "[2019-05-31 10:46:44,157 <ipython-input-2-7667fb18f09c>] Batch [262/2077] mAP: 0.24709\n",
      "[2019-05-31 10:46:44,197 <ipython-input-2-7667fb18f09c>] Batch [263/2077] mAP: 0.24819\n"
     ]
    },
    {
     "name": "stdout",
     "output_type": "stream",
     "text": [
      "Pred: tensor([[152.9029, 132.2958, 451.1888, 325.4600]], device='cuda:0')\n",
      "GT: tensor([[198.8480, 125.3547, 401.8560, 316.1600]], device='cuda:0')\n",
      "Pred: tensor([[152.9029, 132.2958, 451.1888, 325.4600]], device='cuda:0')\n",
      "GT: tensor([[  4.9920, 164.1813, 173.0560, 271.7867]], device='cuda:0')\n",
      "Pred: tensor([[168.9255, 244.9273, 184.2289, 281.5482]], device='cuda:0')\n",
      "GT: tensor([[  3.3280, 227.4133,  34.1120, 337.2373]], device='cuda:0')\n",
      "Pred: tensor([[168.9255, 244.9273, 184.2289, 281.5482]], device='cuda:0')\n",
      "GT: tensor([[172.2240, 240.7253, 185.5360, 279.5520]], device='cuda:0')\n",
      "Pred: tensor([[168.9255, 244.9273, 184.2289, 281.5482]], device='cuda:0')\n",
      "GT: tensor([[ 29.9520, 239.6160,  44.9280, 321.7067]], device='cuda:0')\n",
      "Pred: tensor([[168.9255, 244.9273, 184.2289, 281.5482]], device='cuda:0')\n",
      "GT: tensor([[192.1920, 231.8507, 199.6800, 251.8187]], device='cuda:0')\n",
      "Pred: tensor([[168.9255, 244.9273, 184.2289, 281.5482]], device='cuda:0')\n",
      "GT: tensor([[  0.0000, 244.0533,   5.8240, 288.4267]], device='cuda:0')\n",
      "Pred: tensor([[ -5.2276,  70.6776, 420.4112, 402.5977]], device='cuda:0')\n",
      "GT: tensor([[  0.0000,  46.5920, 414.8907, 415.1680]], device='cuda:0')\n",
      "Pred: tensor([[ 90.8774,  82.6428, 266.4610, 400.3279]], device='cuda:0')\n",
      "GT: tensor([[ 59.7228,  89.3630, 292.4356, 414.4593]], device='cuda:0')\n",
      "Pred: tensor([[ 59.9704, 117.5656, 291.1956, 323.0947]], device='cuda:0')\n",
      "GT: "
     ]
    },
    {
     "name": "stderr",
     "output_type": "stream",
     "text": [
      "[2019-05-31 10:46:44,237 <ipython-input-2-7667fb18f09c>] Batch [264/2077] mAP: 0.24928\n",
      "[2019-05-31 10:46:44,276 <ipython-input-2-7667fb18f09c>] Batch [265/2077] mAP: 0.25036\n",
      "[2019-05-31 10:46:44,315 <ipython-input-2-7667fb18f09c>] Batch [266/2077] mAP: 0.25072\n",
      "[2019-05-31 10:46:44,348 <ipython-input-2-7667fb18f09c>] Batch [267/2077] mAP: 0.24928\n",
      "[2019-05-31 10:46:44,387 <ipython-input-2-7667fb18f09c>] Batch [268/2077] mAP: 0.25036\n"
     ]
    },
    {
     "name": "stdout",
     "output_type": "stream",
     "text": [
      "tensor([[ 37.4400,  94.2933, 288.7040, 328.3627]], device='cuda:0')\n",
      "Pred: tensor([[ 37.2012,  86.7626, 262.2249, 388.5804]], device='cuda:0')\n",
      "GT: tensor([[  0.0000,  52.6933, 256.8800, 414.6133]], device='cuda:0')\n",
      "Pred: tensor([[171.0132, 107.7523, 387.5793, 366.1644]], device='cuda:0')\n",
      "GT: tensor([[173.0560,  36.6080, 378.5600, 414.8907]], device='cuda:0')\n",
      "Pred: tensor([[  8.2578, 123.7889, 344.3056, 304.6275]], device='cuda:0')\n",
      "GT: tensor([[  0.0000, 158.1796, 326.1440, 269.0299]], device='cuda:0')\n",
      "Pred: tensor([[127.2494,  42.9169, 168.8612,  72.4988]], device='cuda:0')\n",
      "GT: tensor([[358.5920,  29.9520, 373.5680,  59.9040]], device='cuda:0')\n",
      "Pred: tensor([[127.2494,  42.9169, 168.8612,  72.4988]], device='cuda:0')\n",
      "GT: tensor([[148.0960,  43.2640, 183.0400,  76.5440]], device='cuda:0')\n",
      "Pred: tensor([[127.2494,  42.9169, 168.8612,  72.4988]], device='cuda:0')\n",
      "GT: tensor([[ 96.5120,  53.2480, 123.1360,  78.7627]], device='cuda:0')\n"
     ]
    },
    {
     "name": "stderr",
     "output_type": "stream",
     "text": [
      "[2019-05-31 10:46:44,463 <ipython-input-2-7667fb18f09c>] Batch [269/2077] mAP: 0.24894\n",
      "[2019-05-31 10:46:44,555 <ipython-input-2-7667fb18f09c>] Batch [270/2077] mAP: 0.24755\n",
      "[2019-05-31 10:46:44,609 <ipython-input-2-7667fb18f09c>] Batch [271/2077] mAP: 0.24652\n"
     ]
    },
    {
     "name": "stdout",
     "output_type": "stream",
     "text": [
      "Pred: tensor([[127.2494,  42.9169, 168.8612,  72.4988]], device='cuda:0')\n",
      "GT: tensor([[128.9600,  38.8267, 163.9040,  75.4347]], device='cuda:0')\n",
      "Pred: tensor([[127.2494,  42.9169, 168.8612,  72.4988]], device='cuda:0')\n",
      "GT: tensor([[281.2160,  92.0747, 415.1680, 368.2987]], device='cuda:0')\n",
      "Pred: tensor([[127.2494,  42.9169, 168.8612,  72.4988]], device='cuda:0')\n",
      "GT: tensor([[ 65.7280,  96.5120, 177.2160, 363.8613]], device='cuda:0')\n",
      "Pred: tensor([[127.2494,  42.9169, 168.8612,  72.4988]], device='cuda:0')\n",
      "GT: tensor([[164.7360, 125.3547, 318.6560, 381.6107]], device='cuda:0')\n",
      "Pred: tensor([[127.2494,  42.9169, 168.8612,  72.4988]], device='cuda:0')\n",
      "GT: tensor([[  0.0000, 139.7760,  84.8640, 312.8320]], device='cuda:0')\n",
      "Pred: tensor([[197.9470,  94.2410, 410.3619, 434.8130]], device='cuda:0')\n",
      "GT: tensor([[ 57.4080, 115.3707, 205.5040, 414.8907]], device='cuda:0')\n",
      "Pred: tensor([[197.9470,  94.2410, 410.3619, 434.8130]], device='cuda:0')\n",
      "GT: tensor([[212.9920, 106.4960, 401.0240, 414.8907]], device='cuda:0')\n",
      "Pred: tensor([[197.9470,  94.2410, 410.3619, 434.8130]], device='cuda:0')\n",
      "GT: tensor([[180.5440,  83.2000, 271.2320, 414.8907]], device='cuda:0')\n",
      "Pred: tensor([[197.9470,  94.2410, 410.3619, 434.8130]], device='cuda:0')\n",
      "GT: tensor([[339.4560, 127.5733, 352.7680, 161.9627]], device='cuda:0')\n",
      "Pred: tensor([[197.9470,  94.2410, 410.3619, 434.8130]], device='cuda:0')\n",
      "GT: tensor([[361.9200, 123.1360, 376.8960, 160.8533]], device='cuda:0')\n",
      "Pred: tensor([[197.9470,  94.2410, 410.3619, 434.8130]], device='cuda:0')\n",
      "GT: tensor([[393.5360, 178.6027, 415.1680, 209.6640]], device='cuda:0')\n"
     ]
    },
    {
     "name": "stderr",
     "output_type": "stream",
     "text": [
      "[2019-05-31 10:46:44,657 <ipython-input-2-7667fb18f09c>] Batch [272/2077] mAP: 0.24414\n",
      "[2019-05-31 10:46:44,701 <ipython-input-2-7667fb18f09c>] Batch [273/2077] mAP: 0.24518\n",
      "[2019-05-31 10:46:44,758 <ipython-input-2-7667fb18f09c>] Batch [274/2077] mAP: 0.24588\n",
      "[2019-05-31 10:46:44,830 <ipython-input-2-7667fb18f09c>] Batch [275/2077] mAP: 0.24624\n",
      "[2019-05-31 10:46:44,868 <ipython-input-2-7667fb18f09c>] Batch [276/2077] mAP: 0.24557\n"
     ]
    },
    {
     "name": "stdout",
     "output_type": "stream",
     "text": [
      "Pred: tensor([[ 55.5270, 132.7226, 353.9400, 338.8567]], device='cuda:0')\n",
      "GT: tensor([[ 49.9200,  63.5016, 341.1200, 384.8972]], device='cuda:0')\n",
      "Pred: tensor([[ 18.2460,   2.0088, 399.7640, 409.4330]], device='cuda:0')\n",
      "GT: tensor([[ 19.9680,  26.3133, 386.0480, 393.4458]], device='cuda:0')\n",
      "Pred: tensor([[ 25.5160,  55.6284, 379.6387, 365.3296]], device='cuda:0')\n",
      "GT: tensor([[ 59.0720,  41.0453, 330.3040, 362.7520]], device='cuda:0')\n",
      "Pred: tensor([[ 25.5160,  55.6284, 379.6387, 365.3296]], device='cuda:0')\n",
      "GT: tensor([[329.4720, 123.1360, 357.7600, 188.5867]], device='cuda:0')\n",
      "Pred: tensor([[ 25.5160,  55.6284, 379.6387, 365.3296]], device='cuda:0')\n",
      "GT: tensor([[  0.0000,  83.2000, 123.9680, 266.2400]], device='cuda:0')\n"
     ]
    },
    {
     "name": "stderr",
     "output_type": "stream",
     "text": [
      "[2019-05-31 10:46:44,910 <ipython-input-2-7667fb18f09c>] Batch [277/2077] mAP: 0.24592\n",
      "[2019-05-31 10:46:44,949 <ipython-input-2-7667fb18f09c>] Batch [278/2077] mAP: 0.24595\n",
      "[2019-05-31 10:46:44,982 <ipython-input-2-7667fb18f09c>] Batch [279/2077] mAP: 0.24561\n",
      "[2019-05-31 10:46:45,020 <ipython-input-2-7667fb18f09c>] Batch [280/2077] mAP: 0.24597\n",
      "[2019-05-31 10:46:45,052 <ipython-input-2-7667fb18f09c>] Batch [281/2077] mAP: 0.24564\n",
      "[2019-05-31 10:46:45,089 <ipython-input-2-7667fb18f09c>] Batch [282/2077] mAP: 0.24498\n"
     ]
    },
    {
     "name": "stdout",
     "output_type": "stream",
     "text": [
      "Pred: tensor([[ 87.6345, 147.0211, 258.9667, 413.0562]], device='cuda:0')\n",
      "GT: tensor([[ 89.0240, 187.4773, 260.4160, 386.0480]], device='cuda:0')\n",
      "Pred: tensor([[182.2218,  73.7040, 225.6587, 144.0246]], device='cuda:0')\n",
      "GT: tensor([[177.8400,  55.7440, 234.0000, 149.7600]], device='cuda:0')\n",
      "Pred: tensor([[ 88.0398,  60.1735, 385.2254, 357.6085]], device='cuda:0')\n",
      "GT: tensor([[117.3120,  33.1327, 361.9200, 414.7729]], device='cuda:0')\n",
      "Pred: tensor([[ 38.1967, 126.0229, 199.5320, 360.9913]], device='cuda:0')\n",
      "GT: tensor([[ 30.7840, 133.8851, 295.3600, 414.8046]], device='cuda:0')\n"
     ]
    },
    {
     "name": "stderr",
     "output_type": "stream",
     "text": [
      "[2019-05-31 10:46:45,123 <ipython-input-2-7667fb18f09c>] Batch [283/2077] mAP: 0.24465\n",
      "[2019-05-31 10:46:45,182 <ipython-input-2-7667fb18f09c>] Batch [284/2077] mAP: 0.24566\n",
      "[2019-05-31 10:46:45,249 <ipython-input-2-7667fb18f09c>] Batch [285/2077] mAP: 0.24634\n",
      "[2019-05-31 10:46:45,307 <ipython-input-2-7667fb18f09c>] Batch [286/2077] mAP: 0.24834\n",
      "[2019-05-31 10:46:45,364 <ipython-input-2-7667fb18f09c>] Batch [287/2077] mAP: 0.24934\n"
     ]
    },
    {
     "name": "stdout",
     "output_type": "stream",
     "text": [
      "Pred: tensor([[ 83.3820,  -3.9577, 334.4242, 421.8602]], device='cuda:0')\n",
      "GT: tensor([[ 51.7512,  40.7680, 349.3206, 413.5040]], device='cuda:0')\n",
      "Pred: tensor([[ 64.2925,  48.5202, 212.2747, 291.4025]], device='cuda:0')\n",
      "GT: tensor([[ 29.9520,  82.3680, 193.0240, 253.7600]], device='cuda:0')\n",
      "Pred: tensor([[ 64.2925,  48.5202, 212.2747, 291.4025]], device='cuda:0')\n",
      "GT: tensor([[  1.1093,   0.0000, 113.1520, 198.0160]], device='cuda:0')\n",
      "Pred: tensor([[117.9641,  27.2297, 238.1017, 336.7755]], device='cuda:0')\n",
      "GT: tensor([[128.9600,  18.7387, 219.6480, 317.3093]], device='cuda:0')\n",
      "Pred: tensor([[133.5990,  32.9877, 263.5272, 385.7350]], device='cuda:0')\n",
      "GT: tensor([[135.6160, 129.9219, 274.5600, 359.7838]], device='cuda:0')\n",
      "Pred: tensor([[ 83.7271, 175.9424, 213.1378, 309.4516]], device='cuda:0')\n",
      "GT: tensor([[ 77.3760, 177.1089, 224.6400, 325.3861]], device='cuda:0')\n"
     ]
    },
    {
     "name": "stderr",
     "output_type": "stream",
     "text": [
      "[2019-05-31 10:46:45,433 <ipython-input-2-7667fb18f09c>] Batch [288/2077] mAP: 0.25000\n",
      "[2019-05-31 10:46:45,526 <ipython-input-2-7667fb18f09c>] Batch [289/2077] mAP: 0.25000\n",
      "[2019-05-31 10:46:45,590 <ipython-input-2-7667fb18f09c>] Batch [290/2077] mAP: 0.25066\n"
     ]
    },
    {
     "name": "stdout",
     "output_type": "stream",
     "text": [
      "Pred: tensor([[121.8361,  76.6119, 289.3808, 337.0818]], device='cuda:0')\n",
      "GT: tensor([[ 34.1120,  73.2160, 370.2400, 330.3040]], device='cuda:0')\n",
      "Pred: tensor([[  7.5260,  69.9773,  96.2076, 274.1664]], device='cuda:0')\n",
      "GT: tensor([[  0.0000,   0.0000, 112.3200, 257.0880]], device='cuda:0')\n",
      "Pred: tensor([[379.8506,  93.8232, 407.2920, 132.9791]], device='cuda:0')\n",
      "GT: tensor([[362.7520,  97.6213, 405.1840, 133.1200]], device='cuda:0')\n",
      "Pred: tensor([[286.9298, 128.9601, 316.9629, 224.3968]], device='cuda:0')\n",
      "GT: tensor([[295.3600, 133.1200, 322.8160, 258.4747]], device='cuda:0')\n",
      "Pred: tensor([[234.1851, 100.4838, 309.2201, 370.6531]], device='cuda:0')\n",
      "GT: tensor([[295.3600, 133.1200, 322.8160, 258.4747]], device='cuda:0')\n",
      "Pred: tensor([[286.9298, 128.9601, 316.9629, 224.3968]], device='cuda:0')\n",
      "GT: tensor([[267.9040, 124.2453, 302.8480, 254.0373]], device='cuda:0')\n",
      "Pred: tensor([[234.1851, 100.4838, 309.2201, 370.6531]], device='cuda:0')\n",
      "GT: tensor([[267.9040, 124.2453, 302.8480, 254.0373]], device='cuda:0')\n",
      "Pred: tensor([[286.9298, 128.9601, 316.9629, 224.3968]], device='cuda:0')\n",
      "GT: tensor([[238.7840, 134.2293, 277.8880, 326.1440]], device='cuda:0')\n",
      "Pred: tensor([[234.1851, 100.4838, 309.2201, 370.6531]], device='cuda:0')\n",
      "GT: tensor([[238.7840, 134.2293, 277.8880, 326.1440]], device='cuda:0')\n",
      "Pred: tensor([[ 64.3185,  40.5692, 345.8700, 390.1883]], device='cuda:0')\n",
      "GT: tensor([[ 68.2240,  80.9813, 320.3200, 353.8773]], device='cuda:0')\n"
     ]
    },
    {
     "name": "stderr",
     "output_type": "stream",
     "text": [
      "[2019-05-31 10:46:45,650 <ipython-input-2-7667fb18f09c>] Batch [291/2077] mAP: 0.25000\n",
      "[2019-05-31 10:46:45,702 <ipython-input-2-7667fb18f09c>] Batch [292/2077] mAP: 0.24967\n",
      "[2019-05-31 10:46:45,802 <ipython-input-2-7667fb18f09c>] Batch [293/2077] mAP: 0.24903\n",
      "[2019-05-31 10:46:45,842 <ipython-input-2-7667fb18f09c>] Batch [294/2077] mAP: 0.25000\n",
      "[2019-05-31 10:46:45,925 <ipython-input-2-7667fb18f09c>] Batch [295/2077] mAP: 0.24872\n"
     ]
    },
    {
     "name": "stdout",
     "output_type": "stream",
     "text": [
      "Pred: tensor([[329.1445, 295.2476, 410.5850, 380.6975]], device='cuda:0')\n",
      "GT: tensor([[363.5840, 292.8640, 415.1680, 384.9387]], device='cuda:0')\n",
      "Pred: tensor([[329.1445, 295.2476, 410.5850, 380.6975]], device='cuda:0')\n",
      "GT: tensor([[148.9280, 299.5200, 203.8400, 326.1440]], device='cuda:0')\n",
      "Pred: tensor([[ -6.3253, 277.5866,  94.6831, 347.6820]], device='cuda:0')\n",
      "GT: tensor([[148.9280, 299.5200, 203.8400, 326.1440]], device='cuda:0')\n",
      "Pred: tensor([[329.1445, 295.2476, 410.5850, 380.6975]], device='cuda:0')\n",
      "GT: tensor([[ 72.3840, 290.6453, 133.9520, 325.0347]], device='cuda:0')\n",
      "Pred: tensor([[ -6.3253, 277.5866,  94.6831, 347.6820]], device='cuda:0')\n",
      "GT: tensor([[ 72.3840, 290.6453, 133.9520, 325.0347]], device='cuda:0')\n",
      "Pred: tensor([[329.1445, 295.2476, 410.5850, 380.6975]], device='cuda:0')\n",
      "GT: tensor([[ 51.5840, 297.3013, 101.5040, 338.3467]], device='cuda:0')\n",
      "Pred: tensor([[ -6.3253, 277.5866,  94.6831, 347.6820]], device='cuda:0')\n",
      "GT: tensor([[ 51.5840, 297.3013, 101.5040, 338.3467]], device='cuda:0')\n",
      "Pred: tensor([[329.1445, 295.2476, 410.5850, 380.6975]], device='cuda:0')\n",
      "GT: tensor([[  0.0000, 282.8800,  55.7440, 341.6747]], device='cuda:0')\n",
      "Pred: tensor([[ -6.3253, 277.5866,  94.6831, 347.6820]], device='cuda:0')\n",
      "GT: tensor([[  0.0000, 282.8800,  55.7440, 341.6747]], device='cuda:0')\n",
      "Pred: tensor([[329.1445, 295.2476, 410.5850, 380.6975]], device='cuda:0')\n",
      "GT: tensor([[  0.0000, 303.9573,  32.4480, 349.4400]], device='cuda:0')\n",
      "Pred: tensor([[ -6.3253, 277.5866,  94.6831, 347.6820]], device='cuda:0')\n",
      "GT: tensor([[  0.0000, 303.9573,  32.4480, 349.4400]], device='cuda:0')\n",
      "Pred: tensor([[136.3158, 175.7730, 212.9234, 365.6496]], device='cuda:0')\n",
      "GT: tensor([[146.4320, 158.6347, 202.1760, 378.2827]], device='cuda:0')\n",
      "Pred: tensor([[114.1303, 155.0561, 315.5338, 435.4170]], device='cuda:0')\n",
      "GT: tensor([[119.8080, 162.6931, 306.1760, 414.9703]], device='cuda:0')\n",
      "Pred: tensor([[114.1303, 155.0561, 315.5338, 435.4170]], device='cuda:0')\n",
      "GT: tensor([[ 74.8800, 218.2970, 135.6160, 268.7525]], device='cuda:0')\n",
      "Pred: tensor([[110.8221,  -6.3056, 126.1383,  55.4053]], device='cuda:0')\n",
      "GT: tensor([[ 74.8800, 218.2970, 135.6160, 268.7525]], device='cuda:0')\n",
      "Pred: tensor([[127.0853,   6.7524, 154.3314,  41.1261]], device='cuda:0')\n",
      "GT: tensor([[ 74.8800, 218.2970, 135.6160, 268.7525]], device='cuda:0')\n",
      "Pred: tensor([[114.1303, 155.0561, 315.5338, 435.4170]], device='cuda:0')\n",
      "GT: tensor([[  0.8320, 166.8119,  14.9760, 206.9703]], device='cuda:0')\n",
      "Pred: tensor([[110.8221,  -6.3056, 126.1383,  55.4053]], device='cuda:0')\n",
      "GT: tensor([[  0.8320, 166.8119,  14.9760, 206.9703]], device='cuda:0')\n",
      "Pred: tensor([[127.0853,   6.7524, 154.3314,  41.1261]], device='cuda:0')\n",
      "GT: tensor([[  0.8320, 166.8119,  14.9760, 206.9703]], device='cuda:0')\n",
      "Pred: tensor([[114.1303, 155.0561, 315.5338, 435.4170]], device='cuda:0')\n",
      "GT: tensor([[  0.0000, 234.7723,  19.9680, 292.4356]], device='cuda:0')\n",
      "Pred: tensor([[110.8221,  -6.3056, 126.1383,  55.4053]], device='cuda:0')\n",
      "GT: tensor([[  0.0000, 234.7723,  19.9680, 292.4356]], device='cuda:0')\n",
      "Pred: tensor([[127.0853,   6.7524, 154.3314,  41.1261]], device='cuda:0')\n",
      "GT: tensor([[  0.0000, 234.7723,  19.9680, 292.4356]], device='cuda:0')\n"
     ]
    },
    {
     "name": "stderr",
     "output_type": "stream",
     "text": [
      "[2019-05-31 10:46:45,995 <ipython-input-2-7667fb18f09c>] Batch [296/2077] mAP: 0.25000\n",
      "[2019-05-31 10:46:46,029 <ipython-input-2-7667fb18f09c>] Batch [297/2077] mAP: 0.24936\n",
      "[2019-05-31 10:46:46,067 <ipython-input-2-7667fb18f09c>] Batch [298/2077] mAP: 0.24905\n",
      "[2019-05-31 10:46:46,108 <ipython-input-2-7667fb18f09c>] Batch [299/2077] mAP: 0.24779\n",
      "[2019-05-31 10:46:46,151 <ipython-input-2-7667fb18f09c>] Batch [300/2077] mAP: 0.24842\n"
     ]
    },
    {
     "name": "stdout",
     "output_type": "stream",
     "text": [
      "Pred: tensor([[227.4745, 179.2407, 300.9583, 253.9271]], device='cuda:0')\n",
      "GT: tensor([[ 46.5920, 206.1261, 136.4480, 254.8468]], device='cuda:0')\n",
      "Pred: tensor([[ 55.3500, 202.5712, 115.8787, 264.5128]], device='cuda:0')\n",
      "GT: tensor([[ 46.5920, 206.1261, 136.4480, 254.8468]], device='cuda:0')\n",
      "Pred: tensor([[227.4745, 179.2407, 300.9583, 253.9271]], device='cuda:0')\n",
      "GT: tensor([[219.6480, 204.8769, 309.5040, 248.6006]], device='cuda:0')\n",
      "Pred: tensor([[252.1625, 193.1409, 280.6774, 262.8853]], device='cuda:0')\n",
      "GT: tensor([[ 85.6960, 183.6396,  97.3440, 212.3724]], device='cuda:0')\n",
      "Pred: tensor([[205.7869, 195.8405, 289.9972, 241.0165]], device='cuda:0')\n",
      "GT: tensor([[ 85.6960, 183.6396,  97.3440, 212.3724]], device='cuda:0')\n",
      "Pred: tensor([[252.1625, 193.1409, 280.6774, 262.8853]], device='cuda:0')\n",
      "GT: tensor([[258.7520, 181.1411, 268.7360, 209.8739]], device='cuda:0')\n",
      "Pred: tensor([[205.7869, 195.8405, 289.9972, 241.0165]], device='cuda:0')\n",
      "GT: tensor([[258.7520, 181.1411, 268.7360, 209.8739]], device='cuda:0')\n",
      "Pred: tensor([[116.8452,  82.8769, 247.0073, 331.9628]], device='cuda:0')\n",
      "GT: tensor([[ 38.2720,  16.2402, 309.5040, 414.7508]], device='cuda:0')\n",
      "Pred: tensor([[ 91.2808, 255.4138, 191.5468, 411.2083]], device='cuda:0')\n",
      "GT: tensor([[223.8080, 338.6806, 256.2560, 414.9110]], device='cuda:0')\n",
      "Pred: tensor([[ 66.5735, 186.4524, 175.7208, 367.6864]], device='cuda:0')\n",
      "GT: tensor([[ 71.5520, 167.5093, 229.6320, 389.3760]], device='cuda:0')\n",
      "Pred: tensor([[ 66.5735, 186.4524, 175.7208, 367.6864]], device='cuda:0')\n",
      "GT: tensor([[209.6640, 179.7120, 368.5760, 392.7040]], device='cuda:0')\n"
     ]
    },
    {
     "name": "stderr",
     "output_type": "stream",
     "text": [
      "[2019-05-31 10:46:46,193 <ipython-input-2-7667fb18f09c>] Batch [301/2077] mAP: 0.24843\n",
      "[2019-05-31 10:46:46,226 <ipython-input-2-7667fb18f09c>] Batch [302/2077] mAP: 0.24812\n",
      "[2019-05-31 10:46:46,269 <ipython-input-2-7667fb18f09c>] Batch [303/2077] mAP: 0.24875\n",
      "[2019-05-31 10:46:46,302 <ipython-input-2-7667fb18f09c>] Batch [304/2077] mAP: 0.24813\n",
      "[2019-05-31 10:46:46,340 <ipython-input-2-7667fb18f09c>] Batch [305/2077] mAP: 0.24907\n"
     ]
    },
    {
     "name": "stdout",
     "output_type": "stream",
     "text": [
      "Pred: tensor([[106.7523, 183.1389, 231.3672, 297.7448]], device='cuda:0')\n",
      "GT: tensor([[106.4960, 165.2907, 210.4960, 297.3013]], device='cuda:0')\n",
      "Pred: tensor([[102.5551, 138.4354, 188.4477, 265.8399]], device='cuda:0')\n",
      "GT: tensor([[105.3867, 109.5385, 192.2844, 275.6923]], device='cuda:0')\n",
      "Pred: tensor([[102.5551, 138.4354, 188.4477, 265.8399]], device='cuda:0')\n",
      "GT: tensor([[  0.0000, 142.7692,  71.1822, 366.7692]], device='cuda:0')\n",
      "Pred: tensor([[141.6874, 161.0691, 278.9488, 328.1654]], device='cuda:0')\n",
      "GT: tensor([[114.8160, 169.7280, 307.0080, 325.0347]], device='cuda:0')\n"
     ]
    },
    {
     "name": "stderr",
     "output_type": "stream",
     "text": [
      "[2019-05-31 10:46:46,407 <ipython-input-2-7667fb18f09c>] Batch [306/2077] mAP: 0.24938\n",
      "[2019-05-31 10:46:46,455 <ipython-input-2-7667fb18f09c>] Batch [307/2077] mAP: 0.25000\n",
      "[2019-05-31 10:46:46,492 <ipython-input-2-7667fb18f09c>] Batch [308/2077] mAP: 0.24908\n",
      "[2019-05-31 10:46:46,526 <ipython-input-2-7667fb18f09c>] Batch [309/2077] mAP: 0.24877\n",
      "[2019-05-31 10:46:46,566 <ipython-input-2-7667fb18f09c>] Batch [310/2077] mAP: 0.24337\n"
     ]
    },
    {
     "name": "stdout",
     "output_type": "stream",
     "text": [
      "Pred: tensor([[142.9529, 119.1281, 208.7318, 412.6376]], device='cuda:0')\n",
      "GT: tensor([[148.9280, 131.9637, 200.5120, 410.9728]], device='cuda:0')\n",
      "Pred: tensor([[142.9529, 119.1281, 208.7318, 412.6376]], device='cuda:0')\n",
      "GT: tensor([[192.1920,  74.1511, 281.2160, 311.6858]], device='cuda:0')\n",
      "Pred: tensor([[114.2231, 117.5669, 253.5488, 353.7939]], device='cuda:0')\n",
      "GT: tensor([[104.8320, 127.5733, 271.2320, 339.4560]], device='cuda:0')\n"
     ]
    },
    {
     "name": "stderr",
     "output_type": "stream",
     "text": [
      "[2019-05-31 10:46:46,605 <ipython-input-2-7667fb18f09c>] Batch [311/2077] mAP: 0.24428\n",
      "[2019-05-31 10:46:46,699 <ipython-input-2-7667fb18f09c>] Batch [312/2077] mAP: 0.24431\n",
      "[2019-05-31 10:46:46,735 <ipython-input-2-7667fb18f09c>] Batch [313/2077] mAP: 0.24402\n",
      "[2019-05-31 10:46:46,773 <ipython-input-2-7667fb18f09c>] Batch [314/2077] mAP: 0.24492\n"
     ]
    },
    {
     "name": "stdout",
     "output_type": "stream",
     "text": [
      "Pred: tensor([[ 71.9212,   7.9206, 231.0241, 392.7019]], device='cuda:0')\n",
      "GT: tensor([[ 14.1440,  12.4925, 245.4400, 414.7508]], device='cuda:0')\n",
      "Pred: tensor([[286.5350, 256.3965, 321.6332, 302.6747]], device='cuda:0')\n",
      "GT: tensor([[324.4800, 247.3813, 371.9040, 303.9573]], device='cuda:0')\n",
      "Pred: tensor([[316.5362, 251.2992, 353.8778, 307.7292]], device='cuda:0')\n",
      "GT: tensor([[324.4800, 247.3813, 371.9040, 303.9573]], device='cuda:0')\n",
      "Pred: tensor([[333.9474, 244.3195, 390.7595, 312.5155]], device='cuda:0')\n",
      "GT: tensor([[324.4800, 247.3813, 371.9040, 303.9573]], device='cuda:0')\n",
      "Pred: tensor([[290.1458, 227.4309, 366.8364, 302.4962]], device='cuda:0')\n",
      "GT: tensor([[324.4800, 247.3813, 371.9040, 303.9573]], device='cuda:0')\n",
      "Pred: tensor([[286.5350, 256.3965, 321.6332, 302.6747]], device='cuda:0')\n",
      "GT: tensor([[282.0480, 256.2560, 329.4720, 300.6293]], device='cuda:0')\n",
      "Pred: tensor([[286.5350, 256.3965, 321.6332, 302.6747]], device='cuda:0')\n",
      "GT: tensor([[267.0720, 274.0053, 295.3600, 326.1440]], device='cuda:0')\n",
      "Pred: tensor([[316.5362, 251.2992, 353.8778, 307.7292]], device='cuda:0')\n",
      "GT: tensor([[267.0720, 274.0053, 295.3600, 326.1440]], device='cuda:0')\n",
      "Pred: tensor([[333.9474, 244.3195, 390.7595, 312.5155]], device='cuda:0')\n",
      "GT: tensor([[267.0720, 274.0053, 295.3600, 326.1440]], device='cuda:0')\n",
      "Pred: tensor([[290.1458, 227.4309, 366.8364, 302.4962]], device='cuda:0')\n",
      "GT: tensor([[267.0720, 274.0053, 295.3600, 326.1440]], device='cuda:0')\n",
      "Pred: tensor([[286.5350, 256.3965, 321.6332, 302.6747]], device='cuda:0')\n",
      "GT: tensor([[  0.0000, 268.4587,  14.9760, 287.3173]], device='cuda:0')\n",
      "Pred: tensor([[316.5362, 251.2992, 353.8778, 307.7292]], device='cuda:0')\n",
      "GT: tensor([[  0.0000, 268.4587,  14.9760, 287.3173]], device='cuda:0')\n",
      "Pred: tensor([[333.9474, 244.3195, 390.7595, 312.5155]], device='cuda:0')\n",
      "GT: tensor([[  0.0000, 268.4587,  14.9760, 287.3173]], device='cuda:0')\n",
      "Pred: tensor([[290.1458, 227.4309, 366.8364, 302.4962]], device='cuda:0')\n",
      "GT: tensor([[  0.0000, 268.4587,  14.9760, 287.3173]], device='cuda:0')\n",
      "Pred: tensor([[ 51.3470,  94.4686, 297.8416, 376.7438]], device='cuda:0')\n",
      "GT: tensor([[  0.0000,  78.0887, 313.6640, 414.5802]], device='cuda:0')\n"
     ]
    },
    {
     "name": "stderr",
     "output_type": "stream",
     "text": [
      "[2019-05-31 10:46:46,809 <ipython-input-2-7667fb18f09c>] Batch [315/2077] mAP: 0.24289\n",
      "[2019-05-31 10:46:46,847 <ipython-input-2-7667fb18f09c>] Batch [316/2077] mAP: 0.24379\n",
      "[2019-05-31 10:46:46,911 <ipython-input-2-7667fb18f09c>] Batch [317/2077] mAP: 0.24439\n",
      "[2019-05-31 10:46:46,959 <ipython-input-2-7667fb18f09c>] Batch [318/2077] mAP: 0.24528\n",
      "[2019-05-31 10:46:47,023 <ipython-input-2-7667fb18f09c>] Batch [319/2077] mAP: 0.24559\n"
     ]
    },
    {
     "name": "stdout",
     "output_type": "stream",
     "text": [
      "Pred: tensor([[ 94.1932,  20.5377, 185.2215, 200.4561]], device='cuda:0')\n",
      "GT: tensor([[ 96.5120,  28.9063, 171.3920, 196.0604]], device='cuda:0')\n",
      "Pred: tensor([[ 93.0841, 132.9314, 332.4936, 414.3573]], device='cuda:0')\n",
      "GT: tensor([[ 64.7111, 157.7333, 352.4445, 415.1333]], device='cuda:0')\n",
      "Pred: tensor([[ 93.0841, 132.9314, 332.4936, 414.3573]], device='cuda:0')\n",
      "GT: tensor([[139.8222,  50.2667, 358.2222, 322.4000]], device='cuda:0')\n",
      "Pred: tensor([[ 57.5770,  74.3191, 306.0002, 338.7068]], device='cuda:0')\n",
      "GT: tensor([[ 24.9600,  43.7237, 303.6800, 358.5345]], device='cuda:0')\n",
      "Pred: tensor([[ 52.1422, 153.2916, 236.7104, 379.6330]], device='cuda:0')\n",
      "GT: tensor([[278.7200, 231.8507, 415.1680, 414.8907]], device='cuda:0')\n",
      "Pred: tensor([[ 52.1422, 153.2916, 236.7104, 379.6330]], device='cuda:0')\n",
      "GT: tensor([[ 59.0720, 102.0587, 237.1200, 414.8907]], device='cuda:0')\n"
     ]
    },
    {
     "name": "stderr",
     "output_type": "stream",
     "text": [
      "[2019-05-31 10:46:47,085 <ipython-input-2-7667fb18f09c>] Batch [320/2077] mAP: 0.24590\n",
      "[2019-05-31 10:46:47,148 <ipython-input-2-7667fb18f09c>] Batch [321/2077] mAP: 0.24650\n",
      "[2019-05-31 10:46:47,211 <ipython-input-2-7667fb18f09c>] Batch [322/2077] mAP: 0.24737\n",
      "[2019-05-31 10:46:47,273 <ipython-input-2-7667fb18f09c>] Batch [323/2077] mAP: 0.24709\n"
     ]
    },
    {
     "name": "stdout",
     "output_type": "stream",
     "text": [
      "Pred: tensor([[258.1940,  86.3305, 406.5302, 439.7272]], device='cuda:0')\n",
      "GT: tensor([[148.9280,  96.5120, 415.1680, 414.8907]], device='cuda:0')\n",
      "Pred: tensor([[ -4.8060, 129.0315, 242.2801, 426.3644]], device='cuda:0')\n",
      "GT: tensor([[  6.6560, 143.9360, 204.1173, 415.1680]], device='cuda:0')\n",
      "Pred: tensor([[ 34.1189,  59.8167, 375.5454, 351.1146]], device='cuda:0')\n",
      "GT: tensor([[ 26.6240,  48.8107, 359.4240, 333.9093]], device='cuda:0')\n",
      "Pred: tensor([[111.9496, 185.1564, 223.3179, 342.7120]], device='cuda:0')\n",
      "GT: tensor([[  0.0000, 140.6080, 414.8907, 413.5040]], device='cuda:0')\n"
     ]
    },
    {
     "name": "stderr",
     "output_type": "stream",
     "text": [
      "[2019-05-31 10:46:47,338 <ipython-input-2-7667fb18f09c>] Batch [324/2077] mAP: 0.24796\n",
      "[2019-05-31 10:46:47,398 <ipython-input-2-7667fb18f09c>] Batch [325/2077] mAP: 0.24767\n",
      "[2019-05-31 10:46:47,458 <ipython-input-2-7667fb18f09c>] Batch [326/2077] mAP: 0.24624\n",
      "[2019-05-31 10:46:47,498 <ipython-input-2-7667fb18f09c>] Batch [327/2077] mAP: 0.24596\n"
     ]
    },
    {
     "name": "stdout",
     "output_type": "stream",
     "text": [
      "Pred: tensor([[150.1515,  69.0434, 265.6405, 330.2191]], device='cuda:0')\n",
      "GT: tensor([[121.4720,  62.9530, 273.7280, 312.2127]], device='cuda:0')\n",
      "Pred: tensor([[272.1359, 140.9981, 401.2469, 323.6758]], device='cuda:0')\n",
      "GT: tensor([[224.6400, 191.9147, 415.1680, 271.7867]], device='cuda:0')\n",
      "Pred: tensor([[ 54.4475, 176.6060, 163.9380, 244.2597]], device='cuda:0')\n",
      "GT: tensor([[ 98.7307, 165.5680, 160.8533, 233.7920]], device='cuda:0')\n",
      "Pred: tensor([[ 54.4475, 176.6060, 163.9380, 244.2597]], device='cuda:0')\n",
      "GT: tensor([[ 45.4827, 184.7040,  87.6373, 232.1280]], device='cuda:0')\n",
      "Pred: tensor([[ 54.4475, 176.6060, 163.9380, 244.2597]], device='cuda:0')\n",
      "GT: tensor([[ 85.4187, 192.1920, 125.3547, 232.1280]], device='cuda:0')\n",
      "Pred: tensor([[210.0756, 103.1153, 274.3330, 137.6262]], device='cuda:0')\n",
      "GT: tensor([[203.8400, 123.7600, 260.6933, 157.0400]], device='cuda:0')\n",
      "Pred: tensor([[ 53.3776, 112.9531, 364.6499, 375.8663]], device='cuda:0')\n",
      "GT: "
     ]
    },
    {
     "name": "stderr",
     "output_type": "stream",
     "text": [
      "[2019-05-31 10:46:47,562 <ipython-input-2-7667fb18f09c>] Batch [328/2077] mAP: 0.24569\n",
      "[2019-05-31 10:46:47,629 <ipython-input-2-7667fb18f09c>] Batch [329/2077] mAP: 0.24485\n",
      "[2019-05-31 10:46:47,673 <ipython-input-2-7667fb18f09c>] Batch [330/2077] mAP: 0.24208\n",
      "[2019-05-31 10:46:47,713 <ipython-input-2-7667fb18f09c>] Batch [331/2077] mAP: 0.24126\n"
     ]
    },
    {
     "name": "stdout",
     "output_type": "stream",
     "text": [
      "tensor([[ 11.4975, 141.4400, 401.3668, 400.1920]], device='cuda:0')\n",
      "Pred: tensor([[ 53.3776, 112.9531, 364.6499, 375.8663]], device='cuda:0')\n",
      "GT: tensor([[258.1709, 115.6480, 320.8844, 151.4240]], device='cuda:0')\n",
      "Pred: tensor([[ 53.3776, 112.9531, 364.6499, 375.8663]], device='cuda:0')\n",
      "GT: tensor([[311.4774, 180.5440, 389.8694, 213.8240]], device='cuda:0')\n",
      "Pred: tensor([[ 53.3776, 112.9531, 364.6499, 375.8663]], device='cuda:0')\n",
      "GT: tensor([[183.9598, 136.4480, 244.5829, 168.0640]], device='cuda:0')\n",
      "Pred: tensor([[ 10.0100, 130.6766,  25.8270, 212.1394]], device='cuda:0')\n",
      "GT: tensor([[  4.1809, 144.7680,  44.9447, 177.2160]], device='cuda:0')\n",
      "Pred: tensor([[279.4099, 109.7281, 384.6664, 300.1554]], device='cuda:0')\n",
      "GT: tensor([[298.4107, 139.7760, 413.7813, 355.2640]], device='cuda:0')\n",
      "Pred: tensor([[279.4099, 109.7281, 384.6664, 300.1554]], device='cuda:0')\n",
      "GT: tensor([[137.5573, 101.5040, 313.9413, 394.3680]], device='cuda:0')\n",
      "Pred: tensor([[279.4099, 109.7281, 384.6664, 300.1554]], device='cuda:0')\n",
      "GT: tensor([[  0.0000,  38.2720, 228.5227, 415.1680]], device='cuda:0')\n",
      "Pred: tensor([[359.6662, 318.2393, 425.5920, 416.8568]], device='cuda:0')\n",
      "GT: tensor([[302.8480, 241.8347, 377.7280, 369.4080]], device='cuda:0')\n"
     ]
    },
    {
     "name": "stderr",
     "output_type": "stream",
     "text": [
      "[2019-05-31 10:46:47,749 <ipython-input-2-7667fb18f09c>] Batch [332/2077] mAP: 0.24099\n",
      "[2019-05-31 10:46:47,784 <ipython-input-2-7667fb18f09c>] Batch [333/2077] mAP: 0.23831\n",
      "[2019-05-31 10:46:47,817 <ipython-input-2-7667fb18f09c>] Batch [334/2077] mAP: 0.23804\n",
      "[2019-05-31 10:46:47,849 <ipython-input-2-7667fb18f09c>] Batch [335/2077] mAP: 0.23778\n",
      "[2019-05-31 10:46:47,883 <ipython-input-2-7667fb18f09c>] Batch [336/2077] mAP: 0.23751\n",
      "[2019-05-31 10:46:47,916 <ipython-input-2-7667fb18f09c>] Batch [337/2077] mAP: 0.23725\n",
      "[2019-05-31 10:46:47,975 <ipython-input-2-7667fb18f09c>] Batch [338/2077] mAP: 0.23646\n",
      "[2019-05-31 10:46:48,029 <ipython-input-2-7667fb18f09c>] Batch [339/2077] mAP: 0.23620\n",
      "[2019-05-31 10:46:48,086 <ipython-input-2-7667fb18f09c>] Batch [340/2077] mAP: 0.23789\n",
      "[2019-05-31 10:46:48,129 <ipython-input-2-7667fb18f09c>] Batch [341/2077] mAP: 0.23872\n",
      "[2019-05-31 10:46:48,168 <ipython-input-2-7667fb18f09c>] Batch [342/2077] mAP: 0.23956\n"
     ]
    },
    {
     "name": "stdout",
     "output_type": "stream",
     "text": [
      "Pred: tensor([[ 85.8357, 233.7690, 184.7961, 373.7145]], device='cuda:0')\n",
      "GT: tensor([[ 52.4160, 256.9412,  99.8400, 310.3315]], device='cuda:0')\n",
      "Pred: tensor([[378.8409, 211.5128, 407.4602, 277.7023]], device='cuda:0')\n",
      "GT: tensor([[373.2857, 204.2857, 401.1429, 292.1905]], device='cuda:0')\n",
      "Pred: tensor([[ 50.8033, 148.9409, 376.1857, 322.0605]], device='cuda:0')\n",
      "GT: tensor([[ 73.3571, 136.1905, 367.7143, 318.1905]], device='cuda:0')\n",
      "Pred: tensor([[138.1051,  40.5309, 388.7379, 364.7163]], device='cuda:0')\n",
      "GT: tensor([[152.2560,   2.4985, 349.4400, 376.0240]], device='cuda:0')\n",
      "Pred: tensor([[140.7556,  86.2445, 289.2968, 348.7151]], device='cuda:0')\n",
      "GT: tensor([[127.5733,  81.5360, 281.7707, 353.6000]], device='cuda:0')\n"
     ]
    },
    {
     "name": "stderr",
     "output_type": "stream",
     "text": [
      "[2019-05-31 10:46:48,222 <ipython-input-2-7667fb18f09c>] Batch [343/2077] mAP: 0.23877\n",
      "[2019-05-31 10:46:48,262 <ipython-input-2-7667fb18f09c>] Batch [344/2077] mAP: 0.23961\n",
      "[2019-05-31 10:46:48,305 <ipython-input-2-7667fb18f09c>] Batch [345/2077] mAP: 0.23934\n",
      "[2019-05-31 10:46:48,349 <ipython-input-2-7667fb18f09c>] Batch [346/2077] mAP: 0.23965\n"
     ]
    },
    {
     "name": "stdout",
     "output_type": "stream",
     "text": [
      "Pred: tensor([[132.8370, 167.6537, 172.1052, 297.0118]], device='cuda:0')\n",
      "GT: tensor([[145.6000, 181.9242, 161.4080, 268.0350]], device='cuda:0')\n",
      "Pred: tensor([[150.3507, 193.5558, 192.0054, 267.9100]], device='cuda:0')\n",
      "GT: tensor([[145.6000, 181.9242, 161.4080, 268.0350]], device='cuda:0')\n",
      "Pred: tensor([[132.8370, 167.6537, 172.1052, 297.0118]], device='cuda:0')\n",
      "GT: tensor([[163.9040, 186.7755, 182.2080, 264.3965]], device='cuda:0')\n",
      "Pred: tensor([[150.3507, 193.5558, 192.0054, 267.9100]], device='cuda:0')\n",
      "GT: tensor([[163.9040, 186.7755, 182.2080, 264.3965]], device='cuda:0')\n",
      "Pred: tensor([[251.0957, 156.6785, 367.2742, 309.6003]], device='cuda:0')\n",
      "GT: tensor([[252.0960, 172.3428, 374.4000, 334.7809]], device='cuda:0')\n",
      "Pred: tensor([[265.4893, 157.0573, 406.2821, 310.1324]], device='cuda:0')\n",
      "GT: tensor([[ 65.7280, 109.9339, 415.1680, 368.5285]], device='cuda:0')\n",
      "Pred: tensor([[185.3028, 126.6977, 482.2998, 345.1515]], device='cuda:0')\n",
      "GT: tensor([[ 65.7280, 109.9339, 415.1680, 368.5285]], device='cuda:0')\n",
      "Pred: tensor([[175.2109, 124.6675, 300.8402, 353.6541]], device='cuda:0')\n",
      "GT: tensor([[191.3600, 127.5733, 317.8240, 348.3307]], device='cuda:0')\n",
      "Pred: tensor([[175.2109, 124.6675, 300.8402, 353.6541]], device='cuda:0')\n",
      "GT: tensor([[155.5840, 158.6347, 228.8000, 346.1120]], device='cuda:0')\n",
      "Pred: tensor([[203.1906, 283.9189, 404.7017, 399.7583]], device='cuda:0')\n",
      "GT: tensor([[296.1920,  57.4655, 364.4160,  94.9429]], device='cuda:0')\n",
      "Pred: tensor([[ 46.0925, 288.9382, 172.8957, 396.5101]], device='cuda:0')\n",
      "GT: tensor([[296.1920,  57.4655, 364.4160,  94.9429]], device='cuda:0')\n",
      "Pred: tensor([[203.1906, 283.9189, 404.7017, 399.7583]], device='cuda:0')\n",
      "GT: tensor([[236.2880, 303.5676, 393.5360, 391.0150]], device='cuda:0')\n",
      "Pred: tensor([[203.1906, 283.9189, 404.7017, 399.7583]], device='cuda:0')\n",
      "GT: tensor([[ 18.3040, 296.0721, 202.1760, 396.0120]], device='cuda:0')\n",
      "Pred: tensor([[ 46.0925, 288.9382, 172.8957, 396.5101]], device='cuda:0')\n",
      "GT: "
     ]
    },
    {
     "name": "stderr",
     "output_type": "stream",
     "text": [
      "[2019-05-31 10:46:48,409 <ipython-input-2-7667fb18f09c>] Batch [347/2077] mAP: 0.24104\n",
      "[2019-05-31 10:46:48,476 <ipython-input-2-7667fb18f09c>] Batch [348/2077] mAP: 0.24269\n",
      "[2019-05-31 10:46:48,574 <ipython-input-2-7667fb18f09c>] Batch [349/2077] mAP: 0.24086\n"
     ]
    },
    {
     "name": "stdout",
     "output_type": "stream",
     "text": [
      "tensor([[ 18.3040, 296.0721, 202.1760, 396.0120]], device='cuda:0')\n",
      "Pred: tensor([[247.2645, 134.3515, 400.8632, 411.8247]], device='cuda:0')\n",
      "GT: tensor([[258.7520, 120.9173, 396.0320, 414.8907]], device='cuda:0')\n",
      "Pred: tensor([[ 54.4290, 102.6482, 175.9448, 240.9779]], device='cuda:0')\n",
      "GT: tensor([[ 61.5680,  94.2933, 180.5440, 245.1627]], device='cuda:0')\n",
      "Pred: tensor([[ 70.6748,  46.0592, 158.5133, 392.1306]], device='cuda:0')\n",
      "GT: tensor([[ 70.7200,  90.9653, 125.6320, 346.1120]], device='cuda:0')\n",
      "Pred: tensor([[ 70.6748,  46.0592, 158.5133, 392.1306]], device='cuda:0')\n",
      "GT: tensor([[118.9760, 116.4800, 160.5760, 346.1120]], device='cuda:0')\n",
      "Pred: tensor([[ 70.6748,  46.0592, 158.5133, 392.1306]], device='cuda:0')\n",
      "GT: tensor([[247.9360, 187.4773, 260.4160, 238.5067]], device='cuda:0')\n",
      "Pred: tensor([[ 70.6748,  46.0592, 158.5133, 392.1306]], device='cuda:0')\n",
      "GT: tensor([[169.7280, 193.0240, 178.8800, 235.1787]], device='cuda:0')\n",
      "Pred: tensor([[ 70.6748,  46.0592, 158.5133, 392.1306]], device='cuda:0')\n",
      "GT: tensor([[178.0480, 194.1333, 188.0320, 234.0693]], device='cuda:0')\n",
      "Pred: tensor([[ 70.6748,  46.0592, 158.5133, 392.1306]], device='cuda:0')\n",
      "GT: tensor([[158.0800, 197.4613, 168.8960, 230.7413]], device='cuda:0')\n"
     ]
    },
    {
     "name": "stderr",
     "output_type": "stream",
     "text": [
      "[2019-05-31 10:46:48,635 <ipython-input-2-7667fb18f09c>] Batch [350/2077] mAP: 0.24009\n",
      "[2019-05-31 10:46:48,694 <ipython-input-2-7667fb18f09c>] Batch [351/2077] mAP: 0.24064\n",
      "[2019-05-31 10:46:48,750 <ipython-input-2-7667fb18f09c>] Batch [352/2077] mAP: 0.24038\n",
      "[2019-05-31 10:46:48,813 <ipython-input-2-7667fb18f09c>] Batch [353/2077] mAP: 0.24120\n"
     ]
    },
    {
     "name": "stdout",
     "output_type": "stream",
     "text": [
      "Pred: tensor([[140.0710, 197.1347, 335.1414, 356.3326]], device='cuda:0')\n",
      "GT: tensor([[179.7120, 232.3604, 287.0400, 317.3093]], device='cuda:0')\n",
      "Pred: tensor([[140.0710, 197.1347, 335.1414, 356.3326]], device='cuda:0')\n",
      "GT: tensor([[214.6560, 202.3784, 239.6160, 229.8619]], device='cuda:0')\n",
      "Pred: tensor([[140.0710, 197.1347, 335.1414, 356.3326]], device='cuda:0')\n",
      "GT: tensor([[128.9600, 188.6366, 164.7360, 214.8709]], device='cuda:0')\n",
      "Pred: tensor([[ 21.1791, 167.0554, 132.7372, 379.8521]], device='cuda:0')\n",
      "GT: tensor([[  0.0000, 188.0320, 127.5733, 381.0560]], device='cuda:0')\n",
      "Pred: tensor([[ 35.4475, 138.5519, 314.3278, 392.6059]], device='cuda:0')\n",
      "GT: tensor([[ 11.6480, 118.6987, 299.5200, 378.2827]], device='cuda:0')\n"
     ]
    },
    {
     "name": "stderr",
     "output_type": "stream",
     "text": [
      "[2019-05-31 10:46:48,877 <ipython-input-2-7667fb18f09c>] Batch [354/2077] mAP: 0.24149\n",
      "[2019-05-31 10:46:48,955 <ipython-input-2-7667fb18f09c>] Batch [355/2077] mAP: 0.24204\n",
      "[2019-05-31 10:46:49,008 <ipython-input-2-7667fb18f09c>] Batch [356/2077] mAP: 0.24153\n",
      "[2019-05-31 10:46:49,064 <ipython-input-2-7667fb18f09c>] Batch [357/2077] mAP: 0.24233\n"
     ]
    },
    {
     "name": "stdout",
     "output_type": "stream",
     "text": [
      "Pred: tensor([[154.5741, 171.3007, 275.6658, 323.5344]], device='cuda:0')\n",
      "GT: tensor([[148.0960, 143.1040, 268.7360, 363.8613]], device='cuda:0')\n",
      "Pred: tensor([[274.8333, 172.0340, 383.4109, 266.6705]], device='cuda:0')\n",
      "GT: tensor([[275.3920, 189.7810, 389.3760, 255.0657]], device='cuda:0')\n",
      "Pred: tensor([[274.8333, 172.0340, 383.4109, 266.6705]], device='cuda:0')\n",
      "GT: tensor([[  0.0000, 133.6058, 247.1040, 255.0657]], device='cuda:0')\n",
      "Pred: tensor([[ 47.0162, 164.9072, 160.1678, 266.6749]], device='cuda:0')\n",
      "GT: tensor([[  0.0000, 133.6058, 247.1040, 255.0657]], device='cuda:0')\n",
      "Pred: tensor([[347.0499, 112.3875, 392.3868, 187.0128]], device='cuda:0')\n",
      "GT: tensor([[149.7600,   0.0000, 415.1680, 414.8907]], device='cuda:0')\n",
      "Pred: tensor([[347.0499, 112.3875, 392.3868, 187.0128]], device='cuda:0')\n",
      "GT: tensor([[  0.0000,   0.0000, 212.9920, 389.3760]], device='cuda:0')\n",
      "Pred: tensor([[ 84.8362,  63.4143, 274.0922, 420.4553]], device='cuda:0')\n",
      "GT: tensor([[ 47.6425,  48.1088, 283.5307, 414.5850]], device='cuda:0')\n"
     ]
    },
    {
     "name": "stderr",
     "output_type": "stream",
     "text": [
      "[2019-05-31 10:46:49,110 <ipython-input-2-7667fb18f09c>] Batch [358/2077] mAP: 0.24313\n",
      "[2019-05-31 10:46:49,154 <ipython-input-2-7667fb18f09c>] Batch [359/2077] mAP: 0.24393\n",
      "[2019-05-31 10:46:49,193 <ipython-input-2-7667fb18f09c>] Batch [360/2077] mAP: 0.24473\n",
      "[2019-05-31 10:46:49,224 <ipython-input-2-7667fb18f09c>] Batch [361/2077] mAP: 0.24447\n",
      "[2019-05-31 10:46:49,258 <ipython-input-2-7667fb18f09c>] Batch [362/2077] mAP: 0.24293\n",
      "[2019-05-31 10:46:49,295 <ipython-input-2-7667fb18f09c>] Batch [363/2077] mAP: 0.24372\n"
     ]
    },
    {
     "name": "stdout",
     "output_type": "stream",
     "text": [
      "Pred: tensor([[  6.6306,  68.1326, 411.9538, 296.7483]], device='cuda:0')\n",
      "GT: tensor([[ 36.6080,  29.1200, 359.4240, 324.4800]], device='cuda:0')\n",
      "Pred: tensor([[ 88.4039,  82.5484, 181.2201, 187.6960]], device='cuda:0')\n",
      "GT: tensor([[ 29.1200,  62.4625, 244.6080, 181.1411]], device='cuda:0')\n",
      "Pred: tensor([[ 52.9338,  55.4070, 245.3097, 216.1457]], device='cuda:0')\n",
      "GT: tensor([[ 29.1200,  62.4625, 244.6080, 181.1411]], device='cuda:0')\n",
      "Pred: tensor([[ 81.3646,  91.4242, 328.8373, 336.6854]], device='cuda:0')\n",
      "GT: tensor([[  5.8240,  68.7787, 388.5440, 366.0800]], device='cuda:0')\n",
      "Pred: tensor([[168.7833, 160.6774, 236.6104, 254.9642]], device='cuda:0')\n",
      "GT: tensor([[173.6456, 168.0640, 234.8589, 234.6240]], device='cuda:0')\n"
     ]
    },
    {
     "name": "stderr",
     "output_type": "stream",
     "text": [
      "[2019-05-31 10:46:49,344 <ipython-input-2-7667fb18f09c>] Batch [364/2077] mAP: 0.24505\n",
      "[2019-05-31 10:46:49,391 <ipython-input-2-7667fb18f09c>] Batch [365/2077] mAP: 0.24636\n",
      "[2019-05-31 10:46:49,425 <ipython-input-2-7667fb18f09c>] Batch [366/2077] mAP: 0.24611\n",
      "[2019-05-31 10:46:49,462 <ipython-input-2-7667fb18f09c>] Batch [367/2077] mAP: 0.24585\n",
      "[2019-05-31 10:46:49,501 <ipython-input-2-7667fb18f09c>] Batch [368/2077] mAP: 0.24560\n"
     ]
    },
    {
     "name": "stdout",
     "output_type": "stream",
     "text": [
      "Pred: tensor([[247.2261, 100.6558, 358.5833, 374.9692]], device='cuda:0')\n",
      "GT: tensor([[124.8000,  48.8107, 350.2720, 369.4080]], device='cuda:0')\n",
      "Pred: tensor([[127.8663,  74.4450, 290.3565, 351.8533]], device='cuda:0')\n",
      "GT: tensor([[124.8000,  48.8107, 350.2720, 369.4080]], device='cuda:0')\n",
      "Pred: tensor([[247.2261, 100.6558, 358.5833, 374.9692]], device='cuda:0')\n",
      "GT: tensor([[249.6000,  84.3093, 415.1680, 372.7360]], device='cuda:0')\n",
      "Pred: tensor([[ 38.8583,  81.0337, 387.8044, 387.1414]], device='cuda:0')\n",
      "GT: tensor([[ 72.8000,  42.9867, 369.2000, 414.6133]], device='cuda:0')\n",
      "Pred: tensor([[386.1141, 118.2785, 403.4590, 157.4482]], device='cuda:0')\n",
      "GT: tensor([[388.9600, 113.7067, 405.6000, 174.7200]], device='cuda:0')\n",
      "Pred: tensor([[386.1141, 118.2785, 403.4590, 157.4482]], device='cuda:0')\n",
      "GT: tensor([[375.4400, 116.4800, 391.0400, 167.7867]], device='cuda:0')\n",
      "Pred: tensor([[ 85.5413, 139.4423, 317.3208, 326.4342]], device='cuda:0')\n",
      "GT: tensor([[  2.4960,   0.0000, 364.4160, 414.8907]], device='cuda:0')\n",
      "Pred: tensor([[103.7991,  84.3736, 262.9261, 256.8242]], device='cuda:0')\n",
      "GT: tensor([[  0.0000,  31.1377, 415.1680, 287.7126]], device='cuda:0')\n"
     ]
    },
    {
     "name": "stderr",
     "output_type": "stream",
     "text": [
      "[2019-05-31 10:46:49,550 <ipython-input-2-7667fb18f09c>] Batch [369/2077] mAP: 0.24458\n",
      "[2019-05-31 10:46:49,618 <ipython-input-2-7667fb18f09c>] Batch [370/2077] mAP: 0.24261\n",
      "[2019-05-31 10:46:49,678 <ipython-input-2-7667fb18f09c>] Batch [371/2077] mAP: 0.24338\n",
      "[2019-05-31 10:46:49,727 <ipython-input-2-7667fb18f09c>] Batch [372/2077] mAP: 0.24390\n"
     ]
    },
    {
     "name": "stdout",
     "output_type": "stream",
     "text": [
      "Pred: tensor([[ 31.6172, 210.2717,  51.7057, 293.4397]], device='cuda:0')\n",
      "GT: tensor([[ 35.7760, 216.4097,  47.4240, 282.5660]], device='cuda:0')\n",
      "Pred: tensor([[ 31.6172, 210.2717,  51.7057, 293.4397]], device='cuda:0')\n",
      "GT: tensor([[ 23.2960, 227.6226,  40.7680, 283.6873]], device='cuda:0')\n",
      "Pred: tensor([[ 31.6172, 210.2717,  51.7057, 293.4397]], device='cuda:0')\n",
      "GT: tensor([[ 39.1040, 224.2588,  59.9040, 287.0512]], device='cuda:0')\n",
      "Pred: tensor([[292.9739, 183.4254, 316.7160, 224.1112]], device='cuda:0')\n",
      "GT: tensor([[290.3680, 195.2427, 314.4960, 226.3040]], device='cuda:0')\n",
      "Pred: tensor([[ 78.5761, 196.3899, 326.4015, 352.8765]], device='cuda:0')\n",
      "GT: tensor([[ 61.5680, 204.8769, 340.2880, 361.0330]], device='cuda:0')\n",
      "Pred: tensor([[192.7867, 104.6054, 366.0992, 385.4881]], device='cuda:0')\n",
      "GT: tensor([[201.5910, 118.9760, 375.2157, 356.9280]], device='cuda:0')\n"
     ]
    },
    {
     "name": "stderr",
     "output_type": "stream",
     "text": [
      "[2019-05-31 10:46:49,775 <ipython-input-2-7667fb18f09c>] Batch [373/2077] mAP: 0.24442\n",
      "[2019-05-31 10:46:49,808 <ipython-input-2-7667fb18f09c>] Batch [374/2077] mAP: 0.24417\n",
      "[2019-05-31 10:46:49,847 <ipython-input-2-7667fb18f09c>] Batch [375/2077] mAP: 0.24393\n",
      "[2019-05-31 10:46:49,885 <ipython-input-2-7667fb18f09c>] Batch [376/2077] mAP: 0.24076\n",
      "[2019-05-31 10:46:49,925 <ipython-input-2-7667fb18f09c>] Batch [377/2077] mAP: 0.23956\n",
      "[2019-05-31 10:46:49,964 <ipython-input-2-7667fb18f09c>] Batch [378/2077] mAP: 0.24032\n"
     ]
    },
    {
     "name": "stdout",
     "output_type": "stream",
     "text": [
      "Pred: tensor([[114.3613, 335.4700, 180.6867, 393.9731]], device='cuda:0')\n",
      "GT: tensor([[ 43.3333,  14.0833, 303.3333, 310.9167]], device='cuda:0')\n",
      "Pred: tensor([[ 90.1161,  40.6173, 265.5403, 326.6813]], device='cuda:0')\n",
      "GT: tensor([[ 43.3333,  14.0833, 303.3333, 310.9167]], device='cuda:0')\n",
      "Pred: tensor([[134.1476, 156.9320, 343.8010, 306.6949]], device='cuda:0')\n",
      "GT: tensor([[151.4240, 173.0560, 331.1360, 254.0373]], device='cuda:0')\n",
      "Pred: tensor([[266.3080, 271.6717, 346.1560, 398.9045]], device='cuda:0')\n",
      "GT: tensor([[262.9120, 284.2494, 415.1680, 414.9626]], device='cuda:0')\n",
      "Pred: tensor([[ -2.6447, 116.7601, 420.4678, 306.8745]], device='cuda:0')\n",
      "GT: tensor([[  0.0000, 115.3707, 415.1680, 299.5200]], device='cuda:0')\n"
     ]
    },
    {
     "name": "stderr",
     "output_type": "stream",
     "text": [
      "[2019-05-31 10:46:50,009 <ipython-input-2-7667fb18f09c>] Batch [379/2077] mAP: 0.24036\n",
      "[2019-05-31 10:46:50,088 <ipython-input-2-7667fb18f09c>] Batch [380/2077] mAP: 0.24039\n",
      "[2019-05-31 10:46:50,149 <ipython-input-2-7667fb18f09c>] Batch [381/2077] mAP: 0.24114\n",
      "[2019-05-31 10:46:50,191 <ipython-input-2-7667fb18f09c>] Batch [382/2077] mAP: 0.24090\n"
     ]
    },
    {
     "name": "stdout",
     "output_type": "stream",
     "text": [
      "Pred: tensor([[100.8331, 143.0980, 264.5721, 331.5443]], device='cuda:0')\n",
      "GT: tensor([[ 54.9120, 102.1381, 312.8320, 367.0588]], device='cuda:0')\n",
      "Pred: tensor([[ 23.4858,  74.4023, 382.5063, 392.0939]], device='cuda:0')\n",
      "GT: tensor([[ 54.9120, 102.1381, 312.8320, 367.0588]], device='cuda:0')\n",
      "Pred: tensor([[221.8082, 199.5231, 274.5875, 269.1265]], device='cuda:0')\n",
      "GT: tensor([[257.9200, 212.9920, 282.8800, 254.0373]], device='cuda:0')\n",
      "Pred: tensor([[253.5429, 207.2363, 277.7212, 259.8991]], device='cuda:0')\n",
      "GT: tensor([[257.9200, 212.9920, 282.8800, 254.0373]], device='cuda:0')\n",
      "Pred: tensor([[221.8082, 199.5231, 274.5875, 269.1265]], device='cuda:0')\n",
      "GT: tensor([[245.4400, 214.1013, 262.9120, 252.9280]], device='cuda:0')\n",
      "Pred: tensor([[253.5429, 207.2363, 277.7212, 259.8991]], device='cuda:0')\n",
      "GT: tensor([[245.4400, 214.1013, 262.9120, 252.9280]], device='cuda:0')\n",
      "Pred: tensor([[221.8082, 199.5231, 274.5875, 269.1265]], device='cuda:0')\n",
      "GT: tensor([[235.4560, 214.1013, 242.1120, 232.9600]], device='cuda:0')\n",
      "Pred: tensor([[253.5429, 207.2363, 277.7212, 259.8991]], device='cuda:0')\n",
      "GT: tensor([[235.4560, 214.1013, 242.1120, 232.9600]], device='cuda:0')\n",
      "Pred: tensor([[210.2570,  36.4539, 348.7739, 323.8304]], device='cuda:0')\n",
      "GT: tensor([[204.6720,  20.0340, 362.7520, 342.9348]], device='cuda:0')\n"
     ]
    },
    {
     "name": "stderr",
     "output_type": "stream",
     "text": [
      "[2019-05-31 10:46:50,267 <ipython-input-2-7667fb18f09c>] Batch [383/2077] mAP: 0.24216\n",
      "[2019-05-31 10:46:50,332 <ipython-input-2-7667fb18f09c>] Batch [384/2077] mAP: 0.24266\n",
      "[2019-05-31 10:46:50,393 <ipython-input-2-7667fb18f09c>] Batch [385/2077] mAP: 0.24340\n",
      "[2019-05-31 10:46:50,438 <ipython-input-2-7667fb18f09c>] Batch [386/2077] mAP: 0.24414\n"
     ]
    },
    {
     "name": "stdout",
     "output_type": "stream",
     "text": [
      "Pred: tensor([[212.2311, 224.2024, 253.7066, 305.6662]], device='cuda:0')\n",
      "GT: tensor([[218.8160, 217.4293, 251.2640, 316.1600]], device='cuda:0')\n",
      "Pred: tensor([[155.2265, 218.6688, 310.6235, 325.4135]], device='cuda:0')\n",
      "GT: tensor([[103.1680,   0.0000, 192.1920, 205.2267]], device='cuda:0')\n",
      "Pred: tensor([[108.7886,  30.1445, 188.8733, 183.6777]], device='cuda:0')\n",
      "GT: tensor([[103.1680,   0.0000, 192.1920, 205.2267]], device='cuda:0')\n",
      "Pred: tensor([[ 73.9009,  63.0808, 396.6571, 349.8705]], device='cuda:0')\n",
      "GT: tensor([[277.0560,   0.0000, 414.3360, 299.3439]], device='cuda:0')\n",
      "Pred: tensor([[ 73.9009,  63.0808, 396.6571, 349.8705]], device='cuda:0')\n",
      "GT: tensor([[  0.0000,  30.8148, 371.9040, 362.0741]], device='cuda:0')\n",
      "Pred: tensor([[126.6388, 104.9273, 427.7657, 369.1307]], device='cuda:0')\n",
      "GT: tensor([[173.8880,  87.2953, 415.1680, 366.4249]], device='cuda:0')\n",
      "Pred: tensor([[ 41.2634,  78.2989, 314.7142, 343.8014]], device='cuda:0')\n",
      "GT: tensor([[  9.1520,  46.9241, 400.1920, 361.8568]], device='cuda:0')\n"
     ]
    },
    {
     "name": "stderr",
     "output_type": "stream",
     "text": [
      "[2019-05-31 10:46:50,584 <ipython-input-2-7667fb18f09c>] Batch [387/2077] mAP: 0.24395\n",
      "[2019-05-31 10:46:50,626 <ipython-input-2-7667fb18f09c>] Batch [388/2077] mAP: 0.24468\n",
      "[2019-05-31 10:46:50,678 <ipython-input-2-7667fb18f09c>] Batch [389/2077] mAP: 0.24444\n"
     ]
    },
    {
     "name": "stdout",
     "output_type": "stream",
     "text": [
      "Pred: tensor([[ 32.2500, 107.6530, 135.2630, 371.5768]], device='cuda:0')\n",
      "GT: tensor([[371.0720, 125.3547, 413.5040, 270.6773]], device='cuda:0')\n",
      "Pred: tensor([[119.0071,  45.3395, 227.4784, 422.3062]], device='cuda:0')\n",
      "GT: tensor([[371.0720, 125.3547, 413.5040, 270.6773]], device='cuda:0')\n",
      "Pred: tensor([[ 32.2500, 107.6530, 135.2630, 371.5768]], device='cuda:0')\n",
      "GT: tensor([[290.3680, 113.1520, 366.9120, 274.0053]], device='cuda:0')\n",
      "Pred: tensor([[119.0071,  45.3395, 227.4784, 422.3062]], device='cuda:0')\n",
      "GT: tensor([[290.3680, 113.1520, 366.9120, 274.0053]], device='cuda:0')\n",
      "Pred: tensor([[ 32.2500, 107.6530, 135.2630, 371.5768]], device='cuda:0')\n",
      "GT: tensor([[113.9840,  83.2000, 212.9920, 381.6107]], device='cuda:0')\n",
      "Pred: tensor([[119.0071,  45.3395, 227.4784, 422.3062]], device='cuda:0')\n",
      "GT: tensor([[113.9840,  83.2000, 212.9920, 381.6107]], device='cuda:0')\n",
      "Pred: tensor([[ 32.2500, 107.6530, 135.2630, 371.5768]], device='cuda:0')\n",
      "GT: tensor([[ 64.8960, 108.7147, 135.6160, 413.7813]], device='cuda:0')\n",
      "Pred: tensor([[ 32.2500, 107.6530, 135.2630, 371.5768]], device='cuda:0')\n",
      "GT: tensor([[119.8080, 108.7147, 167.2320, 227.4133]], device='cuda:0')\n",
      "Pred: tensor([[119.0071,  45.3395, 227.4784, 422.3062]], device='cuda:0')\n",
      "GT: tensor([[119.8080, 108.7147, 167.2320, 227.4133]], device='cuda:0')\n",
      "Pred: tensor([[ 32.2500, 107.6530, 135.2630, 371.5768]], device='cuda:0')\n",
      "GT: tensor([[101.5040, 126.4640, 145.6000, 352.7680]], device='cuda:0')\n",
      "Pred: tensor([[119.0071,  45.3395, 227.4784, 422.3062]], device='cuda:0')\n",
      "GT: tensor([[101.5040, 126.4640, 145.6000, 352.7680]], device='cuda:0')\n",
      "Pred: tensor([[ 32.2500, 107.6530, 135.2630, 371.5768]], device='cuda:0')\n",
      "GT: tensor([[ 27.4560, 125.3547,  78.2080, 414.8907]], device='cuda:0')\n",
      "Pred: tensor([[119.0071,  45.3395, 227.4784, 422.3062]], device='cuda:0')\n",
      "GT: tensor([[ 27.4560, 125.3547,  78.2080, 414.8907]], device='cuda:0')\n",
      "Pred: tensor([[ 32.2500, 107.6530, 135.2630, 371.5768]], device='cuda:0')\n",
      "GT: tensor([[ 11.6480, 125.3547,  64.0640, 414.8907]], device='cuda:0')\n",
      "Pred: tensor([[119.0071,  45.3395, 227.4784, 422.3062]], device='cuda:0')\n",
      "GT: tensor([[ 11.6480, 125.3547,  64.0640, 414.8907]], device='cuda:0')\n",
      "Pred: tensor([[ 32.2500, 107.6530, 135.2630, 371.5768]], device='cuda:0')\n",
      "GT: tensor([[186.3680, 138.6667, 233.7920, 269.5680]], device='cuda:0')\n",
      "Pred: tensor([[119.0071,  45.3395, 227.4784, 422.3062]], device='cuda:0')\n",
      "GT: tensor([[186.3680, 138.6667, 233.7920, 269.5680]], device='cuda:0')\n",
      "Pred: tensor([[138.5142, 160.7312, 262.3952, 305.2839]], device='cuda:0')\n",
      "GT: tensor([[143.1040, 150.8693, 248.7680, 320.5973]], device='cuda:0')\n"
     ]
    },
    {
     "name": "stderr",
     "output_type": "stream",
     "text": [
      "[2019-05-31 10:46:50,728 <ipython-input-2-7667fb18f09c>] Batch [390/2077] mAP: 0.24517\n",
      "[2019-05-31 10:46:50,768 <ipython-input-2-7667fb18f09c>] Batch [391/2077] mAP: 0.24590\n",
      "[2019-05-31 10:46:50,806 <ipython-input-2-7667fb18f09c>] Batch [392/2077] mAP: 0.24566\n",
      "[2019-05-31 10:46:50,843 <ipython-input-2-7667fb18f09c>] Batch [393/2077] mAP: 0.24449\n",
      "[2019-05-31 10:46:50,880 <ipython-input-2-7667fb18f09c>] Batch [394/2077] mAP: 0.24521\n",
      "[2019-05-31 10:46:50,918 <ipython-input-2-7667fb18f09c>] Batch [395/2077] mAP: 0.24498\n"
     ]
    },
    {
     "name": "stdout",
     "output_type": "stream",
     "text": [
      "Pred: tensor([[ 50.0034, 145.8663, 355.8553, 275.8845]], device='cuda:0')\n",
      "GT: tensor([[ 44.0960, 139.4970, 343.6160, 271.5210]], device='cuda:0')\n",
      "Pred: tensor([[115.1323, 165.5290, 230.5694, 331.0585]], device='cuda:0')\n",
      "GT: tensor([[114.8160, 153.9528, 224.6400, 345.0289]], device='cuda:0')\n",
      "Pred: tensor([[196.1325, 101.6939, 408.0307, 311.1872]], device='cuda:0')\n",
      "GT: tensor([[176.3840,   0.0000, 415.1680, 389.4015]], device='cuda:0')\n",
      "Pred: tensor([[ 92.7754, 135.6592, 208.0951, 282.0202]], device='cuda:0')\n",
      "GT: tensor([[100.6720, 136.5333, 191.3600, 282.6667]], device='cuda:0')\n",
      "Pred: tensor([[124.4055, 150.7914, 292.3365, 242.9301]], device='cuda:0')\n",
      "GT: tensor([[163.9040, 151.9787, 242.9440, 241.8347]], device='cuda:0')\n"
     ]
    },
    {
     "name": "stderr",
     "output_type": "stream",
     "text": [
      "[2019-05-31 10:46:50,951 <ipython-input-2-7667fb18f09c>] Batch [396/2077] mAP: 0.24451\n",
      "[2019-05-31 10:46:50,993 <ipython-input-2-7667fb18f09c>] Batch [397/2077] mAP: 0.24500\n",
      "[2019-05-31 10:46:51,031 <ipython-input-2-7667fb18f09c>] Batch [398/2077] mAP: 0.24571\n",
      "[2019-05-31 10:46:51,063 <ipython-input-2-7667fb18f09c>] Batch [399/2077] mAP: 0.24548\n",
      "[2019-05-31 10:46:51,098 <ipython-input-2-7667fb18f09c>] Batch [400/2077] mAP: 0.24478\n",
      "[2019-05-31 10:46:51,136 <ipython-input-2-7667fb18f09c>] Batch [401/2077] mAP: 0.24527\n"
     ]
    },
    {
     "name": "stdout",
     "output_type": "stream",
     "text": [
      "Pred: tensor([[ 34.1134,  41.7637, 127.2078, 306.7684]], device='cuda:0')\n",
      "GT: tensor([[157.5253,   0.0000, 350.5493, 158.9120]], device='cuda:0')\n",
      "Pred: tensor([[170.1282,  15.0434, 360.1949, 155.0074]], device='cuda:0')\n",
      "GT: tensor([[157.5253,   0.0000, 350.5493, 158.9120]], device='cuda:0')\n",
      "Pred: tensor([[ 86.9350, 166.0415, 374.4887, 331.0946]], device='cuda:0')\n",
      "GT: tensor([[ 59.9040, 182.2080, 348.3307, 330.3040]], device='cuda:0')\n",
      "Pred: tensor([[ -2.6218, 185.3094, 407.1122, 428.3354]], device='cuda:0')\n",
      "GT: tensor([[  6.6560, 231.1111, 409.3440, 393.5135]], device='cuda:0')\n"
     ]
    },
    {
     "name": "stderr",
     "output_type": "stream",
     "text": [
      "[2019-05-31 10:46:51,203 <ipython-input-2-7667fb18f09c>] Batch [402/2077] mAP: 0.24480\n",
      "[2019-05-31 10:46:51,265 <ipython-input-2-7667fb18f09c>] Batch [403/2077] mAP: 0.24457\n",
      "[2019-05-31 10:46:51,304 <ipython-input-2-7667fb18f09c>] Batch [404/2077] mAP: 0.24411\n",
      "[2019-05-31 10:46:51,343 <ipython-input-2-7667fb18f09c>] Batch [405/2077] mAP: 0.24388\n",
      "[2019-05-31 10:46:51,377 <ipython-input-2-7667fb18f09c>] Batch [406/2077] mAP: 0.24274\n"
     ]
    },
    {
     "name": "stdout",
     "output_type": "stream",
     "text": [
      "Pred: tensor([[ -8.4954, 249.9426,  37.4866, 355.1989]], device='cuda:0')\n",
      "GT: tensor([[123.9680, 125.3547, 278.7200, 286.2080]], device='cuda:0')\n",
      "Pred: tensor([[ -8.4954, 249.9426,  37.4866, 355.1989]], device='cuda:0')\n",
      "GT: tensor([[188.8640, 228.5227, 280.3840, 313.9413]], device='cuda:0')\n",
      "Pred: tensor([[193.4824, 100.6222, 344.4680, 248.6324]], device='cuda:0')\n",
      "GT: tensor([[224.9668, 124.8000, 350.6465, 217.9840]], device='cuda:0')\n",
      "Pred: tensor([[240.1556, 141.0719, 287.9958, 223.9471]], device='cuda:0')\n",
      "GT: tensor([[224.9668, 124.8000, 350.6465, 217.9840]], device='cuda:0')\n",
      "Pred: tensor([[383.7283,  36.6692, 405.3403, 125.0924]], device='cuda:0')\n",
      "GT: tensor([[  0.0000,  12.0178, 414.6133, 415.0756]], device='cuda:0')\n"
     ]
    },
    {
     "name": "stderr",
     "output_type": "stream",
     "text": [
      "[2019-05-31 10:46:51,428 <ipython-input-2-7667fb18f09c>] Batch [407/2077] mAP: 0.24370\n",
      "[2019-05-31 10:46:51,472 <ipython-input-2-7667fb18f09c>] Batch [408/2077] mAP: 0.24418\n",
      "[2019-05-31 10:46:51,516 <ipython-input-2-7667fb18f09c>] Batch [409/2077] mAP: 0.24349\n",
      "[2019-05-31 10:46:51,549 <ipython-input-2-7667fb18f09c>] Batch [410/2077] mAP: 0.24327\n",
      "[2019-05-31 10:46:51,592 <ipython-input-2-7667fb18f09c>] Batch [411/2077] mAP: 0.24374\n"
     ]
    },
    {
     "name": "stdout",
     "output_type": "stream",
     "text": [
      "Pred: tensor([[300.6905, 185.9802, 364.4172, 286.7959]], device='cuda:0')\n",
      "GT: tensor([[307.8400, 184.5249, 371.0720, 271.8740]], device='cuda:0')\n",
      "Pred: tensor([[300.6905, 185.9802, 364.4172, 286.7959]], device='cuda:0')\n",
      "GT: tensor([[233.7920, 184.5249, 321.9840, 300.2625]], device='cuda:0')\n",
      "Pred: tensor([[217.8257, 168.5870, 326.4311, 318.3885]], device='cuda:0')\n",
      "GT: tensor([[233.7920, 184.5249, 321.9840, 300.2625]], device='cuda:0')\n",
      "Pred: tensor([[ 79.3291,  72.8154, 216.7614, 276.6495]], device='cuda:0')\n",
      "GT: tensor([[ 68.7787,  58.2400, 364.9707, 395.2000]], device='cuda:0')\n",
      "Pred: tensor([[  4.5321,  44.4602, 408.8331, 435.8177]], device='cuda:0')\n",
      "GT: tensor([[ 68.7787,  58.2400, 364.9707, 395.2000]], device='cuda:0')\n",
      "Pred: tensor([[295.8266, 169.6657, 366.6939, 382.8412]], device='cuda:0')\n",
      "GT: tensor([[297.8560, 198.1538, 340.2880, 369.2308]], device='cuda:0')\n",
      "Pred: tensor([[295.8266, 169.6657, 366.6939, 382.8412]], device='cuda:0')\n",
      "GT: tensor([[350.2720, 220.3077, 363.5840, 273.2308]], device='cuda:0')\n",
      "Pred: tensor([[ 59.6238, 138.5978, 366.4638, 347.6707]], device='cuda:0')\n",
      "GT: tensor([[  0.8320, 202.6052,  41.6000, 318.8934]], device='cuda:0')\n",
      "Pred: tensor([[ 59.6238, 138.5978, 366.4638, 347.6707]], device='cuda:0')\n",
      "GT: tensor([[ 27.4560, 122.2824, 404.3520, 389.6254]], device='cuda:0')\n"
     ]
    },
    {
     "name": "stderr",
     "output_type": "stream",
     "text": [
      "[2019-05-31 10:46:51,625 <ipython-input-2-7667fb18f09c>] Batch [412/2077] mAP: 0.24352\n",
      "[2019-05-31 10:46:51,664 <ipython-input-2-7667fb18f09c>] Batch [413/2077] mAP: 0.24399\n",
      "[2019-05-31 10:46:51,698 <ipython-input-2-7667fb18f09c>] Batch [414/2077] mAP: 0.24377\n",
      "[2019-05-31 10:46:51,752 <ipython-input-2-7667fb18f09c>] Batch [415/2077] mAP: 0.24242\n",
      "[2019-05-31 10:46:51,807 <ipython-input-2-7667fb18f09c>] Batch [416/2077] mAP: 0.24110\n"
     ]
    },
    {
     "name": "stdout",
     "output_type": "stream",
     "text": [
      "Pred: tensor([[ 51.8264,  24.2720, 419.5604, 320.6107]], device='cuda:0')\n",
      "GT: tensor([[ 59.9040,  16.6400, 414.3360, 389.3760]], device='cuda:0')\n"
     ]
    },
    {
     "name": "stderr",
     "output_type": "stream",
     "text": [
      "[2019-05-31 10:46:51,874 <ipython-input-2-7667fb18f09c>] Batch [417/2077] mAP: 0.24088\n",
      "[2019-05-31 10:46:51,951 <ipython-input-2-7667fb18f09c>] Batch [418/2077] mAP: 0.24091\n",
      "[2019-05-31 10:46:52,018 <ipython-input-2-7667fb18f09c>] Batch [419/2077] mAP: 0.24229\n"
     ]
    },
    {
     "name": "stdout",
     "output_type": "stream",
     "text": [
      "Pred: tensor([[107.2947, 226.8154, 255.8067, 361.6412]], device='cuda:0')\n",
      "GT: tensor([[126.4640, 260.0000, 236.2880, 322.4000]], device='cuda:0')\n",
      "Pred: tensor([[151.3643, 266.8734, 215.6073, 350.9617]], device='cuda:0')\n",
      "GT: tensor([[126.4640, 260.0000, 236.2880, 322.4000]], device='cuda:0')\n",
      "Pred: tensor([[259.7921, 163.0330, 354.9781, 265.3983]], device='cuda:0')\n",
      "GT: tensor([[257.0880, 113.1520, 415.1680, 315.0507]], device='cuda:0')\n",
      "Pred: tensor([[115.8733, 162.4044, 301.4712, 428.3052]], device='cuda:0')\n",
      "GT: tensor([[  8.3200,  86.5280, 151.4240, 410.4533]], device='cuda:0')\n",
      "Pred: tensor([[115.8733, 162.4044, 301.4712, 428.3052]], device='cuda:0')\n",
      "GT: tensor([[138.1120, 158.6347, 289.5360, 414.8907]], device='cuda:0')\n",
      "Pred: tensor([[ 88.0179,  49.9410, 327.0508, 363.5535]], device='cuda:0')\n",
      "GT: tensor([[ 26.6240,  94.8772, 383.5520, 315.0409]], device='cuda:0')\n",
      "Pred: tensor([[128.8804,  38.3650, 284.1629, 371.2138]], device='cuda:0')\n",
      "GT: tensor([[129.7920,  75.4152, 302.8480, 328.4211]], device='cuda:0')\n",
      "Pred: tensor([[-12.9709,  74.8566, 364.1597, 349.8552]], device='cuda:0')\n",
      "GT: tensor([[  0.0000,  54.3573, 127.2960, 170.8373]], device='cuda:0')\n",
      "Pred: "
     ]
    },
    {
     "name": "stderr",
     "output_type": "stream",
     "text": [
      "[2019-05-31 10:46:52,068 <ipython-input-2-7667fb18f09c>] Batch [420/2077] mAP: 0.24275\n",
      "[2019-05-31 10:46:52,126 <ipython-input-2-7667fb18f09c>] Batch [421/2077] mAP: 0.24344\n",
      "[2019-05-31 10:46:52,171 <ipython-input-2-7667fb18f09c>] Batch [422/2077] mAP: 0.24390\n",
      "[2019-05-31 10:46:52,206 <ipython-input-2-7667fb18f09c>] Batch [423/2077] mAP: 0.24368\n",
      "[2019-05-31 10:46:52,239 <ipython-input-2-7667fb18f09c>] Batch [424/2077] mAP: 0.24302\n"
     ]
    },
    {
     "name": "stdout",
     "output_type": "stream",
     "text": [
      "tensor([[-12.9709,  74.8566, 364.1597, 349.8552]], device='cuda:0')\n",
      "GT: tensor([[ 14.1440,  65.4507, 405.1840, 384.9387]], device='cuda:0')\n",
      "Pred: tensor([[ 47.5120, 242.3458, 440.7927, 418.1726]], device='cuda:0')\n",
      "GT: tensor([[ 89.8560, 261.8275, 413.5040, 396.0639]], device='cuda:0')\n",
      "Pred: tensor([[103.8277,  70.5387, 256.3138, 415.8372]], device='cuda:0')\n",
      "GT: tensor([[113.7067,  64.0000, 246.8267, 414.7692]], device='cuda:0')\n"
     ]
    },
    {
     "name": "stderr",
     "output_type": "stream",
     "text": [
      "[2019-05-31 10:46:52,274 <ipython-input-2-7667fb18f09c>] Batch [425/2077] mAP: 0.24150\n",
      "[2019-05-31 10:46:52,305 <ipython-input-2-7667fb18f09c>] Batch [426/2077] mAP: 0.24129\n",
      "[2019-05-31 10:46:52,343 <ipython-input-2-7667fb18f09c>] Batch [427/2077] mAP: 0.24196\n",
      "[2019-05-31 10:46:52,375 <ipython-input-2-7667fb18f09c>] Batch [428/2077] mAP: 0.24175\n",
      "[2019-05-31 10:46:52,421 <ipython-input-2-7667fb18f09c>] Batch [429/2077] mAP: 0.24199\n",
      "[2019-05-31 10:46:52,456 <ipython-input-2-7667fb18f09c>] Batch [430/2077] mAP: 0.24178\n",
      "[2019-05-31 10:46:52,501 <ipython-input-2-7667fb18f09c>] Batch [431/2077] mAP: 0.24224\n"
     ]
    },
    {
     "name": "stdout",
     "output_type": "stream",
     "text": [
      "Pred: tensor([[ 87.7800,  27.2939, 317.9031, 440.0647]], device='cuda:0')\n",
      "GT: tensor([[ 58.2400,  34.8903, 318.6560, 414.2108]], device='cuda:0')\n",
      "Pred: tensor([[108.2190, 132.5255, 307.5389, 348.5861]], device='cuda:0')\n",
      "GT: tensor([[123.1360, 144.2133, 285.3760, 290.6453]], device='cuda:0')\n",
      "Pred: tensor([[108.2190, 132.5255, 307.5389, 348.5861]], device='cuda:0')\n",
      "GT: tensor([[307.8400, 124.2453, 415.1680, 303.9573]], device='cuda:0')\n",
      "Pred: tensor([[108.2190, 132.5255, 307.5389, 348.5861]], device='cuda:0')\n",
      "GT: tensor([[  0.0000, 140.8853,  95.6800, 309.5040]], device='cuda:0')\n",
      "Pred: tensor([[ 43.4235, 102.2581, 165.3181, 236.3070]], device='cuda:0')\n",
      "GT: tensor([[ 13.3120, 123.8652, 197.1840, 233.7079]], device='cuda:0')\n",
      "Pred: tensor([[ 43.4235, 102.2581, 165.3181, 236.3070]], device='cuda:0')\n",
      "GT: tensor([[301.1840, 280.4494, 399.3600, 352.8989]], device='cuda:0')\n",
      "Pred: tensor([[ 52.0823, 105.9637, 363.1787, 313.9807]], device='cuda:0')\n",
      "GT: tensor([[ 26.6240, 103.1680, 390.2080, 321.7067]], device='cuda:0')\n"
     ]
    },
    {
     "name": "stderr",
     "output_type": "stream",
     "text": [
      "[2019-05-31 10:46:52,541 <ipython-input-2-7667fb18f09c>] Batch [432/2077] mAP: 0.24291\n",
      "[2019-05-31 10:46:52,583 <ipython-input-2-7667fb18f09c>] Batch [433/2077] mAP: 0.24358\n",
      "[2019-05-31 10:46:52,634 <ipython-input-2-7667fb18f09c>] Batch [434/2077] mAP: 0.24336\n",
      "[2019-05-31 10:46:52,701 <ipython-input-2-7667fb18f09c>] Batch [435/2077] mAP: 0.24382\n",
      "[2019-05-31 10:46:52,747 <ipython-input-2-7667fb18f09c>] Batch [436/2077] mAP: 0.24448\n"
     ]
    },
    {
     "name": "stdout",
     "output_type": "stream",
     "text": [
      "Pred: tensor([[109.7544, 116.5066, 257.6606, 250.7881]], device='cuda:0')\n",
      "GT: tensor([[ 84.8640, 151.9101, 287.8720, 208.0000]], device='cuda:0')\n",
      "Pred: tensor([[123.2268, 149.8834, 238.9290, 211.3927]], device='cuda:0')\n",
      "GT: tensor([[ 84.8640, 151.9101, 287.8720, 208.0000]], device='cuda:0')\n",
      "Pred: tensor([[114.1112,  66.3877, 255.2473, 207.4601]], device='cuda:0')\n",
      "GT: tensor([[135.6952,  67.7209, 249.6000, 207.4625]], device='cuda:0')\n",
      "Pred: tensor([[ 31.6931, 157.0123,  55.1015, 183.5268]], device='cuda:0')\n",
      "GT: tensor([[  2.9714, 150.4910,  54.4762, 194.5633]], device='cuda:0')\n",
      "Pred: tensor([[144.2341,  69.6118, 262.0624, 388.9559]], device='cuda:0')\n",
      "GT: tensor([[118.1440,  24.4053, 282.8800, 413.7813]], device='cuda:0')\n"
     ]
    },
    {
     "name": "stderr",
     "output_type": "stream",
     "text": [
      "[2019-05-31 10:46:52,786 <ipython-input-2-7667fb18f09c>] Batch [437/2077] mAP: 0.24427\n",
      "[2019-05-31 10:46:52,825 <ipython-input-2-7667fb18f09c>] Batch [438/2077] mAP: 0.24493\n",
      "[2019-05-31 10:46:52,873 <ipython-input-2-7667fb18f09c>] Batch [439/2077] mAP: 0.24495\n",
      "[2019-05-31 10:46:52,912 <ipython-input-2-7667fb18f09c>] Batch [440/2077] mAP: 0.24561\n",
      "[2019-05-31 10:46:52,955 <ipython-input-2-7667fb18f09c>] Batch [441/2077] mAP: 0.24584\n",
      "[2019-05-31 10:46:52,991 <ipython-input-2-7667fb18f09c>] Batch [442/2077] mAP: 0.24456\n"
     ]
    },
    {
     "name": "stdout",
     "output_type": "stream",
     "text": [
      "Pred: tensor([[ 44.9972,  49.3472, 354.7398, 364.3109]], device='cuda:0')\n",
      "GT: tensor([[ 61.5680,  72.1067, 304.5120, 285.0987]], device='cuda:0')\n",
      "Pred: tensor([[296.3305, 181.9078, 382.4201, 294.4463]], device='cuda:0')\n",
      "GT: tensor([[  0.0000, 102.0587, 114.8160, 302.8480]], device='cuda:0')\n",
      "Pred: tensor([[296.3305, 181.9078, 382.4201, 294.4463]], device='cuda:0')\n",
      "GT: tensor([[304.5120, 174.1653, 367.7440, 292.8640]], device='cuda:0')\n",
      "Pred: tensor([[296.3305, 181.9078, 382.4201, 294.4463]], device='cuda:0')\n",
      "GT: tensor([[356.9280, 205.2267, 415.1680, 285.0987]], device='cuda:0')\n",
      "Pred: tensor([[ 18.0417, -32.7742, 390.9086, 453.5515]], device='cuda:0')\n",
      "GT: tensor([[  0.0000,   0.0000, 372.2667, 415.1680]], device='cuda:0')\n",
      "Pred: tensor([[129.3220, 145.6382, 234.5006, 393.4955]], device='cuda:0')\n",
      "GT: tensor([[249.6000, 225.5281, 281.2160, 397.3034]], device='cuda:0')\n",
      "Pred: tensor([[129.3220, 145.6382, 234.5006, 393.4955]], device='cuda:0')\n",
      "GT: tensor([[131.4560, 134.3820, 245.4400, 387.9550]], device='cuda:0')\n"
     ]
    },
    {
     "name": "stderr",
     "output_type": "stream",
     "text": [
      "[2019-05-31 10:46:53,057 <ipython-input-2-7667fb18f09c>] Batch [443/2077] mAP: 0.24416\n",
      "[2019-05-31 10:46:53,112 <ipython-input-2-7667fb18f09c>] Batch [444/2077] mAP: 0.24394\n",
      "[2019-05-31 10:46:53,163 <ipython-input-2-7667fb18f09c>] Batch [445/2077] mAP: 0.24373\n"
     ]
    },
    {
     "name": "stdout",
     "output_type": "stream",
     "text": [
      "Pred: tensor([[290.8225, 191.7206, 317.6191, 227.0254]], device='cuda:0')\n",
      "GT: tensor([[264.5760, 179.7120, 299.5200, 236.2880]], device='cuda:0')\n",
      "Pred: tensor([[307.8196, 119.1356, 430.9878, 229.6512]], device='cuda:0')\n",
      "GT: tensor([[264.5760, 179.7120, 299.5200, 236.2880]], device='cuda:0')\n",
      "Pred: tensor([[290.8225, 191.7206, 317.6191, 227.0254]], device='cuda:0')\n",
      "GT: tensor([[287.8720, 186.3680, 314.4960, 235.1787]], device='cuda:0')\n",
      "Pred: tensor([[281.6645, 143.8436, 445.8911, 214.8639]], device='cuda:0')\n",
      "GT: tensor([[ 21.6320, 136.4480,  75.7120, 222.9760]], device='cuda:0')\n",
      "Pred: tensor([[281.6645, 143.8436, 445.8911, 214.8639]], device='cuda:0')\n",
      "GT: tensor([[316.1600, 123.1360, 415.1680, 238.5067]], device='cuda:0')\n",
      "Pred: tensor([[281.6645, 143.8436, 445.8911, 214.8639]], device='cuda:0')\n",
      "GT: tensor([[ 75.7120,  78.7627, 265.4080, 325.0347]], device='cuda:0')\n",
      "Pred: tensor([[200.6828, 107.7211, 323.2381, 364.3843]], device='cuda:0')\n",
      "GT: tensor([[ 22.1867, 108.9920, 183.0400, 415.1680]], device='cuda:0')\n",
      "Pred: tensor([[ 22.4280, 104.9580, 208.9445, 389.8204]], device='cuda:0')\n",
      "GT: tensor([[ 22.1867, 108.9920, 183.0400, 415.1680]], device='cuda:0')\n",
      "Pred: tensor([[ 56.7013, 124.3089,  96.5394, 168.5725]], device='cuda:0')\n",
      "GT: tensor([[ 72.1067, 131.4560,  92.0747, 159.7440]], device='cuda:0')\n",
      "Pred: tensor([[200.6828, 107.7211, 323.2381, 364.3843]], device='cuda:0')\n",
      "GT: tensor([[204.1173, 113.9840, 318.3787, 367.7440]], device='cuda:0')\n",
      "Pred: tensor([[ 56.7013, 124.3089,  96.5394, 168.5725]], device='cuda:0')"
     ]
    },
    {
     "name": "stderr",
     "output_type": "stream",
     "text": [
      "[2019-05-31 10:46:53,232 <ipython-input-2-7667fb18f09c>] Batch [446/2077] mAP: 0.24462\n",
      "[2019-05-31 10:46:53,290 <ipython-input-2-7667fb18f09c>] Batch [447/2077] mAP: 0.24399\n",
      "[2019-05-31 10:46:53,373 <ipython-input-2-7667fb18f09c>] Batch [448/2077] mAP: 0.24422\n"
     ]
    },
    {
     "name": "stdout",
     "output_type": "stream",
     "text": [
      "\n",
      "GT: tensor([[279.5520, 145.6000, 300.6293, 178.8800]], device='cuda:0')\n",
      "Pred: tensor([[164.5304, 188.8400, 234.2480, 273.3580]], device='cuda:0')\n",
      "GT: tensor([[191.3600, 208.6400, 232.1280, 268.8000]], device='cuda:0')\n",
      "Pred: tensor([[200.2720, 180.5165, 406.0372, 294.4266]], device='cuda:0')\n",
      "GT: tensor([[ 70.7200, 198.7965, 213.8240, 312.9203]], device='cuda:0')\n",
      "Pred: tensor([[195.7589, 161.4261, 220.2756, 203.9728]], device='cuda:0')\n",
      "GT: tensor([[ 70.7200, 198.7965, 213.8240, 312.9203]], device='cuda:0')\n",
      "Pred: tensor([[250.9001, 194.6851, 355.0544, 239.0187]], device='cuda:0')\n",
      "GT: tensor([[ 70.7200, 198.7965, 213.8240, 312.9203]], device='cuda:0')\n",
      "Pred: tensor([[200.2720, 180.5165, 406.0372, 294.4266]], device='cuda:0')\n",
      "GT: tensor([[112.3200, 139.8938, 244.6080, 256.4720]], device='cuda:0')\n",
      "Pred: tensor([[195.7589, 161.4261, 220.2756, 203.9728]], device='cuda:0')\n",
      "GT: tensor([[112.3200, 139.8938, 244.6080, 256.4720]], device='cuda:0')\n",
      "Pred: tensor([[250.9001, 194.6851, 355.0544, 239.0187]], device='cuda:0')\n",
      "GT: tensor([[112.3200, 139.8938, 244.6080, 256.4720]], device='cuda:0')\n",
      "Pred: tensor([[200.2720, 180.5165, 406.0372, 294.4266]], device='cuda:0')\n",
      "GT: tensor([[244.6080, 182.8437, 372.7360, 296.9676]], device='cuda:0')\n",
      "Pred: tensor([[149.1961,  93.1071, 395.5262, 310.8287]], device='cuda:0')\n",
      "GT: tensor([[175.4217,  65.7280, 370.0562, 299.5200]], device='cuda:0')\n"
     ]
    },
    {
     "name": "stderr",
     "output_type": "stream",
     "text": [
      "[2019-05-31 10:46:53,443 <ipython-input-2-7667fb18f09c>] Batch [449/2077] mAP: 0.24530\n",
      "[2019-05-31 10:46:53,499 <ipython-input-2-7667fb18f09c>] Batch [450/2077] mAP: 0.24594\n",
      "[2019-05-31 10:46:53,554 <ipython-input-2-7667fb18f09c>] Batch [451/2077] mAP: 0.24659\n",
      "[2019-05-31 10:46:53,620 <ipython-input-2-7667fb18f09c>] Batch [452/2077] mAP: 0.24638\n"
     ]
    },
    {
     "name": "stdout",
     "output_type": "stream",
     "text": [
      "Pred: tensor([[ 16.1734,  -5.9129, 159.5563, 438.8118]], device='cuda:0')\n",
      "GT: tensor([[202.9879,  15.8080, 301.5582, 228.8000]], device='cuda:0')\n",
      "Pred: tensor([[ 16.1734,  -5.9129, 159.5563, 438.8118]], device='cuda:0')\n",
      "GT: tensor([[ 27.5663,  57.4080, 156.2088, 379.3920]], device='cuda:0')\n",
      "Pred: tensor([[ 75.7702, 145.9323, 348.5056, 267.0599]], device='cuda:0')\n",
      "GT: tensor([[  0.0000, 176.1441, 390.2080, 261.0931]], device='cuda:0')\n",
      "Pred: tensor([[152.7964, 144.0751, 384.2823, 461.1933]], device='cuda:0')\n",
      "GT: tensor([[133.1200, 169.7280, 409.3440, 415.1680]], device='cuda:0')\n",
      "Pred: tensor([[189.3003, 192.4113, 298.6029, 242.3107]], device='cuda:0')\n",
      "GT: tensor([[212.9920, 199.0675, 288.7040, 228.4172]], device='cuda:0')\n",
      "Pred: tensor([[224.8604, 212.0436, 257.1551, 246.9399]], device='cuda:0')\n",
      "GT: tensor([[212.9920, 199.0675, 288.7040, 228.4172]], device='cuda:0')\n",
      "Pred: tensor([[239.0338, 182.8457, 284.4971, 244.1095]], device='cuda:0')\n",
      "GT: tensor([[212.9920, 199.0675, 288.7040, 228.4172]], device='cuda:0')\n",
      "Pred: tensor([[213.3417, 177.0696, 282.9807, 284.8916]], device='cuda:0')\n",
      "GT: tensor([[212.9920, 199.0675, 288.7040, 228.4172]], device='cuda:0')\n",
      "Pred: tensor([[190.6858, 155.1907, 335.3835, 306.9228]], device='cuda:0')\n",
      "GT: tensor([[212.9920, 199.0675, 288.7040, 228.4172]], device='cuda:0')\n"
     ]
    },
    {
     "name": "stderr",
     "output_type": "stream",
     "text": [
      "[2019-05-31 10:46:53,669 <ipython-input-2-7667fb18f09c>] Batch [453/2077] mAP: 0.24554\n",
      "[2019-05-31 10:46:53,714 <ipython-input-2-7667fb18f09c>] Batch [454/2077] mAP: 0.24618\n",
      "[2019-05-31 10:46:53,763 <ipython-input-2-7667fb18f09c>] Batch [455/2077] mAP: 0.24619\n",
      "[2019-05-31 10:46:53,797 <ipython-input-2-7667fb18f09c>] Batch [456/2077] mAP: 0.24598\n",
      "[2019-05-31 10:46:53,833 <ipython-input-2-7667fb18f09c>] Batch [457/2077] mAP: 0.24662\n",
      "[2019-05-31 10:46:53,880 <ipython-input-2-7667fb18f09c>] Batch [458/2077] mAP: 0.24600\n"
     ]
    },
    {
     "name": "stdout",
     "output_type": "stream",
     "text": [
      "Pred: tensor([[ 83.0356, 105.0363, 338.7076, 448.6685]], device='cuda:0')\n",
      "GT: tensor([[107.3280, 139.7760, 374.4000, 414.8907]], device='cuda:0')\n",
      "Pred: tensor([[162.4816, 152.3049, 313.8484, 392.6523]], device='cuda:0')\n",
      "GT: tensor([[182.2080, 181.1411, 367.7440, 381.0210]], device='cuda:0')\n",
      "Pred: tensor([[162.4816, 152.3049, 313.8484, 392.6523]], device='cuda:0')\n",
      "GT: tensor([[ 90.6880, 151.1592, 200.5120, 362.2823]], device='cuda:0')\n",
      "Pred: tensor([[162.4816, 152.3049, 313.8484, 392.6523]], device='cuda:0')\n",
      "GT: tensor([[119.8080, 208.6246, 206.3360, 342.2943]], device='cuda:0')\n",
      "Pred: tensor([[ 52.6991,  35.8237, 302.4108, 246.5160]], device='cuda:0')\n",
      "GT: tensor([[ 34.9440,  26.8387, 350.2720, 236.7558]], device='cuda:0')\n",
      "Pred: tensor([[ 24.6125, 116.3466, 386.3799, 421.7581]], device='cuda:0')\n",
      "GT: tensor([[ 91.5200, 209.8739, 323.6480, 398.5105]], device='cuda:0')\n",
      "Pred: tensor([[ 24.6125, 116.3466, 386.3799, 421.7581]], device='cuda:0')\n",
      "GT: tensor([[ 52.4160, 123.6757, 141.4400, 318.5586]], device='cuda:0')\n",
      "Pred: tensor([[ 24.6125, 116.3466, 386.3799, 421.7581]], device='cuda:0')\n",
      "GT: tensor([[130.6240, 137.4174, 302.0160, 231.1111]], device='cuda:0')\n"
     ]
    },
    {
     "name": "stderr",
     "output_type": "stream",
     "text": [
      "[2019-05-31 10:46:53,917 <ipython-input-2-7667fb18f09c>] Batch [459/2077] mAP: 0.24663\n",
      "[2019-05-31 10:46:53,954 <ipython-input-2-7667fb18f09c>] Batch [460/2077] mAP: 0.24727\n",
      "[2019-05-31 10:46:53,991 <ipython-input-2-7667fb18f09c>] Batch [461/2077] mAP: 0.24790\n",
      "[2019-05-31 10:46:54,044 <ipython-input-2-7667fb18f09c>] Batch [462/2077] mAP: 0.24707\n",
      "[2019-05-31 10:46:54,079 <ipython-input-2-7667fb18f09c>] Batch [463/2077] mAP: 0.24583\n",
      "[2019-05-31 10:46:54,111 <ipython-input-2-7667fb18f09c>] Batch [464/2077] mAP: 0.24563\n"
     ]
    },
    {
     "name": "stdout",
     "output_type": "stream",
     "text": [
      "Pred: tensor([[ -2.0163,  69.7076, 423.0814, 404.2632]], device='cuda:0')\n",
      "GT: tensor([[ 44.0960,  42.1547, 391.0400, 371.6267]], device='cuda:0')\n",
      "Pred: tensor([[ 32.9192,  42.0399, 374.6301, 377.5995]], device='cuda:0')\n",
      "GT: tensor([[  0.8320,   0.0000, 415.1680, 414.8907]], device='cuda:0')\n",
      "Pred: tensor([[ 64.8984,  34.4534, 291.6787, 379.6037]], device='cuda:0')\n",
      "GT: tensor([[  0.0000,   0.0000, 334.4640, 398.2439]], device='cuda:0')\n",
      "Pred: tensor([[ 12.0650, 175.5117, 102.2482, 283.4772]], device='cuda:0')\n",
      "GT: tensor([[224.6400, 217.7067, 336.9600, 354.9867]], device='cuda:0')\n",
      "Pred: tensor([[ 12.0650, 175.5117, 102.2482, 283.4772]], device='cuda:0')\n",
      "GT: tensor([[ 52.0000, 192.7467, 101.9200, 282.8800]], device='cuda:0')\n",
      "Pred: tensor([[ 12.0650, 175.5117, 102.2482, 283.4772]], device='cuda:0')\n",
      "GT: tensor([[ 18.7200, 180.2667,  66.5600, 245.4400]], device='cuda:0')\n",
      "Pred: tensor([[ 12.0650, 175.5117, 102.2482, 283.4772]], device='cuda:0')\n",
      "GT: tensor([[ 90.4800, 149.7600, 108.1600, 184.4267]], device='cuda:0')\n"
     ]
    },
    {
     "name": "stderr",
     "output_type": "stream",
     "text": [
      "[2019-05-31 10:46:54,149 <ipython-input-2-7667fb18f09c>] Batch [465/2077] mAP: 0.24605\n",
      "[2019-05-31 10:46:54,203 <ipython-input-2-7667fb18f09c>] Batch [466/2077] mAP: 0.24668\n",
      "[2019-05-31 10:46:54,259 <ipython-input-2-7667fb18f09c>] Batch [467/2077] mAP: 0.24627\n",
      "[2019-05-31 10:46:54,308 <ipython-input-2-7667fb18f09c>] Batch [468/2077] mAP: 0.24689\n"
     ]
    },
    {
     "name": "stdout",
     "output_type": "stream",
     "text": [
      "Pred: tensor([[ 99.1796, 137.2193, 376.0287, 326.1500]], device='cuda:0')\n",
      "GT: tensor([[116.4800, 141.4164, 347.7760, 319.3654]], device='cuda:0')\n",
      "Pred: tensor([[ 71.6273,  65.1223, 333.9175, 349.1197]], device='cuda:0')\n",
      "GT: tensor([[ 24.2667,   6.0667, 381.3333, 415.1333]], device='cuda:0')\n",
      "Pred: tensor([[172.4494,  91.8858, 307.9868, 313.2700]], device='cuda:0')\n",
      "GT: tensor([[146.4320,  36.2282, 300.3520, 359.7838]], device='cuda:0')\n"
     ]
    },
    {
     "name": "stderr",
     "output_type": "stream",
     "text": [
      "[2019-05-31 10:46:54,353 <ipython-input-2-7667fb18f09c>] Batch [469/2077] mAP: 0.24669\n",
      "[2019-05-31 10:46:54,407 <ipython-input-2-7667fb18f09c>] Batch [470/2077] mAP: 0.24670\n",
      "[2019-05-31 10:46:54,445 <ipython-input-2-7667fb18f09c>] Batch [471/2077] mAP: 0.24732\n",
      "[2019-05-31 10:46:54,487 <ipython-input-2-7667fb18f09c>] Batch [472/2077] mAP: 0.24774\n",
      "[2019-05-31 10:46:54,526 <ipython-input-2-7667fb18f09c>] Batch [473/2077] mAP: 0.24836\n"
     ]
    },
    {
     "name": "stdout",
     "output_type": "stream",
     "text": [
      "Pred: tensor([[114.2069,  68.4831, 283.2602, 268.3643]], device='cuda:0')\n",
      "GT: tensor([[ 33.2800,  30.5067, 339.7333, 312.0000]], device='cuda:0')\n",
      "Pred: tensor([[ 64.3114, 180.6180, 411.8549, 359.1997]], device='cuda:0')\n",
      "GT: tensor([[ 81.5360, 183.6396, 382.7200, 331.0511]], device='cuda:0')\n",
      "Pred: tensor([[ 64.3114, 180.6180, 411.8549, 359.1997]], device='cuda:0')\n",
      "GT: tensor([[  0.0000, 224.8649,  44.0960, 253.5976]], device='cuda:0')\n",
      "Pred: tensor([[ 64.3114, 180.6180, 411.8549, 359.1997]], device='cuda:0')\n",
      "GT: tensor([[ 36.6080, 224.8649,  65.7280, 241.1051]], device='cuda:0')\n",
      "Pred: tensor([[ 64.3114, 180.6180, 411.8549, 359.1997]], device='cuda:0')\n",
      "GT: tensor([[ 98.1760, 219.8679, 124.8000, 236.1081]], device='cuda:0')\n",
      "Pred: tensor([[ 96.3376,  71.1942, 314.7137, 401.4621]], device='cuda:0')\n",
      "GT: tensor([[ 65.4507,  53.2480, 369.4080, 415.1680]], device='cuda:0')\n",
      "Pred: tensor([[159.7152, 103.9624, 311.2530, 372.6030]], device='cuda:0')\n",
      "GT: tensor([[147.2640,  83.2000, 326.9760, 406.0160]], device='cuda:0')\n",
      "Pred: tensor([[328.0240,  14.1184, 398.9625, 355.8879]], device='cuda:0')\n",
      "GT: tensor([[241.2800,   0.0000, 415.1680, 380.5013]], device='cuda:0')\n",
      "Pred: tensor([[173.0231, 108.9727, 327.0854, 356.1543]], device='cuda:0')\n",
      "GT: tensor([[149.7600,  86.5280, 350.2720, 393.8133]], device='cuda:0')\n"
     ]
    },
    {
     "name": "stderr",
     "output_type": "stream",
     "text": [
      "[2019-05-31 10:46:54,564 <ipython-input-2-7667fb18f09c>] Batch [474/2077] mAP: 0.24877\n",
      "[2019-05-31 10:46:54,598 <ipython-input-2-7667fb18f09c>] Batch [475/2077] mAP: 0.24836\n",
      "[2019-05-31 10:46:54,665 <ipython-input-2-7667fb18f09c>] Batch [476/2077] mAP: 0.24877\n",
      "[2019-05-31 10:46:54,720 <ipython-input-2-7667fb18f09c>] Batch [477/2077] mAP: 0.24857\n"
     ]
    },
    {
     "name": "stdout",
     "output_type": "stream",
     "text": [
      "Pred: tensor([[289.1055,   4.8971, 385.0242, 289.2481]], device='cuda:0')\n",
      "GT: tensor([[297.8560,   0.0000, 391.8720, 321.3413]], device='cuda:0')\n",
      "Pred: tensor([[327.4699, 301.4655, 397.0154, 360.0344]], device='cuda:0')\n",
      "GT: tensor([[322.3063, 316.9920, 397.2613, 356.9280]], device='cuda:0')\n",
      "Pred: tensor([[327.4699, 301.4655, 397.0154, 360.0344]], device='cuda:0')\n",
      "GT: tensor([[ 96.1922, 328.6400, 117.4294, 351.1040]], device='cuda:0')\n"
     ]
    },
    {
     "name": "stderr",
     "output_type": "stream",
     "text": [
      "[2019-05-31 10:46:54,789 <ipython-input-2-7667fb18f09c>] Batch [478/2077] mAP: 0.24898\n",
      "[2019-05-31 10:46:54,861 <ipython-input-2-7667fb18f09c>] Batch [479/2077] mAP: 0.24919\n",
      "[2019-05-31 10:46:54,930 <ipython-input-2-7667fb18f09c>] Batch [480/2077] mAP: 0.24959\n"
     ]
    },
    {
     "name": "stdout",
     "output_type": "stream",
     "text": [
      "Pred: tensor([[180.1437, 139.3031, 310.3167, 387.8368]], device='cuda:0')\n",
      "GT: tensor([[142.2720, 106.1862, 307.0080, 414.7508]], device='cuda:0')\n",
      "Pred: tensor([[180.1437, 139.3031, 310.3167, 387.8368]], device='cuda:0')\n",
      "GT: tensor([[ 74.0480, 131.1712, 133.9520, 414.7508]], device='cuda:0')\n",
      "Pred: tensor([[149.8313, 140.1573, 393.7640, 273.7263]], device='cuda:0')\n",
      "GT: tensor([[326.9760, 136.1794, 415.1680, 291.0135]], device='cuda:0')\n",
      "Pred: tensor([[149.8313, 140.1573, 393.7640, 273.7263]], device='cuda:0')\n",
      "GT: tensor([[166.4000,  91.4081, 351.1040, 311.5336]], device='cuda:0')\n",
      "Pred: tensor([[149.8313, 140.1573, 393.7640, 273.7263]], device='cuda:0')\n",
      "GT: tensor([[  0.0000,  98.8700, 174.7200, 309.6682]], device='cuda:0')\n",
      "Pred: tensor([[100.8385,  91.9048, 298.0306, 309.0794]], device='cuda:0')\n",
      "GT: tensor([[ 87.3600,  93.1840, 286.2080, 303.9573]], device='cuda:0')\n",
      "Pred: tensor([[351.9630, 209.5175, 384.8222, 286.2622]], device='cuda:0')\n",
      "GT: tensor([[342.7840, 214.1013, 359.4240, 275.1147]], device='cuda:0')\n"
     ]
    },
    {
     "name": "stderr",
     "output_type": "stream",
     "text": [
      "[2019-05-31 10:46:54,991 <ipython-input-2-7667fb18f09c>] Batch [481/2077] mAP: 0.24939\n",
      "[2019-05-31 10:46:55,059 <ipython-input-2-7667fb18f09c>] Batch [482/2077] mAP: 0.24959\n",
      "[2019-05-31 10:46:55,115 <ipython-input-2-7667fb18f09c>] Batch [483/2077] mAP: 0.24939\n",
      "[2019-05-31 10:46:55,171 <ipython-input-2-7667fb18f09c>] Batch [484/2077] mAP: 0.25000\n"
     ]
    },
    {
     "name": "stdout",
     "output_type": "stream",
     "text": [
      "Pred: tensor([[171.8458, 189.8304, 238.5880, 234.7057]], device='cuda:0')\n",
      "GT: tensor([[187.2000, 183.0400, 222.1440, 239.6160]], device='cuda:0')\n",
      "Pred: tensor([[-16.0657, 119.3867, 433.1311, 285.4374]], device='cuda:0')\n",
      "GT: tensor([[  1.6640,  91.1952, 410.1760, 266.0901]], device='cuda:0')\n",
      "Pred: tensor([[-16.0657, 119.3867, 433.1311, 285.4374]], device='cuda:0')\n",
      "GT: tensor([[  0.0000, 153.6577,  47.4240, 212.3724]], device='cuda:0')\n",
      "Pred: tensor([[ 39.8224, -24.0437, 424.3916, 443.6570]], device='cuda:0')\n",
      "GT: tensor([[122.8754,   0.0000, 319.7722, 405.1840]], device='cuda:0')\n",
      "Pred: tensor([[155.0849,  21.9441, 305.2932, 392.1408]], device='cuda:0')\n",
      "GT: tensor([[122.8754,   0.0000, 319.7722, 405.1840]], device='cuda:0')\n"
     ]
    },
    {
     "name": "stderr",
     "output_type": "stream",
     "text": [
      "[2019-05-31 10:46:55,233 <ipython-input-2-7667fb18f09c>] Batch [485/2077] mAP: 0.25061\n",
      "[2019-05-31 10:46:55,284 <ipython-input-2-7667fb18f09c>] Batch [486/2077] mAP: 0.25121\n",
      "[2019-05-31 10:46:55,324 <ipython-input-2-7667fb18f09c>] Batch [487/2077] mAP: 0.25161\n",
      "[2019-05-31 10:46:55,362 <ipython-input-2-7667fb18f09c>] Batch [488/2077] mAP: 0.25222\n",
      "[2019-05-31 10:46:55,395 <ipython-input-2-7667fb18f09c>] Batch [489/2077] mAP: 0.25201\n",
      "[2019-05-31 10:46:55,427 <ipython-input-2-7667fb18f09c>] Batch [490/2077] mAP: 0.25141\n"
     ]
    },
    {
     "name": "stdout",
     "output_type": "stream",
     "text": [
      "Pred: tensor([[281.7455, 173.3430, 410.6674, 305.6537]], device='cuda:0')\n",
      "GT: tensor([[267.0720, 173.0687, 406.0160, 319.1451]], device='cuda:0')\n",
      "Pred: tensor([[140.3098, 146.9746, 277.3011, 323.6060]], device='cuda:0')\n",
      "GT: tensor([[  0.0000,  64.8960, 393.2903, 415.1680]], device='cuda:0')\n",
      "Pred: tensor([[ 82.0633,  61.9388, 331.0198, 412.0245]], device='cuda:0')\n",
      "GT: tensor([[  0.0000,  64.8960, 393.2903, 415.1680]], device='cuda:0')\n",
      "Pred: tensor([[ 44.4599,  37.8661, 173.9498, 374.4720]], device='cuda:0')\n",
      "GT: tensor([[ 59.0720,  47.7013, 163.9040, 358.3147]], device='cuda:0')\n",
      "Pred: tensor([[ 15.0547,  72.8294, 408.6639, 337.4888]], device='cuda:0')\n",
      "GT: tensor([[  0.0000,  89.8560, 410.1760, 310.6133]], device='cuda:0')\n"
     ]
    },
    {
     "name": "stderr",
     "output_type": "stream",
     "text": [
      "[2019-05-31 10:46:55,465 <ipython-input-2-7667fb18f09c>] Batch [491/2077] mAP: 0.25201\n",
      "[2019-05-31 10:46:55,503 <ipython-input-2-7667fb18f09c>] Batch [492/2077] mAP: 0.25220\n",
      "[2019-05-31 10:46:55,540 <ipython-input-2-7667fb18f09c>] Batch [493/2077] mAP: 0.25280\n",
      "[2019-05-31 10:46:55,576 <ipython-input-2-7667fb18f09c>] Batch [494/2077] mAP: 0.25340\n",
      "[2019-05-31 10:46:55,614 <ipython-input-2-7667fb18f09c>] Batch [495/2077] mAP: 0.25379\n",
      "[2019-05-31 10:46:55,655 <ipython-input-2-7667fb18f09c>] Batch [496/2077] mAP: 0.25418\n"
     ]
    },
    {
     "name": "stdout",
     "output_type": "stream",
     "text": [
      "Pred: tensor([[ 32.8997,  64.3160, 326.6257, 357.2442]], device='cuda:0')\n",
      "GT: tensor([[ 61.0133,  56.5760, 337.2373, 381.0560]], device='cuda:0')\n",
      "Pred: tensor([[ 59.0442,  10.7810, 350.0294, 420.5760]], device='cuda:0')\n",
      "GT: tensor([[  1.2840,  41.4988, 378.7654, 414.9878]], device='cuda:0')\n",
      "Pred: tensor([[ 65.8854,  81.3043, 289.3646, 395.7924]], device='cuda:0')\n",
      "GT: tensor([[ 84.0320,  79.7126, 289.5360, 374.8982]], device='cuda:0')\n",
      "Pred: tensor([[ 44.1630,  51.2778, 374.9244, 417.1072]], device='cuda:0')\n",
      "GT: tensor([[  0.0000,  40.6121, 350.2720, 405.0237]], device='cuda:0')\n",
      "Pred: tensor([[126.0696,  95.4266, 287.4011, 365.5725]], device='cuda:0')\n",
      "GT: tensor([[143.9360,  47.7013, 252.0960, 414.8907]], device='cuda:0')\n",
      "Pred: tensor([[149.5891,  95.3699, 338.9702, 335.0041]], device='cuda:0')\n",
      "GT: tensor([[161.4080,  97.6213, 348.6080, 358.3147]], device='cuda:0')\n",
      "Pred: tensor([[149.5891,  95.3699, 338.9702, 335.0041]], device='cuda:0')\n",
      "GT: tensor([[ 96.5120, 248.4907, 192.1920, 383.8293]], device='cuda:0')\n"
     ]
    },
    {
     "name": "stderr",
     "output_type": "stream",
     "text": [
      "[2019-05-31 10:46:55,696 <ipython-input-2-7667fb18f09c>] Batch [497/2077] mAP: 0.25478\n",
      "[2019-05-31 10:46:55,761 <ipython-input-2-7667fb18f09c>] Batch [498/2077] mAP: 0.25457\n",
      "[2019-05-31 10:46:55,839 <ipython-input-2-7667fb18f09c>] Batch [499/2077] mAP: 0.25397\n",
      "[2019-05-31 10:46:55,888 <ipython-input-2-7667fb18f09c>] Batch [500/2077] mAP: 0.25456\n"
     ]
    },
    {
     "name": "stdout",
     "output_type": "stream",
     "text": [
      "Pred: tensor([[ 21.2973,   9.3009, 413.9672, 404.1617]], device='cuda:0')\n",
      "GT: tensor([[ 76.5440,   0.0000, 415.1680, 414.8907]], device='cuda:0')\n",
      "Pred: tensor([[116.3161, 197.4124, 282.4337, 394.4217]], device='cuda:0')\n",
      "GT: tensor([[  8.3200, 194.8829, 388.5440, 363.5315]], device='cuda:0')\n",
      "Pred: tensor([[ 65.9336, 147.4747, 347.9087, 442.3287]], device='cuda:0')\n",
      "GT: tensor([[  8.3200, 194.8829, 388.5440, 363.5315]], device='cuda:0')\n",
      "Pred: tensor([[339.5107, 378.9615, 392.5128, 405.9760]], device='cuda:0')\n",
      "GT: tensor([[ 25.7920,  13.3120, 415.1680, 414.8907]], device='cuda:0')\n",
      "Pred: tensor([[103.7458, 333.6750, 187.9213, 416.8157]], device='cuda:0')\n",
      "GT: tensor([[ 25.7920,  13.3120, 415.1680, 414.8907]], device='cuda:0')\n",
      "Pred: tensor([[339.5107, 378.9615, 392.5128, 405.9760]], device='cuda:0')\n",
      "GT: tensor([[ 85.6960, 329.4720, 282.0480, 414.8907]], device='cuda:0')\n",
      "Pred: tensor([[103.7458, 333.6750, 187.9213, 416.8157]], device='cuda:0')\n",
      "GT: tensor([[ 85.6960, 329.4720, 282.0480, 414.8907]], device='cuda:0')\n",
      "Pred: tensor([[153.6022,  98.8457, 275.6562, 270.1802]], device='cuda:0')\n",
      "GT: tensor([[154.9069,  42.4320, 256.0961, 307.0080]], device='cuda:0')\n"
     ]
    },
    {
     "name": "stderr",
     "output_type": "stream",
     "text": [
      "[2019-05-31 10:46:55,982 <ipython-input-2-7667fb18f09c>] Batch [501/2077] mAP: 0.25434\n",
      "[2019-05-31 10:46:56,016 <ipython-input-2-7667fb18f09c>] Batch [502/2077] mAP: 0.25394\n",
      "[2019-05-31 10:46:56,054 <ipython-input-2-7667fb18f09c>] Batch [503/2077] mAP: 0.25374\n",
      "[2019-05-31 10:46:56,104 <ipython-input-2-7667fb18f09c>] Batch [504/2077] mAP: 0.25413\n"
     ]
    },
    {
     "name": "stdout",
     "output_type": "stream",
     "text": [
      "Pred: tensor([[154.8786, 212.1610, 272.4139, 330.9174]], device='cuda:0')\n",
      "GT: tensor([[165.5680, 218.5387, 257.9200, 337.2373]], device='cuda:0')\n",
      "Pred: tensor([[154.8786, 212.1610, 272.4139, 330.9174]], device='cuda:0')\n",
      "GT: tensor([[326.9760, 224.0853, 415.1680, 333.9093]], device='cuda:0')\n",
      "Pred: tensor([[281.2997, 214.4762, 456.6808, 347.4745]], device='cuda:0')\n",
      "GT: tensor([[326.9760, 224.0853, 415.1680, 333.9093]], device='cuda:0')\n",
      "Pred: tensor([[208.5515, 249.8876, 259.2764, 301.0943]], device='cuda:0')\n",
      "GT: tensor([[326.9760, 224.0853, 415.1680, 333.9093]], device='cuda:0')\n",
      "Pred: tensor([[154.8786, 212.1610, 272.4139, 330.9174]], device='cuda:0')\n",
      "GT: tensor([[254.5920, 258.4747, 273.7280, 285.0987]], device='cuda:0')\n",
      "Pred: tensor([[281.2997, 214.4762, 456.6808, 347.4745]], device='cuda:0')\n",
      "GT: tensor([[254.5920, 258.4747, 273.7280, 285.0987]], device='cuda:0')\n",
      "Pred: tensor([[208.5515, 249.8876, 259.2764, 301.0943]], device='cuda:0')\n",
      "GT: tensor([[254.5920, 258.4747, 273.7280, 285.0987]], device='cuda:0')\n",
      "Pred: tensor([[154.8786, 212.1610, 272.4139, 330.9174]], device='cuda:0')\n",
      "GT: tensor([[ 82.3680, 265.1307,  97.3440, 282.8800]], device='cuda:0')\n",
      "Pred: tensor([[281.2997, 214.4762, 456.6808, 347.4745]], device='cuda:0')\n",
      "GT: tensor([[ 82.3680, 265.1307,  97.3440, 282.8800]], device='cuda:0')\n",
      "Pred: tensor([[208.5515, 249.8876, 259.2764, 301.0943]], device='cuda:0')\n",
      "GT: tensor([[ 82.3680, 265.1307,  97.3440, 282.8800]], device='cuda:0')\n",
      "Pred: tensor([[154.8786, 212.1610, 272.4139, 330.9174]], device='cuda:0')\n",
      "GT: tensor([[  0.0000, 242.9440,  18.3040, 267.3493]], device='cuda:0')\n",
      "Pred: tensor([[281.2997, 214.4762, 456.6808, 347.4745]], device='cuda:0')\n",
      "GT: tensor([[  0.0000, 242.9440,  18.3040, 267.3493]], device='cuda:0')\n",
      "Pred: tensor([[208.5515, 249.8876, 259.2764, 301.0943]], device='cuda:0')\n",
      "GT: tensor([[  0.0000, 242.9440,  18.3040, 267.3493]], device='cuda:0')\n",
      "Pred: tensor([[ -2.8301,  86.9370, 357.6434, 323.7930]], device='cuda:0')\n",
      "GT: tensor([[196.3520, 169.9032, 324.4800, 279.3768]], device='cuda:0')\n",
      "Pred: tensor([[179.6288, 165.9520, 249.7448, 259.2485]], device='cuda:0')\n",
      "GT: tensor([[155.5840, 161.1532, 259.5840, 258.5946]], device='cuda:0')\n",
      "Pred: tensor([[179.6288, 165.9520, 249.7448, 259.2485]], device='cuda:0')\n",
      "GT: tensor([[231.2960, 236.1081, 294.5280, 316.0601]], device='cuda:0')\n",
      "Pred: tensor([[180.0299, 158.3630, 299.9680, 324.3727]], device='cuda:0')\n",
      "GT: tensor([[231.2960, 236.1081, 294.5280, 316.0601]], device='cuda:0')\n"
     ]
    },
    {
     "name": "stderr",
     "output_type": "stream",
     "text": [
      "[2019-05-31 10:46:56,157 <ipython-input-2-7667fb18f09c>] Batch [505/2077] mAP: 0.25313\n",
      "[2019-05-31 10:46:56,219 <ipython-input-2-7667fb18f09c>] Batch [506/2077] mAP: 0.25273\n",
      "[2019-05-31 10:46:56,258 <ipython-input-2-7667fb18f09c>] Batch [507/2077] mAP: 0.25312\n",
      "[2019-05-31 10:46:56,331 <ipython-input-2-7667fb18f09c>] Batch [508/2077] mAP: 0.25408\n"
     ]
    },
    {
     "name": "stdout",
     "output_type": "stream",
     "text": [
      "Pred: tensor([[153.4903,  73.5216, 254.5637, 209.1130]], device='cuda:0')\n",
      "GT: tensor([[278.7200,  99.9399, 406.0160, 414.7508]], device='cuda:0')\n",
      "Pred: tensor([[153.4903,  73.5216, 254.5637, 209.1130]], device='cuda:0')\n",
      "GT: tensor([[199.6800,  69.9580, 325.3120, 414.7508]], device='cuda:0')\n",
      "Pred: tensor([[153.4903,  73.5216, 254.5637, 209.1130]], device='cuda:0')\n",
      "GT: tensor([[154.7520,  72.4565, 234.6240, 386.0180]], device='cuda:0')\n",
      "Pred: tensor([[153.4903,  73.5216, 254.5637, 209.1130]], device='cuda:0')\n",
      "GT: tensor([[ 84.8640,  67.4595, 181.3760, 394.7628]], device='cuda:0')\n",
      "Pred: tensor([[-19.9887,  21.7411, 424.9390, 389.7631]], device='cuda:0')\n",
      "GT: tensor([[ 14.1440,  26.2342, 402.6880, 414.7508]], device='cuda:0')\n",
      "Pred: tensor([[-19.9887,  21.7411, 424.9390, 389.7631]], device='cuda:0')\n",
      "GT: tensor([[282.0480,   0.0000, 415.1680, 141.1652]], device='cuda:0')\n",
      "Pred: tensor([[-19.9887,  21.7411, 424.9390, 389.7631]], device='cuda:0')\n",
      "GT: tensor([[245.4400,   0.0000, 295.3600,  13.7417]], device='cuda:0')\n",
      "Pred: tensor([[-19.9887,  21.7411, 424.9390, 389.7631]], device='cuda:0')\n",
      "GT: tensor([[188.0320,   0.0000, 247.1040,  23.7357]], device='cuda:0')\n",
      "Pred: tensor([[-19.9887,  21.7411, 424.9390, 389.7631]], device='cuda:0')\n",
      "GT: tensor([[107.3280,   0.0000, 181.3760,  36.2282]], device='cuda:0')\n",
      "Pred: tensor([[-19.9887,  21.7411, 424.9390, 389.7631]], device='cuda:0')\n",
      "GT: tensor([[  0.0000,   0.0000, 110.6560,  67.4595]], device='cuda:0')\n",
      "Pred: tensor([[324.8312,  95.4631, 401.2710, 324.0078]], device='cuda:0')\n",
      "GT: tensor([[309.5040, 119.5514, 401.8560, 364.4860]], device='cuda:0')\n",
      "Pred: tensor([[ 59.5257, 128.5673, 222.9672, 369.6795]], device='cuda:0')\n",
      "GT: tensor([[ 72.4286,  99.0476, 202.4286, 414.7619]], device='cuda:0')\n",
      "Pred: tensor([[ 59.5257, 128.5673, 222.9672, 369.6795]], device='cuda:0')\n",
      "GT: tensor([[201.5000,  38.3810, 334.2857, 414.7619]], device='cuda:0')\n",
      "Pred: tensor([[182.1789,  71.2015, 365.6472, 399.5960]], device='cuda:0')\n",
      "GT: tensor([[201.5000,  38.3810, 334.2857, 414.7619]], device='cuda:0')\n"
     ]
    },
    {
     "name": "stderr",
     "output_type": "stream",
     "text": [
      "[2019-05-31 10:46:56,426 <ipython-input-2-7667fb18f09c>] Batch [509/2077] mAP: 0.25405\n",
      "[2019-05-31 10:46:56,464 <ipython-input-2-7667fb18f09c>] Batch [510/2077] mAP: 0.25347\n",
      "[2019-05-31 10:46:56,521 <ipython-input-2-7667fb18f09c>] Batch [511/2077] mAP: 0.25404\n",
      "[2019-05-31 10:46:56,566 <ipython-input-2-7667fb18f09c>] Batch [512/2077] mAP: 0.25385\n"
     ]
    },
    {
     "name": "stdout",
     "output_type": "stream",
     "text": [
      "Pred: tensor([[ 32.8289,  85.0695, 195.3694, 409.2291]], device='cuda:0')\n",
      "GT: tensor([[ 50.7520, 116.4800,  94.8480, 199.6800]], device='cuda:0')\n",
      "Pred: tensor([[ 58.6047, 121.9800,  91.9105, 218.2079]], device='cuda:0')\n",
      "GT: tensor([[ 50.7520, 116.4800,  94.8480, 199.6800]], device='cuda:0')\n",
      "Pred: tensor([[ 32.8289,  85.0695, 195.3694, 409.2291]], device='cuda:0')\n",
      "GT: tensor([[ 53.2480, 128.6827, 169.7280, 397.1413]], device='cuda:0')\n",
      "Pred: tensor([[ 32.8289,  85.0695, 195.3694, 409.2291]], device='cuda:0')\n",
      "GT: tensor([[158.9120, 151.9787, 230.4640, 414.8907]], device='cuda:0')\n",
      "Pred: tensor([[ 58.6047, 121.9800,  91.9105, 218.2079]], device='cuda:0')\n",
      "GT: tensor([[158.9120, 151.9787, 230.4640, 414.8907]], device='cuda:0')\n",
      "Pred: tensor([[ 32.8289,  85.0695, 195.3694, 409.2291]], device='cuda:0')\n",
      "GT: tensor([[190.5280, 133.1200, 237.9520, 399.3600]], device='cuda:0')\n",
      "Pred: tensor([[ 58.6047, 121.9800,  91.9105, 218.2079]], device='cuda:0')\n",
      "GT: tensor([[190.5280, 133.1200, 237.9520, 399.3600]], device='cuda:0')\n",
      "Pred: tensor([[ 32.8289,  85.0695, 195.3694, 409.2291]], device='cuda:0')\n",
      "GT: tensor([[191.3600,  46.5920, 292.0320, 266.2400]], device='cuda:0')\n",
      "Pred: tensor([[ 58.6047, 121.9800,  91.9105, 218.2079]], device='cuda:0')\n",
      "GT: tensor([[191.3600,  46.5920, 292.0320, 266.2400]], device='cuda:0')\n",
      "Pred: tensor([[ 32.8289,  85.0695, 195.3694, 409.2291]], device='cuda:0')\n",
      "GT: tensor([[283.7120,  69.8880, 334.4640, 282.8800]], device='cuda:0')\n",
      "Pred: tensor([[ 58.6047, 121.9800,  91.9105, 218.2079]], device='cuda:0')\n",
      "GT: tensor([[283.7120,  69.8880, 334.4640, 282.8800]], device='cuda:0')\n",
      "Pred: tensor([[ 11.7067, 113.7696, 392.5823, 310.3089]], device='cuda:0')\n",
      "GT: tensor([[  0.0000,  63.2320, 377.3892, 415.1680]], device='cuda:0')\n",
      "Pred: tensor([[112.9876,  56.1422, 325.1275, 377.1556]], device='cuda:0')\n",
      "GT: tensor([[107.3280,  92.1749, 393.5360, 280.1633]], device='cuda:0')\n"
     ]
    },
    {
     "name": "stderr",
     "output_type": "stream",
     "text": [
      "[2019-05-31 10:46:56,625 <ipython-input-2-7667fb18f09c>] Batch [513/2077] mAP: 0.25326\n",
      "[2019-05-31 10:46:56,689 <ipython-input-2-7667fb18f09c>] Batch [514/2077] mAP: 0.25249\n",
      "[2019-05-31 10:46:56,746 <ipython-input-2-7667fb18f09c>] Batch [515/2077] mAP: 0.25191\n",
      "[2019-05-31 10:46:56,813 <ipython-input-2-7667fb18f09c>] Batch [516/2077] mAP: 0.25229\n"
     ]
    },
    {
     "name": "stdout",
     "output_type": "stream",
     "text": [
      "Pred: tensor([[333.6057, 134.7471, 353.4343, 198.9960]], device='cuda:0')\n",
      "GT: tensor([[336.9600, 141.1652, 348.6080, 179.8919]], device='cuda:0')\n",
      "Pred: tensor([[ -8.9847,  29.6320, 420.5368, 386.8773]], device='cuda:0')\n",
      "GT: tensor([[  0.0000, 210.7733,  19.1360, 236.2880]], device='cuda:0')\n",
      "Pred: tensor([[100.6537, 147.2817, 176.0368, 328.0933]], device='cuda:0')\n",
      "GT: tensor([[ 52.1448, 123.7175, 210.8969, 332.4907]], device='cuda:0')\n",
      "Pred: tensor([[ 51.8543, 164.2081, 219.3658, 303.2314]], device='cuda:0')\n",
      "GT: tensor([[ 52.1448, 123.7175, 210.8969, 332.4907]], device='cuda:0')\n",
      "Pred: tensor([[100.6537, 147.2817, 176.0368, 328.0933]], device='cuda:0')\n",
      "GT: tensor([[242.1838,  55.6729, 404.4123, 295.3755]], device='cuda:0')\n",
      "Pred: tensor([[ 51.8543, 164.2081, 219.3658, 303.2314]], device='cuda:0')\n",
      "GT: tensor([[242.1838,  55.6729, 404.4123, 295.3755]], device='cuda:0')\n"
     ]
    },
    {
     "name": "stderr",
     "output_type": "stream",
     "text": [
      "[2019-05-31 10:46:56,866 <ipython-input-2-7667fb18f09c>] Batch [517/2077] mAP: 0.25209\n",
      "[2019-05-31 10:46:56,909 <ipython-input-2-7667fb18f09c>] Batch [518/2077] mAP: 0.25171\n",
      "[2019-05-31 10:46:56,945 <ipython-input-2-7667fb18f09c>] Batch [519/2077] mAP: 0.25152\n",
      "[2019-05-31 10:46:57,010 <ipython-input-2-7667fb18f09c>] Batch [520/2077] mAP: 0.25152\n",
      "[2019-05-31 10:46:57,066 <ipython-input-2-7667fb18f09c>] Batch [521/2077] mAP: 0.25208\n",
      "[2019-05-31 10:46:57,104 <ipython-input-2-7667fb18f09c>] Batch [522/2077] mAP: 0.25151\n",
      "[2019-05-31 10:46:57,146 <ipython-input-2-7667fb18f09c>] Batch [523/2077] mAP: 0.25132\n",
      "[2019-05-31 10:46:57,178 <ipython-input-2-7667fb18f09c>] Batch [524/2077] mAP: 0.25113\n"
     ]
    },
    {
     "name": "stdout",
     "output_type": "stream",
     "text": [
      "Pred: tensor([[ 79.6903, 117.9441, 283.2162, 376.3932]], device='cuda:0')\n",
      "GT: tensor([[ 62.4000, 137.6162, 302.0160, 359.2727]], device='cuda:0')\n",
      "Pred: tensor([[174.6180,  65.3778, 235.4796, 221.1574]], device='cuda:0')\n",
      "GT: tensor([[151.4240,  46.2222, 222.9760, 243.7172]], device='cuda:0')\n",
      "Pred: tensor([[145.8483,  15.0095, 253.6665, 289.9898]], device='cuda:0')\n",
      "GT: tensor([[151.4240,  46.2222, 222.9760, 243.7172]], device='cuda:0')\n",
      "Pred: tensor([[174.6180,  65.3778, 235.4796, 221.1574]], device='cuda:0')\n",
      "GT: tensor([[154.7520, 246.8687, 178.8800, 319.3535]], device='cuda:0')\n",
      "Pred: tensor([[145.8483,  15.0095, 253.6665, 289.9898]], device='cuda:0')\n",
      "GT: tensor([[154.7520, 246.8687, 178.8800, 319.3535]], device='cuda:0')\n",
      "Pred: tensor([[174.6180,  65.3778, 235.4796, 221.1574]], device='cuda:0')\n",
      "GT: tensor([[208.0000, 262.6263, 234.6240, 314.1010]], device='cuda:0')\n",
      "Pred: tensor([[145.8483,  15.0095, 253.6665, 289.9898]], device='cuda:0')\n",
      "GT: tensor([[208.0000, 262.6263, 234.6240, 314.1010]], device='cuda:0')\n",
      "Pred: tensor([[266.4495, 209.0158, 329.8744, 275.4108]], device='cuda:0')\n",
      "GT: tensor([[279.5520, 216.3200, 336.1280, 266.2400]], device='cuda:0')\n",
      "Pred: tensor([[255.5008, 206.6867, 293.4296, 262.6153]], device='cuda:0')\n",
      "GT: tensor([[243.7760, 203.0080, 262.0800, 267.3493]], device='cuda:0')\n",
      "Pred: tensor([[255.5008, 206.6867, 293.4296, 262.6153]], device='cuda:0')\n",
      "GT: tensor([[158.0800, 238.5067, 196.3520, 302.8480]], device='cuda:0')\n",
      "Pred: tensor([[255.5008, 206.6867, 293.4296, 262.6153]], device='cuda:0')\n",
      "GT: tensor([[228.8000, 198.5707, 244.6080, 267.3493]], device='cuda:0')\n",
      "Pred: tensor([[100.1905, 177.3174, 193.5204, 287.3867]], device='cuda:0')\n",
      "GT: tensor([[120.6400, 178.6027, 228.8000, 282.8800]], device='cuda:0')\n",
      "Pred: tensor([[ 81.1292, 232.4328, 138.3286, 322.3542]], device='cuda:0')\n",
      "GT: tensor([[ 54.9120, 209.8739, 158.0800, 414.7508]], device='cuda:0')\n",
      "Pred: tensor([[ 55.4195, 339.1865,  90.7348, 414.8450]], device='cuda:0')\n",
      "GT: tensor([[ 66.5600, 348.3077,  82.3680, 406.1538]], device='cuda:0')\n",
      "Pred: tensor([[383.7583, 282.8848, 400.5652, 323.7545]], device='cuda:0')\n",
      "GT: tensor([[ 66.5600, 348.3077,  82.3680, 406.1538]], device='cuda:0')\n"
     ]
    },
    {
     "name": "stderr",
     "output_type": "stream",
     "text": [
      "[2019-05-31 10:46:57,226 <ipython-input-2-7667fb18f09c>] Batch [525/2077] mAP: 0.25094\n",
      "[2019-05-31 10:46:57,258 <ipython-input-2-7667fb18f09c>] Batch [526/2077] mAP: 0.25075\n",
      "[2019-05-31 10:46:57,305 <ipython-input-2-7667fb18f09c>] Batch [527/2077] mAP: 0.25075\n",
      "[2019-05-31 10:46:57,340 <ipython-input-2-7667fb18f09c>] Batch [528/2077] mAP: 0.25037\n",
      "[2019-05-31 10:46:57,384 <ipython-input-2-7667fb18f09c>] Batch [529/2077] mAP: 0.24944\n"
     ]
    },
    {
     "name": "stdout",
     "output_type": "stream",
     "text": [
      "Pred: tensor([[163.1917, 132.8444, 318.4267, 404.5378]], device='cuda:0')\n",
      "GT: tensor([[  0.0000, 237.1821,  15.8080, 414.7582]], device='cuda:0')\n",
      "Pred: tensor([[163.1917, 132.8444, 318.4267, 404.5378]], device='cuda:0')\n",
      "GT: tensor([[158.0800, 134.1134, 316.1600, 414.7582]], device='cuda:0')\n",
      "Pred: tensor([[163.1917, 132.8444, 318.4267, 404.5378]], device='cuda:0')\n",
      "GT: tensor([[376.8960, 152.7403, 415.1680, 414.7582]], device='cuda:0')\n",
      "Pred: tensor([[122.1689,  53.7561, 220.0724, 155.8653]], device='cuda:0')\n",
      "GT: tensor([[  9.9840,  59.9040, 105.6640, 203.0080]], device='cuda:0')\n",
      "Pred: tensor([[122.1689,  53.7561, 220.0724, 155.8653]], device='cuda:0')\n",
      "GT: tensor([[ 96.5120,  29.9520, 232.1280, 150.8693]], device='cuda:0')\n",
      "Pred: tensor([[287.9944, 136.7398, 316.3571, 198.2561]], device='cuda:0')\n",
      "GT: tensor([[174.7200, 174.1653, 415.1680, 414.8907]], device='cuda:0')\n",
      "Pred: tensor([[ 33.2527,  97.3828,  61.0672, 142.9459]], device='cuda:0')\n",
      "GT: tensor([[ 14.9760,  79.8720,  50.7520, 165.2907]], device='cuda:0')\n",
      "Pred: tensor([[ 33.2527,  97.3828,  61.0672, 142.9459]], device='cuda:0')\n",
      "GT: tensor([[ 17.4720,  66.5600, 217.1520, 414.8907]], device='cuda:0')\n"
     ]
    },
    {
     "name": "stderr",
     "output_type": "stream",
     "text": [
      "[2019-05-31 10:46:57,435 <ipython-input-2-7667fb18f09c>] Batch [530/2077] mAP: 0.24926\n",
      "[2019-05-31 10:46:57,496 <ipython-input-2-7667fb18f09c>] Batch [531/2077] mAP: 0.24981\n",
      "[2019-05-31 10:46:57,552 <ipython-input-2-7667fb18f09c>] Batch [532/2077] mAP: 0.24982\n",
      "[2019-05-31 10:46:57,588 <ipython-input-2-7667fb18f09c>] Batch [533/2077] mAP: 0.24945\n",
      "[2019-05-31 10:46:57,621 <ipython-input-2-7667fb18f09c>] Batch [534/2077] mAP: 0.24926\n",
      "[2019-05-31 10:46:57,660 <ipython-input-2-7667fb18f09c>] Batch [535/2077] mAP: 0.24908\n"
     ]
    },
    {
     "name": "stdout",
     "output_type": "stream",
     "text": [
      "Pred: tensor([[200.6657, 275.9489, 291.8196, 327.4105]], device='cuda:0')\n",
      "GT: tensor([[212.9920, 280.6613, 302.0160, 319.4880]], device='cuda:0')\n",
      "Pred: tensor([[ 27.1833, 112.8119, 203.5703, 417.3519]], device='cuda:0')\n",
      "GT: tensor([[ 19.1360,  94.2933, 195.5200, 414.8907]], device='cuda:0')\n",
      "Pred: tensor([[ 27.1833, 112.8119, 203.5703, 417.3519]], device='cuda:0')\n",
      "GT: tensor([[229.6320,  83.2000, 415.1680, 414.8907]], device='cuda:0')\n",
      "Pred: tensor([[101.9547,  57.5265, 258.2152, 407.3911]], device='cuda:0')\n",
      "GT: tensor([[  0.0000,  24.9600, 414.7545, 415.1680]], device='cuda:0')\n"
     ]
    },
    {
     "name": "stderr",
     "output_type": "stream",
     "text": [
      "[2019-05-31 10:46:57,695 <ipython-input-2-7667fb18f09c>] Batch [536/2077] mAP: 0.24890\n",
      "[2019-05-31 10:46:57,730 <ipython-input-2-7667fb18f09c>] Batch [537/2077] mAP: 0.24853\n",
      "[2019-05-31 10:46:57,777 <ipython-input-2-7667fb18f09c>] Batch [538/2077] mAP: 0.24872\n",
      "[2019-05-31 10:46:57,815 <ipython-input-2-7667fb18f09c>] Batch [539/2077] mAP: 0.24927\n",
      "[2019-05-31 10:46:57,865 <ipython-input-2-7667fb18f09c>] Batch [540/2077] mAP: 0.24909\n"
     ]
    },
    {
     "name": "stdout",
     "output_type": "stream",
     "text": [
      "Pred: tensor([[337.9934, 318.0185, 405.0564, 365.1937]], device='cuda:0')\n",
      "GT: tensor([[332.8000, 311.7227, 409.3440, 364.9707]], device='cuda:0')\n",
      "Pred: tensor([[211.7748, 224.4361, 348.4163, 379.6474]], device='cuda:0')\n",
      "GT: tensor([[195.5200, 228.5227, 358.5920, 368.2987]], device='cuda:0')\n",
      "Pred: tensor([[100.7072, 109.0662, 309.1647, 319.7141]], device='cuda:0')\n",
      "GT: tensor([[ 94.8480, 109.6727, 317.8240, 341.3091]], device='cuda:0')\n",
      "Pred: tensor([[ 98.6415,  51.9546, 247.6775, 116.3355]], device='cuda:0')\n",
      "GT: tensor([[  2.4960,  42.1547, 124.8000, 112.0427]], device='cuda:0')\n",
      "Pred: tensor([[ 17.7962,  45.4186, 125.0613, 127.2021]], device='cuda:0')\n",
      "GT: tensor([[  2.4960,  42.1547, 124.8000, 112.0427]], device='cuda:0')\n",
      "Pred: tensor([[ 98.6415,  51.9546, 247.6775, 116.3355]], device='cuda:0')\n",
      "GT: tensor([[114.8160,  63.2320, 231.2960, 117.5893]], device='cuda:0')\n",
      "Pred: tensor([[115.7724, 144.8412, 184.0824, 332.6859]], device='cuda:0')\n",
      "GT: tensor([[113.9840, 147.5413, 199.6800, 322.8160]], device='cuda:0')\n",
      "Pred: tensor([[115.7724, 144.8412, 184.0824, 332.6859]], device='cuda:0')\n",
      "GT: tensor([[203.0080, 102.0587, 288.7040, 320.5973]], device='cuda:0')\n"
     ]
    },
    {
     "name": "stderr",
     "output_type": "stream",
     "text": [
      "[2019-05-31 10:46:57,973 <ipython-input-2-7667fb18f09c>] Batch [541/2077] mAP: 0.25109\n",
      "[2019-05-31 10:46:58,025 <ipython-input-2-7667fb18f09c>] Batch [542/2077] mAP: 0.25054\n",
      "[2019-05-31 10:46:58,088 <ipython-input-2-7667fb18f09c>] Batch [543/2077] mAP: 0.25109\n",
      "[2019-05-31 10:46:58,145 <ipython-input-2-7667fb18f09c>] Batch [544/2077] mAP: 0.25036\n"
     ]
    },
    {
     "name": "stdout",
     "output_type": "stream",
     "text": [
      "Pred: tensor([[196.4020,  84.0304, 292.0516, 338.6259]], device='cuda:0')\n",
      "GT: tensor([[203.0080, 102.0587, 288.7040, 320.5973]], device='cuda:0')\n",
      "Pred: tensor([[ -4.3321,  43.8829, 292.3951, 440.9502]], device='cuda:0')\n",
      "GT: tensor([[  0.0000,  82.0907, 278.7200, 414.8907]], device='cuda:0')\n"
     ]
    },
    {
     "name": "stderr",
     "output_type": "stream",
     "text": [
      "[2019-05-31 10:46:58,197 <ipython-input-2-7667fb18f09c>] Batch [545/2077] mAP: 0.25018\n",
      "[2019-05-31 10:46:58,261 <ipython-input-2-7667fb18f09c>] Batch [546/2077] mAP: 0.24892\n",
      "[2019-05-31 10:46:58,321 <ipython-input-2-7667fb18f09c>] Batch [547/2077] mAP: 0.24928\n",
      "[2019-05-31 10:46:58,380 <ipython-input-2-7667fb18f09c>] Batch [548/2077] mAP: 0.24982\n",
      "[2019-05-31 10:46:58,431 <ipython-input-2-7667fb18f09c>] Batch [549/2077] mAP: 0.25036\n",
      "[2019-05-31 10:46:58,472 <ipython-input-2-7667fb18f09c>] Batch [550/2077] mAP: 0.25090\n",
      "[2019-05-31 10:46:58,510 <ipython-input-2-7667fb18f09c>] Batch [551/2077] mAP: 0.25125\n"
     ]
    },
    {
     "name": "stdout",
     "output_type": "stream",
     "text": [
      "Pred: tensor([[150.6328,  51.2232, 266.8420, 383.2042]], device='cuda:0')\n",
      "GT: tensor([[140.6080,  63.3503, 300.3520, 362.1523]], device='cuda:0')\n",
      "Pred: tensor([[ -2.6998, 119.1830, 424.0932, 284.2174]], device='cuda:0')\n",
      "GT: tensor([[ 48.2560, 118.6987, 383.5520, 266.2400]], device='cuda:0')\n",
      "Pred: tensor([[ 70.3764,  85.6082, 230.9395, 259.1648]], device='cuda:0')\n",
      "GT: tensor([[ 28.2880,  66.5600, 250.4320, 236.2880]], device='cuda:0')\n",
      "Pred: tensor([[  6.9595,  22.7205, 347.1225, 388.6777]], device='cuda:0')\n",
      "GT: tensor([[ 14.9760,  49.6552, 273.7280, 339.8621]], device='cuda:0')\n",
      "Pred: tensor([[ 59.2223,  69.2649, 165.3225, 424.1179]], device='cuda:0')\n",
      "GT: tensor([[ 59.9040,  98.7307, 162.2400, 414.8907]], device='cuda:0')\n"
     ]
    },
    {
     "name": "stderr",
     "output_type": "stream",
     "text": [
      "[2019-05-31 10:46:58,544 <ipython-input-2-7667fb18f09c>] Batch [552/2077] mAP: 0.25107\n",
      "[2019-05-31 10:46:58,587 <ipython-input-2-7667fb18f09c>] Batch [553/2077] mAP: 0.25214\n",
      "[2019-05-31 10:46:58,629 <ipython-input-2-7667fb18f09c>] Batch [554/2077] mAP: 0.25178\n",
      "[2019-05-31 10:46:58,662 <ipython-input-2-7667fb18f09c>] Batch [555/2077] mAP: 0.25160\n",
      "[2019-05-31 10:46:58,746 <ipython-input-2-7667fb18f09c>] Batch [556/2077] mAP: 0.25107\n"
     ]
    },
    {
     "name": "stdout",
     "output_type": "stream",
     "text": [
      "Pred: tensor([[171.9879,  41.9665, 243.1242, 308.2814]], device='cuda:0')\n",
      "GT: tensor([[178.0480,  73.7057, 242.1120, 259.8438]], device='cuda:0')\n",
      "Pred: tensor([[172.2503,  78.4348, 246.7037, 330.9253]], device='cuda:0')\n",
      "GT: tensor([[186.3680, 136.1682, 259.5840, 311.0630]], device='cuda:0')\n",
      "Pred: tensor([[144.0203,  85.2750, 285.9976, 284.9830]], device='cuda:0')\n",
      "GT: tensor([[ 63.2320, 143.1040, 343.6160, 212.9920]], device='cuda:0')\n",
      "Pred: tensor([[144.0203,  85.2750, 285.9976, 284.9830]], device='cuda:0')\n",
      "GT: tensor([[341.9520, 194.1333, 380.2240, 211.8827]], device='cuda:0')\n",
      "Pred: tensor([[123.2598, 315.8544, 156.8460, 416.6250]], device='cuda:0')\n",
      "GT: tensor([[145.6000, 316.0601, 171.3920, 414.7508]], device='cuda:0')\n",
      "Pred: tensor([[148.8499, 265.6357, 379.5694, 473.2126]], device='cuda:0')\n",
      "GT: tensor([[145.6000, 316.0601, 171.3920, 414.7508]], device='cuda:0')\n",
      "Pred: tensor([[212.9478, 330.7267, 315.5291, 417.3917]], device='cuda:0')\n",
      "GT: tensor([[145.6000, 316.0601, 171.3920, 414.7508]], device='cuda:0')\n",
      "Pred: tensor([[238.7480, 263.6727, 292.4170, 490.7321]], device='cuda:0')\n",
      "GT: tensor([[145.6000, 316.0601, 171.3920, 414.7508]], device='cuda:0')\n",
      "Pred: tensor([[123.2598, 315.8544, 156.8460, 416.6250]], device='cuda:0')\n",
      "GT: tensor([[113.9840, 306.0661, 145.6000, 414.7508]], device='cuda:0')\n",
      "Pred: tensor([[148.8499, 265.6357, 379.5694, 473.2126]], device='cuda:0')\n",
      "GT: tensor([[113.9840, 306.0661, 145.6000, 414.7508]], device='cuda:0')\n",
      "Pred: tensor([[212.9478, 330.7267, 315.5291, 417.3917]], device='cuda:0')\n",
      "GT: tensor([[113.9840, 306.0661, 145.6000, 414.7508]], device='cuda:0')\n",
      "Pred: tensor([[238.7480, 263.6727, 292.4170, 490.7321]], device='cuda:0')\n",
      "GT: tensor([[113.9840, 306.0661, 145.6000, 414.7508]], device='cuda:0')\n",
      "Pred: tensor([[123.2598, 315.8544, 156.8460, 416.6250]], device='cuda:0')\n",
      "GT: tensor([[240.4480, 304.8168, 295.3600, 414.7508]], device='cuda:0')\n",
      "Pred: tensor([[148.8499, 265.6357, 379.5694, 473.2126]], device='cuda:0')\n",
      "GT: tensor([[240.4480, 304.8168, 295.3600, 414.7508]], device='cuda:0')\n",
      "Pred: tensor([[212.9478, 330.7267, 315.5291, 417.3917]], device='cuda:0')\n",
      "GT: tensor([[240.4480, 304.8168, 295.3600, 414.7508]], device='cuda:0')\n",
      "Pred: tensor([[238.7480, 263.6727, 292.4170, 490.7321]], device='cuda:0')\n",
      "GT: tensor([[240.4480, 304.8168, 295.3600, 414.7508]], device='cuda:0')\n"
     ]
    },
    {
     "name": "stderr",
     "output_type": "stream",
     "text": [
      "[2019-05-31 10:46:58,785 <ipython-input-2-7667fb18f09c>] Batch [557/2077] mAP: 0.25142\n",
      "[2019-05-31 10:46:58,888 <ipython-input-2-7667fb18f09c>] Batch [558/2077] mAP: 0.25000\n",
      "[2019-05-31 10:46:58,923 <ipython-input-2-7667fb18f09c>] Batch [559/2077] mAP: 0.24982\n",
      "[2019-05-31 10:46:58,955 <ipython-input-2-7667fb18f09c>] Batch [560/2077] mAP: 0.24912\n"
     ]
    },
    {
     "name": "stdout",
     "output_type": "stream",
     "text": [
      "Pred: tensor([[268.5023, 188.3513, 398.0306, 359.1928]], device='cuda:0')\n",
      "GT: tensor([[261.2480, 162.4867, 415.1680, 415.1493]], device='cuda:0')\n",
      "Pred: tensor([[303.6289, 206.1120, 373.3633, 331.5542]], device='cuda:0')\n",
      "GT: tensor([[334.1867, 206.9548, 363.3067, 332.3819]], device='cuda:0')\n",
      "Pred: tensor([[114.9960, 190.2330, 183.6754, 348.1143]], device='cuda:0')\n",
      "GT: tensor([[334.1867, 206.9548, 363.3067, 332.3819]], device='cuda:0')\n",
      "Pred: tensor([[303.6289, 206.1120, 373.3633, 331.5542]], device='cuda:0')\n",
      "GT: tensor([[216.3200, 217.4070, 244.0533, 326.1106]], device='cuda:0')\n",
      "Pred: tensor([[114.9960, 190.2330, 183.6754, 348.1143]], device='cuda:0')\n",
      "GT: tensor([[216.3200, 217.4070, 244.0533, 326.1106]], device='cuda:0')\n",
      "Pred: tensor([[303.6289, 206.1120, 373.3633, 331.5542]], device='cuda:0')\n",
      "GT: tensor([[189.9733, 209.0452, 214.9333, 321.9297]], device='cuda:0')\n",
      "Pred: tensor([[114.9960, 190.2330, 183.6754, 348.1143]], device='cuda:0')\n",
      "GT: tensor([[189.9733, 209.0452, 214.9333, 321.9297]], device='cuda:0')\n",
      "Pred: tensor([[303.6289, 206.1120, 373.3633, 331.5542]], device='cuda:0')\n",
      "GT: tensor([[167.7867, 204.8643, 199.6800, 319.8392]], device='cuda:0')\n",
      "Pred: tensor([[114.9960, 190.2330, 183.6754, 348.1143]], device='cuda:0')\n",
      "GT: tensor([[167.7867, 204.8643, 199.6800, 319.8392]], device='cuda:0')\n",
      "Pred: tensor([[303.6289, 206.1120, 373.3633, 331.5542]], device='cuda:0')\n",
      "GT: tensor([[142.8267, 200.6834, 169.1733, 319.8392]], device='cuda:0')\n",
      "Pred: tensor([[114.9960, 190.2330, 183.6754, 348.1143]], device='cuda:0')\n",
      "GT: tensor([[142.8267, 200.6834, 169.1733, 319.8392]], device='cuda:0')\n",
      "Pred: tensor([[303.6289, 206.1120, 373.3633, 331.5542]], device='cuda:0')\n",
      "GT: tensor([[126.1867, 206.9548, 149.7600, 324.0201]], device='cuda:0')\n",
      "Pred: tensor([[114.9960, 190.2330, 183.6754, 348.1143]], device='cuda:0')\n",
      "GT: tensor([[126.1867, 206.9548, 149.7600, 324.0201]], device='cuda:0')\n",
      "Pred: tensor([[303.6289, 206.1120, 373.3633, 331.5542]], device='cuda:0')\n",
      "GT: tensor([[ 88.7467, 204.8643, 119.2533, 317.7487]], device='cuda:0')\n",
      "Pred: tensor([[114.9960, 190.2330, 183.6754, 348.1143]], device='cuda:0')\n",
      "GT: tensor([[ 88.7467, 204.8643, 119.2533, 317.7487]], device='cuda:0')\n",
      "Pred: tensor([[303.6289, 206.1120, 373.3633, 331.5542]], device='cuda:0')\n",
      "GT: tensor([[ 66.5600, 200.6834,  88.7467, 317.7487]], device='cuda:0')\n",
      "Pred: tensor([[114.9960, 190.2330, 183.6754, 348.1143]], device='cuda:0')\n",
      "GT: tensor([[ 66.5600, 200.6834,  88.7467, 317.7487]], device='cuda:0')\n"
     ]
    },
    {
     "name": "stderr",
     "output_type": "stream",
     "text": [
      "[2019-05-31 10:46:58,993 <ipython-input-2-7667fb18f09c>] Batch [561/2077] mAP: 0.24965\n",
      "[2019-05-31 10:46:59,063 <ipython-input-2-7667fb18f09c>] Batch [562/2077] mAP: 0.25070\n",
      "[2019-05-31 10:46:59,121 <ipython-input-2-7667fb18f09c>] Batch [563/2077] mAP: 0.25053\n",
      "[2019-05-31 10:46:59,172 <ipython-input-2-7667fb18f09c>] Batch [564/2077] mAP: 0.24826\n"
     ]
    },
    {
     "name": "stdout",
     "output_type": "stream",
     "text": [
      "Pred: tensor([[ 15.7743, -10.7203, 390.9390, 418.0364]], device='cuda:0')\n",
      "GT: tensor([[ 10.8160,  33.2800, 403.5200, 379.3920]], device='cuda:0')\n",
      "Pred: tensor([[ 73.8133, 147.7489, 219.9942, 386.3010]], device='cuda:0')\n",
      "GT: tensor([[ 74.8800, 101.2193, 209.6640, 414.8877]], device='cuda:0')\n",
      "Pred: tensor([[ 73.8133, 147.7489, 219.9942, 386.3010]], device='cuda:0')\n",
      "GT: tensor([[188.8640, 101.2193, 311.1680, 414.8877]], device='cuda:0')\n",
      "Pred: tensor([[163.3164, 132.0163, 314.9912, 402.2144]], device='cuda:0')\n",
      "GT: tensor([[188.8640, 101.2193, 311.1680, 414.8877]], device='cuda:0')\n"
     ]
    },
    {
     "name": "stderr",
     "output_type": "stream",
     "text": [
      "[2019-05-31 10:46:59,213 <ipython-input-2-7667fb18f09c>] Batch [565/2077] mAP: 0.24878\n",
      "[2019-05-31 10:46:59,252 <ipython-input-2-7667fb18f09c>] Batch [566/2077] mAP: 0.24913\n",
      "[2019-05-31 10:46:59,291 <ipython-input-2-7667fb18f09c>] Batch [567/2077] mAP: 0.24965\n",
      "[2019-05-31 10:46:59,325 <ipython-input-2-7667fb18f09c>] Batch [568/2077] mAP: 0.24879\n",
      "[2019-05-31 10:46:59,358 <ipython-input-2-7667fb18f09c>] Batch [569/2077] mAP: 0.24845\n",
      "[2019-05-31 10:46:59,396 <ipython-input-2-7667fb18f09c>] Batch [570/2077] mAP: 0.24897\n"
     ]
    },
    {
     "name": "stdout",
     "output_type": "stream",
     "text": [
      "Pred: tensor([[106.2023, -36.4513, 361.4267, 450.8867]], device='cuda:0')\n",
      "GT: tensor([[105.3867,   0.0000, 362.7520, 404.3520]], device='cuda:0')\n",
      "Pred: tensor([[194.5664, 225.7774, 336.1958, 425.2743]], device='cuda:0')\n",
      "GT: tensor([[153.0880, 243.2144, 365.2480, 391.5847]], device='cuda:0')\n",
      "Pred: tensor([[134.1819, 113.3845, 286.2882, 350.4778]], device='cuda:0')\n",
      "GT: tensor([[ 94.8480, 111.1832, 352.7680, 318.5586]], device='cuda:0')\n",
      "Pred: tensor([[ 84.0672, 139.7987, 406.6939, 406.6105]], device='cuda:0')\n",
      "GT: tensor([[ 99.8400, 136.4480, 415.1680, 414.8907]], device='cuda:0')\n"
     ]
    },
    {
     "name": "stderr",
     "output_type": "stream",
     "text": [
      "[2019-05-31 10:46:59,429 <ipython-input-2-7667fb18f09c>] Batch [571/2077] mAP: 0.24879\n",
      "[2019-05-31 10:46:59,463 <ipython-input-2-7667fb18f09c>] Batch [572/2077] mAP: 0.24845\n",
      "[2019-05-31 10:46:59,502 <ipython-input-2-7667fb18f09c>] Batch [573/2077] mAP: 0.24897\n",
      "[2019-05-31 10:46:59,578 <ipython-input-2-7667fb18f09c>] Batch [574/2077] mAP: 0.24897\n",
      "[2019-05-31 10:46:59,636 <ipython-input-2-7667fb18f09c>] Batch [575/2077] mAP: 0.24949\n"
     ]
    },
    {
     "name": "stdout",
     "output_type": "stream",
     "text": [
      "Pred: tensor([[331.3822, 271.0321, 414.0368, 420.6679]], device='cuda:0')\n",
      "GT: tensor([[351.1040, 287.3173, 414.3360, 401.5787]], device='cuda:0')\n",
      "Pred: tensor([[ 69.7860, 175.7404, 161.7568, 391.6082]], device='cuda:0')\n",
      "GT: tensor([[ 84.0320, 180.8213, 143.1040, 409.3440]], device='cuda:0')\n",
      "Pred: tensor([[ 69.7860, 175.7404, 161.7568, 391.6082]], device='cuda:0')\n",
      "GT: tensor([[146.4320, 183.0400, 178.8800, 361.6427]], device='cuda:0')\n",
      "Pred: tensor([[234.2184, 175.9683, 366.0331, 420.2969]], device='cuda:0')\n",
      "GT: tensor([[146.4320, 183.0400, 178.8800, 361.6427]], device='cuda:0')\n",
      "Pred: tensor([[ 69.7860, 175.7404, 161.7568, 391.6082]], device='cuda:0')\n",
      "GT: tensor([[242.1120, 176.3840, 338.6240, 414.8907]], device='cuda:0')\n",
      "Pred: tensor([[234.2184, 175.9683, 366.0331, 420.2969]], device='cuda:0')\n",
      "GT: tensor([[242.1120, 176.3840, 338.6240, 414.8907]], device='cuda:0')\n",
      "Pred: tensor([[ 69.7860, 175.7404, 161.7568, 391.6082]], device='cuda:0')\n",
      "GT: tensor([[225.4720, 177.4933, 277.0560, 345.0027]], device='cuda:0')\n",
      "Pred: tensor([[234.2184, 175.9683, 366.0331, 420.2969]], device='cuda:0')\n",
      "GT: tensor([[225.4720, 177.4933, 277.0560, 345.0027]], device='cuda:0')\n",
      "Pred: tensor([[ 69.7860, 175.7404, 161.7568, 391.6082]], device='cuda:0')\n",
      "GT: tensor([[208.8320, 195.2427, 240.4480, 335.0187]], device='cuda:0')\n",
      "Pred: tensor([[234.2184, 175.9683, 366.0331, 420.2969]], device='cuda:0')\n",
      "GT: tensor([[208.8320, 195.2427, 240.4480, 335.0187]], device='cuda:0')\n",
      "Pred: tensor([[102.2593, 122.8753, 261.5629, 294.1270]], device='cuda:0')\n",
      "GT: tensor([[ 94.0160, 103.6877, 280.3840, 326.0540]], device='cuda:0')\n",
      "Pred: tensor([[339.1206, 267.1966, 410.0645, 410.1858]], device='cuda:0')\n",
      "GT: tensor([[ 97.3440,  94.6517, 199.6800, 414.8315]], device='cuda:0')\n",
      "Pred: "
     ]
    },
    {
     "name": "stderr",
     "output_type": "stream",
     "text": [
      "[2019-05-31 10:46:59,729 <ipython-input-2-7667fb18f09c>] Batch [576/2077] mAP: 0.24932\n",
      "[2019-05-31 10:46:59,770 <ipython-input-2-7667fb18f09c>] Batch [577/2077] mAP: 0.24847\n",
      "[2019-05-31 10:46:59,828 <ipython-input-2-7667fb18f09c>] Batch [578/2077] mAP: 0.24763\n",
      "[2019-05-31 10:46:59,869 <ipython-input-2-7667fb18f09c>] Batch [579/2077] mAP: 0.24814\n"
     ]
    },
    {
     "name": "stdout",
     "output_type": "stream",
     "text": [
      "tensor([[109.7128, 105.7008, 244.8067, 382.9067]], device='cuda:0')\n",
      "GT: tensor([[ 97.3440,  94.6517, 199.6800, 414.8315]], device='cuda:0')\n",
      "Pred: tensor([[339.1206, 267.1966, 410.0645, 410.1858]], device='cuda:0')\n",
      "GT: tensor([[173.8880,  61.9326, 321.1520, 414.8315]], device='cuda:0')\n",
      "Pred: tensor([[109.7128, 105.7008, 244.8067, 382.9067]], device='cuda:0')\n",
      "GT: tensor([[173.8880,  61.9326, 321.1520, 414.8315]], device='cuda:0')\n",
      "Pred: tensor([[339.1206, 267.1966, 410.0645, 410.1858]], device='cuda:0')\n",
      "GT: tensor([[355.2640, 268.7640, 403.5200, 356.4045]], device='cuda:0')\n",
      "Pred: tensor([[109.7128, 105.7008, 244.8067, 382.9067]], device='cuda:0')\n",
      "GT: tensor([[355.2640, 268.7640, 403.5200, 356.4045]], device='cuda:0')\n",
      "Pred: tensor([[152.1079, 243.6300, 207.7108, 373.3412]], device='cuda:0')\n",
      "GT: tensor([[158.9120, 249.1018, 187.2000, 384.8623]], device='cuda:0')\n",
      "Pred: tensor([[152.1079, 243.6300, 207.7108, 373.3412]], device='cuda:0')\n",
      "GT: tensor([[211.3280, 251.5928, 238.7840, 396.0719]], device='cuda:0')\n",
      "Pred: tensor([[152.1079, 243.6300, 207.7108, 373.3412]], device='cuda:0')\n",
      "GT: tensor([[277.8880, 257.8204, 299.5200, 340.0240]], device='cuda:0')\n",
      "Pred: tensor([[152.1079, 243.6300, 207.7108, 373.3412]], device='cuda:0')\n",
      "GT: tensor([[238.7840, 252.8383, 269.5680, 369.9162]], device='cuda:0')\n",
      "Pred: tensor([[152.1079, 243.6300, 207.7108, 373.3412]], device='cuda:0')\n",
      "GT: tensor([[363.5840, 230.4192, 404.3520, 393.5808]], device='cuda:0')\n",
      "Pred: tensor([[ 33.7837, 126.1836, 388.4330, 425.2521]], device='cuda:0')\n",
      "GT: tensor([[  0.0000, 147.4114, 415.1680, 414.7508]], device='cuda:0')\n"
     ]
    },
    {
     "name": "stderr",
     "output_type": "stream",
     "text": [
      "[2019-05-31 10:46:59,904 <ipython-input-2-7667fb18f09c>] Batch [580/2077] mAP: 0.24747\n",
      "[2019-05-31 10:46:59,943 <ipython-input-2-7667fb18f09c>] Batch [581/2077] mAP: 0.24798\n",
      "[2019-05-31 10:46:59,982 <ipython-input-2-7667fb18f09c>] Batch [582/2077] mAP: 0.24848\n",
      "[2019-05-31 10:47:00,020 <ipython-input-2-7667fb18f09c>] Batch [583/2077] mAP: 0.24899\n",
      "[2019-05-31 10:47:00,059 <ipython-input-2-7667fb18f09c>] Batch [584/2077] mAP: 0.24950\n",
      "[2019-05-31 10:47:00,102 <ipython-input-2-7667fb18f09c>] Batch [585/2077] mAP: 0.24883\n"
     ]
    },
    {
     "name": "stdout",
     "output_type": "stream",
     "text": [
      "Pred: tensor([[ 85.2245,  68.1079, 330.7482, 270.0328]], device='cuda:0')\n",
      "GT: tensor([[ 27.4560,  73.2160, 369.4080, 261.8027]], device='cuda:0')\n",
      "Pred: tensor([[ 19.0051,  73.2991, 402.6625, 388.2298]], device='cuda:0')\n",
      "GT: tensor([[ 29.1200,  95.1219, 404.3520, 360.1951]], device='cuda:0')\n",
      "Pred: tensor([[ 69.6602,  38.3764, 405.1061, 434.8672]], device='cuda:0')\n",
      "GT: tensor([[ 69.8880,  32.1707, 415.1680, 414.8907]], device='cuda:0')\n",
      "Pred: tensor([[125.4969,  78.3010, 302.2379, 356.9749]], device='cuda:0')\n",
      "GT: tensor([[135.2000,  37.5904, 315.1200, 415.1647]], device='cuda:0')\n",
      "Pred: tensor([[107.5519, 236.4825, 313.3493, 379.8559]], device='cuda:0')\n",
      "GT: tensor([[133.9520, 257.3453, 292.0320, 378.5225]], device='cuda:0')\n",
      "Pred: tensor([[ 11.0831,  11.7829, 348.9296, 342.5531]], device='cuda:0')\n",
      "GT: tensor([[ 34.1120,  37.7173, 351.9360, 390.4853]], device='cuda:0')\n"
     ]
    },
    {
     "name": "stderr",
     "output_type": "stream",
     "text": [
      "[2019-05-31 10:47:00,141 <ipython-input-2-7667fb18f09c>] Batch [586/2077] mAP: 0.24933\n",
      "[2019-05-31 10:47:00,180 <ipython-input-2-7667fb18f09c>] Batch [587/2077] mAP: 0.24983\n",
      "[2019-05-31 10:47:00,220 <ipython-input-2-7667fb18f09c>] Batch [588/2077] mAP: 0.25033\n",
      "[2019-05-31 10:47:00,275 <ipython-input-2-7667fb18f09c>] Batch [589/2077] mAP: 0.24950\n",
      "[2019-05-31 10:47:00,313 <ipython-input-2-7667fb18f09c>] Batch [590/2077] mAP: 0.24983\n",
      "[2019-05-31 10:47:00,370 <ipython-input-2-7667fb18f09c>] Batch [591/2077] mAP: 0.24967\n"
     ]
    },
    {
     "name": "stdout",
     "output_type": "stream",
     "text": [
      "Pred: tensor([[ 46.2829, 104.4333, 366.5908, 300.6586]], device='cuda:0')\n",
      "GT: tensor([[ 65.7280,  11.2432, 366.0800, 359.7838]], device='cuda:0')\n",
      "Pred: tensor([[105.4643,  73.1487, 295.0590, 347.8212]], device='cuda:0')\n",
      "GT: tensor([[ 39.1040,  53.7049, 297.8560, 389.5738]], device='cuda:0')\n",
      "Pred: tensor([[277.9579,  64.4554, 329.8919,  98.5229]], device='cuda:0')\n",
      "GT: tensor([[ 82.3680,  68.7787, 115.6480, 103.1680]], device='cuda:0')\n",
      "Pred: tensor([[277.9579,  64.4554, 329.8919,  98.5229]], device='cuda:0')\n",
      "GT: tensor([[272.8960,  59.9040, 310.3360,  99.8400]], device='cuda:0')\n",
      "Pred: tensor([[277.9579,  64.4554, 329.8919,  98.5229]], device='cuda:0')\n",
      "GT: tensor([[335.2960,  69.8880, 363.5840,  92.0747]], device='cuda:0')\n",
      "Pred: tensor([[277.9579,  64.4554, 329.8919,  98.5229]], device='cuda:0')\n",
      "GT: tensor([[365.2480,  75.4347, 402.6880,  90.9653]], device='cuda:0')\n",
      "Pred: tensor([[ 13.0268,  19.1817, 401.0141, 398.3797]], device='cuda:0')\n",
      "GT: tensor([[ 25.7920,  14.4213, 411.8400, 394.9227]], device='cuda:0')\n",
      "Pred: tensor([[208.4345,  80.7723, 350.3439, 381.8293]], device='cuda:0')\n",
      "GT: tensor([[ 14.9760,   9.9940, 238.7840, 414.7508]], device='cuda:0')\n",
      "Pred: tensor([[208.4345,  80.7723, 350.3439, 381.8293]], device='cuda:0')\n",
      "GT: tensor([[203.0080,  22.4865, 387.7120, 414.7508]], device='cuda:0')\n",
      "Pred: tensor([[208.4345,  80.7723, 350.3439, 381.8293]], device='cuda:0')\n",
      "GT: tensor([[350.2720,  18.7387, 415.1680, 323.5555]], device='cuda:0')\n",
      "Pred: tensor([[208.4345,  80.7723, 350.3439, 381.8293]], device='cuda:0')\n",
      "GT: tensor([[272.8960,   0.0000, 354.4320,  93.6937]], device='cuda:0')\n",
      "Pred: tensor([[208.4345,  80.7723, 350.3439, 381.8293]], device='cuda:0')\n",
      "GT: tensor([[164.7360,   0.0000, 223.8080,  66.2102]], device='cuda:0')\n"
     ]
    },
    {
     "name": "stderr",
     "output_type": "stream",
     "text": [
      "[2019-05-31 10:47:00,403 <ipython-input-2-7667fb18f09c>] Batch [592/2077] mAP: 0.24950\n",
      "[2019-05-31 10:47:00,450 <ipython-input-2-7667fb18f09c>] Batch [593/2077] mAP: 0.25049\n",
      "[2019-05-31 10:47:00,537 <ipython-input-2-7667fb18f09c>] Batch [594/2077] mAP: 0.25132\n",
      "[2019-05-31 10:47:00,597 <ipython-input-2-7667fb18f09c>] Batch [595/2077] mAP: 0.25181\n"
     ]
    },
    {
     "name": "stdout",
     "output_type": "stream",
     "text": [
      "Pred: tensor([[193.4953,  99.5665, 275.9723, 318.0753]], device='cuda:0')\n",
      "GT: tensor([[ 81.5360,  73.2160, 182.2080, 352.7680]], device='cuda:0')\n",
      "Pred: tensor([[ 71.6424,  83.0936, 201.2463, 342.1220]], device='cuda:0')\n",
      "GT: tensor([[ 81.5360,  73.2160, 182.2080, 352.7680]], device='cuda:0')\n",
      "Pred: tensor([[193.4953,  99.5665, 275.9723, 318.0753]], device='cuda:0')\n",
      "GT: tensor([[176.3840,  76.5440, 279.5520, 351.6587]], device='cuda:0')\n",
      "Pred: tensor([[ 66.7135, 208.1473, 272.8423, 391.5540]], device='cuda:0')\n",
      "GT: tensor([[ 63.2320, 217.3600, 154.7520, 275.6000]], device='cuda:0')\n",
      "Pred: tensor([[253.5409, 232.8740, 352.5077, 297.6273]], device='cuda:0')\n",
      "GT: tensor([[ 63.2320, 217.3600, 154.7520, 275.6000]], device='cuda:0')\n",
      "Pred: tensor([[ 88.0012, 221.8166, 128.0787, 255.3992]], device='cuda:0')\n",
      "GT: tensor([[ 63.2320, 217.3600, 154.7520, 275.6000]], device='cuda:0')\n",
      "Pred: tensor([[ 66.7135, 208.1473, 272.8423, 391.5540]], device='cuda:0')\n",
      "GT: tensor([[263.7440, 227.7600, 368.5760, 306.8000]], device='cuda:0')\n",
      "Pred: tensor([[253.5409, 232.8740, 352.5077, 297.6273]], device='cuda:0')\n",
      "GT: tensor([[263.7440, 227.7600, 368.5760, 306.8000]], device='cuda:0')\n",
      "Pred: tensor([[ 66.7135, 208.1473, 272.8423, 391.5540]], device='cuda:0')\n",
      "GT: tensor([[ 29.1200, 219.4400, 272.0640, 388.9600]], device='cuda:0')\n",
      "Pred: tensor([[ -5.9749,  26.0187, 416.6295, 333.2126]], device='cuda:0')\n",
      "GT: tensor([[  8.3200,  30.2222, 405.1840, 403.5555]], device='cuda:0')\n"
     ]
    },
    {
     "name": "stderr",
     "output_type": "stream",
     "text": [
      "[2019-05-31 10:47:00,642 <ipython-input-2-7667fb18f09c>] Batch [596/2077] mAP: 0.25148\n",
      "[2019-05-31 10:47:00,684 <ipython-input-2-7667fb18f09c>] Batch [597/2077] mAP: 0.25131\n",
      "[2019-05-31 10:47:00,729 <ipython-input-2-7667fb18f09c>] Batch [598/2077] mAP: 0.25213\n",
      "[2019-05-31 10:47:00,762 <ipython-input-2-7667fb18f09c>] Batch [599/2077] mAP: 0.25180\n",
      "[2019-05-31 10:47:00,801 <ipython-input-2-7667fb18f09c>] Batch [600/2077] mAP: 0.25147\n",
      "[2019-05-31 10:47:00,844 <ipython-input-2-7667fb18f09c>] Batch [601/2077] mAP: 0.25245\n"
     ]
    },
    {
     "name": "stdout",
     "output_type": "stream",
     "text": [
      "Pred: tensor([[228.0923,  92.4729, 362.4698, 322.4868]], device='cuda:0')\n",
      "GT: tensor([[211.7011,   9.9840, 390.8327, 377.7280]], device='cuda:0')\n",
      "Pred: tensor([[ 35.9732, 120.0971, 248.9155, 370.9558]], device='cuda:0')\n",
      "GT: tensor([[ 79.0400, 108.1600, 199.6800, 414.6133]], device='cuda:0')\n",
      "Pred: tensor([[ 35.9732, 120.0971, 248.9155, 370.9558]], device='cuda:0')\n",
      "GT: tensor([[ 83.2000,  47.1467, 253.7600, 409.0667]], device='cuda:0')\n",
      "Pred: tensor([[253.6372, 109.0333, 362.0067, 189.4579]], device='cuda:0')\n",
      "GT: tensor([[292.0320, 119.8080, 346.1120, 177.4933]], device='cuda:0')\n",
      "Pred: tensor([[ 44.7380,  74.2852, 372.9200, 404.8312]], device='cuda:0')\n",
      "GT: tensor([[ 20.8000, 140.4000, 396.0320, 381.6800]], device='cuda:0')\n",
      "Pred: tensor([[122.7926,  97.6387, 235.1067, 324.9151]], device='cuda:0')\n",
      "GT: tensor([[109.8240, 113.3600, 287.0400, 276.6400]], device='cuda:0')\n"
     ]
    },
    {
     "name": "stderr",
     "output_type": "stream",
     "text": [
      "[2019-05-31 10:47:00,896 <ipython-input-2-7667fb18f09c>] Batch [602/2077] mAP: 0.25260\n",
      "[2019-05-31 10:47:00,929 <ipython-input-2-7667fb18f09c>] Batch [603/2077] mAP: 0.25228\n",
      "[2019-05-31 10:47:00,981 <ipython-input-2-7667fb18f09c>] Batch [604/2077] mAP: 0.25211\n",
      "[2019-05-31 10:47:01,060 <ipython-input-2-7667fb18f09c>] Batch [605/2077] mAP: 0.25292\n"
     ]
    },
    {
     "name": "stdout",
     "output_type": "stream",
     "text": [
      "Pred: tensor([[ 52.7216, 335.2079, 103.9774, 387.8442]], device='cuda:0')\n",
      "GT: tensor([[205.5040,   0.0000, 378.5600, 397.2613]], device='cuda:0')\n",
      "Pred: tensor([[ 52.7216, 335.2079, 103.9774, 387.8442]], device='cuda:0')\n",
      "GT: tensor([[ 36.6080, 341.0450, 100.6720, 388.5165]], device='cuda:0')\n",
      "Pred: tensor([[ 38.9645, 312.5365,  99.7920, 410.7318]], device='cuda:0')\n",
      "GT: tensor([[338.6240, 339.7958, 346.9440, 367.2793]], device='cuda:0')\n",
      "Pred: tensor([[  5.1750, 112.1016, 154.9221, 423.4518]], device='cuda:0')\n",
      "GT: tensor([[ 12.4800, 106.4960, 141.4400, 414.8907]], device='cuda:0')\n",
      "Pred: tensor([[  5.1750, 112.1016, 154.9221, 423.4518]], device='cuda:0')\n",
      "GT: tensor([[233.7920,  87.6373, 415.1680, 414.8907]], device='cuda:0')\n",
      "Pred: tensor([[160.5945, 157.8867, 312.2227, 384.4541]], device='cuda:0')\n",
      "GT: tensor([[233.7920,  87.6373, 415.1680, 414.8907]], device='cuda:0')\n",
      "Pred: tensor([[  5.1750, 112.1016, 154.9221, 423.4518]], device='cuda:0')\n",
      "GT: tensor([[163.0720, 137.5573, 286.2080, 414.8907]], device='cuda:0')\n",
      "Pred: tensor([[160.5945, 157.8867, 312.2227, 384.4541]], device='cuda:0')\n",
      "GT: tensor([[163.0720, 137.5573, 286.2080, 414.8907]], device='cuda:0')\n"
     ]
    },
    {
     "name": "stderr",
     "output_type": "stream",
     "text": [
      "[2019-05-31 10:47:01,104 <ipython-input-2-7667fb18f09c>] Batch [606/2077] mAP: 0.25340\n",
      "[2019-05-31 10:47:01,158 <ipython-input-2-7667fb18f09c>] Batch [607/2077] mAP: 0.25307\n",
      "[2019-05-31 10:47:01,222 <ipython-input-2-7667fb18f09c>] Batch [608/2077] mAP: 0.25258\n",
      "[2019-05-31 10:47:01,286 <ipython-input-2-7667fb18f09c>] Batch [609/2077] mAP: 0.25274\n"
     ]
    },
    {
     "name": "stdout",
     "output_type": "stream",
     "text": [
      "Pred: tensor([[147.7918,  60.3496, 317.4709, 359.0644]], device='cuda:0')\n",
      "GT: tensor([[139.7760,  56.2162, 301.1840, 378.5225]], device='cuda:0')\n",
      "Pred: tensor([[230.5857,  15.3649, 297.4189, 128.6638]], device='cuda:0')\n",
      "GT: tensor([[160.8533,   4.9920, 378.2827, 113.1520]], device='cuda:0')\n",
      "Pred: tensor([[ 51.3772,  60.6758, 363.8186, 356.7998]], device='cuda:0')\n",
      "GT: tensor([[ 16.6400,  76.5440, 406.0160, 359.4240]], device='cuda:0')\n",
      "Pred: tensor([[ 51.3772,  60.6758, 363.8186, 356.7998]], device='cuda:0')\n",
      "GT: tensor([[301.1840, 150.8693, 415.1680, 328.3627]], device='cuda:0')\n",
      "Pred: tensor([[376.2250, 226.2957, 416.9040, 306.7156]], device='cuda:0')\n",
      "GT: tensor([[  0.0000, 236.2880,  18.3040, 258.4747]], device='cuda:0')\n"
     ]
    },
    {
     "name": "stderr",
     "output_type": "stream",
     "text": [
      "[2019-05-31 10:47:01,326 <ipython-input-2-7667fb18f09c>] Batch [610/2077] mAP: 0.25177\n",
      "[2019-05-31 10:47:01,384 <ipython-input-2-7667fb18f09c>] Batch [611/2077] mAP: 0.25225\n",
      "[2019-05-31 10:47:01,459 <ipython-input-2-7667fb18f09c>] Batch [612/2077] mAP: 0.25224\n",
      "[2019-05-31 10:47:01,514 <ipython-input-2-7667fb18f09c>] Batch [613/2077] mAP: 0.25208\n"
     ]
    },
    {
     "name": "stdout",
     "output_type": "stream",
     "text": [
      "Pred: tensor([[ 47.6198,  74.7592, 373.3733, 341.3142]], device='cuda:0')\n",
      "GT: tensor([[ 20.8000,  29.9520, 349.4400, 356.0960]], device='cuda:0')\n",
      "Pred: tensor([[ 35.8219, 110.9191, 137.0022, 251.5361]], device='cuda:0')\n",
      "GT: tensor([[138.6667,  93.1840, 293.5736, 267.0720]], device='cuda:0')\n",
      "Pred: tensor([[ 35.8219, 110.9191, 137.0022, 251.5361]], device='cuda:0')\n",
      "GT: tensor([[  0.0000, 121.4720, 142.4144, 237.9520]], device='cuda:0')\n",
      "Pred: tensor([[329.8767, 184.3736, 348.9560, 247.6013]], device='cuda:0')\n",
      "GT: tensor([[312.3123, 186.3680, 352.2883, 247.1040]], device='cuda:0')\n",
      "Pred: tensor([[358.4512, 199.2268, 376.8459, 233.4552]], device='cuda:0')\n",
      "GT: tensor([[312.3123, 186.3680, 352.2883, 247.1040]], device='cuda:0')\n",
      "Pred: tensor([[329.8767, 184.3736, 348.9560, 247.6013]], device='cuda:0')\n",
      "GT: tensor([[353.5375, 190.5280, 383.5195, 249.6000]], device='cuda:0')\n",
      "Pred: tensor([[358.4512, 199.2268, 376.8459, 233.4552]], device='cuda:0')\n",
      "GT: tensor([[353.5375, 190.5280, 383.5195, 249.6000]], device='cuda:0')\n",
      "Pred: tensor([[169.5401, 173.1670, 360.8423, 368.0648]], device='cuda:0')\n",
      "GT: tensor([[137.2800, 184.1493, 374.4000, 393.8133]], device='cuda:0')\n",
      "Pred: tensor([[169.5401, 173.1670, 360.8423, 368.0648]], device='cuda:0')\n",
      "GT: tensor([[  0.0000, 241.8347,  90.6880, 414.8907]], device='cuda:0')\n",
      "Pred: tensor([[169.5401, 173.1670, 360.8423, 368.0648]], device='cuda:0')\n",
      "GT: tensor([[ 19.9680, 181.9307, 128.1280, 268.4587]], device='cuda:0')\n",
      "Pred: tensor([[169.5401, 173.1670, 360.8423, 368.0648]], device='cuda:0')\n",
      "GT: tensor([[133.1200, 175.2747, 243.7760, 236.2880]], device='cuda:0')\n",
      "Pred: tensor([[169.5401, 173.1670, 360.8423, 368.0648]], device='cuda:0')\n",
      "GT: "
     ]
    },
    {
     "name": "stderr",
     "output_type": "stream",
     "text": [
      "[2019-05-31 10:47:01,583 <ipython-input-2-7667fb18f09c>] Batch [614/2077] mAP: 0.25191\n",
      "[2019-05-31 10:47:01,619 <ipython-input-2-7667fb18f09c>] Batch [615/2077] mAP: 0.25175\n",
      "[2019-05-31 10:47:01,678 <ipython-input-2-7667fb18f09c>] Batch [616/2077] mAP: 0.25223\n",
      "[2019-05-31 10:47:01,740 <ipython-input-2-7667fb18f09c>] Batch [617/2077] mAP: 0.25254\n"
     ]
    },
    {
     "name": "stdout",
     "output_type": "stream",
     "text": [
      "tensor([[314.4960, 173.0560, 413.5040, 267.3493]], device='cuda:0')\n",
      "Pred: tensor([[186.8506, 121.3094, 346.4987, 352.7424]], device='cuda:0')\n",
      "GT: tensor([[172.2240, 115.5556, 348.6080, 346.6667]], device='cuda:0')\n",
      "Pred: tensor([[ 37.6488, 134.6858, 370.3372, 400.5138]], device='cuda:0')\n",
      "GT: tensor([[ 20.3547, 139.7760, 384.1957, 415.1680]], device='cuda:0')\n"
     ]
    },
    {
     "name": "stderr",
     "output_type": "stream",
     "text": [
      "[2019-05-31 10:47:01,788 <ipython-input-2-7667fb18f09c>] Batch [618/2077] mAP: 0.25047\n",
      "[2019-05-31 10:47:01,827 <ipython-input-2-7667fb18f09c>] Batch [619/2077] mAP: 0.25095\n",
      "[2019-05-31 10:47:01,860 <ipython-input-2-7667fb18f09c>] Batch [620/2077] mAP: 0.25063\n",
      "[2019-05-31 10:47:01,988 <ipython-input-2-7667fb18f09c>] Batch [621/2077] mAP: 0.24798\n"
     ]
    },
    {
     "name": "stdout",
     "output_type": "stream",
     "text": [
      "Pred: tensor([[134.4167,  73.3962, 294.2261, 351.0562]], device='cuda:0')\n",
      "GT: tensor([[119.8080,  54.3573, 316.9920, 414.8907]], device='cuda:0')\n",
      "Pred: tensor([[148.3904, 102.9585, 215.0293, 314.5931]], device='cuda:0')\n",
      "GT: tensor([[402.6880, 222.9760, 415.1680, 267.3493]], device='cuda:0')\n",
      "Pred: tensor([[184.0927, 193.7639, 380.8052, 404.5228]], device='cuda:0')\n",
      "GT: tensor([[402.6880, 222.9760, 415.1680, 267.3493]], device='cuda:0')\n",
      "Pred: tensor([[148.3904, 102.9585, 215.0293, 314.5931]], device='cuda:0')\n",
      "GT: tensor([[307.8400, 191.9147, 380.2240, 313.9413]], device='cuda:0')\n",
      "Pred: tensor([[184.0927, 193.7639, 380.8052, 404.5228]], device='cuda:0')\n",
      "GT: tensor([[307.8400, 191.9147, 380.2240, 313.9413]], device='cuda:0')\n",
      "Pred: tensor([[148.3904, 102.9585, 215.0293, 314.5931]], device='cuda:0')\n",
      "GT: tensor([[253.7600, 201.8987, 289.5360, 251.8187]], device='cuda:0')\n",
      "Pred: tensor([[184.0927, 193.7639, 380.8052, 404.5228]], device='cuda:0')\n",
      "GT: tensor([[253.7600, 201.8987, 289.5360, 251.8187]], device='cuda:0')\n",
      "Pred: tensor([[148.3904, 102.9585, 215.0293, 314.5931]], device='cuda:0')\n",
      "GT: tensor([[197.1840, 145.3227, 232.1280, 274.0053]], device='cuda:0')\n",
      "Pred: tensor([[184.0927, 193.7639, 380.8052, 404.5228]], device='cuda:0')\n",
      "GT: tensor([[197.1840, 145.3227, 232.1280, 274.0053]], device='cuda:0')\n",
      "Pred: tensor([[148.3904, 102.9585, 215.0293, 314.5931]], device='cuda:0')\n",
      "GT: tensor([[158.0800, 151.9787, 193.0240, 272.8960]], device='cuda:0')\n",
      "Pred: tensor([[184.0927, 193.7639, 380.8052, 404.5228]], device='cuda:0')\n",
      "GT: tensor([[158.0800, 151.9787, 193.0240, 272.8960]], device='cuda:0')\n",
      "Pred: tensor([[148.3904, 102.9585, 215.0293, 314.5931]], device='cuda:0')\n",
      "GT: tensor([[  9.1520, 127.5733,  48.2560, 257.3653]], device='cuda:0')\n",
      "Pred: tensor([[184.0927, 193.7639, 380.8052, 404.5228]], device='cuda:0')\n",
      "GT: tensor([[  9.1520, 127.5733,  48.2560, 257.3653]], device='cuda:0')\n",
      "Pred: tensor([[148.3904, 102.9585, 215.0293, 314.5931]], device='cuda:0')\n",
      "GT: tensor([[ 41.6000, 132.0107,  82.3680, 258.4747]], device='cuda:0')\n",
      "Pred: tensor([[184.0927, 193.7639, 380.8052, 404.5228]], device='cuda:0')\n",
      "GT: tensor([[ 41.6000, 132.0107,  82.3680, 258.4747]], device='cuda:0')\n",
      "Pred: tensor([[148.3904, 102.9585, 215.0293, 314.5931]], device='cuda:0')\n",
      "GT: tensor([[  0.0000, 250.7093,  59.0720, 414.8907]], device='cuda:0')\n",
      "Pred: tensor([[184.0927, 193.7639, 380.8052, 404.5228]], device='cuda:0')\n",
      "GT: tensor([[  0.0000, 250.7093,  59.0720, 414.8907]], device='cuda:0')\n",
      "Pred: tensor([[148.3904, 102.9585, 215.0293, 314.5931]], device='cuda:0')\n",
      "GT: tensor([[235.4560, 204.1173, 331.9680, 400.4693]], device='cuda:0')\n",
      "Pred: tensor([[184.0927, 193.7639, 380.8052, 404.5228]], device='cuda:0')\n",
      "GT: tensor([[235.4560, 204.1173, 331.9680, 400.4693]], device='cuda:0')\n",
      "Pred: tensor([[148.3904, 102.9585, 215.0293, 314.5931]], device='cuda:0')\n",
      "GT: tensor([[ 99.0080, 217.4293, 168.8960, 363.8613]], device='cuda:0')\n",
      "Pred: tensor([[184.0927, 193.7639, 380.8052, 404.5228]], device='cuda:0')\n",
      "GT: tensor([[ 99.0080, 217.4293, 168.8960, 363.8613]], device='cuda:0')\n",
      "Pred: "
     ]
    },
    {
     "name": "stderr",
     "output_type": "stream",
     "text": [
      "[2019-05-31 10:47:02,028 <ipython-input-2-7667fb18f09c>] Batch [622/2077] mAP: 0.24844\n",
      "[2019-05-31 10:47:02,066 <ipython-input-2-7667fb18f09c>] Batch [623/2077] mAP: 0.24891\n",
      "[2019-05-31 10:47:02,103 <ipython-input-2-7667fb18f09c>] Batch [624/2077] mAP: 0.24938\n",
      "[2019-05-31 10:47:02,152 <ipython-input-2-7667fb18f09c>] Batch [625/2077] mAP: 0.24953\n"
     ]
    },
    {
     "name": "stdout",
     "output_type": "stream",
     "text": [
      "tensor([[ -6.5491,  75.3256, 367.6409, 339.1160]], device='cuda:0')\n",
      "GT: tensor([[ 16.6400,  65.1566, 338.6240, 315.7590]], device='cuda:0')\n",
      "Pred: tensor([[145.9820, 133.8922, 254.5782, 280.5889]], device='cuda:0')\n",
      "GT: tensor([[153.0880, 132.4204, 247.9360, 389.7658]], device='cuda:0')\n",
      "Pred: tensor([[103.2681,  55.9825, 249.0645, 232.6038]], device='cuda:0')\n",
      "GT: tensor([[ 98.2222,  27.7333, 264.6222, 235.7333]], device='cuda:0')\n",
      "Pred: tensor([[278.9765, 234.1704, 387.1256, 385.0630]], device='cuda:0')\n",
      "GT: tensor([[274.5600, 249.6000, 377.7280, 371.2955]], device='cuda:0')\n",
      "Pred: tensor([[278.9765, 234.1704, 387.1256, 385.0630]], device='cuda:0')\n",
      "GT: tensor([[181.3760, 252.0836, 282.0480, 373.7791]], device='cuda:0')\n",
      "Pred: tensor([[278.9765, 234.1704, 387.1256, 385.0630]], device='cuda:0')\n",
      "GT: tensor([[ 49.0880, 235.9403, 125.6320, 360.1194]], device='cuda:0')\n",
      "Pred: tensor([[356.6687, 162.3412, 382.2459, 239.8053]], device='cuda:0')\n",
      "GT: tensor([[356.9280, 162.7294, 378.5600, 243.4823]], device='cuda:0')\n",
      "Pred: tensor([[356.6687, 162.3412, 382.2459, 239.8053]], device='cuda:0')\n",
      "GT: tensor([[178.8800, 167.6235, 203.8400, 243.4823]], device='cuda:0')\n",
      "Pred: tensor([[356.6687, 162.3412, 382.2459, 239.8053]], device='cuda:0')\n",
      "GT: tensor([[ 65.7280, 124.8000, 124.8000, 250.8235]], device='cuda:0')\n",
      "Pred: tensor([[356.6687, 162.3412, 382.2459, 239.8053]], device='cuda:0')\n",
      "GT: tensor([[150.5920, 110.1176, 212.1600, 337.6941]], device='cuda:0')\n"
     ]
    },
    {
     "name": "stderr",
     "output_type": "stream",
     "text": [
      "[2019-05-31 10:47:02,238 <ipython-input-2-7667fb18f09c>] Batch [626/2077] mAP: 0.24907\n",
      "[2019-05-31 10:47:02,290 <ipython-input-2-7667fb18f09c>] Batch [627/2077] mAP: 0.24892\n",
      "[2019-05-31 10:47:02,339 <ipython-input-2-7667fb18f09c>] Batch [628/2077] mAP: 0.24938\n",
      "[2019-05-31 10:47:02,381 <ipython-input-2-7667fb18f09c>] Batch [629/2077] mAP: 0.24969\n",
      "[2019-05-31 10:47:02,419 <ipython-input-2-7667fb18f09c>] Batch [630/2077] mAP: 0.25015\n"
     ]
    },
    {
     "name": "stdout",
     "output_type": "stream",
     "text": [
      "Pred: tensor([[356.6687, 162.3412, 382.2459, 239.8053]], device='cuda:0')\n",
      "GT: tensor([[105.6640, 118.6824, 168.8960, 341.3647]], device='cuda:0')\n",
      "Pred: tensor([[356.6687, 162.3412, 382.2459, 239.8053]], device='cuda:0')\n",
      "GT: tensor([[125.6320, 117.4588, 171.3920, 277.7412]], device='cuda:0')\n",
      "Pred: tensor([[ 36.5091,  -9.8081, 379.4459, 475.3874]], device='cuda:0')\n",
      "GT: tensor([[  0.0000,  31.6160, 392.7040, 415.1680]], device='cuda:0')\n",
      "Pred: tensor([[153.8324,   8.2011, 259.4798, 216.5881]], device='cuda:0')\n",
      "GT: tensor([[109.8240,   7.4955, 272.0640, 216.1201]], device='cuda:0')\n",
      "Pred: tensor([[ 80.8805,  18.3811, 335.8401, 389.8983]], device='cuda:0')\n",
      "GT: tensor([[  0.0000,   0.0000, 414.8907, 415.1680]], device='cuda:0')\n"
     ]
    },
    {
     "name": "stderr",
     "output_type": "stream",
     "text": [
      "[2019-05-31 10:47:02,472 <ipython-input-2-7667fb18f09c>] Batch [631/2077] mAP: 0.25077\n",
      "[2019-05-31 10:47:02,512 <ipython-input-2-7667fb18f09c>] Batch [632/2077] mAP: 0.25092\n",
      "[2019-05-31 10:47:02,561 <ipython-input-2-7667fb18f09c>] Batch [633/2077] mAP: 0.25168\n",
      "[2019-05-31 10:47:02,599 <ipython-input-2-7667fb18f09c>] Batch [634/2077] mAP: 0.25199\n",
      "[2019-05-31 10:47:02,638 <ipython-input-2-7667fb18f09c>] Batch [635/2077] mAP: 0.25229\n"
     ]
    },
    {
     "name": "stdout",
     "output_type": "stream",
     "text": [
      "Pred: tensor([[ 59.0061, 234.8014,  99.9027, 373.8087]], device='cuda:0')\n",
      "GT: tensor([[ 64.0640, 263.7242,  94.0160, 353.1035]], device='cuda:0')\n",
      "Pred: tensor([[ 59.0061, 234.8014,  99.9027, 373.8087]], device='cuda:0')\n",
      "GT: tensor([[102.3360, 261.5172, 110.6560, 280.2758]], device='cuda:0')\n",
      "Pred: tensor([[354.7667, 281.0465, 432.3225, 403.3926]], device='cuda:0')\n",
      "GT: tensor([[348.6080, 283.5862, 415.1680, 400.5517]], device='cuda:0')\n",
      "Pred: tensor([[137.0793, 160.3615, 331.0340, 363.4694]], device='cuda:0')\n",
      "GT: tensor([[138.1120, 179.8621, 305.3440, 320.0000]], device='cuda:0')\n",
      "Pred: tensor([[ 41.9968, 248.6349, 116.2989, 407.7315]], device='cuda:0')\n",
      "GT: tensor([[ 34.1120, 251.5928, 149.7600, 414.7545]], device='cuda:0')\n",
      "Pred: tensor([[-27.4419, 172.4766, 111.8119, 369.0820]], device='cuda:0')\n",
      "GT: tensor([[  0.0000, 189.6960,  76.5440, 369.4080]], device='cuda:0')\n",
      "Pred: tensor([[-27.4419, 172.4766, 111.8119, 369.0820]], device='cuda:0')\n",
      "GT: tensor([[282.8800, 154.7520, 329.4720, 207.1680]], device='cuda:0')\n",
      "Pred: tensor([[105.6353,  51.9500, 247.4495, 380.1823]], device='cuda:0')\n",
      "GT: tensor([[115.3707,  89.0240, 242.9440, 341.9520]], device='cuda:0')\n",
      "Pred: tensor([[140.1536, 186.5657, 281.4677, 301.1067]], device='cuda:0')\n",
      "GT: tensor([[168.0640, 196.3520, 257.0880, 299.5200]], device='cuda:0')\n",
      "Pred: tensor([[ 96.9709,  53.2078, 272.1625, 354.7943]], device='cuda:0')\n",
      "GT: tensor([[118.1440,  43.4286, 300.3520, 350.8571]], device='cuda:0')\n"
     ]
    },
    {
     "name": "stderr",
     "output_type": "stream",
     "text": [
      "[2019-05-31 10:47:02,692 <ipython-input-2-7667fb18f09c>] Batch [636/2077] mAP: 0.25214\n",
      "[2019-05-31 10:47:02,747 <ipython-input-2-7667fb18f09c>] Batch [637/2077] mAP: 0.25259\n",
      "[2019-05-31 10:47:02,811 <ipython-input-2-7667fb18f09c>] Batch [638/2077] mAP: 0.25335\n",
      "[2019-05-31 10:47:02,869 <ipython-input-2-7667fb18f09c>] Batch [639/2077] mAP: 0.25380\n"
     ]
    },
    {
     "name": "stdout",
     "output_type": "stream",
     "text": [
      "Pred: tensor([[301.0290,  18.7505, 425.0111, 388.8784]], device='cuda:0')\n",
      "GT: tensor([[304.5120,   0.0000, 415.1680, 414.8907]], device='cuda:0')\n",
      "Pred: tensor([[ 10.0648,  10.2329, 210.5663, 100.3726]], device='cuda:0')\n",
      "GT: tensor([[188.0320,   0.0000, 258.7520,  42.9324]], device='cuda:0')\n",
      "Pred: tensor([[ 22.8826,  44.2272, 403.0615, 366.1554]], device='cuda:0')\n",
      "GT: tensor([[188.0320,   0.0000, 258.7520,  42.9324]], device='cuda:0')\n",
      "Pred: tensor([[ 10.0648,  10.2329, 210.5663, 100.3726]], device='cuda:0')\n",
      "GT: tensor([[ 45.7600,  17.7651, 181.3760,  99.1886]], device='cuda:0')\n",
      "Pred: tensor([[ 10.0648,  10.2329, 210.5663, 100.3726]], device='cuda:0')\n",
      "GT: tensor([[ 69.8880,  74.0214, 353.6000, 355.3025]], device='cuda:0')\n",
      "Pred: tensor([[ 22.8826,  44.2272, 403.0615, 366.1554]], device='cuda:0')\n",
      "GT: tensor([[ 69.8880,  74.0214, 353.6000, 355.3025]], device='cuda:0')\n",
      "Pred: tensor([[ 65.9314, 137.8577, 415.2850, 232.5836]], device='cuda:0')\n",
      "GT: tensor([[118.9760, 116.4800, 379.3920, 249.6000]], device='cuda:0')\n",
      "Pred: tensor([[179.7543, 116.0249, 285.9946, 283.5956]], device='cuda:0')\n",
      "GT: tensor([[204.6720, 134.9189, 311.1680, 213.6216]], device='cuda:0')\n",
      "Pred: tensor([[179.7543, 116.0249, 285.9946, 283.5956]], device='cuda:0')\n",
      "GT: tensor([[ 84.8640, 196.1321, 199.6800, 254.8468]], device='cuda:0')\n",
      "Pred: tensor([[179.7543, 116.0249, 285.9946, 283.5956]], device='cuda:0')\n",
      "GT: tensor([[ 29.1200, 322.3063, 146.4320, 396.0120]], device='cuda:0')\n"
     ]
    },
    {
     "name": "stderr",
     "output_type": "stream",
     "text": [
      "[2019-05-31 10:47:02,955 <ipython-input-2-7667fb18f09c>] Batch [640/2077] mAP: 0.25303\n",
      "[2019-05-31 10:47:02,994 <ipython-input-2-7667fb18f09c>] Batch [641/2077] mAP: 0.25288\n",
      "[2019-05-31 10:47:03,029 <ipython-input-2-7667fb18f09c>] Batch [642/2077] mAP: 0.25273\n",
      "[2019-05-31 10:47:03,083 <ipython-input-2-7667fb18f09c>] Batch [643/2077] mAP: 0.25303\n",
      "[2019-05-31 10:47:03,143 <ipython-input-2-7667fb18f09c>] Batch [644/2077] mAP: 0.25348\n"
     ]
    },
    {
     "name": "stdout",
     "output_type": "stream",
     "text": [
      "Pred: tensor([[179.7543, 116.0249, 285.9946, 283.5956]], device='cuda:0')\n",
      "GT: tensor([[ 89.8560,  91.1952, 170.5600, 193.6336]], device='cuda:0')\n",
      "Pred: tensor([[179.7543, 116.0249, 285.9946, 283.5956]], device='cuda:0')\n",
      "GT: tensor([[316.9920, 273.5856, 370.2400, 372.2763]], device='cuda:0')\n",
      "Pred: tensor([[ -2.8191, 214.8543, 104.1011, 326.0772]], device='cuda:0')\n",
      "GT: tensor([[  0.0000, 195.2427,  98.1760, 352.7680]], device='cuda:0')\n",
      "Pred: tensor([[111.8778,  67.8070, 290.5698, 291.1180]], device='cuda:0')\n",
      "GT: tensor([[ 65.7280,  46.5920, 323.6480, 312.8320]], device='cuda:0')\n"
     ]
    },
    {
     "name": "stderr",
     "output_type": "stream",
     "text": [
      "[2019-05-31 10:47:03,256 <ipython-input-2-7667fb18f09c>] Batch [645/2077] mAP: 0.25195\n",
      "[2019-05-31 10:47:03,291 <ipython-input-2-7667fb18f09c>] Batch [646/2077] mAP: 0.25165\n",
      "[2019-05-31 10:47:03,340 <ipython-input-2-7667fb18f09c>] Batch [647/2077] mAP: 0.25150\n",
      "[2019-05-31 10:47:03,399 <ipython-input-2-7667fb18f09c>] Batch [648/2077] mAP: 0.25135\n"
     ]
    },
    {
     "name": "stdout",
     "output_type": "stream",
     "text": [
      "Pred: tensor([[185.4451, 168.3337, 244.4126, 383.1143]], device='cuda:0')\n",
      "GT: tensor([[336.1280, 156.1562, 360.2560, 239.8559]], device='cuda:0')\n",
      "Pred: tensor([[185.4451, 168.3337, 244.4126, 383.1143]], device='cuda:0')\n",
      "GT: tensor([[283.7120, 187.3874, 305.3440, 347.2913]], device='cuda:0')\n",
      "Pred: tensor([[185.4451, 168.3337, 244.4126, 383.1143]], device='cuda:0')\n",
      "GT: tensor([[262.9120, 211.1231, 290.3680, 371.0270]], device='cuda:0')\n",
      "Pred: tensor([[185.4451, 168.3337, 244.4126, 383.1143]], device='cuda:0')\n",
      "GT: tensor([[198.8480, 213.6216, 237.1200, 376.0240]], device='cuda:0')\n",
      "Pred: tensor([[185.4451, 168.3337, 244.4126, 383.1143]], device='cuda:0')\n",
      "GT: tensor([[231.2960, 193.6336, 264.5760, 372.2763]], device='cuda:0')\n",
      "Pred: tensor([[ 81.4936, 205.4287, 131.8836, 228.4640]], device='cuda:0')\n",
      "GT: tensor([[ 59.9040, 206.1261, 103.1680, 248.6006]], device='cuda:0')\n",
      "Pred: tensor([[ 81.4936, 205.4287, 131.8836, 228.4640]], device='cuda:0')\n",
      "GT: tensor([[ 92.3520, 204.8769, 118.1440, 236.1081]], device='cuda:0')\n",
      "Pred: tensor([[ 81.4936, 205.4287, 131.8836, 228.4640]], device='cuda:0')\n",
      "GT: tensor([[132.2880, 202.3784, 148.9280, 222.3664]], device='cuda:0')\n",
      "Pred: tensor([[ 81.4936, 205.4287, 131.8836, 228.4640]], device='cuda:0')\n",
      "GT: tensor([[ 96.5120, 197.3814, 122.3040, 232.3604]], device='cuda:0')\n",
      "Pred: tensor([[185.4451, 168.3337, 244.4126, 383.1143]], device='cuda:0')\n",
      "GT: tensor([[181.3760, 192.3844, 205.5040, 354.7868]], device='cuda:0')\n",
      "Pred: tensor([[322.5623, 267.3596, 357.8574, 388.8406]], device='cuda:0')\n",
      "GT: tensor([[327.8080, 264.8409, 361.0880, 414.7508]], device='cuda:0')\n",
      "Pred: tensor([[322.5623, 267.3596, 357.8574, 388.8406]], device='cuda:0')\n",
      "GT: tensor([[382.7200, 301.0691, 414.3360, 414.7508]], device='cuda:0')\n",
      "Pred: tensor([[322.5623, 267.3596, 357.8574, 388.8406]], device='cuda:0')\n",
      "GT: tensor([[380.2240, 273.5856, 411.8400, 408.5045]], device='cuda:0')\n",
      "Pred: tensor([[164.4957,  95.1696, 304.1740, 309.9421]], device='cuda:0')\n",
      "GT: tensor([[138.1120,  47.4715, 349.4400, 337.2973]], device='cuda:0')\n"
     ]
    },
    {
     "name": "stderr",
     "output_type": "stream",
     "text": [
      "[2019-05-31 10:47:03,463 <ipython-input-2-7667fb18f09c>] Batch [649/2077] mAP: 0.25179\n",
      "[2019-05-31 10:47:03,517 <ipython-input-2-7667fb18f09c>] Batch [650/2077] mAP: 0.25179\n",
      "[2019-05-31 10:47:03,564 <ipython-input-2-7667fb18f09c>] Batch [651/2077] mAP: 0.25238\n",
      "[2019-05-31 10:47:03,612 <ipython-input-2-7667fb18f09c>] Batch [652/2077] mAP: 0.25327\n",
      "[2019-05-31 10:47:03,649 <ipython-input-2-7667fb18f09c>] Batch [653/2077] mAP: 0.25371\n"
     ]
    },
    {
     "name": "stdout",
     "output_type": "stream",
     "text": [
      "Pred: tensor([[126.3494, 291.4998, 273.9952, 426.4752]], device='cuda:0')\n",
      "GT: tensor([[119.8080, 281.2160, 280.6613, 415.1680]], device='cuda:0')\n",
      "Pred: tensor([[123.0439, 125.2528, 291.7531, 475.2735]], device='cuda:0')\n",
      "GT: tensor([[153.0880, 147.5413, 274.5600, 406.0160]], device='cuda:0')\n",
      "Pred: tensor([[123.0439, 125.2528, 291.7531, 475.2735]], device='cuda:0')\n",
      "GT: tensor([[198.0160, 151.9787, 239.6160, 238.5067]], device='cuda:0')\n",
      "Pred: tensor([[ 38.2491, 141.3165, 191.0137, 275.8394]], device='cuda:0')\n",
      "GT: tensor([[ 73.2160, 151.1592, 174.7200, 264.8409]], device='cuda:0')\n",
      "Pred: tensor([[239.0469, 222.4392, 297.1806, 400.5500]], device='cuda:0')\n",
      "GT: tensor([[242.9440, 232.3604, 285.3760, 394.7628]], device='cuda:0')\n",
      "Pred: tensor([[ 46.5293, 138.5892, 238.1273, 402.0408]], device='cuda:0')\n",
      "GT: tensor([[218.8160,  43.2640, 414.3360, 412.6720]], device='cuda:0')\n",
      "Pred: tensor([[210.9615,  63.9078, 445.9387, 405.8738]], device='cuda:0')\n",
      "GT: tensor([[218.8160,  43.2640, 414.3360, 412.6720]], device='cuda:0')\n",
      "Pred: tensor([[ 46.5293, 138.5892, 238.1273, 402.0408]], device='cuda:0')\n",
      "GT: tensor([[ 33.2800, 104.2773, 253.7600, 414.8907]], device='cuda:0')\n",
      "Pred: tensor([[ 75.1422, 108.6495, 401.2069, 297.9873]], device='cuda:0')\n",
      "GT: tensor([[ 37.4400,  98.6907, 396.8640, 286.0781]], device='cuda:0')\n"
     ]
    },
    {
     "name": "stderr",
     "output_type": "stream",
     "text": [
      "[2019-05-31 10:47:03,681 <ipython-input-2-7667fb18f09c>] Batch [654/2077] mAP: 0.25356\n",
      "[2019-05-31 10:47:03,723 <ipython-input-2-7667fb18f09c>] Batch [655/2077] mAP: 0.25445\n",
      "[2019-05-31 10:47:03,773 <ipython-input-2-7667fb18f09c>] Batch [656/2077] mAP: 0.25355\n",
      "[2019-05-31 10:47:03,834 <ipython-input-2-7667fb18f09c>] Batch [657/2077] mAP: 0.25369\n",
      "[2019-05-31 10:47:03,874 <ipython-input-2-7667fb18f09c>] Batch [658/2077] mAP: 0.25339\n"
     ]
    },
    {
     "name": "stdout",
     "output_type": "stream",
     "text": [
      "Pred: tensor([[124.7568,  97.8830, 208.7131, 322.6370]], device='cuda:0')\n",
      "GT: tensor([[104.0000, 119.2119, 212.9920, 300.5134]], device='cuda:0')\n",
      "Pred: tensor([[117.4672, 143.3956, 218.0364, 319.3857]], device='cuda:0')\n",
      "GT: tensor([[103.1680, 144.0478, 179.7120, 312.9313]], device='cuda:0')\n",
      "Pred: tensor([[  6.0318, 168.8411, 399.1132, 379.5477]], device='cuda:0')\n",
      "GT: tensor([[ 44.0960,  27.7333, 326.9760, 409.3440]], device='cuda:0')\n",
      "Pred: tensor([[  7.6885, 258.9201,  30.4400, 285.9553]], device='cuda:0')\n",
      "GT: tensor([[  0.0000, 260.6933,  23.2960, 283.9893]], device='cuda:0')\n",
      "Pred: tensor([[200.1743, 256.9530, 274.7718, 410.7313]], device='cuda:0')\n",
      "GT: tensor([[190.5280, 222.3664, 288.7040, 414.7508]], device='cuda:0')\n"
     ]
    },
    {
     "name": "stderr",
     "output_type": "stream",
     "text": [
      "[2019-05-31 10:47:03,926 <ipython-input-2-7667fb18f09c>] Batch [659/2077] mAP: 0.25324\n",
      "[2019-05-31 10:47:03,967 <ipython-input-2-7667fb18f09c>] Batch [660/2077] mAP: 0.25279\n",
      "[2019-05-31 10:47:04,014 <ipython-input-2-7667fb18f09c>] Batch [661/2077] mAP: 0.25308\n",
      "[2019-05-31 10:47:04,055 <ipython-input-2-7667fb18f09c>] Batch [662/2077] mAP: 0.25293\n",
      "[2019-05-31 10:47:04,119 <ipython-input-2-7667fb18f09c>] Batch [663/2077] mAP: 0.25263\n",
      "[2019-05-31 10:47:04,153 <ipython-input-2-7667fb18f09c>] Batch [664/2077] mAP: 0.25218\n"
     ]
    },
    {
     "name": "stdout",
     "output_type": "stream",
     "text": [
      "Pred: tensor([[184.3022,  -5.2921, 234.9624, 242.3204]], device='cuda:0')\n",
      "GT: tensor([[182.2080,  29.9520, 244.6080, 193.0240]], device='cuda:0')\n",
      "Pred: tensor([[179.9612,  88.7024, 233.9948, 199.8329]], device='cuda:0')\n",
      "GT: tensor([[187.2000,  99.8400, 255.4240, 222.9760]], device='cuda:0')\n",
      "Pred: tensor([[321.4366, 190.7683, 412.5115, 472.2247]], device='cuda:0')\n",
      "GT: tensor([[326.9760, 245.2082, 410.1760, 411.1202]], device='cuda:0')\n",
      "Pred: tensor([[333.4526, 174.9391, 403.2514, 234.6193]], device='cuda:0')\n",
      "GT: tensor([[335.2960, 161.9627, 415.1680, 244.0533]], device='cuda:0')\n",
      "Pred: tensor([[333.4526, 174.9391, 403.2514, 234.6193]], device='cuda:0')\n",
      "GT: tensor([[297.0240, 155.3067, 336.1280, 238.5067]], device='cuda:0')\n",
      "Pred: tensor([[333.4526, 174.9391, 403.2514, 234.6193]], device='cuda:0')\n",
      "GT: tensor([[184.7040, 149.7600, 301.1840, 247.3813]], device='cuda:0')\n",
      "Pred: tensor([[333.4526, 174.9391, 403.2514, 234.6193]], device='cuda:0')\n",
      "GT: tensor([[148.9280, 161.9627, 191.3600, 230.7413]], device='cuda:0')\n",
      "Pred: tensor([[333.4526, 174.9391, 403.2514, 234.6193]], device='cuda:0')\n",
      "GT: tensor([[ 70.7200, 153.0880, 150.5920, 249.6000]], device='cuda:0')\n",
      "Pred: tensor([[333.4526, 174.9391, 403.2514, 234.6193]], device='cuda:0')\n",
      "GT: tensor([[  0.0000, 156.4160,  67.3920, 256.2560]], device='cuda:0')\n",
      "Pred: tensor([[262.7988, 325.1793, 286.3943, 357.1201]], device='cuda:0')\n",
      "GT: tensor([[283.7120, 301.4132, 312.8320, 342.5150]], device='cuda:0')\n",
      "Pred: tensor([[  0.3804, 312.4338,  27.3301, 361.8188]], device='cuda:0')\n",
      "GT: tensor([[283.7120, 301.4132, 312.8320, 342.5150]], device='cuda:0')\n",
      "Pred: tensor([[276.3371, 321.1370, 318.4782, 353.7142]], device='cuda:0')\n",
      "GT: tensor([[283.7120, 301.4132, 312.8320, 342.5150]], device='cuda:0')\n",
      "Pred: tensor([[262.7988, 325.1793, 286.3943, 357.1201]], device='cuda:0')\n",
      "GT: tensor([[267.0720, 330.0599, 302.0160, 371.1617]], device='cuda:0')\n",
      "Pred: tensor([[  0.3804, 312.4338,  27.3301, 361.8188]], device='cuda:0')\n",
      "GT: "
     ]
    },
    {
     "name": "stderr",
     "output_type": "stream",
     "text": [
      "[2019-05-31 10:47:04,236 <ipython-input-2-7667fb18f09c>] Batch [665/2077] mAP: 0.25218\n",
      "[2019-05-31 10:47:04,274 <ipython-input-2-7667fb18f09c>] Batch [666/2077] mAP: 0.25261\n",
      "[2019-05-31 10:47:04,314 <ipython-input-2-7667fb18f09c>] Batch [667/2077] mAP: 0.25290\n",
      "[2019-05-31 10:47:04,368 <ipython-input-2-7667fb18f09c>] Batch [668/2077] mAP: 0.25261\n"
     ]
    },
    {
     "name": "stdout",
     "output_type": "stream",
     "text": [
      "tensor([[267.0720, 330.0599, 302.0160, 371.1617]], device='cuda:0')\n",
      "Pred: tensor([[276.3371, 321.1370, 318.4782, 353.7142]], device='cuda:0')\n",
      "GT: tensor([[267.0720, 330.0599, 302.0160, 371.1617]], device='cuda:0')\n",
      "Pred: tensor([[262.7988, 325.1793, 286.3943, 357.1201]], device='cuda:0')\n",
      "GT: tensor([[  0.0000, 323.8323,  19.9680, 367.4251]], device='cuda:0')\n",
      "Pred: tensor([[  0.3804, 312.4338,  27.3301, 361.8188]], device='cuda:0')\n",
      "GT: tensor([[  0.0000, 323.8323,  19.9680, 367.4251]], device='cuda:0')\n",
      "Pred: tensor([[262.7988, 325.1793, 286.3943, 357.1201]], device='cuda:0')\n",
      "GT: tensor([[334.4640, 389.8443, 415.1680, 414.7545]], device='cuda:0')\n",
      "Pred: tensor([[  0.3804, 312.4338,  27.3301, 361.8188]], device='cuda:0')\n",
      "GT: tensor([[334.4640, 389.8443, 415.1680, 414.7545]], device='cuda:0')\n",
      "Pred: tensor([[276.3371, 321.1370, 318.4782, 353.7142]], device='cuda:0')\n",
      "GT: tensor([[334.4640, 389.8443, 415.1680, 414.7545]], device='cuda:0')\n",
      "Pred: tensor([[173.4619, 230.1264, 321.2872, 379.2622]], device='cuda:0')\n",
      "GT: tensor([[168.1437, 242.9440, 321.3413, 396.0320]], device='cuda:0')\n",
      "Pred: tensor([[200.2289, 116.8389, 412.1352, 412.1781]], device='cuda:0')\n",
      "GT: tensor([[208.8320, 100.9493, 415.1680, 414.8907]], device='cuda:0')\n"
     ]
    },
    {
     "name": "stderr",
     "output_type": "stream",
     "text": [
      "[2019-05-31 10:47:04,415 <ipython-input-2-7667fb18f09c>] Batch [669/2077] mAP: 0.25173\n",
      "[2019-05-31 10:47:04,475 <ipython-input-2-7667fb18f09c>] Batch [670/2077] mAP: 0.25216\n",
      "[2019-05-31 10:47:04,518 <ipython-input-2-7667fb18f09c>] Batch [671/2077] mAP: 0.25187\n",
      "[2019-05-31 10:47:04,559 <ipython-input-2-7667fb18f09c>] Batch [672/2077] mAP: 0.25230\n",
      "[2019-05-31 10:47:04,599 <ipython-input-2-7667fb18f09c>] Batch [673/2077] mAP: 0.25259\n"
     ]
    },
    {
     "name": "stdout",
     "output_type": "stream",
     "text": [
      "Pred: tensor([[ 69.4760,  17.3710, 288.0630, 342.0663]], device='cuda:0')\n",
      "GT: tensor([[ 75.7770,  20.8000, 290.7361, 396.8640]], device='cuda:0')\n",
      "Pred: tensor([[148.4938, 234.3492, 254.8620, 312.8772]], device='cuda:0')\n",
      "GT: tensor([[156.4160, 237.0089, 257.9200, 297.4955]], device='cuda:0')\n",
      "Pred: tensor([[ 53.8578, 162.6117, 368.2704, 386.7115]], device='cuda:0')\n",
      "GT: tensor([[  0.0000, 156.4160, 325.3120, 413.7813]], device='cuda:0')\n",
      "Pred: tensor([[ 87.7480,  94.5446, 200.8322, 437.9224]], device='cuda:0')\n",
      "GT: tensor([[ 76.5440, 124.8000, 194.1333, 415.1680]], device='cuda:0')\n",
      "Pred: tensor([[ 87.7480,  94.5446, 200.8322, 437.9224]], device='cuda:0')\n",
      "GT: tensor([[193.0240, 168.0640, 287.3173, 415.1680]], device='cuda:0')\n",
      "Pred: tensor([[325.5873, 157.3383, 415.2741, 260.4794]], device='cuda:0')\n",
      "GT: tensor([[193.0240, 168.0640, 287.3173, 415.1680]], device='cuda:0')\n",
      "Pred: tensor([[254.6539, 151.7679, 349.1201, 402.5654]], device='cuda:0')\n",
      "GT: tensor([[193.0240, 168.0640, 287.3173, 415.1680]], device='cuda:0')\n",
      "Pred: tensor([[186.6573, 158.7324, 300.0220, 391.1505]], device='cuda:0')\n",
      "GT: tensor([[193.0240, 168.0640, 287.3173, 415.1680]], device='cuda:0')\n",
      "Pred: tensor([[ 87.7480,  94.5446, 200.8322, 437.9224]], device='cuda:0')\n",
      "GT: tensor([[190.8053, 130.6240, 359.4240, 415.1680]], device='cuda:0')\n",
      "Pred: tensor([[325.5873, 157.3383, 415.2741, 260.4794]], device='cuda:0')\n",
      "GT: tensor([[190.8053, 130.6240, 359.4240, 415.1680]], device='cuda:0')\n",
      "Pred: tensor([[254.6539, 151.7679, 349.1201, 402.5654]], device='cuda:0')\n",
      "GT: tensor([[190.8053, 130.6240, 359.4240, 415.1680]], device='cuda:0')\n",
      "Pred: tensor([[186.6573, 158.7324, 300.0220, 391.1505]], device='cuda:0')\n",
      "GT: "
     ]
    },
    {
     "name": "stderr",
     "output_type": "stream",
     "text": [
      "[2019-05-31 10:47:04,682 <ipython-input-2-7667fb18f09c>] Batch [674/2077] mAP: 0.25431\n",
      "[2019-05-31 10:47:04,750 <ipython-input-2-7667fb18f09c>] Batch [675/2077] mAP: 0.25501\n",
      "[2019-05-31 10:47:04,790 <ipython-input-2-7667fb18f09c>] Batch [676/2077] mAP: 0.25487\n",
      "[2019-05-31 10:47:04,838 <ipython-input-2-7667fb18f09c>] Batch [677/2077] mAP: 0.25472\n"
     ]
    },
    {
     "name": "stdout",
     "output_type": "stream",
     "text": [
      "tensor([[190.8053, 130.6240, 359.4240, 415.1680]], device='cuda:0')\n",
      "Pred: tensor([[ 87.7480,  94.5446, 200.8322, 437.9224]], device='cuda:0')\n",
      "GT: tensor([[343.8933, 151.4240, 414.8907, 280.3840]], device='cuda:0')\n",
      "Pred: tensor([[325.5873, 157.3383, 415.2741, 260.4794]], device='cuda:0')\n",
      "GT: tensor([[343.8933, 151.4240, 414.8907, 280.3840]], device='cuda:0')\n",
      "Pred: tensor([[208.1305,  88.2117, 395.9567, 383.5455]], device='cuda:0')\n",
      "GT: tensor([[  0.0000, 104.2773, 168.8960, 414.8907]], device='cuda:0')\n",
      "Pred: tensor([[ 12.9965, 148.6564, 164.2059, 339.0140]], device='cuda:0')\n",
      "GT: tensor([[  0.0000, 104.2773, 168.8960, 414.8907]], device='cuda:0')\n",
      "Pred: tensor([[208.1305,  88.2117, 395.9567, 383.5455]], device='cuda:0')\n",
      "GT: tensor([[174.7200,  55.4667, 415.1680, 414.8907]], device='cuda:0')\n"
     ]
    },
    {
     "name": "stderr",
     "output_type": "stream",
     "text": [
      "[2019-05-31 10:47:04,878 <ipython-input-2-7667fb18f09c>] Batch [678/2077] mAP: 0.25443\n",
      "[2019-05-31 10:47:04,918 <ipython-input-2-7667fb18f09c>] Batch [679/2077] mAP: 0.25471\n",
      "[2019-05-31 10:47:04,974 <ipython-input-2-7667fb18f09c>] Batch [680/2077] mAP: 0.25514\n",
      "[2019-05-31 10:47:05,064 <ipython-input-2-7667fb18f09c>] Batch [681/2077] mAP: 0.25456\n",
      "[2019-05-31 10:47:05,104 <ipython-input-2-7667fb18f09c>] Batch [682/2077] mAP: 0.25441\n"
     ]
    },
    {
     "name": "stdout",
     "output_type": "stream",
     "text": [
      "Pred: tensor([[ 72.2621,  94.5563, 226.1531, 376.9564]], device='cuda:0')\n",
      "GT: tensor([[ 67.6693,  99.0080, 220.7573, 362.7520]], device='cuda:0')\n",
      "Pred: tensor([[107.5432,  64.9617, 356.8981, 308.5230]], device='cuda:0')\n",
      "GT: tensor([[ 91.5200, 126.6627, 366.0800, 264.5015]], device='cuda:0')\n",
      "Pred: tensor([[319.8026,  20.9914, 347.6313, 124.2930]], device='cuda:0')\n",
      "GT: tensor([[ 14.1440,  79.8720,  43.2640, 170.8373]], device='cuda:0')\n",
      "Pred: tensor([[149.2513, 164.0779, 259.9394, 318.3807]], device='cuda:0')\n",
      "GT: tensor([[ 14.1440,  79.8720,  43.2640, 170.8373]], device='cuda:0')\n",
      "Pred: tensor([[319.8026,  20.9914, 347.6313, 124.2930]], device='cuda:0')\n",
      "GT: tensor([[330.3040,  29.9520, 354.4320, 104.2773]], device='cuda:0')\n",
      "Pred: tensor([[149.2513, 164.0779, 259.9394, 318.3807]], device='cuda:0')\n",
      "GT: tensor([[330.3040,  29.9520, 354.4320, 104.2773]], device='cuda:0')\n",
      "Pred: tensor([[319.8026,  20.9914, 347.6313, 124.2930]], device='cuda:0')\n",
      "GT: tensor([[159.7440, 197.4613, 189.6960, 299.5200]], device='cuda:0')\n",
      "Pred: tensor([[149.2513, 164.0779, 259.9394, 318.3807]], device='cuda:0')\n",
      "GT: tensor([[159.7440, 197.4613, 189.6960, 299.5200]], device='cuda:0')\n",
      "Pred: tensor([[319.8026,  20.9914, 347.6313, 124.2930]], device='cuda:0')\n",
      "GT: tensor([[179.7120, 188.5867, 253.7600, 289.5360]], device='cuda:0')\n",
      "Pred: tensor([[149.2513, 164.0779, 259.9394, 318.3807]], device='cuda:0')\n",
      "GT: tensor([[179.7120, 188.5867, 253.7600, 289.5360]], device='cuda:0')\n",
      "Pred: tensor([[121.9655,  56.1928, 279.9711, 372.9360]], device='cuda:0')\n",
      "GT: tensor([[ 14.9760,  37.0483, 343.6160, 374.7176]], device='cuda:0')\n"
     ]
    },
    {
     "name": "stderr",
     "output_type": "stream",
     "text": [
      "[2019-05-31 10:47:05,158 <ipython-input-2-7667fb18f09c>] Batch [683/2077] mAP: 0.25383\n",
      "[2019-05-31 10:47:05,196 <ipython-input-2-7667fb18f09c>] Batch [684/2077] mAP: 0.25411\n",
      "[2019-05-31 10:47:05,247 <ipython-input-2-7667fb18f09c>] Batch [685/2077] mAP: 0.25382\n",
      "[2019-05-31 10:47:05,312 <ipython-input-2-7667fb18f09c>] Batch [686/2077] mAP: 0.25339\n"
     ]
    },
    {
     "name": "stdout",
     "output_type": "stream",
     "text": [
      "Pred: tensor([[179.2714, 152.0486, 237.3196, 249.7896]], device='cuda:0')\n",
      "GT: tensor([[274.8348, 159.7440, 319.8078, 179.7120]], device='cuda:0')\n",
      "Pred: tensor([[179.2714, 152.0486, 237.3196, 249.7896]], device='cuda:0')\n",
      "GT: tensor([[ 17.4895, 151.4240,  61.2132, 187.2000]], device='cuda:0')\n",
      "Pred: tensor([[179.2714, 152.0486, 237.3196, 249.7896]], device='cuda:0')\n",
      "GT: tensor([[ 36.2282, 205.5040,  84.9490, 241.2800]], device='cuda:0')\n",
      "Pred: tensor([[179.2714, 152.0486, 237.3196, 249.7896]], device='cuda:0')\n",
      "GT: tensor([[199.8799, 168.8960, 236.1081, 202.1760]], device='cuda:0')\n",
      "Pred: tensor([[ 40.1695, 207.4064, 132.5312, 338.3385]], device='cuda:0')\n",
      "GT: tensor([[ 38.8267, 196.3520, 149.7600, 336.9600]], device='cuda:0')\n",
      "Pred: tensor([[ 75.4004,  59.9625, 217.5285, 358.6123]], device='cuda:0')\n",
      "GT: tensor([[ 11.6480,  11.6480, 267.9040, 402.6880]], device='cuda:0')\n",
      "Pred: tensor([[261.5585, 152.9523, 392.5679, 381.2072]], device='cuda:0')\n",
      "GT: tensor([[ 11.6480,  11.6480, 267.9040, 402.6880]], device='cuda:0')\n",
      "Pred: tensor([[ 75.4004,  59.9625, 217.5285, 358.6123]], device='cuda:0')\n",
      "GT: tensor([[206.3360,  13.3120, 398.5280, 403.5200]], device='cuda:0')\n",
      "Pred: tensor([[261.5585, 152.9523, 392.5679, 381.2072]], device='cuda:0')\n",
      "GT: tensor([[206.3360,  13.3120, 398.5280, 403.5200]], device='cuda:0')\n",
      "Pred: tensor([[265.0154, 217.5989, 284.7298, 265.7011]], device='cuda:0')\n",
      "GT: tensor([[290.3680, 206.8877, 306.1760, 259.1658]], device='cuda:0')\n",
      "Pred: tensor([[265.0154, 217.5989, 284.7298, 265.7011]], device='cuda:0')\n",
      "GT: tensor([[244.6080, 214.6738, 255.4240, 258.0535]], device='cuda:0')\n",
      "Pred: tensor([[265.0154, 217.5989, 284.7298, 265.7011]], device='cuda:0')\n",
      "GT: tensor([[252.9280, 210.2246, 263.7440, 238.0321]], device='cuda:0')\n",
      "Pred: tensor([[265.0154, 217.5989, 284.7298, 265.7011]], device='cuda:0')\n",
      "GT: tensor([[254.5920, 228.0214, 270.4000, 258.0535]], device='cuda:0')\n",
      "Pred: tensor([[265.0154, 217.5989, 284.7298, 265.7011]], device='cuda:0')\n",
      "GT: tensor([[268.7360, 228.0214, 287.8720, 258.0535]], device='cuda:0')\n",
      "Pred: tensor([[ 33.7483,  76.9498, 250.2843, 278.0863]], device='cuda:0')\n",
      "GT: tensor([[ 43.2640,  21.1337, 267.0720, 268.0642]], device='cuda:0')\n",
      "Pred: tensor([[265.0154, 217.5989, 284.7298, 265.7011]], device='cuda:0')\n",
      "GT: tensor([[241.2800, 213.5615, 250.4320, 232.4706]], device='cuda:0')\n"
     ]
    },
    {
     "name": "stderr",
     "output_type": "stream",
     "text": [
      "[2019-05-31 10:47:05,350 <ipython-input-2-7667fb18f09c>] Batch [687/2077] mAP: 0.25381\n",
      "[2019-05-31 10:47:05,423 <ipython-input-2-7667fb18f09c>] Batch [688/2077] mAP: 0.25436\n",
      "[2019-05-31 10:47:05,518 <ipython-input-2-7667fb18f09c>] Batch [689/2077] mAP: 0.25351\n"
     ]
    },
    {
     "name": "stdout",
     "output_type": "stream",
     "text": [
      "Pred: tensor([[114.0184,  82.6853, 365.6998, 340.0881]], device='cuda:0')\n",
      "GT: tensor([[ 15.5307,  64.0640, 358.3147, 341.1200]], device='cuda:0')\n",
      "Pred: tensor([[233.0075, 148.7005, 308.1510, 285.2880]], device='cuda:0')\n",
      "GT: tensor([[  1.0400,  81.5360, 185.1200, 357.7600]], device='cuda:0')\n",
      "Pred: tensor([[-7.2258e-02,  7.1182e+01,  1.7793e+02,  3.6531e+02]], device='cuda:0')\n",
      "GT: tensor([[  1.0400,  81.5360, 185.1200, 357.7600]], device='cuda:0')\n",
      "Pred: tensor([[233.0075, 148.7005, 308.1510, 285.2880]], device='cuda:0')\n",
      "GT: tensor([[203.8400, 139.7760, 274.5600, 272.8960]], device='cuda:0')\n",
      "Pred: tensor([[-7.2258e-02,  7.1182e+01,  1.7793e+02,  3.6531e+02]], device='cuda:0')\n",
      "GT: tensor([[203.8400, 139.7760, 274.5600, 272.8960]], device='cuda:0')\n",
      "Pred: tensor([[230.5200,  80.4995, 329.0073, 351.9584]], device='cuda:0')\n",
      "GT: tensor([[203.8400, 139.7760, 274.5600, 272.8960]], device='cuda:0')\n",
      "Pred: tensor([[233.0075, 148.7005, 308.1510, 285.2880]], device='cuda:0')\n",
      "GT: tensor([[252.7200, 152.2560, 312.0000, 283.7120]], device='cuda:0')\n",
      "Pred: tensor([[233.0075, 148.7005, 308.1510, 285.2880]], device='cuda:0')\n",
      "GT: tensor([[214.2400, 211.3280, 326.5600, 321.1520]], device='cuda:0')\n",
      "Pred: tensor([[-7.2258e-02,  7.1182e+01,  1.7793e+02,  3.6531e+02]], device='cuda:0')\n",
      "GT: tensor([[214.2400, 211.3280, 326.5600, 321.1520]], device='cuda:0')\n",
      "Pred: tensor([[230.5200,  80.4995, 329.0073, 351.9584]], device='cuda:0')\n",
      "GT: tensor([[214.2400, 211.3280, 326.5600, 321.1520]], device='cuda:0')\n",
      "Pred: tensor([[143.2410, 291.6872, 266.9639, 375.5950]], device='cuda:0')\n",
      "GT: tensor([[140.6080, 309.7682, 236.2880, 357.0815]], device='cuda:0')\n",
      "Pred: tensor([[133.2479,  62.8187, 226.5009, 305.0673]], device='cuda:0')\n",
      "GT: tensor([[153.0880, 103.5536, 209.6640, 281.2017]], device='cuda:0')\n",
      "Pred: tensor([[133.2479,  62.8187, 226.5009, 305.0673]], device='cuda:0')\n",
      "GT: tensor([[ 97.3440, 122.3004, 155.5840, 307.9828]], device='cuda:0')\n",
      "Pred: tensor([[133.2479,  62.8187, 226.5009, 305.0673]], device='cuda:0')\n",
      "GT: tensor([[ 79.0400, 140.1545, 138.1120, 326.7296]], device='cuda:0')\n",
      "Pred: tensor([[133.2479,  62.8187, 226.5009, 305.0673]], device='cuda:0')\n",
      "GT: tensor([[242.9440, 131.2275, 297.8560, 326.7296]], device='cuda:0')\n",
      "Pred: tensor([[133.2479,  62.8187, 226.5009, 305.0673]], device='cuda:0')\n",
      "GT: tensor([[215.4880, 102.6609, 282.8800, 277.6309]], device='cuda:0')\n"
     ]
    },
    {
     "name": "stderr",
     "output_type": "stream",
     "text": [
      "[2019-05-31 10:47:05,566 <ipython-input-2-7667fb18f09c>] Batch [690/2077] mAP: 0.25336\n",
      "[2019-05-31 10:47:05,628 <ipython-input-2-7667fb18f09c>] Batch [691/2077] mAP: 0.25377\n",
      "[2019-05-31 10:47:05,673 <ipython-input-2-7667fb18f09c>] Batch [692/2077] mAP: 0.25335\n",
      "[2019-05-31 10:47:05,715 <ipython-input-2-7667fb18f09c>] Batch [693/2077] mAP: 0.25362\n",
      "[2019-05-31 10:47:05,756 <ipython-input-2-7667fb18f09c>] Batch [694/2077] mAP: 0.25333\n"
     ]
    },
    {
     "name": "stdout",
     "output_type": "stream",
     "text": [
      "Pred: tensor([[324.0399, 126.8641, 405.1404, 412.2584]], device='cuda:0')\n",
      "GT: tensor([[316.9920, 144.2133, 400.1920, 373.8453]], device='cuda:0')\n",
      "Pred: tensor([[ 87.4962,  67.0694, 327.3651, 352.9867]], device='cuda:0')\n",
      "GT: tensor([[ 76.5440,  58.8916, 300.3520, 337.0602]], device='cuda:0')\n",
      "Pred: tensor([[289.3313, -14.1030, 389.6624, 421.4362]], device='cuda:0')\n",
      "GT: tensor([[290.3680,   2.2187, 415.1680, 414.8907]], device='cuda:0')\n",
      "Pred: tensor([[ 73.9837, 115.5455, 276.1492, 354.5682]], device='cuda:0')\n",
      "GT: tensor([[ 94.8480,  82.7755, 247.9360, 360.8163]], device='cuda:0')\n"
     ]
    },
    {
     "name": "stderr",
     "output_type": "stream",
     "text": [
      "[2019-05-31 10:47:05,796 <ipython-input-2-7667fb18f09c>] Batch [695/2077] mAP: 0.25375\n",
      "[2019-05-31 10:47:05,836 <ipython-input-2-7667fb18f09c>] Batch [696/2077] mAP: 0.25388\n",
      "[2019-05-31 10:47:05,874 <ipython-input-2-7667fb18f09c>] Batch [697/2077] mAP: 0.25415\n",
      "[2019-05-31 10:47:05,929 <ipython-input-2-7667fb18f09c>] Batch [698/2077] mAP: 0.25442\n",
      "[2019-05-31 10:47:05,981 <ipython-input-2-7667fb18f09c>] Batch [699/2077] mAP: 0.25414\n"
     ]
    },
    {
     "name": "stdout",
     "output_type": "stream",
     "text": [
      "Pred: tensor([[ 59.1372, 147.7068, 355.6843, 279.9079]], device='cuda:0')\n",
      "GT: tensor([[ 41.2252, 169.7280, 414.7508, 258.7520]], device='cuda:0')\n",
      "Pred: tensor([[ 90.3869,  44.3462, 210.0242, 377.1458]], device='cuda:0')\n",
      "GT: tensor([[ 85.6960,  25.5147, 211.3280, 384.9387]], device='cuda:0')\n",
      "Pred: tensor([[ 78.0472, 275.1595, 213.8828, 443.6781]], device='cuda:0')\n",
      "GT: tensor([[ 90.9653, 263.7440, 212.9920, 415.1680]], device='cuda:0')\n",
      "Pred: tensor([[  0.4496,  49.4270, 414.4171, 369.3990]], device='cuda:0')\n",
      "GT: tensor([[ 22.1186,  74.8800, 389.6278, 403.5200]], device='cuda:0')\n",
      "Pred: tensor([[110.2022, 137.2796, 192.1814, 390.6453]], device='cuda:0')\n",
      "GT: tensor([[ 96.2000, 110.5000, 266.0667, 414.7000]], device='cuda:0')\n",
      "Pred: tensor([[110.2022, 137.2796, 192.1814, 390.6453]], device='cuda:0')\n",
      "GT: tensor([[ 81.4667, 137.8000, 302.4667, 414.7000]], device='cuda:0')\n"
     ]
    },
    {
     "name": "stderr",
     "output_type": "stream",
     "text": [
      "[2019-05-31 10:47:06,071 <ipython-input-2-7667fb18f09c>] Batch [700/2077] mAP: 0.25385\n",
      "[2019-05-31 10:47:06,117 <ipython-input-2-7667fb18f09c>] Batch [701/2077] mAP: 0.25427\n",
      "[2019-05-31 10:47:06,201 <ipython-input-2-7667fb18f09c>] Batch [702/2077] mAP: 0.25426\n"
     ]
    },
    {
     "name": "stdout",
     "output_type": "stream",
     "text": [
      "Pred: tensor([[-16.1720,  89.0557, 169.8264, 399.4579]], device='cuda:0')\n",
      "GT: tensor([[321.1520, 140.8853, 375.2320, 271.7867]], device='cuda:0')\n",
      "Pred: tensor([[-16.1720,  89.0557, 169.8264, 399.4579]], device='cuda:0')\n",
      "GT: tensor([[281.2160,  88.7467, 341.1200, 310.6133]], device='cuda:0')\n",
      "Pred: tensor([[-16.1720,  89.0557, 169.8264, 399.4579]], device='cuda:0')\n",
      "GT: tensor([[239.6160, 154.1973, 256.2560, 190.8053]], device='cuda:0')\n",
      "Pred: tensor([[-16.1720,  89.0557, 169.8264, 399.4579]], device='cuda:0')\n",
      "GT: tensor([[104.0000,  87.6373, 180.5440, 180.8213]], device='cuda:0')\n",
      "Pred: tensor([[-16.1720,  89.0557, 169.8264, 399.4579]], device='cuda:0')\n",
      "GT: tensor([[  7.4880,  90.9653, 142.2720, 409.3440]], device='cuda:0')\n",
      "Pred: tensor([[ 77.3400,  76.0589, 347.6590, 339.1569]], device='cuda:0')\n",
      "GT: tensor([[ 83.2000,  61.3976, 370.2400, 349.5904]], device='cuda:0')\n",
      "Pred: tensor([[216.0966, 205.8675, 325.6475, 320.7930]], device='cuda:0')\n",
      "GT: tensor([[  0.0000, 193.0240,  26.6240, 321.7067]], device='cuda:0')\n",
      "Pred: tensor([[250.0131, 227.8714, 304.6914, 299.6487]], device='cuda:0')\n",
      "GT: tensor([[  0.0000, 193.0240,  26.6240, 321.7067]], device='cuda:0')\n",
      "Pred: tensor([[216.0966, 205.8675, 325.6475, 320.7930]], device='cuda:0')\n",
      "GT: tensor([[239.6160, 201.8987, 308.6720, 295.0827]], device='cuda:0')\n",
      "Pred: tensor([[250.0131, 227.8714, 304.6914, 299.6487]], device='cuda:0')\n",
      "GT: tensor([[239.6160, 201.8987, 308.6720, 295.0827]], device='cuda:0')\n"
     ]
    },
    {
     "name": "stderr",
     "output_type": "stream",
     "text": [
      "[2019-05-31 10:47:06,283 <ipython-input-2-7667fb18f09c>] Batch [703/2077] mAP: 0.25328\n",
      "[2019-05-31 10:47:06,323 <ipython-input-2-7667fb18f09c>] Batch [704/2077] mAP: 0.25369\n",
      "[2019-05-31 10:47:06,364 <ipython-input-2-7667fb18f09c>] Batch [705/2077] mAP: 0.25410\n",
      "[2019-05-31 10:47:06,399 <ipython-input-2-7667fb18f09c>] Batch [706/2077] mAP: 0.25368\n"
     ]
    },
    {
     "name": "stdout",
     "output_type": "stream",
     "text": [
      "Pred: tensor([[354.4337, 251.6897, 383.6082, 278.9142]], device='cuda:0')\n",
      "GT: tensor([[375.2320, 252.9280, 403.5200, 274.0053]], device='cuda:0')\n",
      "Pred: tensor([[  1.9314, 163.1477, 227.6856, 324.0692]], device='cuda:0')\n",
      "GT: tensor([[375.2320, 252.9280, 403.5200, 274.0053]], device='cuda:0')\n",
      "Pred: tensor([[354.4337, 251.6897, 383.6082, 278.9142]], device='cuda:0')\n",
      "GT: tensor([[323.6480, 252.9280, 366.9120, 287.3173]], device='cuda:0')\n",
      "Pred: tensor([[  1.9314, 163.1477, 227.6856, 324.0692]], device='cuda:0')\n",
      "GT: tensor([[323.6480, 252.9280, 366.9120, 287.3173]], device='cuda:0')\n",
      "Pred: tensor([[354.4337, 251.6897, 383.6082, 278.9142]], device='cuda:0')\n",
      "GT: tensor([[107.3280, 264.0213, 207.1680, 330.5813]], device='cuda:0')\n",
      "Pred: tensor([[  1.9314, 163.1477, 227.6856, 324.0692]], device='cuda:0')\n",
      "GT: tensor([[107.3280, 264.0213, 207.1680, 330.5813]], device='cuda:0')\n",
      "Pred: tensor([[354.4337, 251.6897, 383.6082, 278.9142]], device='cuda:0')\n",
      "GT: tensor([[385.2160, 248.4907, 409.3440, 269.5680]], device='cuda:0')\n",
      "Pred: tensor([[  1.9314, 163.1477, 227.6856, 324.0692]], device='cuda:0')\n",
      "GT: tensor([[385.2160, 248.4907, 409.3440, 269.5680]], device='cuda:0')\n",
      "Pred: tensor([[171.4494, -11.8109, 321.9833, 372.4462]], device='cuda:0')\n",
      "GT: tensor([[173.6456,   4.1600, 342.2943, 409.3440]], device='cuda:0')\n",
      "Pred: tensor([[100.6110,  78.3427, 307.0977, 344.5618]], device='cuda:0')\n",
      "GT: tensor([[ 33.2800,  96.9888, 316.9920, 287.4607]], device='cuda:0')\n"
     ]
    },
    {
     "name": "stderr",
     "output_type": "stream",
     "text": [
      "[2019-05-31 10:47:06,454 <ipython-input-2-7667fb18f09c>] Batch [707/2077] mAP: 0.25341\n",
      "[2019-05-31 10:47:06,501 <ipython-input-2-7667fb18f09c>] Batch [708/2077] mAP: 0.25381\n",
      "[2019-05-31 10:47:06,564 <ipython-input-2-7667fb18f09c>] Batch [709/2077] mAP: 0.25422\n",
      "[2019-05-31 10:47:06,617 <ipython-input-2-7667fb18f09c>] Batch [710/2077] mAP: 0.25449\n",
      "[2019-05-31 10:47:06,659 <ipython-input-2-7667fb18f09c>] Batch [711/2077] mAP: 0.25366\n"
     ]
    },
    {
     "name": "stdout",
     "output_type": "stream",
     "text": [
      "Pred: tensor([[ 84.1080,  64.8143, 265.9429, 354.7847]], device='cuda:0')\n",
      "GT: tensor([[ 63.2157,  29.9520, 286.5098, 391.8720]], device='cuda:0')\n",
      "Pred: tensor([[ 44.5561,  11.3747, 366.9181, 460.8578]], device='cuda:0')\n",
      "GT: tensor([[  0.0000,   0.0000, 393.5360, 414.8907]], device='cuda:0')\n",
      "Pred: tensor([[183.6758, 140.7744, 298.8008, 318.4144]], device='cuda:0')\n",
      "GT: tensor([[181.3760, 140.0129, 308.6720, 316.3754]], device='cuda:0')\n",
      "Pred: tensor([[183.6758, 140.7744, 298.8008, 318.4144]], device='cuda:0')\n",
      "GT: tensor([[  0.0000, 184.4401, 119.8080, 286.7573]], device='cuda:0')\n",
      "Pred: tensor([[275.8991, 316.2959, 331.3765, 356.2616]], device='cuda:0')\n",
      "GT: tensor([[ 13.3120,  15.8080, 393.8133, 211.3280]], device='cuda:0')\n"
     ]
    },
    {
     "name": "stderr",
     "output_type": "stream",
     "text": [
      "[2019-05-31 10:47:06,717 <ipython-input-2-7667fb18f09c>] Batch [712/2077] mAP: 0.25406\n",
      "[2019-05-31 10:47:06,775 <ipython-input-2-7667fb18f09c>] Batch [713/2077] mAP: 0.25433\n",
      "[2019-05-31 10:47:06,821 <ipython-input-2-7667fb18f09c>] Batch [714/2077] mAP: 0.25473\n",
      "[2019-05-31 10:47:06,866 <ipython-input-2-7667fb18f09c>] Batch [715/2077] mAP: 0.25472\n"
     ]
    },
    {
     "name": "stdout",
     "output_type": "stream",
     "text": [
      "Pred: tensor([[227.7308, 202.8420, 370.9019, 417.1457]], device='cuda:0')\n",
      "GT: tensor([[229.3012, 217.1520, 367.1325, 415.1680]], device='cuda:0')\n",
      "Pred: tensor([[ 6.9381e+01, -3.4012e-02,  3.5876e+02,  3.6103e+02]], device='cuda:0')\n",
      "GT: tensor([[ 90.9653,   6.6560, 368.2987, 407.6800]], device='cuda:0')\n",
      "Pred: tensor([[ 81.2022, 134.0714, 256.0024, 347.2560]], device='cuda:0')\n",
      "GT: tensor([[ 52.4160, 132.0240, 263.7440, 351.2335]], device='cuda:0')\n",
      "Pred: tensor([[  3.6843, 112.3308,  93.1955, 187.9887]], device='cuda:0')\n",
      "GT: tensor([[327.2533, 113.9840, 414.8907, 214.6560]], device='cuda:0')\n",
      "Pred: tensor([[  3.6843, 112.3308,  93.1955, 187.9887]], device='cuda:0')\n",
      "GT: tensor([[  0.0000, 110.6560, 106.4960, 214.6560]], device='cuda:0')\n",
      "Pred: tensor([[135.7557, 174.1234, 263.2608, 323.6443]], device='cuda:0')\n",
      "GT: tensor([[330.0599, 174.7200, 414.7545, 376.0640]], device='cuda:0')\n",
      "Pred: tensor([[103.7218, 111.0058, 307.9641, 385.2726]], device='cuda:0')\n",
      "GT: tensor([[330.0599, 174.7200, 414.7545, 376.0640]], device='cuda:0')\n",
      "Pred: tensor([[135.7557, 174.1234, 263.2608, 323.6443]], device='cuda:0')\n",
      "GT: tensor([[ 97.1497, 111.4880, 327.5688, 395.2000]], device='cuda:0')\n",
      "Pred: "
     ]
    },
    {
     "name": "stderr",
     "output_type": "stream",
     "text": [
      "[2019-05-31 10:47:06,917 <ipython-input-2-7667fb18f09c>] Batch [716/2077] mAP: 0.25499\n",
      "[2019-05-31 10:47:06,954 <ipython-input-2-7667fb18f09c>] Batch [717/2077] mAP: 0.25539\n",
      "[2019-05-31 10:47:06,995 <ipython-input-2-7667fb18f09c>] Batch [718/2077] mAP: 0.25253\n",
      "[2019-05-31 10:47:07,037 <ipython-input-2-7667fb18f09c>] Batch [719/2077] mAP: 0.25279\n",
      "[2019-05-31 10:47:07,084 <ipython-input-2-7667fb18f09c>] Batch [720/2077] mAP: 0.25332\n"
     ]
    },
    {
     "name": "stdout",
     "output_type": "stream",
     "text": [
      "tensor([[103.7218, 111.0058, 307.9641, 385.2726]], device='cuda:0')\n",
      "GT: tensor([[ 97.1497, 111.4880, 327.5688, 395.2000]], device='cuda:0')\n",
      "Pred: tensor([[165.2601, 164.6582, 257.2242, 319.9915]], device='cuda:0')\n",
      "GT: tensor([[183.8720, 163.6517, 240.4480, 297.3213]], device='cuda:0')\n",
      "Pred: tensor([[281.5169, 289.7874, 373.6921, 386.4951]], device='cuda:0')\n",
      "GT: tensor([[275.3920, 288.5766, 366.0800, 374.7748]], device='cuda:0')\n",
      "Pred: tensor([[281.5169, 289.7874, 373.6921, 386.4951]], device='cuda:0')\n",
      "GT: tensor([[215.4880, 282.3303, 259.5840, 378.5225]], device='cuda:0')\n",
      "Pred: tensor([[115.3482, 170.8346, 218.6453, 438.4183]], device='cuda:0')\n",
      "GT: tensor([[116.4800, 184.1493, 209.6640, 413.7813]], device='cuda:0')\n",
      "Pred: tensor([[  4.2757, 247.7464,  34.3516, 292.4500]], device='cuda:0')\n",
      "GT: tensor([[ 29.1200, 230.7413,  85.6960, 291.7547]], device='cuda:0')\n",
      "Pred: tensor([[  4.2757, 247.7464,  34.3516, 292.4500]], device='cuda:0')\n",
      "GT: tensor([[  0.0000, 255.1467,  28.2880, 301.7387]], device='cuda:0')\n"
     ]
    },
    {
     "name": "stderr",
     "output_type": "stream",
     "text": [
      "[2019-05-31 10:47:07,136 <ipython-input-2-7667fb18f09c>] Batch [721/2077] mAP: 0.25318\n",
      "[2019-05-31 10:47:07,180 <ipython-input-2-7667fb18f09c>] Batch [722/2077] mAP: 0.25305\n",
      "[2019-05-31 10:47:07,231 <ipython-input-2-7667fb18f09c>] Batch [723/2077] mAP: 0.25292\n",
      "[2019-05-31 10:47:07,278 <ipython-input-2-7667fb18f09c>] Batch [724/2077] mAP: 0.25265\n",
      "[2019-05-31 10:47:07,325 <ipython-input-2-7667fb18f09c>] Batch [725/2077] mAP: 0.25304\n",
      "[2019-05-31 10:47:07,367 <ipython-input-2-7667fb18f09c>] Batch [726/2077] mAP: 0.25278\n",
      "[2019-05-31 10:47:07,404 <ipython-input-2-7667fb18f09c>] Batch [727/2077] mAP: 0.25211\n",
      "[2019-05-31 10:47:07,438 <ipython-input-2-7667fb18f09c>] Batch [728/2077] mAP: 0.25171\n"
     ]
    },
    {
     "name": "stdout",
     "output_type": "stream",
     "text": [
      "Pred: tensor([[238.5981, 159.9965, 299.9004, 271.4155]], device='cuda:0')\n",
      "GT: tensor([[192.1920, 150.8693, 307.0080, 409.3440]], device='cuda:0')\n",
      "Pred: tensor([[ -9.2094, 137.1924, 354.7339, 342.3159]], device='cuda:0')\n",
      "GT: tensor([[  0.0000, 155.7219, 394.3680, 327.0161]], device='cuda:0')\n",
      "Pred: tensor([[ 15.4376,  50.7599, 148.3677, 310.4386]], device='cuda:0')\n",
      "GT: tensor([[  0.0000,   8.7447, 234.6240, 414.7508]], device='cuda:0')\n"
     ]
    },
    {
     "name": "stderr",
     "output_type": "stream",
     "text": [
      "[2019-05-31 10:47:07,473 <ipython-input-2-7667fb18f09c>] Batch [729/2077] mAP: 0.25079\n",
      "[2019-05-31 10:47:07,532 <ipython-input-2-7667fb18f09c>] Batch [730/2077] mAP: 0.25144\n",
      "[2019-05-31 10:47:07,579 <ipython-input-2-7667fb18f09c>] Batch [731/2077] mAP: 0.25105\n",
      "[2019-05-31 10:47:07,680 <ipython-input-2-7667fb18f09c>] Batch [732/2077] mAP: 0.25182\n"
     ]
    },
    {
     "name": "stdout",
     "output_type": "stream",
     "text": [
      "Pred: tensor([[168.1963, 170.8054, 241.6130, 227.4179]], device='cuda:0')\n",
      "GT: tensor([[ 74.8800, 170.1288, 149.7600, 228.3922]], device='cuda:0')\n",
      "Pred: tensor([[ 81.0547, 164.9335, 139.2447, 235.0605]], device='cuda:0')\n",
      "GT: tensor([[ 74.8800, 170.1288, 149.7600, 228.3922]], device='cuda:0')\n",
      "Pred: tensor([[168.1963, 170.8054, 241.6130, 227.4179]], device='cuda:0')\n",
      "GT: tensor([[172.2240, 171.2941, 253.7600, 224.8964]], device='cuda:0')\n",
      "Pred: tensor([[168.1963, 170.8054, 241.6130, 227.4179]], device='cuda:0')\n",
      "GT: tensor([[251.2640, 170.1288, 344.4480, 228.3922]], device='cuda:0')\n",
      "Pred: tensor([[ 81.0547, 164.9335, 139.2447, 235.0605]], device='cuda:0')\n",
      "GT: tensor([[251.2640, 170.1288, 344.4480, 228.3922]], device='cuda:0')\n",
      "Pred: tensor([[ 66.9028, 114.2743, 160.0716, 422.7871]], device='cuda:0')\n",
      "GT: tensor([[ 24.9850, 153.9200, 206.1261, 415.1680]], device='cuda:0')\n",
      "Pred: tensor([[ 66.9028, 114.2743, 160.0716, 422.7871]], device='cuda:0')\n",
      "GT: tensor([[127.4234,  48.2560, 244.8529, 215.4880]], device='cuda:0')\n",
      "Pred: tensor([[ 66.9028, 114.2743, 160.0716, 422.7871]], device='cuda:0')\n",
      "GT: tensor([[244.8529,  90.6880, 414.7508, 415.1680]], device='cuda:0')\n",
      "Pred: tensor([[251.4339, 136.5141, 277.2876, 164.7301]], device='cuda:0')\n",
      "GT: tensor([[226.3040, 130.9013, 254.5920, 166.4000]], device='cuda:0')\n",
      "Pred: tensor([[299.3279, 153.4412, 432.9482, 394.2856]], device='cuda:0')\n",
      "GT: tensor([[244.6080, 127.5733, 282.0480, 183.0400]], device='cuda:0')\n",
      "Pred: tensor([[143.3796, 125.9947, 264.2412, 287.1262]], device='cuda:0')\n",
      "GT: tensor([[244.6080, 127.5733, 282.0480, 183.0400]], device='cuda:0')\n",
      "Pred: tensor([[299.3279, 153.4412, 432.9482, 394.2856]], device='cuda:0')\n",
      "GT: tensor([[166.4000, 139.7760, 234.6240, 285.0987]], device='cuda:0')\n",
      "Pred: tensor([[143.3796, 125.9947, 264.2412, 287.1262]], device='cuda:0')\n",
      "GT: tensor([[166.4000, 139.7760, 234.6240, 285.0987]], device='cuda:0')\n",
      "Pred: tensor([[101.7230, 132.8481, 134.2609, 269.8681]], device='cuda:0')\n",
      "GT: tensor([[ 99.8400, 127.5733, 141.4400, 252.9280]], device='cuda:0')\n",
      "Pred: tensor([[299.3279, 153.4412, 432.9482, 394.2856]], device='cuda:0')\n",
      "GT: tensor([[331.9680, 158.6347, 415.1680, 414.8907]], device='cuda:0')\n",
      "Pred: tensor([[101.7230, 132.8481, 134.2609, 269.8681]], device='cuda:0')\n",
      "GT: tensor([[188.0320, 123.1360, 208.8320, 166.4000]], device='cuda:0')\n"
     ]
    },
    {
     "name": "stderr",
     "output_type": "stream",
     "text": [
      "[2019-05-31 10:47:07,719 <ipython-input-2-7667fb18f09c>] Batch [733/2077] mAP: 0.25169\n",
      "[2019-05-31 10:47:07,770 <ipython-input-2-7667fb18f09c>] Batch [734/2077] mAP: 0.25156\n",
      "[2019-05-31 10:47:07,812 <ipython-input-2-7667fb18f09c>] Batch [735/2077] mAP: 0.25143\n",
      "[2019-05-31 10:47:07,862 <ipython-input-2-7667fb18f09c>] Batch [736/2077] mAP: 0.25065\n",
      "[2019-05-31 10:47:07,898 <ipython-input-2-7667fb18f09c>] Batch [737/2077] mAP: 0.24948\n",
      "[2019-05-31 10:47:07,942 <ipython-input-2-7667fb18f09c>] Batch [738/2077] mAP: 0.24974\n",
      "[2019-05-31 10:47:08,010 <ipython-input-2-7667fb18f09c>] Batch [739/2077] mAP: 0.25000\n"
     ]
    },
    {
     "name": "stdout",
     "output_type": "stream",
     "text": [
      "Pred: tensor([[203.7090, 115.3906, 280.2312, 350.6635]], device='cuda:0')\n",
      "GT: tensor([[252.9280, 132.0107, 278.7200, 297.3013]], device='cuda:0')\n",
      "Pred: tensor([[203.7090, 115.3906, 280.2312, 350.6635]], device='cuda:0')\n",
      "GT: tensor([[214.6560, 132.0107, 273.7280, 335.0187]], device='cuda:0')\n",
      "Pred: tensor([[-18.5608, 133.3515, 440.8431, 277.0275]], device='cuda:0')\n",
      "GT: tensor([[ 13.3120,  83.6997, 406.8480, 277.3333]], device='cuda:0')\n",
      "Pred: tensor([[  6.4926, 195.2877,  26.9618, 227.1940]], device='cuda:0')\n",
      "GT: tensor([[358.5920, 211.1231, 386.0480, 224.8649]], device='cuda:0')\n",
      "Pred: tensor([[ 64.1312, 197.6031, 283.2126, 361.7089]], device='cuda:0')\n",
      "GT: tensor([[ 47.4240, 180.8213, 276.2240, 383.8293]], device='cuda:0')\n",
      "Pred: tensor([[126.9612, 193.7081, 209.1977, 366.1501]], device='cuda:0')\n",
      "GT: tensor([[149.7600, 238.5067, 170.5600, 293.9733]], device='cuda:0')\n"
     ]
    },
    {
     "name": "stderr",
     "output_type": "stream",
     "text": [
      "[2019-05-31 10:47:08,065 <ipython-input-2-7667fb18f09c>] Batch [740/2077] mAP: 0.24949\n",
      "[2019-05-31 10:47:08,124 <ipython-input-2-7667fb18f09c>] Batch [741/2077] mAP: 0.24936\n",
      "[2019-05-31 10:47:08,171 <ipython-input-2-7667fb18f09c>] Batch [742/2077] mAP: 0.24885\n",
      "[2019-05-31 10:47:08,226 <ipython-input-2-7667fb18f09c>] Batch [743/2077] mAP: 0.24898\n",
      "[2019-05-31 10:47:08,290 <ipython-input-2-7667fb18f09c>] Batch [744/2077] mAP: 0.24911\n",
      "[2019-05-31 10:47:08,345 <ipython-input-2-7667fb18f09c>] Batch [745/2077] mAP: 0.24885\n",
      "[2019-05-31 10:47:08,392 <ipython-input-2-7667fb18f09c>] Batch [746/2077] mAP: 0.24847\n"
     ]
    },
    {
     "name": "stdout",
     "output_type": "stream",
     "text": [
      "Pred: tensor([[158.7314, 101.7879, 315.1730, 327.7950]], device='cuda:0')\n",
      "GT: tensor([[158.9492, 108.1600, 342.7343, 366.0800]], device='cuda:0')\n",
      "Pred: tensor([[158.7314, 101.7879, 315.1730, 327.7950]], device='cuda:0')\n",
      "GT: tensor([[  0.0000,   0.0000, 194.9612, 363.5840]], device='cuda:0')\n",
      "Pred: tensor([[158.7314, 101.7879, 315.1730, 327.7950]], device='cuda:0')\n",
      "GT: tensor([[152.7403,   0.0000, 414.7582, 331.1360]], device='cuda:0')\n",
      "Pred: tensor([[139.5665,  40.1982, 261.5388, 441.9200]], device='cuda:0')\n",
      "GT: tensor([[ 69.0560,   0.0000, 324.4800, 414.8907]], device='cuda:0')\n",
      "Pred: tensor([[139.5665,  40.1982, 261.5388, 441.9200]], device='cuda:0')\n",
      "GT: tensor([[131.4560,  88.7467, 255.4240, 384.9387]], device='cuda:0')\n"
     ]
    },
    {
     "name": "stderr",
     "output_type": "stream",
     "text": [
      "[2019-05-31 10:47:08,433 <ipython-input-2-7667fb18f09c>] Batch [747/2077] mAP: 0.24885\n",
      "[2019-05-31 10:47:08,466 <ipython-input-2-7667fb18f09c>] Batch [748/2077] mAP: 0.24873\n",
      "[2019-05-31 10:47:08,497 <ipython-input-2-7667fb18f09c>] Batch [749/2077] mAP: 0.24860\n",
      "[2019-05-31 10:47:08,535 <ipython-input-2-7667fb18f09c>] Batch [750/2077] mAP: 0.24898\n",
      "[2019-05-31 10:47:08,572 <ipython-input-2-7667fb18f09c>] Batch [751/2077] mAP: 0.24937\n",
      "[2019-05-31 10:47:08,609 <ipython-input-2-7667fb18f09c>] Batch [752/2077] mAP: 0.24962\n"
     ]
    },
    {
     "name": "stdout",
     "output_type": "stream",
     "text": [
      "Pred: tensor([[149.5643, 105.6426, 264.1927, 184.9193]], device='cuda:0')\n",
      "GT: tensor([[173.0560, 102.3360, 245.1627, 171.3920]], device='cuda:0')\n",
      "Pred: tensor([[105.9372,  56.5788, 379.8113, 366.2049]], device='cuda:0')\n",
      "GT: tensor([[  0.0000,   0.0000, 371.9040, 414.9415]], device='cuda:0')\n",
      "Pred: tensor([[ -5.5904, 101.1453, 435.5888, 369.0837]], device='cuda:0')\n",
      "GT: tensor([[ 52.4160,  49.9200, 411.0080, 386.0480]], device='cuda:0')\n",
      "Pred: tensor([[307.3564, 277.2474, 367.2350, 318.6207]], device='cuda:0')\n",
      "GT: tensor([[313.6640, 264.0213, 364.4160, 326.1440]], device='cuda:0')\n"
     ]
    },
    {
     "name": "stderr",
     "output_type": "stream",
     "text": [
      "[2019-05-31 10:47:08,671 <ipython-input-2-7667fb18f09c>] Batch [753/2077] mAP: 0.24987\n",
      "[2019-05-31 10:47:08,716 <ipython-input-2-7667fb18f09c>] Batch [754/2077] mAP: 0.24912\n",
      "[2019-05-31 10:47:08,756 <ipython-input-2-7667fb18f09c>] Batch [755/2077] mAP: 0.24949\n",
      "[2019-05-31 10:47:08,810 <ipython-input-2-7667fb18f09c>] Batch [756/2077] mAP: 0.24887\n",
      "[2019-05-31 10:47:08,853 <ipython-input-2-7667fb18f09c>] Batch [757/2077] mAP: 0.24874\n"
     ]
    },
    {
     "name": "stdout",
     "output_type": "stream",
     "text": [
      "Pred: tensor([[130.1790, 177.0760, 351.6364, 378.7693]], device='cuda:0')\n",
      "GT: tensor([[ 96.5120, 141.1652, 366.9120, 414.7508]], device='cuda:0')\n",
      "Pred: tensor([[220.8806, 161.7740, 316.1353, 381.9854]], device='cuda:0')\n",
      "GT: tensor([[225.4720, 172.3964, 295.3600, 403.5075]], device='cuda:0')\n"
     ]
    },
    {
     "name": "stderr",
     "output_type": "stream",
     "text": [
      "[2019-05-31 10:47:08,891 <ipython-input-2-7667fb18f09c>] Batch [758/2077] mAP: 0.24837\n",
      "[2019-05-31 10:47:08,935 <ipython-input-2-7667fb18f09c>] Batch [759/2077] mAP: 0.24862\n",
      "[2019-05-31 10:47:08,976 <ipython-input-2-7667fb18f09c>] Batch [760/2077] mAP: 0.24837\n",
      "[2019-05-31 10:47:09,014 <ipython-input-2-7667fb18f09c>] Batch [761/2077] mAP: 0.24862\n",
      "[2019-05-31 10:47:09,049 <ipython-input-2-7667fb18f09c>] Batch [762/2077] mAP: 0.24775\n",
      "[2019-05-31 10:47:09,087 <ipython-input-2-7667fb18f09c>] Batch [763/2077] mAP: 0.24763\n"
     ]
    },
    {
     "name": "stdout",
     "output_type": "stream",
     "text": [
      "Pred: tensor([[207.5016, 125.5752, 353.8365, 354.7933]], device='cuda:0')\n",
      "GT: tensor([[200.7562,  74.0480, 373.5721, 415.1680]], device='cuda:0')\n",
      "Pred: tensor([[207.5016, 125.5752, 353.8365, 354.7933]], device='cuda:0')\n",
      "GT: tensor([[ 63.1244,   0.0000, 258.7065, 415.1680]], device='cuda:0')\n",
      "Pred: tensor([[148.4296, 193.1229, 324.7299, 405.7838]], device='cuda:0')\n",
      "GT: tensor([[ 53.2480, 184.8889, 415.1680, 414.7508]], device='cuda:0')\n",
      "Pred: tensor([[  5.3363,  75.6507, 407.5390, 342.5355]], device='cuda:0')\n",
      "GT: tensor([[  0.0000,  66.5600, 414.8907, 387.7120]], device='cuda:0')\n",
      "Pred: tensor([[154.9604,  83.3808, 303.6979, 285.6900]], device='cuda:0')\n",
      "GT: tensor([[276.0813,  50.7520, 415.0609, 415.1680]], device='cuda:0')\n"
     ]
    },
    {
     "name": "stderr",
     "output_type": "stream",
     "text": [
      "[2019-05-31 10:47:09,175 <ipython-input-2-7667fb18f09c>] Batch [764/2077] mAP: 0.24714\n",
      "[2019-05-31 10:47:09,222 <ipython-input-2-7667fb18f09c>] Batch [765/2077] mAP: 0.24739\n",
      "[2019-05-31 10:47:09,301 <ipython-input-2-7667fb18f09c>] Batch [766/2077] mAP: 0.24752\n"
     ]
    },
    {
     "name": "stdout",
     "output_type": "stream",
     "text": [
      "Pred: tensor([[120.4249, 121.7769, 243.9487, 373.7210]], device='cuda:0')\n",
      "GT: tensor([[141.1652, 145.6000, 234.8589, 329.4720]], device='cuda:0')\n",
      "Pred: tensor([[120.4249, 121.7769, 243.9487, 373.7210]], device='cuda:0')\n",
      "GT: tensor([[  0.0000, 208.8320,  38.7267, 278.7200]], device='cuda:0')\n",
      "Pred: tensor([[120.4249, 121.7769, 243.9487, 373.7210]], device='cuda:0')\n",
      "GT: tensor([[108.6847, 212.9920, 137.4174, 262.0800]], device='cuda:0')\n",
      "Pred: tensor([[120.4249, 121.7769, 243.9487, 373.7210]], device='cuda:0')\n",
      "GT: tensor([[263.5916, 220.4800, 286.0781, 254.5920]], device='cuda:0')\n",
      "Pred: tensor([[120.4249, 121.7769, 243.9487, 373.7210]], device='cuda:0')\n",
      "GT: tensor([[249.8499, 207.1680, 268.5886, 240.4480]], device='cuda:0')\n",
      "Pred: tensor([[101.4182, 115.2812, 362.8758, 320.1562]], device='cuda:0')\n",
      "GT: tensor([[ 77.6533,  88.1920, 392.7040, 357.7600]], device='cuda:0')\n",
      "Pred: tensor([[281.5068, 332.2576, 388.6212, 385.8513]], device='cuda:0')\n",
      "GT: tensor([[  0.0000, 341.5409,  72.6154, 377.1518]], device='cuda:0')\n",
      "Pred: tensor([[281.5068, 332.2576, 388.6212, 385.8513]], device='cuda:0')\n",
      "GT: tensor([[297.8462, 335.0662, 385.2308, 380.3891]], device='cuda:0')\n",
      "Pred: tensor([[281.5068, 332.2576, 388.6212, 385.8513]], device='cuda:0')\n",
      "GT: tensor([[371.6923, 343.1595, 414.7692, 367.4397]], device='cuda:0')\n",
      "Pred: tensor([[145.0789, 124.7336, 322.3333, 345.3890]], device='cuda:0')\n",
      "GT: tensor([[118.1440, 134.2293, 322.8160, 342.7840]], device='cuda:0')\n"
     ]
    },
    {
     "name": "stderr",
     "output_type": "stream",
     "text": [
      "[2019-05-31 10:47:09,351 <ipython-input-2-7667fb18f09c>] Batch [767/2077] mAP: 0.24765\n",
      "[2019-05-31 10:47:09,390 <ipython-input-2-7667fb18f09c>] Batch [768/2077] mAP: 0.24740\n",
      "[2019-05-31 10:47:09,429 <ipython-input-2-7667fb18f09c>] Batch [769/2077] mAP: 0.24643\n",
      "[2019-05-31 10:47:09,476 <ipython-input-2-7667fb18f09c>] Batch [770/2077] mAP: 0.24680\n",
      "[2019-05-31 10:47:09,530 <ipython-input-2-7667fb18f09c>] Batch [771/2077] mAP: 0.24656\n"
     ]
    },
    {
     "name": "stdout",
     "output_type": "stream",
     "text": [
      "Pred: tensor([[145.0789, 124.7336, 322.3333, 345.3890]], device='cuda:0')\n",
      "GT: tensor([[  0.0000,   0.0000, 375.2320, 414.8907]], device='cuda:0')\n",
      "Pred: tensor([[ 66.4210,  81.8218, 413.5654, 392.6117]], device='cuda:0')\n",
      "GT: tensor([[113.9840, 118.6987, 307.0080, 310.6133]], device='cuda:0')\n",
      "Pred: tensor([[101.9437, 111.0636, 318.0832, 287.7732]], device='cuda:0')\n",
      "GT: tensor([[ 56.5760,  77.4535, 401.0240, 299.8198]], device='cuda:0')\n",
      "Pred: tensor([[350.2798, 293.3412, 399.8237, 391.1611]], device='cuda:0')\n",
      "GT: tensor([[356.0360, 310.3360, 391.0150, 372.7360]], device='cuda:0')\n",
      "Pred: tensor([[375.4778, 293.1945, 408.1492, 381.8950]], device='cuda:0')\n",
      "GT: tensor([[356.0360, 310.3360, 391.0150, 372.7360]], device='cuda:0')\n",
      "Pred: tensor([[350.2798, 293.3412, 399.8237, 391.1611]], device='cuda:0')\n",
      "GT: tensor([[388.5165, 315.3280, 414.7508, 373.5680]], device='cuda:0')\n",
      "Pred: tensor([[375.4778, 293.1945, 408.1492, 381.8950]], device='cuda:0')\n",
      "GT: tensor([[388.5165, 315.3280, 414.7508, 373.5680]], device='cuda:0')\n"
     ]
    },
    {
     "name": "stderr",
     "output_type": "stream",
     "text": [
      "[2019-05-31 10:47:09,590 <ipython-input-2-7667fb18f09c>] Batch [772/2077] mAP: 0.24631\n",
      "[2019-05-31 10:47:09,644 <ipython-input-2-7667fb18f09c>] Batch [773/2077] mAP: 0.24656\n",
      "[2019-05-31 10:47:09,682 <ipython-input-2-7667fb18f09c>] Batch [774/2077] mAP: 0.24632\n",
      "[2019-05-31 10:47:09,720 <ipython-input-2-7667fb18f09c>] Batch [775/2077] mAP: 0.24524\n",
      "[2019-05-31 10:47:09,771 <ipython-input-2-7667fb18f09c>] Batch [776/2077] mAP: 0.24476\n"
     ]
    },
    {
     "name": "stdout",
     "output_type": "stream",
     "text": [
      "Pred: tensor([[130.9982,  55.5752, 235.8964, 281.5612]], device='cuda:0')\n",
      "GT: tensor([[ 94.8480,   9.9840, 291.2000, 282.8800]], device='cuda:0')\n",
      "Pred: tensor([[ 61.5759, 104.5076, 348.4142, 427.3680]], device='cuda:0')\n",
      "GT: tensor([[ 88.1920,  69.3333, 406.0160, 414.8817]], device='cuda:0')\n"
     ]
    },
    {
     "name": "stderr",
     "output_type": "stream",
     "text": [
      "[2019-05-31 10:47:09,916 <ipython-input-2-7667fb18f09c>] Batch [777/2077] mAP: 0.24550\n",
      "[2019-05-31 10:47:09,949 <ipython-input-2-7667fb18f09c>] Batch [778/2077] mAP: 0.24538\n",
      "[2019-05-31 10:47:09,992 <ipython-input-2-7667fb18f09c>] Batch [779/2077] mAP: 0.24612\n"
     ]
    },
    {
     "name": "stdout",
     "output_type": "stream",
     "text": [
      "Pred: tensor([[147.3097, 174.3352, 388.9235, 299.4457]], device='cuda:0')\n",
      "GT: tensor([[  7.4880, 188.5867,  69.0560, 244.0533]], device='cuda:0')\n",
      "Pred: tensor([[ 55.1803, 167.1788, 163.1183, 260.2184]], device='cuda:0')\n",
      "GT: tensor([[  7.4880, 188.5867,  69.0560, 244.0533]], device='cuda:0')\n",
      "Pred: tensor([[ 20.5419, 191.1326,  66.0915, 239.2484]], device='cuda:0')\n",
      "GT: tensor([[  7.4880, 188.5867,  69.0560, 244.0533]], device='cuda:0')\n",
      "Pred: tensor([[147.3097, 174.3352, 388.9235, 299.4457]], device='cuda:0')\n",
      "GT: tensor([[ 54.0800, 180.8213, 159.7440, 257.3653]], device='cuda:0')\n",
      "Pred: tensor([[ 55.1803, 167.1788, 163.1183, 260.2184]], device='cuda:0')\n",
      "GT: tensor([[ 54.0800, 180.8213, 159.7440, 257.3653]], device='cuda:0')\n",
      "Pred: tensor([[147.3097, 174.3352, 388.9235, 299.4457]], device='cuda:0')\n",
      "GT: tensor([[150.5920, 171.9467, 409.3440, 291.7547]], device='cuda:0')\n",
      "Pred: tensor([[147.3097, 174.3352, 388.9235, 299.4457]], device='cuda:0')\n",
      "GT: tensor([[346.9440, 180.8213, 377.7280, 197.4613]], device='cuda:0')\n",
      "Pred: tensor([[ 55.1803, 167.1788, 163.1183, 260.2184]], device='cuda:0')\n",
      "GT: tensor([[346.9440, 180.8213, 377.7280, 197.4613]], device='cuda:0')\n",
      "Pred: tensor([[ 20.5419, 191.1326,  66.0915, 239.2484]], device='cuda:0')\n",
      "GT: tensor([[346.9440, 180.8213, 377.7280, 197.4613]], device='cuda:0')\n",
      "Pred: tensor([[ 10.9235, 196.8839,  32.8609, 230.0690]], device='cuda:0')\n",
      "GT: tensor([[346.9440, 180.8213, 377.7280, 197.4613]], device='cuda:0')\n",
      "Pred: tensor([[147.3097, 174.3352, 388.9235, 299.4457]], device='cuda:0')\n",
      "GT: tensor([[321.9840, 183.0400, 345.2800, 198.5707]], device='cuda:0')\n",
      "Pred: tensor([[ 55.1803, 167.1788, 163.1183, 260.2184]], device='cuda:0')\n",
      "GT: tensor([[321.9840, 183.0400, 345.2800, 198.5707]], device='cuda:0')\n",
      "Pred: tensor([[ 20.5419, 191.1326,  66.0915, 239.2484]], device='cuda:0')\n",
      "GT: tensor([[321.9840, 183.0400, 345.2800, 198.5707]], device='cuda:0')\n",
      "Pred: tensor([[ 10.9235, 196.8839,  32.8609, 230.0690]], device='cuda:0')\n",
      "GT: tensor([[321.9840, 183.0400, 345.2800, 198.5707]], device='cuda:0')\n",
      "Pred: tensor([[147.3097, 174.3352, 388.9235, 299.4457]], device='cuda:0')\n",
      "GT: tensor([[382.7200, 176.3840, 409.3440, 197.4613]], device='cuda:0')\n",
      "Pred: tensor([[ 55.1803, 167.1788, 163.1183, 260.2184]], device='cuda:0')\n",
      "GT: tensor([[382.7200, 176.3840, 409.3440, 197.4613]], device='cuda:0')\n",
      "Pred: tensor([[ 20.5419, 191.1326,  66.0915, 239.2484]], device='cuda:0')\n",
      "GT: tensor([[382.7200, 176.3840, 409.3440, 197.4613]], device='cuda:0')\n",
      "Pred: tensor([[ 10.9235, 196.8839,  32.8609, 230.0690]], device='cuda:0')\n",
      "GT: tensor([[382.7200, 176.3840, 409.3440, 197.4613]], device='cuda:0')\n",
      "Pred: tensor([[ 73.1349,  62.3923, 420.8322, 407.4145]], device='cuda:0')\n",
      "GT: tensor([[ 80.3124,  73.7892, 415.0976, 376.4319]], device='cuda:0')\n",
      "Pred: tensor([[202.5407,  74.4745, 285.6942, 201.5006]], device='cuda:0')\n",
      "GT: tensor([[194.0130,  50.2622, 303.2017, 213.8817]], device='cuda:0')\n",
      "Pred: tensor([[ 16.0167,  31.1460, 209.7928, 139.9241]], device='cuda:0')\n",
      "GT: tensor([[ 9.9840, 29.9520, 47.4240, 97.6213]], device='cuda:0')\n"
     ]
    },
    {
     "name": "stderr",
     "output_type": "stream",
     "text": [
      "[2019-05-31 10:47:10,071 <ipython-input-2-7667fb18f09c>] Batch [780/2077] mAP: 0.24493\n",
      "[2019-05-31 10:47:10,108 <ipython-input-2-7667fb18f09c>] Batch [781/2077] mAP: 0.24529\n",
      "[2019-05-31 10:47:10,139 <ipython-input-2-7667fb18f09c>] Batch [782/2077] mAP: 0.24506\n",
      "[2019-05-31 10:47:10,172 <ipython-input-2-7667fb18f09c>] Batch [783/2077] mAP: 0.24494\n",
      "[2019-05-31 10:47:10,226 <ipython-input-2-7667fb18f09c>] Batch [784/2077] mAP: 0.24531\n"
     ]
    },
    {
     "name": "stdout",
     "output_type": "stream",
     "text": [
      "Pred: tensor([[ 16.0167,  31.1460, 209.7928, 139.9241]], device='cuda:0')\n",
      "GT: tensor([[ 56.5760,  38.8267, 179.7120, 122.0267]], device='cuda:0')\n",
      "Pred: tensor([[ 16.0167,  31.1460, 209.7928, 139.9241]], device='cuda:0')\n",
      "GT: tensor([[130.6240,  72.1067, 289.5360, 218.5387]], device='cuda:0')\n",
      "Pred: tensor([[ 16.0167,  31.1460, 209.7928, 139.9241]], device='cuda:0')\n",
      "GT: tensor([[367.7440,  25.5147, 392.7040,  54.3573]], device='cuda:0')\n",
      "Pred: tensor([[ 16.0167,  31.1460, 209.7928, 139.9241]], device='cuda:0')\n",
      "GT: tensor([[311.1680,  23.2960, 341.9520,  46.5920]], device='cuda:0')\n",
      "Pred: tensor([[ 16.0167,  31.1460, 209.7928, 139.9241]], device='cuda:0')\n",
      "GT: tensor([[249.6000,  31.0613, 307.8400,  73.2160]], device='cuda:0')\n",
      "Pred: tensor([[ 16.0167,  31.1460, 209.7928, 139.9241]], device='cuda:0')\n",
      "GT: tensor([[210.4960,  31.0613, 245.4400,  75.4347]], device='cuda:0')\n",
      "Pred: tensor([[ 16.0167,  31.1460, 209.7928, 139.9241]], device='cuda:0')\n",
      "GT: tensor([[148.0960,  16.6400, 163.9040,  38.8267]], device='cuda:0')\n",
      "Pred: tensor([[ 16.0167,  31.1460, 209.7928, 139.9241]], device='cuda:0')\n",
      "GT: tensor([[ 82.3680,  21.0773, 101.5040,  41.0453]], device='cuda:0')\n",
      "Pred: tensor([[ 16.0167,  31.1460, 209.7928, 139.9241]], device='cuda:0')\n",
      "GT: tensor([[116.4800,  21.0773, 140.6080,  39.9360]], device='cuda:0')\n",
      "Pred: tensor([[ 47.9967, 104.4265, 360.1066, 302.8202]], device='cuda:0')\n",
      "GT: tensor([[ 42.4320,  83.4491, 357.7600, 276.5030]], device='cuda:0')\n",
      "Pred: tensor([[167.4895, 206.2534, 244.7516, 277.2085]], device='cuda:0')\n",
      "GT: tensor([[188.8640, 211.8827, 249.6000, 256.2560]], device='cuda:0')\n",
      "Pred: tensor([[ 68.5870,  99.6510, 160.2227, 327.1104]], device='cuda:0')\n",
      "GT: tensor([[ 72.3840, 136.4480, 109.8240, 254.0373]], device='cuda:0')\n",
      "Pred: tensor([[ 58.6393, 130.1073, 113.7344, 275.9142]], device='cuda:0')\n",
      "GT: tensor([[ 72.3840, 136.4480, 109.8240, 254.0373]], device='cuda:0')\n",
      "Pred: tensor([[ 68.5870,  99.6510, 160.2227, 327.1104]], device='cuda:0')\n",
      "GT: tensor([[ 88.1920, 105.3867, 152.2560, 327.2533]], device='cuda:0')\n"
     ]
    },
    {
     "name": "stderr",
     "output_type": "stream",
     "text": [
      "[2019-05-31 10:47:10,285 <ipython-input-2-7667fb18f09c>] Batch [785/2077] mAP: 0.24567\n",
      "[2019-05-31 10:47:10,331 <ipython-input-2-7667fb18f09c>] Batch [786/2077] mAP: 0.24604\n",
      "[2019-05-31 10:47:10,383 <ipython-input-2-7667fb18f09c>] Batch [787/2077] mAP: 0.24568\n",
      "[2019-05-31 10:47:10,435 <ipython-input-2-7667fb18f09c>] Batch [788/2077] mAP: 0.24533\n"
     ]
    },
    {
     "name": "stdout",
     "output_type": "stream",
     "text": [
      "Pred: tensor([[ 67.3789,  56.3187, 269.5003, 283.6277]], device='cuda:0')\n",
      "GT: tensor([[ 59.0720,  30.9914, 244.6080, 272.9627]], device='cuda:0')\n",
      "Pred: tensor([[ 98.6805, 109.9824, 239.9815, 367.1575]], device='cuda:0')\n",
      "GT: tensor([[ 74.0480, 117.7831, 261.2480, 349.5904]], device='cuda:0')\n",
      "Pred: tensor([[ 82.4788, 268.9914, 205.2917, 328.2005]], device='cuda:0')\n",
      "GT: tensor([[ 78.2080, 124.9249, 187.2000, 323.5555]], device='cuda:0')\n",
      "Pred: tensor([[ 82.4788, 268.9914, 205.2917, 328.2005]], device='cuda:0')\n",
      "GT: tensor([[240.4480, 122.4264, 331.1360, 326.0540]], device='cuda:0')\n",
      "Pred: tensor([[ 82.4788, 268.9914, 205.2917, 328.2005]], device='cuda:0')\n",
      "GT: tensor([[348.6080, 179.8919, 404.3520, 313.5616]], device='cuda:0')\n"
     ]
    },
    {
     "name": "stderr",
     "output_type": "stream",
     "text": [
      "[2019-05-31 10:47:10,533 <ipython-input-2-7667fb18f09c>] Batch [789/2077] mAP: 0.24606\n",
      "[2019-05-31 10:47:10,584 <ipython-input-2-7667fb18f09c>] Batch [790/2077] mAP: 0.24582\n",
      "[2019-05-31 10:47:10,624 <ipython-input-2-7667fb18f09c>] Batch [791/2077] mAP: 0.24607\n",
      "[2019-05-31 10:47:10,662 <ipython-input-2-7667fb18f09c>] Batch [792/2077] mAP: 0.24583\n"
     ]
    },
    {
     "name": "stdout",
     "output_type": "stream",
     "text": [
      "Pred: tensor([[193.3858, 166.6995, 298.8935, 382.9818]], device='cuda:0')\n",
      "GT: tensor([[ 76.5440, 159.7440, 177.4933, 401.0240]], device='cuda:0')\n",
      "Pred: tensor([[ 11.6357, 202.8059,  34.0402, 261.5904]], device='cuda:0')\n",
      "GT: tensor([[ 76.5440, 159.7440, 177.4933, 401.0240]], device='cuda:0')\n",
      "Pred: tensor([[ 17.3322, 214.7454,  27.3494, 253.0180]], device='cuda:0')\n",
      "GT: tensor([[ 76.5440, 159.7440, 177.4933, 401.0240]], device='cuda:0')\n",
      "Pred: tensor([[ 70.5364, 145.1362, 172.0791, 416.0847]], device='cuda:0')\n",
      "GT: tensor([[ 76.5440, 159.7440, 177.4933, 401.0240]], device='cuda:0')\n",
      "Pred: tensor([[193.3858, 166.6995, 298.8935, 382.9818]], device='cuda:0')\n",
      "GT: tensor([[211.8827, 173.8880, 291.7547, 394.3680]], device='cuda:0')\n",
      "Pred: tensor([[193.3858, 166.6995, 298.8935, 382.9818]], device='cuda:0')\n",
      "GT: tensor([[ 21.0773, 212.1600,  35.4987, 256.2560]], device='cuda:0')\n",
      "Pred: tensor([[ 11.6357, 202.8059,  34.0402, 261.5904]], device='cuda:0')\n",
      "GT: tensor([[ 21.0773, 212.1600,  35.4987, 256.2560]], device='cuda:0')\n",
      "Pred: tensor([[ 17.3322, 214.7454,  27.3494, 253.0180]], device='cuda:0')\n",
      "GT: tensor([[ 21.0773, 212.1600,  35.4987, 256.2560]], device='cuda:0')\n",
      "Pred: tensor([[ 70.5364, 145.1362, 172.0791, 416.0847]], device='cuda:0')\n",
      "GT: tensor([[ 21.0773, 212.1600,  35.4987, 256.2560]], device='cuda:0')\n",
      "Pred: tensor([[193.3858, 166.6995, 298.8935, 382.9818]], device='cuda:0')\n",
      "GT: tensor([[  8.8747, 206.3360,  28.8427, 254.5920]], device='cuda:0')\n",
      "Pred: tensor([[ 11.6357, 202.8059,  34.0402, 261.5904]], device='cuda:0')\n",
      "GT: tensor([[  8.8747, 206.3360,  28.8427, 254.5920]], device='cuda:0')\n",
      "Pred: tensor([[ 49.4866,  87.6992, 253.8124, 372.3396]], device='cuda:0')\n",
      "GT: tensor([[  0.0000,   0.0000, 414.7000, 414.2667]], device='cuda:0')\n",
      "Pred: tensor([[  8.5680, 281.0771,  98.8620, 385.7748]], device='cuda:0')\n",
      "GT: tensor([[  0.0000,   0.0000, 414.7000, 414.2667]], device='cuda:0')\n",
      "Pred: tensor([[ 49.4866,  87.6992, 253.8124, 372.3396]], device='cuda:0')\n",
      "GT: tensor([[ 68.9000,  62.4000, 414.7000, 396.9333]], device='cuda:0')\n",
      "Pred: tensor([[  8.5680, 281.0771,  98.8620, 385.7748]], device='cuda:0')\n",
      "GT: tensor([[ 68.9000,  62.4000, 414.7000, 396.9333]], device='cuda:0')\n",
      "Pred: tensor([[259.8253, 173.1258, 295.5039, 243.4930]], device='cuda:0')\n",
      "GT: tensor([[260.6933, 173.0560, 303.9573, 248.7680]], device='cuda:0')\n",
      "Pred: tensor([[ 89.9835,  54.2997, 386.7424, 364.2596]], device='cuda:0')\n",
      "GT: tensor([[  0.0000, 183.8720, 414.8907, 415.1680]], device='cuda:0')\n"
     ]
    },
    {
     "name": "stderr",
     "output_type": "stream",
     "text": [
      "[2019-05-31 10:47:10,696 <ipython-input-2-7667fb18f09c>] Batch [793/2077] mAP: 0.24536\n",
      "[2019-05-31 10:47:10,729 <ipython-input-2-7667fb18f09c>] Batch [794/2077] mAP: 0.24513\n",
      "[2019-05-31 10:47:10,773 <ipython-input-2-7667fb18f09c>] Batch [795/2077] mAP: 0.24585\n",
      "[2019-05-31 10:47:10,835 <ipython-input-2-7667fb18f09c>] Batch [796/2077] mAP: 0.24620\n",
      "[2019-05-31 10:47:10,884 <ipython-input-2-7667fb18f09c>] Batch [797/2077] mAP: 0.24656\n",
      "[2019-05-31 10:47:10,960 <ipython-input-2-7667fb18f09c>] Batch [798/2077] mAP: 0.24704\n"
     ]
    },
    {
     "name": "stdout",
     "output_type": "stream",
     "text": [
      "Pred: tensor([[ 62.2567, 138.8419, 338.8995, 390.2804]], device='cuda:0')\n",
      "GT: tensor([[ 51.3684, 145.0605, 352.8421, 386.0288]], device='cuda:0')\n",
      "Pred: tensor([[182.8158,  64.0645, 217.1460, 210.7228]], device='cuda:0')\n",
      "GT: tensor([[177.6842,  76.7262, 224.8421, 199.0087]], device='cuda:0')\n",
      "Pred: tensor([[ 62.7245,  24.0726, 357.3962, 338.8720]], device='cuda:0')\n",
      "GT: tensor([[113.1520,  40.8276, 362.7520, 331.0345]], device='cuda:0')\n",
      "Pred: tensor([[ 92.0645, 178.5184, 245.1716, 364.8172]], device='cuda:0')\n",
      "GT: tensor([[ 51.5840, 167.9036, 254.5920, 383.4217]], device='cuda:0')\n",
      "Pred: tensor([[300.9143, 272.7312, 379.0025, 406.9385]], device='cuda:0')\n",
      "GT: tensor([[301.1840, 287.3173, 381.8880, 414.8907]], device='cuda:0')\n",
      "Pred: tensor([[300.9143, 272.7312, 379.0025, 406.9385]], device='cuda:0')\n",
      "GT: tensor([[292.8640, 239.6160, 372.7360, 412.6720]], device='cuda:0')\n",
      "Pred: tensor([[300.9143, 272.7312, 379.0025, 406.9385]], device='cuda:0')\n",
      "GT: tensor([[389.3760, 319.4880, 415.1680, 414.8907]], device='cuda:0')\n"
     ]
    },
    {
     "name": "stderr",
     "output_type": "stream",
     "text": [
      "[2019-05-31 10:47:11,012 <ipython-input-2-7667fb18f09c>] Batch [799/2077] mAP: 0.24669\n",
      "[2019-05-31 10:47:11,049 <ipython-input-2-7667fb18f09c>] Batch [800/2077] mAP: 0.24588\n",
      "[2019-05-31 10:47:11,106 <ipython-input-2-7667fb18f09c>] Batch [801/2077] mAP: 0.24624\n",
      "[2019-05-31 10:47:11,197 <ipython-input-2-7667fb18f09c>] Batch [802/2077] mAP: 0.24695\n"
     ]
    },
    {
     "name": "stdout",
     "output_type": "stream",
     "text": [
      "Pred: tensor([[158.0022, 255.2541, 191.0636, 306.8202]], device='cuda:0')\n",
      "GT: tensor([[138.9440, 259.8438, 153.0880, 301.0691]], device='cuda:0')\n",
      "Pred: tensor([[158.0022, 255.2541, 191.0636, 306.8202]], device='cuda:0')\n",
      "GT: tensor([[178.8800, 258.5946, 193.0240, 286.0781]], device='cuda:0')\n",
      "Pred: tensor([[155.7070, 103.8454, 314.0892, 360.1648]], device='cuda:0')\n",
      "GT: tensor([[168.0640, 142.6628, 299.5200, 400.4150]], device='cuda:0')\n",
      "Pred: tensor([[139.5613,  50.4527, 325.7730, 307.9637]], device='cuda:0')\n",
      "GT: tensor([[167.2320,  33.5677, 299.5200, 350.0634]], device='cuda:0')\n",
      "Pred: tensor([[155.7070, 103.8454, 314.0892, 360.1648]], device='cuda:0')\n",
      "GT: tensor([[345.2800, 142.6628, 415.1680, 281.7291]], device='cuda:0')\n",
      "Pred: tensor([[155.7070, 103.8454, 314.0892, 360.1648]], device='cuda:0')\n",
      "GT: tensor([[250.4320,  79.1239, 307.8400, 251.7579]], device='cuda:0')\n",
      "Pred: tensor([[139.5613,  50.4527, 325.7730, 307.9637]], device='cuda:0')\n",
      "GT: tensor([[212.9920,   0.0000, 306.1760, 101.9020]], device='cuda:0')\n",
      "Pred: tensor([[336.6517, 212.5663, 411.8007, 376.8203]], device='cuda:0')\n",
      "GT: tensor([[383.5520, 236.2880, 415.1680, 353.8773]], device='cuda:0')\n",
      "Pred: tensor([[ 83.2447,   6.6557, 208.4229, 289.4042]], device='cuda:0')\n",
      "GT: tensor([[383.5520, 236.2880, 415.1680, 353.8773]], device='cuda:0')\n",
      "Pred: tensor([[240.4566,  85.3157, 320.5347, 272.5693]], device='cuda:0')\n",
      "GT: tensor([[383.5520, 236.2880, 415.1680, 353.8773]], device='cuda:0')\n",
      "Pred: tensor([[370.8295, 247.7256, 411.4799, 346.8293]], device='cuda:0')\n",
      "GT: tensor([[383.5520, 236.2880, 415.1680, 353.8773]], device='cuda:0')\n",
      "Pred: tensor([[336.6517, 212.5663, 411.8007, 376.8203]], device='cuda:0')\n",
      "GT: tensor([[321.9840, 244.0533, 398.5280, 352.7680]], device='cuda:0')\n",
      "Pred: tensor([[ 83.2447,   6.6557, 208.4229, 289.4042]], device='cuda:0')\n",
      "GT: tensor([[321.9840, 244.0533, 398.5280, 352.7680]], device='cuda:0')\n",
      "Pred: tensor([[240.4566,  85.3157, 320.5347, 272.5693]], device='cuda:0')\n",
      "GT: tensor([[321.9840, 244.0533, 398.5280, 352.7680]], device='cuda:0')\n",
      "Pred: tensor([[370.8295, 247.7256, 411.4799, 346.8293]], device='cuda:0')\n",
      "GT: tensor([[321.9840, 244.0533, 398.5280, 352.7680]], device='cuda:0')\n",
      "Pred: tensor([[336.6517, 212.5663, 411.8007, 376.8203]], device='cuda:0')\n",
      "GT: tensor([[234.6240,  88.7467, 326.9760, 262.9120]], device='cuda:0')\n",
      "Pred: tensor([[ 83.2447,   6.6557, 208.4229, 289.4042]], device='cuda:0')\n",
      "GT: tensor([[234.6240,  88.7467, 326.9760, 262.9120]], device='cuda:0')\n",
      "Pred: tensor([[240.4566,  85.3157, 320.5347, 272.5693]], device='cuda:0')\n",
      "GT: tensor([[234.6240,  88.7467, 326.9760, 262.9120]], device='cuda:0')\n",
      "Pred: tensor([[336.6517, 212.5663, 411.8007, 376.8203]], device='cuda:0')\n",
      "GT: tensor([[ 95.6800,  15.5307, 203.0080, 246.2720]], device='cuda:0')\n",
      "Pred: tensor([[ 83.2447,   6.6557, 208.4229, 289.4042]], device='cuda:0')\n",
      "GT: tensor([[ 95.6800,  15.5307, 203.0080, 246.2720]], device='cuda:0')\n"
     ]
    },
    {
     "name": "stderr",
     "output_type": "stream",
     "text": [
      "[2019-05-31 10:47:11,240 <ipython-input-2-7667fb18f09c>] Batch [803/2077] mAP: 0.24719\n",
      "[2019-05-31 10:47:11,295 <ipython-input-2-7667fb18f09c>] Batch [804/2077] mAP: 0.24696\n",
      "[2019-05-31 10:47:11,355 <ipython-input-2-7667fb18f09c>] Batch [805/2077] mAP: 0.24731\n",
      "[2019-05-31 10:47:11,402 <ipython-input-2-7667fb18f09c>] Batch [806/2077] mAP: 0.24766\n"
     ]
    },
    {
     "name": "stdout",
     "output_type": "stream",
     "text": [
      "Pred: tensor([[287.7023, 252.3910, 431.6702, 408.9767]], device='cuda:0')\n",
      "GT: tensor([[294.5280, 236.2880, 415.1680, 414.8907]], device='cuda:0')\n",
      "Pred: tensor([[127.8467, 163.8077, 238.8749, 321.4742]], device='cuda:0')\n",
      "GT: tensor([[142.2720, 183.0400, 248.7680, 287.3173]], device='cuda:0')\n",
      "Pred: tensor([[ 10.1852, 111.4021, 329.2642, 365.9793]], device='cuda:0')\n",
      "GT: tensor([[  0.0000,  81.1200, 336.9600, 411.8400]], device='cuda:0')\n"
     ]
    },
    {
     "name": "stderr",
     "output_type": "stream",
     "text": [
      "[2019-05-31 10:47:11,443 <ipython-input-2-7667fb18f09c>] Batch [807/2077] mAP: 0.24755\n",
      "[2019-05-31 10:47:11,493 <ipython-input-2-7667fb18f09c>] Batch [808/2077] mAP: 0.24697\n",
      "[2019-05-31 10:47:11,571 <ipython-input-2-7667fb18f09c>] Batch [809/2077] mAP: 0.24709\n",
      "[2019-05-31 10:47:11,613 <ipython-input-2-7667fb18f09c>] Batch [810/2077] mAP: 0.24698\n"
     ]
    },
    {
     "name": "stdout",
     "output_type": "stream",
     "text": [
      "Pred: tensor([[157.0788,  81.9774, 244.1002, 317.5020]], device='cuda:0')\n",
      "GT: tensor([[ 49.0880,   0.0000, 337.7920, 414.7508]], device='cuda:0')\n",
      "Pred: tensor([[ 57.0007,  66.3423, 412.2995, 364.8358]], device='cuda:0')\n",
      "GT: tensor([[ 69.0560, 104.8104, 376.8960, 336.0416]], device='cuda:0')\n",
      "Pred: tensor([[ 57.0007,  66.3423, 412.2995, 364.8358]], device='cuda:0')\n",
      "GT: tensor([[ 29.9520, 170.7221,  51.5840, 215.0234]], device='cuda:0')\n",
      "Pred: tensor([[388.5616, 191.1104, 403.5993, 227.0760]], device='cuda:0')\n",
      "GT: tensor([[128.1280, 172.8831, 155.5840, 205.2987]], device='cuda:0')\n"
     ]
    },
    {
     "name": "stderr",
     "output_type": "stream",
     "text": [
      "[2019-05-31 10:47:11,651 <ipython-input-2-7667fb18f09c>] Batch [811/2077] mAP: 0.24606\n",
      "[2019-05-31 10:47:11,689 <ipython-input-2-7667fb18f09c>] Batch [812/2077] mAP: 0.24641\n",
      "[2019-05-31 10:47:11,722 <ipython-input-2-7667fb18f09c>] Batch [813/2077] mAP: 0.24618\n",
      "[2019-05-31 10:47:11,770 <ipython-input-2-7667fb18f09c>] Batch [814/2077] mAP: 0.24584\n",
      "[2019-05-31 10:47:11,803 <ipython-input-2-7667fb18f09c>] Batch [815/2077] mAP: 0.24573\n",
      "[2019-05-31 10:47:11,854 <ipython-input-2-7667fb18f09c>] Batch [816/2077] mAP: 0.24527\n"
     ]
    },
    {
     "name": "stdout",
     "output_type": "stream",
     "text": [
      "Pred: tensor([[ 37.7079,  19.2700, 381.3553, 456.1383]], device='cuda:0')\n",
      "GT: tensor([[ 43.8519, 132.2880, 397.0370, 381.8880]], device='cuda:0')\n",
      "Pred: tensor([[173.7883, 220.1248, 250.0739, 277.9192]], device='cuda:0')\n",
      "GT: tensor([[161.4080, 248.4907, 273.7280, 265.1307]], device='cuda:0')\n",
      "Pred: tensor([[209.9323, 191.7550, 282.1689, 303.5391]], device='cuda:0')\n",
      "GT: tensor([[250.4320, 230.7413, 267.0720, 257.3653]], device='cuda:0')\n",
      "Pred: tensor([[209.9323, 191.7550, 282.1689, 303.5391]], device='cuda:0')\n",
      "GT: tensor([[195.5200, 237.3973, 207.1680, 256.2560]], device='cuda:0')\n",
      "Pred: tensor([[162.6165, 279.5894, 194.9215, 318.0070]], device='cuda:0')\n",
      "GT: tensor([[159.7440, 284.9664, 181.3760, 314.2263]], device='cuda:0')\n",
      "Pred: tensor([[162.6165, 279.5894, 194.9215, 318.0070]], device='cuda:0')\n",
      "GT: tensor([[326.1440, 282.4220, 351.1040, 309.1376]], device='cuda:0')\n",
      "Pred: tensor([[162.6165, 279.5894, 194.9215, 318.0070]], device='cuda:0')\n",
      "GT: tensor([[223.8080, 284.9664, 243.7760, 311.6819]], device='cuda:0')\n",
      "Pred: tensor([[162.6165, 279.5894, 194.9215, 318.0070]], device='cuda:0')\n",
      "GT: tensor([[187.2000, 279.8777, 201.3440, 300.2324]], device='cuda:0')\n"
     ]
    },
    {
     "name": "stderr",
     "output_type": "stream",
     "text": [
      "[2019-05-31 10:47:11,920 <ipython-input-2-7667fb18f09c>] Batch [817/2077] mAP: 0.24540\n",
      "[2019-05-31 10:47:11,964 <ipython-input-2-7667fb18f09c>] Batch [818/2077] mAP: 0.24494\n",
      "[2019-05-31 10:47:12,017 <ipython-input-2-7667fb18f09c>] Batch [819/2077] mAP: 0.24541\n",
      "[2019-05-31 10:47:12,072 <ipython-input-2-7667fb18f09c>] Batch [820/2077] mAP: 0.24519\n"
     ]
    },
    {
     "name": "stdout",
     "output_type": "stream",
     "text": [
      "Pred: tensor([[139.1946, 142.7261, 268.1147, 342.5505]], device='cuda:0')\n",
      "GT: tensor([[138.6667, 134.7840, 252.9280, 344.4480]], device='cuda:0')\n",
      "Pred: tensor([[139.1946, 142.7261, 268.1147, 342.5505]], device='cuda:0')\n",
      "GT: tensor([[155.3067,  58.2400, 414.8907, 415.1680]], device='cuda:0')\n",
      "Pred: tensor([[287.4120,  24.6143, 385.2630, 388.8554]], device='cuda:0')\n",
      "GT: tensor([[299.5200,  46.2222, 381.0560, 397.2613]], device='cuda:0')\n",
      "Pred: tensor([[287.4120,  24.6143, 385.2630, 388.8554]], device='cuda:0')\n",
      "GT: tensor([[ 53.2480,  56.2162, 140.6080, 378.5225]], device='cuda:0')\n",
      "Pred: tensor([[374.2733, 220.7006, 412.6829, 264.4925]], device='cuda:0')\n",
      "GT: tensor([[362.7520, 211.1231, 415.1680, 269.8378]], device='cuda:0')\n",
      "Pred: tensor([[149.7180, 265.7095, 259.2390, 356.7610]], device='cuda:0')\n",
      "GT: tensor([[142.2720, 271.0871, 219.6480, 337.2973]], device='cuda:0')\n",
      "Pred: tensor([[110.9084, 222.4379, 320.2120, 401.9986]], device='cuda:0')\n",
      "GT: tensor([[142.2720, 271.0871, 219.6480, 337.2973]], device='cuda:0')\n",
      "Pred: tensor([[149.7180, 265.7095, 259.2390, 356.7610]], device='cuda:0')\n",
      "GT: tensor([[189.6960, 296.0721, 266.2400, 358.5345]], device='cuda:0')\n",
      "Pred: tensor([[110.9084, 222.4379, 320.2120, 401.9986]], device='cuda:0')\n",
      "GT: tensor([[189.6960, 296.0721, 266.2400, 358.5345]], device='cuda:0')\n",
      "Pred: tensor([[154.4171,  81.6535, 382.9463, 402.9372]], device='cuda:0')\n",
      "GT: tensor([[  0.0000,  87.6373, 249.6000, 414.8907]], device='cuda:0')\n"
     ]
    },
    {
     "name": "stderr",
     "output_type": "stream",
     "text": [
      "[2019-05-31 10:47:12,116 <ipython-input-2-7667fb18f09c>] Batch [821/2077] mAP: 0.24531\n",
      "[2019-05-31 10:47:12,156 <ipython-input-2-7667fb18f09c>] Batch [822/2077] mAP: 0.24565\n",
      "[2019-05-31 10:47:12,197 <ipython-input-2-7667fb18f09c>] Batch [823/2077] mAP: 0.24554\n",
      "[2019-05-31 10:47:12,230 <ipython-input-2-7667fb18f09c>] Batch [824/2077] mAP: 0.24543\n",
      "[2019-05-31 10:47:12,266 <ipython-input-2-7667fb18f09c>] Batch [825/2077] mAP: 0.24532\n",
      "[2019-05-31 10:47:12,300 <ipython-input-2-7667fb18f09c>] Batch [826/2077] mAP: 0.24555\n"
     ]
    },
    {
     "name": "stdout",
     "output_type": "stream",
     "text": [
      "Pred: tensor([[154.4171,  81.6535, 382.9463, 402.9372]], device='cuda:0')\n",
      "GT: tensor([[147.2640,  69.8880, 415.1680, 414.8907]], device='cuda:0')\n",
      "Pred: tensor([[ 15.5461,  40.8035, 407.2262, 306.6855]], device='cuda:0')\n",
      "GT: tensor([[ 18.3040,  80.7164, 408.5120, 274.4358]], device='cuda:0')\n",
      "Pred: tensor([[149.2176,  55.1004, 273.7638, 419.3463]], device='cuda:0')\n",
      "GT: tensor([[129.7920, 125.3547, 365.2480, 335.0187]], device='cuda:0')\n",
      "Pred: tensor([[200.0706, 288.4278, 286.7607, 363.6918]], device='cuda:0')\n",
      "GT: tensor([[222.1440, 297.3013, 271.2320, 346.1120]], device='cuda:0')\n",
      "Pred: tensor([[ 87.5898,  65.2119, 330.0175, 409.2616]], device='cuda:0')\n",
      "GT: tensor([[  0.0000,  67.4595, 328.6400, 414.7508]], device='cuda:0')\n"
     ]
    },
    {
     "name": "stderr",
     "output_type": "stream",
     "text": [
      "[2019-05-31 10:47:12,363 <ipython-input-2-7667fb18f09c>] Batch [827/2077] mAP: 0.24489\n",
      "[2019-05-31 10:47:12,430 <ipython-input-2-7667fb18f09c>] Batch [828/2077] mAP: 0.24501\n",
      "[2019-05-31 10:47:12,479 <ipython-input-2-7667fb18f09c>] Batch [829/2077] mAP: 0.24524\n",
      "[2019-05-31 10:47:12,514 <ipython-input-2-7667fb18f09c>] Batch [830/2077] mAP: 0.24469\n"
     ]
    },
    {
     "name": "stdout",
     "output_type": "stream",
     "text": [
      "Pred: tensor([[230.6609, 107.0441, 321.5699, 242.6162]], device='cuda:0')\n",
      "GT: tensor([[234.6240,  86.5280, 306.1760, 257.3653]], device='cuda:0')\n",
      "Pred: tensor([[230.6609, 107.0441, 321.5699, 242.6162]], device='cuda:0')\n",
      "GT: tensor([[ 79.8720,  95.4027, 153.9200, 283.9893]], device='cuda:0')\n",
      "Pred: tensor([[230.6609, 107.0441, 321.5699, 242.6162]], device='cuda:0')\n",
      "GT: tensor([[228.8000,  96.5120, 415.1680, 414.8907]], device='cuda:0')\n",
      "Pred: tensor([[230.6609, 107.0441, 321.5699, 242.6162]], device='cuda:0')\n",
      "GT: tensor([[  4.9920, 103.1680, 115.6480, 368.2987]], device='cuda:0')\n",
      "Pred: tensor([[230.6609, 107.0441, 321.5699, 242.6162]], device='cuda:0')\n",
      "GT: tensor([[247.9360, 104.2773, 351.9360, 299.5200]], device='cuda:0')\n",
      "Pred: tensor([[230.6609, 107.0441, 321.5699, 242.6162]], device='cuda:0')\n",
      "GT: tensor([[113.1520,  18.8587, 158.9120,  85.4187]], device='cuda:0')\n",
      "Pred: tensor([[230.6609, 107.0441, 321.5699, 242.6162]], device='cuda:0')\n",
      "GT: tensor([[193.0240,  48.8107, 208.8320,  83.2000]], device='cuda:0')\n",
      "Pred: tensor([[230.6609, 107.0441, 321.5699, 242.6162]], device='cuda:0')\n",
      "GT: tensor([[158.0800,  53.2480, 189.6960,  84.3093]], device='cuda:0')\n",
      "Pred: tensor([[123.4015, 111.8616, 291.8157, 239.3868]], device='cuda:0')\n",
      "GT: tensor([[113.1520, 144.9129, 285.3760, 214.8709]], device='cuda:0')\n",
      "Pred: tensor([[123.4015, 111.8616, 291.8157, 239.3868]], device='cuda:0')\n",
      "GT: tensor([[371.0720, 194.8829, 413.5040, 221.1171]], device='cuda:0')\n",
      "Pred: tensor([[123.4015, 111.8616, 291.8157, 239.3868]], device='cuda:0')\n",
      "GT: tensor([[ 54.9120, 201.1291,  69.8880, 218.6186]], device='cuda:0')\n",
      "Pred: tensor([[ 74.4237, -16.8089, 356.6202, 413.5070]], device='cuda:0')\n",
      "GT: tensor([[ 33.2800,  19.9680, 346.9440, 345.0027]], device='cuda:0')\n"
     ]
    },
    {
     "name": "stderr",
     "output_type": "stream",
     "text": [
      "[2019-05-31 10:47:12,549 <ipython-input-2-7667fb18f09c>] Batch [831/2077] mAP: 0.24503\n",
      "[2019-05-31 10:47:12,578 <ipython-input-2-7667fb18f09c>] Batch [832/2077] mAP: 0.24492\n",
      "[2019-05-31 10:47:12,614 <ipython-input-2-7667fb18f09c>] Batch [833/2077] mAP: 0.24515\n",
      "[2019-05-31 10:47:12,653 <ipython-input-2-7667fb18f09c>] Batch [834/2077] mAP: 0.24572\n",
      "[2019-05-31 10:47:12,683 <ipython-input-2-7667fb18f09c>] Batch [835/2077] mAP: 0.24538\n",
      "[2019-05-31 10:47:12,744 <ipython-input-2-7667fb18f09c>] Batch [836/2077] mAP: 0.24572\n"
     ]
    },
    {
     "name": "stdout",
     "output_type": "stream",
     "text": [
      "Pred: tensor([[139.3285, 150.7083, 225.4909, 334.1862]], device='cuda:0')\n",
      "GT: tensor([[132.2880, 113.7882, 220.4800, 351.1530]], device='cuda:0')\n",
      "Pred: tensor([[ 19.5040, -19.4385, 459.0751, 426.3996]], device='cuda:0')\n",
      "GT: tensor([[ 92.3520,   0.0000, 415.1680, 414.8877]], device='cuda:0')\n",
      "Pred: tensor([[206.1675, 211.5515, 327.4909, 326.6328]], device='cuda:0')\n",
      "GT: tensor([[212.1600, 227.8095, 331.1360, 316.9524]], device='cuda:0')\n",
      "Pred: tensor([[229.6895, 195.8110, 309.5618, 340.6455]], device='cuda:0')\n",
      "GT: tensor([[229.6320, 181.5873, 290.3680, 315.8518]], device='cuda:0')\n",
      "Pred: tensor([[ 34.2174,  25.5573, 326.1719, 402.4731]], device='cuda:0')\n",
      "GT: tensor([[  0.0000,  34.9440, 341.0355, 415.1680]], device='cuda:0')\n"
     ]
    },
    {
     "name": "stderr",
     "output_type": "stream",
     "text": [
      "[2019-05-31 10:47:12,805 <ipython-input-2-7667fb18f09c>] Batch [837/2077] mAP: 0.24606\n",
      "[2019-05-31 10:47:12,848 <ipython-input-2-7667fb18f09c>] Batch [838/2077] mAP: 0.24595\n",
      "[2019-05-31 10:47:12,887 <ipython-input-2-7667fb18f09c>] Batch [839/2077] mAP: 0.24584\n",
      "[2019-05-31 10:47:12,957 <ipython-input-2-7667fb18f09c>] Batch [840/2077] mAP: 0.24563\n"
     ]
    },
    {
     "name": "stdout",
     "output_type": "stream",
     "text": [
      "Pred: tensor([[ 94.5030, 150.8783, 380.0944, 281.5892]], device='cuda:0')\n",
      "GT: tensor([[121.4720, 149.7600, 326.1440, 290.6453]], device='cuda:0')\n",
      "Pred: tensor([[ 39.4058, 158.3853, 131.1320, 393.0882]], device='cuda:0')\n",
      "GT: tensor([[224.6400, 138.6667, 381.8880, 331.6907]], device='cuda:0')\n",
      "Pred: tensor([[ 39.4058, 158.3853, 131.1320, 393.0882]], device='cuda:0')\n",
      "GT: tensor([[197.1840, 133.1200, 302.8480, 290.6453]], device='cuda:0')\n",
      "Pred: tensor([[ 39.4058, 158.3853, 131.1320, 393.0882]], device='cuda:0')\n",
      "GT: tensor([[ 18.3040, 160.8533, 155.5840, 414.8907]], device='cuda:0')\n"
     ]
    },
    {
     "name": "stderr",
     "output_type": "stream",
     "text": [
      "[2019-05-31 10:47:13,012 <ipython-input-2-7667fb18f09c>] Batch [841/2077] mAP: 0.24552\n",
      "[2019-05-31 10:47:13,056 <ipython-input-2-7667fb18f09c>] Batch [842/2077] mAP: 0.24486\n",
      "[2019-05-31 10:47:13,091 <ipython-input-2-7667fb18f09c>] Batch [843/2077] mAP: 0.24442\n",
      "[2019-05-31 10:47:13,154 <ipython-input-2-7667fb18f09c>] Batch [844/2077] mAP: 0.24356\n",
      "[2019-05-31 10:47:13,196 <ipython-input-2-7667fb18f09c>] Batch [845/2077] mAP: 0.24389\n",
      "[2019-05-31 10:47:13,229 <ipython-input-2-7667fb18f09c>] Batch [846/2077] mAP: 0.24378\n",
      "[2019-05-31 10:47:13,267 <ipython-input-2-7667fb18f09c>] Batch [847/2077] mAP: 0.24346\n",
      "[2019-05-31 10:47:13,308 <ipython-input-2-7667fb18f09c>] Batch [848/2077] mAP: 0.24121\n"
     ]
    },
    {
     "name": "stdout",
     "output_type": "stream",
     "text": [
      "Pred: tensor([[ 36.1311,  76.1497, 190.4327, 233.2443]], device='cuda:0')\n",
      "GT: tensor([[ 21.9391,   0.0000, 167.0751, 131.4560]], device='cuda:0')\n",
      "Pred: tensor([[ 36.1311,  76.1497, 190.4327, 233.2443]], device='cuda:0')\n",
      "GT: tensor([[173.8256,   0.0000, 286.0527, 214.6560]], device='cuda:0')\n",
      "Pred: tensor([[ 36.1311,  76.1497, 190.4327, 233.2443]], device='cuda:0')\n",
      "GT: tensor([[245.5497,  42.4320, 302.9290, 221.3120]], device='cuda:0')\n",
      "Pred: tensor([[ 36.1311,  76.1497, 190.4327, 233.2443]], device='cuda:0')\n",
      "GT: tensor([[340.0568,   0.0000, 415.1562,  99.8400]], device='cuda:0')\n",
      "Pred: tensor([[ 36.1311,  76.1497, 190.4327, 233.2443]], device='cuda:0')\n",
      "GT: tensor([[297.8661,  14.9760, 396.5923, 350.2720]], device='cuda:0')\n",
      "Pred: tensor([[ 36.1311,  76.1497, 190.4327, 233.2443]], device='cuda:0')\n",
      "GT: tensor([[ 52.3164,  56.5760, 167.0751, 348.6080]], device='cuda:0')\n",
      "Pred: tensor([[237.2534,  95.2830, 325.2040, 194.4152]], device='cuda:0')\n",
      "GT: tensor([[253.3818, 109.8240, 310.1091, 178.0480]], device='cuda:0')\n",
      "Pred: tensor([[258.1580, 112.1364, 299.5628, 191.0477]], device='cuda:0')\n",
      "GT: tensor([[253.3818, 109.8240, 310.1091, 178.0480]], device='cuda:0')\n",
      "Pred: tensor([[209.2220, 155.8398, 338.8579, 333.6943]], device='cuda:0')\n",
      "GT: tensor([[180.5440, 153.1976, 362.7520, 412.2635]], device='cuda:0')\n"
     ]
    },
    {
     "name": "stderr",
     "output_type": "stream",
     "text": [
      "[2019-05-31 10:47:13,346 <ipython-input-2-7667fb18f09c>] Batch [849/2077] mAP: 0.24111\n",
      "[2019-05-31 10:47:13,393 <ipython-input-2-7667fb18f09c>] Batch [850/2077] mAP: 0.24079\n",
      "[2019-05-31 10:47:13,436 <ipython-input-2-7667fb18f09c>] Batch [851/2077] mAP: 0.24145\n",
      "[2019-05-31 10:47:13,473 <ipython-input-2-7667fb18f09c>] Batch [852/2077] mAP: 0.24179\n",
      "[2019-05-31 10:47:13,511 <ipython-input-2-7667fb18f09c>] Batch [853/2077] mAP: 0.24168\n"
     ]
    },
    {
     "name": "stdout",
     "output_type": "stream",
     "text": [
      "Pred: tensor([[259.7842,  78.6825, 394.7115, 410.6307]], device='cuda:0')\n",
      "GT: tensor([[  0.0000,  63.2320, 415.1680, 414.8907]], device='cuda:0')\n",
      "Pred: tensor([[251.9962, 165.6991, 354.9552, 255.7225]], device='cuda:0')\n",
      "GT: tensor([[237.9520, 139.9159, 377.7280, 273.5856]], device='cuda:0')\n",
      "Pred: tensor([[280.6263, 148.4427, 335.1566, 217.3769]], device='cuda:0')\n",
      "GT: tensor([[274.5600, 171.1471, 294.5280, 222.3664]], device='cuda:0')\n",
      "Pred: tensor([[280.6263, 148.4427, 335.1566, 217.3769]], device='cuda:0')\n",
      "GT: tensor([[203.0080, 184.8889, 228.8000, 252.3483]], device='cuda:0')\n",
      "Pred: tensor([[ 54.5003, 282.1483, 241.5669, 387.0879]], device='cuda:0')\n",
      "GT: tensor([[ 59.9040, 221.0000, 247.1040, 414.9167]], device='cuda:0')\n",
      "Pred: tensor([[176.5709,  53.2139, 313.7881, 416.7297]], device='cuda:0')\n",
      "GT: tensor([[189.6960,  35.7500, 320.3200, 414.9167]], device='cuda:0')\n",
      "Pred: tensor([[ 77.0677, 118.4599, 271.5641, 348.2011]], device='cuda:0')\n",
      "GT: tensor([[ 17.7493,  70.7200, 311.7227, 369.4080]], device='cuda:0')\n",
      "Pred: tensor([[ 88.8113, 119.7208, 215.3056, 376.6550]], device='cuda:0')\n",
      "GT: tensor([[ 56.5760,  49.9200, 345.2800, 414.8907]], device='cuda:0')\n"
     ]
    },
    {
     "name": "stderr",
     "output_type": "stream",
     "text": [
      "[2019-05-31 10:47:13,542 <ipython-input-2-7667fb18f09c>] Batch [854/2077] mAP: 0.24158\n",
      "[2019-05-31 10:47:13,581 <ipython-input-2-7667fb18f09c>] Batch [855/2077] mAP: 0.24147\n",
      "[2019-05-31 10:47:13,618 <ipython-input-2-7667fb18f09c>] Batch [856/2077] mAP: 0.24180\n",
      "[2019-05-31 10:47:13,663 <ipython-input-2-7667fb18f09c>] Batch [857/2077] mAP: 0.24129\n",
      "[2019-05-31 10:47:13,698 <ipython-input-2-7667fb18f09c>] Batch [858/2077] mAP: 0.24118\n",
      "[2019-05-31 10:47:13,735 <ipython-input-2-7667fb18f09c>] Batch [859/2077] mAP: 0.24151\n"
     ]
    },
    {
     "name": "stdout",
     "output_type": "stream",
     "text": [
      "Pred: tensor([[206.9030, 319.8935, 254.8424, 359.2874]], device='cuda:0')\n",
      "GT: tensor([[199.6800, 326.1440, 238.7840, 347.2213]], device='cuda:0')\n",
      "Pred: tensor([[  2.0925,  95.6477, 417.6439, 318.1848]], device='cuda:0')\n",
      "GT: tensor([[ 30.7840,  66.5600, 376.8960, 347.2213]], device='cuda:0')\n",
      "Pred: tensor([[115.5605, 209.7111, 176.8847, 284.2455]], device='cuda:0')\n",
      "GT: tensor([[119.8080, 199.6800, 164.7360, 288.4267]], device='cuda:0')\n",
      "Pred: tensor([[115.5605, 209.7111, 176.8847, 284.2455]], device='cuda:0')\n",
      "GT: tensor([[177.2160, 201.8987, 204.6720, 251.8187]], device='cuda:0')\n",
      "Pred: tensor([[120.9257, 144.1136, 353.4741, 276.3468]], device='cuda:0')\n",
      "GT: tensor([[143.9360, 129.7920, 317.8240, 270.6773]], device='cuda:0')\n"
     ]
    },
    {
     "name": "stderr",
     "output_type": "stream",
     "text": [
      "[2019-05-31 10:47:13,788 <ipython-input-2-7667fb18f09c>] Batch [860/2077] mAP: 0.24099\n",
      "[2019-05-31 10:47:13,839 <ipython-input-2-7667fb18f09c>] Batch [861/2077] mAP: 0.24078\n",
      "[2019-05-31 10:47:13,892 <ipython-input-2-7667fb18f09c>] Batch [862/2077] mAP: 0.24111\n",
      "[2019-05-31 10:47:13,950 <ipython-input-2-7667fb18f09c>] Batch [863/2077] mAP: 0.24101\n",
      "[2019-05-31 10:47:14,018 <ipython-input-2-7667fb18f09c>] Batch [864/2077] mAP: 0.24069\n",
      "[2019-05-31 10:47:14,069 <ipython-input-2-7667fb18f09c>] Batch [865/2077] mAP: 0.23916\n"
     ]
    },
    {
     "name": "stdout",
     "output_type": "stream",
     "text": [
      "Pred: tensor([[ 43.5495,  73.5605, 372.7679, 358.3021]], device='cuda:0')\n",
      "GT: tensor([[  0.0000,  69.8880, 414.7545, 415.1680]], device='cuda:0')\n",
      "Pred: tensor([[ 19.0551, 113.3872,  70.1350, 164.2032]], device='cuda:0')\n",
      "GT: tensor([[106.4960, 150.5920, 342.7840, 363.5840]], device='cuda:0')\n",
      "Pred: tensor([[ 64.0806, 239.7637, 222.1404, 376.2302]], device='cuda:0')\n",
      "GT: tensor([[243.7760, 151.9787, 266.2400, 184.1493]], device='cuda:0')\n",
      "Pred: tensor([[105.6409, 249.6278, 196.3122, 342.3379]], device='cuda:0')\n",
      "GT: tensor([[243.7760, 151.9787, 266.2400, 184.1493]], device='cuda:0')\n",
      "Pred: tensor([[ 64.0806, 239.7637, 222.1404, 376.2302]], device='cuda:0')\n",
      "GT: tensor([[114.8160, 260.6933, 160.5760, 341.6747]], device='cuda:0')\n",
      "Pred: tensor([[105.6409, 249.6278, 196.3122, 342.3379]], device='cuda:0')\n",
      "GT: tensor([[114.8160, 260.6933, 160.5760, 341.6747]], device='cuda:0')\n",
      "Pred: tensor([[231.0100,  32.3024, 264.7390, 237.4810]], device='cuda:0')\n",
      "GT: tensor([[237.9520,  62.1227, 259.5840, 171.9467]], device='cuda:0')\n",
      "Pred: tensor([[ 91.1349,  36.3681, 376.7990, 316.3896]], device='cuda:0')\n",
      "GT: tensor([[  0.0000,  37.7173, 404.3520, 323.9253]], device='cuda:0')\n"
     ]
    },
    {
     "name": "stderr",
     "output_type": "stream",
     "text": [
      "[2019-05-31 10:47:14,103 <ipython-input-2-7667fb18f09c>] Batch [866/2077] mAP: 0.23906\n",
      "[2019-05-31 10:47:14,134 <ipython-input-2-7667fb18f09c>] Batch [867/2077] mAP: 0.23895\n",
      "[2019-05-31 10:47:14,193 <ipython-input-2-7667fb18f09c>] Batch [868/2077] mAP: 0.23824\n",
      "[2019-05-31 10:47:14,254 <ipython-input-2-7667fb18f09c>] Batch [869/2077] mAP: 0.23846\n",
      "[2019-05-31 10:47:14,310 <ipython-input-2-7667fb18f09c>] Batch [870/2077] mAP: 0.23879\n",
      "[2019-05-31 10:47:14,347 <ipython-input-2-7667fb18f09c>] Batch [871/2077] mAP: 0.23868\n",
      "[2019-05-31 10:47:14,401 <ipython-input-2-7667fb18f09c>] Batch [872/2077] mAP: 0.23818\n"
     ]
    },
    {
     "name": "stdout",
     "output_type": "stream",
     "text": [
      "Pred: tensor([[259.5650, 112.6150, 401.9870, 248.5573]], device='cuda:0')\n",
      "GT: tensor([[292.8640, 119.8080, 378.5600, 254.0373]], device='cuda:0')\n",
      "Pred: tensor([[ 85.2857, 202.2124, 264.9539, 327.8548]], device='cuda:0')\n",
      "GT: tensor([[ 20.8000, 207.4453, 376.0640, 333.9093]], device='cuda:0')\n",
      "Pred: tensor([[ 15.0585, 170.3858, 336.5946, 368.3055]], device='cuda:0')\n",
      "GT: tensor([[ 20.8000, 207.4453, 376.0640, 333.9093]], device='cuda:0')\n"
     ]
    },
    {
     "name": "stderr",
     "output_type": "stream",
     "text": [
      "[2019-05-31 10:47:14,463 <ipython-input-2-7667fb18f09c>] Batch [873/2077] mAP: 0.23810\n",
      "[2019-05-31 10:47:14,505 <ipython-input-2-7667fb18f09c>] Batch [874/2077] mAP: 0.23749\n",
      "[2019-05-31 10:47:14,544 <ipython-input-2-7667fb18f09c>] Batch [875/2077] mAP: 0.23781\n",
      "[2019-05-31 10:47:14,580 <ipython-input-2-7667fb18f09c>] Batch [876/2077] mAP: 0.23701\n",
      "[2019-05-31 10:47:14,612 <ipython-input-2-7667fb18f09c>] Batch [877/2077] mAP: 0.23681\n",
      "[2019-05-31 10:47:14,645 <ipython-input-2-7667fb18f09c>] Batch [878/2077] mAP: 0.23641\n"
     ]
    },
    {
     "name": "stdout",
     "output_type": "stream",
     "text": [
      "Pred: tensor([[ 88.8881, 118.1629, 255.1045, 363.6566]], device='cuda:0')\n",
      "GT: tensor([[ 32.4480, 128.6827, 260.4160, 359.4240]], device='cuda:0')\n",
      "Pred: tensor([[ 35.8110,  74.7996, 384.1716, 388.4737]], device='cuda:0')\n",
      "GT: tensor([[ 31.8933,  56.9863, 368.8533, 389.4064]], device='cuda:0')\n"
     ]
    },
    {
     "name": "stderr",
     "output_type": "stream",
     "text": [
      "[2019-05-31 10:47:14,683 <ipython-input-2-7667fb18f09c>] Batch [879/2077] mAP: 0.23673\n",
      "[2019-05-31 10:47:14,750 <ipython-input-2-7667fb18f09c>] Batch [880/2077] mAP: 0.23636\n",
      "[2019-05-31 10:47:14,802 <ipython-input-2-7667fb18f09c>] Batch [881/2077] mAP: 0.23616\n",
      "[2019-05-31 10:47:14,845 <ipython-input-2-7667fb18f09c>] Batch [882/2077] mAP: 0.23606\n"
     ]
    },
    {
     "name": "stdout",
     "output_type": "stream",
     "text": [
      "Pred: tensor([[-12.6485,  84.6900, 370.6093, 328.4112]], device='cuda:0')\n",
      "GT: tensor([[ 21.6320,  76.4337, 415.1680, 329.5422]], device='cuda:0')\n",
      "Pred: tensor([[298.9500, 215.3317, 372.9668, 405.8937]], device='cuda:0')\n",
      "GT: tensor([[  0.0000, 185.2587,  28.2880, 350.5493]], device='cuda:0')\n",
      "Pred: tensor([[298.9500, 215.3317, 372.9668, 405.8937]], device='cuda:0')\n",
      "GT: tensor([[ 43.2640, 206.3360,  74.8800, 328.3627]], device='cuda:0')\n",
      "Pred: tensor([[298.9500, 215.3317, 372.9668, 405.8937]], device='cuda:0')\n",
      "GT: tensor([[253.7600, 219.6480, 276.2240, 283.9893]], device='cuda:0')\n",
      "Pred: tensor([[298.9500, 215.3317, 372.9668, 405.8937]], device='cuda:0')\n",
      "GT: tensor([[391.0400, 227.4133, 415.1680, 373.8453]], device='cuda:0')\n",
      "Pred: tensor([[298.9500, 215.3317, 372.9668, 405.8937]], device='cuda:0')\n",
      "GT: tensor([[292.0320, 212.9920, 340.2880, 357.2053]], device='cuda:0')\n",
      "Pred: tensor([[298.9500, 215.3317, 372.9668, 405.8937]], device='cuda:0')\n",
      "GT: tensor([[312.8320, 237.3973, 381.8880, 414.8907]], device='cuda:0')\n"
     ]
    },
    {
     "name": "stderr",
     "output_type": "stream",
     "text": [
      "[2019-05-31 10:47:14,888 <ipython-input-2-7667fb18f09c>] Batch [883/2077] mAP: 0.23628\n",
      "[2019-05-31 10:47:14,944 <ipython-input-2-7667fb18f09c>] Batch [884/2077] mAP: 0.23660\n",
      "[2019-05-31 10:47:14,991 <ipython-input-2-7667fb18f09c>] Batch [885/2077] mAP: 0.23640\n",
      "[2019-05-31 10:47:15,033 <ipython-input-2-7667fb18f09c>] Batch [886/2077] mAP: 0.23652\n",
      "[2019-05-31 10:47:15,065 <ipython-input-2-7667fb18f09c>] Batch [887/2077] mAP: 0.23633\n"
     ]
    },
    {
     "name": "stdout",
     "output_type": "stream",
     "text": [
      "Pred: tensor([[114.8854, 128.5508, 285.6957, 399.0258]], device='cuda:0')\n",
      "GT: tensor([[ 45.4827, 123.1360, 343.8933, 412.6720]], device='cuda:0')\n",
      "Pred: tensor([[ 86.6539,  18.3857, 328.8613, 401.5992]], device='cuda:0')\n",
      "GT: tensor([[ 76.5440,  28.0800, 415.1680, 414.9600]], device='cuda:0')\n",
      "Pred: tensor([[105.2586, 201.9271, 171.7475, 277.7023]], device='cuda:0')\n",
      "GT: tensor([[ 64.3413, 192.1920, 190.8053, 273.7280]], device='cuda:0')\n",
      "Pred: tensor([[125.2571, 137.2560, 362.6500, 340.6089]], device='cuda:0')\n",
      "GT: tensor([[122.3040,  26.5778, 366.9120, 381.3333]], device='cuda:0')\n"
     ]
    },
    {
     "name": "stderr",
     "output_type": "stream",
     "text": [
      "[2019-05-31 10:47:15,141 <ipython-input-2-7667fb18f09c>] Batch [888/2077] mAP: 0.23544\n",
      "[2019-05-31 10:47:15,174 <ipython-input-2-7667fb18f09c>] Batch [889/2077] mAP: 0.23534\n",
      "[2019-05-31 10:47:15,210 <ipython-input-2-7667fb18f09c>] Batch [890/2077] mAP: 0.23566\n",
      "[2019-05-31 10:47:15,260 <ipython-input-2-7667fb18f09c>] Batch [891/2077] mAP: 0.23620\n"
     ]
    },
    {
     "name": "stdout",
     "output_type": "stream",
     "text": [
      "Pred: tensor([[366.4031,  62.1715, 421.2493, 163.0401]], device='cuda:0')\n",
      "GT: tensor([[145.6000, 104.2803, 394.3680, 347.6011]], device='cuda:0')\n",
      "Pred: tensor([[366.4031,  62.1715, 421.2493, 163.0401]], device='cuda:0')\n",
      "GT: tensor([[363.5840,  85.2183, 415.1680, 140.1617]], device='cuda:0')\n",
      "Pred: tensor([[366.4031,  62.1715, 421.2493, 163.0401]], device='cuda:0')\n",
      "GT: tensor([[  0.0000,  62.7925, 133.9520, 328.5391]], device='cuda:0')\n",
      "Pred: tensor([[366.4031,  62.1715, 421.2493, 163.0401]], device='cuda:0')\n",
      "GT: tensor([[  0.0000,  28.0323, 132.2880, 121.0997]], device='cuda:0')\n",
      "Pred: tensor([[366.4031,  62.1715, 421.2493, 163.0401]], device='cuda:0')\n",
      "GT: tensor([[113.1520,  50.4582, 208.8320, 155.8598]], device='cuda:0')\n",
      "Pred: tensor([[366.4031,  62.1715, 421.2493, 163.0401]], device='cuda:0')\n",
      "GT: tensor([[152.2560,  56.0647, 297.8560, 108.7655]], device='cuda:0')\n",
      "Pred: tensor([[366.4031,  62.1715, 421.2493, 163.0401]], device='cuda:0')\n",
      "GT: tensor([[218.8160,  57.1860, 332.8000, 112.1294]], device='cuda:0')\n",
      "Pred: tensor([[366.4031,  62.1715, 421.2493, 163.0401]], device='cuda:0')\n",
      "GT: tensor([[268.7360,  59.4286, 351.1040, 115.4933]], device='cuda:0')\n",
      "Pred: tensor([[366.4031,  62.1715, 421.2493, 163.0401]], device='cuda:0')\n",
      "GT: tensor([[385.2160,  52.7008, 415.1680,  81.8544]], device='cuda:0')\n",
      "Pred: tensor([[ 40.2465,  48.2108, 371.5037, 361.9593]], device='cuda:0')\n",
      "GT: tensor([[ 52.5253,  22.4640, 347.7172, 401.8560]], device='cuda:0')\n",
      "Pred: tensor([[ 73.7453,  90.7932, 196.3439, 341.9974]], device='cuda:0')\n",
      "GT: tensor([[101.5040,  73.2160, 178.8800, 341.6747]], device='cuda:0')\n",
      "Pred: tensor([[179.4867, 150.1010, 367.7601, 386.1075]], device='cuda:0')\n",
      "GT: tensor([[153.9200, 143.1040, 383.5520, 364.9707]], device='cuda:0')\n",
      "Pred: tensor([[179.4867, 150.1010, 367.7601, 386.1075]], device='cuda:0')\n",
      "GT: tensor([[  0.0000, 107.6053, 109.8240, 320.5973]], device='cuda:0')\n"
     ]
    },
    {
     "name": "stderr",
     "output_type": "stream",
     "text": [
      "[2019-05-31 10:47:15,312 <ipython-input-2-7667fb18f09c>] Batch [892/2077] mAP: 0.23600\n",
      "[2019-05-31 10:47:15,355 <ipython-input-2-7667fb18f09c>] Batch [893/2077] mAP: 0.23571\n",
      "[2019-05-31 10:47:15,421 <ipython-input-2-7667fb18f09c>] Batch [894/2077] mAP: 0.23583\n",
      "[2019-05-31 10:47:15,479 <ipython-input-2-7667fb18f09c>] Batch [895/2077] mAP: 0.23615\n",
      "[2019-05-31 10:47:15,519 <ipython-input-2-7667fb18f09c>] Batch [896/2077] mAP: 0.23605\n",
      "[2019-05-31 10:47:15,553 <ipython-input-2-7667fb18f09c>] Batch [897/2077] mAP: 0.23595\n",
      "[2019-05-31 10:47:15,585 <ipython-input-2-7667fb18f09c>] Batch [898/2077] mAP: 0.23585\n"
     ]
    },
    {
     "name": "stdout",
     "output_type": "stream",
     "text": [
      "Pred: tensor([[196.2578, 103.5397, 276.8285, 437.2662]], device='cuda:0')\n",
      "GT: tensor([[138.1120, 132.0240, 233.7920, 398.5629]], device='cuda:0')\n",
      "Pred: tensor([[113.6853, 117.1623, 234.6769, 410.8246]], device='cuda:0')\n",
      "GT: tensor([[138.1120, 132.0240, 233.7920, 398.5629]], device='cuda:0')\n",
      "Pred: tensor([[196.2578, 103.5397, 276.8285, 437.2662]], device='cuda:0')\n",
      "GT: tensor([[125.6320, 109.6048, 237.1200, 208.0000]], device='cuda:0')\n",
      "Pred: tensor([[113.6853, 117.1623, 234.6769, 410.8246]], device='cuda:0')\n",
      "GT: tensor([[125.6320, 109.6048, 237.1200, 208.0000]], device='cuda:0')\n",
      "Pred: tensor([[196.2578, 103.5397, 276.8285, 437.2662]], device='cuda:0')\n",
      "GT: tensor([[202.1760, 144.4790, 275.3920, 303.9042]], device='cuda:0')\n",
      "Pred: tensor([[113.6853, 117.1623, 234.6769, 410.8246]], device='cuda:0')\n",
      "GT: tensor([[202.1760, 144.4790, 275.3920, 303.9042]], device='cuda:0')\n",
      "Pred: tensor([[207.0266,  56.6200, 398.5828, 310.4438]], device='cuda:0')\n",
      "GT: tensor([[193.8560,  21.7143, 392.7040, 219.4286]], device='cuda:0')\n"
     ]
    },
    {
     "name": "stderr",
     "output_type": "stream",
     "text": [
      "[2019-05-31 10:47:15,623 <ipython-input-2-7667fb18f09c>] Batch [899/2077] mAP: 0.23607\n",
      "[2019-05-31 10:47:15,680 <ipython-input-2-7667fb18f09c>] Batch [900/2077] mAP: 0.23639\n",
      "[2019-05-31 10:47:15,725 <ipython-input-2-7667fb18f09c>] Batch [901/2077] mAP: 0.23629\n",
      "[2019-05-31 10:47:15,783 <ipython-input-2-7667fb18f09c>] Batch [902/2077] mAP: 0.23660\n"
     ]
    },
    {
     "name": "stdout",
     "output_type": "stream",
     "text": [
      "Pred: tensor([[ 88.2975,  92.8016, 254.1512, 405.7637]], device='cuda:0')\n",
      "GT: tensor([[ 60.5091, 104.0000, 264.7273, 415.1680]], device='cuda:0')\n",
      "Pred: tensor([[ 78.1402, 162.7553, 338.5063, 379.9308]], device='cuda:0')\n",
      "GT: tensor([[ 76.5440,  82.4504, 352.7680, 366.0300]], device='cuda:0')\n",
      "Pred: tensor([[175.8214,  23.9154, 440.5956, 333.4288]], device='cuda:0')\n",
      "GT: tensor([[209.6640,  43.7237, 415.1680, 309.8138]], device='cuda:0')\n"
     ]
    },
    {
     "name": "stderr",
     "output_type": "stream",
     "text": [
      "[2019-05-31 10:47:15,823 <ipython-input-2-7667fb18f09c>] Batch [903/2077] mAP: 0.23621\n",
      "[2019-05-31 10:47:15,876 <ipython-input-2-7667fb18f09c>] Batch [904/2077] mAP: 0.23563\n",
      "[2019-05-31 10:47:15,927 <ipython-input-2-7667fb18f09c>] Batch [905/2077] mAP: 0.23554\n",
      "[2019-05-31 10:47:15,975 <ipython-input-2-7667fb18f09c>] Batch [906/2077] mAP: 0.23585\n",
      "[2019-05-31 10:47:16,010 <ipython-input-2-7667fb18f09c>] Batch [907/2077] mAP: 0.23575\n",
      "[2019-05-31 10:47:16,048 <ipython-input-2-7667fb18f09c>] Batch [908/2077] mAP: 0.23607\n",
      "[2019-05-31 10:47:16,079 <ipython-input-2-7667fb18f09c>] Batch [909/2077] mAP: 0.23597\n",
      "[2019-05-31 10:47:16,110 <ipython-input-2-7667fb18f09c>] Batch [910/2077] mAP: 0.23587\n",
      "[2019-05-31 10:47:16,170 <ipython-input-2-7667fb18f09c>] Batch [911/2077] mAP: 0.23599\n"
     ]
    },
    {
     "name": "stdout",
     "output_type": "stream",
     "text": [
      "Pred: tensor([[248.2714, 191.3364, 304.0536, 228.1936]], device='cuda:0')\n",
      "GT: tensor([[259.5840, 188.0719, 323.6480, 227.9281]], device='cuda:0')\n",
      "Pred: tensor([[144.0445, 156.6608, 285.0941, 398.6092]], device='cuda:0')\n",
      "GT: tensor([[122.3040, 139.9159, 330.3040, 414.7508]], device='cuda:0')\n",
      "Pred: tensor([[-70.5566,  86.7715, 213.5087, 203.0399]], device='cuda:0')\n",
      "GT: tensor([[315.3280,  93.1840, 415.1680, 354.9867]], device='cuda:0')\n",
      "Pred: tensor([[293.4025, 102.7020, 456.8479, 330.4781]], device='cuda:0')\n",
      "GT: tensor([[315.3280,  93.1840, 415.1680, 354.9867]], device='cuda:0')\n",
      "Pred: tensor([[-70.5566,  86.7715, 213.5087, 203.0399]], device='cuda:0')\n",
      "GT: tensor([[ 34.9440,  92.0747, 317.8240, 279.5520]], device='cuda:0')\n",
      "Pred: tensor([[293.4025, 102.7020, 456.8479, 330.4781]], device='cuda:0')\n",
      "GT: tensor([[ 34.9440,  92.0747, 317.8240, 279.5520]], device='cuda:0')\n",
      "Pred: tensor([[-70.5566,  86.7715, 213.5087, 203.0399]], device='cuda:0')\n",
      "GT: tensor([[  0.0000,  90.9653, 138.9440, 220.7573]], device='cuda:0')\n",
      "Pred: tensor([[293.4025, 102.7020, 456.8479, 330.4781]], device='cuda:0')\n",
      "GT: tensor([[  0.0000,  90.9653, 138.9440, 220.7573]], device='cuda:0')\n"
     ]
    },
    {
     "name": "stderr",
     "output_type": "stream",
     "text": [
      "[2019-05-31 10:47:16,219 <ipython-input-2-7667fb18f09c>] Batch [912/2077] mAP: 0.23652\n",
      "[2019-05-31 10:47:16,281 <ipython-input-2-7667fb18f09c>] Batch [913/2077] mAP: 0.23613\n",
      "[2019-05-31 10:47:16,335 <ipython-input-2-7667fb18f09c>] Batch [914/2077] mAP: 0.23635\n",
      "[2019-05-31 10:47:16,376 <ipython-input-2-7667fb18f09c>] Batch [915/2077] mAP: 0.23656\n"
     ]
    },
    {
     "name": "stdout",
     "output_type": "stream",
     "text": [
      "Pred: tensor([[217.7810,  93.1580, 337.0415, 323.7630]], device='cuda:0')\n",
      "GT: tensor([[211.3280,  79.8720, 354.4320, 322.8160]], device='cuda:0')\n",
      "Pred: tensor([[217.7810,  93.1580, 337.0415, 323.7630]], device='cuda:0')\n",
      "GT: tensor([[ 37.4400, 100.9493, 183.8720, 414.8907]], device='cuda:0')\n",
      "Pred: tensor([[ 53.5812, 114.3516, 168.9712, 387.9654]], device='cuda:0')\n",
      "GT: tensor([[ 37.4400, 100.9493, 183.8720, 414.8907]], device='cuda:0')\n",
      "Pred: tensor([[189.6487, 251.5062, 222.2910, 296.4728]], device='cuda:0')\n",
      "GT: tensor([[340.0876, 338.6240, 414.9878, 415.1680]], device='cuda:0')\n",
      "Pred: tensor([[191.5599, 130.7662, 271.6541, 397.3189]], device='cuda:0')\n",
      "GT: tensor([[116.4800, 156.6235, 190.4356, 355.1463]], device='cuda:0')\n",
      "Pred: tensor([[191.5599, 130.7662, 271.6541, 397.3189]], device='cuda:0')\n",
      "GT: tensor([[192.2844, 164.6043, 269.9378, 355.1463]], device='cuda:0')\n",
      "Pred: tensor([[111.1275,  -3.4853, 377.0699, 422.9452]], device='cuda:0')\n",
      "GT: tensor([[107.3280,   0.0000, 415.1680, 414.8907]], device='cuda:0')\n"
     ]
    },
    {
     "name": "stderr",
     "output_type": "stream",
     "text": [
      "[2019-05-31 10:47:16,433 <ipython-input-2-7667fb18f09c>] Batch [916/2077] mAP: 0.23647\n",
      "[2019-05-31 10:47:16,477 <ipython-input-2-7667fb18f09c>] Batch [917/2077] mAP: 0.23637\n",
      "[2019-05-31 10:47:16,520 <ipython-input-2-7667fb18f09c>] Batch [918/2077] mAP: 0.23627\n",
      "[2019-05-31 10:47:16,562 <ipython-input-2-7667fb18f09c>] Batch [919/2077] mAP: 0.23649\n",
      "[2019-05-31 10:47:16,595 <ipython-input-2-7667fb18f09c>] Batch [920/2077] mAP: 0.23639\n"
     ]
    },
    {
     "name": "stdout",
     "output_type": "stream",
     "text": [
      "Pred: tensor([[161.9915,  57.6801, 305.0406, 364.4521]], device='cuda:0')\n",
      "GT: tensor([[116.4800,  34.3893, 415.1680, 413.7813]], device='cuda:0')\n",
      "Pred: tensor([[138.5361, 152.1885, 327.6694, 261.5208]], device='cuda:0')\n",
      "GT: tensor([[ 53.2480, 132.4204, 371.0720, 249.8499]], device='cuda:0')\n",
      "Pred: tensor([[ 18.8593, 195.1834, 214.9164, 399.7004]], device='cuda:0')\n",
      "GT: tensor([[ 70.9973,   0.0000, 414.8907, 415.1680]], device='cuda:0')\n",
      "Pred: tensor([[ 18.8593, 195.1834, 214.9164, 399.7004]], device='cuda:0')\n",
      "GT: tensor([[  0.0000, 168.0640, 208.5547, 415.1680]], device='cuda:0')\n",
      "Pred: "
     ]
    },
    {
     "name": "stderr",
     "output_type": "stream",
     "text": [
      "[2019-05-31 10:47:16,639 <ipython-input-2-7667fb18f09c>] Batch [921/2077] mAP: 0.23601\n",
      "[2019-05-31 10:47:16,672 <ipython-input-2-7667fb18f09c>] Batch [922/2077] mAP: 0.23563\n",
      "[2019-05-31 10:47:16,709 <ipython-input-2-7667fb18f09c>] Batch [923/2077] mAP: 0.23487\n",
      "[2019-05-31 10:47:16,760 <ipython-input-2-7667fb18f09c>] Batch [924/2077] mAP: 0.23468\n",
      "[2019-05-31 10:47:16,816 <ipython-input-2-7667fb18f09c>] Batch [925/2077] mAP: 0.23480\n"
     ]
    },
    {
     "name": "stdout",
     "output_type": "stream",
     "text": [
      "tensor([[ 99.5158,  69.1722, 244.7910, 406.1147]], device='cuda:0')\n",
      "GT: tensor([[122.5714,  80.4762, 182.9286, 361.5238]], device='cuda:0')\n",
      "Pred: tensor([[ 99.5158,  69.1722, 244.7910, 406.1147]], device='cuda:0')\n",
      "GT: tensor([[308.2857, 105.2381, 361.2143, 283.5238]], device='cuda:0')\n",
      "Pred: tensor([[242.2983, 150.8703, 300.2519, 280.4432]], device='cuda:0')\n",
      "GT: tensor([[251.0991, 168.0640, 304.8168, 261.2480]], device='cuda:0')\n",
      "Pred: tensor([[242.2983, 150.8703, 300.2519, 280.4432]], device='cuda:0')\n",
      "GT: tensor([[128.6727,  44.9280, 189.8859,  97.3440]], device='cuda:0')\n",
      "Pred: tensor([[242.2983, 150.8703, 300.2519, 280.4432]], device='cuda:0')\n",
      "GT: tensor([[139.9159, 102.3360, 181.1411, 144.7680]], device='cuda:0')\n"
     ]
    },
    {
     "name": "stderr",
     "output_type": "stream",
     "text": [
      "[2019-05-31 10:47:16,857 <ipython-input-2-7667fb18f09c>] Batch [926/2077] mAP: 0.23510\n",
      "[2019-05-31 10:47:16,928 <ipython-input-2-7667fb18f09c>] Batch [927/2077] mAP: 0.23485\n",
      "[2019-05-31 10:47:16,978 <ipython-input-2-7667fb18f09c>] Batch [928/2077] mAP: 0.23515\n",
      "[2019-05-31 10:47:17,017 <ipython-input-2-7667fb18f09c>] Batch [929/2077] mAP: 0.23506\n"
     ]
    },
    {
     "name": "stdout",
     "output_type": "stream",
     "text": [
      "Pred: tensor([[ 16.1228,  87.7494, 396.9299, 320.3660]], device='cuda:0')\n",
      "GT: tensor([[ 29.9520,  24.5466, 381.0560, 373.3665]], device='cuda:0')\n",
      "Pred: tensor([[321.8305,  87.7505, 405.4136, 327.1464]], device='cuda:0')\n",
      "GT: tensor([[123.9680,  14.4213, 258.7520, 373.8453]], device='cuda:0')\n",
      "Pred: tensor([[321.8305,  87.7505, 405.4136, 327.1464]], device='cuda:0')\n",
      "GT: tensor([[  0.0000,  34.3893, 133.9520, 387.1573]], device='cuda:0')\n",
      "Pred: tensor([[321.8305,  87.7505, 405.4136, 327.1464]], device='cuda:0')\n",
      "GT: tensor([[296.1920,  33.2800, 415.1680, 329.4720]], device='cuda:0')\n",
      "Pred: tensor([[124.5021, 153.9096, 243.8565, 310.4160]], device='cuda:0')\n",
      "GT: tensor([[ 14.1440,  83.2000, 411.8400, 331.6907]], device='cuda:0')\n",
      "Pred: tensor([[  1.1332,  71.2462, 407.0718, 348.3716]], device='cuda:0')\n",
      "GT: tensor([[ 14.1440,  83.2000, 411.8400, 331.6907]], device='cuda:0')\n",
      "Pred: tensor([[163.9357, 162.8469, 265.7925, 246.1913]], device='cuda:0')\n",
      "GT: tensor([[138.9440, 146.4320, 279.5520, 272.8960]], device='cuda:0')\n",
      "Pred: tensor([[102.2866,  53.7792, 368.7757, 358.4440]], device='cuda:0')\n",
      "GT: "
     ]
    },
    {
     "name": "stderr",
     "output_type": "stream",
     "text": [
      "[2019-05-31 10:47:17,055 <ipython-input-2-7667fb18f09c>] Batch [930/2077] mAP: 0.23536\n",
      "[2019-05-31 10:47:17,087 <ipython-input-2-7667fb18f09c>] Batch [931/2077] mAP: 0.23527\n",
      "[2019-05-31 10:47:17,160 <ipython-input-2-7667fb18f09c>] Batch [932/2077] mAP: 0.23529\n",
      "[2019-05-31 10:47:17,199 <ipython-input-2-7667fb18f09c>] Batch [933/2077] mAP: 0.23501\n",
      "[2019-05-31 10:47:17,240 <ipython-input-2-7667fb18f09c>] Batch [934/2077] mAP: 0.23485\n"
     ]
    },
    {
     "name": "stdout",
     "output_type": "stream",
     "text": [
      "tensor([[  0.0000,   0.0000, 415.1680, 383.8293]], device='cuda:0')\n",
      "Pred: tensor([[  1.6193, -17.6148, 347.7675, 435.7926]], device='cuda:0')\n",
      "GT: tensor([[  0.0000,   0.0000, 371.0720, 362.2823]], device='cuda:0')\n",
      "Pred: tensor([[ 92.0492,   1.4013, 134.7240,  46.5438]], device='cuda:0')\n",
      "GT: tensor([[101.5040,   0.0000, 121.4720,  44.9730]], device='cuda:0')\n",
      "Pred: tensor([[  1.6193, -17.6148, 347.7675, 435.7926]], device='cuda:0')\n",
      "GT: tensor([[376.8960,  16.2402, 415.1680, 176.1441]], device='cuda:0')\n",
      "Pred: tensor([[ 92.0492,   1.4013, 134.7240,  46.5438]], device='cuda:0')\n",
      "GT: tensor([[39.1040,  0.0000, 59.0720, 49.9700]], device='cuda:0')\n",
      "Pred: tensor([[287.0851, 175.7397, 372.6418, 307.3355]], device='cuda:0')\n",
      "GT: tensor([[297.7778, 198.6667, 368.8889, 289.3333]], device='cuda:0')\n"
     ]
    },
    {
     "name": "stderr",
     "output_type": "stream",
     "text": [
      "[2019-05-31 10:47:17,301 <ipython-input-2-7667fb18f09c>] Batch [935/2077] mAP: 0.23457\n",
      "[2019-05-31 10:47:17,333 <ipython-input-2-7667fb18f09c>] Batch [936/2077] mAP: 0.23447\n",
      "[2019-05-31 10:47:17,365 <ipython-input-2-7667fb18f09c>] Batch [937/2077] mAP: 0.23419\n",
      "[2019-05-31 10:47:17,399 <ipython-input-2-7667fb18f09c>] Batch [938/2077] mAP: 0.23410\n",
      "[2019-05-31 10:47:17,431 <ipython-input-2-7667fb18f09c>] Batch [939/2077] mAP: 0.23401\n",
      "[2019-05-31 10:47:17,463 <ipython-input-2-7667fb18f09c>] Batch [940/2077] mAP: 0.23392\n"
     ]
    },
    {
     "name": "stdout",
     "output_type": "stream",
     "text": [
      "Pred: tensor([[313.2963, 120.5075, 360.7895, 234.7561]], device='cuda:0')\n",
      "GT: tensor([[346.3301, 117.2234, 369.5534, 207.2852]], device='cuda:0')\n",
      "Pred: tensor([[339.2640, 111.7282, 379.8643, 225.6120]], device='cuda:0')\n",
      "GT: tensor([[346.3301, 117.2234, 369.5534, 207.2852]], device='cuda:0')\n",
      "Pred: tensor([[289.2665, 148.0788, 332.6747, 223.3159]], device='cuda:0')\n",
      "GT: tensor([[346.3301, 117.2234, 369.5534, 207.2852]], device='cuda:0')\n",
      "Pred: tensor([[313.2963, 120.5075, 360.7895, 234.7561]], device='cuda:0')\n",
      "GT: tensor([[302.9126, 165.8282, 328.1553, 215.8625]], device='cuda:0')\n",
      "Pred: tensor([[339.2640, 111.7282, 379.8643, 225.6120]], device='cuda:0')\n",
      "GT: tensor([[302.9126, 165.8282, 328.1553, 215.8625]], device='cuda:0')\n",
      "Pred: tensor([[289.2665, 148.0788, 332.6747, 223.3159]], device='cuda:0')\n",
      "GT: tensor([[302.9126, 165.8282, 328.1553, 215.8625]], device='cuda:0')\n"
     ]
    },
    {
     "name": "stderr",
     "output_type": "stream",
     "text": [
      "[2019-05-31 10:47:17,510 <ipython-input-2-7667fb18f09c>] Batch [941/2077] mAP: 0.23403\n",
      "[2019-05-31 10:47:17,548 <ipython-input-2-7667fb18f09c>] Batch [942/2077] mAP: 0.23434\n",
      "[2019-05-31 10:47:17,581 <ipython-input-2-7667fb18f09c>] Batch [943/2077] mAP: 0.23424\n",
      "[2019-05-31 10:47:17,619 <ipython-input-2-7667fb18f09c>] Batch [944/2077] mAP: 0.23446\n",
      "[2019-05-31 10:47:17,679 <ipython-input-2-7667fb18f09c>] Batch [945/2077] mAP: 0.23467\n"
     ]
    },
    {
     "name": "stdout",
     "output_type": "stream",
     "text": [
      "Pred: tensor([[136.1150, 151.7471, 217.3569, 376.0019]], device='cuda:0')\n",
      "GT: tensor([[133.1200, 158.6347, 197.1840, 373.8453]], device='cuda:0')\n",
      "Pred: tensor([[136.1150, 151.7471, 217.3569, 376.0019]], device='cuda:0')\n",
      "GT: tensor([[193.8560, 151.9787, 242.9440, 380.5013]], device='cuda:0')\n",
      "Pred: tensor([[136.1150, 151.7471, 217.3569, 376.0019]], device='cuda:0')\n",
      "GT: tensor([[306.1760, 160.8533, 351.9360, 307.2853]], device='cuda:0')\n",
      "Pred: tensor([[171.9471,  75.4314, 315.5503, 447.3983]], device='cuda:0')\n",
      "GT: tensor([[169.7280, 106.4960, 327.8080, 413.7813]], device='cuda:0')\n",
      "Pred: tensor([[241.5917, 227.0219, 301.7922, 311.4256]], device='cuda:0')\n",
      "GT: tensor([[237.1200, 210.7733, 317.8240, 299.5200]], device='cuda:0')\n",
      "Pred: tensor([[ 89.5604, 115.7813, 251.7759, 415.9220]], device='cuda:0')\n",
      "GT: tensor([[ 83.2000, 117.5893, 256.2560, 414.8907]], device='cuda:0')\n"
     ]
    },
    {
     "name": "stderr",
     "output_type": "stream",
     "text": [
      "[2019-05-31 10:47:17,729 <ipython-input-2-7667fb18f09c>] Batch [946/2077] mAP: 0.23448\n",
      "[2019-05-31 10:47:17,784 <ipython-input-2-7667fb18f09c>] Batch [947/2077] mAP: 0.23432\n",
      "[2019-05-31 10:47:17,837 <ipython-input-2-7667fb18f09c>] Batch [948/2077] mAP: 0.23386\n",
      "[2019-05-31 10:47:17,891 <ipython-input-2-7667fb18f09c>] Batch [949/2077] mAP: 0.23377\n"
     ]
    },
    {
     "name": "stdout",
     "output_type": "stream",
     "text": [
      "Pred: tensor([[139.9593,  38.7974, 271.1438, 320.5575]], device='cuda:0')\n",
      "GT: tensor([[141.4400, 137.5573, 273.7280, 264.0213]], device='cuda:0')\n",
      "Pred: tensor([[ 89.8694,  86.4796, 308.8324, 315.9406]], device='cuda:0')\n",
      "GT: tensor([[151.4240,  75.4347, 204.6720, 288.4267]], device='cuda:0')\n",
      "Pred: tensor([[337.1702,  89.4872, 404.7401, 212.0442]], device='cuda:0')\n",
      "GT: tensor([[151.4240,  75.4347, 204.6720, 288.4267]], device='cuda:0')\n",
      "Pred: tensor([[143.8213, 117.7284, 223.4491, 309.4447]], device='cuda:0')\n",
      "GT: tensor([[151.4240,  75.4347, 204.6720, 288.4267]], device='cuda:0')\n",
      "Pred: tensor([[ 58.7463, 248.9952, 285.1339, 421.4096]], device='cuda:0')\n",
      "GT: tensor([[ 75.8391, 284.5440, 250.9383, 381.0560]], device='cuda:0')\n",
      "Pred: tensor([[118.9815, 259.9435, 218.3258, 398.0890]], device='cuda:0')\n",
      "GT: tensor([[ 75.8391, 284.5440, 250.9383, 381.0560]], device='cuda:0')\n"
     ]
    },
    {
     "name": "stderr",
     "output_type": "stream",
     "text": [
      "[2019-05-31 10:47:17,934 <ipython-input-2-7667fb18f09c>] Batch [950/2077] mAP: 0.23349\n",
      "[2019-05-31 10:47:17,992 <ipython-input-2-7667fb18f09c>] Batch [951/2077] mAP: 0.23315\n",
      "[2019-05-31 10:47:18,030 <ipython-input-2-7667fb18f09c>] Batch [952/2077] mAP: 0.23345\n",
      "[2019-05-31 10:47:18,086 <ipython-input-2-7667fb18f09c>] Batch [953/2077] mAP: 0.23396\n"
     ]
    },
    {
     "name": "stdout",
     "output_type": "stream",
     "text": [
      "Pred: tensor([[179.5375,  36.4767, 283.6940, 301.0904]], device='cuda:0')\n",
      "GT: tensor([[189.6960,  17.4895, 415.1680, 339.7958]], device='cuda:0')\n",
      "Pred: tensor([[ 12.2022,  98.8767,  82.3084, 190.3393]], device='cuda:0')\n",
      "GT: tensor([[  0.0000,  53.2480, 382.7200, 415.1680]], device='cuda:0')\n",
      "Pred: tensor([[ 12.2022,  98.8767,  82.3084, 190.3393]], device='cuda:0')\n",
      "GT: tensor([[  0.0000, 103.1680, 106.4960, 193.8560]], device='cuda:0')\n",
      "Pred: tensor([[ 12.2022,  98.8767,  82.3084, 190.3393]], device='cuda:0')\n",
      "GT: tensor([[299.5200,   0.0000, 414.8907, 259.5840]], device='cuda:0')\n",
      "Pred: tensor([[ 12.2022,  98.8767,  82.3084, 190.3393]], device='cuda:0')\n",
      "GT: tensor([[122.0267,   9.9840, 214.1013, 100.6720]], device='cuda:0')\n",
      "Pred: tensor([[ 12.2022,  98.8767,  82.3084, 190.3393]], device='cuda:0')\n",
      "GT: tensor([[187.4773, 260.4160, 414.8907, 415.1680]], device='cuda:0')\n",
      "Pred: tensor([[140.0658, 187.8745, 214.3408, 362.4533]], device='cuda:0')\n",
      "GT: tensor([[150.5920, 183.2871, 212.1600, 364.5149]], device='cuda:0')\n",
      "Pred: tensor([[ 76.2618,  60.4882, 331.0198, 367.7933]], device='cuda:0')\n",
      "GT: tensor([[137.2800,  36.2282, 167.2320,  73.7057]], device='cuda:0')\n",
      "Pred: tensor([[125.8404,  38.5446, 161.8994,  70.6302]], device='cuda:0')\n",
      "GT: tensor([[137.2800,  36.2282, 167.2320,  73.7057]], device='cuda:0')\n",
      "Pred: tensor([[ 76.2618,  60.4882, 331.0198, 367.7933]], device='cuda:0')\n",
      "GT: tensor([[169.7280,  72.4565, 189.6960, 111.1832]], device='cuda:0')\n",
      "Pred: tensor([[125.8404,  38.5446, 161.8994,  70.6302]], device='cuda:0')\n",
      "GT: tensor([[169.7280,  72.4565, 189.6960, 111.1832]], device='cuda:0')\n",
      "Pred: tensor([[ 76.2618,  60.4882, 331.0198, 367.7933]], device='cuda:0')\n",
      "GT: tensor([[114.8160,  46.2222, 259.5840, 414.7508]], device='cuda:0')\n",
      "Pred: tensor([[213.6886, 168.9163, 382.0711, 388.7679]], device='cuda:0')\n",
      "GT: tensor([[ 28.2880, 100.9493, 227.1360, 361.6427]], device='cuda:0')\n",
      "Pred: tensor([[ 23.2063, 148.2136, 252.5586, 344.2540]], device='cuda:0')\n",
      "GT: tensor([[ 28.2880, 100.9493, 227.1360, 361.6427]], device='cuda:0')\n"
     ]
    },
    {
     "name": "stderr",
     "output_type": "stream",
     "text": [
      "[2019-05-31 10:47:18,135 <ipython-input-2-7667fb18f09c>] Batch [954/2077] mAP: 0.23447\n",
      "[2019-05-31 10:47:18,171 <ipython-input-2-7667fb18f09c>] Batch [955/2077] mAP: 0.23477\n",
      "[2019-05-31 10:47:18,294 <ipython-input-2-7667fb18f09c>] Batch [956/2077] mAP: 0.23406\n"
     ]
    },
    {
     "name": "stdout",
     "output_type": "stream",
     "text": [
      "Pred: tensor([[213.6886, 168.9163, 382.0711, 388.7679]], device='cuda:0')\n",
      "GT: tensor([[227.1360, 151.9787, 376.0640, 394.9227]], device='cuda:0')\n",
      "Pred: tensor([[ 19.9045, 163.6997, 385.6952, 387.4998]], device='cuda:0')\n",
      "GT: tensor([[  5.9007, 173.3333, 371.7447, 394.3333]], device='cuda:0')\n",
      "Pred: tensor([[ 45.2693, 260.2195, 254.8114, 421.9899]], device='cuda:0')\n",
      "GT: tensor([[289.5360, 285.0987, 415.1680, 360.5333]], device='cuda:0')\n",
      "Pred: tensor([[230.8525, 296.6154, 294.9819, 360.5081]], device='cuda:0')\n",
      "GT: tensor([[289.5360, 285.0987, 415.1680, 360.5333]], device='cuda:0')\n",
      "Pred: tensor([[ 45.2693, 260.2195, 254.8114, 421.9899]], device='cuda:0')\n",
      "GT: tensor([[373.5680, 329.4720, 415.1680, 378.2827]], device='cuda:0')\n",
      "Pred: tensor([[230.8525, 296.6154, 294.9819, 360.5081]], device='cuda:0')\n",
      "GT: tensor([[373.5680, 329.4720, 415.1680, 378.2827]], device='cuda:0')\n",
      "Pred: tensor([[ 45.2693, 260.2195, 254.8114, 421.9899]], device='cuda:0')\n",
      "GT: tensor([[193.8560, 305.0667, 306.1760, 364.9707]], device='cuda:0')\n",
      "Pred: tensor([[230.8525, 296.6154, 294.9819, 360.5081]], device='cuda:0')\n",
      "GT: tensor([[193.8560, 305.0667, 306.1760, 364.9707]], device='cuda:0')\n",
      "Pred: tensor([[ 45.2693, 260.2195, 254.8114, 421.9899]], device='cuda:0')\n",
      "GT: tensor([[  0.0000, 262.9120,  62.4000, 383.8293]], device='cuda:0')\n",
      "Pred: tensor([[230.8525, 296.6154, 294.9819, 360.5081]], device='cuda:0')\n",
      "GT: tensor([[  0.0000, 262.9120,  62.4000, 383.8293]], device='cuda:0')\n",
      "Pred: tensor([[ 45.2693, 260.2195, 254.8114, 421.9899]], device='cuda:0')\n",
      "GT: tensor([[ 51.5840, 295.0827,  83.2000, 317.2693]], device='cuda:0')\n",
      "Pred: tensor([[230.8525, 296.6154, 294.9819, 360.5081]], device='cuda:0')\n",
      "GT: tensor([[ 51.5840, 295.0827,  83.2000, 317.2693]], device='cuda:0')\n",
      "Pred: tensor([[ 45.2693, 260.2195, 254.8114, 421.9899]], device='cuda:0')\n",
      "GT: tensor([[  0.0000, 285.0987, 278.7200, 414.8907]], device='cuda:0')\n"
     ]
    },
    {
     "name": "stderr",
     "output_type": "stream",
     "text": [
      "[2019-05-31 10:47:18,351 <ipython-input-2-7667fb18f09c>] Batch [957/2077] mAP: 0.23438\n",
      "[2019-05-31 10:47:18,386 <ipython-input-2-7667fb18f09c>] Batch [958/2077] mAP: 0.23429\n",
      "[2019-05-31 10:47:18,483 <ipython-input-2-7667fb18f09c>] Batch [959/2077] mAP: 0.23539\n",
      "[2019-05-31 10:47:18,524 <ipython-input-2-7667fb18f09c>] Batch [960/2077] mAP: 0.23568\n"
     ]
    },
    {
     "name": "stdout",
     "output_type": "stream",
     "text": [
      "Pred: tensor([[ 92.6096, 131.7270, 244.9569, 401.8977]], device='cuda:0')\n",
      "GT: tensor([[206.3360, 101.5040, 339.4560, 415.1680]], device='cuda:0')\n",
      "Pred: tensor([[200.2292,  77.3321, 334.6723, 414.5903]], device='cuda:0')\n",
      "GT: tensor([[206.3360, 101.5040, 339.4560, 415.1680]], device='cuda:0')\n",
      "Pred: tensor([[ 92.6096, 131.7270, 244.9569, 401.8977]], device='cuda:0')\n",
      "GT: tensor([[102.0587, 138.1120, 230.7413, 402.6880]], device='cuda:0')\n",
      "Pred: tensor([[ 70.8678, 217.9680, 156.7342, 328.8147]], device='cuda:0')\n",
      "GT: tensor([[ 73.2160, 221.3578, 149.7600, 377.8349]], device='cuda:0')\n",
      "Pred: tensor([[ 70.8678, 217.9680, 156.7342, 328.8147]], device='cuda:0')\n",
      "GT: tensor([[158.9120, 216.2691, 242.9440, 357.4801]], device='cuda:0')\n",
      "Pred: tensor([[150.3917, 210.0819, 258.1737, 337.3439]], device='cuda:0')\n",
      "GT: tensor([[158.9120, 216.2691, 242.9440, 357.4801]], device='cuda:0')\n",
      "Pred: tensor([[ 74.3387, 101.3810, 143.7154, 322.9464]], device='cuda:0')\n",
      "GT: tensor([[163.0720, 111.9511, 242.9440, 302.7768]], device='cuda:0')\n",
      "Pred: tensor([[161.8270,  95.8029, 245.8487, 316.8330]], device='cuda:0')\n",
      "GT: tensor([[163.0720, 111.9511, 242.9440, 302.7768]], device='cuda:0')\n",
      "Pred: tensor([[ 74.3387, 101.3810, 143.7154, 322.9464]], device='cuda:0')\n",
      "GT: tensor([[ 70.7200, 119.5841, 141.4400, 335.8532]], device='cuda:0')\n",
      "Pred: tensor([[ 74.3387, 101.3810, 143.7154, 322.9464]], device='cuda:0')\n",
      "GT: tensor([[ 80.7040,  96.6850, 121.4720, 166.6544]], device='cuda:0')\n",
      "Pred: tensor([[161.8270,  95.8029, 245.8487, 316.8330]], device='cuda:0')\n",
      "GT: tensor([[ 80.7040,  96.6850, 121.4720, 166.6544]], device='cuda:0')\n",
      "Pred: tensor([[134.3732,  50.4086, 294.3781, 351.8793]], device='cuda:0')\n",
      "GT: tensor([[ 80.7040,  96.6850, 121.4720, 166.6544]], device='cuda:0')\n",
      "Pred: tensor([[ 45.1130,  40.6222, 376.9649, 295.7734]], device='cuda:0')\n",
      "GT: tensor([[ 46.5920,  59.9640, 364.4160, 272.3363]], device='cuda:0')\n"
     ]
    },
    {
     "name": "stderr",
     "output_type": "stream",
     "text": [
      "[2019-05-31 10:47:18,561 <ipython-input-2-7667fb18f09c>] Batch [961/2077] mAP: 0.23541\n",
      "[2019-05-31 10:47:18,594 <ipython-input-2-7667fb18f09c>] Batch [962/2077] mAP: 0.23532\n",
      "[2019-05-31 10:47:18,630 <ipython-input-2-7667fb18f09c>] Batch [963/2077] mAP: 0.23514\n",
      "[2019-05-31 10:47:18,692 <ipython-input-2-7667fb18f09c>] Batch [964/2077] mAP: 0.23504\n",
      "[2019-05-31 10:47:18,764 <ipython-input-2-7667fb18f09c>] Batch [965/2077] mAP: 0.23554\n",
      "[2019-05-31 10:47:18,802 <ipython-input-2-7667fb18f09c>] Batch [966/2077] mAP: 0.23536\n",
      "[2019-05-31 10:47:18,838 <ipython-input-2-7667fb18f09c>] Batch [967/2077] mAP: 0.23473\n"
     ]
    },
    {
     "name": "stdout",
     "output_type": "stream",
     "text": [
      "Pred: tensor([[-19.2785, 223.7570, 358.5443, 334.5859]], device='cuda:0')\n",
      "GT: tensor([[ 51.5840, 178.1114, 277.0560, 355.0029]], device='cuda:0')\n",
      "Pred: tensor([[104.2274, 192.1960, 230.2430, 369.7687]], device='cuda:0')\n",
      "GT: tensor([[ 51.5840, 178.1114, 277.0560, 355.0029]], device='cuda:0')\n",
      "Pred: tensor([[ 80.6467,  85.3193, 217.6486, 467.5505]], device='cuda:0')\n",
      "GT: tensor([[ 84.2209, 145.6000, 250.1104, 415.1680]], device='cuda:0')\n",
      "Pred: tensor([[ 80.6467,  85.3193, 217.6486, 467.5505]], device='cuda:0')\n",
      "GT: tensor([[153.1288, 227.9680, 316.4662, 415.1680]], device='cuda:0')\n",
      "Pred: tensor([[142.7675, 213.4214, 328.0106, 406.9146]], device='cuda:0')\n",
      "GT: tensor([[153.1288, 227.9680, 316.4662, 415.1680]], device='cuda:0')\n"
     ]
    },
    {
     "name": "stderr",
     "output_type": "stream",
     "text": [
      "[2019-05-31 10:47:18,899 <ipython-input-2-7667fb18f09c>] Batch [968/2077] mAP: 0.23455\n",
      "[2019-05-31 10:47:18,957 <ipython-input-2-7667fb18f09c>] Batch [969/2077] mAP: 0.23484\n"
     ]
    },
    {
     "name": "stdout",
     "output_type": "stream",
     "text": [
      "Pred: tensor([[117.9397, 224.2545, 301.1307, 376.6225]], device='cuda:0')\n",
      "GT: tensor([[  0.8320, 236.2880,  61.5680, 374.9547]], device='cuda:0')\n",
      "Pred: tensor([[-10.7940,  95.9740, 424.2346, 310.4599]], device='cuda:0')\n",
      "GT: tensor([[  0.0000, 104.8739, 402.6880, 279.6639]], device='cuda:0')\n",
      "Pred: tensor([[103.2866, 160.6804, 189.3262, 238.8812]], device='cuda:0')\n",
      "GT: tensor([[218.8160, 168.6187, 247.9360, 220.7573]], device='cuda:0')\n",
      "Pred: tensor([[212.8307, 161.2720, 256.8987, 239.2362]], device='cuda:0')\n",
      "GT: tensor([[218.8160, 168.6187, 247.9360, 220.7573]], device='cuda:0')\n",
      "Pred: tensor([[123.9258, 159.6792, 168.2591, 214.3817]], device='cuda:0')\n",
      "GT: tensor([[218.8160, 168.6187, 247.9360, 220.7573]], device='cuda:0')\n",
      "Pred: tensor([[ 99.7345, 124.4076, 264.3409, 275.7212]], device='cuda:0')\n",
      "GT: tensor([[218.8160, 168.6187, 247.9360, 220.7573]], device='cuda:0')\n",
      "Pred: tensor([[103.2866, 160.6804, 189.3262, 238.8812]], device='cuda:0')\n",
      "GT: tensor([[171.3920, 190.8053, 218.8160, 224.0853]], device='cuda:0')\n",
      "Pred: tensor([[212.8307, 161.2720, 256.8987, 239.2362]], device='cuda:0')\n",
      "GT: tensor([[171.3920, 190.8053, 218.8160, 224.0853]], device='cuda:0')\n",
      "Pred: tensor([[123.9258, 159.6792, 168.2591, 214.3817]], device='cuda:0')\n",
      "GT: tensor([[171.3920, 190.8053, 218.8160, 224.0853]], device='cuda:0')\n",
      "Pred: tensor([[ 99.7345, 124.4076, 264.3409, 275.7212]], device='cuda:0')\n",
      "GT: tensor([[171.3920, 190.8053, 218.8160, 224.0853]], device='cuda:0')\n",
      "Pred: tensor([[103.2866, 160.6804, 189.3262, 238.8812]], device='cuda:0')\n",
      "GT: tensor([[152.2560, 163.0720, 179.7120, 210.7733]], device='cuda:0')\n",
      "Pred: tensor([[212.8307, 161.2720, 256.8987, 239.2362]], device='cuda:0')\n",
      "GT: tensor([[152.2560, 163.0720, 179.7120, 210.7733]], device='cuda:0')\n",
      "Pred: tensor([[123.9258, 159.6792, 168.2591, 214.3817]], device='cuda:0')\n",
      "GT: tensor([[152.2560, 163.0720, 179.7120, 210.7733]], device='cuda:0')\n",
      "Pred: tensor([[ 99.7345, 124.4076, 264.3409, 275.7212]], device='cuda:0')\n",
      "GT: tensor([[152.2560, 163.0720, 179.7120, 210.7733]], device='cuda:0')\n",
      "Pred: tensor([[103.2866, 160.6804, 189.3262, 238.8812]], device='cuda:0')\n",
      "GT: tensor([[ 69.0560, 215.2107,  87.3600, 251.8187]], device='cuda:0')\n",
      "Pred: tensor([[212.8307, 161.2720, 256.8987, 239.2362]], device='cuda:0')\n",
      "GT: tensor([[ 69.0560, 215.2107,  87.3600, 251.8187]], device='cuda:0')\n",
      "Pred: tensor([[123.9258, 159.6792, 168.2591, 214.3817]], device='cuda:0')\n",
      "GT: tensor([[ 69.0560, 215.2107,  87.3600, 251.8187]], device='cuda:0')\n",
      "Pred: tensor([[ 99.7345, 124.4076, 264.3409, 275.7212]], device='cuda:0')\n",
      "GT: tensor([[ 69.0560, 215.2107,  87.3600, 251.8187]], device='cuda:0')\n",
      "Pred: tensor([[103.2866, 160.6804, 189.3262, 238.8812]], device='cuda:0')\n",
      "GT: tensor([[106.4960, 157.5253, 132.2880, 215.2107]], device='cuda:0')\n",
      "Pred: tensor([[212.8307, 161.2720, 256.8987, 239.2362]], device='cuda:0')\n",
      "GT: tensor([[106.4960, 157.5253, 132.2880, 215.2107]], device='cuda:0')\n",
      "Pred: tensor([[123.9258, 159.6792, 168.2591, 214.3817]], device='cuda:0')\n",
      "GT: tensor([[106.4960, 157.5253, 132.2880, 215.2107]], device='cuda:0')\n",
      "Pred: tensor([[ 99.7345, 124.4076, 264.3409, 275.7212]], device='cuda:0')\n",
      "GT: tensor([[106.4960, 157.5253, 132.2880, 215.2107]], device='cuda:0')\n",
      "Pred: tensor([[103.2866, 160.6804, 189.3262, 238.8812]], device='cuda:0')\n",
      "GT: tensor([[125.6320, 171.9467, 149.7600, 211.8827]], device='cuda:0')\n",
      "Pred: tensor([[212.8307, 161.2720, 256.8987, 239.2362]], device='cuda:0')\n",
      "GT: tensor([[125.6320, 171.9467, 149.7600, 211.8827]], device='cuda:0')\n"
     ]
    },
    {
     "name": "stderr",
     "output_type": "stream",
     "text": [
      "[2019-05-31 10:47:19,103 <ipython-input-2-7667fb18f09c>] Batch [970/2077] mAP: 0.23430\n",
      "[2019-05-31 10:47:19,142 <ipython-input-2-7667fb18f09c>] Batch [971/2077] mAP: 0.23460\n",
      "[2019-05-31 10:47:19,176 <ipython-input-2-7667fb18f09c>] Batch [972/2077] mAP: 0.23489\n"
     ]
    },
    {
     "name": "stdout",
     "output_type": "stream",
     "text": [
      "Pred: tensor([[123.9258, 159.6792, 168.2591, 214.3817]], device='cuda:0')\n",
      "GT: tensor([[125.6320, 171.9467, 149.7600, 211.8827]], device='cuda:0')\n",
      "Pred: tensor([[ 99.7345, 124.4076, 264.3409, 275.7212]], device='cuda:0')\n",
      "GT: tensor([[125.6320, 171.9467, 149.7600, 211.8827]], device='cuda:0')\n",
      "Pred: tensor([[216.5856,  11.8697, 321.6725, 335.0796]], device='cuda:0')\n",
      "GT: tensor([[119.8080,  30.8148, 371.9040, 303.4074]], device='cuda:0')\n",
      "Pred: tensor([[ 97.0407,  20.3694, 437.6570, 333.8115]], device='cuda:0')\n",
      "GT: tensor([[119.8080,  30.8148, 371.9040, 303.4074]], device='cuda:0')\n",
      "Pred: tensor([[ 84.7616,   2.5589, 396.2628, 356.7983]], device='cuda:0')\n",
      "GT: tensor([[ 70.7200,   0.0000, 415.1680, 414.8907]], device='cuda:0')\n",
      "Pred: tensor([[358.3214, 142.7435, 384.9545, 207.2969]], device='cuda:0')\n",
      "GT: tensor([[343.6160, 158.6347, 362.7520, 191.9147]], device='cuda:0')\n",
      "Pred: tensor([[ 37.0777, 116.2446, 243.3990, 382.8878]], device='cuda:0')\n",
      "GT: tensor([[343.6160, 158.6347, 362.7520, 191.9147]], device='cuda:0')\n",
      "Pred: tensor([[165.0392,  82.0391, 302.0872, 379.9617]], device='cuda:0')\n",
      "GT: tensor([[343.6160, 158.6347, 362.7520, 191.9147]], device='cuda:0')\n",
      "Pred: tensor([[299.2049,  -7.6843, 432.8777,  55.3343]], device='cuda:0')\n",
      "GT: tensor([[343.6160, 158.6347, 362.7520, 191.9147]], device='cuda:0')\n",
      "Pred: tensor([[350.0545, 161.3029, 369.8248, 202.9406]], device='cuda:0')\n",
      "GT: tensor([[343.6160, 158.6347, 362.7520, 191.9147]], device='cuda:0')\n",
      "Pred: tensor([[358.3214, 142.7435, 384.9545, 207.2969]], device='cuda:0')\n",
      "GT: tensor([[363.5840, 147.5413, 391.8720, 196.3520]], device='cuda:0')\n",
      "Pred: tensor([[358.3214, 142.7435, 384.9545, 207.2969]], device='cuda:0')\n",
      "GT: tensor([[340.2880, 297.3013, 359.4240, 369.4080]], device='cuda:0')\n",
      "Pred: tensor([[ 37.0777, 116.2446, 243.3990, 382.8878]], device='cuda:0')\n",
      "GT: tensor([[340.2880, 297.3013, 359.4240, 369.4080]], device='cuda:0')\n",
      "Pred: tensor([[165.0392,  82.0391, 302.0872, 379.9617]], device='cuda:0')\n",
      "GT: tensor([[340.2880, 297.3013, 359.4240, 369.4080]], device='cuda:0')\n",
      "Pred: tensor([[299.2049,  -7.6843, 432.8777,  55.3343]], device='cuda:0')\n",
      "GT: tensor([[340.2880, 297.3013, 359.4240, 369.4080]], device='cuda:0')\n",
      "Pred: tensor([[350.0545, 161.3029, 369.8248, 202.9406]], device='cuda:0')\n",
      "GT: tensor([[340.2880, 297.3013, 359.4240, 369.4080]], device='cuda:0')\n",
      "Pred: tensor([[358.3214, 142.7435, 384.9545, 207.2969]], device='cuda:0')\n",
      "GT: tensor([[359.4240, 306.1760, 376.0640, 378.2827]], device='cuda:0')\n",
      "Pred: tensor([[ 37.0777, 116.2446, 243.3990, 382.8878]], device='cuda:0')\n",
      "GT: tensor([[359.4240, 306.1760, 376.0640, 378.2827]], device='cuda:0')\n",
      "Pred: tensor([[165.0392,  82.0391, 302.0872, 379.9617]], device='cuda:0')\n",
      "GT: tensor([[359.4240, 306.1760, 376.0640, 378.2827]], device='cuda:0')\n",
      "Pred: tensor([[299.2049,  -7.6843, 432.8777,  55.3343]], device='cuda:0')\n",
      "GT: tensor([[359.4240, 306.1760, 376.0640, 378.2827]], device='cuda:0')\n",
      "Pred: tensor([[350.0545, 161.3029, 369.8248, 202.9406]], device='cuda:0')\n",
      "GT: tensor([[359.4240, 306.1760, 376.0640, 378.2827]], device='cuda:0')\n",
      "Pred: tensor([[358.3214, 142.7435, 384.9545, 207.2969]], device='cuda:0')\n",
      "GT: tensor([[ 51.5840,  78.7627, 198.0160, 414.8907]], device='cuda:0')\n",
      "Pred: tensor([[ 37.0777, 116.2446, 243.3990, 382.8878]], device='cuda:0')\n",
      "GT: tensor([[ 51.5840,  78.7627, 198.0160, 414.8907]], device='cuda:0')\n",
      "Pred: tensor([[358.3214, 142.7435, 384.9545, 207.2969]], device='cuda:0')\n",
      "GT: tensor([[167.2320,  59.9040, 305.3440, 414.8907]], device='cuda:0')\n",
      "Pred: tensor([[ 37.0777, 116.2446, 243.3990, 382.8878]], device='cuda:0')\n",
      "GT: tensor([[167.2320,  59.9040, 305.3440, 414.8907]], device='cuda:0')\n",
      "Pred: tensor([[165.0392,  82.0391, 302.0872, 379.9617]], device='cuda:0')\n",
      "GT: "
     ]
    },
    {
     "name": "stderr",
     "output_type": "stream",
     "text": [
      "[2019-05-31 10:47:19,299 <ipython-input-2-7667fb18f09c>] Batch [973/2077] mAP: 0.23550\n",
      "[2019-05-31 10:47:19,333 <ipython-input-2-7667fb18f09c>] Batch [974/2077] mAP: 0.23541\n",
      "[2019-05-31 10:47:19,381 <ipython-input-2-7667fb18f09c>] Batch [975/2077] mAP: 0.23552\n",
      "[2019-05-31 10:47:19,419 <ipython-input-2-7667fb18f09c>] Batch [976/2077] mAP: 0.23581\n",
      "[2019-05-31 10:47:19,464 <ipython-input-2-7667fb18f09c>] Batch [977/2077] mAP: 0.23563\n"
     ]
    },
    {
     "name": "stdout",
     "output_type": "stream",
     "text": [
      "tensor([[167.2320,  59.9040, 305.3440, 414.8907]], device='cuda:0')\n",
      "Pred: tensor([[271.5978, 146.4078, 393.6307, 265.3741]], device='cuda:0')\n",
      "GT: tensor([[258.7520,  95.4027, 390.2080, 245.1627]], device='cuda:0')\n",
      "Pred: tensor([[271.5978, 146.4078, 393.6307, 265.3741]], device='cuda:0')\n",
      "GT: tensor([[233.7920, 138.6667, 317.8240, 214.1013]], device='cuda:0')\n",
      "Pred: tensor([[271.5978, 146.4078, 393.6307, 265.3741]], device='cuda:0')\n",
      "GT: tensor([[ 42.4320, 212.9920, 189.6960, 302.8480]], device='cuda:0')\n",
      "Pred: tensor([[ 74.9663,  99.3521, 392.2446, 369.3507]], device='cuda:0')\n",
      "GT: tensor([[101.5040,  80.7164, 347.7760, 379.9881]], device='cuda:0')\n"
     ]
    },
    {
     "name": "stderr",
     "output_type": "stream",
     "text": [
      "[2019-05-31 10:47:19,507 <ipython-input-2-7667fb18f09c>] Batch [978/2077] mAP: 0.23483\n",
      "[2019-05-31 10:47:19,591 <ipython-input-2-7667fb18f09c>] Batch [979/2077] mAP: 0.23411\n",
      "[2019-05-31 10:47:19,642 <ipython-input-2-7667fb18f09c>] Batch [980/2077] mAP: 0.23440\n",
      "[2019-05-31 10:47:19,679 <ipython-input-2-7667fb18f09c>] Batch [981/2077] mAP: 0.23432\n",
      "[2019-05-31 10:47:19,712 <ipython-input-2-7667fb18f09c>] Batch [982/2077] mAP: 0.23423\n"
     ]
    },
    {
     "name": "stdout",
     "output_type": "stream",
     "text": [
      "Pred: tensor([[250.4597, 227.7698, 298.3267, 441.1566]], device='cuda:0')\n",
      "GT: tensor([[ 34.1120, 275.1147,  81.5360, 414.8907]], device='cuda:0')\n",
      "Pred: tensor([[250.4597, 227.7698, 298.3267, 441.1566]], device='cuda:0')\n",
      "GT: tensor([[259.5840, 267.3493, 293.6960, 409.3440]], device='cuda:0')\n",
      "Pred: tensor([[250.4597, 227.7698, 298.3267, 441.1566]], device='cuda:0')\n",
      "GT: tensor([[287.8720, 272.8960, 309.5040, 393.8133]], device='cuda:0')\n",
      "Pred: tensor([[250.4597, 227.7698, 298.3267, 441.1566]], device='cuda:0')\n",
      "GT: tensor([[101.5040, 259.5840, 143.1040, 414.8907]], device='cuda:0')\n",
      "Pred: tensor([[250.4597, 227.7698, 298.3267, 441.1566]], device='cuda:0')\n",
      "GT: tensor([[100.6720, 271.7867, 121.4720, 362.7520]], device='cuda:0')\n",
      "Pred: tensor([[250.4597, 227.7698, 298.3267, 441.1566]], device='cuda:0')\n",
      "GT: tensor([[233.7920, 275.1147, 254.5920, 357.2053]], device='cuda:0')\n",
      "Pred: tensor([[250.4597, 227.7698, 298.3267, 441.1566]], device='cuda:0')\n",
      "GT: tensor([[304.5120, 282.8800, 318.6560, 361.6427]], device='cuda:0')\n",
      "Pred: tensor([[ 21.6207,  76.7151, 342.4959, 348.0817]], device='cuda:0')\n",
      "GT: tensor([[ 53.2480,  68.0727, 313.6640, 349.0078]], device='cuda:0')\n"
     ]
    },
    {
     "name": "stderr",
     "output_type": "stream",
     "text": [
      "[2019-05-31 10:47:19,746 <ipython-input-2-7667fb18f09c>] Batch [983/2077] mAP: 0.23414\n",
      "[2019-05-31 10:47:19,780 <ipython-input-2-7667fb18f09c>] Batch [984/2077] mAP: 0.23370\n",
      "[2019-05-31 10:47:19,820 <ipython-input-2-7667fb18f09c>] Batch [985/2077] mAP: 0.23381\n",
      "[2019-05-31 10:47:19,863 <ipython-input-2-7667fb18f09c>] Batch [986/2077] mAP: 0.23401\n",
      "[2019-05-31 10:47:19,917 <ipython-input-2-7667fb18f09c>] Batch [987/2077] mAP: 0.23441\n",
      "[2019-05-31 10:47:19,970 <ipython-input-2-7667fb18f09c>] Batch [988/2077] mAP: 0.23371\n"
     ]
    },
    {
     "name": "stdout",
     "output_type": "stream",
     "text": [
      "Pred: tensor([[ 88.8690,  83.2328, 252.9800, 322.6544]], device='cuda:0')\n",
      "GT: tensor([[ 30.8542,  98.1760, 293.6471, 321.1520]], device='cuda:0')\n",
      "Pred: tensor([[ -2.1568,  23.5912, 425.1629, 386.4029]], device='cuda:0')\n",
      "GT: tensor([[ 13.3120,  25.5147, 400.1920, 407.1253]], device='cuda:0')\n",
      "Pred: tensor([[ -2.1568,  23.5912, 425.1629, 386.4029]], device='cuda:0')\n",
      "GT: tensor([[  0.0000,  33.2800, 123.9680, 154.1973]], device='cuda:0')\n",
      "Pred: tensor([[254.1251, 200.4712, 341.6584, 339.1429]], device='cuda:0')\n",
      "GT: tensor([[242.9440, 188.6366, 332.8000, 323.5555]], device='cuda:0')\n",
      "Pred: tensor([[254.1251, 200.4712, 341.6584, 339.1429]], device='cuda:0')\n",
      "GT: tensor([[  0.0000, 186.1381,  44.9280, 287.3273]], device='cuda:0')\n",
      "Pred: tensor([[247.2466,  72.2514, 314.3663, 330.1201]], device='cuda:0')\n",
      "GT: tensor([[253.7600, 138.6667, 318.6560, 293.5736]], device='cuda:0')\n",
      "Pred: tensor([[247.2466,  72.2514, 314.3663, 330.1201]], device='cuda:0')\n",
      "GT: tensor([[  0.0000, 112.4324,  32.4480, 267.3393]], device='cuda:0')\n",
      "Pred: tensor([[ 40.0713, 101.4803, 370.2527, 320.2171]], device='cuda:0')\n",
      "GT: "
     ]
    },
    {
     "name": "stderr",
     "output_type": "stream",
     "text": [
      "[2019-05-31 10:47:20,017 <ipython-input-2-7667fb18f09c>] Batch [989/2077] mAP: 0.23399\n",
      "[2019-05-31 10:47:20,058 <ipython-input-2-7667fb18f09c>] Batch [990/2077] mAP: 0.23391\n",
      "[2019-05-31 10:47:20,100 <ipython-input-2-7667fb18f09c>] Batch [991/2077] mAP: 0.23364\n",
      "[2019-05-31 10:47:20,136 <ipython-input-2-7667fb18f09c>] Batch [992/2077] mAP: 0.23356\n",
      "[2019-05-31 10:47:20,194 <ipython-input-2-7667fb18f09c>] Batch [993/2077] mAP: 0.23404\n"
     ]
    },
    {
     "name": "stdout",
     "output_type": "stream",
     "text": [
      "tensor([[ 34.1120, 107.6053, 371.0720, 319.4880]], device='cuda:0')\n",
      "Pred: tensor([[  6.7334, 164.0708, 141.4754, 330.6667]], device='cuda:0')\n",
      "GT: tensor([[ 18.3040, 207.3716, 117.3120, 281.5226]], device='cuda:0')\n",
      "Pred: tensor([[175.6270,  58.7847, 317.9041, 374.2956]], device='cuda:0')\n",
      "GT: tensor([[226.4889,  62.0000, 290.0444, 342.0000]], device='cuda:0')\n",
      "Pred: tensor([[ 82.8779, 130.1600, 129.4663, 150.6005]], device='cuda:0')\n",
      "GT: tensor([[ 19.6444, 128.0000, 385.9556, 322.0000]], device='cuda:0')\n",
      "Pred: tensor([[  9.8695, 119.8699,  26.8072, 158.2193]], device='cuda:0')\n",
      "GT: tensor([[ 19.6444, 128.0000, 385.9556, 322.0000]], device='cuda:0')\n",
      "Pred: tensor([[-17.3866,  97.3009, 436.3617, 325.2265]], device='cuda:0')\n",
      "GT: tensor([[ 19.6444, 128.0000, 385.9556, 322.0000]], device='cuda:0')\n",
      "Pred: tensor([[ 82.8779, 130.1600, 129.4663, 150.6005]], device='cuda:0')\n",
      "GT: tensor([[ 68.1778, 122.0000, 129.4222, 152.0000]], device='cuda:0')\n"
     ]
    },
    {
     "name": "stderr",
     "output_type": "stream",
     "text": [
      "[2019-05-31 10:47:20,233 <ipython-input-2-7667fb18f09c>] Batch [994/2077] mAP: 0.23433\n",
      "[2019-05-31 10:47:20,285 <ipython-input-2-7667fb18f09c>] Batch [995/2077] mAP: 0.23389\n",
      "[2019-05-31 10:47:20,337 <ipython-input-2-7667fb18f09c>] Batch [996/2077] mAP: 0.23380\n",
      "[2019-05-31 10:47:20,388 <ipython-input-2-7667fb18f09c>] Batch [997/2077] mAP: 0.23372\n"
     ]
    },
    {
     "name": "stdout",
     "output_type": "stream",
     "text": [
      "Pred: tensor([[ 16.0119,  45.1602,  94.9196, 381.4843]], device='cuda:0')\n",
      "GT: tensor([[ 19.1360,  59.9040, 108.1600, 390.4853]], device='cuda:0')\n",
      "Pred: tensor([[350.1520, 207.9435, 384.9129, 284.3904]], device='cuda:0')\n",
      "GT: tensor([[231.2960, 182.1538, 271.2320, 280.6154]], device='cuda:0')\n",
      "Pred: tensor([[350.1520, 207.9435, 384.9129, 284.3904]], device='cuda:0')\n",
      "GT: tensor([[381.0560, 203.0769, 415.1680, 302.7692]], device='cuda:0')\n",
      "Pred: tensor([[350.1520, 207.9435, 384.9129, 284.3904]], device='cuda:0')\n",
      "GT: tensor([[317.8240, 210.4615, 366.9120, 301.5385]], device='cuda:0')\n",
      "Pred: tensor([[350.1520, 207.9435, 384.9129, 284.3904]], device='cuda:0')\n",
      "GT: tensor([[332.8000, 205.5385, 380.2240, 304.0000]], device='cuda:0')\n",
      "Pred: "
     ]
    },
    {
     "name": "stderr",
     "output_type": "stream",
     "text": [
      "[2019-05-31 10:47:20,435 <ipython-input-2-7667fb18f09c>] Batch [998/2077] mAP: 0.23400\n",
      "[2019-05-31 10:47:20,494 <ipython-input-2-7667fb18f09c>] Batch [999/2077] mAP: 0.23449\n",
      "[2019-05-31 10:47:20,534 <ipython-input-2-7667fb18f09c>] Batch [1000/2077] mAP: 0.23422\n",
      "[2019-05-31 10:47:20,597 <ipython-input-2-7667fb18f09c>] Batch [1001/2077] mAP: 0.23433\n"
     ]
    },
    {
     "name": "stdout",
     "output_type": "stream",
     "text": [
      "tensor([[132.6943, 127.0816, 300.0488, 335.2509]], device='cuda:0')\n",
      "GT: tensor([[104.0000, 158.7052, 331.9680, 315.0058]], device='cuda:0')\n",
      "Pred: tensor([[ 53.1723, 156.7277, 160.0189, 399.9009]], device='cuda:0')\n",
      "GT: tensor([[163.0720, 144.2133, 372.7360, 414.8907]], device='cuda:0')\n",
      "Pred: tensor([[128.2722, 133.0621, 363.9659, 421.8835]], device='cuda:0')\n",
      "GT: tensor([[163.0720, 144.2133, 372.7360, 414.8907]], device='cuda:0')\n",
      "Pred: tensor([[ 53.1723, 156.7277, 160.0189, 399.9009]], device='cuda:0')\n",
      "GT: tensor([[ 15.8080, 153.0880, 178.8800, 414.8907]], device='cuda:0')\n",
      "Pred: tensor([[ 53.1723, 156.7277, 160.0189, 399.9009]], device='cuda:0')\n",
      "GT: tensor([[ 29.1200,   6.6560, 304.5120, 287.3173]], device='cuda:0')\n",
      "Pred: tensor([[128.2722, 133.0621, 363.9659, 421.8835]], device='cuda:0')\n",
      "GT: tensor([[ 29.1200,   6.6560, 304.5120, 287.3173]], device='cuda:0')\n",
      "Pred: tensor([[ -1.3473, 172.0775, 154.3668, 430.8662]], device='cuda:0')\n",
      "GT: tensor([[  0.0000, 169.7280, 176.3840, 415.1680]], device='cuda:0')\n",
      "Pred: tensor([[ -1.3473, 172.0775, 154.3668, 430.8662]], device='cuda:0')\n",
      "GT: tensor([[217.9840, 167.2320, 415.1680, 415.1680]], device='cuda:0')\n"
     ]
    },
    {
     "name": "stderr",
     "output_type": "stream",
     "text": [
      "[2019-05-31 10:47:20,643 <ipython-input-2-7667fb18f09c>] Batch [1002/2077] mAP: 0.23462\n",
      "[2019-05-31 10:47:20,682 <ipython-input-2-7667fb18f09c>] Batch [1003/2077] mAP: 0.23453\n",
      "[2019-05-31 10:47:20,726 <ipython-input-2-7667fb18f09c>] Batch [1004/2077] mAP: 0.23375\n",
      "[2019-05-31 10:47:20,767 <ipython-input-2-7667fb18f09c>] Batch [1005/2077] mAP: 0.23403\n"
     ]
    },
    {
     "name": "stdout",
     "output_type": "stream",
     "text": [
      "Pred: tensor([[ 37.4121,  57.0284, 381.4659, 298.0466]], device='cuda:0')\n",
      "GT: tensor([[  2.4960,  56.3333, 413.5040, 333.6667]], device='cuda:0')\n",
      "Pred: tensor([[132.2877, 194.1965, 268.1628, 364.8733]], device='cuda:0')\n",
      "GT: tensor([[  4.9920, 179.0852, 405.1840, 389.8834]], device='cuda:0')\n",
      "Pred: tensor([[316.4702, 158.9608, 414.7597, 246.9100]], device='cuda:0')\n",
      "GT: tensor([[309.5040, 105.3867, 415.1680, 280.6613]], device='cuda:0')\n",
      "Pred: tensor([[149.2054, 114.6708, 277.6303, 371.6882]], device='cuda:0')\n",
      "GT: tensor([[144.7373,  99.0080, 271.2627, 393.5360]], device='cuda:0')\n",
      "Pred: tensor([[163.1770, 157.1310, 259.2779, 446.8498]], device='cuda:0')\n",
      "GT: tensor([[273.7280, 178.6027, 398.5280, 414.8907]], device='cuda:0')\n",
      "Pred: tensor([[267.2366, 180.7191, 398.6508, 419.0719]], device='cuda:0')\n",
      "GT: tensor([[273.7280, 178.6027, 398.5280, 414.8907]], device='cuda:0')\n",
      "Pred: tensor([[163.1770, 157.1310, 259.2779, 446.8498]], device='cuda:0')\n",
      "GT: tensor([[276.2240, 189.6960, 329.4720, 414.8907]], device='cuda:0')\n",
      "Pred: tensor([[267.2366, 180.7191, 398.6508, 419.0719]], device='cuda:0')\n",
      "GT: "
     ]
    },
    {
     "name": "stderr",
     "output_type": "stream",
     "text": [
      "[2019-05-31 10:47:20,909 <ipython-input-2-7667fb18f09c>] Batch [1006/2077] mAP: 0.23354\n",
      "[2019-05-31 10:47:20,965 <ipython-input-2-7667fb18f09c>] Batch [1007/2077] mAP: 0.23382\n",
      "[2019-05-31 10:47:21,025 <ipython-input-2-7667fb18f09c>] Batch [1008/2077] mAP: 0.23385\n"
     ]
    },
    {
     "name": "stdout",
     "output_type": "stream",
     "text": [
      "tensor([[276.2240, 189.6960, 329.4720, 414.8907]], device='cuda:0')\n",
      "Pred: tensor([[163.1770, 157.1310, 259.2779, 446.8498]], device='cuda:0')\n",
      "GT: tensor([[206.3360, 187.4773, 254.5920, 414.8907]], device='cuda:0')\n",
      "Pred: tensor([[267.2366, 180.7191, 398.6508, 419.0719]], device='cuda:0')\n",
      "GT: tensor([[206.3360, 187.4773, 254.5920, 414.8907]], device='cuda:0')\n",
      "Pred: tensor([[163.1770, 157.1310, 259.2779, 446.8498]], device='cuda:0')\n",
      "GT: tensor([[168.0640, 196.3520, 213.8240, 414.8907]], device='cuda:0')\n",
      "Pred: tensor([[267.2366, 180.7191, 398.6508, 419.0719]], device='cuda:0')\n",
      "GT: tensor([[168.0640, 196.3520, 213.8240, 414.8907]], device='cuda:0')\n",
      "Pred: tensor([[163.1770, 157.1310, 259.2779, 446.8498]], device='cuda:0')\n",
      "GT: tensor([[239.6160, 206.3360, 269.5680, 350.5493]], device='cuda:0')\n",
      "Pred: tensor([[267.2366, 180.7191, 398.6508, 419.0719]], device='cuda:0')\n",
      "GT: tensor([[239.6160, 206.3360, 269.5680, 350.5493]], device='cuda:0')\n",
      "Pred: tensor([[163.1770, 157.1310, 259.2779, 446.8498]], device='cuda:0')\n",
      "GT: tensor([[265.4080, 200.7893, 290.3680, 315.0507]], device='cuda:0')\n",
      "Pred: tensor([[267.2366, 180.7191, 398.6508, 419.0719]], device='cuda:0')\n",
      "GT: tensor([[265.4080, 200.7893, 290.3680, 315.0507]], device='cuda:0')\n",
      "Pred: tensor([[163.1770, 157.1310, 259.2779, 446.8498]], device='cuda:0')\n",
      "GT: tensor([[133.9520, 275.1147, 158.0800, 358.3147]], device='cuda:0')\n",
      "Pred: tensor([[267.2366, 180.7191, 398.6508, 419.0719]], device='cuda:0')\n",
      "GT: tensor([[133.9520, 275.1147, 158.0800, 358.3147]], device='cuda:0')\n",
      "Pred: tensor([[163.1770, 157.1310, 259.2779, 446.8498]], device='cuda:0')\n",
      "GT: tensor([[148.9280, 285.0987, 186.3680, 342.7840]], device='cuda:0')\n",
      "Pred: tensor([[267.2366, 180.7191, 398.6508, 419.0719]], device='cuda:0')\n",
      "GT: tensor([[148.9280, 285.0987, 186.3680, 342.7840]], device='cuda:0')\n",
      "Pred: tensor([[105.2453,  16.8464, 378.6705, 290.0670]], device='cuda:0')\n",
      "GT: tensor([[111.3880,   7.4880, 368.2623, 257.9200]], device='cuda:0')\n",
      "Pred: tensor([[156.3298, 145.3949, 317.3966, 385.5796]], device='cuda:0')\n",
      "GT: tensor([[125.6320, 109.9339, 324.4800, 414.7508]], device='cuda:0')\n",
      "Pred: tensor([[156.3298, 145.3949, 317.3966, 385.5796]], device='cuda:0')\n",
      "GT: tensor([[ 79.0400, 232.3604, 227.9680, 414.7508]], device='cuda:0')\n"
     ]
    },
    {
     "name": "stderr",
     "output_type": "stream",
     "text": [
      "[2019-05-31 10:47:21,077 <ipython-input-2-7667fb18f09c>] Batch [1009/2077] mAP: 0.23342\n",
      "[2019-05-31 10:47:21,133 <ipython-input-2-7667fb18f09c>] Batch [1010/2077] mAP: 0.23370\n",
      "[2019-05-31 10:47:21,188 <ipython-input-2-7667fb18f09c>] Batch [1011/2077] mAP: 0.23398\n",
      "[2019-05-31 10:47:21,309 <ipython-input-2-7667fb18f09c>] Batch [1012/2077] mAP: 0.23332\n"
     ]
    },
    {
     "name": "stdout",
     "output_type": "stream",
     "text": [
      "Pred: tensor([[ 72.7559, 143.3661, 334.3801, 404.3232]], device='cuda:0')\n",
      "GT: tensor([[ 48.2560, 197.9759, 360.2560, 293.2048]], device='cuda:0')\n",
      "Pred: tensor([[115.8065, 182.7754, 312.9268, 313.2470]], device='cuda:0')\n",
      "GT: tensor([[ 48.2560, 197.9759, 360.2560, 293.2048]], device='cuda:0')\n",
      "Pred: tensor([[209.5701, 123.8531, 277.6037, 365.5789]], device='cuda:0')\n",
      "GT: tensor([[214.6560, 148.6507, 290.3680, 343.8933]], device='cuda:0')\n",
      "Pred: tensor([[ 96.2295, 126.8840, 255.0654, 350.1496]], device='cuda:0')\n",
      "GT: tensor([[217.9840, 136.4480, 346.1120, 313.9413]], device='cuda:0')\n",
      "Pred: tensor([[ 96.2295, 126.8840, 255.0654, 350.1496]], device='cuda:0')\n",
      "GT: tensor([[101.5040, 118.6987, 231.2960, 315.0507]], device='cuda:0')\n",
      "Pred: tensor([[ 96.2295, 126.8840, 255.0654, 350.1496]], device='cuda:0')\n",
      "GT: tensor([[  0.0000, 112.0427, 147.2640, 414.8907]], device='cuda:0')\n",
      "Pred: tensor([[ 96.2295, 126.8840, 255.0654, 350.1496]], device='cuda:0')\n",
      "GT: tensor([[310.3360, 125.3547, 351.9360, 235.1787]], device='cuda:0')\n",
      "Pred: tensor([[ 96.2295, 126.8840, 255.0654, 350.1496]], device='cuda:0')\n",
      "GT: tensor([[367.7440, 155.3067, 390.2080, 218.5387]], device='cuda:0')\n",
      "Pred: tensor([[ 96.2295, 126.8840, 255.0654, 350.1496]], device='cuda:0')\n",
      "GT: tensor([[384.3840, 166.4000, 411.0080, 216.3200]], device='cuda:0')\n",
      "Pred: tensor([[ 96.2295, 126.8840, 255.0654, 350.1496]], device='cuda:0')\n",
      "GT: tensor([[104.0000, 157.5253, 128.9600, 198.5707]], device='cuda:0')\n",
      "Pred: tensor([[ 96.2295, 126.8840, 255.0654, 350.1496]], device='cuda:0')\n",
      "GT: tensor([[  0.0000, 113.1520,  46.5920, 188.5867]], device='cuda:0')\n",
      "Pred: tensor([[ 96.2295, 126.8840, 255.0654, 350.1496]], device='cuda:0')\n",
      "GT: tensor([[181.3760, 163.0720, 207.1680, 195.2427]], device='cuda:0')\n",
      "Pred: tensor([[ 96.2295, 126.8840, 255.0654, 350.1496]], device='cuda:0')\n",
      "GT: tensor([[213.8240, 171.9467, 229.6320, 205.2267]], device='cuda:0')\n"
     ]
    },
    {
     "name": "stderr",
     "output_type": "stream",
     "text": [
      "[2019-05-31 10:47:21,356 <ipython-input-2-7667fb18f09c>] Batch [1013/2077] mAP: 0.23324\n",
      "[2019-05-31 10:47:21,393 <ipython-input-2-7667fb18f09c>] Batch [1014/2077] mAP: 0.23281\n",
      "[2019-05-31 10:47:21,429 <ipython-input-2-7667fb18f09c>] Batch [1015/2077] mAP: 0.23273\n",
      "[2019-05-31 10:47:21,463 <ipython-input-2-7667fb18f09c>] Batch [1016/2077] mAP: 0.23256\n",
      "[2019-05-31 10:47:21,504 <ipython-input-2-7667fb18f09c>] Batch [1017/2077] mAP: 0.23258\n",
      "[2019-05-31 10:47:21,550 <ipython-input-2-7667fb18f09c>] Batch [1018/2077] mAP: 0.23269\n",
      "[2019-05-31 10:47:21,585 <ipython-input-2-7667fb18f09c>] Batch [1019/2077] mAP: 0.23252\n",
      "[2019-05-31 10:47:21,632 <ipython-input-2-7667fb18f09c>] Batch [1020/2077] mAP: 0.23280\n",
      "[2019-05-31 10:47:21,700 <ipython-input-2-7667fb18f09c>] Batch [1021/2077] mAP: 0.23283\n"
     ]
    },
    {
     "name": "stdout",
     "output_type": "stream",
     "text": [
      "Pred: tensor([[ 63.1614, 180.5861, 349.2399, 424.1765]], device='cuda:0')\n",
      "GT: tensor([[108.1600, 201.2107, 271.2320, 414.7656]], device='cuda:0')\n",
      "Pred: tensor([[106.8185,  36.3939, 257.6953, 392.7148]], device='cuda:0')\n",
      "GT: tensor([[ 80.8593,  48.2560, 313.8619, 410.1760]], device='cuda:0')\n",
      "Pred: tensor([[106.8185,  36.3939, 257.6953, 392.7148]], device='cuda:0')\n",
      "GT: tensor([[113.8414, 198.0160, 327.6931, 415.1680]], device='cuda:0')\n",
      "Pred: tensor([[106.8185,  36.3939, 257.6953, 392.7148]], device='cuda:0')\n",
      "GT: tensor([[190.4450, 190.5280, 414.9361, 415.1680]], device='cuda:0')\n",
      "Pred: tensor([[ 58.3915,  28.5172, 292.4043, 452.1036]], device='cuda:0')\n",
      "GT: tensor([[ 76.5440,  98.7307, 269.5680, 414.8907]], device='cuda:0')\n",
      "Pred: tensor([[ 75.5892, 157.8175, 192.8693, 433.1789]], device='cuda:0')\n",
      "GT: tensor([[  0.0000, 183.0400,  21.6320, 222.9760]], device='cuda:0')\n",
      "Pred: tensor([[ 75.5892, 157.8175, 192.8693, 433.1789]], device='cuda:0')\n",
      "GT: tensor([[  0.0000, 191.9147,  34.1120, 244.0533]], device='cuda:0')\n",
      "Pred: tensor([[ 75.5892, 157.8175, 192.8693, 433.1789]], device='cuda:0')\n",
      "GT: tensor([[ 98.1760, 166.4000, 170.5600, 414.8907]], device='cuda:0')\n"
     ]
    },
    {
     "name": "stderr",
     "output_type": "stream",
     "text": [
      "[2019-05-31 10:47:21,770 <ipython-input-2-7667fb18f09c>] Batch [1022/2077] mAP: 0.23310\n",
      "[2019-05-31 10:47:21,852 <ipython-input-2-7667fb18f09c>] Batch [1023/2077] mAP: 0.23321\n",
      "[2019-05-31 10:47:21,894 <ipython-input-2-7667fb18f09c>] Batch [1024/2077] mAP: 0.23313\n",
      "[2019-05-31 10:47:21,941 <ipython-input-2-7667fb18f09c>] Batch [1025/2077] mAP: 0.23341\n"
     ]
    },
    {
     "name": "stdout",
     "output_type": "stream",
     "text": [
      "Pred: tensor([[159.0962,  20.6192, 263.5673, 338.4907]], device='cuda:0')\n",
      "GT: tensor([[130.6240,  34.3893, 267.0720, 295.0827]], device='cuda:0')\n",
      "Pred: tensor([[ 53.6573, 175.2932, 242.1948, 350.3307]], device='cuda:0')\n",
      "GT: tensor([[237.4667, 166.7059, 371.8000, 397.6471]], device='cuda:0')\n",
      "Pred: tensor([[ 53.6573, 175.2932, 242.1948, 350.3307]], device='cuda:0')\n",
      "GT: tensor([[ 29.4667, 183.5294, 242.6667, 371.6471]], device='cuda:0')\n",
      "Pred: tensor([[ 53.6573, 175.2932, 242.1948, 350.3307]], device='cuda:0')\n",
      "GT: tensor([[  3.4667,  10.7059, 162.9333, 201.8824]], device='cuda:0')\n",
      "Pred: tensor([[ 67.1064, 229.6528, 214.6375, 390.0640]], device='cuda:0')\n",
      "GT: tensor([[ 36.2282, 249.6000, 229.8619, 392.7040]], device='cuda:0')\n"
     ]
    },
    {
     "name": "stderr",
     "output_type": "stream",
     "text": [
      "[2019-05-31 10:47:21,980 <ipython-input-2-7667fb18f09c>] Batch [1026/2077] mAP: 0.23324\n",
      "[2019-05-31 10:47:22,026 <ipython-input-2-7667fb18f09c>] Batch [1027/2077] mAP: 0.23307\n",
      "[2019-05-31 10:47:22,074 <ipython-input-2-7667fb18f09c>] Batch [1028/2077] mAP: 0.23290\n",
      "[2019-05-31 10:47:22,122 <ipython-input-2-7667fb18f09c>] Batch [1029/2077] mAP: 0.23309\n",
      "[2019-05-31 10:47:22,166 <ipython-input-2-7667fb18f09c>] Batch [1030/2077] mAP: 0.23337\n",
      "[2019-05-31 10:47:22,211 <ipython-input-2-7667fb18f09c>] Batch [1031/2077] mAP: 0.23364\n"
     ]
    },
    {
     "name": "stdout",
     "output_type": "stream",
     "text": [
      "Pred: tensor([[ 89.3436, 250.8688, 268.2050, 365.7607]], device='cuda:0')\n",
      "GT: tensor([[118.1440, 272.2602, 243.7760, 352.5854]], device='cuda:0')\n",
      "Pred: tensor([[389.7991, 252.3226, 401.0163, 287.5944]], device='cuda:0')\n",
      "GT: tensor([[380.2240, 254.0373, 398.5280, 308.3947]], device='cuda:0')\n",
      "Pred: tensor([[ 59.8732,  82.1077, 290.3487, 397.2343]], device='cuda:0')\n",
      "GT: tensor([[ 57.4080,  56.5760, 292.8640, 413.7813]], device='cuda:0')\n",
      "Pred: tensor([[ 31.5174,  19.8974, 329.4538, 391.3949]], device='cuda:0')\n",
      "GT: tensor([[ 60.7360,  26.6240, 326.9760, 397.1413]], device='cuda:0')\n",
      "Pred: tensor([[115.0426,  47.7639, 253.1366, 320.8860]], device='cuda:0')\n",
      "GT: tensor([[ 80.7040,  21.0476, 268.7360, 284.7619]], device='cuda:0')\n"
     ]
    },
    {
     "name": "stderr",
     "output_type": "stream",
     "text": [
      "[2019-05-31 10:47:22,256 <ipython-input-2-7667fb18f09c>] Batch [1032/2077] mAP: 0.23392\n",
      "[2019-05-31 10:47:22,301 <ipython-input-2-7667fb18f09c>] Batch [1033/2077] mAP: 0.23420\n",
      "[2019-05-31 10:47:22,342 <ipython-input-2-7667fb18f09c>] Batch [1034/2077] mAP: 0.23386\n",
      "[2019-05-31 10:47:22,379 <ipython-input-2-7667fb18f09c>] Batch [1035/2077] mAP: 0.23369\n",
      "[2019-05-31 10:47:22,425 <ipython-input-2-7667fb18f09c>] Batch [1036/2077] mAP: 0.23424\n"
     ]
    },
    {
     "name": "stdout",
     "output_type": "stream",
     "text": [
      "Pred: tensor([[221.1007,  37.4822, 399.9482, 363.9104]], device='cuda:0')\n",
      "GT: tensor([[164.7360,   0.0000, 415.1680, 407.1958]], device='cuda:0')\n",
      "Pred: tensor([[174.4772,  16.8460, 364.4082, 202.7344]], device='cuda:0')\n",
      "GT: tensor([[159.7440,   8.3200, 380.5013, 191.3600]], device='cuda:0')\n",
      "Pred: tensor([[ 56.6940, 177.7578, 300.4369, 368.8625]], device='cuda:0')\n",
      "GT: tensor([[ 88.1920, 188.6366, 306.1760, 374.7748]], device='cuda:0')\n",
      "Pred: tensor([[ 36.9600,  43.7602, 202.5938, 243.0103]], device='cuda:0')\n",
      "GT: tensor([[ 41.6000,  47.4715, 186.3680, 204.8769]], device='cuda:0')\n"
     ]
    },
    {
     "name": "stderr",
     "output_type": "stream",
     "text": [
      "[2019-05-31 10:47:22,493 <ipython-input-2-7667fb18f09c>] Batch [1037/2077] mAP: 0.23401\n",
      "[2019-05-31 10:47:22,550 <ipython-input-2-7667fb18f09c>] Batch [1038/2077] mAP: 0.23393\n",
      "[2019-05-31 10:47:22,593 <ipython-input-2-7667fb18f09c>] Batch [1039/2077] mAP: 0.23385\n",
      "[2019-05-31 10:47:22,637 <ipython-input-2-7667fb18f09c>] Batch [1040/2077] mAP: 0.23439\n"
     ]
    },
    {
     "name": "stdout",
     "output_type": "stream",
     "text": [
      "Pred: tensor([[ 49.6832,  81.3354, 355.6357, 333.3770]], device='cuda:0')\n",
      "GT: tensor([[127.2960,  78.7627, 306.1760, 332.8000]], device='cuda:0')\n",
      "Pred: tensor([[ 49.6832,  81.3354, 355.6357, 333.3770]], device='cuda:0')\n",
      "GT: tensor([[277.0560,  93.1840, 366.0800, 321.7067]], device='cuda:0')\n",
      "Pred: tensor([[ 49.6832,  81.3354, 355.6357, 333.3770]], device='cuda:0')\n",
      "GT: tensor([[ 30.7840, 102.0587, 141.4400, 278.4427]], device='cuda:0')\n",
      "Pred: tensor([[ 49.6832,  81.3354, 355.6357, 333.3770]], device='cuda:0')\n",
      "GT: tensor([[ 89.8560,  66.5600, 277.0560, 207.4453]], device='cuda:0')\n",
      "Pred: tensor([[ 49.6832,  81.3354, 355.6357, 333.3770]], device='cuda:0')\n",
      "GT: tensor([[132.2880,  85.4187, 169.7280, 119.8080]], device='cuda:0')\n",
      "Pred: tensor([[ 49.6832,  81.3354, 355.6357, 333.3770]], device='cuda:0')\n",
      "GT: tensor([[343.6160,  94.2933, 415.1680, 232.9600]], device='cuda:0')\n",
      "Pred: tensor([[ 49.6832,  81.3354, 355.6357, 333.3770]], device='cuda:0')\n",
      "GT: tensor([[213.8240,  63.2320, 302.8480, 240.7253]], device='cuda:0')\n",
      "Pred: tensor([[ 73.3409,  22.6219, 213.4724, 318.5476]], device='cuda:0')\n",
      "GT: tensor([[ 26.8067,  59.9040, 339.5513, 321.9840]], device='cuda:0')\n",
      "Pred: tensor([[172.2553, 236.3144, 298.5435, 317.0280]], device='cuda:0')\n",
      "GT: tensor([[132.2880, 238.5067, 326.1440, 311.7227]], device='cuda:0')\n",
      "Pred: tensor([[ 88.2938,  43.3260, 199.7329, 317.7630]], device='cuda:0')\n",
      "GT: tensor([[ 64.0640,  21.0773, 200.5120, 290.6453]], device='cuda:0')\n"
     ]
    },
    {
     "name": "stderr",
     "output_type": "stream",
     "text": [
      "[2019-05-31 10:47:22,677 <ipython-input-2-7667fb18f09c>] Batch [1041/2077] mAP: 0.23431\n",
      "[2019-05-31 10:47:22,736 <ipython-input-2-7667fb18f09c>] Batch [1042/2077] mAP: 0.23450\n",
      "[2019-05-31 10:47:22,787 <ipython-input-2-7667fb18f09c>] Batch [1043/2077] mAP: 0.23469\n",
      "[2019-05-31 10:47:22,841 <ipython-input-2-7667fb18f09c>] Batch [1044/2077] mAP: 0.23496\n"
     ]
    },
    {
     "name": "stdout",
     "output_type": "stream",
     "text": [
      "Pred: tensor([[165.2328, 233.1257, 251.1176, 324.1390]], device='cuda:0')\n",
      "GT: tensor([[294.5280, 227.4133, 414.3360, 332.8000]], device='cuda:0')\n",
      "Pred: tensor([[  7.3907, 266.0552,  30.3066, 287.7473]], device='cuda:0')\n",
      "GT: tensor([[294.5280, 227.4133, 414.3360, 332.8000]], device='cuda:0')\n",
      "Pred: tensor([[100.8472, 151.8290, 198.6301, 393.7621]], device='cuda:0')\n",
      "GT: tensor([[ 86.5280, 169.1566, 205.5040, 414.7470]], device='cuda:0')\n",
      "Pred: tensor([[121.5456,  74.6280, 359.2190, 396.6235]], device='cuda:0')\n",
      "GT: tensor([[ 45.7600, 128.0000, 188.8640, 395.8518]], device='cuda:0')\n",
      "Pred: tensor([[121.5456,  74.6280, 359.2190, 396.6235]], device='cuda:0')\n",
      "GT: tensor([[163.9040,  41.4815, 334.4640, 398.2222]], device='cuda:0')\n",
      "Pred: tensor([[148.3633, 180.8931, 218.3088, 280.3881]], device='cuda:0')\n",
      "GT: tensor([[149.7600, 177.3934, 227.9680, 266.0901]], device='cuda:0')\n"
     ]
    },
    {
     "name": "stderr",
     "output_type": "stream",
     "text": [
      "[2019-05-31 10:47:22,878 <ipython-input-2-7667fb18f09c>] Batch [1045/2077] mAP: 0.23479\n",
      "[2019-05-31 10:47:22,957 <ipython-input-2-7667fb18f09c>] Batch [1046/2077] mAP: 0.23561\n",
      "[2019-05-31 10:47:23,005 <ipython-input-2-7667fb18f09c>] Batch [1047/2077] mAP: 0.23544\n",
      "[2019-05-31 10:47:23,048 <ipython-input-2-7667fb18f09c>] Batch [1048/2077] mAP: 0.23563\n",
      "[2019-05-31 10:47:23,084 <ipython-input-2-7667fb18f09c>] Batch [1049/2077] mAP: 0.23582\n",
      "[2019-05-31 10:47:23,125 <ipython-input-2-7667fb18f09c>] Batch [1050/2077] mAP: 0.23600\n"
     ]
    },
    {
     "name": "stdout",
     "output_type": "stream",
     "text": [
      "Pred: tensor([[ -1.7858, 171.8024, 232.9225, 428.7869]], device='cuda:0')\n",
      "GT: tensor([[268.7360, 134.2293, 379.3920, 414.8907]], device='cuda:0')\n",
      "Pred: tensor([[183.6766, 149.7506, 241.9237, 397.6770]], device='cuda:0')\n",
      "GT: tensor([[268.7360, 134.2293, 379.3920, 414.8907]], device='cuda:0')\n",
      "Pred: tensor([[228.1521, 146.0713, 375.1562, 406.8034]], device='cuda:0')\n",
      "GT: tensor([[268.7360, 134.2293, 379.3920, 414.8907]], device='cuda:0')\n",
      "Pred: tensor([[ -1.7858, 171.8024, 232.9225, 428.7869]], device='cuda:0')\n",
      "GT: tensor([[  0.0000, 158.6347, 195.5200, 414.8907]], device='cuda:0')\n",
      "Pred: tensor([[ -1.7858, 171.8024, 232.9225, 428.7869]], device='cuda:0')\n",
      "GT: tensor([[ 26.6240, 138.6667, 267.9040, 414.8907]], device='cuda:0')\n",
      "Pred: tensor([[315.8125, 363.7090, 349.8705, 410.0479]], device='cuda:0')\n",
      "GT: tensor([[  0.0000,  89.9459, 324.4800, 414.7508]], device='cuda:0')\n",
      "Pred: tensor([[114.9160, 142.1977, 304.6292, 351.9337]], device='cuda:0')\n",
      "GT: tensor([[109.9339, 191.5333, 223.6156, 356.2000]], device='cuda:0')\n",
      "Pred: tensor([[114.9160, 142.1977, 304.6292, 351.9337]], device='cuda:0')\n",
      "GT: tensor([[156.1562, 135.2000, 302.3183, 340.6000]], device='cuda:0')\n",
      "Pred: tensor([[144.5981,  90.6324, 342.0474, 445.4003]], device='cuda:0')\n",
      "GT: tensor([[115.4866, 150.5920, 335.2836, 410.1760]], device='cuda:0')\n",
      "Pred: tensor([[175.9991, 260.8655, 240.4963, 333.5895]], device='cuda:0')\n",
      "GT: tensor([[178.8800, 240.7253, 235.4560, 343.8933]], device='cuda:0')\n",
      "Pred: tensor([[172.7784,  87.8304, 255.9802, 378.3604]], device='cuda:0')\n",
      "GT: tensor([[182.2080, 174.1653, 234.6240, 319.4880]], device='cuda:0')\n"
     ]
    },
    {
     "name": "stderr",
     "output_type": "stream",
     "text": [
      "[2019-05-31 10:47:23,157 <ipython-input-2-7667fb18f09c>] Batch [1051/2077] mAP: 0.23592\n",
      "[2019-05-31 10:47:23,213 <ipython-input-2-7667fb18f09c>] Batch [1052/2077] mAP: 0.23619\n",
      "[2019-05-31 10:47:23,258 <ipython-input-2-7667fb18f09c>] Batch [1053/2077] mAP: 0.23621\n",
      "[2019-05-31 10:47:23,290 <ipython-input-2-7667fb18f09c>] Batch [1054/2077] mAP: 0.23613\n",
      "[2019-05-31 10:47:23,330 <ipython-input-2-7667fb18f09c>] Batch [1055/2077] mAP: 0.23631\n",
      "[2019-05-31 10:47:23,401 <ipython-input-2-7667fb18f09c>] Batch [1056/2077] mAP: 0.23625\n"
     ]
    },
    {
     "name": "stdout",
     "output_type": "stream",
     "text": [
      "Pred: tensor([[127.9578, 165.1998, 350.0724, 315.0111]], device='cuda:0')\n",
      "GT: tensor([[153.0880, 160.0000, 323.6480, 314.4828]], device='cuda:0')\n",
      "Pred: tensor([[149.9993, 183.4447, 277.7736, 364.6368]], device='cuda:0')\n",
      "GT: tensor([[143.1040, 178.6027, 267.9040, 360.5333]], device='cuda:0')\n",
      "Pred: tensor([[201.3870, 130.2257, 281.2041, 404.8589]], device='cuda:0')\n",
      "GT: tensor([[  0.0000, 208.0000,  44.9280, 325.7831]], device='cuda:0')\n",
      "Pred: tensor([[201.3870, 130.2257, 281.2041, 404.8589]], device='cuda:0')\n",
      "GT: tensor([[201.3440, 135.3253, 267.9040, 389.6867]], device='cuda:0')\n",
      "Pred: tensor([[135.6353, 119.8667, 276.6924, 417.7101]], device='cuda:0')\n",
      "GT: tensor([[ 49.9200, 115.3707, 192.1920, 414.8907]], device='cuda:0')\n",
      "Pred: tensor([[135.6353, 119.8667, 276.6924, 417.7101]], device='cuda:0')\n",
      "GT: tensor([[ 64.0640,  46.5920, 349.4400, 414.8907]], device='cuda:0')\n",
      "Pred: tensor([[135.6353, 119.8667, 276.6924, 417.7101]], device='cuda:0')\n",
      "GT: tensor([[196.3520, 106.4960, 341.1200, 384.9387]], device='cuda:0')\n",
      "Pred: tensor([[135.6353, 119.8667, 276.6924, 417.7101]], device='cuda:0')\n",
      "GT: tensor([[162.2400, 151.9787, 267.9040, 383.8293]], device='cuda:0')\n"
     ]
    },
    {
     "name": "stderr",
     "output_type": "stream",
     "text": [
      "[2019-05-31 10:47:23,442 <ipython-input-2-7667fb18f09c>] Batch [1057/2077] mAP: 0.23600\n",
      "[2019-05-31 10:47:23,477 <ipython-input-2-7667fb18f09c>] Batch [1058/2077] mAP: 0.23627\n",
      "[2019-05-31 10:47:23,523 <ipython-input-2-7667fb18f09c>] Batch [1059/2077] mAP: 0.23672\n",
      "[2019-05-31 10:47:23,578 <ipython-input-2-7667fb18f09c>] Batch [1060/2077] mAP: 0.23699\n",
      "[2019-05-31 10:47:23,621 <ipython-input-2-7667fb18f09c>] Batch [1061/2077] mAP: 0.23726\n"
     ]
    },
    {
     "name": "stdout",
     "output_type": "stream",
     "text": [
      "Pred: tensor([[377.8137,  24.5299, 410.6430,  81.5495]], device='cuda:0')\n",
      "GT: tensor([[130.6240,   0.0000, 225.4720, 141.9947]], device='cuda:0')\n",
      "Pred: tensor([[ 39.5465, 131.1350, 312.8788, 279.7855]], device='cuda:0')\n",
      "GT: tensor([[ 66.5600, 116.1802, 282.8800, 291.0751]], device='cuda:0')\n",
      "Pred: tensor([[  2.5003, 217.3788,  95.2353, 315.9713]], device='cuda:0')\n",
      "GT: tensor([[ 79.0400,  68.0494, 327.8080, 386.4691]], device='cuda:0')\n",
      "Pred: tensor([[ 72.9188,  90.3971, 351.5222, 384.1174]], device='cuda:0')\n",
      "GT: tensor([[ 79.0400,  68.0494, 327.8080, 386.4691]], device='cuda:0')\n",
      "Pred: tensor([[  2.5003, 217.3788,  95.2353, 315.9713]], device='cuda:0')\n",
      "GT: tensor([[  1.6640, 206.7160,  79.0400, 317.1358]], device='cuda:0')\n",
      "Pred: tensor([[ 98.2418,  88.4254, 304.0104, 270.3285]], device='cuda:0')\n",
      "GT: tensor([[ 40.7680,  62.1227, 351.1040, 295.0827]], device='cuda:0')\n",
      "Pred: tensor([[234.5675,  31.4706, 293.6171, 133.6127]], device='cuda:0')\n",
      "GT: tensor([[226.9091,   8.3200, 288.8889, 142.2720]], device='cuda:0')\n"
     ]
    },
    {
     "name": "stderr",
     "output_type": "stream",
     "text": [
      "[2019-05-31 10:47:23,671 <ipython-input-2-7667fb18f09c>] Batch [1062/2077] mAP: 0.23709\n",
      "[2019-05-31 10:47:23,719 <ipython-input-2-7667fb18f09c>] Batch [1063/2077] mAP: 0.23728\n",
      "[2019-05-31 10:47:23,803 <ipython-input-2-7667fb18f09c>] Batch [1064/2077] mAP: 0.23645\n",
      "[2019-05-31 10:47:23,862 <ipython-input-2-7667fb18f09c>] Batch [1065/2077] mAP: 0.23628\n"
     ]
    },
    {
     "name": "stdout",
     "output_type": "stream",
     "text": [
      "Pred: tensor([[ 10.8374,  67.8075, 209.4377, 408.5492]], device='cuda:0')\n",
      "GT: tensor([[  0.0000,  43.2640, 243.7760, 414.8907]], device='cuda:0')\n",
      "Pred: tensor([[ 10.8374,  67.8075, 209.4377, 408.5492]], device='cuda:0')\n",
      "GT: tensor([[298.6880,  54.3573, 415.1680, 414.8907]], device='cuda:0')\n",
      "Pred: tensor([[ 66.6703, 128.7280,  83.4493, 213.1619]], device='cuda:0')\n",
      "GT: tensor([[ 73.2160, 136.4480,  96.5120, 212.9920]], device='cuda:0')\n",
      "Pred: tensor([[ 66.6703, 128.7280,  83.4493, 213.1619]], device='cuda:0')\n",
      "GT: tensor([[ 48.2560, 143.1040,  63.2320, 189.6960]], device='cuda:0')\n",
      "Pred: tensor([[ 66.6703, 128.7280,  83.4493, 213.1619]], device='cuda:0')\n",
      "GT: tensor([[371.0720, 128.6827, 390.2080, 181.9307]], device='cuda:0')\n",
      "Pred: tensor([[ 66.6703, 128.7280,  83.4493, 213.1619]], device='cuda:0')\n",
      "GT: tensor([[321.9840, 129.7920, 331.9680, 158.6347]], device='cuda:0')\n",
      "Pred: tensor([[ 66.6703, 128.7280,  83.4493, 213.1619]], device='cuda:0')\n",
      "GT: tensor([[346.1120, 127.5733, 355.2640, 158.6347]], device='cuda:0')\n",
      "Pred: tensor([[ 54.5512, 252.9760, 298.0824, 358.8230]], device='cuda:0')\n",
      "GT: tensor([[ 95.9078, 288.7040, 263.7464, 337.7920]], device='cuda:0')\n",
      "Pred: tensor([[ 54.5512, 252.9760, 298.0824, 358.8230]], device='cuda:0')\n",
      "GT: tensor([[ 68.3343, 353.6000, 342.8703, 415.1680]], device='cuda:0')\n"
     ]
    },
    {
     "name": "stderr",
     "output_type": "stream",
     "text": [
      "[2019-05-31 10:47:23,912 <ipython-input-2-7667fb18f09c>] Batch [1066/2077] mAP: 0.23620\n",
      "[2019-05-31 10:47:23,981 <ipython-input-2-7667fb18f09c>] Batch [1067/2077] mAP: 0.23622\n",
      "[2019-05-31 10:47:24,023 <ipython-input-2-7667fb18f09c>] Batch [1068/2077] mAP: 0.23632\n",
      "[2019-05-31 10:47:24,058 <ipython-input-2-7667fb18f09c>] Batch [1069/2077] mAP: 0.23615\n",
      "[2019-05-31 10:47:24,120 <ipython-input-2-7667fb18f09c>] Batch [1070/2077] mAP: 0.23599\n"
     ]
    },
    {
     "name": "stdout",
     "output_type": "stream",
     "text": [
      "Pred: tensor([[267.8552, 236.8108, 349.4893, 296.9998]], device='cuda:0')\n",
      "GT: tensor([[ 55.7440, 214.1013, 278.7200, 312.8320]], device='cuda:0')\n",
      "Pred: tensor([[ 49.7850, 147.3542, 298.4368, 338.8626]], device='cuda:0')\n",
      "GT: tensor([[ 55.7440, 214.1013, 278.7200, 312.8320]], device='cuda:0')\n",
      "Pred: tensor([[267.8552, 236.8108, 349.4893, 296.9998]], device='cuda:0')\n",
      "GT: tensor([[276.2240, 230.7413, 374.4000, 289.5360]], device='cuda:0')\n",
      "Pred: tensor([[384.7384, 249.9105, 405.7448, 287.4575]], device='cuda:0')\n",
      "GT: tensor([[396.0320, 251.8187, 415.1680, 274.0053]], device='cuda:0')\n",
      "Pred: tensor([[267.8552, 236.8108, 349.4893, 296.9998]], device='cuda:0')\n",
      "GT: tensor([[  0.0000, 226.3040,  61.5680, 286.2080]], device='cuda:0')\n",
      "Pred: tensor([[ 49.7850, 147.3542, 298.4368, 338.8626]], device='cuda:0')\n",
      "GT: tensor([[  0.0000, 226.3040,  61.5680, 286.2080]], device='cuda:0')\n",
      "Pred: tensor([[170.8185, 130.4814, 314.4420, 282.8467]], device='cuda:0')\n",
      "GT: tensor([[ 79.8720,  71.3143, 200.5120, 210.7013]], device='cuda:0')\n",
      "Pred: tensor([[170.8185, 130.4814, 314.4420, 282.8467]], device='cuda:0')\n",
      "GT: tensor([[148.9280, 146.9507, 340.2880, 285.2571]], device='cuda:0')\n",
      "Pred: tensor([[347.2882, 297.4387, 379.9572, 390.8085]], device='cuda:0')\n",
      "GT: tensor([[342.2325, 316.1600, 368.8372, 369.4080]], device='cuda:0')\n"
     ]
    },
    {
     "name": "stderr",
     "output_type": "stream",
     "text": [
      "[2019-05-31 10:47:24,191 <ipython-input-2-7667fb18f09c>] Batch [1071/2077] mAP: 0.23609\n",
      "[2019-05-31 10:47:24,235 <ipython-input-2-7667fb18f09c>] Batch [1072/2077] mAP: 0.23601\n",
      "[2019-05-31 10:47:24,273 <ipython-input-2-7667fb18f09c>] Batch [1073/2077] mAP: 0.23628\n",
      "[2019-05-31 10:47:24,331 <ipython-input-2-7667fb18f09c>] Batch [1074/2077] mAP: 0.23611\n",
      "[2019-05-31 10:47:24,373 <ipython-input-2-7667fb18f09c>] Batch [1075/2077] mAP: 0.23603\n"
     ]
    },
    {
     "name": "stdout",
     "output_type": "stream",
     "text": [
      "Pred: tensor([[169.5594,  48.5070, 237.7104, 130.4566]], device='cuda:0')\n",
      "GT: tensor([[173.0560,  55.4667, 227.1360, 110.9333]], device='cuda:0')\n",
      "Pred: tensor([[169.5594,  48.5070, 237.7104, 130.4566]], device='cuda:0')\n",
      "GT: tensor([[152.2560, 199.6800, 232.1280, 258.4747]], device='cuda:0')\n",
      "Pred: tensor([[ 65.7976,  58.4641, 233.8004, 219.6910]], device='cuda:0')\n",
      "GT: tensor([[  0.0000,  99.0080, 318.3787, 204.6720]], device='cuda:0')\n",
      "Pred: tensor([[  4.1174,  54.8305, 347.1046, 359.2762]], device='cuda:0')\n",
      "GT: tensor([[  0.0000,  48.7207, 415.1680, 342.2943]], device='cuda:0')\n"
     ]
    },
    {
     "name": "stderr",
     "output_type": "stream",
     "text": [
      "[2019-05-31 10:47:24,423 <ipython-input-2-7667fb18f09c>] Batch [1076/2077] mAP: 0.23587\n",
      "[2019-05-31 10:47:24,469 <ipython-input-2-7667fb18f09c>] Batch [1077/2077] mAP: 0.23613\n",
      "[2019-05-31 10:47:24,511 <ipython-input-2-7667fb18f09c>] Batch [1078/2077] mAP: 0.23615\n",
      "[2019-05-31 10:47:24,563 <ipython-input-2-7667fb18f09c>] Batch [1079/2077] mAP: 0.23552\n",
      "[2019-05-31 10:47:24,604 <ipython-input-2-7667fb18f09c>] Batch [1080/2077] mAP: 0.23570\n",
      "[2019-05-31 10:47:24,649 <ipython-input-2-7667fb18f09c>] Batch [1081/2077] mAP: 0.23623\n"
     ]
    },
    {
     "name": "stdout",
     "output_type": "stream",
     "text": [
      "Pred: tensor([[  6.8582,  61.5616, 280.8199, 349.8423]], device='cuda:0')\n",
      "GT: tensor([[ 15.8080,  42.1547, 415.1680, 396.0320]], device='cuda:0')\n",
      "Pred: tensor([[ 26.0260,  67.6060, 378.1337, 347.2835]], device='cuda:0')\n",
      "GT: tensor([[ 34.9440,  67.6693, 352.7680, 361.6427]], device='cuda:0')\n",
      "Pred: tensor([[238.7275, 272.5623, 296.9240, 396.8386]], device='cuda:0')\n",
      "GT: tensor([[291.2000, 300.6293, 375.2320, 414.8907]], device='cuda:0')\n",
      "Pred: tensor([[238.7275, 272.5623, 296.9240, 396.8386]], device='cuda:0')\n",
      "GT: tensor([[219.6480, 276.2240, 292.8640, 402.6880]], device='cuda:0')\n",
      "Pred: tensor([[238.7275, 272.5623, 296.9240, 396.8386]], device='cuda:0')\n",
      "GT: tensor([[156.4160, 287.3173, 237.1200, 414.8907]], device='cuda:0')\n",
      "Pred: tensor([[267.4760, 197.9753, 335.4966, 263.9020]], device='cuda:0')\n",
      "GT: tensor([[287.8720, 196.3520, 331.1360, 270.6773]], device='cuda:0')\n",
      "Pred: tensor([[273.5531, 119.1705, 324.5757, 305.9482]], device='cuda:0')\n",
      "GT: tensor([[287.8720, 158.6347, 327.8080, 248.4907]], device='cuda:0')\n",
      "Pred: tensor([[231.9770,  85.2860, 322.0217, 255.6057]], device='cuda:0')\n",
      "GT: tensor([[200.5120, 132.0107, 332.8000, 245.1627]], device='cuda:0')\n",
      "Pred: tensor([[236.3101,  82.2331, 327.2352, 223.5511]], device='cuda:0')\n",
      "GT: tensor([[243.7760,  82.0907, 315.3280, 203.0080]], device='cuda:0')\n"
     ]
    },
    {
     "name": "stderr",
     "output_type": "stream",
     "text": [
      "[2019-05-31 10:47:24,688 <ipython-input-2-7667fb18f09c>] Batch [1082/2077] mAP: 0.23649\n",
      "[2019-05-31 10:47:24,725 <ipython-input-2-7667fb18f09c>] Batch [1083/2077] mAP: 0.23667\n",
      "[2019-05-31 10:47:24,758 <ipython-input-2-7667fb18f09c>] Batch [1084/2077] mAP: 0.23651\n",
      "[2019-05-31 10:47:24,825 <ipython-input-2-7667fb18f09c>] Batch [1085/2077] mAP: 0.23653\n",
      "[2019-05-31 10:47:24,868 <ipython-input-2-7667fb18f09c>] Batch [1086/2077] mAP: 0.23636\n"
     ]
    },
    {
     "name": "stdout",
     "output_type": "stream",
     "text": [
      "Pred: tensor([[ 69.6757,  76.5733, 348.2653, 411.1047]], device='cuda:0')\n",
      "GT: tensor([[ 91.5200, 118.6987, 371.9040, 387.1573]], device='cuda:0')\n",
      "Pred: tensor([[ -0.7779, 164.8680,  98.3305, 392.3240]], device='cuda:0')\n",
      "GT: tensor([[  0.0000, 167.5093, 100.6720, 390.4853]], device='cuda:0')\n",
      "Pred: tensor([[285.0820, 120.5091, 391.9608, 375.5871]], device='cuda:0')\n",
      "GT: tensor([[292.0320, 138.6667, 393.5360, 354.9867]], device='cuda:0')\n",
      "Pred: tensor([[285.0820, 120.5091, 391.9608, 375.5871]], device='cuda:0')\n",
      "GT: tensor([[354.4320, 188.5867, 388.5440, 236.2880]], device='cuda:0')\n"
     ]
    },
    {
     "name": "stderr",
     "output_type": "stream",
     "text": [
      "[2019-05-31 10:47:24,910 <ipython-input-2-7667fb18f09c>] Batch [1087/2077] mAP: 0.23620\n",
      "[2019-05-31 10:47:24,969 <ipython-input-2-7667fb18f09c>] Batch [1088/2077] mAP: 0.23646\n",
      "[2019-05-31 10:47:25,019 <ipython-input-2-7667fb18f09c>] Batch [1089/2077] mAP: 0.23656\n",
      "[2019-05-31 10:47:25,054 <ipython-input-2-7667fb18f09c>] Batch [1090/2077] mAP: 0.23648\n",
      "[2019-05-31 10:47:25,090 <ipython-input-2-7667fb18f09c>] Batch [1091/2077] mAP: 0.23608\n"
     ]
    },
    {
     "name": "stdout",
     "output_type": "stream",
     "text": [
      "Pred: tensor([[ 87.7521, 159.6230, 219.9135, 363.3207]], device='cuda:0')\n",
      "GT: tensor([[303.9573,  20.8000, 413.7813, 247.1040]], device='cuda:0')\n",
      "Pred: tensor([[ 31.7775, 167.1144, 332.4495, 302.1625]], device='cuda:0')\n",
      "GT: tensor([[ 17.4720, 124.8000, 352.7680, 326.4970]], device='cuda:0')\n",
      "Pred: tensor([[ 46.1880, 168.1344, 235.5272, 303.3668]], device='cuda:0')\n",
      "GT: tensor([[  0.0000, 159.7440, 264.7273, 311.1680]], device='cuda:0')\n"
     ]
    },
    {
     "name": "stderr",
     "output_type": "stream",
     "text": [
      "[2019-05-31 10:47:25,136 <ipython-input-2-7667fb18f09c>] Batch [1092/2077] mAP: 0.23634\n",
      "[2019-05-31 10:47:25,187 <ipython-input-2-7667fb18f09c>] Batch [1093/2077] mAP: 0.23652\n",
      "[2019-05-31 10:47:25,236 <ipython-input-2-7667fb18f09c>] Batch [1094/2077] mAP: 0.23670\n",
      "[2019-05-31 10:47:25,276 <ipython-input-2-7667fb18f09c>] Batch [1095/2077] mAP: 0.23630\n",
      "[2019-05-31 10:47:25,330 <ipython-input-2-7667fb18f09c>] Batch [1096/2077] mAP: 0.23656\n"
     ]
    },
    {
     "name": "stdout",
     "output_type": "stream",
     "text": [
      "Pred: tensor([[143.4811, 103.4257, 218.4918, 312.7886]], device='cuda:0')\n",
      "GT: tensor([[150.0528,  93.1840, 226.9091, 295.3600]], device='cuda:0')\n",
      "Pred: tensor([[ -4.7557,  12.5006, 166.4133, 152.4900]], device='cuda:0')\n",
      "GT: tensor([[  0.0000,   0.0000, 153.9200, 204.1173]], device='cuda:0')\n",
      "Pred: tensor([[184.9965,  95.8696, 294.5705, 389.6275]], device='cuda:0')\n",
      "GT: tensor([[159.7440,  84.3093, 301.1840, 414.8907]], device='cuda:0')\n",
      "Pred: tensor([[155.3940, 167.2021, 319.4083, 366.9381]], device='cuda:0')\n",
      "GT: tensor([[130.6240, 157.4054, 358.5920, 367.2793]], device='cuda:0')\n"
     ]
    },
    {
     "name": "stderr",
     "output_type": "stream",
     "text": [
      "[2019-05-31 10:47:25,389 <ipython-input-2-7667fb18f09c>] Batch [1097/2077] mAP: 0.23647\n",
      "[2019-05-31 10:47:25,466 <ipython-input-2-7667fb18f09c>] Batch [1098/2077] mAP: 0.23699\n",
      "[2019-05-31 10:47:25,533 <ipython-input-2-7667fb18f09c>] Batch [1099/2077] mAP: 0.23709\n",
      "[2019-05-31 10:47:25,579 <ipython-input-2-7667fb18f09c>] Batch [1100/2077] mAP: 0.23701\n",
      "[2019-05-31 10:47:25,622 <ipython-input-2-7667fb18f09c>] Batch [1101/2077] mAP: 0.23727\n"
     ]
    },
    {
     "name": "stdout",
     "output_type": "stream",
     "text": [
      "Pred: tensor([[  1.2591, -48.4885, 105.9720, 418.5284]], device='cuda:0')\n",
      "GT: tensor([[  3.3280,   0.0000, 110.6560, 388.2667]], device='cuda:0')\n",
      "Pred: tensor([[176.8914, 230.6665, 297.2199, 305.7102]], device='cuda:0')\n",
      "GT: tensor([[208.8320, 246.2720, 249.6000, 286.2080]], device='cuda:0')\n",
      "Pred: tensor([[207.1822, 243.9982, 255.5079, 288.1877]], device='cuda:0')\n",
      "GT: tensor([[208.8320, 246.2720, 249.6000, 286.2080]], device='cuda:0')\n",
      "Pred: tensor([[247.5400,  32.5754, 358.0868, 107.2760]], device='cuda:0')\n",
      "GT: tensor([[282.8800, 166.1501, 415.1680, 401.0090]], device='cuda:0')\n",
      "Pred: tensor([[247.5400,  32.5754, 358.0868, 107.2760]], device='cuda:0')\n",
      "GT: tensor([[237.9520,  32.4805, 351.1040, 111.1832]], device='cuda:0')\n",
      "Pred: tensor([[139.2803, 348.2425, 277.7587, 392.4236]], device='cuda:0')\n",
      "GT: tensor([[ 83.2000,  28.0736, 321.1520, 380.2699]], device='cuda:0')\n",
      "Pred: tensor([[ 96.1497, 159.7212, 270.9095, 334.6638]], device='cuda:0')\n",
      "GT: tensor([[ 34.1120, 130.9013, 301.1840, 352.7680]], device='cuda:0')\n"
     ]
    },
    {
     "name": "stderr",
     "output_type": "stream",
     "text": [
      "[2019-05-31 10:47:25,680 <ipython-input-2-7667fb18f09c>] Batch [1102/2077] mAP: 0.23753\n",
      "[2019-05-31 10:47:25,736 <ipython-input-2-7667fb18f09c>] Batch [1103/2077] mAP: 0.23745\n",
      "[2019-05-31 10:47:25,782 <ipython-input-2-7667fb18f09c>] Batch [1104/2077] mAP: 0.23771\n",
      "[2019-05-31 10:47:25,821 <ipython-input-2-7667fb18f09c>] Batch [1105/2077] mAP: 0.23797\n"
     ]
    },
    {
     "name": "stdout",
     "output_type": "stream",
     "text": [
      "Pred: tensor([[ 70.9160, 108.6301, 288.9699, 313.1362]], device='cuda:0')\n",
      "GT: tensor([[ 85.6960, 126.4640, 269.5680, 291.7547]], device='cuda:0')\n",
      "Pred: tensor([[120.6916,  16.0718, 351.8597, 400.8806]], device='cuda:0')\n",
      "GT: tensor([[108.1600,  35.4987, 415.1680, 389.3760]], device='cuda:0')\n",
      "Pred: tensor([[ 44.2522,  63.5543, 363.0756, 358.1030]], device='cuda:0')\n",
      "GT: tensor([[ 26.6240,  42.1547, 383.5520, 361.6427]], device='cuda:0')\n",
      "Pred: tensor([[111.8505, 118.6763, 176.5940, 227.6592]], device='cuda:0')\n",
      "GT: tensor([[257.0880, 133.1200, 384.3840, 414.8907]], device='cuda:0')\n",
      "Pred: tensor([[111.8505, 118.6763, 176.5940, 227.6592]], device='cuda:0')\n",
      "GT: tensor([[326.1440, 107.6053, 371.9040, 219.6480]], device='cuda:0')\n"
     ]
    },
    {
     "name": "stderr",
     "output_type": "stream",
     "text": [
      "[2019-05-31 10:47:25,903 <ipython-input-2-7667fb18f09c>] Batch [1106/2077] mAP: 0.23734\n",
      "[2019-05-31 10:47:25,940 <ipython-input-2-7667fb18f09c>] Batch [1107/2077] mAP: 0.23726\n",
      "[2019-05-31 10:47:25,988 <ipython-input-2-7667fb18f09c>] Batch [1108/2077] mAP: 0.23718\n",
      "[2019-05-31 10:47:26,030 <ipython-input-2-7667fb18f09c>] Batch [1109/2077] mAP: 0.23670\n",
      "[2019-05-31 10:47:26,072 <ipython-input-2-7667fb18f09c>] Batch [1110/2077] mAP: 0.23696\n"
     ]
    },
    {
     "name": "stdout",
     "output_type": "stream",
     "text": [
      "Pred: tensor([[111.8505, 118.6763, 176.5940, 227.6592]], device='cuda:0')\n",
      "GT: tensor([[244.6080, 107.6053, 308.6720, 211.8827]], device='cuda:0')\n",
      "Pred: tensor([[111.8505, 118.6763, 176.5940, 227.6592]], device='cuda:0')\n",
      "GT: tensor([[ 15.8080, 113.1520, 121.4720, 378.2827]], device='cuda:0')\n",
      "Pred: tensor([[111.8505, 118.6763, 176.5940, 227.6592]], device='cuda:0')\n",
      "GT: tensor([[ 76.5440, 126.4640, 139.7760, 255.1467]], device='cuda:0')\n",
      "Pred: tensor([[111.8505, 118.6763, 176.5940, 227.6592]], device='cuda:0')\n",
      "GT: tensor([[112.3200, 117.5893, 183.8720, 239.6160]], device='cuda:0')\n",
      "Pred: tensor([[ 40.8716,  40.5211, 379.6615, 372.4536]], device='cuda:0')\n",
      "GT: tensor([[ 39.9360,  51.5840, 368.2987, 325.3120]], device='cuda:0')\n"
     ]
    },
    {
     "name": "stderr",
     "output_type": "stream",
     "text": [
      "[2019-05-31 10:47:26,107 <ipython-input-2-7667fb18f09c>] Batch [1111/2077] mAP: 0.23664\n",
      "[2019-05-31 10:47:26,146 <ipython-input-2-7667fb18f09c>] Batch [1112/2077] mAP: 0.23690\n",
      "[2019-05-31 10:47:26,182 <ipython-input-2-7667fb18f09c>] Batch [1113/2077] mAP: 0.23666\n",
      "[2019-05-31 10:47:26,235 <ipython-input-2-7667fb18f09c>] Batch [1114/2077] mAP: 0.23658\n",
      "[2019-05-31 10:47:26,285 <ipython-input-2-7667fb18f09c>] Batch [1115/2077] mAP: 0.23650\n",
      "[2019-05-31 10:47:26,338 <ipython-input-2-7667fb18f09c>] Batch [1116/2077] mAP: 0.23642\n"
     ]
    },
    {
     "name": "stdout",
     "output_type": "stream",
     "text": [
      "Pred: tensor([[188.2681, 151.9747, 241.3854, 248.3530]], device='cuda:0')\n",
      "GT: tensor([[184.1493, 143.1040, 250.7093, 259.5840]], device='cuda:0')\n",
      "Pred: tensor([[126.8935, 229.5061, 237.7188, 367.5385]], device='cuda:0')\n",
      "GT: tensor([[149.9099, 247.1040, 224.8649, 341.1200]], device='cuda:0')\n",
      "Pred: tensor([[102.3820, 115.0968, 320.2247, 303.0357]], device='cuda:0')\n",
      "GT: tensor([[135.6160,  30.9029, 274.5600, 332.8000]], device='cuda:0')\n",
      "Pred: tensor([[136.2314, 174.8694, 263.6221, 287.3961]], device='cuda:0')\n",
      "GT: tensor([[135.6160,  30.9029, 274.5600, 332.8000]], device='cuda:0')\n"
     ]
    },
    {
     "name": "stderr",
     "output_type": "stream",
     "text": [
      "[2019-05-31 10:47:26,396 <ipython-input-2-7667fb18f09c>] Batch [1117/2077] mAP: 0.23667\n",
      "[2019-05-31 10:47:26,454 <ipython-input-2-7667fb18f09c>] Batch [1118/2077] mAP: 0.23719\n",
      "[2019-05-31 10:47:26,491 <ipython-input-2-7667fb18f09c>] Batch [1119/2077] mAP: 0.23711\n",
      "[2019-05-31 10:47:26,536 <ipython-input-2-7667fb18f09c>] Batch [1120/2077] mAP: 0.23728\n"
     ]
    },
    {
     "name": "stdout",
     "output_type": "stream",
     "text": [
      "Pred: tensor([[230.7430,  97.4823, 390.0027, 313.4516]], device='cuda:0')\n",
      "GT: tensor([[234.6240,  86.5280, 415.1680, 306.1760]], device='cuda:0')\n",
      "Pred: tensor([[150.1672, 131.0432, 339.1418, 411.4377]], device='cuda:0')\n",
      "GT: tensor([[183.8720, 124.2453, 312.0000, 414.8907]], device='cuda:0')\n",
      "Pred: tensor([[150.1672, 131.0432, 339.1418, 411.4377]], device='cuda:0')\n",
      "GT: tensor([[109.8240, 143.1040, 243.7760, 414.8907]], device='cuda:0')\n",
      "Pred: tensor([[102.6742, 110.7608, 201.6860, 447.5391]], device='cuda:0')\n",
      "GT: tensor([[109.8240, 143.1040, 243.7760, 414.8907]], device='cuda:0')\n",
      "Pred: tensor([[ 11.4244,  69.3990, 402.3242, 357.1390]], device='cuda:0')\n",
      "GT: tensor([[  8.3200,  85.4795, 400.1920, 376.1096]], device='cuda:0')\n",
      "Pred: tensor([[388.9363, 248.4717, 405.0513, 283.0734]], device='cuda:0')\n",
      "GT: tensor([[197.1840, 135.3425, 212.1600, 183.7808]], device='cuda:0')\n",
      "Pred: tensor([[ 14.3939, 280.5964,  23.3998, 329.5713]], device='cuda:0')\n",
      "GT: "
     ]
    },
    {
     "name": "stderr",
     "output_type": "stream",
     "text": [
      "[2019-05-31 10:47:26,594 <ipython-input-2-7667fb18f09c>] Batch [1121/2077] mAP: 0.23712\n",
      "[2019-05-31 10:47:26,634 <ipython-input-2-7667fb18f09c>] Batch [1122/2077] mAP: 0.23689\n",
      "[2019-05-31 10:47:26,675 <ipython-input-2-7667fb18f09c>] Batch [1123/2077] mAP: 0.23706\n",
      "[2019-05-31 10:47:26,755 <ipython-input-2-7667fb18f09c>] Batch [1124/2077] mAP: 0.23676\n"
     ]
    },
    {
     "name": "stdout",
     "output_type": "stream",
     "text": [
      "tensor([[  2.4960, 272.5517,  16.6400, 332.5392]], device='cuda:0')\n",
      "Pred: tensor([[-9.8267e-02,  2.1235e+01,  3.3959e+02,  3.4055e+02]], device='cuda:0')\n",
      "GT: tensor([[ 74.0480,  31.0613, 295.3600, 322.8160]], device='cuda:0')\n",
      "Pred: tensor([[113.3739,  62.2216, 244.7464, 225.3984]], device='cuda:0')\n",
      "GT: tensor([[123.9680,  45.1378, 246.2720, 240.3284]], device='cuda:0')\n",
      "Pred: tensor([[113.3739,  62.2216, 244.7464, 225.3984]], device='cuda:0')\n",
      "GT: tensor([[ 10.8160,  74.4164,  40.7680, 213.4897]], device='cuda:0')\n",
      "Pred: tensor([[113.3739,  62.2216, 244.7464, 225.3984]], device='cuda:0')\n",
      "GT: tensor([[166.4000, 329.3842, 237.9520, 401.3607]], device='cuda:0')\n"
     ]
    },
    {
     "name": "stderr",
     "output_type": "stream",
     "text": [
      "[2019-05-31 10:47:26,813 <ipython-input-2-7667fb18f09c>] Batch [1125/2077] mAP: 0.23694\n",
      "[2019-05-31 10:47:26,873 <ipython-input-2-7667fb18f09c>] Batch [1126/2077] mAP: 0.23656\n",
      "[2019-05-31 10:47:26,916 <ipython-input-2-7667fb18f09c>] Batch [1127/2077] mAP: 0.23674\n",
      "[2019-05-31 10:47:26,986 <ipython-input-2-7667fb18f09c>] Batch [1128/2077] mAP: 0.23699\n"
     ]
    },
    {
     "name": "stdout",
     "output_type": "stream",
     "text": [
      "Pred: tensor([[126.1124, 201.8687, 222.7974, 349.6859]], device='cuda:0')\n",
      "GT: tensor([[121.4720, 198.6306, 234.6240, 348.5405]], device='cuda:0')\n",
      "Pred: tensor([[180.6095, 212.8629, 297.2267, 406.4929]], device='cuda:0')\n",
      "GT: tensor([[175.5520, 244.0992, 291.2000, 379.3278]], device='cuda:0')\n",
      "Pred: tensor([[154.3513,  48.8542, 385.3141, 315.8979]], device='cuda:0')\n",
      "GT: tensor([[ 96.5120,  77.6533, 415.1680, 285.0987]], device='cuda:0')\n",
      "Pred: tensor([[183.2903, 239.1419, 346.4090, 371.3113]], device='cuda:0')\n",
      "GT: tensor([[192.1920, 216.1201, 321.9840, 406.0060]], device='cuda:0')\n"
     ]
    },
    {
     "name": "stderr",
     "output_type": "stream",
     "text": [
      "[2019-05-31 10:47:27,054 <ipython-input-2-7667fb18f09c>] Batch [1129/2077] mAP: 0.23668\n",
      "[2019-05-31 10:47:27,093 <ipython-input-2-7667fb18f09c>] Batch [1130/2077] mAP: 0.23652\n",
      "[2019-05-31 10:47:27,163 <ipython-input-2-7667fb18f09c>] Batch [1131/2077] mAP: 0.23687\n",
      "[2019-05-31 10:47:27,210 <ipython-input-2-7667fb18f09c>] Batch [1132/2077] mAP: 0.23704\n"
     ]
    },
    {
     "name": "stdout",
     "output_type": "stream",
     "text": [
      "Pred: tensor([[ 90.5465, 103.2834, 179.7397, 426.3426]], device='cuda:0')\n",
      "GT: tensor([[ 85.6960, 138.6667, 131.4560, 383.8293]], device='cuda:0')\n",
      "Pred: tensor([[ 90.5465, 103.2834, 179.7397, 426.3426]], device='cuda:0')\n",
      "GT: tensor([[123.1360, 164.1813, 171.3920, 366.0800]], device='cuda:0')\n",
      "Pred: tensor([[152.8569,  89.0715, 253.1427, 332.6124]], device='cuda:0')\n",
      "GT: tensor([[108.1600, 130.3394, 182.2080, 283.4883]], device='cuda:0')\n",
      "Pred: tensor([[107.1137, 135.4261, 188.8275, 288.9825]], device='cuda:0')\n",
      "GT: tensor([[108.1600, 130.3394, 182.2080, 283.4883]], device='cuda:0')\n",
      "Pred: tensor([[152.8569,  89.0715, 253.1427, 332.6124]], device='cuda:0')\n",
      "GT: tensor([[170.5600, 130.3394, 253.7600, 284.5744]], device='cuda:0')\n",
      "Pred: tensor([[152.8569,  89.0715, 253.1427, 332.6124]], device='cuda:0')\n",
      "GT: tensor([[227.9680, 145.5457, 301.1840, 286.7467]], device='cuda:0')\n",
      "Pred: tensor([[107.1137, 135.4261, 188.8275, 288.9825]], device='cuda:0')\n",
      "GT: tensor([[227.9680, 145.5457, 301.1840, 286.7467]], device='cuda:0')\n",
      "Pred: tensor([[152.8569,  89.0715, 253.1427, 332.6124]], device='cuda:0')\n",
      "GT: tensor([[257.0880, 166.1828, 331.9680, 324.7624]], device='cuda:0')\n",
      "Pred: tensor([[107.1137, 135.4261, 188.8275, 288.9825]], device='cuda:0')\n",
      "GT: tensor([[257.0880, 166.1828, 331.9680, 324.7624]], device='cuda:0')\n",
      "Pred: tensor([[ 90.0815,  89.0296, 329.6843, 254.4391]], device='cuda:0')\n",
      "GT: tensor([[ 75.7120,  38.8267, 236.2880, 203.0080]], device='cuda:0')\n",
      "Pred: tensor([[191.2133, 119.1638, 283.3885, 218.2102]], device='cuda:0')\n",
      "GT: tensor([[ 75.7120,  38.8267, 236.2880, 203.0080]], device='cuda:0')\n",
      "Pred: tensor([[ 90.0815,  89.0296, 329.6843, 254.4391]], device='cuda:0')\n",
      "GT: tensor([[143.9360,  61.0133, 329.4720, 267.3493]], device='cuda:0')\n"
     ]
    },
    {
     "name": "stderr",
     "output_type": "stream",
     "text": [
      "[2019-05-31 10:47:27,246 <ipython-input-2-7667fb18f09c>] Batch [1133/2077] mAP: 0.23689\n",
      "[2019-05-31 10:47:27,308 <ipython-input-2-7667fb18f09c>] Batch [1134/2077] mAP: 0.23698\n",
      "[2019-05-31 10:47:27,361 <ipython-input-2-7667fb18f09c>] Batch [1135/2077] mAP: 0.23659\n",
      "[2019-05-31 10:47:27,402 <ipython-input-2-7667fb18f09c>] Batch [1136/2077] mAP: 0.23636\n",
      "[2019-05-31 10:47:27,442 <ipython-input-2-7667fb18f09c>] Batch [1137/2077] mAP: 0.23661\n"
     ]
    },
    {
     "name": "stdout",
     "output_type": "stream",
     "text": [
      "Pred: tensor([[ 40.9756,  58.8594, 374.7546, 367.8830]], device='cuda:0')\n",
      "GT: tensor([[  6.6560,  67.4595, 411.0080, 366.0300]], device='cuda:0')\n",
      "Pred: tensor([[ 40.9756,  58.8594, 374.7546, 367.8830]], device='cuda:0')\n",
      "GT: tensor([[260.4160,  47.4715, 394.3680, 136.1682]], device='cuda:0')\n",
      "Pred: tensor([[ 40.9756,  58.8594, 374.7546, 367.8830]], device='cuda:0')\n",
      "GT: tensor([[ 79.8720,  41.2252, 138.9440,  91.1952]], device='cuda:0')\n",
      "Pred: tensor([[159.1855, 181.0475, 251.2558, 356.9401]], device='cuda:0')\n",
      "GT: tensor([[175.5520, 189.6960, 239.6160, 380.5013]], device='cuda:0')\n",
      "Pred: "
     ]
    },
    {
     "name": "stderr",
     "output_type": "stream",
     "text": [
      "[2019-05-31 10:47:27,499 <ipython-input-2-7667fb18f09c>] Batch [1138/2077] mAP: 0.23686\n",
      "[2019-05-31 10:47:27,542 <ipython-input-2-7667fb18f09c>] Batch [1139/2077] mAP: 0.23670\n",
      "[2019-05-31 10:47:27,597 <ipython-input-2-7667fb18f09c>] Batch [1140/2077] mAP: 0.23655\n",
      "[2019-05-31 10:47:27,637 <ipython-input-2-7667fb18f09c>] Batch [1141/2077] mAP: 0.23647\n",
      "[2019-05-31 10:47:27,677 <ipython-input-2-7667fb18f09c>] Batch [1142/2077] mAP: 0.23672\n"
     ]
    },
    {
     "name": "stdout",
     "output_type": "stream",
     "text": [
      "tensor([[ 72.2862,  38.8550, 355.4372, 383.3271]], device='cuda:0')\n",
      "GT: tensor([[ 80.3489,  39.9360, 343.4268, 373.5680]], device='cuda:0')\n",
      "Pred: tensor([[ -4.3717, 125.1087, 346.6848, 358.2903]], device='cuda:0')\n",
      "GT: tensor([[  0.0000, 118.6787, 342.7840, 359.7838]], device='cuda:0')\n"
     ]
    },
    {
     "name": "stderr",
     "output_type": "stream",
     "text": [
      "[2019-05-31 10:47:27,721 <ipython-input-2-7667fb18f09c>] Batch [1143/2077] mAP: 0.23714\n",
      "[2019-05-31 10:47:27,776 <ipython-input-2-7667fb18f09c>] Batch [1144/2077] mAP: 0.23757\n",
      "[2019-05-31 10:47:27,810 <ipython-input-2-7667fb18f09c>] Batch [1145/2077] mAP: 0.23749\n",
      "[2019-05-31 10:47:27,842 <ipython-input-2-7667fb18f09c>] Batch [1146/2077] mAP: 0.23741\n",
      "[2019-05-31 10:47:27,880 <ipython-input-2-7667fb18f09c>] Batch [1147/2077] mAP: 0.23766\n"
     ]
    },
    {
     "name": "stdout",
     "output_type": "stream",
     "text": [
      "Pred: tensor([[268.6039, 131.1360, 386.6175, 219.2582]], device='cuda:0')\n",
      "GT: tensor([[283.7120, 115.3707, 371.9040, 230.7413]], device='cuda:0')\n",
      "Pred: tensor([[ 94.7721, 206.8265, 189.9907, 334.3526]], device='cuda:0')\n",
      "GT: tensor([[ 87.3600, 191.9147, 177.2160, 329.4720]], device='cuda:0')\n",
      "Pred: tensor([[-16.1640,  94.2597, 173.3918, 452.3969]], device='cuda:0')\n",
      "GT: tensor([[307.0080, 241.1051, 406.0160, 414.7508]], device='cuda:0')\n",
      "Pred: tensor([[154.3830, 153.5317, 315.7492, 444.8741]], device='cuda:0')\n",
      "GT: tensor([[307.0080, 241.1051, 406.0160, 414.7508]], device='cuda:0')\n",
      "Pred: tensor([[-16.1640,  94.2597, 173.3918, 452.3969]], device='cuda:0')\n",
      "GT: tensor([[143.9360, 149.9099, 312.0000, 413.5015]], device='cuda:0')\n",
      "Pred: tensor([[154.3830, 153.5317, 315.7492, 444.8741]], device='cuda:0')\n",
      "GT: tensor([[143.9360, 149.9099, 312.0000, 413.5015]], device='cuda:0')\n",
      "Pred: tensor([[-16.1640,  94.2597, 173.3918, 452.3969]], device='cuda:0')\n",
      "GT: tensor([[  0.8320, 128.6727, 142.2720, 414.7508]], device='cuda:0')\n",
      "Pred: tensor([[ 91.5140,  87.5534, 380.4788, 397.8820]], device='cuda:0')\n",
      "GT: tensor([[ 95.6800,  79.8720, 415.1680, 415.1680]], device='cuda:0')\n"
     ]
    },
    {
     "name": "stderr",
     "output_type": "stream",
     "text": [
      "[2019-05-31 10:47:27,936 <ipython-input-2-7667fb18f09c>] Batch [1148/2077] mAP: 0.23727\n",
      "[2019-05-31 10:47:28,001 <ipython-input-2-7667fb18f09c>] Batch [1149/2077] mAP: 0.23712\n",
      "[2019-05-31 10:47:28,065 <ipython-input-2-7667fb18f09c>] Batch [1150/2077] mAP: 0.23737\n",
      "[2019-05-31 10:47:28,128 <ipython-input-2-7667fb18f09c>] Batch [1151/2077] mAP: 0.23761\n",
      "[2019-05-31 10:47:28,177 <ipython-input-2-7667fb18f09c>] Batch [1152/2077] mAP: 0.23754\n"
     ]
    },
    {
     "name": "stdout",
     "output_type": "stream",
     "text": [
      "Pred: tensor([[ 38.8942, 297.6425, 113.1467, 371.4759]], device='cuda:0')\n",
      "GT: tensor([[  8.7447, 299.5200,  94.9429, 382.7200]], device='cuda:0')\n",
      "Pred: tensor([[138.9734, 190.3491, 199.1723, 465.6278]], device='cuda:0')\n",
      "GT: tensor([[131.1712, 248.7680, 216.1201, 400.1920]], device='cuda:0')\n",
      "Pred: tensor([[139.3971,  67.4031, 287.8564, 342.5344]], device='cuda:0')\n",
      "GT: tensor([[115.3707,  61.5680, 299.5200, 321.1520]], device='cuda:0')\n",
      "Pred: tensor([[121.8053, 113.3329, 293.3134, 319.5989]], device='cuda:0')\n",
      "GT: tensor([[135.6160, 109.8240, 241.2800, 331.6907]], device='cuda:0')\n",
      "Pred: tensor([[170.3402, 112.6922, 326.6135, 258.3904]], device='cuda:0')\n",
      "GT: tensor([[ 71.5520,   0.0000, 406.0160, 414.8907]], device='cuda:0')\n"
     ]
    },
    {
     "name": "stderr",
     "output_type": "stream",
     "text": [
      "[2019-05-31 10:47:28,230 <ipython-input-2-7667fb18f09c>] Batch [1153/2077] mAP: 0.23748\n",
      "[2019-05-31 10:47:28,264 <ipython-input-2-7667fb18f09c>] Batch [1154/2077] mAP: 0.23717\n",
      "[2019-05-31 10:47:28,324 <ipython-input-2-7667fb18f09c>] Batch [1155/2077] mAP: 0.23759\n",
      "[2019-05-31 10:47:28,374 <ipython-input-2-7667fb18f09c>] Batch [1156/2077] mAP: 0.23751\n"
     ]
    },
    {
     "name": "stdout",
     "output_type": "stream",
     "text": [
      "Pred: tensor([[243.6205,  55.2436, 367.1187, 436.9030]], device='cuda:0')\n",
      "GT: tensor([[116.4800, 132.7660, 171.3920, 405.8845]], device='cuda:0')\n",
      "Pred: tensor([[243.6205,  55.2436, 367.1187, 436.9030]], device='cuda:0')\n",
      "GT: tensor([[180.5440,  75.8663, 251.2640, 400.8268]], device='cuda:0')\n",
      "Pred: tensor([[243.6205,  55.2436, 367.1187, 436.9030]], device='cuda:0')\n",
      "GT: tensor([[265.4080,  89.7751, 363.5840, 414.7356]], device='cuda:0')\n",
      "Pred: tensor([[ 58.1112,  43.6057, 164.9365, 319.5644]], device='cuda:0')\n",
      "GT: tensor([[ 42.1547,  34.9440, 187.4773, 335.2960]], device='cuda:0')\n",
      "Pred: tensor([[ 58.1112,  43.6057, 164.9365, 319.5644]], device='cuda:0')\n",
      "GT: tensor([[157.5253,  78.2080, 302.8480, 370.2400]], device='cuda:0')\n",
      "Pred: tensor([[158.6436,  77.5975, 266.8093, 351.2561]], device='cuda:0')\n",
      "GT: tensor([[157.5253,  78.2080, 302.8480, 370.2400]], device='cuda:0')\n",
      "Pred: tensor([[ 58.1112,  43.6057, 164.9365, 319.5644]], device='cuda:0')\n",
      "GT: tensor([[234.0693,  39.1040, 393.8133, 324.4800]], device='cuda:0')\n",
      "Pred: tensor([[158.6436,  77.5975, 266.8093, 351.2561]], device='cuda:0')\n",
      "GT: tensor([[234.0693,  39.1040, 393.8133, 324.4800]], device='cuda:0')\n"
     ]
    },
    {
     "name": "stderr",
     "output_type": "stream",
     "text": [
      "[2019-05-31 10:47:28,433 <ipython-input-2-7667fb18f09c>] Batch [1157/2077] mAP: 0.23760\n",
      "[2019-05-31 10:47:28,492 <ipython-input-2-7667fb18f09c>] Batch [1158/2077] mAP: 0.23785\n",
      "[2019-05-31 10:47:28,536 <ipython-input-2-7667fb18f09c>] Batch [1159/2077] mAP: 0.23739\n",
      "[2019-05-31 10:47:28,594 <ipython-input-2-7667fb18f09c>] Batch [1160/2077] mAP: 0.23731\n"
     ]
    },
    {
     "name": "stdout",
     "output_type": "stream",
     "text": [
      "Pred: tensor([[ -0.4960, 193.4641,  99.0822, 273.8178]], device='cuda:0')\n",
      "GT: tensor([[108.9920, 199.8799, 149.7600, 254.8468]], device='cuda:0')\n",
      "Pred: tensor([[ -0.4960, 193.4641,  99.0822, 273.8178]], device='cuda:0')\n",
      "GT: tensor([[ 18.3040, 197.3814,  86.5280, 277.3333]], device='cuda:0')\n",
      "Pred: tensor([[316.4458,  94.1548, 367.1898, 252.7688]], device='cuda:0')\n",
      "GT: tensor([[333.6320, 119.9279, 361.0880, 227.3634]], device='cuda:0')\n",
      "Pred: tensor([[183.0750,  92.1227, 360.2148, 392.6875]], device='cuda:0')\n",
      "GT: tensor([[175.5520,  25.1360, 398.5280, 414.7432]], device='cuda:0')\n"
     ]
    },
    {
     "name": "stderr",
     "output_type": "stream",
     "text": [
      "[2019-05-31 10:47:28,641 <ipython-input-2-7667fb18f09c>] Batch [1161/2077] mAP: 0.23723\n",
      "[2019-05-31 10:47:28,694 <ipython-input-2-7667fb18f09c>] Batch [1162/2077] mAP: 0.23716\n",
      "[2019-05-31 10:47:28,737 <ipython-input-2-7667fb18f09c>] Batch [1163/2077] mAP: 0.23700\n",
      "[2019-05-31 10:47:28,773 <ipython-input-2-7667fb18f09c>] Batch [1164/2077] mAP: 0.23693\n",
      "[2019-05-31 10:47:28,813 <ipython-input-2-7667fb18f09c>] Batch [1165/2077] mAP: 0.23710\n",
      "[2019-05-31 10:47:28,879 <ipython-input-2-7667fb18f09c>] Batch [1166/2077] mAP: 0.23751\n",
      "[2019-05-31 10:47:28,941 <ipython-input-2-7667fb18f09c>] Batch [1167/2077] mAP: 0.23768\n",
      "[2019-05-31 10:47:28,987 <ipython-input-2-7667fb18f09c>] Batch [1168/2077] mAP: 0.23760\n"
     ]
    },
    {
     "name": "stdout",
     "output_type": "stream",
     "text": [
      "Pred: tensor([[179.4654, 123.4021, 288.7900, 422.7258]], device='cuda:0')\n",
      "GT: tensor([[183.8720, 137.5573, 277.8880, 414.8907]], device='cuda:0')\n",
      "Pred: tensor([[135.2399, 172.8759, 340.0022, 322.0766]], device='cuda:0')\n",
      "GT: tensor([[124.8000, 169.6536, 354.4320, 341.6313]], device='cuda:0')\n",
      "Pred: tensor([[135.2399, 172.8759, 340.0022, 322.0766]], device='cuda:0')\n",
      "GT: tensor([[158.9120, 166.1676, 327.8080, 330.0112]], device='cuda:0')\n",
      "Pred: tensor([[135.2399, 172.8759, 340.0022, 322.0766]], device='cuda:0')\n",
      "GT: tensor([[165.5680, 249.8324, 287.8720, 319.5531]], device='cuda:0')\n",
      "Pred: tensor([[126.9032,  43.8168, 236.5566, 414.6113]], device='cuda:0')\n",
      "GT: tensor([[132.2880,  73.2160, 216.3200, 358.3147]], device='cuda:0')\n",
      "Pred: tensor([[-12.8419,  37.8521, 444.0806, 379.0056]], device='cuda:0')\n",
      "GT: tensor([[ 88.1920,  15.5307, 381.8880, 274.0053]], device='cuda:0')\n"
     ]
    },
    {
     "name": "stderr",
     "output_type": "stream",
     "text": [
      "[2019-05-31 10:47:29,051 <ipython-input-2-7667fb18f09c>] Batch [1169/2077] mAP: 0.23692\n",
      "[2019-05-31 10:47:29,105 <ipython-input-2-7667fb18f09c>] Batch [1170/2077] mAP: 0.23684\n",
      "[2019-05-31 10:47:29,148 <ipython-input-2-7667fb18f09c>] Batch [1171/2077] mAP: 0.23661\n",
      "[2019-05-31 10:47:29,211 <ipython-input-2-7667fb18f09c>] Batch [1172/2077] mAP: 0.23686\n"
     ]
    },
    {
     "name": "stdout",
     "output_type": "stream",
     "text": [
      "Pred: tensor([[129.5367, 202.3763, 160.1911, 278.3114]], device='cuda:0')\n",
      "GT: tensor([[  0.0000, 173.8880, 167.5093, 415.1680]], device='cuda:0')\n",
      "Pred: tensor([[129.5367, 202.3763, 160.1911, 278.3114]], device='cuda:0')\n",
      "GT: tensor([[140.8853, 217.1520, 309.5040, 415.1680]], device='cuda:0')\n",
      "Pred: tensor([[129.5367, 202.3763, 160.1911, 278.3114]], device='cuda:0')\n",
      "GT: tensor([[287.3173, 219.6480, 346.1120, 331.9680]], device='cuda:0')\n",
      "Pred: tensor([[129.5367, 202.3763, 160.1911, 278.3114]], device='cuda:0')\n",
      "GT: tensor([[115.3707, 207.1680, 190.8053, 300.3520]], device='cuda:0')\n",
      "Pred: tensor([[129.5367, 202.3763, 160.1911, 278.3114]], device='cuda:0')\n",
      "GT: tensor([[  0.0000, 190.5280,  34.3893, 250.4320]], device='cuda:0')\n",
      "Pred: tensor([[129.5367, 202.3763, 160.1911, 278.3114]], device='cuda:0')\n",
      "GT: tensor([[145.3227, 200.5120, 154.1973, 212.1600]], device='cuda:0')\n",
      "Pred: tensor([[-28.6654, 132.5633, 439.9336, 354.2766]], device='cuda:0')\n",
      "GT: tensor([[  0.0000, 109.8240, 391.8720, 363.8613]], device='cuda:0')\n"
     ]
    },
    {
     "name": "stderr",
     "output_type": "stream",
     "text": [
      "[2019-05-31 10:47:29,264 <ipython-input-2-7667fb18f09c>] Batch [1173/2077] mAP: 0.23710\n",
      "[2019-05-31 10:47:29,320 <ipython-input-2-7667fb18f09c>] Batch [1174/2077] mAP: 0.23704\n",
      "[2019-05-31 10:47:29,366 <ipython-input-2-7667fb18f09c>] Batch [1175/2077] mAP: 0.23714\n",
      "[2019-05-31 10:47:29,415 <ipython-input-2-7667fb18f09c>] Batch [1176/2077] mAP: 0.23762\n",
      "[2019-05-31 10:47:29,450 <ipython-input-2-7667fb18f09c>] Batch [1177/2077] mAP: 0.23740\n"
     ]
    },
    {
     "name": "stdout",
     "output_type": "stream",
     "text": [
      "Pred: tensor([[ 75.0716,  80.3536, 284.1768, 388.9743]], device='cuda:0')\n",
      "GT: tensor([[107.6053,  62.4000, 267.3493, 349.4400]], device='cuda:0')\n",
      "Pred: tensor([[ 35.9618, 137.7780, 303.9741, 342.2190]], device='cuda:0')\n",
      "GT: tensor([[ 33.2800, 106.4960, 294.5280, 368.2987]], device='cuda:0')\n",
      "Pred: tensor([[198.4547,  11.2331, 276.1578,  68.1272]], device='cuda:0')\n",
      "GT: tensor([[217.1520,   8.8747, 261.2480,  53.2480]], device='cuda:0')\n",
      "Pred: tensor([[198.4547,  11.2331, 276.1578,  68.1272]], device='cuda:0')\n",
      "GT: tensor([[234.6240,   1.1093, 275.3920,  41.0453]], device='cuda:0')\n",
      "Pred: tensor([[ 80.7386,  81.6001, 261.2125, 325.8908]], device='cuda:0')\n",
      "GT: tensor([[  5.8240,  22.1867, 337.7920, 352.7680]], device='cuda:0')\n",
      "Pred: tensor([[298.8061, 151.7213, 420.5871, 389.4847]], device='cuda:0')\n",
      "GT: tensor([[307.8400, 132.0107, 415.1680, 414.8907]], device='cuda:0')\n",
      "Pred: tensor([[160.3133, 270.1691, 325.5295, 386.0636]], device='cuda:0')\n",
      "GT: tensor([[141.4400, 264.3008, 347.7760, 390.9774]], device='cuda:0')\n",
      "Pred: tensor([[160.3133, 270.1691, 325.5295, 386.0636]], device='cuda:0')\n",
      "GT: tensor([[  0.0000, 262.7368, 113.9840, 409.7444]], device='cuda:0')\n",
      "Pred: tensor([[-43.0369, 247.1005, 142.9671, 413.3394]], device='cuda:0')\n",
      "GT: tensor([[  0.0000, 262.7368, 113.9840, 409.7444]], device='cuda:0')\n"
     ]
    },
    {
     "name": "stderr",
     "output_type": "stream",
     "text": [
      "[2019-05-31 10:47:29,489 <ipython-input-2-7667fb18f09c>] Batch [1178/2077] mAP: 0.23732\n",
      "[2019-05-31 10:47:29,529 <ipython-input-2-7667fb18f09c>] Batch [1179/2077] mAP: 0.23749\n",
      "[2019-05-31 10:47:29,623 <ipython-input-2-7667fb18f09c>] Batch [1180/2077] mAP: 0.23752\n",
      "[2019-05-31 10:47:29,664 <ipython-input-2-7667fb18f09c>] Batch [1181/2077] mAP: 0.23776\n"
     ]
    },
    {
     "name": "stdout",
     "output_type": "stream",
     "text": [
      "Pred: tensor([[179.7818, 108.5056, 365.4736, 373.4879]], device='cuda:0')\n",
      "GT: tensor([[ 92.3520,   0.0000, 409.3440, 414.8665]], device='cuda:0')\n",
      "Pred: tensor([[110.4008,  67.8073, 317.4560, 301.2098]], device='cuda:0')\n",
      "GT: tensor([[ 94.8480,  27.4835, 341.9520, 398.5105]], device='cuda:0')\n",
      "Pred: tensor([[ 53.7389, 113.0091, 224.6187, 370.9877]], device='cuda:0')\n",
      "GT: tensor([[ 71.5520,  62.1227, 178.0480, 414.8907]], device='cuda:0')\n",
      "Pred: tensor([[ 53.7389, 113.0091, 224.6187, 370.9877]], device='cuda:0')\n",
      "GT: tensor([[221.3120,  61.0133, 251.2640, 164.1813]], device='cuda:0')\n",
      "Pred: tensor([[218.4065,  71.6220, 256.5488, 153.3523]], device='cuda:0')\n",
      "GT: tensor([[221.3120,  61.0133, 251.2640, 164.1813]], device='cuda:0')\n",
      "Pred: tensor([[ 53.7389, 113.0091, 224.6187, 370.9877]], device='cuda:0')\n",
      "GT: tensor([[ 78.2080,  90.9653, 111.4880, 168.6187]], device='cuda:0')\n",
      "Pred: tensor([[218.4065,  71.6220, 256.5488, 153.3523]], device='cuda:0')\n",
      "GT: tensor([[ 78.2080,  90.9653, 111.4880, 168.6187]], device='cuda:0')\n",
      "Pred: tensor([[ 53.7389, 113.0091, 224.6187, 370.9877]], device='cuda:0')\n",
      "GT: tensor([[ 39.1040, 104.2773,  58.2400, 168.6187]], device='cuda:0')\n",
      "Pred: tensor([[218.4065,  71.6220, 256.5488, 153.3523]], device='cuda:0')\n",
      "GT: tensor([[ 39.1040, 104.2773,  58.2400, 168.6187]], device='cuda:0')\n",
      "Pred: tensor([[ 53.7389, 113.0091, 224.6187, 370.9877]], device='cuda:0')\n",
      "GT: tensor([[ 51.5840,  95.4027,  72.3840, 169.7280]], device='cuda:0')\n",
      "Pred: tensor([[218.4065,  71.6220, 256.5488, 153.3523]], device='cuda:0')\n",
      "GT: tensor([[ 51.5840,  95.4027,  72.3840, 169.7280]], device='cuda:0')\n",
      "Pred: tensor([[ 53.7389, 113.0091, 224.6187, 370.9877]], device='cuda:0')\n",
      "GT: tensor([[ 69.0560,  95.4027,  88.1920, 169.7280]], device='cuda:0')\n",
      "Pred: tensor([[218.4065,  71.6220, 256.5488, 153.3523]], device='cuda:0')\n",
      "GT: tensor([[ 69.0560,  95.4027,  88.1920, 169.7280]], device='cuda:0')\n",
      "Pred: tensor([[151.1281,  42.7433, 337.9264, 362.5214]], device='cuda:0')\n",
      "GT: tensor([[166.4000,  14.9910, 333.6320, 408.5045]], device='cuda:0')\n"
     ]
    },
    {
     "name": "stderr",
     "output_type": "stream",
     "text": [
      "[2019-05-31 10:47:29,704 <ipython-input-2-7667fb18f09c>] Batch [1182/2077] mAP: 0.23800\n",
      "[2019-05-31 10:47:29,739 <ipython-input-2-7667fb18f09c>] Batch [1183/2077] mAP: 0.23785\n",
      "[2019-05-31 10:47:29,789 <ipython-input-2-7667fb18f09c>] Batch [1184/2077] mAP: 0.23778\n",
      "[2019-05-31 10:47:29,840 <ipython-input-2-7667fb18f09c>] Batch [1185/2077] mAP: 0.23794\n",
      "[2019-05-31 10:47:29,880 <ipython-input-2-7667fb18f09c>] Batch [1186/2077] mAP: 0.23764\n"
     ]
    },
    {
     "name": "stdout",
     "output_type": "stream",
     "text": [
      "Pred: tensor([[101.3509,  86.2884, 261.8042, 399.2783]], device='cuda:0')\n",
      "GT: tensor([[105.3867,  61.5680, 292.8640, 415.1680]], device='cuda:0')\n",
      "Pred: tensor([[125.0812,  72.7030, 362.1525, 413.9338]], device='cuda:0')\n",
      "GT: tensor([[136.9909,  99.0080, 359.4441, 401.8560]], device='cuda:0')\n"
     ]
    },
    {
     "name": "stderr",
     "output_type": "stream",
     "text": [
      "[2019-05-31 10:47:29,920 <ipython-input-2-7667fb18f09c>] Batch [1187/2077] mAP: 0.23781\n",
      "[2019-05-31 10:47:29,966 <ipython-input-2-7667fb18f09c>] Batch [1188/2077] mAP: 0.23829\n",
      "[2019-05-31 10:47:30,007 <ipython-input-2-7667fb18f09c>] Batch [1189/2077] mAP: 0.23831\n",
      "[2019-05-31 10:47:30,045 <ipython-input-2-7667fb18f09c>] Batch [1190/2077] mAP: 0.23823\n",
      "[2019-05-31 10:47:30,099 <ipython-input-2-7667fb18f09c>] Batch [1191/2077] mAP: 0.23825\n"
     ]
    },
    {
     "name": "stdout",
     "output_type": "stream",
     "text": [
      "Pred: tensor([[-3.8058e-01,  2.5054e+02,  1.5203e+02,  4.1409e+02]], device='cuda:0')\n",
      "GT: tensor([[  0.0000, 255.5745, 147.2640, 414.8936]], device='cuda:0')\n",
      "Pred: tensor([[ 69.3379,  94.3283, 283.4965, 368.0952]], device='cuda:0')\n",
      "GT: tensor([[ 47.4240, 104.9369, 277.0560, 356.0360]], device='cuda:0')\n",
      "Pred: tensor([[115.3366, 104.5668, 252.5470, 311.6215]], device='cuda:0')\n",
      "GT: tensor([[139.7760,  56.2162, 237.1200, 326.0540]], device='cuda:0')\n",
      "Pred: tensor([[ 71.1203, 140.3899, 269.1894, 395.4355]], device='cuda:0')\n",
      "GT: tensor([[ 61.5680, 113.1520, 249.6000, 403.7973]], device='cuda:0')\n",
      "Pred: tensor([[184.8321, 163.7062, 310.5067, 363.4163]], device='cuda:0')\n",
      "GT: tensor([[123.1360,  94.8480, 414.8907, 415.1680]], device='cuda:0')\n",
      "Pred: tensor([[ 11.7982, 105.1713, 348.3702, 303.8717]], device='cuda:0')\n",
      "GT: tensor([[  0.0000, 102.0587, 408.5120, 293.9733]], device='cuda:0')\n",
      "Pred: tensor([[ 11.7982, 105.1713, 348.3702, 303.8717]], device='cuda:0')\n",
      "GT: tensor([[  0.0000, 239.6160,  79.8720, 270.6773]], device='cuda:0')\n",
      "Pred: tensor([[ 11.7982, 105.1713, 348.3702, 303.8717]], device='cuda:0')\n",
      "GT: tensor([[352.7680, 256.2560, 392.7040, 268.4587]], device='cuda:0')\n",
      "Pred: tensor([[ 11.7982, 105.1713, 348.3702, 303.8717]], device='cuda:0')\n",
      "GT: tensor([[406.8480, 247.3813, 415.1680, 264.0213]], device='cuda:0')\n"
     ]
    },
    {
     "name": "stderr",
     "output_type": "stream",
     "text": [
      "[2019-05-31 10:47:30,173 <ipython-input-2-7667fb18f09c>] Batch [1192/2077] mAP: 0.23765\n",
      "[2019-05-31 10:47:30,229 <ipython-input-2-7667fb18f09c>] Batch [1193/2077] mAP: 0.23757\n",
      "[2019-05-31 10:47:30,284 <ipython-input-2-7667fb18f09c>] Batch [1194/2077] mAP: 0.23705\n",
      "[2019-05-31 10:47:30,331 <ipython-input-2-7667fb18f09c>] Batch [1195/2077] mAP: 0.23729\n",
      "[2019-05-31 10:47:30,373 <ipython-input-2-7667fb18f09c>] Batch [1196/2077] mAP: 0.23745\n"
     ]
    },
    {
     "name": "stdout",
     "output_type": "stream",
     "text": [
      "Pred: tensor([[133.2615, 108.6826, 296.8325, 319.2617]], device='cuda:0')\n",
      "GT: tensor([[162.2400,  79.9520, 271.2320, 402.2583]], device='cuda:0')\n",
      "Pred: tensor([[166.1207, 145.7619, 233.8664, 286.8181]], device='cuda:0')\n",
      "GT: tensor([[162.2400,  79.9520, 271.2320, 402.2583]], device='cuda:0')\n",
      "Pred: tensor([[-22.6294,  42.7521, 439.6188, 370.2572]], device='cuda:0')\n",
      "GT: tensor([[  0.0000,   0.0000, 378.5600, 414.8634]], device='cuda:0')\n",
      "Pred: tensor([[331.6017,   1.5766, 407.7785, 103.4347]], device='cuda:0')\n",
      "GT: tensor([[341.7143,   1.6640, 414.7619, 113.9840]], device='cuda:0')\n",
      "Pred: tensor([[302.6212, 268.5853, 375.5302, 403.2194]], device='cuda:0')\n",
      "GT: tensor([[105.3867, 235.4560, 154.1973, 341.1200]], device='cuda:0')\n",
      "Pred: tensor([[302.6212, 268.5853, 375.5302, 403.2194]], device='cuda:0')\n",
      "GT: tensor([[312.8320, 272.0640, 364.9707, 396.8640]], device='cuda:0')\n",
      "Pred: tensor([[ 40.3447,  75.2577, 248.5525, 336.3700]], device='cuda:0')\n",
      "GT: "
     ]
    },
    {
     "name": "stderr",
     "output_type": "stream",
     "text": [
      "[2019-05-31 10:47:30,429 <ipython-input-2-7667fb18f09c>] Batch [1197/2077] mAP: 0.23771\n",
      "[2019-05-31 10:47:30,480 <ipython-input-2-7667fb18f09c>] Batch [1198/2077] mAP: 0.23795\n",
      "[2019-05-31 10:47:30,560 <ipython-input-2-7667fb18f09c>] Batch [1199/2077] mAP: 0.23728\n",
      "[2019-05-31 10:47:30,611 <ipython-input-2-7667fb18f09c>] Batch [1200/2077] mAP: 0.23737\n"
     ]
    },
    {
     "name": "stdout",
     "output_type": "stream",
     "text": [
      "tensor([[ 34.3893,  79.0400, 236.2880, 312.0000]], device='cuda:0')\n",
      "Pred: tensor([[ 40.3447,  75.2577, 248.5525, 336.3700]], device='cuda:0')\n",
      "GT: tensor([[174.1653, 122.3040, 393.8133, 333.6320]], device='cuda:0')\n",
      "Pred: tensor([[ 61.8281,  27.7538, 366.0815, 382.8669]], device='cuda:0')\n",
      "GT: tensor([[  0.0000,  35.4882, 415.1680, 415.0142]], device='cuda:0')\n",
      "Pred: tensor([[249.6826, 262.9933, 292.8751, 347.9855]], device='cuda:0')\n",
      "GT: tensor([[257.9200, 269.5680, 277.8880, 345.0027]], device='cuda:0')\n",
      "Pred: tensor([[249.6826, 262.9933, 292.8751, 347.9855]], device='cuda:0')\n",
      "GT: tensor([[282.0480, 269.5680, 302.0160, 342.7840]], device='cuda:0')\n",
      "Pred: tensor([[249.6826, 262.9933, 292.8751, 347.9855]], device='cuda:0')\n",
      "GT: tensor([[293.6960, 270.6773, 311.1680, 337.2373]], device='cuda:0')\n",
      "Pred: tensor([[249.6826, 262.9933, 292.8751, 347.9855]], device='cuda:0')\n",
      "GT: tensor([[337.7920, 267.3493, 357.7600, 327.2533]], device='cuda:0')\n",
      "Pred: tensor([[249.6826, 262.9933, 292.8751, 347.9855]], device='cuda:0')\n",
      "GT: tensor([[383.5520, 271.7867, 392.7040, 301.7387]], device='cuda:0')\n",
      "Pred: tensor([[158.8933, 114.9603, 252.0873, 360.2603]], device='cuda:0')\n",
      "GT: tensor([[ 24.1280,  58.7947, 157.2480, 414.8907]], device='cuda:0')\n",
      "Pred: tensor([[158.8933, 114.9603, 252.0873, 360.2603]], device='cuda:0')\n",
      "GT: tensor([[245.4400,  29.9520, 393.5360, 414.8907]], device='cuda:0')\n",
      "Pred: tensor([[158.8933, 114.9603, 252.0873, 360.2603]], device='cuda:0')\n",
      "GT: tensor([[153.0880,  74.3253, 257.0880, 414.8907]], device='cuda:0')\n"
     ]
    },
    {
     "name": "stderr",
     "output_type": "stream",
     "text": [
      "[2019-05-31 10:47:30,649 <ipython-input-2-7667fb18f09c>] Batch [1201/2077] mAP: 0.23761\n",
      "[2019-05-31 10:47:30,708 <ipython-input-2-7667fb18f09c>] Batch [1202/2077] mAP: 0.23746\n",
      "[2019-05-31 10:47:30,751 <ipython-input-2-7667fb18f09c>] Batch [1203/2077] mAP: 0.23738\n",
      "[2019-05-31 10:47:30,818 <ipython-input-2-7667fb18f09c>] Batch [1204/2077] mAP: 0.23687\n"
     ]
    },
    {
     "name": "stdout",
     "output_type": "stream",
     "text": [
      "Pred: tensor([[256.8475,  87.9767, 404.1390, 321.3365]], device='cuda:0')\n",
      "GT: tensor([[153.0880,  88.6967, 415.1680, 344.7928]], device='cuda:0')\n",
      "Pred: tensor([[116.5573,  76.4503, 175.6279, 143.0881]], device='cuda:0')\n",
      "GT: tensor([[134.7840,  56.2479, 173.8880, 174.6028]], device='cuda:0')\n",
      "Pred: tensor([[116.5573,  76.4503, 175.6279, 143.0881]], device='cuda:0')\n",
      "GT: tensor([[213.8240,  71.4817, 326.1440, 414.8282]], device='cuda:0')\n"
     ]
    },
    {
     "name": "stderr",
     "output_type": "stream",
     "text": [
      "[2019-05-31 10:47:30,859 <ipython-input-2-7667fb18f09c>] Batch [1205/2077] mAP: 0.23679\n",
      "[2019-05-31 10:47:30,904 <ipython-input-2-7667fb18f09c>] Batch [1206/2077] mAP: 0.23657\n",
      "[2019-05-31 10:47:30,943 <ipython-input-2-7667fb18f09c>] Batch [1207/2077] mAP: 0.23643\n",
      "[2019-05-31 10:47:30,979 <ipython-input-2-7667fb18f09c>] Batch [1208/2077] mAP: 0.23666\n",
      "[2019-05-31 10:47:31,020 <ipython-input-2-7667fb18f09c>] Batch [1209/2077] mAP: 0.23690\n",
      "[2019-05-31 10:47:31,053 <ipython-input-2-7667fb18f09c>] Batch [1210/2077] mAP: 0.23661\n",
      "[2019-05-31 10:47:31,085 <ipython-input-2-7667fb18f09c>] Batch [1211/2077] mAP: 0.23653\n"
     ]
    },
    {
     "name": "stdout",
     "output_type": "stream",
     "text": [
      "Pred: tensor([[43.3307, 26.4338, 57.8076, 76.8404]], device='cuda:0')\n",
      "GT: tensor([[38.2720, 41.0453, 55.7440, 69.8880]], device='cuda:0')\n",
      "Pred: tensor([[43.3307, 26.4338, 57.8076, 76.8404]], device='cuda:0')\n",
      "GT: tensor([[54.9120, 43.2640, 73.2160, 68.7787]], device='cuda:0')\n",
      "Pred: tensor([[ 17.5996, 156.5049, 343.0919, 247.8135]], device='cuda:0')\n",
      "GT: tensor([[ 82.3680, 174.1653, 276.2240, 214.1013]], device='cuda:0')\n",
      "Pred: tensor([[ 53.3370, -28.3750, 364.2367, 443.0927]], device='cuda:0')\n",
      "GT: tensor([[ 94.8480,  24.4053, 354.4320, 414.8907]], device='cuda:0')\n",
      "Pred: tensor([[ 28.2147,  70.2967, 385.6012, 395.5079]], device='cuda:0')\n",
      "GT: tensor([[  3.9000,  37.6227, 390.0000, 411.7003]], device='cuda:0')\n"
     ]
    },
    {
     "name": "stderr",
     "output_type": "stream",
     "text": [
      "[2019-05-31 10:47:31,151 <ipython-input-2-7667fb18f09c>] Batch [1212/2077] mAP: 0.23624\n",
      "[2019-05-31 10:47:31,210 <ipython-input-2-7667fb18f09c>] Batch [1213/2077] mAP: 0.23648\n",
      "[2019-05-31 10:47:31,273 <ipython-input-2-7667fb18f09c>] Batch [1214/2077] mAP: 0.23671\n",
      "[2019-05-31 10:47:31,335 <ipython-input-2-7667fb18f09c>] Batch [1215/2077] mAP: 0.23649\n"
     ]
    },
    {
     "name": "stdout",
     "output_type": "stream",
     "text": [
      "Pred: tensor([[ 40.7817, 242.0031, 123.0560, 372.5602]], device='cuda:0')\n",
      "GT: tensor([[ 34.1120, 209.6640, 158.9120, 414.8907]], device='cuda:0')\n",
      "Pred: tensor([[ 40.7817, 242.0031, 123.0560, 372.5602]], device='cuda:0')\n",
      "GT: tensor([[ 21.6320,   0.0000, 376.0640, 414.8907]], device='cuda:0')\n",
      "Pred: tensor([[149.7909, 132.2689, 261.1875, 339.3788]], device='cuda:0')\n",
      "GT: tensor([[ 89.0240, 126.5542, 293.6960, 347.0844]], device='cuda:0')\n",
      "Pred: tensor([[102.9898, 159.8498, 176.2172, 251.5902]], device='cuda:0')\n",
      "GT: tensor([[109.8240, 167.3994, 163.0720, 237.3574]], device='cuda:0')\n",
      "Pred: tensor([[ 39.5719,  52.4791, 439.9173, 438.4798]], device='cuda:0')\n",
      "GT: tensor([[101.5040,  80.9813, 229.6320, 378.2827]], device='cuda:0')\n",
      "Pred: tensor([[ 39.5719,  52.4791, 439.9173, 438.4798]], device='cuda:0')\n",
      "GT: tensor([[227.1360,  77.6533, 356.9280, 374.9547]], device='cuda:0')\n",
      "Pred: tensor([[ 39.5719,  52.4791, 439.9173, 438.4798]], device='cuda:0')\n",
      "GT: tensor([[  0.0000,  95.4027,  61.5680, 400.4693]], device='cuda:0')\n"
     ]
    },
    {
     "name": "stderr",
     "output_type": "stream",
     "text": [
      "[2019-05-31 10:47:31,401 <ipython-input-2-7667fb18f09c>] Batch [1216/2077] mAP: 0.23658\n",
      "[2019-05-31 10:47:31,471 <ipython-input-2-7667fb18f09c>] Batch [1217/2077] mAP: 0.23691\n",
      "[2019-05-31 10:47:31,511 <ipython-input-2-7667fb18f09c>] Batch [1218/2077] mAP: 0.23625\n",
      "[2019-05-31 10:47:31,570 <ipython-input-2-7667fb18f09c>] Batch [1219/2077] mAP: 0.23634\n"
     ]
    },
    {
     "name": "stdout",
     "output_type": "stream",
     "text": [
      "Pred: tensor([[ 39.8950, 123.2689, 133.8449, 427.4972]], device='cuda:0')\n",
      "GT: tensor([[119.1910,  38.2720, 406.6517, 415.1680]], device='cuda:0')\n",
      "Pred: tensor([[ 39.8950, 123.2689, 133.8449, 427.4972]], device='cuda:0')\n",
      "GT: tensor([[ 18.6966, 106.4960, 177.6180, 415.1680]], device='cuda:0')\n",
      "Pred: tensor([[188.9633, 178.4236, 289.9297, 369.2624]], device='cuda:0')\n",
      "GT: tensor([[ 61.2132, 148.0960, 196.1321, 415.1680]], device='cuda:0')\n",
      "Pred: tensor([[172.0276, 133.7003, 425.9969, 418.4761]], device='cuda:0')\n",
      "GT: tensor([[ 61.2132, 148.0960, 196.1321, 415.1680]], device='cuda:0')\n",
      "Pred: tensor([[188.9633, 178.4236, 289.9297, 369.2624]], device='cuda:0')\n",
      "GT: tensor([[229.8619, 142.2720, 388.5165, 415.1680]], device='cuda:0')\n",
      "Pred: tensor([[172.0276, 133.7003, 425.9969, 418.4761]], device='cuda:0')\n",
      "GT: tensor([[229.8619, 142.2720, 388.5165, 415.1680]], device='cuda:0')\n",
      "Pred: tensor([[188.9633, 178.4236, 289.9297, 369.2624]], device='cuda:0')\n",
      "GT: tensor([[188.6366, 145.6000, 322.3063, 415.1680]], device='cuda:0')\n",
      "Pred: tensor([[132.2110, 272.5609, 279.7538, 398.7614]], device='cuda:0')\n",
      "GT: tensor([[157.4054,  71.5520, 414.7508, 415.1680]], device='cuda:0')\n",
      "Pred: tensor([[ 30.4871, 130.6293, 198.5740, 419.9061]], device='cuda:0')\n",
      "GT: tensor([[157.4054,  71.5520, 414.7508, 415.1680]], device='cuda:0')\n",
      "Pred: tensor([[132.2110, 272.5609, 279.7538, 398.7614]], device='cuda:0')\n",
      "GT: tensor([[  0.0000, 133.9520, 341.0450, 415.1680]], device='cuda:0')\n",
      "Pred: tensor([[ 30.4871, 130.6293, 198.5740, 419.9061]], device='cuda:0')\n",
      "GT: tensor([[  0.0000, 133.9520, 341.0450, 415.1680]], device='cuda:0')\n",
      "Pred: tensor([[132.2110, 272.5609, 279.7538, 398.7614]], device='cuda:0')\n",
      "GT: tensor([[ 41.2252, 274.5600, 287.3273, 415.1680]], device='cuda:0')\n"
     ]
    },
    {
     "name": "stderr",
     "output_type": "stream",
     "text": [
      "[2019-05-31 10:47:31,623 <ipython-input-2-7667fb18f09c>] Batch [1220/2077] mAP: 0.23627\n",
      "[2019-05-31 10:47:31,670 <ipython-input-2-7667fb18f09c>] Batch [1221/2077] mAP: 0.23620\n",
      "[2019-05-31 10:47:31,762 <ipython-input-2-7667fb18f09c>] Batch [1222/2077] mAP: 0.23621\n",
      "[2019-05-31 10:47:31,824 <ipython-input-2-7667fb18f09c>] Batch [1223/2077] mAP: 0.23614\n"
     ]
    },
    {
     "name": "stdout",
     "output_type": "stream",
     "text": [
      "Pred: tensor([[124.1528, 156.3578, 293.8397, 314.0730]], device='cuda:0')\n",
      "GT: tensor([[148.6607, 187.2000, 276.0841, 275.3920]], device='cuda:0')\n",
      "Pred: tensor([[103.8418, 157.0468, 193.4544, 393.2177]], device='cuda:0')\n",
      "GT: tensor([[306.1760, 103.1680, 415.1680, 414.8907]], device='cuda:0')\n",
      "Pred: tensor([[148.9226, 129.2596, 337.5496, 420.3720]], device='cuda:0')\n",
      "GT: tensor([[306.1760, 103.1680, 415.1680, 414.8907]], device='cuda:0')\n",
      "Pred: tensor([[103.8418, 157.0468, 193.4544, 393.2177]], device='cuda:0')\n",
      "GT: tensor([[172.2240, 138.6667, 321.9840, 414.8907]], device='cuda:0')\n",
      "Pred: tensor([[148.9226, 129.2596, 337.5496, 420.3720]], device='cuda:0')\n",
      "GT: tensor([[172.2240, 138.6667, 321.9840, 414.8907]], device='cuda:0')\n",
      "Pred: tensor([[103.8418, 157.0468, 193.4544, 393.2177]], device='cuda:0')\n",
      "GT: tensor([[  0.0000, 134.2293, 209.6640, 414.8907]], device='cuda:0')\n",
      "Pred: tensor([[148.9226, 129.2596, 337.5496, 420.3720]], device='cuda:0')\n",
      "GT: tensor([[  0.0000, 134.2293, 209.6640, 414.8907]], device='cuda:0')\n",
      "Pred: tensor([[108.7803, 193.0547, 328.9857, 362.0210]], device='cuda:0')\n",
      "GT: tensor([[199.6800, 188.0142, 278.7200, 284.2420]], device='cuda:0')\n"
     ]
    },
    {
     "name": "stderr",
     "output_type": "stream",
     "text": [
      "[2019-05-31 10:47:31,889 <ipython-input-2-7667fb18f09c>] Batch [1224/2077] mAP: 0.23637\n",
      "[2019-05-31 10:47:31,937 <ipython-input-2-7667fb18f09c>] Batch [1225/2077] mAP: 0.23630\n",
      "[2019-05-31 10:47:31,993 <ipython-input-2-7667fb18f09c>] Batch [1226/2077] mAP: 0.23654\n",
      "[2019-05-31 10:47:32,035 <ipython-input-2-7667fb18f09c>] Batch [1227/2077] mAP: 0.23646\n",
      "[2019-05-31 10:47:32,071 <ipython-input-2-7667fb18f09c>] Batch [1228/2077] mAP: 0.23639\n"
     ]
    },
    {
     "name": "stdout",
     "output_type": "stream",
     "text": [
      "Pred: tensor([[157.7804, 116.3272, 305.7726, 348.7611]], device='cuda:0')\n",
      "GT: tensor([[147.2640,  75.4347, 336.9600, 414.8907]], device='cuda:0')\n",
      "Pred: tensor([[111.1260, 110.7704, 257.1596, 318.5522]], device='cuda:0')\n",
      "GT: tensor([[ 90.3158,  69.0560, 297.4035, 337.7920]], device='cuda:0')\n"
     ]
    },
    {
     "name": "stderr",
     "output_type": "stream",
     "text": [
      "[2019-05-31 10:47:32,105 <ipython-input-2-7667fb18f09c>] Batch [1229/2077] mAP: 0.23625\n",
      "[2019-05-31 10:47:32,162 <ipython-input-2-7667fb18f09c>] Batch [1230/2077] mAP: 0.23634\n",
      "[2019-05-31 10:47:32,239 <ipython-input-2-7667fb18f09c>] Batch [1231/2077] mAP: 0.23628\n",
      "[2019-05-31 10:47:32,309 <ipython-input-2-7667fb18f09c>] Batch [1232/2077] mAP: 0.23675\n"
     ]
    },
    {
     "name": "stdout",
     "output_type": "stream",
     "text": [
      "Pred: tensor([[146.0940, 116.4351, 263.8117, 300.9100]], device='cuda:0')\n",
      "GT: tensor([[131.7333,  82.0444, 264.3333, 343.2000]], device='cuda:0')\n",
      "Pred: tensor([[190.1199, 146.8577, 292.5472, 395.1586]], device='cuda:0')\n",
      "GT: tensor([[  0.0000, 150.8693, 167.2320, 404.9067]], device='cuda:0')\n",
      "Pred: tensor([[190.1199, 146.8577, 292.5472, 395.1586]], device='cuda:0')\n",
      "GT: tensor([[287.8720, 113.1520, 413.5040, 414.8907]], device='cuda:0')\n",
      "Pred: tensor([[190.1199, 146.8577, 292.5472, 395.1586]], device='cuda:0')\n",
      "GT: tensor([[171.3920, 125.3547, 319.4880, 414.8907]], device='cuda:0')\n",
      "Pred: tensor([[190.1199, 146.8577, 292.5472, 395.1586]], device='cuda:0')\n",
      "GT: tensor([[  0.0000, 242.9440, 227.9680, 414.8907]], device='cuda:0')\n",
      "Pred: tensor([[160.7543, 132.5777, 305.9619, 259.2662]], device='cuda:0')\n",
      "GT: tensor([[201.3440, 148.6607, 264.5760, 227.3634]], device='cuda:0')\n",
      "Pred: tensor([[212.7105, 149.1506, 273.7201, 248.1837]], device='cuda:0')\n",
      "GT: tensor([[201.3440, 148.6607, 264.5760, 227.3634]], device='cuda:0')\n",
      "Pred: tensor([[188.4029, 108.7652, 292.0646, 258.9807]], device='cuda:0')\n",
      "GT: tensor([[210.4960, 143.6637, 270.4000, 223.6156]], device='cuda:0')\n",
      "Pred: tensor([[246.5906, 143.4629, 279.5927, 210.2791]], device='cuda:0')\n",
      "GT: tensor([[210.4960, 143.6637, 270.4000, 223.6156]], device='cuda:0')\n",
      "Pred: tensor([[224.1404, 138.2552, 266.3820, 228.6477]], device='cuda:0')\n",
      "GT: tensor([[210.4960, 143.6637, 270.4000, 223.6156]], device='cuda:0')\n"
     ]
    },
    {
     "name": "stderr",
     "output_type": "stream",
     "text": [
      "[2019-05-31 10:47:32,369 <ipython-input-2-7667fb18f09c>] Batch [1233/2077] mAP: 0.23691\n",
      "[2019-05-31 10:47:32,427 <ipython-input-2-7667fb18f09c>] Batch [1234/2077] mAP: 0.23676\n",
      "[2019-05-31 10:47:32,473 <ipython-input-2-7667fb18f09c>] Batch [1235/2077] mAP: 0.23640\n",
      "[2019-05-31 10:47:32,541 <ipython-input-2-7667fb18f09c>] Batch [1236/2077] mAP: 0.23597\n"
     ]
    },
    {
     "name": "stdout",
     "output_type": "stream",
     "text": [
      "Pred: tensor([[ -1.2646,  79.0944, 148.3290, 338.2607]], device='cuda:0')\n",
      "GT: tensor([[ 16.6400,  52.0000, 133.1200, 399.5122]], device='cuda:0')\n"
     ]
    },
    {
     "name": "stderr",
     "output_type": "stream",
     "text": [
      "[2019-05-31 10:47:32,591 <ipython-input-2-7667fb18f09c>] Batch [1237/2077] mAP: 0.23583\n",
      "[2019-05-31 10:47:32,627 <ipython-input-2-7667fb18f09c>] Batch [1238/2077] mAP: 0.23576\n",
      "[2019-05-31 10:47:32,661 <ipython-input-2-7667fb18f09c>] Batch [1239/2077] mAP: 0.23569\n",
      "[2019-05-31 10:47:32,702 <ipython-input-2-7667fb18f09c>] Batch [1240/2077] mAP: 0.23592\n",
      "[2019-05-31 10:47:32,763 <ipython-input-2-7667fb18f09c>] Batch [1241/2077] mAP: 0.23593\n",
      "[2019-05-31 10:47:32,806 <ipython-input-2-7667fb18f09c>] Batch [1242/2077] mAP: 0.23617\n",
      "[2019-05-31 10:47:32,845 <ipython-input-2-7667fb18f09c>] Batch [1243/2077] mAP: 0.23609\n"
     ]
    },
    {
     "name": "stdout",
     "output_type": "stream",
     "text": [
      "Pred: tensor([[  2.6866, -19.5159, 403.1774, 436.2731]], device='cuda:0')\n",
      "GT: tensor([[  0.0000,   7.4880, 414.7508, 385.2160]], device='cuda:0')\n",
      "Pred: tensor([[ 59.9321, 110.2117, 340.4975, 309.5181]], device='cuda:0')\n",
      "GT: tensor([[ 99.8400,  97.6213, 302.0160, 325.0347]], device='cuda:0')\n",
      "Pred: tensor([[ 59.9321, 110.2117, 340.4975, 309.5181]], device='cuda:0')\n",
      "GT: tensor([[316.9920,  95.4027, 351.1040, 129.7920]], device='cuda:0')\n",
      "Pred: tensor([[ 59.9321, 110.2117, 340.4975, 309.5181]], device='cuda:0')\n",
      "GT: tensor([[  0.0000, 102.0587,  37.4400, 262.9120]], device='cuda:0')\n",
      "Pred: tensor([[ 63.3260,  94.3295, 103.1529, 129.9100]], device='cuda:0')\n",
      "GT: tensor([[ 94.8480,  86.5280, 141.4400, 126.4640]], device='cuda:0')\n",
      "Pred: tensor([[ 85.8859,  98.4373, 134.4643, 123.9809]], device='cuda:0')\n",
      "GT: tensor([[ 94.8480,  86.5280, 141.4400, 126.4640]], device='cuda:0')\n",
      "Pred: tensor([[  4.3471,  29.1254, 403.3912, 377.5340]], device='cuda:0')\n",
      "GT: tensor([[ 18.3040,   0.0000, 415.1680, 348.3373]], device='cuda:0')\n",
      "Pred: tensor([[ 99.0821,  75.3076, 254.2382, 286.7917]], device='cuda:0')\n",
      "GT: tensor([[ 21.6320, 147.7731, 401.0240, 255.8090]], device='cuda:0')\n",
      "Pred: "
     ]
    },
    {
     "name": "stderr",
     "output_type": "stream",
     "text": [
      "[2019-05-31 10:47:32,905 <ipython-input-2-7667fb18f09c>] Batch [1244/2077] mAP: 0.23633\n",
      "[2019-05-31 10:47:32,958 <ipython-input-2-7667fb18f09c>] Batch [1245/2077] mAP: 0.23618\n",
      "[2019-05-31 10:47:33,000 <ipython-input-2-7667fb18f09c>] Batch [1246/2077] mAP: 0.23604\n",
      "[2019-05-31 10:47:33,036 <ipython-input-2-7667fb18f09c>] Batch [1247/2077] mAP: 0.23627\n",
      "[2019-05-31 10:47:33,090 <ipython-input-2-7667fb18f09c>] Batch [1248/2077] mAP: 0.23650\n"
     ]
    },
    {
     "name": "stdout",
     "output_type": "stream",
     "text": [
      "tensor([[ 41.2143,  43.9181, 366.4601, 365.7532]], device='cuda:0')\n",
      "GT: tensor([[  0.0000,  36.6080, 401.8560, 414.8907]], device='cuda:0')\n",
      "Pred: tensor([[379.4099, 268.8594, 409.7047, 342.0525]], device='cuda:0')\n",
      "GT: tensor([[  0.0000,  48.2560, 354.9867, 415.1680]], device='cuda:0')\n",
      "Pred: tensor([[379.4099, 268.8594, 409.7047, 342.0525]], device='cuda:0')\n",
      "GT: tensor([[  8.8747, 255.4240, 274.0053, 353.6000]], device='cuda:0')\n",
      "Pred: tensor([[297.2774,  70.5412, 317.3516, 151.0457]], device='cuda:0')\n",
      "GT: tensor([[371.0720,  24.3404, 415.1680, 146.0426]], device='cuda:0')\n",
      "Pred: tensor([[133.6506, 137.2203, 271.1721, 338.7206]], device='cuda:0')\n",
      "GT: tensor([[125.6320, 128.6827, 277.0560, 327.2533]], device='cuda:0')\n",
      "Pred: tensor([[ 49.0733,  64.6849, 433.4218, 349.0352]], device='cuda:0')\n",
      "GT: tensor([[  0.0000,   0.0000, 415.1680, 414.8907]], device='cuda:0')\n"
     ]
    },
    {
     "name": "stderr",
     "output_type": "stream",
     "text": [
      "[2019-05-31 10:47:33,133 <ipython-input-2-7667fb18f09c>] Batch [1249/2077] mAP: 0.23629\n",
      "[2019-05-31 10:47:33,172 <ipython-input-2-7667fb18f09c>] Batch [1250/2077] mAP: 0.23579\n",
      "[2019-05-31 10:47:33,208 <ipython-input-2-7667fb18f09c>] Batch [1251/2077] mAP: 0.23565\n",
      "[2019-05-31 10:47:33,265 <ipython-input-2-7667fb18f09c>] Batch [1252/2077] mAP: 0.23588\n",
      "[2019-05-31 10:47:33,334 <ipython-input-2-7667fb18f09c>] Batch [1253/2077] mAP: 0.23611\n",
      "[2019-05-31 10:47:33,386 <ipython-input-2-7667fb18f09c>] Batch [1254/2077] mAP: 0.23604\n",
      "[2019-05-31 10:47:33,442 <ipython-input-2-7667fb18f09c>] Batch [1255/2077] mAP: 0.23619\n"
     ]
    },
    {
     "name": "stdout",
     "output_type": "stream",
     "text": [
      "Pred: tensor([[111.1010,  72.9429, 223.3781, 298.2964]], device='cuda:0')\n",
      "GT: tensor([[107.3280,  96.4238, 227.9680, 316.8212]], device='cuda:0')\n",
      "Pred: tensor([[ 73.3099,  88.8810, 327.2462, 252.4496]], device='cuda:0')\n",
      "GT: tensor([[  0.0000,   6.6560, 377.2422, 415.1680]], device='cuda:0')\n",
      "Pred: tensor([[ 40.6357, -47.7495, 321.5557, 448.7593]], device='cuda:0')\n",
      "GT: tensor([[  0.0000,   6.6560, 377.2422, 415.1680]], device='cuda:0')\n",
      "Pred: tensor([[ 37.4246,  73.6662, 380.2597, 286.2121]], device='cuda:0')\n",
      "GT: tensor([[ 28.2880,  64.9610, 409.3440, 252.3483]], device='cuda:0')\n",
      "Pred: tensor([[ 37.4246,  73.6662, 380.2597, 286.2121]], device='cuda:0')\n",
      "GT: tensor([[  0.0000, 148.6607, 164.7360, 247.3513]], device='cuda:0')\n"
     ]
    },
    {
     "name": "stderr",
     "output_type": "stream",
     "text": [
      "[2019-05-31 10:47:33,495 <ipython-input-2-7667fb18f09c>] Batch [1256/2077] mAP: 0.23612\n",
      "[2019-05-31 10:47:33,542 <ipython-input-2-7667fb18f09c>] Batch [1257/2077] mAP: 0.23605\n",
      "[2019-05-31 10:47:33,603 <ipython-input-2-7667fb18f09c>] Batch [1258/2077] mAP: 0.23628\n",
      "[2019-05-31 10:47:33,643 <ipython-input-2-7667fb18f09c>] Batch [1259/2077] mAP: 0.23621\n",
      "[2019-05-31 10:47:33,678 <ipython-input-2-7667fb18f09c>] Batch [1260/2077] mAP: 0.23614\n",
      "[2019-05-31 10:47:33,718 <ipython-input-2-7667fb18f09c>] Batch [1261/2077] mAP: 0.23630\n",
      "[2019-05-31 10:47:33,779 <ipython-input-2-7667fb18f09c>] Batch [1262/2077] mAP: 0.23653\n"
     ]
    },
    {
     "name": "stdout",
     "output_type": "stream",
     "text": [
      "Pred: tensor([[ 70.4205,  11.6411, 338.7332, 363.0600]], device='cuda:0')\n",
      "GT: tensor([[ 64.0640,  24.4053, 336.1280, 354.9867]], device='cuda:0')\n",
      "Pred: tensor([[160.9981,  50.8587, 271.4253, 362.4742]], device='cuda:0')\n",
      "GT: tensor([[186.3680,  74.1277, 252.9280, 337.4468]], device='cuda:0')\n",
      "Pred: tensor([[101.5514,  53.9983, 373.6068, 364.6657]], device='cuda:0')\n",
      "GT: tensor([[  0.0000,  39.1040, 397.2613, 379.3920]], device='cuda:0')\n"
     ]
    },
    {
     "name": "stderr",
     "output_type": "stream",
     "text": [
      "[2019-05-31 10:47:33,838 <ipython-input-2-7667fb18f09c>] Batch [1263/2077] mAP: 0.23676\n",
      "[2019-05-31 10:47:33,900 <ipython-input-2-7667fb18f09c>] Batch [1264/2077] mAP: 0.23668\n",
      "[2019-05-31 10:47:33,960 <ipython-input-2-7667fb18f09c>] Batch [1265/2077] mAP: 0.23647\n"
     ]
    },
    {
     "name": "stdout",
     "output_type": "stream",
     "text": [
      "Pred: tensor([[ 81.5254,  89.3280, 337.1641, 376.5275]], device='cuda:0')\n",
      "GT: tensor([[  4.9920,  99.0476, 374.4000, 371.7199]], device='cuda:0')\n",
      "Pred: tensor([[205.7291, 212.9293, 332.4637, 329.0140]], device='cuda:0')\n",
      "GT: tensor([[247.9360, 224.6400, 312.8320, 317.3486]], device='cuda:0')\n",
      "Pred: tensor([[310.2258, 179.6384, 366.3807, 239.9878]], device='cuda:0')\n",
      "GT: tensor([[355.2640, 250.7093, 385.2160, 336.1280]], device='cuda:0')\n",
      "Pred: tensor([[266.4909, 130.9754, 399.3720, 342.7449]], device='cuda:0')\n",
      "GT: tensor([[304.5120, 106.4960, 415.1680, 277.3333]], device='cuda:0')\n",
      "Pred: tensor([[266.4909, 130.9754, 399.3720, 342.7449]], device='cuda:0')\n",
      "GT: tensor([[254.5920, 127.5733, 406.8480, 335.0187]], device='cuda:0')\n",
      "Pred: tensor([[266.4909, 130.9754, 399.3720, 342.7449]], device='cuda:0')\n",
      "GT: tensor([[ 44.0960, 244.0533, 247.1040, 386.0480]], device='cuda:0')\n"
     ]
    },
    {
     "name": "stderr",
     "output_type": "stream",
     "text": [
      "[2019-05-31 10:47:34,037 <ipython-input-2-7667fb18f09c>] Batch [1266/2077] mAP: 0.23621\n",
      "[2019-05-31 10:47:34,084 <ipython-input-2-7667fb18f09c>] Batch [1267/2077] mAP: 0.23636\n",
      "[2019-05-31 10:47:34,157 <ipython-input-2-7667fb18f09c>] Batch [1268/2077] mAP: 0.23638\n",
      "[2019-05-31 10:47:34,201 <ipython-input-2-7667fb18f09c>] Batch [1269/2077] mAP: 0.23631\n",
      "[2019-05-31 10:47:34,241 <ipython-input-2-7667fb18f09c>] Batch [1270/2077] mAP: 0.23654\n"
     ]
    },
    {
     "name": "stdout",
     "output_type": "stream",
     "text": [
      "Pred: tensor([[  6.6756,  56.6003, 463.8404, 413.6416]], device='cuda:0')\n",
      "GT: tensor([[ 12.4800,  38.8267, 406.8480, 392.7040]], device='cuda:0')\n",
      "Pred: tensor([[ 12.3181,  98.9694, 101.6754, 322.1794]], device='cuda:0')\n",
      "GT: tensor([[148.0960,  25.2973, 415.1680, 411.7838]], device='cuda:0')\n",
      "Pred: tensor([[ 12.3181,  98.9694, 101.6754, 322.1794]], device='cuda:0')\n",
      "GT: tensor([[ 77.3760,  59.0270, 276.2240, 379.4595]], device='cuda:0')\n",
      "Pred: tensor([[ 12.3181,  98.9694, 101.6754, 322.1794]], device='cuda:0')\n",
      "GT: tensor([[  0.0000,  78.7027, 122.3040, 355.5676]], device='cuda:0')\n",
      "Pred: tensor([[ 69.9014, 230.2883, 202.0224, 385.8670]], device='cuda:0')\n",
      "GT: tensor([[  0.0000, 275.1147, 235.4560, 392.7040]], device='cuda:0')\n",
      "Pred: tensor([[ 32.5285,  74.0410, 265.2137, 347.2637]], device='cuda:0')\n",
      "GT: tensor([[  5.8240, 109.8240, 266.2400, 333.9093]], device='cuda:0')\n",
      "Pred: tensor([[265.1918,  97.2970, 350.7405, 315.7947]], device='cuda:0')\n",
      "GT: tensor([[278.7200, 113.1520, 348.6080, 290.6453]], device='cuda:0')\n"
     ]
    },
    {
     "name": "stderr",
     "output_type": "stream",
     "text": [
      "[2019-05-31 10:47:34,285 <ipython-input-2-7667fb18f09c>] Batch [1271/2077] mAP: 0.23669\n",
      "[2019-05-31 10:47:34,318 <ipython-input-2-7667fb18f09c>] Batch [1272/2077] mAP: 0.23655\n",
      "[2019-05-31 10:47:34,353 <ipython-input-2-7667fb18f09c>] Batch [1273/2077] mAP: 0.23592\n",
      "[2019-05-31 10:47:34,392 <ipython-input-2-7667fb18f09c>] Batch [1274/2077] mAP: 0.23601\n",
      "[2019-05-31 10:47:34,424 <ipython-input-2-7667fb18f09c>] Batch [1275/2077] mAP: 0.23587\n",
      "[2019-05-31 10:47:34,463 <ipython-input-2-7667fb18f09c>] Batch [1276/2077] mAP: 0.23609\n"
     ]
    },
    {
     "name": "stdout",
     "output_type": "stream",
     "text": [
      "Pred: tensor([[265.1918,  97.2970, 350.7405, 315.7947]], device='cuda:0')\n",
      "GT: tensor([[126.4640, 140.8853, 237.9520, 239.6160]], device='cuda:0')\n",
      "Pred: tensor([[110.0302, -10.2389, 290.6047, 169.4430]], device='cuda:0')\n",
      "GT: tensor([[  0.0000,   0.0000, 281.2160, 181.9307]], device='cuda:0')\n",
      "Pred: tensor([[ 48.8860,  75.2281, 353.9343, 335.4248]], device='cuda:0')\n",
      "GT: tensor([[ 32.4480,  28.5383, 371.9040, 402.8285]], device='cuda:0')\n"
     ]
    },
    {
     "name": "stderr",
     "output_type": "stream",
     "text": [
      "[2019-05-31 10:47:34,506 <ipython-input-2-7667fb18f09c>] Batch [1277/2077] mAP: 0.23618\n",
      "[2019-05-31 10:47:34,540 <ipython-input-2-7667fb18f09c>] Batch [1278/2077] mAP: 0.23641\n",
      "[2019-05-31 10:47:34,583 <ipython-input-2-7667fb18f09c>] Batch [1279/2077] mAP: 0.23649\n",
      "[2019-05-31 10:47:34,662 <ipython-input-2-7667fb18f09c>] Batch [1280/2077] mAP: 0.23607\n"
     ]
    },
    {
     "name": "stdout",
     "output_type": "stream",
     "text": [
      "Pred: tensor([[ -1.9068, 124.5429, 167.8595, 373.1971]], device='cuda:0')\n",
      "GT: tensor([[276.2240,   4.4373, 412.6720, 414.8907]], device='cuda:0')\n",
      "Pred: tensor([[ -1.9068, 124.5429, 167.8595, 373.1971]], device='cuda:0')\n",
      "GT: tensor([[178.0480,  78.7627, 297.0240, 332.8000]], device='cuda:0')\n",
      "Pred: tensor([[ -1.9068, 124.5429, 167.8595, 373.1971]], device='cuda:0')\n",
      "GT: tensor([[  3.3280, 107.6053, 163.0720, 379.3920]], device='cuda:0')\n",
      "Pred: tensor([[154.8704, 110.8559, 258.2863, 290.2769]], device='cuda:0')\n",
      "GT: tensor([[148.9280, 114.2613, 252.9280, 259.5840]], device='cuda:0')\n",
      "Pred: tensor([[ 38.4344, 179.7673, 242.2270, 296.2609]], device='cuda:0')\n",
      "GT: tensor([[ 41.6000, 164.5570, 214.6560, 318.5823]], device='cuda:0')\n",
      "Pred: tensor([[326.6524, 272.1250, 342.7251, 330.3967]], device='cuda:0')\n",
      "GT: tensor([[306.1760, 289.6202, 321.1520, 346.2278]], device='cuda:0')\n",
      "Pred: tensor([[326.6524, 272.1250, 342.7251, 330.3967]], device='cuda:0')\n",
      "GT: tensor([[322.8160, 285.6709, 332.8000, 339.6456]], device='cuda:0')\n",
      "Pred: tensor([[ 84.5917,  91.9158, 211.4456, 188.1916]], device='cuda:0')\n",
      "GT: tensor([[154.7520, 126.1742, 183.8720, 141.1652]], device='cuda:0')\n",
      "Pred: tensor([[ 84.5917,  91.9158, 211.4456, 188.1916]], device='cuda:0')\n",
      "GT: tensor([[157.2480, 137.4174, 186.3680, 149.9099]], device='cuda:0')\n",
      "Pred: tensor([[ 84.5917,  91.9158, 211.4456, 188.1916]], device='cuda:0')\n",
      "GT: tensor([[161.4080, 147.4114, 187.2000, 156.1562]], device='cuda:0')\n",
      "Pred: tensor([[ 84.5917,  91.9158, 211.4456, 188.1916]], device='cuda:0')\n",
      "GT: tensor([[127.2960, 137.4174, 157.2480, 151.1592]], device='cuda:0')\n",
      "Pred: tensor([[ 84.5917,  91.9158, 211.4456, 188.1916]], device='cuda:0')\n",
      "GT: tensor([[129.7920, 152.4084, 159.7440, 162.4024]], device='cuda:0')\n",
      "Pred: tensor([[ 84.5917,  91.9158, 211.4456, 188.1916]], device='cuda:0')\n",
      "GT: tensor([[ 98.1760, 154.9069, 130.6240, 166.1501]], device='cuda:0')\n"
     ]
    },
    {
     "name": "stderr",
     "output_type": "stream",
     "text": [
      "[2019-05-31 10:47:34,703 <ipython-input-2-7667fb18f09c>] Batch [1281/2077] mAP: 0.23630\n",
      "[2019-05-31 10:47:34,742 <ipython-input-2-7667fb18f09c>] Batch [1282/2077] mAP: 0.23623\n",
      "[2019-05-31 10:47:34,813 <ipython-input-2-7667fb18f09c>] Batch [1283/2077] mAP: 0.23607\n",
      "[2019-05-31 10:47:34,865 <ipython-input-2-7667fb18f09c>] Batch [1284/2077] mAP: 0.23600\n"
     ]
    },
    {
     "name": "stdout",
     "output_type": "stream",
     "text": [
      "Pred: tensor([[148.8893,  84.0194, 207.0612, 290.0646]], device='cuda:0')\n",
      "GT: tensor([[126.1481,  73.1152, 216.6667, 293.7212]], device='cuda:0')\n",
      "Pred: tensor([[ 93.6197, 120.8002, 247.9347, 357.7615]], device='cuda:0')\n",
      "GT: tensor([[ 93.1840, 166.1501, 196.3520, 326.0540]], device='cuda:0')\n",
      "Pred: tensor([[317.3563, 112.0023, 353.1664, 164.7199]], device='cuda:0')\n",
      "GT: tensor([[302.0160, 118.6787, 363.5840, 168.6487]], device='cuda:0')\n",
      "Pred: tensor([[186.0829, 114.1291, 282.3662, 363.9856]], device='cuda:0')\n",
      "GT: tensor([[317.8240,  98.6907, 345.2800, 154.9069]], device='cuda:0')\n",
      "Pred: tensor([[186.0829, 114.1291, 282.3662, 363.9856]], device='cuda:0')\n",
      "GT: tensor([[202.1760, 142.4144, 269.5680, 338.5465]], device='cuda:0')\n",
      "Pred: tensor([[  7.8181,  56.0954,  81.7091, 226.8056]], device='cuda:0')\n",
      "GT: tensor([[  0.0000,  59.9640,  84.8640, 221.1171]], device='cuda:0')\n",
      "Pred: tensor([[  7.8181,  56.0954,  81.7091, 226.8056]], device='cuda:0')\n",
      "GT: tensor([[ 63.2320,  67.4595, 159.7440, 128.6727]], device='cuda:0')\n",
      "Pred: tensor([[  7.8181,  56.0954,  81.7091, 226.8056]], device='cuda:0')\n",
      "GT: tensor([[268.7360,  21.2372, 415.1680, 134.9189]], device='cuda:0')\n"
     ]
    },
    {
     "name": "stderr",
     "output_type": "stream",
     "text": [
      "[2019-05-31 10:47:34,913 <ipython-input-2-7667fb18f09c>] Batch [1285/2077] mAP: 0.23623\n",
      "[2019-05-31 10:47:34,980 <ipython-input-2-7667fb18f09c>] Batch [1286/2077] mAP: 0.23609\n",
      "[2019-05-31 10:47:35,033 <ipython-input-2-7667fb18f09c>] Batch [1287/2077] mAP: 0.23624\n",
      "[2019-05-31 10:47:35,092 <ipython-input-2-7667fb18f09c>] Batch [1288/2077] mAP: 0.23610\n"
     ]
    },
    {
     "name": "stdout",
     "output_type": "stream",
     "text": [
      "Pred: tensor([[125.6230,  55.0182, 234.9172, 366.0369]], device='cuda:0')\n",
      "GT: tensor([[100.6720,  35.4987, 259.5840, 412.6720]], device='cuda:0')\n",
      "Pred: tensor([[103.6292, 204.8586, 192.1783, 337.2388]], device='cuda:0')\n",
      "GT: tensor([[ 52.4685, 176.3840, 213.6216, 376.0640]], device='cuda:0')\n",
      "Pred: tensor([[ 28.9552,  16.6372, 446.4312, 340.1439]], device='cuda:0')\n",
      "GT: tensor([[ 65.7280,   0.0000, 406.0160, 345.0027]], device='cuda:0')\n"
     ]
    },
    {
     "name": "stderr",
     "output_type": "stream",
     "text": [
      "[2019-05-31 10:47:35,138 <ipython-input-2-7667fb18f09c>] Batch [1289/2077] mAP: 0.23583\n",
      "[2019-05-31 10:47:35,199 <ipython-input-2-7667fb18f09c>] Batch [1290/2077] mAP: 0.23605\n",
      "[2019-05-31 10:47:35,250 <ipython-input-2-7667fb18f09c>] Batch [1291/2077] mAP: 0.23620\n",
      "[2019-05-31 10:47:35,287 <ipython-input-2-7667fb18f09c>] Batch [1292/2077] mAP: 0.23614\n",
      "[2019-05-31 10:47:35,327 <ipython-input-2-7667fb18f09c>] Batch [1293/2077] mAP: 0.23629\n",
      "[2019-05-31 10:47:35,390 <ipython-input-2-7667fb18f09c>] Batch [1294/2077] mAP: 0.23651\n"
     ]
    },
    {
     "name": "stdout",
     "output_type": "stream",
     "text": [
      "Pred: tensor([[ 57.1268,  58.2724, 360.1924, 358.9203]], device='cuda:0')\n",
      "GT: tensor([[ 89.7000,  13.0000, 370.5000, 414.2667]], device='cuda:0')\n",
      "Pred: tensor([[153.0549,  88.6232, 326.6304, 340.5354]], device='cuda:0')\n",
      "GT: tensor([[154.7520, 128.1280, 399.3600, 364.4160]], device='cuda:0')\n",
      "Pred: tensor([[153.0549,  88.6232, 326.6304, 340.5354]], device='cuda:0')\n",
      "GT: tensor([[  0.0000,   0.0000, 137.2800, 415.1680]], device='cuda:0')\n",
      "Pred: tensor([[184.4695, 144.2128, 344.2927, 394.1984]], device='cuda:0')\n",
      "GT: tensor([[157.2480, 146.4320, 353.6000, 414.8907]], device='cuda:0')\n",
      "Pred: tensor([[121.8037, 112.2925, 352.4236, 316.6185]], device='cuda:0')\n",
      "GT: tensor([[ 94.8480, 128.6727, 376.8960, 318.5586]], device='cuda:0')\n"
     ]
    },
    {
     "name": "stderr",
     "output_type": "stream",
     "text": [
      "[2019-05-31 10:47:35,449 <ipython-input-2-7667fb18f09c>] Batch [1295/2077] mAP: 0.23644\n",
      "[2019-05-31 10:47:35,497 <ipython-input-2-7667fb18f09c>] Batch [1296/2077] mAP: 0.23660\n",
      "[2019-05-31 10:47:35,537 <ipython-input-2-7667fb18f09c>] Batch [1297/2077] mAP: 0.23646\n",
      "[2019-05-31 10:47:35,596 <ipython-input-2-7667fb18f09c>] Batch [1298/2077] mAP: 0.23668\n",
      "[2019-05-31 10:47:35,685 <ipython-input-2-7667fb18f09c>] Batch [1299/2077] mAP: 0.23628\n"
     ]
    },
    {
     "name": "stdout",
     "output_type": "stream",
     "text": [
      "Pred: tensor([[105.7810,  58.3444, 370.1141, 422.0793]], device='cuda:0')\n",
      "GT: tensor([[ 88.7467,  67.3920, 393.8133, 410.1760]], device='cuda:0')\n",
      "Pred: tensor([[ 63.4984, 119.9661, 356.8871, 358.6849]], device='cuda:0')\n",
      "GT: tensor([[  0.0000, 194.6880, 414.8696, 395.2000]], device='cuda:0')\n",
      "Pred: tensor([[151.9450, 314.0816, 257.3442, 416.8723]], device='cuda:0')\n",
      "GT: tensor([[117.4194, 313.6774, 271.7419, 415.1613]], device='cuda:0')\n",
      "Pred: tensor([[232.1348,  28.7598, 302.0275, 256.0640]], device='cuda:0')\n",
      "GT: tensor([[238.7840,   8.8747, 297.0240, 266.2400]], device='cuda:0')\n",
      "Pred: tensor([[232.1348,  28.7598, 302.0275, 256.0640]], device='cuda:0')\n",
      "GT: tensor([[ 98.1760, 173.0560, 216.3200, 410.4533]], device='cuda:0')\n",
      "Pred: tensor([[232.1348,  28.7598, 302.0275, 256.0640]], device='cuda:0')\n",
      "GT: tensor([[ 79.0400, 277.3333, 183.8720, 414.8907]], device='cuda:0')\n",
      "Pred: tensor([[232.1348,  28.7598, 302.0275, 256.0640]], device='cuda:0')\n",
      "GT: tensor([[161.4080, 261.8027, 298.6880, 414.8907]], device='cuda:0')\n",
      "Pred: tensor([[232.1348,  28.7598, 302.0275, 256.0640]], device='cuda:0')\n",
      "GT: tensor([[195.5200, 232.9600, 374.4000, 316.1600]], device='cuda:0')\n",
      "Pred: tensor([[232.1348,  28.7598, 302.0275, 256.0640]], device='cuda:0')\n",
      "GT: tensor([[288.7040, 279.5520, 415.1680, 414.8907]], device='cuda:0')\n",
      "Pred: tensor([[378.3665, 237.7819, 408.6669, 303.7343]], device='cuda:0')\n",
      "GT: tensor([[391.8720, 216.3200, 415.1680, 310.6133]], device='cuda:0')\n"
     ]
    },
    {
     "name": "stderr",
     "output_type": "stream",
     "text": [
      "[2019-05-31 10:47:35,775 <ipython-input-2-7667fb18f09c>] Batch [1300/2077] mAP: 0.23688\n",
      "[2019-05-31 10:47:35,833 <ipython-input-2-7667fb18f09c>] Batch [1301/2077] mAP: 0.23703\n",
      "[2019-05-31 10:47:35,878 <ipython-input-2-7667fb18f09c>] Batch [1302/2077] mAP: 0.23734\n",
      "[2019-05-31 10:47:35,911 <ipython-input-2-7667fb18f09c>] Batch [1303/2077] mAP: 0.23720\n",
      "[2019-05-31 10:47:35,949 <ipython-input-2-7667fb18f09c>] Batch [1304/2077] mAP: 0.23742\n"
     ]
    },
    {
     "name": "stdout",
     "output_type": "stream",
     "text": [
      "Pred: tensor([[107.1059, 182.4738, 169.9255, 248.9011]], device='cuda:0')\n",
      "GT: tensor([[112.3200, 190.8053, 149.7600, 255.1467]], device='cuda:0')\n",
      "Pred: tensor([[162.7404, -27.8206, 262.4996, 300.4562]], device='cuda:0')\n",
      "GT: tensor([[168.8960,  11.0933, 256.2560, 264.0213]], device='cuda:0')\n",
      "Pred: tensor([[342.7903,  51.3414, 401.1517, 122.6286]], device='cuda:0')\n",
      "GT: tensor([[348.6080,  51.0293, 407.6800, 113.1520]], device='cuda:0')\n",
      "Pred: tensor([[314.4414, 115.6490, 359.6223, 167.1933]], device='cuda:0')\n",
      "GT: tensor([[ 84.9490,  34.1120, 328.5526, 407.6800]], device='cuda:0')\n",
      "Pred: tensor([[132.3720,  -8.7812, 335.8354, 436.8010]], device='cuda:0')\n",
      "GT: tensor([[ 84.9490,  34.1120, 328.5526, 407.6800]], device='cuda:0')\n",
      "Pred: tensor([[314.4414, 115.6490, 359.6223, 167.1933]], device='cuda:0')\n",
      "GT: tensor([[ 87.4474,  59.9040, 199.8799, 413.5040]], device='cuda:0')\n",
      "Pred: tensor([[132.3720,  -8.7812, 335.8354, 436.8010]], device='cuda:0')\n",
      "GT: tensor([[ 87.4474,  59.9040, 199.8799, 413.5040]], device='cuda:0')\n",
      "Pred: tensor([[ 74.2823,  56.3109, 164.0403, 172.0426]], device='cuda:0')\n",
      "GT: tensor([[ 72.3840,  60.5938, 159.7440, 185.2773]], device='cuda:0')\n",
      "Pred: tensor([[ 92.8534, -25.1152, 145.0459, 181.8339]], device='cuda:0')\n",
      "GT: tensor([[ 90.6880,   0.0000, 161.4080, 172.4594]], device='cuda:0')\n",
      "Pred: tensor([[ 67.4274, -48.8481, 392.8324, 471.4573]], device='cuda:0')\n",
      "GT: tensor([[118.6787,   0.0000, 342.2943, 415.1680]], device='cuda:0')\n"
     ]
    },
    {
     "name": "stderr",
     "output_type": "stream",
     "text": [
      "[2019-05-31 10:47:35,994 <ipython-input-2-7667fb18f09c>] Batch [1305/2077] mAP: 0.23764\n",
      "[2019-05-31 10:47:36,026 <ipython-input-2-7667fb18f09c>] Batch [1306/2077] mAP: 0.23757\n",
      "[2019-05-31 10:47:36,071 <ipython-input-2-7667fb18f09c>] Batch [1307/2077] mAP: 0.23759\n",
      "[2019-05-31 10:47:36,123 <ipython-input-2-7667fb18f09c>] Batch [1308/2077] mAP: 0.23724\n"
     ]
    },
    {
     "name": "stdout",
     "output_type": "stream",
     "text": [
      "Pred: tensor([[ 61.5833,  96.5310, 352.0156, 298.6195]], device='cuda:0')\n",
      "GT: tensor([[166.4000, 142.8434, 255.4240, 265.6385]], device='cuda:0')\n",
      "Pred: tensor([[167.9495, 151.3312, 243.3326, 252.7017]], device='cuda:0')\n",
      "GT: tensor([[166.4000, 142.8434, 255.4240, 265.6385]], device='cuda:0')\n",
      "Pred: tensor([[ 68.7353,  81.1606, 223.7492, 347.5750]], device='cuda:0')\n",
      "GT: tensor([[177.4933, 138.9440, 343.8933, 291.2000]], device='cuda:0')\n",
      "Pred: tensor([[ 68.7353,  81.1606, 223.7492, 347.5750]], device='cuda:0')\n",
      "GT: tensor([[ 56.5760,  54.0800, 308.3947, 336.1280]], device='cuda:0')\n",
      "Pred: tensor([[103.8181, 105.1143, 245.4831, 245.4245]], device='cuda:0')\n",
      "GT: tensor([[113.6817, 101.5040, 228.6126, 243.7760]], device='cuda:0')\n",
      "Pred: tensor([[103.8181, 105.1143, 245.4831, 245.4245]], device='cuda:0')\n",
      "GT: tensor([[111.1832, 190.5280, 197.3814, 247.1040]], device='cuda:0')\n",
      "Pred: tensor([[136.9594,  57.6323, 202.1342, 278.2165]], device='cuda:0')\n",
      "GT: tensor([[111.1832, 190.5280, 197.3814, 247.1040]], device='cuda:0')\n",
      "Pred: tensor([[349.9364, 127.2120, 407.8274, 228.6169]], device='cuda:0')\n",
      "GT: "
     ]
    },
    {
     "name": "stderr",
     "output_type": "stream",
     "text": [
      "[2019-05-31 10:47:36,208 <ipython-input-2-7667fb18f09c>] Batch [1309/2077] mAP: 0.23762\n",
      "[2019-05-31 10:47:36,269 <ipython-input-2-7667fb18f09c>] Batch [1310/2077] mAP: 0.23755\n",
      "[2019-05-31 10:47:36,384 <ipython-input-2-7667fb18f09c>] Batch [1311/2077] mAP: 0.23742\n"
     ]
    },
    {
     "name": "stdout",
     "output_type": "stream",
     "text": [
      "tensor([[111.1832, 190.5280, 197.3814, 247.1040]], device='cuda:0')\n",
      "Pred: tensor([[ 43.1742,  57.1852, 301.3315, 293.3707]], device='cuda:0')\n",
      "GT: tensor([[111.1832, 190.5280, 197.3814, 247.1040]], device='cuda:0')\n",
      "Pred: tensor([[103.8181, 105.1143, 245.4831, 245.4245]], device='cuda:0')\n",
      "GT: tensor([[334.7988, 139.7760, 414.7508, 234.6240]], device='cuda:0')\n",
      "Pred: tensor([[136.9594,  57.6323, 202.1342, 278.2165]], device='cuda:0')\n",
      "GT: tensor([[334.7988, 139.7760, 414.7508, 234.6240]], device='cuda:0')\n",
      "Pred: tensor([[349.9364, 127.2120, 407.8274, 228.6169]], device='cuda:0')\n",
      "GT: tensor([[334.7988, 139.7760, 414.7508, 234.6240]], device='cuda:0')\n",
      "Pred: tensor([[ 95.5764, 154.5695, 319.5312, 395.0927]], device='cuda:0')\n",
      "GT: tensor([[  8.7447, 107.3280, 414.7508, 415.1680]], device='cuda:0')\n",
      "Pred: tensor([[232.3102, 200.3391, 361.6467, 278.8173]], device='cuda:0')\n",
      "GT: tensor([[271.2320, 216.1341, 336.9600, 249.8324]], device='cuda:0')\n",
      "Pred: tensor([[381.1658, 221.1876, 406.6656, 264.6161]], device='cuda:0')\n",
      "GT: tensor([[271.2320, 216.1341, 336.9600, 249.8324]], device='cuda:0')\n",
      "Pred: tensor([[232.3102, 200.3391, 361.6467, 278.8173]], device='cuda:0')\n",
      "GT: tensor([[183.0400, 208.0000, 221.3120, 224.2682]], device='cuda:0')\n",
      "Pred: tensor([[381.1658, 221.1876, 406.6656, 264.6161]], device='cuda:0')\n",
      "GT: tensor([[183.0400, 208.0000, 221.3120, 224.2682]], device='cuda:0')\n",
      "Pred: tensor([[232.3102, 200.3391, 361.6467, 278.8173]], device='cuda:0')\n",
      "GT: tensor([[128.9600, 184.7598, 146.4320, 194.0559]], device='cuda:0')\n",
      "Pred: tensor([[381.1658, 221.1876, 406.6656, 264.6161]], device='cuda:0')\n",
      "GT: tensor([[128.9600, 184.7598, 146.4320, 194.0559]], device='cuda:0')\n",
      "Pred: tensor([[232.3102, 200.3391, 361.6467, 278.8173]], device='cuda:0')\n",
      "GT: tensor([[ 76.5440, 181.2737,  90.6880, 192.8939]], device='cuda:0')\n",
      "Pred: tensor([[381.1658, 221.1876, 406.6656, 264.6161]], device='cuda:0')\n",
      "GT: tensor([[ 76.5440, 181.2737,  90.6880, 192.8939]], device='cuda:0')\n",
      "Pred: tensor([[232.3102, 200.3391, 361.6467, 278.8173]], device='cuda:0')\n",
      "GT: tensor([[401.0240, 230.0782, 415.1680, 262.6145]], device='cuda:0')\n",
      "Pred: tensor([[381.1658, 221.1876, 406.6656, 264.6161]], device='cuda:0')\n",
      "GT: tensor([[401.0240, 230.0782, 415.1680, 262.6145]], device='cuda:0')\n",
      "Pred: tensor([[150.7797,  96.1758, 251.2019, 194.8836]], device='cuda:0')\n",
      "GT: tensor([[150.5920, 113.8771, 263.7440, 173.1397]], device='cuda:0')\n"
     ]
    },
    {
     "name": "stderr",
     "output_type": "stream",
     "text": [
      "[2019-05-31 10:47:36,436 <ipython-input-2-7667fb18f09c>] Batch [1312/2077] mAP: 0.23722\n",
      "[2019-05-31 10:47:36,474 <ipython-input-2-7667fb18f09c>] Batch [1313/2077] mAP: 0.23688\n",
      "[2019-05-31 10:47:36,527 <ipython-input-2-7667fb18f09c>] Batch [1314/2077] mAP: 0.23649\n",
      "[2019-05-31 10:47:36,568 <ipython-input-2-7667fb18f09c>] Batch [1315/2077] mAP: 0.23622\n",
      "[2019-05-31 10:47:36,616 <ipython-input-2-7667fb18f09c>] Batch [1316/2077] mAP: 0.23615\n",
      "[2019-05-31 10:47:36,665 <ipython-input-2-7667fb18f09c>] Batch [1317/2077] mAP: 0.23617\n"
     ]
    },
    {
     "name": "stdout",
     "output_type": "stream",
     "text": [
      "Pred: tensor([[175.8320, 121.7038, 362.7848, 410.7059]], device='cuda:0')\n",
      "GT: tensor([[218.8160, 108.7147, 328.6400, 414.8907]], device='cuda:0')\n",
      "Pred: tensor([[175.8320, 121.7038, 362.7848, 410.7059]], device='cuda:0')\n",
      "GT: tensor([[109.8240,  43.2640, 126.4640,  94.2933]], device='cuda:0')\n",
      "Pred: tensor([[ 98.5273,  40.2515, 120.5260, 107.6982]], device='cuda:0')\n",
      "GT: tensor([[109.8240,  43.2640, 126.4640,  94.2933]], device='cuda:0')\n",
      "Pred: tensor([[227.7722, 258.8340, 296.2834, 344.3959]], device='cuda:0')\n",
      "GT: tensor([[232.1280, 285.0987, 292.0320, 328.3627]], device='cuda:0')\n",
      "Pred: tensor([[333.7536,  59.1718, 395.8473, 364.2827]], device='cuda:0')\n",
      "GT: tensor([[338.6240,  85.4795, 394.3680, 335.0794]], device='cuda:0')\n"
     ]
    },
    {
     "name": "stderr",
     "output_type": "stream",
     "text": [
      "[2019-05-31 10:47:36,734 <ipython-input-2-7667fb18f09c>] Batch [1318/2077] mAP: 0.23610\n",
      "[2019-05-31 10:47:36,782 <ipython-input-2-7667fb18f09c>] Batch [1319/2077] mAP: 0.23596\n",
      "[2019-05-31 10:47:36,858 <ipython-input-2-7667fb18f09c>] Batch [1320/2077] mAP: 0.23605\n",
      "[2019-05-31 10:47:36,905 <ipython-input-2-7667fb18f09c>] Batch [1321/2077] mAP: 0.23627\n"
     ]
    },
    {
     "name": "stdout",
     "output_type": "stream",
     "text": [
      "Pred: tensor([[181.8734, 257.3067, 246.6556, 404.6406]], device='cuda:0')\n",
      "GT: tensor([[204.6720, 266.4812, 236.2880, 397.9131]], device='cuda:0')\n",
      "Pred: tensor([[ 99.0558, 136.0230, 320.6979, 285.6894]], device='cuda:0')\n",
      "GT: tensor([[ 89.8560, 110.9333, 329.4720, 305.0667]], device='cuda:0')\n",
      "Pred: tensor([[ 99.0558, 136.0230, 320.6979, 285.6894]], device='cuda:0')\n",
      "GT: tensor([[384.3840, 171.9467, 415.1680, 260.6933]], device='cuda:0')\n",
      "Pred: tensor([[ 99.0558, 136.0230, 320.6979, 285.6894]], device='cuda:0')\n",
      "GT: tensor([[  0.0000, 119.8080,  91.5200, 297.3013]], device='cuda:0')\n",
      "Pred: tensor([[ 55.0832,  17.2933, 361.6927, 397.9934]], device='cuda:0')\n",
      "GT: tensor([[ 32.4480,   0.0000, 352.7680, 414.7432]], device='cuda:0')\n"
     ]
    },
    {
     "name": "stderr",
     "output_type": "stream",
     "text": [
      "[2019-05-31 10:47:36,971 <ipython-input-2-7667fb18f09c>] Batch [1322/2077] mAP: 0.23615\n",
      "[2019-05-31 10:47:37,025 <ipython-input-2-7667fb18f09c>] Batch [1323/2077] mAP: 0.23658\n",
      "[2019-05-31 10:47:37,096 <ipython-input-2-7667fb18f09c>] Batch [1324/2077] mAP: 0.23598\n",
      "[2019-05-31 10:47:37,147 <ipython-input-2-7667fb18f09c>] Batch [1325/2077] mAP: 0.23606\n"
     ]
    },
    {
     "name": "stdout",
     "output_type": "stream",
     "text": [
      "Pred: tensor([[  1.5344, 212.2605,  86.1146, 404.3378]], device='cuda:0')\n",
      "GT: tensor([[  0.0000, 186.0444,  92.7333, 414.8445]], device='cuda:0')\n",
      "Pred: tensor([[134.8809, 226.4284, 273.0714, 322.0644]], device='cuda:0')\n",
      "GT: tensor([[122.0599, 183.0400, 274.0120, 357.7600]], device='cuda:0')\n",
      "Pred: tensor([[144.5350,  93.8001, 288.5174, 335.7841]], device='cuda:0')\n",
      "GT: tensor([[100.8862, 113.1520, 325.0779, 336.1280]], device='cuda:0')\n",
      "Pred: tensor([[112.4721, 205.7854, 176.7538, 338.3181]], device='cuda:0')\n",
      "GT: tensor([[137.2800, 197.3814, 173.8880, 394.7628]], device='cuda:0')\n",
      "Pred: tensor([[112.4721, 205.7854, 176.7538, 338.3181]], device='cuda:0')\n",
      "GT: tensor([[101.5040, 177.3934, 118.9760, 279.8318]], device='cuda:0')\n",
      "Pred: tensor([[156.2683, 108.6709, 198.2100, 247.7537]], device='cuda:0')\n",
      "GT: tensor([[216.3200,  74.9550, 415.1680, 414.7508]], device='cuda:0')\n",
      "Pred: tensor([[156.2683, 108.6709, 198.2100, 247.7537]], device='cuda:0')\n",
      "GT: tensor([[192.1920, 109.9339, 296.1920, 306.0661]], device='cuda:0')\n",
      "Pred: tensor([[156.2683, 108.6709, 198.2100, 247.7537]], device='cuda:0')\n",
      "GT: tensor([[  0.8320,  42.4745, 115.6480, 414.7508]], device='cuda:0')\n",
      "Pred: tensor([[156.2683, 108.6709, 198.2100, 247.7537]], device='cuda:0')\n",
      "GT: tensor([[152.2560, 103.6877, 216.3200, 289.8258]], device='cuda:0')\n",
      "Pred: tensor([[112.4721, 205.7854, 176.7538, 338.3181]], device='cuda:0')\n",
      "GT: tensor([[134.7840, 197.3814, 150.5920, 372.2763]], device='cuda:0')\n",
      "Pred: tensor([[247.9864, 211.8952, 310.5539, 324.6184]], device='cuda:0')\n",
      "GT: tensor([[259.5840, 218.6186, 306.1760, 306.0661]], device='cuda:0')\n",
      "Pred: tensor([[247.9864, 211.8952, 310.5539, 324.6184]], device='cuda:0')\n",
      "GT: tensor([[288.7040, 206.1261, 315.3280, 281.0811]], device='cuda:0')\n",
      "Pred: tensor([[282.4984, 214.3192, 305.8550, 315.0059]], device='cuda:0')\n",
      "GT: tensor([[288.7040, 206.1261, 315.3280, 281.0811]], device='cuda:0')\n"
     ]
    },
    {
     "name": "stderr",
     "output_type": "stream",
     "text": [
      "[2019-05-31 10:47:37,208 <ipython-input-2-7667fb18f09c>] Batch [1326/2077] mAP: 0.23599\n",
      "[2019-05-31 10:47:37,263 <ipython-input-2-7667fb18f09c>] Batch [1327/2077] mAP: 0.23579\n",
      "[2019-05-31 10:47:37,314 <ipython-input-2-7667fb18f09c>] Batch [1328/2077] mAP: 0.23553\n",
      "[2019-05-31 10:47:37,358 <ipython-input-2-7667fb18f09c>] Batch [1329/2077] mAP: 0.23568\n"
     ]
    },
    {
     "name": "stdout",
     "output_type": "stream",
     "text": [
      "Pred: tensor([[327.3438, 303.6217, 388.5071, 358.7341]], device='cuda:0')\n",
      "GT: tensor([[341.9520, 322.3063, 376.0640, 349.7898]], device='cuda:0')\n",
      "Pred: tensor([[ 88.7938, 242.4060, 194.5792, 310.4922]], device='cuda:0')\n",
      "GT: tensor([[111.4880, 242.9440, 158.0800, 292.8640]], device='cuda:0')\n",
      "Pred: tensor([[-13.4234, 126.7928, 168.9514, 300.0978]], device='cuda:0')\n",
      "GT: tensor([[162.2400, 229.6320, 178.8800, 251.8187]], device='cuda:0')\n",
      "Pred: tensor([[-13.4234, 126.7928, 168.9514, 300.0978]], device='cuda:0')\n",
      "GT: tensor([[  0.0000,  63.2320, 164.7360, 335.0187]], device='cuda:0')\n"
     ]
    },
    {
     "name": "stderr",
     "output_type": "stream",
     "text": [
      "[2019-05-31 10:47:37,420 <ipython-input-2-7667fb18f09c>] Batch [1330/2077] mAP: 0.23589\n",
      "[2019-05-31 10:47:37,469 <ipython-input-2-7667fb18f09c>] Batch [1331/2077] mAP: 0.23583\n",
      "[2019-05-31 10:47:37,507 <ipython-input-2-7667fb18f09c>] Batch [1332/2077] mAP: 0.23576\n",
      "[2019-05-31 10:47:37,558 <ipython-input-2-7667fb18f09c>] Batch [1333/2077] mAP: 0.23556\n",
      "[2019-05-31 10:47:37,604 <ipython-input-2-7667fb18f09c>] Batch [1334/2077] mAP: 0.23571\n"
     ]
    },
    {
     "name": "stdout",
     "output_type": "stream",
     "text": [
      "Pred: tensor([[162.7721, 142.8306, 248.3845, 383.1681]], device='cuda:0')\n",
      "GT: tensor([[155.5840, 151.0614, 247.9360, 348.6034]], device='cuda:0')\n",
      "Pred: tensor([[345.7874,  77.9540, 376.0220, 152.7798]], device='cuda:0')\n",
      "GT: tensor([[336.1280,  67.3920, 374.4000, 160.5760]], device='cuda:0')\n"
     ]
    },
    {
     "name": "stderr",
     "output_type": "stream",
     "text": [
      "[2019-05-31 10:47:37,645 <ipython-input-2-7667fb18f09c>] Batch [1335/2077] mAP: 0.23586\n",
      "[2019-05-31 10:47:37,708 <ipython-input-2-7667fb18f09c>] Batch [1336/2077] mAP: 0.23615\n",
      "[2019-05-31 10:47:37,738 <ipython-input-2-7667fb18f09c>] Batch [1337/2077] mAP: 0.23609\n",
      "[2019-05-31 10:47:37,784 <ipython-input-2-7667fb18f09c>] Batch [1338/2077] mAP: 0.23582\n",
      "[2019-05-31 10:47:37,819 <ipython-input-2-7667fb18f09c>] Batch [1339/2077] mAP: 0.23604\n"
     ]
    },
    {
     "name": "stdout",
     "output_type": "stream",
     "text": [
      "Pred: tensor([[ 31.3380, 119.4155, 242.3302, 311.0313]], device='cuda:0')\n",
      "GT: tensor([[  0.0000,  88.1920, 304.5072, 328.6400]], device='cuda:0')\n",
      "Pred: tensor([[ 54.6584, 229.3283, 165.1723, 306.1098]], device='cuda:0')\n",
      "GT: tensor([[ 84.0320, 234.3132, 156.4160, 310.7470]], device='cuda:0')\n",
      "Pred: tensor([[ 54.6584, 229.3283, 165.1723, 306.1098]], device='cuda:0')\n",
      "GT: tensor([[  9.9840, 231.8072,  64.0640, 295.7108]], device='cuda:0')\n",
      "Pred: tensor([[ 21.8663, 234.4874,  74.7879, 294.3359]], device='cuda:0')\n",
      "GT: tensor([[  9.9840, 231.8072,  64.0640, 295.7108]], device='cuda:0')\n",
      "Pred: tensor([[ 54.6584, 229.3283, 165.1723, 306.1098]], device='cuda:0')\n",
      "GT: tensor([[ 64.0640, 230.5542, 107.3280, 268.1446]], device='cuda:0')\n",
      "Pred: tensor([[ 21.8663, 234.4874,  74.7879, 294.3359]], device='cuda:0')\n",
      "GT: tensor([[ 64.0640, 230.5542, 107.3280, 268.1446]], device='cuda:0')\n",
      "Pred: tensor([[ 40.8080, 193.0287, 181.4732, 349.8111]], device='cuda:0')\n",
      "GT: tensor([[ 64.0640, 230.5542, 107.3280, 268.1446]], device='cuda:0')\n",
      "Pred: tensor([[299.4756, 193.7425, 429.4727, 362.6819]], device='cuda:0')\n",
      "GT: tensor([[325.3120, 218.0241, 396.8640, 335.8072]], device='cuda:0')\n",
      "Pred: tensor([[296.2285,  13.9127, 444.4181, 157.2079]], device='cuda:0')\n",
      "GT: tensor([[155.5840,  84.3093, 238.7840, 286.2080]], device='cuda:0')\n",
      "Pred: tensor([[296.2285,  13.9127, 444.4181, 157.2079]], device='cuda:0')\n",
      "GT: tensor([[125.6320, 185.2587, 232.1280, 414.8907]], device='cuda:0')\n",
      "Pred: tensor([[296.2285,  13.9127, 444.4181, 157.2079]], device='cuda:0')\n",
      "GT: tensor([[335.2960,   1.1093, 415.1680, 173.0560]], device='cuda:0')\n",
      "Pred: tensor([[296.2285,  13.9127, 444.4181, 157.2079]], device='cuda:0')\n",
      "GT: tensor([[148.9280,  54.3573, 376.0640, 414.8907]], device='cuda:0')\n",
      "Pred: tensor([[ 98.0925, 139.7871, 327.2306, 320.0490]], device='cuda:0')\n",
      "GT: tensor([[ 76.5440, 107.6053, 358.5920, 331.6907]], device='cuda:0')\n"
     ]
    },
    {
     "name": "stderr",
     "output_type": "stream",
     "text": [
      "[2019-05-31 10:47:37,876 <ipython-input-2-7667fb18f09c>] Batch [1340/2077] mAP: 0.23597\n",
      "[2019-05-31 10:47:37,924 <ipython-input-2-7667fb18f09c>] Batch [1341/2077] mAP: 0.23612\n",
      "[2019-05-31 10:47:37,980 <ipython-input-2-7667fb18f09c>] Batch [1342/2077] mAP: 0.23627\n"
     ]
    },
    {
     "name": "stdout",
     "output_type": "stream",
     "text": [
      "Pred: tensor([[144.7762, 165.2791, 265.3164, 372.3185]], device='cuda:0')\n",
      "GT: tensor([[ 86.5280,   0.0000, 327.8080, 414.8907]], device='cuda:0')\n",
      "Pred: tensor([[ 47.4959,  85.0384, 315.6567, 267.7725]], device='cuda:0')\n",
      "GT: tensor([[  0.0000, 108.7147, 351.1040, 266.2400]], device='cuda:0')\n",
      "Pred: tensor([[ 50.4450,  52.6656, 359.6479, 355.2294]], device='cuda:0')\n",
      "GT: tensor([[  7.7653,  27.4560, 368.2987, 400.1920]], device='cuda:0')\n",
      "Pred: tensor([[136.8184, 279.7319, 154.7643, 313.4250]], device='cuda:0')\n",
      "GT: tensor([[253.7600, 269.5680, 268.7360, 317.2693]], device='cuda:0')\n",
      "Pred: tensor([[136.8184, 279.7319, 154.7643, 313.4250]], device='cuda:0')\n",
      "GT: tensor([[232.1280, 280.6613, 242.1120, 315.0507]], device='cuda:0')\n",
      "Pred: tensor([[136.8184, 279.7319, 154.7643, 313.4250]], device='cuda:0')\n",
      "GT: tensor([[219.6480, 277.3333, 228.8000, 313.9413]], device='cuda:0')\n",
      "Pred: tensor([[136.8184, 279.7319, 154.7643, 313.4250]], device='cuda:0')\n",
      "GT: tensor([[135.6160, 271.7867, 149.7600, 316.1600]], device='cuda:0')\n",
      "Pred: tensor([[136.8184, 279.7319, 154.7643, 313.4250]], device='cuda:0')\n",
      "GT: tensor([[  0.0000, 257.3653,  24.9600, 381.6107]], device='cuda:0')\n",
      "Pred: tensor([[136.8184, 279.7319, 154.7643, 313.4250]], device='cuda:0')\n",
      "GT: tensor([[403.5200, 264.0213, 415.1680, 329.4720]], device='cuda:0')\n",
      "Pred: tensor([[136.8184, 279.7319, 154.7643, 313.4250]], device='cuda:0')\n",
      "GT: tensor([[211.3280, 274.0053, 221.3120, 305.0667]], device='cuda:0')\n",
      "Pred: tensor([[136.8184, 279.7319, 154.7643, 313.4250]], device='cuda:0')\n",
      "GT: tensor([[ 49.0880, 269.5680,  56.5760, 303.9573]], device='cuda:0')\n",
      "Pred: tensor([[136.8184, 279.7319, 154.7643, 313.4250]], device='cuda:0')\n",
      "GT: tensor([[163.9040, 274.0053, 171.3920, 297.3013]], device='cuda:0')\n",
      "Pred: "
     ]
    },
    {
     "name": "stderr",
     "output_type": "stream",
     "text": [
      "[2019-05-31 10:47:38,105 <ipython-input-2-7667fb18f09c>] Batch [1343/2077] mAP: 0.23556\n",
      "[2019-05-31 10:47:38,160 <ipython-input-2-7667fb18f09c>] Batch [1344/2077] mAP: 0.23570\n",
      "[2019-05-31 10:47:38,199 <ipython-input-2-7667fb18f09c>] Batch [1345/2077] mAP: 0.23557\n",
      "[2019-05-31 10:47:38,254 <ipython-input-2-7667fb18f09c>] Batch [1346/2077] mAP: 0.23593\n"
     ]
    },
    {
     "name": "stdout",
     "output_type": "stream",
     "text": [
      "tensor([[136.8184, 279.7319, 154.7643, 313.4250]], device='cuda:0')\n",
      "GT: tensor([[156.4160, 268.4587, 164.7360, 297.3013]], device='cuda:0')\n",
      "Pred: tensor([[136.8184, 279.7319, 154.7643, 313.4250]], device='cuda:0')\n",
      "GT: tensor([[183.0400, 270.6773, 191.3600, 295.0827]], device='cuda:0')\n",
      "Pred: tensor([[136.8184, 279.7319, 154.7643, 313.4250]], device='cuda:0')\n",
      "GT: tensor([[ 99.0080, 268.4587, 107.3280, 295.0827]], device='cuda:0')\n",
      "Pred: tensor([[136.8184, 279.7319, 154.7643, 313.4250]], device='cuda:0')\n",
      "GT: tensor([[ 41.6000, 269.5680,  50.7520, 306.1760]], device='cuda:0')\n",
      "Pred: tensor([[136.8184, 279.7319, 154.7643, 313.4250]], device='cuda:0')\n",
      "GT: tensor([[ 33.2800, 268.4587,  40.7680, 293.9733]], device='cuda:0')\n",
      "Pred: tensor([[250.6675,  71.3748, 373.1332, 407.9017]], device='cuda:0')\n",
      "GT: tensor([[241.6287,  27.4560, 396.0719, 408.5120]], device='cuda:0')\n",
      "Pred: tensor([[ 53.7029, 100.9754, 162.8759, 171.7868]], device='cuda:0')\n",
      "GT: tensor([[  0.0000,  70.7200, 153.1976, 187.2000]], device='cuda:0')\n",
      "Pred: tensor([[161.0362, 201.6432, 266.2320, 410.0275]], device='cuda:0')\n",
      "GT: tensor([[120.6400, 196.3520, 175.5520, 398.2507]], device='cuda:0')\n",
      "Pred: tensor([[116.1874, 158.7485, 190.9463, 432.7534]], device='cuda:0')\n",
      "GT: tensor([[120.6400, 196.3520, 175.5520, 398.2507]], device='cuda:0')\n",
      "Pred: tensor([[161.0362, 201.6432, 266.2320, 410.0275]], device='cuda:0')\n",
      "GT: tensor([[172.2240, 200.7893, 220.4800, 402.6880]], device='cuda:0')\n",
      "Pred: tensor([[116.1874, 158.7485, 190.9463, 432.7534]], device='cuda:0')\n",
      "GT: tensor([[172.2240, 200.7893, 220.4800, 402.6880]], device='cuda:0')\n",
      "Pred: tensor([[161.0362, 201.6432, 266.2320, 410.0275]], device='cuda:0')\n",
      "GT: tensor([[185.5360, 216.3200, 249.6000, 410.4533]], device='cuda:0')\n"
     ]
    },
    {
     "name": "stderr",
     "output_type": "stream",
     "text": [
      "[2019-05-31 10:47:38,287 <ipython-input-2-7667fb18f09c>] Batch [1347/2077] mAP: 0.23587\n",
      "[2019-05-31 10:47:38,370 <ipython-input-2-7667fb18f09c>] Batch [1348/2077] mAP: 0.23616\n",
      "[2019-05-31 10:47:38,420 <ipython-input-2-7667fb18f09c>] Batch [1349/2077] mAP: 0.23652\n",
      "[2019-05-31 10:47:38,490 <ipython-input-2-7667fb18f09c>] Batch [1350/2077] mAP: 0.23667\n",
      "[2019-05-31 10:47:38,540 <ipython-input-2-7667fb18f09c>] Batch [1351/2077] mAP: 0.23688\n"
     ]
    },
    {
     "name": "stdout",
     "output_type": "stream",
     "text": [
      "Pred: tensor([[ -5.3470, 112.7093, 100.0703, 299.8182]], device='cuda:0')\n",
      "GT: tensor([[ 65.7280, 143.1040, 125.6320, 290.6453]], device='cuda:0')\n",
      "Pred: tensor([[288.0386,  -0.4750, 391.3609, 299.1684]], device='cuda:0')\n",
      "GT: tensor([[ 65.7280, 143.1040, 125.6320, 290.6453]], device='cuda:0')\n",
      "Pred: tensor([[ -5.3470, 112.7093, 100.0703, 299.8182]], device='cuda:0')\n",
      "GT: tensor([[  0.0000, 112.0427,  89.0240, 290.6453]], device='cuda:0')\n",
      "Pred: tensor([[ -5.3470, 112.7093, 100.0703, 299.8182]], device='cuda:0')\n",
      "GT: tensor([[292.8640,  24.4053, 399.3600, 254.0373]], device='cuda:0')\n",
      "Pred: tensor([[288.0386,  -0.4750, 391.3609, 299.1684]], device='cuda:0')\n",
      "GT: tensor([[292.8640,  24.4053, 399.3600, 254.0373]], device='cuda:0')\n",
      "Pred: tensor([[118.7741, 157.2273, 287.7924, 405.1429]], device='cuda:0')\n",
      "GT: tensor([[128.9600, 140.8853, 289.5360, 414.8907]], device='cuda:0')\n",
      "Pred: tensor([[118.7741, 157.2273, 287.7924, 405.1429]], device='cuda:0')\n",
      "GT: tensor([[  0.0000, 272.8960,  63.2320, 414.8907]], device='cuda:0')\n",
      "Pred: tensor([[ -1.6489, 271.7941,  89.8237, 412.5830]], device='cuda:0')\n",
      "GT: tensor([[  0.0000, 272.8960,  63.2320, 414.8907]], device='cuda:0')\n",
      "Pred: tensor([[170.2156,  -3.9635, 313.8425, 355.4962]], device='cuda:0')\n",
      "GT: tensor([[123.9680,   9.9284, 299.5200, 393.1647]], device='cuda:0')\n",
      "Pred: tensor([[112.7486, 109.9148, 287.8093, 301.3022]], device='cuda:0')\n",
      "GT: tensor([[105.6640, 102.0587, 293.6960, 301.7387]], device='cuda:0')\n"
     ]
    },
    {
     "name": "stderr",
     "output_type": "stream",
     "text": [
      "[2019-05-31 10:47:38,617 <ipython-input-2-7667fb18f09c>] Batch [1352/2077] mAP: 0.23675\n",
      "[2019-05-31 10:47:38,696 <ipython-input-2-7667fb18f09c>] Batch [1353/2077] mAP: 0.23642\n",
      "[2019-05-31 10:47:38,763 <ipython-input-2-7667fb18f09c>] Batch [1354/2077] mAP: 0.23684\n"
     ]
    },
    {
     "name": "stdout",
     "output_type": "stream",
     "text": [
      "Pred: tensor([[ 80.3739,  96.5380, 341.2104, 310.4480]], device='cuda:0')\n",
      "GT: tensor([[154.7520,  49.9700, 320.3200, 367.2793]], device='cuda:0')\n",
      "Pred: tensor([[126.5918, 170.3248, 160.5630, 234.0326]], device='cuda:0')\n",
      "GT: tensor([[154.7520,  49.9700, 320.3200, 367.2793]], device='cuda:0')\n",
      "Pred: tensor([[ 80.3739,  96.5380, 341.2104, 310.4480]], device='cuda:0')\n",
      "GT: tensor([[108.1600, 128.6727, 158.9120, 241.1051]], device='cuda:0')\n",
      "Pred: tensor([[126.5918, 170.3248, 160.5630, 234.0326]], device='cuda:0')\n",
      "GT: tensor([[108.1600, 128.6727, 158.9120, 241.1051]], device='cuda:0')\n",
      "Pred: tensor([[ 29.0878, 152.2257, 133.9405, 396.8638]], device='cuda:0')\n",
      "GT: tensor([[189.6960, 158.4057, 258.7520, 414.5196]], device='cuda:0')\n",
      "Pred: tensor([[ 29.0878, 152.2257, 133.9405, 396.8638]], device='cuda:0')\n",
      "GT: tensor([[ 41.6000, 167.2883,  95.6800, 414.5196]], device='cuda:0')\n",
      "Pred: tensor([[ 29.0878, 152.2257, 133.9405, 396.8638]], device='cuda:0')\n",
      "GT: tensor([[  0.0000, 156.9253,  59.9040, 414.5196]], device='cuda:0')\n",
      "Pred: tensor([[ 29.0878, 152.2257, 133.9405, 396.8638]], device='cuda:0')\n",
      "GT: tensor([[198.8480, 179.1317, 266.2400, 272.3986]], device='cuda:0')\n",
      "Pred: tensor([[ 29.0878, 152.2257, 133.9405, 396.8638]], device='cuda:0')\n",
      "GT: tensor([[ 89.8560, 151.0036, 186.3680, 414.5196]], device='cuda:0')\n",
      "Pred: tensor([[129.0864,  78.2369, 344.2165, 460.1216]], device='cuda:0')\n",
      "GT: tensor([[137.4174, 104.0000, 328.5526, 415.1680]], device='cuda:0')\n",
      "Pred: tensor([[125.0256, 233.7266, 298.8173, 427.5159]], device='cuda:0')\n",
      "GT: tensor([[112.4324, 221.3120, 304.8168, 415.1680]], device='cuda:0')\n"
     ]
    },
    {
     "name": "stderr",
     "output_type": "stream",
     "text": [
      "[2019-05-31 10:47:38,809 <ipython-input-2-7667fb18f09c>] Batch [1355/2077] mAP: 0.23705\n",
      "[2019-05-31 10:47:38,845 <ipython-input-2-7667fb18f09c>] Batch [1356/2077] mAP: 0.23692\n",
      "[2019-05-31 10:47:38,899 <ipython-input-2-7667fb18f09c>] Batch [1357/2077] mAP: 0.23708\n",
      "[2019-05-31 10:47:38,955 <ipython-input-2-7667fb18f09c>] Batch [1358/2077] mAP: 0.23716\n"
     ]
    },
    {
     "name": "stdout",
     "output_type": "stream",
     "text": [
      "Pred: tensor([[ 24.7554,  75.4829, 376.6763, 344.0893]], device='cuda:0')\n",
      "GT: tensor([[ 22.4640,  71.9398, 398.5280, 364.3910]], device='cuda:0')\n",
      "Pred: tensor([[187.9320, 233.0753, 281.5359, 326.2646]], device='cuda:0')\n",
      "GT: tensor([[ 89.8560, 227.1360, 188.5867, 333.6320]], device='cuda:0')\n",
      "Pred: tensor([[187.9320, 233.0753, 281.5359, 326.2646]], device='cuda:0')\n",
      "GT: tensor([[169.7280, 231.2960, 277.3333, 345.2800]], device='cuda:0')\n",
      "Pred: tensor([[187.9320, 233.0753, 281.5359, 326.2646]], device='cuda:0')\n",
      "GT: tensor([[129.7920, 217.9840, 216.3200, 325.3120]], device='cuda:0')\n",
      "Pred: tensor([[187.9320, 233.0753, 281.5359, 326.2646]], device='cuda:0')\n",
      "GT: tensor([[200.7893, 222.1440, 287.3173, 327.8080]], device='cuda:0')\n",
      "Pred: tensor([[ 33.7949, 138.7533, 386.2336, 402.7072]], device='cuda:0')\n",
      "GT: tensor([[  6.6560, 172.2240, 414.8907, 415.1680]], device='cuda:0')\n",
      "Pred: "
     ]
    },
    {
     "name": "stderr",
     "output_type": "stream",
     "text": [
      "[2019-05-31 10:47:39,028 <ipython-input-2-7667fb18f09c>] Batch [1359/2077] mAP: 0.23732\n",
      "[2019-05-31 10:47:39,111 <ipython-input-2-7667fb18f09c>] Batch [1360/2077] mAP: 0.23761\n",
      "[2019-05-31 10:47:39,151 <ipython-input-2-7667fb18f09c>] Batch [1361/2077] mAP: 0.23754\n"
     ]
    },
    {
     "name": "stdout",
     "output_type": "stream",
     "text": [
      "tensor([[337.4313,  15.9816, 399.0420,  75.1817]], device='cuda:0')\n",
      "GT: tensor([[146.4320,  89.8560, 308.6720, 414.8907]], device='cuda:0')\n",
      "Pred: tensor([[224.0715, 104.3881, 255.9505, 184.5680]], device='cuda:0')\n",
      "GT: tensor([[234.6240,  85.4187, 257.9200, 190.8053]], device='cuda:0')\n",
      "Pred: tensor([[337.4313,  15.9816, 399.0420,  75.1817]], device='cuda:0')\n",
      "GT: tensor([[343.6160,   3.3280, 411.0080,  94.2933]], device='cuda:0')\n",
      "Pred: tensor([[108.4790, 109.7443, 310.0296, 307.4150]], device='cuda:0')\n",
      "GT: tensor([[132.2880,  96.5120, 287.0400, 303.9573]], device='cuda:0')\n",
      "Pred: tensor([[ 22.5381, 180.9752,  90.4942, 431.1063]], device='cuda:0')\n",
      "GT: tensor([[ 38.2720, 205.2267,  89.8560, 414.8907]], device='cuda:0')\n",
      "Pred: tensor([[ 22.5381, 180.9752,  90.4942, 431.1063]], device='cuda:0')\n",
      "GT: tensor([[ 99.0080, 209.6640, 108.9920, 262.9120]], device='cuda:0')\n",
      "Pred: tensor([[102.9146, 207.4989, 114.4157, 260.2862]], device='cuda:0')\n",
      "GT: tensor([[ 99.0080, 209.6640, 108.9920, 262.9120]], device='cuda:0')\n",
      "Pred: tensor([[ 22.5381, 180.9752,  90.4942, 431.1063]], device='cuda:0')\n",
      "GT: tensor([[205.5040, 146.4320, 225.4720, 180.8213]], device='cuda:0')\n",
      "Pred: tensor([[102.9146, 207.4989, 114.4157, 260.2862]], device='cuda:0')\n",
      "GT: tensor([[205.5040, 146.4320, 225.4720, 180.8213]], device='cuda:0')\n",
      "Pred: tensor([[178.4112,  75.8029, 305.9524, 293.7298]], device='cuda:0')\n",
      "GT: tensor([[113.9840,  58.7947, 369.4080, 319.4880]], device='cuda:0')\n",
      "Pred: "
     ]
    },
    {
     "name": "stderr",
     "output_type": "stream",
     "text": [
      "[2019-05-31 10:47:39,280 <ipython-input-2-7667fb18f09c>] Batch [1362/2077] mAP: 0.23717\n",
      "[2019-05-31 10:47:39,345 <ipython-input-2-7667fb18f09c>] Batch [1363/2077] mAP: 0.23697\n",
      "[2019-05-31 10:47:39,384 <ipython-input-2-7667fb18f09c>] Batch [1364/2077] mAP: 0.23691\n"
     ]
    },
    {
     "name": "stdout",
     "output_type": "stream",
     "text": [
      "tensor([[241.5807, 121.8512, 302.8310, 291.7971]], device='cuda:0')\n",
      "GT: tensor([[374.4000, 168.6187, 401.8560, 299.5200]], device='cuda:0')\n",
      "Pred: tensor([[241.5807, 121.8512, 302.8310, 291.7971]], device='cuda:0')\n",
      "GT: tensor([[386.8800, 158.6347, 409.3440, 268.4587]], device='cuda:0')\n",
      "Pred: tensor([[241.5807, 121.8512, 302.8310, 291.7971]], device='cuda:0')\n",
      "GT: tensor([[355.2640, 156.4160, 387.7120, 256.2560]], device='cuda:0')\n",
      "Pred: tensor([[241.5807, 121.8512, 302.8310, 291.7971]], device='cuda:0')\n",
      "GT: tensor([[262.0800, 140.8853, 301.1840, 283.9893]], device='cuda:0')\n",
      "Pred: tensor([[241.5807, 121.8512, 302.8310, 291.7971]], device='cuda:0')\n",
      "GT: tensor([[232.9600, 173.0560, 273.7280, 285.0987]], device='cuda:0')\n",
      "Pred: tensor([[241.5807, 121.8512, 302.8310, 291.7971]], device='cuda:0')\n",
      "GT: tensor([[250.4320, 140.8853, 270.4000, 194.1333]], device='cuda:0')\n",
      "Pred: tensor([[241.5807, 121.8512, 302.8310, 291.7971]], device='cuda:0')\n",
      "GT: tensor([[ 10.8160, 125.3547,  44.0960, 174.1653]], device='cuda:0')\n",
      "Pred: tensor([[241.5807, 121.8512, 302.8310, 291.7971]], device='cuda:0')\n",
      "GT: tensor([[  3.3280, 173.0560,  55.7440, 221.8667]], device='cuda:0')\n",
      "Pred: tensor([[241.5807, 121.8512, 302.8310, 291.7971]], device='cuda:0')\n",
      "GT: tensor([[119.8080, 133.1200, 128.1280, 255.1467]], device='cuda:0')\n",
      "Pred: tensor([[241.5807, 121.8512, 302.8310, 291.7971]], device='cuda:0')\n",
      "GT: tensor([[199.6800, 118.6987, 210.4960, 230.7413]], device='cuda:0')\n",
      "Pred: tensor([[ 84.2757, -13.7288, 216.1173,  90.1795]], device='cuda:0')\n",
      "GT: tensor([[111.4880,   0.0000, 178.0480,  67.6693]], device='cuda:0')\n",
      "Pred: tensor([[ 84.2757, -13.7288, 216.1173,  90.1795]], device='cuda:0')\n",
      "GT: tensor([[158.0800,   1.1093, 220.4800,  68.7787]], device='cuda:0')\n"
     ]
    },
    {
     "name": "stderr",
     "output_type": "stream",
     "text": [
      "[2019-05-31 10:47:39,425 <ipython-input-2-7667fb18f09c>] Batch [1365/2077] mAP: 0.23705\n",
      "[2019-05-31 10:47:39,459 <ipython-input-2-7667fb18f09c>] Batch [1366/2077] mAP: 0.23699\n",
      "[2019-05-31 10:47:39,498 <ipython-input-2-7667fb18f09c>] Batch [1367/2077] mAP: 0.23666\n",
      "[2019-05-31 10:47:39,556 <ipython-input-2-7667fb18f09c>] Batch [1368/2077] mAP: 0.23687\n",
      "[2019-05-31 10:47:39,606 <ipython-input-2-7667fb18f09c>] Batch [1369/2077] mAP: 0.23674\n"
     ]
    },
    {
     "name": "stdout",
     "output_type": "stream",
     "text": [
      "Pred: tensor([[-10.0935,  34.5271, 419.7289, 385.2978]], device='cuda:0')\n",
      "GT: tensor([[  0.0000,  31.0613, 401.0240, 414.8907]], device='cuda:0')\n",
      "Pred: tensor([[159.4343, 134.0923, 322.1368, 345.4034]], device='cuda:0')\n",
      "GT: tensor([[153.0880, 101.4940, 319.4880, 359.6145]], device='cuda:0')\n"
     ]
    },
    {
     "name": "stderr",
     "output_type": "stream",
     "text": [
      "[2019-05-31 10:47:39,656 <ipython-input-2-7667fb18f09c>] Batch [1370/2077] mAP: 0.23668\n",
      "[2019-05-31 10:47:39,701 <ipython-input-2-7667fb18f09c>] Batch [1371/2077] mAP: 0.23709\n",
      "[2019-05-31 10:47:39,756 <ipython-input-2-7667fb18f09c>] Batch [1372/2077] mAP: 0.23696\n",
      "[2019-05-31 10:47:39,813 <ipython-input-2-7667fb18f09c>] Batch [1373/2077] mAP: 0.23683\n"
     ]
    },
    {
     "name": "stdout",
     "output_type": "stream",
     "text": [
      "Pred: tensor([[141.4308, 190.8442, 215.3639, 272.0007]], device='cuda:0')\n",
      "GT: tensor([[145.6000, 206.1261, 208.8320, 244.8529]], device='cuda:0')\n",
      "Pred: tensor([[105.3759,  43.5302, 195.9711, 324.1673]], device='cuda:0')\n",
      "GT: tensor([[113.9840,  99.6407, 192.1920, 285.2216]], device='cuda:0')\n",
      "Pred: tensor([[107.6868, 160.6564, 191.9936, 379.6305]], device='cuda:0')\n",
      "GT: tensor([[129.7920, 151.9521, 180.5440, 393.5808]], device='cuda:0')\n",
      "Pred: tensor([[127.1501,  81.5514, 289.0153, 399.0191]], device='cuda:0')\n",
      "GT: tensor([[102.3360,  92.0747, 415.1680, 414.8907]], device='cuda:0')\n"
     ]
    },
    {
     "name": "stderr",
     "output_type": "stream",
     "text": [
      "[2019-05-31 10:47:39,880 <ipython-input-2-7667fb18f09c>] Batch [1374/2077] mAP: 0.23698\n",
      "[2019-05-31 10:47:39,932 <ipython-input-2-7667fb18f09c>] Batch [1375/2077] mAP: 0.23712\n",
      "[2019-05-31 10:47:39,986 <ipython-input-2-7667fb18f09c>] Batch [1376/2077] mAP: 0.23699\n",
      "[2019-05-31 10:47:40,032 <ipython-input-2-7667fb18f09c>] Batch [1377/2077] mAP: 0.23693\n"
     ]
    },
    {
     "name": "stdout",
     "output_type": "stream",
     "text": [
      "Pred: tensor([[115.2740, 133.3838, 279.8731, 400.9404]], device='cuda:0')\n",
      "GT: tensor([[114.8160,  47.7013, 279.5520, 414.8907]], device='cuda:0')\n",
      "Pred: tensor([[ 10.5815, 120.4482, 142.9792, 410.0442]], device='cuda:0')\n",
      "GT: tensor([[ 32.4480, 108.7147, 127.2960, 414.8907]], device='cuda:0')\n",
      "Pred: tensor([[  8.1297, 182.0236, 146.9223, 371.7471]], device='cuda:0')\n",
      "GT: tensor([[102.3360, 186.3680, 330.3040, 358.3147]], device='cuda:0')\n",
      "Pred: "
     ]
    },
    {
     "name": "stderr",
     "output_type": "stream",
     "text": [
      "[2019-05-31 10:47:40,084 <ipython-input-2-7667fb18f09c>] Batch [1378/2077] mAP: 0.23728\n",
      "[2019-05-31 10:47:40,124 <ipython-input-2-7667fb18f09c>] Batch [1379/2077] mAP: 0.23736\n",
      "[2019-05-31 10:47:40,182 <ipython-input-2-7667fb18f09c>] Batch [1380/2077] mAP: 0.23729\n",
      "[2019-05-31 10:47:40,253 <ipython-input-2-7667fb18f09c>] Batch [1381/2077] mAP: 0.23705\n"
     ]
    },
    {
     "name": "stdout",
     "output_type": "stream",
     "text": [
      "tensor([[109.2136, 171.5414, 249.4119, 363.3232]], device='cuda:0')\n",
      "GT: tensor([[102.3360, 186.3680, 330.3040, 358.3147]], device='cuda:0')\n",
      "Pred: tensor([[  8.1297, 182.0236, 146.9223, 371.7471]], device='cuda:0')\n",
      "GT: tensor([[  0.0000, 157.5253, 133.9520, 364.9707]], device='cuda:0')\n",
      "Pred: tensor([[266.4551, 173.8412, 409.6094, 358.1643]], device='cuda:0')\n",
      "GT: tensor([[256.2560, 137.5573, 415.1680, 414.8907]], device='cuda:0')\n",
      "Pred: tensor([[107.4186, 102.2487, 378.1560, 359.4710]], device='cuda:0')\n",
      "GT: tensor([[129.7920, 119.5841, 397.6960, 339.6697]], device='cuda:0')\n"
     ]
    },
    {
     "name": "stderr",
     "output_type": "stream",
     "text": [
      "[2019-05-31 10:47:40,325 <ipython-input-2-7667fb18f09c>] Batch [1382/2077] mAP: 0.23740\n",
      "[2019-05-31 10:47:40,389 <ipython-input-2-7667fb18f09c>] Batch [1383/2077] mAP: 0.23760\n",
      "[2019-05-31 10:47:40,449 <ipython-input-2-7667fb18f09c>] Batch [1384/2077] mAP: 0.23754\n",
      "[2019-05-31 10:47:40,498 <ipython-input-2-7667fb18f09c>] Batch [1385/2077] mAP: 0.23775\n"
     ]
    },
    {
     "name": "stdout",
     "output_type": "stream",
     "text": [
      "Pred: tensor([[155.8732,  17.5451, 262.4921, 338.2023]], device='cuda:0')\n",
      "GT: tensor([[183.0400,  18.7387, 250.4320, 341.0450]], device='cuda:0')\n",
      "Pred: tensor([[155.8732,  17.5451, 262.4921, 338.2023]], device='cuda:0')\n",
      "GT: tensor([[ 74.0480, 109.9339, 148.0960, 368.5285]], device='cuda:0')\n",
      "Pred: tensor([[ 71.5241, 104.3389, 164.4735, 319.1736]], device='cuda:0')\n",
      "GT: tensor([[ 74.0480, 109.9339, 148.0960, 368.5285]], device='cuda:0')\n",
      "Pred: tensor([[155.8732,  17.5451, 262.4921, 338.2023]], device='cuda:0')\n",
      "GT: tensor([[129.7920,  61.2132, 182.2080, 344.7928]], device='cuda:0')\n",
      "Pred: tensor([[ 71.5241, 104.3389, 164.4735, 319.1736]], device='cuda:0')\n",
      "GT: tensor([[129.7920,  61.2132, 182.2080, 344.7928]], device='cuda:0')\n",
      "Pred: tensor([[ 79.0294,  64.6744, 331.5865, 347.0465]], device='cuda:0')\n",
      "GT: tensor([[ 54.9120,  52.1387, 379.3920, 350.5493]], device='cuda:0')\n",
      "Pred: tensor([[152.1330, 126.7552, 257.3231, 281.1507]], device='cuda:0')\n",
      "GT: tensor([[154.7520,  65.4507, 263.7440, 291.7547]], device='cuda:0')\n"
     ]
    },
    {
     "name": "stderr",
     "output_type": "stream",
     "text": [
      "[2019-05-31 10:47:40,555 <ipython-input-2-7667fb18f09c>] Batch [1386/2077] mAP: 0.23797\n",
      "[2019-05-31 10:47:40,627 <ipython-input-2-7667fb18f09c>] Batch [1387/2077] mAP: 0.23779\n",
      "[2019-05-31 10:47:40,663 <ipython-input-2-7667fb18f09c>] Batch [1388/2077] mAP: 0.23772\n",
      "[2019-05-31 10:47:40,696 <ipython-input-2-7667fb18f09c>] Batch [1389/2077] mAP: 0.23766\n"
     ]
    },
    {
     "name": "stdout",
     "output_type": "stream",
     "text": [
      "Pred: tensor([[313.2278, 109.4165, 424.1443, 254.0426]], device='cuda:0')\n",
      "GT: tensor([[330.5514, 133.9520, 414.8757, 245.4400]], device='cuda:0')\n",
      "Pred: tensor([[269.8202,  -6.2669, 402.2996, 168.3259]], device='cuda:0')\n",
      "GT: tensor([[282.2054,  19.1360, 404.7567, 133.9520]], device='cuda:0')\n",
      "Pred: tensor([[210.7598, 178.0434, 262.8134, 302.3417]], device='cuda:0')\n",
      "GT: tensor([[199.6800, 172.4064, 273.7280, 345.9251]], device='cuda:0')\n",
      "Pred: tensor([[210.7598, 178.0434, 262.8134, 302.3417]], device='cuda:0')\n",
      "GT: tensor([[239.6160, 212.4492, 355.2640, 413.7754]], device='cuda:0')\n",
      "Pred: tensor([[210.7598, 178.0434, 262.8134, 302.3417]], device='cuda:0')\n",
      "GT: tensor([[296.1920, 149.0481, 339.4560, 175.7433]], device='cuda:0')\n",
      "Pred: tensor([[210.7598, 178.0434, 262.8134, 302.3417]], device='cuda:0')\n",
      "GT: tensor([[ 82.3680, 142.3743, 181.3760, 185.7540]], device='cuda:0')\n",
      "Pred: tensor([[210.7598, 178.0434, 262.8134, 302.3417]], device='cuda:0')\n",
      "GT: tensor([[351.1040, 111.2299, 415.1680, 184.6417]], device='cuda:0')\n"
     ]
    },
    {
     "name": "stderr",
     "output_type": "stream",
     "text": [
      "[2019-05-31 10:47:40,753 <ipython-input-2-7667fb18f09c>] Batch [1390/2077] mAP: 0.23786\n",
      "[2019-05-31 10:47:40,806 <ipython-input-2-7667fb18f09c>] Batch [1391/2077] mAP: 0.23780\n",
      "[2019-05-31 10:47:40,874 <ipython-input-2-7667fb18f09c>] Batch [1392/2077] mAP: 0.23788\n",
      "[2019-05-31 10:47:40,912 <ipython-input-2-7667fb18f09c>] Batch [1393/2077] mAP: 0.23743\n"
     ]
    },
    {
     "name": "stdout",
     "output_type": "stream",
     "text": [
      "Pred: tensor([[ 58.4710,  98.4718, 346.4456, 398.3590]], device='cuda:0')\n",
      "GT: tensor([[ 52.9017, 101.8182, 414.7977, 402.9091]], device='cuda:0')\n",
      "Pred: tensor([[ 92.1184, 219.6152, 151.6663, 325.8896]], device='cuda:0')\n",
      "GT: tensor([[175.5520,  33.2800, 401.0240, 414.8907]], device='cuda:0')\n",
      "Pred: tensor([[  0.8637, 249.1279,  39.9628, 299.2061]], device='cuda:0')\n",
      "GT: tensor([[175.5520,  33.2800, 401.0240, 414.8907]], device='cuda:0')\n",
      "Pred: tensor([[ 92.1184, 219.6152, 151.6663, 325.8896]], device='cuda:0')\n",
      "GT: tensor([[ 93.1840, 200.7893, 168.8960, 351.6587]], device='cuda:0')\n",
      "Pred: tensor([[ 92.1184, 219.6152, 151.6663, 325.8896]], device='cuda:0')\n",
      "GT: tensor([[  0.0000, 255.1467,  76.5440, 343.8933]], device='cuda:0')\n",
      "Pred: tensor([[  0.8637, 249.1279,  39.9628, 299.2061]], device='cuda:0')\n",
      "GT: tensor([[  0.0000, 255.1467,  76.5440, 343.8933]], device='cuda:0')\n"
     ]
    },
    {
     "name": "stderr",
     "output_type": "stream",
     "text": [
      "[2019-05-31 10:47:40,989 <ipython-input-2-7667fb18f09c>] Batch [1394/2077] mAP: 0.23778\n",
      "[2019-05-31 10:47:41,035 <ipython-input-2-7667fb18f09c>] Batch [1395/2077] mAP: 0.23798\n",
      "[2019-05-31 10:47:41,094 <ipython-input-2-7667fb18f09c>] Batch [1396/2077] mAP: 0.23806\n",
      "[2019-05-31 10:47:41,140 <ipython-input-2-7667fb18f09c>] Batch [1397/2077] mAP: 0.23826\n"
     ]
    },
    {
     "name": "stdout",
     "output_type": "stream",
     "text": [
      "Pred: tensor([[124.1729, 203.8124, 231.4266, 349.0988]], device='cuda:0')\n",
      "GT: tensor([[141.4400, 208.0000, 221.3120, 339.4356]], device='cuda:0')\n",
      "Pred: tensor([[124.1729, 203.8124, 231.4266, 349.0988]], device='cuda:0')\n",
      "GT: tensor([[247.9360, 223.3129, 328.6400, 340.7117]], device='cuda:0')\n",
      "Pred: tensor([[214.1683,  73.2534, 244.7524, 213.0768]], device='cuda:0')\n",
      "GT: tensor([[213.8240,  90.6012, 236.2880, 190.1350]], device='cuda:0')\n",
      "Pred: tensor([[ 69.4036,  58.5350, 350.1710, 358.2203]], device='cuda:0')\n",
      "GT: tensor([[ 58.2400,  66.5600, 399.3600, 353.8773]], device='cuda:0')\n",
      "Pred: tensor([[ 99.5770, 101.7130, 238.6529, 248.5431]], device='cuda:0')\n",
      "GT: tensor([[107.3280,  98.7307, 236.2880, 254.0373]], device='cuda:0')\n",
      "Pred: tensor([[3.3144e-01, 4.0667e+01, 4.2003e+02, 3.8335e+02]], device='cuda:0')\n",
      "GT: tensor([[  4.9920,  35.7760, 387.7120, 400.1920]], device='cuda:0')\n"
     ]
    },
    {
     "name": "stderr",
     "output_type": "stream",
     "text": [
      "[2019-05-31 10:47:41,177 <ipython-input-2-7667fb18f09c>] Batch [1398/2077] mAP: 0.23813\n",
      "[2019-05-31 10:47:41,227 <ipython-input-2-7667fb18f09c>] Batch [1399/2077] mAP: 0.23815\n",
      "[2019-05-31 10:47:41,292 <ipython-input-2-7667fb18f09c>] Batch [1400/2077] mAP: 0.23829\n",
      "[2019-05-31 10:47:41,353 <ipython-input-2-7667fb18f09c>] Batch [1401/2077] mAP: 0.23849\n",
      "[2019-05-31 10:47:41,400 <ipython-input-2-7667fb18f09c>] Batch [1402/2077] mAP: 0.23869\n"
     ]
    },
    {
     "name": "stdout",
     "output_type": "stream",
     "text": [
      "Pred: tensor([[ 36.0333, 166.0120, 123.8052, 384.6755]], device='cuda:0')\n",
      "GT: tensor([[ 22.1867, 162.2400, 124.2453, 374.4000]], device='cuda:0')\n",
      "Pred: tensor([[ 36.0333, 166.0120, 123.8052, 384.6755]], device='cuda:0')\n",
      "GT: tensor([[154.1973, 162.2400, 245.1627, 293.6960]], device='cuda:0')\n",
      "Pred: tensor([[ 36.0333, 166.0120, 123.8052, 384.6755]], device='cuda:0')\n",
      "GT: tensor([[232.9600, 152.2560, 341.6747, 258.7520]], device='cuda:0')\n",
      "Pred: tensor([[ 32.5308,  19.7039, 395.7128, 396.3996]], device='cuda:0')\n",
      "GT: tensor([[ 25.7920,  43.2640, 390.2080, 352.7680]], device='cuda:0')\n",
      "Pred: tensor([[381.7173, 220.1980, 408.9945, 257.2487]], device='cuda:0')\n",
      "GT: tensor([[391.8720, 214.1013, 415.1680, 270.6773]], device='cuda:0')\n",
      "Pred: tensor([[171.3425,  92.1940, 254.9610, 334.4474]], device='cuda:0')\n",
      "GT: tensor([[147.2640, 114.9309, 285.3760, 306.0661]], device='cuda:0')\n",
      "Pred: tensor([[ 20.0156,  43.6259, 395.8524, 305.5900]], device='cuda:0')\n",
      "GT: tensor([[ 14.9760,  31.5776, 397.6960, 336.3696]], device='cuda:0')\n"
     ]
    },
    {
     "name": "stderr",
     "output_type": "stream",
     "text": [
      "[2019-05-31 10:47:41,443 <ipython-input-2-7667fb18f09c>] Batch [1403/2077] mAP: 0.23857\n",
      "[2019-05-31 10:47:41,503 <ipython-input-2-7667fb18f09c>] Batch [1404/2077] mAP: 0.23877\n",
      "[2019-05-31 10:47:41,559 <ipython-input-2-7667fb18f09c>] Batch [1405/2077] mAP: 0.23899\n",
      "[2019-05-31 10:47:41,601 <ipython-input-2-7667fb18f09c>] Batch [1406/2077] mAP: 0.23919\n",
      "[2019-05-31 10:47:41,635 <ipython-input-2-7667fb18f09c>] Batch [1407/2077] mAP: 0.23900\n"
     ]
    },
    {
     "name": "stdout",
     "output_type": "stream",
     "text": [
      "Pred: tensor([[172.4010, 190.8447, 257.8766, 304.2764]], device='cuda:0')\n",
      "GT: tensor([[104.8320,  68.7087, 312.8320, 414.7508]], device='cuda:0')\n",
      "Pred: tensor([[156.0324, 164.0942, 221.4806, 433.8616]], device='cuda:0')\n",
      "GT: tensor([[132.2880, 199.3846, 229.6320, 414.7692]], device='cuda:0')\n",
      "Pred: tensor([[ 97.3794, 170.8611, 253.2601, 247.3705]], device='cuda:0')\n",
      "GT: tensor([[119.8080, 161.9627, 221.3120, 266.2400]], device='cuda:0')\n",
      "Pred: tensor([[301.0072, 183.7811, 428.1207, 431.8453]], device='cuda:0')\n",
      "GT: tensor([[311.1680, 191.9147, 415.1680, 414.8907]], device='cuda:0')\n",
      "Pred: tensor([[178.6899, 270.1427, 231.0593, 331.3662]], device='cuda:0')\n",
      "GT: tensor([[179.7120, 277.3333, 223.8080, 323.9253]], device='cuda:0')\n"
     ]
    },
    {
     "name": "stderr",
     "output_type": "stream",
     "text": [
      "[2019-05-31 10:47:41,688 <ipython-input-2-7667fb18f09c>] Batch [1408/2077] mAP: 0.23893\n",
      "[2019-05-31 10:47:41,730 <ipython-input-2-7667fb18f09c>] Batch [1409/2077] mAP: 0.23887\n",
      "[2019-05-31 10:47:41,767 <ipython-input-2-7667fb18f09c>] Batch [1410/2077] mAP: 0.23862\n",
      "[2019-05-31 10:47:41,803 <ipython-input-2-7667fb18f09c>] Batch [1411/2077] mAP: 0.23830\n",
      "[2019-05-31 10:47:41,869 <ipython-input-2-7667fb18f09c>] Batch [1412/2077] mAP: 0.23817\n",
      "[2019-05-31 10:47:41,934 <ipython-input-2-7667fb18f09c>] Batch [1413/2077] mAP: 0.23825\n",
      "[2019-05-31 10:47:41,973 <ipython-input-2-7667fb18f09c>] Batch [1414/2077] mAP: 0.23845\n"
     ]
    },
    {
     "name": "stdout",
     "output_type": "stream",
     "text": [
      "Pred: tensor([[ 54.8815,  95.6686, 184.4904, 271.6993]], device='cuda:0')\n",
      "GT: tensor([[ 19.9680,  85.0716, 231.2960, 342.8384]], device='cuda:0')\n",
      "Pred: tensor([[ 54.8815,  95.6686, 184.4904, 271.6993]], device='cuda:0')\n",
      "GT: tensor([[193.0240, 137.8159, 386.0480, 370.9121]], device='cuda:0')\n",
      "Pred: tensor([[152.2124, 103.5364, 260.5159, 384.5734]], device='cuda:0')\n",
      "GT: tensor([[140.6080,  89.9459, 254.5920, 414.7508]], device='cuda:0')\n",
      "Pred: tensor([[152.2124, 103.5364, 260.5159, 384.5734]], device='cuda:0')\n",
      "GT: tensor([[256.2560, 117.4294, 412.6720, 414.7508]], device='cuda:0')\n",
      "Pred: tensor([[241.5473, 204.6254, 360.7493, 344.3414]], device='cuda:0')\n",
      "GT: tensor([[256.2560, 117.4294, 412.6720, 414.7508]], device='cuda:0')\n",
      "Pred: tensor([[152.2124, 103.5364, 260.5159, 384.5734]], device='cuda:0')\n",
      "GT: tensor([[  2.4960,  43.7237, 174.7200, 414.7508]], device='cuda:0')\n",
      "Pred: tensor([[241.5473, 204.6254, 360.7493, 344.3414]], device='cuda:0')\n",
      "GT: tensor([[  2.4960,  43.7237, 174.7200, 414.7508]], device='cuda:0')\n",
      "Pred: tensor([[125.0698,  76.2534, 281.0250, 402.5683]], device='cuda:0')\n",
      "GT: tensor([[107.3280,  81.8544, 306.1760, 414.8787]], device='cuda:0')\n",
      "Pred: tensor([[212.0147,  75.5436, 339.7006, 346.9339]], device='cuda:0')\n",
      "GT: tensor([[  0.0000,  15.8644, 225.5158, 344.6102]], device='cuda:0')\n",
      "Pred: tensor([[ 36.9096, -13.2493, 244.1957, 380.0615]], device='cuda:0')\n",
      "GT: tensor([[  0.0000,  15.8644, 225.5158, 344.6102]], device='cuda:0')\n",
      "Pred: tensor([[212.0147,  75.5436, 339.7006, 346.9339]], device='cuda:0')\n",
      "GT: tensor([[144.5053,  44.0678, 394.1053, 347.2542]], device='cuda:0')\n",
      "Pred: tensor([[ 36.9096, -13.2493, 244.1957, 380.0615]], device='cuda:0')\n",
      "GT: "
     ]
    },
    {
     "name": "stderr",
     "output_type": "stream",
     "text": [
      "[2019-05-31 10:47:42,063 <ipython-input-2-7667fb18f09c>] Batch [1415/2077] mAP: 0.23859\n",
      "[2019-05-31 10:47:42,119 <ipython-input-2-7667fb18f09c>] Batch [1416/2077] mAP: 0.23852\n",
      "[2019-05-31 10:47:42,161 <ipython-input-2-7667fb18f09c>] Batch [1417/2077] mAP: 0.23840\n",
      "[2019-05-31 10:47:42,206 <ipython-input-2-7667fb18f09c>] Batch [1418/2077] mAP: 0.23796\n"
     ]
    },
    {
     "name": "stdout",
     "output_type": "stream",
     "text": [
      "tensor([[144.5053,  44.0678, 394.1053, 347.2542]], device='cuda:0')\n",
      "Pred: tensor([[129.4464, 150.0976, 337.9352, 322.9890]], device='cuda:0')\n",
      "GT: tensor([[ 66.5600, 199.6800, 395.2000, 314.4960]], device='cuda:0')\n",
      "Pred: tensor([[123.4210, 112.7924, 164.6123, 176.1339]], device='cuda:0')\n",
      "GT: "
     ]
    },
    {
     "name": "stderr",
     "output_type": "stream",
     "text": [
      "[2019-05-31 10:47:42,292 <ipython-input-2-7667fb18f09c>] Batch [1419/2077] mAP: 0.23803\n",
      "[2019-05-31 10:47:42,332 <ipython-input-2-7667fb18f09c>] Batch [1420/2077] mAP: 0.23791\n",
      "[2019-05-31 10:47:42,386 <ipython-input-2-7667fb18f09c>] Batch [1421/2077] mAP: 0.23759\n",
      "[2019-05-31 10:47:42,453 <ipython-input-2-7667fb18f09c>] Batch [1422/2077] mAP: 0.23773\n"
     ]
    },
    {
     "name": "stdout",
     "output_type": "stream",
     "text": [
      "tensor([[171.9467, 149.7600, 379.3920, 415.1680]], device='cuda:0')\n",
      "Pred: tensor([[204.1226, 151.0340, 336.6439, 393.8931]], device='cuda:0')\n",
      "GT: tensor([[171.9467, 149.7600, 379.3920, 415.1680]], device='cuda:0')\n",
      "Pred: tensor([[123.4210, 112.7924, 164.6123, 176.1339]], device='cuda:0')\n",
      "GT: tensor([[ 96.5120,  67.3920, 369.4080, 415.1680]], device='cuda:0')\n",
      "Pred: tensor([[204.1226, 151.0340, 336.6439, 393.8931]], device='cuda:0')\n",
      "GT: tensor([[ 96.5120,  67.3920, 369.4080, 415.1680]], device='cuda:0')\n",
      "Pred: tensor([[123.4210, 112.7924, 164.6123, 176.1339]], device='cuda:0')\n",
      "GT: tensor([[100.9493,  85.6960, 225.1947, 198.0160]], device='cuda:0')\n",
      "Pred: tensor([[204.1226, 151.0340, 336.6439, 393.8931]], device='cuda:0')\n",
      "GT: tensor([[100.9493,  85.6960, 225.1947, 198.0160]], device='cuda:0')\n",
      "Pred: tensor([[333.4349, 350.4024, 399.0852, 391.1810]], device='cuda:0')\n",
      "GT: tensor([[148.9280, 254.0373, 172.2240, 287.3173]], device='cuda:0')\n",
      "Pred: tensor([[295.2414, 341.2170, 377.4697, 407.4055]], device='cuda:0')\n",
      "GT: tensor([[148.9280, 254.0373, 172.2240, 287.3173]], device='cuda:0')\n",
      "Pred: tensor([[333.4349, 350.4024, 399.0852, 391.1810]], device='cuda:0')\n",
      "GT: tensor([[139.7760, 267.3493, 151.4240, 315.0507]], device='cuda:0')\n",
      "Pred: tensor([[295.2414, 341.2170, 377.4697, 407.4055]], device='cuda:0')\n",
      "GT: tensor([[139.7760, 267.3493, 151.4240, 315.0507]], device='cuda:0')\n",
      "Pred: tensor([[197.9784, 100.8436, 354.9898, 313.6083]], device='cuda:0')\n",
      "GT: tensor([[ 57.4080,  99.2601, 198.0160, 414.8847]], device='cuda:0')\n",
      "Pred: tensor([[197.9784, 100.8436, 354.9898, 313.6083]], device='cuda:0')\n",
      "GT: tensor([[199.6800,  80.3003, 349.4400, 414.8847]], device='cuda:0')\n"
     ]
    },
    {
     "name": "stderr",
     "output_type": "stream",
     "text": [
      "[2019-05-31 10:47:42,495 <ipython-input-2-7667fb18f09c>] Batch [1423/2077] mAP: 0.23761\n",
      "[2019-05-31 10:47:42,539 <ipython-input-2-7667fb18f09c>] Batch [1424/2077] mAP: 0.23754\n",
      "[2019-05-31 10:47:42,585 <ipython-input-2-7667fb18f09c>] Batch [1425/2077] mAP: 0.23717\n",
      "[2019-05-31 10:47:42,684 <ipython-input-2-7667fb18f09c>] Batch [1426/2077] mAP: 0.23719\n"
     ]
    },
    {
     "name": "stdout",
     "output_type": "stream",
     "text": [
      "Pred: tensor([[183.0078,  60.1131, 301.0968, 299.0023]], device='cuda:0')\n",
      "GT: tensor([[154.7520,  13.7417, 309.5040, 409.7538]], device='cuda:0')\n",
      "Pred: tensor([[192.6286, 150.3974, 278.8810, 260.8138]], device='cuda:0')\n",
      "GT: tensor([[239.6160, 144.2133, 292.0320, 214.1013]], device='cuda:0')\n",
      "Pred: tensor([[  6.3179, 149.0128, 139.4117, 374.0524]], device='cuda:0')\n",
      "GT: tensor([[239.6160, 144.2133, 292.0320, 214.1013]], device='cuda:0')\n",
      "Pred: tensor([[192.6286, 150.3974, 278.8810, 260.8138]], device='cuda:0')\n",
      "GT: tensor([[214.6560, 161.9627, 269.5680, 264.0213]], device='cuda:0')\n",
      "Pred: tensor([[192.6286, 150.3974, 278.8810, 260.8138]], device='cuda:0')\n",
      "GT: tensor([[153.9200, 154.1973, 224.6400, 247.3813]], device='cuda:0')\n",
      "Pred: tensor([[  6.3179, 149.0128, 139.4117, 374.0524]], device='cuda:0')\n",
      "GT: tensor([[153.9200, 154.1973, 224.6400, 247.3813]], device='cuda:0')\n",
      "Pred: tensor([[192.6286, 150.3974, 278.8810, 260.8138]], device='cuda:0')\n",
      "GT: tensor([[  1.6640, 151.9787, 127.2960, 374.9547]], device='cuda:0')\n",
      "Pred: tensor([[  6.3179, 149.0128, 139.4117, 374.0524]], device='cuda:0')\n",
      "GT: tensor([[  1.6640, 151.9787, 127.2960, 374.9547]], device='cuda:0')\n",
      "Pred: tensor([[ 52.1069, 139.0697, 227.7630, 422.6882]], device='cuda:0')\n",
      "GT: tensor([[ 50.7520, 126.4640, 217.1520, 414.8907]], device='cuda:0')\n",
      "Pred: tensor([[ 52.1069, 139.0697, 227.7630, 422.6882]], device='cuda:0')\n",
      "GT: "
     ]
    },
    {
     "name": "stderr",
     "output_type": "stream",
     "text": [
      "[2019-05-31 10:47:42,738 <ipython-input-2-7667fb18f09c>] Batch [1427/2077] mAP: 0.23733\n",
      "[2019-05-31 10:47:42,803 <ipython-input-2-7667fb18f09c>] Batch [1428/2077] mAP: 0.23727\n",
      "[2019-05-31 10:47:42,860 <ipython-input-2-7667fb18f09c>] Batch [1429/2077] mAP: 0.23747\n",
      "[2019-05-31 10:47:42,907 <ipython-input-2-7667fb18f09c>] Batch [1430/2077] mAP: 0.23767\n"
     ]
    },
    {
     "name": "stdout",
     "output_type": "stream",
     "text": [
      "tensor([[143.9360, 120.9173, 325.3120, 414.8907]], device='cuda:0')\n",
      "Pred: tensor([[100.8562,  78.9919, 322.4509, 274.2469]], device='cuda:0')\n",
      "GT: tensor([[103.1680,  36.2282, 318.6560, 293.5736]], device='cuda:0')\n",
      "Pred: tensor([[ 64.8911, 127.4670, 297.9667, 294.2455]], device='cuda:0')\n",
      "GT: tensor([[  9.9840, 138.6667, 409.3440, 302.3183]], device='cuda:0')\n"
     ]
    },
    {
     "name": "stderr",
     "output_type": "stream",
     "text": [
      "[2019-05-31 10:47:42,969 <ipython-input-2-7667fb18f09c>] Batch [1431/2077] mAP: 0.23807\n",
      "[2019-05-31 10:47:43,009 <ipython-input-2-7667fb18f09c>] Batch [1432/2077] mAP: 0.23801\n",
      "[2019-05-31 10:47:43,062 <ipython-input-2-7667fb18f09c>] Batch [1433/2077] mAP: 0.23788\n",
      "[2019-05-31 10:47:43,114 <ipython-input-2-7667fb18f09c>] Batch [1434/2077] mAP: 0.23776\n",
      "[2019-05-31 10:47:43,152 <ipython-input-2-7667fb18f09c>] Batch [1435/2077] mAP: 0.23770\n"
     ]
    },
    {
     "name": "stdout",
     "output_type": "stream",
     "text": [
      "Pred: tensor([[122.0236,  85.4608, 297.3299, 392.9011]], device='cuda:0')\n",
      "GT: tensor([[121.1772, 123.1360, 291.0751, 367.7440]], device='cuda:0')\n",
      "Pred: tensor([[110.3518, 223.4712, 309.8483, 379.1309]], device='cuda:0')\n",
      "GT: tensor([[142.4144, 231.2960, 302.3183, 400.1920]], device='cuda:0')\n",
      "Pred: tensor([[102.4916,  -3.2378, 365.9485, 160.6007]], device='cuda:0')\n",
      "GT: tensor([[ 13.3120,  28.8427, 295.3600, 322.8160]], device='cuda:0')\n"
     ]
    },
    {
     "name": "stderr",
     "output_type": "stream",
     "text": [
      "[2019-05-31 10:47:43,205 <ipython-input-2-7667fb18f09c>] Batch [1436/2077] mAP: 0.23732\n",
      "[2019-05-31 10:47:43,249 <ipython-input-2-7667fb18f09c>] Batch [1437/2077] mAP: 0.23708\n",
      "[2019-05-31 10:47:43,302 <ipython-input-2-7667fb18f09c>] Batch [1438/2077] mAP: 0.23658\n",
      "[2019-05-31 10:47:43,356 <ipython-input-2-7667fb18f09c>] Batch [1439/2077] mAP: 0.23660\n",
      "[2019-05-31 10:47:43,407 <ipython-input-2-7667fb18f09c>] Batch [1440/2077] mAP: 0.23679\n",
      "[2019-05-31 10:47:43,477 <ipython-input-2-7667fb18f09c>] Batch [1441/2077] mAP: 0.23675\n",
      "[2019-05-31 10:47:43,525 <ipython-input-2-7667fb18f09c>] Batch [1442/2077] mAP: 0.23688\n"
     ]
    },
    {
     "name": "stdout",
     "output_type": "stream",
     "text": [
      "Pred: tensor([[121.1036,  53.3656, 416.6585, 299.9359]], device='cuda:0')\n",
      "GT: tensor([[138.9440,   3.7033, 371.0720, 338.2314]], device='cuda:0')\n",
      "Pred: tensor([[ 82.1692, 136.2876, 339.3290, 268.3068]], device='cuda:0')\n",
      "GT: tensor([[ 70.7200, 127.3005, 349.4400, 256.8743]], device='cuda:0')\n",
      "Pred: tensor([[173.8182, 128.7845, 311.2755, 409.8248]], device='cuda:0')\n",
      "GT: tensor([[  0.0000,  44.6815,  60.0889, 275.7926]], device='cuda:0')\n",
      "Pred: tensor([[173.8182, 128.7845, 311.2755, 409.8248]], device='cuda:0')\n",
      "GT: tensor([[  0.0000, 114.0148, 184.8889, 317.3926]], device='cuda:0')\n",
      "Pred: tensor([[173.8182, 128.7845, 311.2755, 409.8248]], device='cuda:0')\n",
      "GT: tensor([[106.3111, 127.8815, 312.0000, 414.4593]], device='cuda:0')\n",
      "Pred: tensor([[173.8182, 128.7845, 311.2755, 409.8248]], device='cuda:0')\n",
      "GT: tensor([[244.9778,  93.9852, 414.8445, 414.4593]], device='cuda:0')\n",
      "Pred: tensor([[ 87.3320,  67.7062, 252.2949, 398.1408]], device='cuda:0')\n",
      "GT: tensor([[ 78.2080, 114.2448, 219.6480, 402.3403]], device='cuda:0')\n",
      "Pred: tensor([[111.9883,  95.3613, 239.0282, 314.7950]], device='cuda:0')\n",
      "GT: tensor([[108.9920,   3.7254, 255.4240, 237.1821]], device='cuda:0')\n"
     ]
    },
    {
     "name": "stderr",
     "output_type": "stream",
     "text": [
      "[2019-05-31 10:47:43,579 <ipython-input-2-7667fb18f09c>] Batch [1443/2077] mAP: 0.23696\n",
      "[2019-05-31 10:47:43,633 <ipython-input-2-7667fb18f09c>] Batch [1444/2077] mAP: 0.23684\n",
      "[2019-05-31 10:47:43,675 <ipython-input-2-7667fb18f09c>] Batch [1445/2077] mAP: 0.23665\n",
      "[2019-05-31 10:47:43,747 <ipython-input-2-7667fb18f09c>] Batch [1446/2077] mAP: 0.23642\n"
     ]
    },
    {
     "name": "stdout",
     "output_type": "stream",
     "text": [
      "Pred: tensor([[304.1345, 255.8789, 424.8713, 415.8751]], device='cuda:0')\n",
      "GT: tensor([[110.6560, 150.8693, 149.7600, 228.5227]], device='cuda:0')\n",
      "Pred: tensor([[109.3323, 143.3562, 156.1520, 275.3617]], device='cuda:0')\n",
      "GT: tensor([[110.6560, 150.8693, 149.7600, 228.5227]], device='cuda:0')\n",
      "Pred: tensor([[304.1345, 255.8789, 424.8713, 415.8751]], device='cuda:0')\n",
      "GT: tensor([[317.8240, 249.6000, 415.1680, 414.8907]], device='cuda:0')\n",
      "Pred: tensor([[ 88.5560, 169.8461, 185.3774, 290.0003]], device='cuda:0')\n",
      "GT: tensor([[102.3360, 185.2587, 165.5680, 262.9120]], device='cuda:0')\n",
      "Pred: tensor([[263.8808, 138.5817, 412.5222, 393.8644]], device='cuda:0')\n",
      "GT: tensor([[  0.0000, 117.5893, 102.3360, 414.8907]], device='cuda:0')\n",
      "Pred: tensor([[263.8808, 138.5817, 412.5222, 393.8644]], device='cuda:0')\n",
      "GT: tensor([[ 51.5840, 100.9493, 121.4720, 412.6720]], device='cuda:0')\n",
      "Pred: tensor([[263.8808, 138.5817, 412.5222, 393.8644]], device='cuda:0')\n",
      "GT: tensor([[ 95.6800,  89.8560, 163.0720, 340.5653]], device='cuda:0')\n",
      "Pred: tensor([[263.8808, 138.5817, 412.5222, 393.8644]], device='cuda:0')\n",
      "GT: tensor([[ 94.8480,  68.7787, 204.6720, 272.8960]], device='cuda:0')\n",
      "Pred: tensor([[263.8808, 138.5817, 412.5222, 393.8644]], device='cuda:0')\n",
      "GT: tensor([[278.7200, 132.0107, 404.3520, 414.8907]], device='cuda:0')\n",
      "Pred: tensor([[263.8808, 138.5817, 412.5222, 393.8644]], device='cuda:0')\n",
      "GT: tensor([[282.8800, 113.1520, 343.6160, 293.9733]], device='cuda:0')\n",
      "Pred: tensor([[263.8808, 138.5817, 412.5222, 393.8644]], device='cuda:0')\n",
      "GT: tensor([[267.0720,  93.1840, 312.0000, 251.8187]], device='cuda:0')\n"
     ]
    },
    {
     "name": "stderr",
     "output_type": "stream",
     "text": [
      "[2019-05-31 10:47:43,808 <ipython-input-2-7667fb18f09c>] Batch [1447/2077] mAP: 0.23656\n",
      "[2019-05-31 10:47:43,884 <ipython-input-2-7667fb18f09c>] Batch [1448/2077] mAP: 0.23669\n",
      "[2019-05-31 10:47:43,933 <ipython-input-2-7667fb18f09c>] Batch [1449/2077] mAP: 0.23689\n",
      "[2019-05-31 10:47:43,982 <ipython-input-2-7667fb18f09c>] Batch [1450/2077] mAP: 0.23703\n"
     ]
    },
    {
     "name": "stdout",
     "output_type": "stream",
     "text": [
      "Pred: tensor([[227.3512, 296.3928, 307.3661, 363.5408]], device='cuda:0')\n",
      "GT: tensor([[212.9920, 301.1948, 318.6560, 363.3247]], device='cuda:0')\n",
      "Pred: tensor([[ 26.4382, 132.8104, 385.9127, 401.8498]], device='cuda:0')\n",
      "GT: tensor([[335.2960, 136.1682, 415.1680, 326.0540]], device='cuda:0')\n",
      "Pred: tensor([[ 26.4382, 132.8104, 385.9127, 401.8498]], device='cuda:0')\n",
      "GT: tensor([[ 54.0800, 122.4264, 381.0560, 359.7838]], device='cuda:0')\n",
      "Pred: tensor([[ 10.4924, 101.2807, 398.3796, 372.2369]], device='cuda:0')\n",
      "GT: tensor([[  8.3200, 103.7270, 391.8720, 379.9685]], device='cuda:0')\n",
      "Pred: tensor([[-13.4435,  35.2612, 370.4540, 391.3412]], device='cuda:0')\n",
      "GT: tensor([[  0.0000,  87.6373,  56.5760, 361.6427]], device='cuda:0')\n",
      "Pred: tensor([[-13.4435,  35.2612, 370.4540, 391.3412]], device='cuda:0')\n",
      "GT: tensor([[ 17.4720,  56.5760, 415.1680, 390.4853]], device='cuda:0')\n"
     ]
    },
    {
     "name": "stderr",
     "output_type": "stream",
     "text": [
      "[2019-05-31 10:47:44,035 <ipython-input-2-7667fb18f09c>] Batch [1451/2077] mAP: 0.23678\n",
      "[2019-05-31 10:47:44,091 <ipython-input-2-7667fb18f09c>] Batch [1452/2077] mAP: 0.23692\n",
      "[2019-05-31 10:47:44,127 <ipython-input-2-7667fb18f09c>] Batch [1453/2077] mAP: 0.23686\n",
      "[2019-05-31 10:47:44,196 <ipython-input-2-7667fb18f09c>] Batch [1454/2077] mAP: 0.23681\n",
      "[2019-05-31 10:47:44,241 <ipython-input-2-7667fb18f09c>] Batch [1455/2077] mAP: 0.23700\n"
     ]
    },
    {
     "name": "stdout",
     "output_type": "stream",
     "text": [
      "Pred: tensor([[ 99.2737, 130.5370, 258.7032, 205.1202]], device='cuda:0')\n",
      "GT: tensor([[138.9440, 130.7723, 247.9360, 239.9208]], device='cuda:0')\n",
      "Pred: tensor([[160.1764, -10.8562, 212.8198, 279.8389]], device='cuda:0')\n",
      "GT: tensor([[173.0560,  75.1683, 212.1600, 197.7030]], device='cuda:0')\n",
      "Pred: tensor([[170.1566, 200.6765, 259.8403, 399.5674]], device='cuda:0')\n",
      "GT: tensor([[268.7360, 118.6987, 415.1680, 303.9573]], device='cuda:0')\n",
      "Pred: tensor([[170.1566, 200.6765, 259.8403, 399.5674]], device='cuda:0')\n",
      "GT: tensor([[183.0400, 191.9147, 290.3680, 414.8907]], device='cuda:0')\n",
      "Pred: tensor([[187.5546,  93.3010, 348.8155, 262.2141]], device='cuda:0')\n",
      "GT: tensor([[191.3600,  64.0896, 336.1280, 284.3249]], device='cuda:0')\n"
     ]
    },
    {
     "name": "stderr",
     "output_type": "stream",
     "text": [
      "[2019-05-31 10:47:44,317 <ipython-input-2-7667fb18f09c>] Batch [1456/2077] mAP: 0.23682\n",
      "[2019-05-31 10:47:44,367 <ipython-input-2-7667fb18f09c>] Batch [1457/2077] mAP: 0.23702\n",
      "[2019-05-31 10:47:44,445 <ipython-input-2-7667fb18f09c>] Batch [1458/2077] mAP: 0.23741\n"
     ]
    },
    {
     "name": "stdout",
     "output_type": "stream",
     "text": [
      "Pred: tensor([[140.7314,  24.8602, 208.9864, 131.2526]], device='cuda:0')\n",
      "GT: tensor([[312.8320, 133.6697, 415.1680, 338.5465]], device='cuda:0')\n",
      "Pred: tensor([[140.7314,  24.8602, 208.9864, 131.2526]], device='cuda:0')\n",
      "GT: tensor([[131.4560, 116.1802, 293.6960, 414.7508]], device='cuda:0')\n",
      "Pred: tensor([[140.7314,  24.8602, 208.9864, 131.2526]], device='cuda:0')\n",
      "GT: tensor([[  0.0000,  38.7267, 113.1520, 243.6036]], device='cuda:0')\n",
      "Pred: tensor([[ 84.1521, -15.3497, 393.9978, 377.3789]], device='cuda:0')\n",
      "GT: tensor([[ 68.2240,   0.0000, 415.1680, 414.8907]], device='cuda:0')\n",
      "Pred: tensor([[ 87.6877,  12.7160, 212.5063, 277.8397]], device='cuda:0')\n",
      "GT: tensor([[ 89.0435,  26.6240, 217.0435, 262.9120]], device='cuda:0')\n",
      "Pred: tensor([[ -3.4676, 105.5519, 350.2251, 373.5151]], device='cuda:0')\n",
      "GT: tensor([[ 82.0870, 113.9840, 296.3478, 415.1680]], device='cuda:0')\n",
      "Pred: "
     ]
    },
    {
     "name": "stderr",
     "output_type": "stream",
     "text": [
      "[2019-05-31 10:47:44,503 <ipython-input-2-7667fb18f09c>] Batch [1459/2077] mAP: 0.23735\n",
      "[2019-05-31 10:47:44,549 <ipython-input-2-7667fb18f09c>] Batch [1460/2077] mAP: 0.23717\n",
      "[2019-05-31 10:47:44,593 <ipython-input-2-7667fb18f09c>] Batch [1461/2077] mAP: 0.23736\n",
      "[2019-05-31 10:47:44,629 <ipython-input-2-7667fb18f09c>] Batch [1462/2077] mAP: 0.23706\n",
      "[2019-05-31 10:47:44,687 <ipython-input-2-7667fb18f09c>] Batch [1463/2077] mAP: 0.23725\n"
     ]
    },
    {
     "name": "stdout",
     "output_type": "stream",
     "text": [
      "tensor([[ 33.9768, 131.7256, 189.2027, 271.5085]], device='cuda:0')\n",
      "GT: tensor([[  0.0000, 144.9129, 217.1520, 227.3634]], device='cuda:0')\n",
      "Pred: tensor([[131.6015,  66.5642, 235.5742, 216.9847]], device='cuda:0')\n",
      "GT: tensor([[145.3227,  76.5440, 227.4133, 206.3360]], device='cuda:0')\n",
      "Pred: tensor([[138.5675,  61.0014, 333.3274, 303.9562]], device='cuda:0')\n",
      "GT: tensor([[106.4960,  51.0293, 368.5760, 340.5653]], device='cuda:0')\n"
     ]
    },
    {
     "name": "stderr",
     "output_type": "stream",
     "text": [
      "[2019-05-31 10:47:44,735 <ipython-input-2-7667fb18f09c>] Batch [1464/2077] mAP: 0.23745\n",
      "[2019-05-31 10:47:44,798 <ipython-input-2-7667fb18f09c>] Batch [1465/2077] mAP: 0.23758\n",
      "[2019-05-31 10:47:44,842 <ipython-input-2-7667fb18f09c>] Batch [1466/2077] mAP: 0.23778\n",
      "[2019-05-31 10:47:44,882 <ipython-input-2-7667fb18f09c>] Batch [1467/2077] mAP: 0.23797\n"
     ]
    },
    {
     "name": "stdout",
     "output_type": "stream",
     "text": [
      "Pred: tensor([[ 24.9599, 174.4879, 449.8510, 374.5168]], device='cuda:0')\n",
      "GT: tensor([[  9.9840, 146.4320, 414.8907, 398.5280]], device='cuda:0')\n",
      "Pred: tensor([[112.5536,  95.3474, 356.8812, 303.9491]], device='cuda:0')\n",
      "GT: tensor([[  0.0000, 104.0000,  55.4667, 261.8795]], device='cuda:0')\n",
      "Pred: tensor([[112.5536,  95.3474, 356.8812, 303.9491]], device='cuda:0')\n",
      "GT: tensor([[104.8667,  45.1084, 344.9333, 328.2892]], device='cuda:0')\n",
      "Pred: tensor([[ 32.9878, 116.8215, 248.0928, 413.1470]], device='cuda:0')\n",
      "GT: tensor([[ 29.1200, 114.2613, 227.9680, 414.8907]], device='cuda:0')\n",
      "Pred: tensor([[ 11.9520, 213.6755, 402.6178, 399.2414]], device='cuda:0')\n",
      "GT: tensor([[  0.0000, 214.6560, 403.7973, 415.1680]], device='cuda:0')\n"
     ]
    },
    {
     "name": "stderr",
     "output_type": "stream",
     "text": [
      "[2019-05-31 10:47:44,940 <ipython-input-2-7667fb18f09c>] Batch [1468/2077] mAP: 0.23791\n",
      "[2019-05-31 10:47:45,014 <ipython-input-2-7667fb18f09c>] Batch [1469/2077] mAP: 0.23786\n",
      "[2019-05-31 10:47:45,088 <ipython-input-2-7667fb18f09c>] Batch [1470/2077] mAP: 0.23776\n"
     ]
    },
    {
     "name": "stdout",
     "output_type": "stream",
     "text": [
      "Pred: tensor([[ -6.3477, 265.6272, 111.9107, 406.0139]], device='cuda:0')\n",
      "GT: tensor([[ 29.9520, 251.9437,  84.8640, 404.2817]], device='cuda:0')\n",
      "Pred: tensor([[ 45.0374, 159.4752, 116.7958, 254.1469]], device='cuda:0')\n",
      "GT: tensor([[ 58.2400, 164.1813, 104.0000, 251.8187]], device='cuda:0')\n",
      "Pred: tensor([[ 45.0374, 159.4752, 116.7958, 254.1469]], device='cuda:0')\n",
      "GT: tensor([[318.6560, 179.7120, 388.5440, 313.9413]], device='cuda:0')\n",
      "Pred: tensor([[275.1367, 198.0816, 413.4601, 395.1195]], device='cuda:0')\n",
      "GT: tensor([[318.6560, 179.7120, 388.5440, 313.9413]], device='cuda:0')\n",
      "Pred: tensor([[186.1330, 148.9717, 302.3476, 401.5359]], device='cuda:0')\n",
      "GT: tensor([[208.8320, 158.6347, 292.8640, 384.9387]], device='cuda:0')\n",
      "Pred: tensor([[186.1330, 148.9717, 302.3476, 401.5359]], device='cuda:0')\n",
      "GT: tensor([[282.0480,  34.3893, 292.8640,  56.5760]], device='cuda:0')\n",
      "Pred: tensor([[186.1330, 148.9717, 302.3476, 401.5359]], device='cuda:0')\n",
      "GT: tensor([[269.5680,  32.1707, 280.3840,  52.1387]], device='cuda:0')\n",
      "Pred: tensor([[130.2638, 150.1302, 292.0320, 316.6482]], device='cuda:0')\n",
      "GT: tensor([[ 12.4800, 103.4497,  84.8640, 172.7831]], device='cuda:0')\n",
      "Pred: tensor([[130.2638, 150.1302, 292.0320, 316.6482]], device='cuda:0')\n",
      "GT: "
     ]
    },
    {
     "name": "stderr",
     "output_type": "stream",
     "text": [
      "[2019-05-31 10:47:45,160 <ipython-input-2-7667fb18f09c>] Batch [1471/2077] mAP: 0.23739\n",
      "[2019-05-31 10:47:45,221 <ipython-input-2-7667fb18f09c>] Batch [1472/2077] mAP: 0.23759\n",
      "[2019-05-31 10:47:45,281 <ipython-input-2-7667fb18f09c>] Batch [1473/2077] mAP: 0.23791\n",
      "[2019-05-31 10:47:45,317 <ipython-input-2-7667fb18f09c>] Batch [1474/2077] mAP: 0.23785\n"
     ]
    },
    {
     "name": "stdout",
     "output_type": "stream",
     "text": [
      "tensor([[151.4240,  95.7460, 201.3440, 141.9682]], device='cuda:0')\n",
      "Pred: tensor([[130.2638, 150.1302, 292.0320, 316.6482]], device='cuda:0')\n",
      "GT: tensor([[127.2960, 118.8571, 184.7040, 163.9788]], device='cuda:0')\n",
      "Pred: tensor([[130.2638, 150.1302, 292.0320, 316.6482]], device='cuda:0')\n",
      "GT: tensor([[188.8640, 148.5714, 268.7360, 320.2540]], device='cuda:0')\n",
      "Pred: tensor([[130.2638, 150.1302, 292.0320, 316.6482]], device='cuda:0')\n",
      "GT: tensor([[100.6720, 163.9788, 179.7120, 269.6296]], device='cuda:0')\n",
      "Pred: tensor([[130.2638, 150.1302, 292.0320, 316.6482]], device='cuda:0')\n",
      "GT: tensor([[138.1120, 178.2857, 193.8560, 282.8360]], device='cuda:0')\n",
      "Pred: tensor([[ 59.0360, 132.4209, 343.5420, 368.2254]], device='cuda:0')\n",
      "GT: tensor([[  0.0000, 102.1317, 316.9920, 392.3353]], device='cuda:0')\n",
      "Pred: tensor([[178.0024,  35.8351, 249.3525, 169.3104]], device='cuda:0')\n",
      "GT: tensor([[186.1381,  39.9360, 243.6036, 157.2480]], device='cuda:0')\n",
      "Pred: tensor([[178.0024,  35.8351, 249.3525, 169.3104]], device='cuda:0')\n",
      "GT: tensor([[231.1111,  41.6000, 296.0721, 156.4160]], device='cuda:0')\n",
      "Pred: tensor([[237.2945,  31.4231, 290.8374, 178.2684]], device='cuda:0')\n",
      "GT: tensor([[231.1111,  41.6000, 296.0721, 156.4160]], device='cuda:0')\n"
     ]
    },
    {
     "name": "stderr",
     "output_type": "stream",
     "text": [
      "[2019-05-31 10:47:45,366 <ipython-input-2-7667fb18f09c>] Batch [1475/2077] mAP: 0.23799\n",
      "[2019-05-31 10:47:45,416 <ipython-input-2-7667fb18f09c>] Batch [1476/2077] mAP: 0.23793\n",
      "[2019-05-31 10:47:45,465 <ipython-input-2-7667fb18f09c>] Batch [1477/2077] mAP: 0.23806\n",
      "[2019-05-31 10:47:45,536 <ipython-input-2-7667fb18f09c>] Batch [1478/2077] mAP: 0.23852\n"
     ]
    },
    {
     "name": "stdout",
     "output_type": "stream",
     "text": [
      "Pred: tensor([[ 39.8495,  95.6542, 438.1849, 312.8609]], device='cuda:0')\n",
      "GT: tensor([[ 69.0560,  56.5760, 408.5120, 315.0507]], device='cuda:0')\n",
      "Pred: tensor([[ 93.5276,  99.4725, 383.5331, 314.5946]], device='cuda:0')\n",
      "GT: tensor([[ 23.2960, 208.5547,  87.3600, 248.4907]], device='cuda:0')\n",
      "Pred: tensor([[222.8136, 177.6638, 263.5854, 284.2433]], device='cuda:0')\n",
      "GT: tensor([[225.4720, 192.3844, 273.7280, 267.3393]], device='cuda:0')\n",
      "Pred: tensor([[157.3615, 153.0105, 260.8960, 261.3096]], device='cuda:0')\n",
      "GT: tensor([[272.0640, 135.3387, 415.1680, 286.2080]], device='cuda:0')\n",
      "Pred: tensor([[281.0021, 146.9158, 400.6577, 277.9819]], device='cuda:0')\n",
      "GT: tensor([[272.0640, 135.3387, 415.1680, 286.2080]], device='cuda:0')\n",
      "Pred: tensor([[157.3615, 153.0105, 260.8960, 261.3096]], device='cuda:0')\n",
      "GT: tensor([[116.4800, 139.7760, 267.9040, 264.0213]], device='cuda:0')\n",
      "Pred: tensor([[157.3615, 153.0105, 260.8960, 261.3096]], device='cuda:0')\n",
      "GT: tensor([[ 46.5920, 139.7760, 203.8400, 297.3013]], device='cuda:0')\n",
      "Pred: tensor([[281.0021, 146.9158, 400.6577, 277.9819]], device='cuda:0')\n",
      "GT: tensor([[ 46.5920, 139.7760, 203.8400, 297.3013]], device='cuda:0')\n",
      "Pred: tensor([[ 19.4746,  74.5060,  77.4095, 390.1321]], device='cuda:0')\n",
      "GT: tensor([[ 22.4640, 113.1520,  79.0400, 340.5653]], device='cuda:0')\n",
      "Pred: tensor([[ 19.4746,  74.5060,  77.4095, 390.1321]], device='cuda:0')\n",
      "GT: tensor([[ 56.5760, 136.4480, 149.7600, 210.7733]], device='cuda:0')\n"
     ]
    },
    {
     "name": "stderr",
     "output_type": "stream",
     "text": [
      "[2019-05-31 10:47:45,614 <ipython-input-2-7667fb18f09c>] Batch [1479/2077] mAP: 0.23865\n",
      "[2019-05-31 10:47:45,667 <ipython-input-2-7667fb18f09c>] Batch [1480/2077] mAP: 0.23847\n",
      "[2019-05-31 10:47:45,724 <ipython-input-2-7667fb18f09c>] Batch [1481/2077] mAP: 0.23860\n",
      "[2019-05-31 10:47:45,774 <ipython-input-2-7667fb18f09c>] Batch [1482/2077] mAP: 0.23837\n"
     ]
    },
    {
     "name": "stdout",
     "output_type": "stream",
     "text": [
      "Pred: tensor([[130.3852,  35.4485, 224.0020, 318.1487]], device='cuda:0')\n",
      "GT: tensor([[ 98.1760,  31.0613, 233.7920, 303.9573]], device='cuda:0')\n",
      "Pred: tensor([[130.3852,  35.4485, 224.0020, 318.1487]], device='cuda:0')\n",
      "GT: tensor([[173.0560, 150.8693, 232.9600, 306.1760]], device='cuda:0')\n",
      "Pred: tensor([[192.9516, 114.9436, 288.0315, 217.2603]], device='cuda:0')\n",
      "GT: tensor([[199.6800, 141.1652, 272.0640, 202.3784]], device='cuda:0')\n",
      "Pred: tensor([[200.0916, 165.1724, 263.8501, 308.8659]], device='cuda:0')\n",
      "GT: tensor([[199.6800, 159.4252, 237.9520, 310.1317]], device='cuda:0')\n",
      "Pred: tensor([[173.8539, 135.6363, 299.9004, 266.7150]], device='cuda:0')\n",
      "GT: tensor([[180.5440, 127.5733, 285.3760, 274.0053]], device='cuda:0')\n"
     ]
    },
    {
     "name": "stderr",
     "output_type": "stream",
     "text": [
      "[2019-05-31 10:47:45,807 <ipython-input-2-7667fb18f09c>] Batch [1483/2077] mAP: 0.23831\n",
      "[2019-05-31 10:47:45,864 <ipython-input-2-7667fb18f09c>] Batch [1484/2077] mAP: 0.23747\n",
      "[2019-05-31 10:47:45,910 <ipython-input-2-7667fb18f09c>] Batch [1485/2077] mAP: 0.23760\n",
      "[2019-05-31 10:47:45,968 <ipython-input-2-7667fb18f09c>] Batch [1486/2077] mAP: 0.23781\n",
      "[2019-05-31 10:47:46,025 <ipython-input-2-7667fb18f09c>] Batch [1487/2077] mAP: 0.23775\n",
      "[2019-05-31 10:47:46,071 <ipython-input-2-7667fb18f09c>] Batch [1488/2077] mAP: 0.23769\n"
     ]
    },
    {
     "name": "stdout",
     "output_type": "stream",
     "text": [
      "Pred: tensor([[ 85.1062, 204.9289, 202.9808, 396.6933]], device='cuda:0')\n",
      "GT: tensor([[ 90.6880, 232.9600, 195.5200, 379.3920]], device='cuda:0')\n",
      "Pred: tensor([[  6.6890, 328.9001,  26.1763, 410.8410]], device='cuda:0')\n",
      "GT: tensor([[138.9440, 336.2874, 153.9200, 402.2994]], device='cuda:0')\n",
      "Pred: tensor([[  6.6890, 328.9001,  26.1763, 410.8410]], device='cuda:0')\n",
      "GT: tensor([[ 62.4000, 301.4132,  79.0400, 342.5150]], device='cuda:0')\n",
      "Pred: tensor([[  6.6890, 328.9001,  26.1763, 410.8410]], device='cuda:0')\n",
      "GT: tensor([[  3.3280, 328.8144,  24.9600, 414.7545]], device='cuda:0')\n",
      "Pred: tensor([[139.0999, 106.0523, 351.7463, 422.6088]], device='cuda:0')\n",
      "GT: tensor([[184.7040, 108.3593, 322.8160, 414.7545]], device='cuda:0')\n"
     ]
    },
    {
     "name": "stderr",
     "output_type": "stream",
     "text": [
      "[2019-05-31 10:47:46,118 <ipython-input-2-7667fb18f09c>] Batch [1489/2077] mAP: 0.23788\n",
      "[2019-05-31 10:47:46,178 <ipython-input-2-7667fb18f09c>] Batch [1490/2077] mAP: 0.23807\n",
      "[2019-05-31 10:47:46,232 <ipython-input-2-7667fb18f09c>] Batch [1491/2077] mAP: 0.23795\n",
      "[2019-05-31 10:47:46,290 <ipython-input-2-7667fb18f09c>] Batch [1492/2077] mAP: 0.23789\n"
     ]
    },
    {
     "name": "stdout",
     "output_type": "stream",
     "text": [
      "Pred: tensor([[ 34.5060,  20.2172, 325.5532, 393.2543]], device='cuda:0')\n",
      "GT: tensor([[ 95.6800,  30.8571, 297.8560, 401.1429]], device='cuda:0')\n",
      "Pred: tensor([[ 60.6431,  86.8560, 352.8096, 269.4684]], device='cuda:0')\n",
      "GT: tensor([[ 34.1120,  72.1067, 353.6000, 285.0987]], device='cuda:0')\n",
      "Pred: tensor([[ 80.0883, 108.2359, 262.1089, 361.9840]], device='cuda:0')\n",
      "GT: tensor([[  3.3280,  97.6173, 313.6640, 400.9820]], device='cuda:0')\n",
      "Pred: tensor([[ 80.0883, 108.2359, 262.1089, 361.9840]], device='cuda:0')\n",
      "GT: tensor([[301.1840,  96.1155, 385.2160, 228.2744]], device='cuda:0')\n"
     ]
    },
    {
     "name": "stderr",
     "output_type": "stream",
     "text": [
      "[2019-05-31 10:47:46,335 <ipython-input-2-7667fb18f09c>] Batch [1493/2077] mAP: 0.23753\n",
      "[2019-05-31 10:47:46,388 <ipython-input-2-7667fb18f09c>] Batch [1494/2077] mAP: 0.23786\n",
      "[2019-05-31 10:47:46,429 <ipython-input-2-7667fb18f09c>] Batch [1495/2077] mAP: 0.23805\n",
      "[2019-05-31 10:47:46,478 <ipython-input-2-7667fb18f09c>] Batch [1496/2077] mAP: 0.23799\n",
      "[2019-05-31 10:47:46,546 <ipython-input-2-7667fb18f09c>] Batch [1497/2077] mAP: 0.23812\n"
     ]
    },
    {
     "name": "stdout",
     "output_type": "stream",
     "text": [
      "Pred: tensor([[156.9778, 181.0157, 253.4987, 297.2087]], device='cuda:0')\n",
      "GT: tensor([[156.4160, 160.8533, 247.9360, 315.0507]], device='cuda:0')\n",
      "Pred: tensor([[156.9778, 181.0157, 253.4987, 297.2087]], device='cuda:0')\n",
      "GT: tensor([[329.4720, 157.5253, 415.1680, 333.9093]], device='cuda:0')\n",
      "Pred: tensor([[317.0196, 174.0499, 422.7115, 358.9020]], device='cuda:0')\n",
      "GT: tensor([[329.4720, 157.5253, 415.1680, 333.9093]], device='cuda:0')\n",
      "Pred: tensor([[ 88.7703,  95.8387, 211.6914, 373.3217]], device='cuda:0')\n",
      "GT: tensor([[ 71.5520,  42.4745, 237.1200, 414.7508]], device='cuda:0')\n",
      "Pred: tensor([[ 54.5923,  81.3909, 374.2952, 382.2621]], device='cuda:0')\n",
      "GT: tensor([[ 63.2320,  87.7922, 377.7280, 357.9221]], device='cuda:0')\n",
      "Pred: tensor([[ 54.5923,  81.3909, 374.2952, 382.2621]], device='cuda:0')\n",
      "GT: tensor([[  0.0000, 101.2987, 261.2480, 351.1688]], device='cuda:0')\n"
     ]
    },
    {
     "name": "stderr",
     "output_type": "stream",
     "text": [
      "[2019-05-31 10:47:46,599 <ipython-input-2-7667fb18f09c>] Batch [1498/2077] mAP: 0.23831\n",
      "[2019-05-31 10:47:46,639 <ipython-input-2-7667fb18f09c>] Batch [1499/2077] mAP: 0.23850\n",
      "[2019-05-31 10:47:46,690 <ipython-input-2-7667fb18f09c>] Batch [1500/2077] mAP: 0.23838\n",
      "[2019-05-31 10:47:46,746 <ipython-input-2-7667fb18f09c>] Batch [1501/2077] mAP: 0.23857\n",
      "[2019-05-31 10:47:46,788 <ipython-input-2-7667fb18f09c>] Batch [1502/2077] mAP: 0.23845\n"
     ]
    },
    {
     "name": "stdout",
     "output_type": "stream",
     "text": [
      "Pred: tensor([[ 90.3526, 121.8978, 328.5568, 289.0679]], device='cuda:0')\n",
      "GT: tensor([[ 96.8627,  82.3680, 322.1961, 322.8160]], device='cuda:0')\n",
      "Pred: tensor([[ 27.6262,  88.6806, 386.1732, 398.5825]], device='cuda:0')\n",
      "GT: tensor([[  9.9840,  97.6213, 352.7680, 414.8907]], device='cuda:0')\n",
      "Pred: tensor([[180.7415, 110.1833, 315.8870, 321.3409]], device='cuda:0')\n",
      "GT: tensor([[  0.0000,  46.5920, 356.9280, 414.8907]], device='cuda:0')\n",
      "Pred: tensor([[109.0619,  56.0326, 373.2962, 402.8435]], device='cuda:0')\n",
      "GT: tensor([[  0.0000,  46.5920, 356.9280, 414.8907]], device='cuda:0')\n",
      "Pred: tensor([[319.0576, 163.1953, 401.2288, 323.9284]], device='cuda:0')\n",
      "GT: tensor([[  0.0000,   7.7516, 116.4800, 289.3913]], device='cuda:0')\n"
     ]
    },
    {
     "name": "stderr",
     "output_type": "stream",
     "text": [
      "[2019-05-31 10:47:46,824 <ipython-input-2-7667fb18f09c>] Batch [1503/2077] mAP: 0.23833\n",
      "[2019-05-31 10:47:46,876 <ipython-input-2-7667fb18f09c>] Batch [1504/2077] mAP: 0.23827\n",
      "[2019-05-31 10:47:46,943 <ipython-input-2-7667fb18f09c>] Batch [1505/2077] mAP: 0.23804\n",
      "[2019-05-31 10:47:47,003 <ipython-input-2-7667fb18f09c>] Batch [1506/2077] mAP: 0.23823\n",
      "[2019-05-31 10:47:47,042 <ipython-input-2-7667fb18f09c>] Batch [1507/2077] mAP: 0.23817\n",
      "[2019-05-31 10:47:47,093 <ipython-input-2-7667fb18f09c>] Batch [1508/2077] mAP: 0.23836\n"
     ]
    },
    {
     "name": "stdout",
     "output_type": "stream",
     "text": [
      "Pred: tensor([[315.6220, 265.2863, 352.0039, 292.4510]], device='cuda:0')\n",
      "GT: tensor([[327.8476, 272.0508, 352.6095, 309.0286]], device='cuda:0')\n",
      "Pred: tensor([[128.8677, 121.6821, 304.9051, 346.9928]], device='cuda:0')\n",
      "GT: tensor([[  6.6560,  42.2029, 407.6800, 395.9034]], device='cuda:0')\n",
      "Pred: tensor([[ 33.8031,  58.5358, 389.4581, 421.1042]], device='cuda:0')\n",
      "GT: tensor([[  6.6560,  42.2029, 407.6800, 395.9034]], device='cuda:0')\n",
      "Pred: tensor([[ 30.3066,  58.7185, 382.8494, 366.2486]], device='cuda:0')\n",
      "GT: tensor([[ 35.7760,  38.8267, 376.0640, 374.9547]], device='cuda:0')\n"
     ]
    },
    {
     "name": "stderr",
     "output_type": "stream",
     "text": [
      "[2019-05-31 10:47:47,141 <ipython-input-2-7667fb18f09c>] Batch [1509/2077] mAP: 0.23830\n",
      "[2019-05-31 10:47:47,186 <ipython-input-2-7667fb18f09c>] Batch [1510/2077] mAP: 0.23849\n",
      "[2019-05-31 10:47:47,231 <ipython-input-2-7667fb18f09c>] Batch [1511/2077] mAP: 0.23825\n",
      "[2019-05-31 10:47:47,278 <ipython-input-2-7667fb18f09c>] Batch [1512/2077] mAP: 0.23832\n",
      "[2019-05-31 10:47:47,357 <ipython-input-2-7667fb18f09c>] Batch [1513/2077] mAP: 0.23852\n"
     ]
    },
    {
     "name": "stdout",
     "output_type": "stream",
     "text": [
      "Pred: tensor([[ 50.4228,  -2.5140, 375.9709, 426.4118]], device='cuda:0')\n",
      "GT: tensor([[ 67.2195,  15.8080, 366.5366, 401.0240]], device='cuda:0')\n",
      "Pred: tensor([[ 99.2311, 108.8610, 383.9315, 319.3197]], device='cuda:0')\n",
      "GT: tensor([[102.3360, 121.4867, 379.3920, 327.6460]], device='cuda:0')\n",
      "Pred: tensor([[127.2507, 166.0821, 226.2192, 322.7959]], device='cuda:0')\n",
      "GT: tensor([[173.0560, 199.6800, 234.6240, 281.7707]], device='cuda:0')\n",
      "Pred: tensor([[127.2507, 166.0821, 226.2192, 322.7959]], device='cuda:0')\n",
      "GT: tensor([[183.8720, 257.3653, 252.0960, 302.8480]], device='cuda:0')\n",
      "Pred: tensor([[127.2507, 166.0821, 226.2192, 322.7959]], device='cuda:0')\n",
      "GT: tensor([[131.4560, 161.9627, 220.4800, 303.9573]], device='cuda:0')\n",
      "Pred: tensor([[334.6237, 218.7938, 413.9590, 272.4475]], device='cuda:0')\n",
      "GT: tensor([[331.9680, 221.8667, 401.8560, 270.6773]], device='cuda:0')\n",
      "Pred: tensor([[334.6237, 218.7938, 413.9590, 272.4475]], device='cuda:0')\n",
      "GT: tensor([[261.2480, 205.2267, 329.4720, 239.6160]], device='cuda:0')\n"
     ]
    },
    {
     "name": "stderr",
     "output_type": "stream",
     "text": [
      "[2019-05-31 10:47:47,434 <ipython-input-2-7667fb18f09c>] Batch [1514/2077] mAP: 0.23834\n",
      "[2019-05-31 10:47:47,483 <ipython-input-2-7667fb18f09c>] Batch [1515/2077] mAP: 0.23828\n",
      "[2019-05-31 10:47:47,533 <ipython-input-2-7667fb18f09c>] Batch [1516/2077] mAP: 0.23823\n",
      "[2019-05-31 10:47:47,572 <ipython-input-2-7667fb18f09c>] Batch [1517/2077] mAP: 0.23817\n"
     ]
    },
    {
     "name": "stdout",
     "output_type": "stream",
     "text": [
      "Pred: tensor([[380.8041, 258.9308, 407.0453, 288.0349]], device='cuda:0')\n",
      "GT: tensor([[ 41.7817, 250.5731,  83.5633, 272.4678]], device='cuda:0')\n",
      "Pred: tensor([[-7.9895e-02,  2.4793e+02,  3.6716e+01,  2.9017e+02]], device='cuda:0')\n",
      "GT: tensor([[ 41.7817, 250.5731,  83.5633, 272.4678]], device='cuda:0')\n",
      "Pred: tensor([[380.8041, 258.9308, 407.0453, 288.0349]], device='cuda:0')\n",
      "GT: tensor([[  0.0000, 253.0058,  39.9651, 273.6842]], device='cuda:0')\n",
      "Pred: tensor([[-7.9895e-02,  2.4793e+02,  3.6716e+01,  2.9017e+02]], device='cuda:0')\n",
      "GT: tensor([[  0.0000, 253.0058,  39.9651, 273.6842]], device='cuda:0')\n",
      "Pred: tensor([[380.8041, 258.9308, 407.0453, 288.0349]], device='cuda:0')\n",
      "GT: tensor([[396.0175, 262.7368, 415.0917, 282.1988]], device='cuda:0')\n",
      "Pred: tensor([[-7.9895e-02,  2.4793e+02,  3.6716e+01,  2.9017e+02]], device='cuda:0')\n",
      "GT: tensor([[396.0175, 262.7368, 415.0917, 282.1988]], device='cuda:0')\n",
      "Pred: tensor([[147.8104, 103.8083, 199.8091, 386.5098]], device='cuda:0')\n",
      "GT: tensor([[152.2560, 179.7120, 205.5040, 309.5040]], device='cuda:0')\n"
     ]
    },
    {
     "name": "stderr",
     "output_type": "stream",
     "text": [
      "[2019-05-31 10:47:47,666 <ipython-input-2-7667fb18f09c>] Batch [1518/2077] mAP: 0.23880\n",
      "[2019-05-31 10:47:47,720 <ipython-input-2-7667fb18f09c>] Batch [1519/2077] mAP: 0.23868\n",
      "[2019-05-31 10:47:47,762 <ipython-input-2-7667fb18f09c>] Batch [1520/2077] mAP: 0.23863\n",
      "[2019-05-31 10:47:47,807 <ipython-input-2-7667fb18f09c>] Batch [1521/2077] mAP: 0.23881\n"
     ]
    },
    {
     "name": "stdout",
     "output_type": "stream",
     "text": [
      "Pred: tensor([[327.8005, 141.2714, 409.4603, 397.7232]], device='cuda:0')\n",
      "GT: tensor([[388.5440, 144.6956, 415.1680, 195.5652]], device='cuda:0')\n",
      "Pred: tensor([[116.0902, 199.6791, 223.9710, 412.5311]], device='cuda:0')\n",
      "GT: tensor([[388.5440, 144.6956, 415.1680, 195.5652]], device='cuda:0')\n",
      "Pred: tensor([[248.5631, 137.3880, 354.8955, 404.3592]], device='cuda:0')\n",
      "GT: tensor([[388.5440, 144.6956, 415.1680, 195.5652]], device='cuda:0')\n",
      "Pred: tensor([[327.8005, 141.2714, 409.4603, 397.7232]], device='cuda:0')\n",
      "GT: tensor([[134.7840, 218.1739, 215.4880, 414.8696]], device='cuda:0')\n",
      "Pred: tensor([[116.0902, 199.6791, 223.9710, 412.5311]], device='cuda:0')\n",
      "GT: tensor([[134.7840, 218.1739, 215.4880, 414.8696]], device='cuda:0')\n",
      "Pred: tensor([[327.8005, 141.2714, 409.4603, 397.7232]], device='cuda:0')\n",
      "GT: tensor([[248.7680, 131.1304, 347.7760, 414.8696]], device='cuda:0')\n",
      "Pred: tensor([[116.0902, 199.6791, 223.9710, 412.5311]], device='cuda:0')\n",
      "GT: tensor([[248.7680, 131.1304, 347.7760, 414.8696]], device='cuda:0')\n",
      "Pred: tensor([[248.5631, 137.3880, 354.8955, 404.3592]], device='cuda:0')\n",
      "GT: tensor([[248.7680, 131.1304, 347.7760, 414.8696]], device='cuda:0')\n",
      "Pred: tensor([[327.8005, 141.2714, 409.4603, 397.7232]], device='cuda:0')\n",
      "GT: tensor([[331.9680, 119.8261, 415.1680, 414.8696]], device='cuda:0')\n",
      "Pred: tensor([[327.8005, 141.2714, 409.4603, 397.7232]], device='cuda:0')\n",
      "GT: tensor([[192.1920, 109.6522, 290.3680, 414.8696]], device='cuda:0')\n",
      "Pred: tensor([[116.0902, 199.6791, 223.9710, 412.5311]], device='cuda:0')\n",
      "GT: tensor([[192.1920, 109.6522, 290.3680, 414.8696]], device='cuda:0')\n",
      "Pred: tensor([[248.5631, 137.3880, 354.8955, 404.3592]], device='cuda:0')\n",
      "GT: tensor([[192.1920, 109.6522, 290.3680, 414.8696]], device='cuda:0')\n",
      "Pred: tensor([[327.8005, 141.2714, 409.4603, 397.7232]], device='cuda:0')\n",
      "GT: tensor([[106.4960, 168.4348, 223.8080, 414.8696]], device='cuda:0')\n",
      "Pred: tensor([[116.0902, 199.6791, 223.9710, 412.5311]], device='cuda:0')\n",
      "GT: tensor([[106.4960, 168.4348, 223.8080, 414.8696]], device='cuda:0')\n",
      "Pred: tensor([[ 21.2415,  17.4940, 390.1592, 407.9994]], device='cuda:0')\n",
      "GT: tensor([[ 63.2320,   0.0000, 345.2800, 414.8907]], device='cuda:0')\n"
     ]
    },
    {
     "name": "stderr",
     "output_type": "stream",
     "text": [
      "[2019-05-31 10:47:47,869 <ipython-input-2-7667fb18f09c>] Batch [1522/2077] mAP: 0.23900\n",
      "[2019-05-31 10:47:47,917 <ipython-input-2-7667fb18f09c>] Batch [1523/2077] mAP: 0.23913\n",
      "[2019-05-31 10:47:47,977 <ipython-input-2-7667fb18f09c>] Batch [1524/2077] mAP: 0.23914\n",
      "[2019-05-31 10:47:48,020 <ipython-input-2-7667fb18f09c>] Batch [1525/2077] mAP: 0.23927\n",
      "[2019-05-31 10:47:48,055 <ipython-input-2-7667fb18f09c>] Batch [1526/2077] mAP: 0.23921\n"
     ]
    },
    {
     "name": "stdout",
     "output_type": "stream",
     "text": [
      "Pred: tensor([[-2.7116e-01,  7.5217e+01,  4.1282e+02,  2.8569e+02]], device='cuda:0')\n",
      "GT: tensor([[  4.1600,  83.6997, 409.3440, 263.5916]], device='cuda:0')\n",
      "Pred: tensor([[ 63.8781, 161.9613, 414.2039, 320.0167]], device='cuda:0')\n",
      "GT: tensor([[ 76.5440, 150.8693, 391.8720, 329.4720]], device='cuda:0')\n",
      "Pred: tensor([[ 77.9343, 113.3688, 211.7999, 374.2771]], device='cuda:0')\n",
      "GT: tensor([[159.7440,  52.4160, 272.8960, 337.7920]], device='cuda:0')\n",
      "Pred: tensor([[ 77.9343, 113.3688, 211.7999, 374.2771]], device='cuda:0')\n",
      "GT: tensor([[ 74.3253, 130.6240, 207.4453, 378.5600]], device='cuda:0')\n",
      "Pred: tensor([[ 64.4366, 136.4786, 224.9380, 389.5431]], device='cuda:0')\n",
      "GT: tensor([[ 84.3093, 208.8320, 212.9920, 361.9200]], device='cuda:0')\n",
      "Pred: tensor([[ 69.5139,  66.9476, 176.3241, 278.7082]], device='cuda:0')\n",
      "GT: tensor([[ 38.2720,  61.7034, 197.1840, 308.5168]], device='cuda:0')\n"
     ]
    },
    {
     "name": "stderr",
     "output_type": "stream",
     "text": [
      "[2019-05-31 10:47:48,091 <ipython-input-2-7667fb18f09c>] Batch [1527/2077] mAP: 0.23915\n",
      "[2019-05-31 10:47:48,153 <ipython-input-2-7667fb18f09c>] Batch [1528/2077] mAP: 0.23928\n",
      "[2019-05-31 10:47:48,211 <ipython-input-2-7667fb18f09c>] Batch [1529/2077] mAP: 0.23947\n",
      "[2019-05-31 10:47:48,256 <ipython-input-2-7667fb18f09c>] Batch [1530/2077] mAP: 0.23923\n",
      "[2019-05-31 10:47:48,297 <ipython-input-2-7667fb18f09c>] Batch [1531/2077] mAP: 0.23942\n"
     ]
    },
    {
     "name": "stdout",
     "output_type": "stream",
     "text": [
      "Pred: tensor([[ 74.1674,  38.0429, 280.0449, 308.0260]], device='cuda:0')\n",
      "GT: tensor([[  0.0000,  18.8587, 350.2720, 290.6453]], device='cuda:0')\n",
      "Pred: tensor([[ 49.0432,  32.2909, 365.3249, 382.0281]], device='cuda:0')\n",
      "GT: tensor([[ 55.4667,  22.4640, 378.2827, 404.3520]], device='cuda:0')\n",
      "Pred: tensor([[-19.1400,   6.2781, 437.7487, 406.4714]], device='cuda:0')\n",
      "GT: tensor([[ 24.1299,   1.6640, 405.3828, 415.1680]], device='cuda:0')\n"
     ]
    },
    {
     "name": "stderr",
     "output_type": "stream",
     "text": [
      "[2019-05-31 10:47:48,356 <ipython-input-2-7667fb18f09c>] Batch [1532/2077] mAP: 0.23961\n",
      "[2019-05-31 10:47:48,402 <ipython-input-2-7667fb18f09c>] Batch [1533/2077] mAP: 0.23955\n",
      "[2019-05-31 10:47:48,443 <ipython-input-2-7667fb18f09c>] Batch [1534/2077] mAP: 0.23973\n",
      "[2019-05-31 10:47:48,484 <ipython-input-2-7667fb18f09c>] Batch [1535/2077] mAP: 0.23980\n",
      "[2019-05-31 10:47:48,537 <ipython-input-2-7667fb18f09c>] Batch [1536/2077] mAP: 0.23999\n"
     ]
    },
    {
     "name": "stdout",
     "output_type": "stream",
     "text": [
      "Pred: tensor([[ 76.0061,  70.5198, 343.2787, 416.0844]], device='cuda:0')\n",
      "GT: tensor([[108.1600,   0.0000, 302.8480, 414.8907]], device='cuda:0')\n",
      "Pred: tensor([[  9.3948, 135.3450, 408.3984, 348.9333]], device='cuda:0')\n",
      "GT: tensor([[ 31.6160, 147.4114, 409.3440, 313.5616]], device='cuda:0')\n",
      "Pred: tensor([[113.8463,  97.7839, 313.4368, 375.7528]], device='cuda:0')\n",
      "GT: tensor([[146.4320,  62.1227, 295.3600, 414.8907]], device='cuda:0')\n",
      "Pred: tensor([[-29.1127, 141.3199, 381.3594, 329.3439]], device='cuda:0')\n",
      "GT: tensor([[  9.9840, 154.1973, 378.5600, 303.9573]], device='cuda:0')\n"
     ]
    },
    {
     "name": "stderr",
     "output_type": "stream",
     "text": [
      "[2019-05-31 10:47:48,599 <ipython-input-2-7667fb18f09c>] Batch [1537/2077] mAP: 0.24018\n",
      "[2019-05-31 10:47:48,653 <ipython-input-2-7667fb18f09c>] Batch [1538/2077] mAP: 0.24012\n",
      "[2019-05-31 10:47:48,694 <ipython-input-2-7667fb18f09c>] Batch [1539/2077] mAP: 0.24006\n",
      "[2019-05-31 10:47:48,747 <ipython-input-2-7667fb18f09c>] Batch [1540/2077] mAP: 0.24000\n"
     ]
    },
    {
     "name": "stdout",
     "output_type": "stream",
     "text": [
      "Pred: tensor([[111.9001, 134.1727, 364.6942, 334.1646]], device='cuda:0')\n",
      "GT: tensor([[ 58.2400, 155.3067, 374.4000, 331.6907]], device='cuda:0')\n",
      "Pred: "
     ]
    },
    {
     "name": "stderr",
     "output_type": "stream",
     "text": [
      "[2019-05-31 10:47:48,807 <ipython-input-2-7667fb18f09c>] Batch [1541/2077] mAP: 0.24031\n",
      "[2019-05-31 10:47:48,841 <ipython-input-2-7667fb18f09c>] Batch [1542/2077] mAP: 0.24025\n",
      "[2019-05-31 10:47:48,920 <ipython-input-2-7667fb18f09c>] Batch [1543/2077] mAP: 0.24057\n",
      "[2019-05-31 10:47:48,965 <ipython-input-2-7667fb18f09c>] Batch [1544/2077] mAP: 0.24051\n"
     ]
    },
    {
     "name": "stdout",
     "output_type": "stream",
     "text": [
      "tensor([[105.3663, 106.1333, 184.9427, 382.8655]], device='cuda:0')\n",
      "GT: tensor([[161.9627,  54.9120, 283.9893, 415.1680]], device='cuda:0')\n",
      "Pred: tensor([[136.6200,  92.1100, 289.2441, 385.7591]], device='cuda:0')\n",
      "GT: tensor([[161.9627,  54.9120, 283.9893, 415.1680]], device='cuda:0')\n",
      "Pred: tensor([[105.3663, 106.1333, 184.9427, 382.8655]], device='cuda:0')\n",
      "GT: tensor([[ 88.7467,  96.5120, 186.3680, 403.5200]], device='cuda:0')\n",
      "Pred: tensor([[179.1614, 106.7793, 297.4738, 383.7271]], device='cuda:0')\n",
      "GT: tensor([[187.0175, 138.1120, 288.2807, 395.2000]], device='cuda:0')\n",
      "Pred: tensor([[ 76.6495, 142.3686, 211.9882, 341.0975]], device='cuda:0')\n",
      "GT: tensor([[ 96.7018,  79.0400, 198.8772, 380.2240]], device='cuda:0')\n",
      "Pred: tensor([[179.1614, 106.7793, 297.4738, 383.7271]], device='cuda:0')\n",
      "GT: tensor([[ 68.4211,  47.4240, 219.8596, 278.7200]], device='cuda:0')\n"
     ]
    },
    {
     "name": "stderr",
     "output_type": "stream",
     "text": [
      "[2019-05-31 10:47:49,018 <ipython-input-2-7667fb18f09c>] Batch [1545/2077] mAP: 0.24045\n",
      "[2019-05-31 10:47:49,095 <ipython-input-2-7667fb18f09c>] Batch [1546/2077] mAP: 0.24101\n",
      "[2019-05-31 10:47:49,136 <ipython-input-2-7667fb18f09c>] Batch [1547/2077] mAP: 0.24113\n",
      "[2019-05-31 10:47:49,227 <ipython-input-2-7667fb18f09c>] Batch [1548/2077] mAP: 0.24114\n"
     ]
    },
    {
     "name": "stdout",
     "output_type": "stream",
     "text": [
      "Pred: tensor([[ 25.2664,  87.7552, 199.8218, 349.1162]], device='cuda:0')\n",
      "GT: tensor([[ 27.4835,  64.0640, 194.8829, 387.7120]], device='cuda:0')\n",
      "Pred: tensor([[ 25.2664,  87.7552, 199.8218, 349.1162]], device='cuda:0')\n",
      "GT: tensor([[144.9129,  67.3920, 274.8348, 292.8640]], device='cuda:0')\n",
      "Pred: tensor([[145.4904,  88.7312, 268.6380, 273.5056]], device='cuda:0')\n",
      "GT: tensor([[144.9129,  67.3920, 274.8348, 292.8640]], device='cuda:0')\n",
      "Pred: tensor([[ 25.2664,  87.7552, 199.8218, 349.1162]], device='cuda:0')\n",
      "GT: tensor([[233.6096,  99.0080, 362.2823, 339.4560]], device='cuda:0')\n",
      "Pred: tensor([[145.4904,  88.7312, 268.6380, 273.5056]], device='cuda:0')\n",
      "GT: tensor([[233.6096,  99.0080, 362.2823, 339.4560]], device='cuda:0')\n",
      "Pred: tensor([[227.2439, 129.8871, 365.0699, 333.7461]], device='cuda:0')\n",
      "GT: tensor([[233.6096,  99.0080, 362.2823, 339.4560]], device='cuda:0')\n",
      "Pred: tensor([[ 30.1788, 160.7415, 317.4347, 379.2931]], device='cuda:0')\n",
      "GT: tensor([[ 19.9680, 172.5957, 403.5200, 367.3192]], device='cuda:0')\n",
      "Pred: tensor([[118.2536, 189.3464, 179.5233, 291.6140]], device='cuda:0')\n",
      "GT: tensor([[198.3704, 203.6667, 222.4444, 296.1111]], device='cuda:0')\n",
      "Pred: tensor([[123.8440, 195.2216, 224.0973, 354.6613]], device='cuda:0')\n",
      "GT: tensor([[198.3704, 203.6667, 222.4444, 296.1111]], device='cuda:0')\n",
      "Pred: tensor([[177.6652, 208.5010, 228.2746, 283.7507]], device='cuda:0')\n",
      "GT: tensor([[198.3704, 203.6667, 222.4444, 296.1111]], device='cuda:0')\n",
      "Pred: tensor([[118.2536, 189.3464, 179.5233, 291.6140]], device='cuda:0')\n",
      "GT: tensor([[154.0741, 210.8889, 204.1481, 296.1111]], device='cuda:0')\n",
      "Pred: tensor([[123.8440, 195.2216, 224.0973, 354.6613]], device='cuda:0')\n",
      "GT: tensor([[154.0741, 210.8889, 204.1481, 296.1111]], device='cuda:0')\n",
      "Pred: tensor([[177.6652, 208.5010, 228.2746, 283.7507]], device='cuda:0')\n",
      "GT: tensor([[154.0741, 210.8889, 204.1481, 296.1111]], device='cuda:0')\n",
      "Pred: tensor([[118.2536, 189.3464, 179.5233, 291.6140]], device='cuda:0')\n",
      "GT: tensor([[103.0370, 197.8889, 166.5926, 291.7778]], device='cuda:0')\n"
     ]
    },
    {
     "name": "stderr",
     "output_type": "stream",
     "text": [
      "[2019-05-31 10:47:49,272 <ipython-input-2-7667fb18f09c>] Batch [1549/2077] mAP: 0.24133\n",
      "[2019-05-31 10:47:49,321 <ipython-input-2-7667fb18f09c>] Batch [1550/2077] mAP: 0.24115\n",
      "[2019-05-31 10:47:49,370 <ipython-input-2-7667fb18f09c>] Batch [1551/2077] mAP: 0.24109\n",
      "[2019-05-31 10:47:49,458 <ipython-input-2-7667fb18f09c>] Batch [1552/2077] mAP: 0.24135\n"
     ]
    },
    {
     "name": "stdout",
     "output_type": "stream",
     "text": [
      "Pred: tensor([[ 59.5244,  52.8605, 342.2660, 309.8649]], device='cuda:0')\n",
      "GT: tensor([[  3.3280,  76.2042, 411.0080, 286.0781]], device='cuda:0')\n",
      "Pred: tensor([[128.7515, 215.3329, 152.9349, 247.9930]], device='cuda:0')\n",
      "GT: tensor([[110.3260, 218.8160, 160.9343, 241.2800]], device='cuda:0')\n",
      "Pred: tensor([[126.0840, 190.1192, 147.3648, 247.5711]], device='cuda:0')\n",
      "GT: tensor([[124.4964, 220.4800, 135.6302, 230.4640]], device='cuda:0')\n",
      "Pred: tensor([[126.0840, 190.1192, 147.3648, 247.5711]], device='cuda:0')\n",
      "GT: tensor([[138.6667, 217.9840, 154.8613, 229.6320]], device='cuda:0')\n",
      "Pred: tensor([[284.9659,  -1.7059, 397.2238, 147.1927]], device='cuda:0')\n",
      "GT: tensor([[292.0320,   8.7447, 384.3840, 128.6727]], device='cuda:0')\n",
      "Pred: tensor([[284.9659,  -1.7059, 397.2238, 147.1927]], device='cuda:0')\n",
      "GT: tensor([[  0.0000,  38.7267, 150.5920, 178.6426]], device='cuda:0')\n",
      "Pred: tensor([[ 15.7456,  24.7557, 143.2876, 200.5110]], device='cuda:0')\n",
      "GT: tensor([[  0.0000,  38.7267, 150.5920, 178.6426]], device='cuda:0')\n",
      "Pred: tensor([[284.9659,  -1.7059, 397.2238, 147.1927]], device='cuda:0')\n",
      "GT: tensor([[  0.0000,   9.9940,  92.3520, 152.4084]], device='cuda:0')\n",
      "Pred: tensor([[ 15.7456,  24.7557, 143.2876, 200.5110]], device='cuda:0')\n",
      "GT: tensor([[  0.0000,   9.9940,  92.3520, 152.4084]], device='cuda:0')\n"
     ]
    },
    {
     "name": "stderr",
     "output_type": "stream",
     "text": [
      "[2019-05-31 10:47:49,504 <ipython-input-2-7667fb18f09c>] Batch [1553/2077] mAP: 0.24135\n",
      "[2019-05-31 10:47:49,563 <ipython-input-2-7667fb18f09c>] Batch [1554/2077] mAP: 0.24154\n",
      "[2019-05-31 10:47:49,610 <ipython-input-2-7667fb18f09c>] Batch [1555/2077] mAP: 0.24172\n",
      "[2019-05-31 10:47:49,648 <ipython-input-2-7667fb18f09c>] Batch [1556/2077] mAP: 0.24161\n",
      "[2019-05-31 10:47:49,689 <ipython-input-2-7667fb18f09c>] Batch [1557/2077] mAP: 0.24179\n"
     ]
    },
    {
     "name": "stdout",
     "output_type": "stream",
     "text": [
      "Pred: tensor([[ 26.4936,   4.9118, 150.1046, 392.7573]], device='cuda:0')\n",
      "GT: tensor([[ 36.6080,  14.3448, 163.9040, 413.7931]], device='cuda:0')\n",
      "Pred: tensor([[107.8353,  21.3117, 367.6656, 407.4449]], device='cuda:0')\n",
      "GT: tensor([[ 54.7368,  35.2169, 414.9053, 414.8995]], device='cuda:0')\n",
      "Pred: tensor([[  9.5860,  66.3083, 398.5913, 352.8145]], device='cuda:0')\n",
      "GT: tensor([[ 38.6108,  58.2400, 342.5150, 361.9200]], device='cuda:0')\n",
      "Pred: tensor([[ 89.5377, 249.0483, 313.5420, 362.9947]], device='cuda:0')\n",
      "GT: tensor([[120.9173, 227.9680, 250.7093, 368.5760]], device='cuda:0')\n"
     ]
    },
    {
     "name": "stderr",
     "output_type": "stream",
     "text": [
      "[2019-05-31 10:47:49,739 <ipython-input-2-7667fb18f09c>] Batch [1558/2077] mAP: 0.24180\n",
      "[2019-05-31 10:47:49,776 <ipython-input-2-7667fb18f09c>] Batch [1559/2077] mAP: 0.24174\n",
      "[2019-05-31 10:47:49,839 <ipython-input-2-7667fb18f09c>] Batch [1560/2077] mAP: 0.24192\n",
      "[2019-05-31 10:47:49,901 <ipython-input-2-7667fb18f09c>] Batch [1561/2077] mAP: 0.24212\n"
     ]
    },
    {
     "name": "stdout",
     "output_type": "stream",
     "text": [
      "Pred: tensor([[112.3002,  78.8332, 227.9019, 269.0938]], device='cuda:0')\n",
      "GT: tensor([[108.1600,  92.0747, 241.2800, 296.1920]], device='cuda:0')\n",
      "Pred: tensor([[112.3002,  78.8332, 227.9019, 269.0938]], device='cuda:0')\n",
      "GT: tensor([[265.4080, 109.8240, 394.3680, 238.5067]], device='cuda:0')\n",
      "Pred: tensor([[112.3002,  78.8332, 227.9019, 269.0938]], device='cuda:0')\n",
      "GT: tensor([[321.9840,  97.6213, 415.1680, 216.3200]], device='cuda:0')\n",
      "Pred: tensor([[129.3447, 179.1270, 298.9951, 315.8477]], device='cuda:0')\n",
      "GT: tensor([[ 74.8800, 182.3904, 366.9120, 322.3063]], device='cuda:0')\n",
      "Pred: tensor([[ 46.7868, 111.7009, 362.5653, 296.2585]], device='cuda:0')\n",
      "GT: tensor([[ 84.0320,  81.2012, 298.6880, 313.5616]], device='cuda:0')\n",
      "Pred: tensor([[  9.2285, 226.6759,  36.3049, 259.5857]], device='cuda:0')\n",
      "GT: tensor([[  0.0000, 226.1141,  30.7840, 261.0931]], device='cuda:0')\n"
     ]
    },
    {
     "name": "stderr",
     "output_type": "stream",
     "text": [
      "[2019-05-31 10:47:49,940 <ipython-input-2-7667fb18f09c>] Batch [1562/2077] mAP: 0.24206\n",
      "[2019-05-31 10:47:49,979 <ipython-input-2-7667fb18f09c>] Batch [1563/2077] mAP: 0.24224\n",
      "[2019-05-31 10:47:50,039 <ipython-input-2-7667fb18f09c>] Batch [1564/2077] mAP: 0.24183\n",
      "[2019-05-31 10:47:50,099 <ipython-input-2-7667fb18f09c>] Batch [1565/2077] mAP: 0.24201\n",
      "[2019-05-31 10:47:50,166 <ipython-input-2-7667fb18f09c>] Batch [1566/2077] mAP: 0.24214\n"
     ]
    },
    {
     "name": "stdout",
     "output_type": "stream",
     "text": [
      "Pred: tensor([[235.6888,  80.5932, 352.1429, 355.8102]], device='cuda:0')\n",
      "GT: tensor([[228.8000, 113.1520, 353.6000, 357.2053]], device='cuda:0')\n",
      "Pred: tensor([[123.1277,  54.7223, 345.6152, 300.2547]], device='cuda:0')\n",
      "GT: tensor([[102.3360,   0.0000, 382.7200, 335.0187]], device='cuda:0')\n",
      "Pred: tensor([[ 12.1661,  69.7693, 132.7417, 201.2423]], device='cuda:0')\n",
      "GT: tensor([[273.7280,  91.1238, 401.8560, 212.6222]], device='cuda:0')\n",
      "Pred: tensor([[ 12.1661,  69.7693, 132.7417, 201.2423]], device='cuda:0')\n",
      "GT: tensor([[ 18.3040,  60.7492, 135.6160, 187.5302]], device='cuda:0')\n"
     ]
    },
    {
     "name": "stderr",
     "output_type": "stream",
     "text": [
      "[2019-05-31 10:47:50,225 <ipython-input-2-7667fb18f09c>] Batch [1567/2077] mAP: 0.24250\n",
      "[2019-05-31 10:47:50,279 <ipython-input-2-7667fb18f09c>] Batch [1568/2077] mAP: 0.24227\n",
      "[2019-05-31 10:47:50,333 <ipython-input-2-7667fb18f09c>] Batch [1569/2077] mAP: 0.24221\n"
     ]
    },
    {
     "name": "stdout",
     "output_type": "stream",
     "text": [
      "Pred: tensor([[236.2941, 235.4388, 387.6185, 425.3708]], device='cuda:0')\n",
      "GT: tensor([[245.4400, 229.6320, 415.1680, 414.8907]], device='cuda:0')\n",
      "Pred: tensor([[236.2941, 235.4388, 387.6185, 425.3708]], device='cuda:0')\n",
      "GT: tensor([[ 49.0880, 257.3653, 193.0240, 414.8907]], device='cuda:0')\n",
      "Pred: tensor([[ 96.8505, 249.2278, 183.2415, 424.2434]], device='cuda:0')\n",
      "GT: tensor([[ 49.0880, 257.3653, 193.0240, 414.8907]], device='cuda:0')\n",
      "Pred: tensor([[102.0175, 185.7525, 190.0292, 422.3134]], device='cuda:0')\n",
      "GT: tensor([[377.7280, 247.7814, 396.8640, 319.3880]], device='cuda:0')\n",
      "Pred: tensor([[377.1561, 279.6667, 411.7750, 314.7742]], device='cuda:0')\n",
      "GT: tensor([[352.7680, 279.6066, 415.1680, 314.8415]], device='cuda:0')\n",
      "Pred: tensor([[102.0175, 185.7525, 190.0292, 422.3134]], device='cuda:0')\n",
      "GT: "
     ]
    },
    {
     "name": "stderr",
     "output_type": "stream",
     "text": [
      "[2019-05-31 10:47:50,422 <ipython-input-2-7667fb18f09c>] Batch [1570/2077] mAP: 0.24234\n",
      "[2019-05-31 10:47:50,469 <ipython-input-2-7667fb18f09c>] Batch [1571/2077] mAP: 0.24253\n",
      "[2019-05-31 10:47:50,521 <ipython-input-2-7667fb18f09c>] Batch [1572/2077] mAP: 0.24241\n",
      "[2019-05-31 10:47:50,574 <ipython-input-2-7667fb18f09c>] Batch [1573/2077] mAP: 0.24235\n"
     ]
    },
    {
     "name": "stdout",
     "output_type": "stream",
     "text": [
      "tensor([[104.0000, 201.1803, 180.5440, 414.8634]], device='cuda:0')\n",
      "Pred: tensor([[102.0175, 185.7525, 190.0292, 422.3134]], device='cuda:0')\n",
      "GT: tensor([[ 25.7920, 203.4536,  79.0400, 414.8634]], device='cuda:0')\n",
      "Pred: tensor([[ 28.8143,  97.3891, 388.1927, 373.2855]], device='cuda:0')\n",
      "GT: tensor([[ 34.1120,  14.9910, 346.1120, 394.7628]], device='cuda:0')\n"
     ]
    },
    {
     "name": "stderr",
     "output_type": "stream",
     "text": [
      "[2019-05-31 10:47:50,648 <ipython-input-2-7667fb18f09c>] Batch [1574/2077] mAP: 0.24218\n",
      "[2019-05-31 10:47:50,706 <ipython-input-2-7667fb18f09c>] Batch [1575/2077] mAP: 0.24213\n",
      "[2019-05-31 10:47:50,761 <ipython-input-2-7667fb18f09c>] Batch [1576/2077] mAP: 0.24231\n"
     ]
    },
    {
     "name": "stdout",
     "output_type": "stream",
     "text": [
      "Pred: tensor([[343.3068, 129.8087, 396.7065, 228.7683]], device='cuda:0')\n",
      "GT: tensor([[131.4560,   4.4373, 271.2320, 414.8907]], device='cuda:0')\n",
      "Pred: tensor([[343.3068, 129.8087, 396.7065, 228.7683]], device='cuda:0')\n",
      "GT: tensor([[ 39.1040,  13.3120, 150.5920, 370.5173]], device='cuda:0')\n",
      "Pred: tensor([[343.3068, 129.8087, 396.7065, 228.7683]], device='cuda:0')\n",
      "GT: tensor([[349.4400, 127.5733, 390.2080, 258.4747]], device='cuda:0')\n",
      "Pred: tensor([[ 86.7138, 107.4395, 318.3177, 380.3274]], device='cuda:0')\n",
      "GT: tensor([[ 45.4827,  67.3920, 358.3147, 415.1680]], device='cuda:0')\n",
      "Pred: tensor([[284.8452, 232.3403, 313.5007, 253.1703]], device='cuda:0')\n",
      "GT: tensor([[281.2160, 233.4468, 307.0080, 261.1064]], device='cuda:0')\n",
      "Pred: "
     ]
    },
    {
     "name": "stderr",
     "output_type": "stream",
     "text": [
      "[2019-05-31 10:47:50,839 <ipython-input-2-7667fb18f09c>] Batch [1577/2077] mAP: 0.24208\n",
      "[2019-05-31 10:47:50,889 <ipython-input-2-7667fb18f09c>] Batch [1578/2077] mAP: 0.24226\n",
      "[2019-05-31 10:47:50,964 <ipython-input-2-7667fb18f09c>] Batch [1579/2077] mAP: 0.24211\n",
      "[2019-05-31 10:47:51,021 <ipython-input-2-7667fb18f09c>] Batch [1580/2077] mAP: 0.24217\n"
     ]
    },
    {
     "name": "stdout",
     "output_type": "stream",
     "text": [
      "tensor([[284.8452, 232.3403, 313.5007, 253.1703]], device='cuda:0')\n",
      "GT: tensor([[254.5920, 233.4468, 265.4080, 246.7234]], device='cuda:0')\n",
      "Pred: tensor([[266.7843, 235.5876, 284.8327, 248.0377]], device='cuda:0')\n",
      "GT: tensor([[254.5920, 233.4468, 265.4080, 246.7234]], device='cuda:0')\n",
      "Pred: tensor([[242.9502,  64.0403, 382.8940, 362.2009]], device='cuda:0')\n",
      "GT: tensor([[251.0991,  49.0880, 381.0210, 356.9280]], device='cuda:0')\n",
      "Pred: tensor([[ 14.0735, 199.8739, 151.0877, 400.5344]], device='cuda:0')\n",
      "GT: tensor([[287.8720, 157.5253, 400.1920, 388.2667]], device='cuda:0')\n",
      "Pred: tensor([[275.5734, 119.6306, 394.1393, 431.9668]], device='cuda:0')\n",
      "GT: tensor([[287.8720, 157.5253, 400.1920, 388.2667]], device='cuda:0')\n",
      "Pred: tensor([[ 14.0735, 199.8739, 151.0877, 400.5344]], device='cuda:0')\n",
      "GT: tensor([[191.3600, 149.7600, 286.2080, 328.3627]], device='cuda:0')\n",
      "Pred: tensor([[275.5734, 119.6306, 394.1393, 431.9668]], device='cuda:0')\n",
      "GT: tensor([[191.3600, 149.7600, 286.2080, 328.3627]], device='cuda:0')\n",
      "Pred: tensor([[ 14.0735, 199.8739, 151.0877, 400.5344]], device='cuda:0')\n",
      "GT: tensor([[  8.3200, 183.0400, 155.5840, 413.7813]], device='cuda:0')\n",
      "Pred: tensor([[157.5645, 259.7173, 194.0958, 356.1526]], device='cuda:0')\n",
      "GT: tensor([[167.2320, 271.7867, 188.8640, 368.2987]], device='cuda:0')\n",
      "Pred: tensor([[157.5645, 259.7173, 194.0958, 356.1526]], device='cuda:0')\n",
      "GT: tensor([[293.6960, 100.9493, 305.3440, 125.3547]], device='cuda:0')\n",
      "Pred: tensor([[  1.7221,  50.7058, 411.7817, 371.0517]], device='cuda:0')\n",
      "GT: tensor([[  0.0000,  18.8587, 407.6800, 399.3600]], device='cuda:0')\n"
     ]
    },
    {
     "name": "stderr",
     "output_type": "stream",
     "text": [
      "[2019-05-31 10:47:51,080 <ipython-input-2-7667fb18f09c>] Batch [1581/2077] mAP: 0.24211\n",
      "[2019-05-31 10:47:51,206 <ipython-input-2-7667fb18f09c>] Batch [1582/2077] mAP: 0.24207\n",
      "[2019-05-31 10:47:51,270 <ipython-input-2-7667fb18f09c>] Batch [1583/2077] mAP: 0.24201\n",
      "[2019-05-31 10:47:51,318 <ipython-input-2-7667fb18f09c>] Batch [1584/2077] mAP: 0.24195\n"
     ]
    },
    {
     "name": "stdout",
     "output_type": "stream",
     "text": [
      "Pred: tensor([[219.0881, 166.8748, 263.1157, 243.7793]], device='cuda:0')\n",
      "GT: tensor([[221.8667, 183.0400, 266.2400, 263.7440]], device='cuda:0')\n",
      "Pred: tensor([[219.0881, 166.8748, 263.1157, 243.7793]], device='cuda:0')\n",
      "GT: tensor([[259.5840, 188.8640, 278.4427, 268.7360]], device='cuda:0')\n",
      "Pred: tensor([[227.5986, 158.4062, 259.6736, 203.6198]], device='cuda:0')\n",
      "GT: tensor([[259.5840, 188.8640, 278.4427, 268.7360]], device='cuda:0')\n",
      "Pred: tensor([[219.0881, 166.8748, 263.1157, 243.7793]], device='cuda:0')\n",
      "GT: tensor([[215.2107, 176.3840, 260.6933, 244.6080]], device='cuda:0')\n",
      "Pred: tensor([[219.0881, 166.8748, 263.1157, 243.7793]], device='cuda:0')\n",
      "GT: tensor([[250.7093, 173.0560, 279.5520, 186.3680]], device='cuda:0')\n",
      "Pred: tensor([[227.5986, 158.4062, 259.6736, 203.6198]], device='cuda:0')\n",
      "GT: tensor([[250.7093, 173.0560, 279.5520, 186.3680]], device='cuda:0')\n",
      "Pred: tensor([[219.0881, 166.8748, 263.1157, 243.7793]], device='cuda:0')\n",
      "GT: tensor([[  0.0000, 208.0000,  99.8400, 252.0960]], device='cuda:0')\n",
      "Pred: tensor([[227.5986, 158.4062, 259.6736, 203.6198]], device='cuda:0')\n",
      "GT: tensor([[  0.0000, 208.0000,  99.8400, 252.0960]], device='cuda:0')\n",
      "Pred: tensor([[219.0881, 166.8748, 263.1157, 243.7793]], device='cuda:0')\n",
      "GT: tensor([[151.9787, 227.9680, 208.5547, 325.3120]], device='cuda:0')\n",
      "Pred: tensor([[227.5986, 158.4062, 259.6736, 203.6198]], device='cuda:0')\n",
      "GT: tensor([[151.9787, 227.9680, 208.5547, 325.3120]], device='cuda:0')\n",
      "Pred: tensor([[219.0881, 166.8748, 263.1157, 243.7793]], device='cuda:0')\n",
      "GT: tensor([[116.4800, 289.5360, 210.7733, 415.1680]], device='cuda:0')\n",
      "Pred: tensor([[227.5986, 158.4062, 259.6736, 203.6198]], device='cuda:0')\n",
      "GT: tensor([[116.4800, 289.5360, 210.7733, 415.1680]], device='cuda:0')\n",
      "Pred: tensor([[-37.6854, 102.7844, 329.1713, 321.0215]], device='cuda:0')\n",
      "GT: tensor([[  0.0000,   0.0000, 282.0480, 405.9759]], device='cuda:0')\n"
     ]
    },
    {
     "name": "stderr",
     "output_type": "stream",
     "text": [
      "[2019-05-31 10:47:51,365 <ipython-input-2-7667fb18f09c>] Batch [1585/2077] mAP: 0.24190\n",
      "[2019-05-31 10:47:51,421 <ipython-input-2-7667fb18f09c>] Batch [1586/2077] mAP: 0.24156\n",
      "[2019-05-31 10:47:51,488 <ipython-input-2-7667fb18f09c>] Batch [1587/2077] mAP: 0.24134\n",
      "[2019-05-31 10:47:51,547 <ipython-input-2-7667fb18f09c>] Batch [1588/2077] mAP: 0.24152\n"
     ]
    },
    {
     "name": "stdout",
     "output_type": "stream",
     "text": [
      "Pred: tensor([[314.1161, 303.9076, 419.8282, 372.9411]], device='cuda:0')\n",
      "GT: tensor([[292.8640, 291.2000, 414.8907, 381.8880]], device='cuda:0')\n",
      "Pred: tensor([[204.7727, 128.5719, 272.5050, 279.7299]], device='cuda:0')\n",
      "GT: tensor([[191.3600, 159.4252, 377.7280, 414.7545]], device='cuda:0')\n",
      "Pred: tensor([[204.7727, 128.5719, 272.5050, 279.7299]], device='cuda:0')\n",
      "GT: tensor([[  8.3200, 150.7066, 192.1920, 414.7545]], device='cuda:0')\n",
      "Pred: tensor([[204.7727, 128.5719, 272.5050, 279.7299]], device='cuda:0')\n",
      "GT: tensor([[109.8240,  95.9042, 196.3520, 260.3114]], device='cuda:0')\n",
      "Pred: tensor([[204.7727, 128.5719, 272.5050, 279.7299]], device='cuda:0')\n",
      "GT: tensor([[205.5040, 113.3413, 272.8960, 271.5210]], device='cuda:0')\n",
      "Pred: tensor([[113.6269, 124.9083, 232.4552, 275.6077]], device='cuda:0')\n",
      "GT: tensor([[103.1680, 132.4204, 231.2960, 252.3483]], device='cuda:0')\n"
     ]
    },
    {
     "name": "stderr",
     "output_type": "stream",
     "text": [
      "[2019-05-31 10:47:51,603 <ipython-input-2-7667fb18f09c>] Batch [1589/2077] mAP: 0.24158\n",
      "[2019-05-31 10:47:51,639 <ipython-input-2-7667fb18f09c>] Batch [1590/2077] mAP: 0.24147\n",
      "[2019-05-31 10:47:51,681 <ipython-input-2-7667fb18f09c>] Batch [1591/2077] mAP: 0.24159\n",
      "[2019-05-31 10:47:51,734 <ipython-input-2-7667fb18f09c>] Batch [1592/2077] mAP: 0.24148\n"
     ]
    },
    {
     "name": "stdout",
     "output_type": "stream",
     "text": [
      "Pred: tensor([[ 51.5540, 110.9774, 103.3446, 175.9877]], device='cuda:0')\n",
      "GT: tensor([[ 44.4920, 103.1680, 106.7807, 161.4080]], device='cuda:0')\n",
      "Pred: tensor([[ 51.5540, 110.9774, 103.3446, 175.9877]], device='cuda:0')\n",
      "GT: tensor([[260.2781, 133.1200, 296.9839, 170.5600]], device='cuda:0')\n",
      "Pred: tensor([[ 51.5540, 110.9774, 103.3446, 175.9877]], device='cuda:0')\n",
      "GT: tensor([[218.0107, 271.2320, 261.3904, 307.8400]], device='cuda:0')\n",
      "Pred: tensor([[ 66.9880,  37.3525, 289.7997, 379.8501]], device='cuda:0')\n",
      "GT: tensor([[ 43.2640,  67.4595, 322.8160, 367.2793]], device='cuda:0')\n",
      "Pred: "
     ]
    },
    {
     "name": "stderr",
     "output_type": "stream",
     "text": [
      "[2019-05-31 10:47:51,795 <ipython-input-2-7667fb18f09c>] Batch [1593/2077] mAP: 0.24166\n",
      "[2019-05-31 10:47:51,837 <ipython-input-2-7667fb18f09c>] Batch [1594/2077] mAP: 0.24120\n",
      "[2019-05-31 10:47:51,876 <ipython-input-2-7667fb18f09c>] Batch [1595/2077] mAP: 0.24114\n",
      "[2019-05-31 10:47:51,948 <ipython-input-2-7667fb18f09c>] Batch [1596/2077] mAP: 0.24121\n"
     ]
    },
    {
     "name": "stdout",
     "output_type": "stream",
     "text": [
      "tensor([[ 87.7856,   9.4752, 401.3198, 410.9464]], device='cuda:0')\n",
      "GT: tensor([[100.6720,   0.0000, 415.1680, 414.7545]], device='cuda:0')\n",
      "Pred: tensor([[219.9022, 176.8790, 262.5703, 242.3414]], device='cuda:0')\n",
      "GT: tensor([[149.7600, 183.0400, 310.3360, 305.0667]], device='cuda:0')\n",
      "Pred: tensor([[ 74.8480, 143.9246, 218.4532, 334.0604]], device='cuda:0')\n",
      "GT: tensor([[ 66.5600, 134.9189, 235.4560, 327.3033]], device='cuda:0')\n",
      "Pred: tensor([[255.2042,  88.4147, 350.8250, 266.6121]], device='cuda:0')\n",
      "GT: tensor([[272.0640, 109.9339, 329.4720, 241.1051]], device='cuda:0')\n",
      "Pred: tensor([[255.2042,  88.4147, 350.8250, 266.6121]], device='cuda:0')\n",
      "GT: tensor([[336.9600, 117.4294, 381.8880, 249.8499]], device='cuda:0')\n",
      "Pred: tensor([[137.3418,  83.9257, 276.2031, 373.9156]], device='cuda:0')\n",
      "GT: tensor([[118.8571,  89.9459, 300.0184, 366.9386]], device='cuda:0')\n"
     ]
    },
    {
     "name": "stderr",
     "output_type": "stream",
     "text": [
      "[2019-05-31 10:47:51,996 <ipython-input-2-7667fb18f09c>] Batch [1597/2077] mAP: 0.24122\n",
      "[2019-05-31 10:47:52,052 <ipython-input-2-7667fb18f09c>] Batch [1598/2077] mAP: 0.24140\n",
      "[2019-05-31 10:47:52,101 <ipython-input-2-7667fb18f09c>] Batch [1599/2077] mAP: 0.24134\n",
      "[2019-05-31 10:47:52,161 <ipython-input-2-7667fb18f09c>] Batch [1600/2077] mAP: 0.24128\n",
      "[2019-05-31 10:47:52,232 <ipython-input-2-7667fb18f09c>] Batch [1601/2077] mAP: 0.24129\n"
     ]
    },
    {
     "name": "stdout",
     "output_type": "stream",
     "text": [
      "Pred: tensor([[-15.3980,  69.7225, 434.5966, 302.1524]], device='cuda:0')\n",
      "GT: tensor([[  0.0000,  32.1707, 415.1680, 349.4400]], device='cuda:0')\n",
      "Pred: tensor([[ 37.5171, 119.9475, 236.0816, 361.1113]], device='cuda:0')\n",
      "GT: tensor([[ 34.5638, 158.0800, 237.0089, 351.9360]], device='cuda:0')\n",
      "Pred: tensor([[ 37.5171, 119.9475, 236.0816, 361.1113]], device='cuda:0')\n",
      "GT: tensor([[341.9347, 203.8400, 414.7656, 280.3840]], device='cuda:0')\n"
     ]
    },
    {
     "name": "stderr",
     "output_type": "stream",
     "text": [
      "[2019-05-31 10:47:52,302 <ipython-input-2-7667fb18f09c>] Batch [1602/2077] mAP: 0.24165\n",
      "[2019-05-31 10:47:52,344 <ipython-input-2-7667fb18f09c>] Batch [1603/2077] mAP: 0.24159\n",
      "[2019-05-31 10:47:52,397 <ipython-input-2-7667fb18f09c>] Batch [1604/2077] mAP: 0.24136\n",
      "[2019-05-31 10:47:52,445 <ipython-input-2-7667fb18f09c>] Batch [1605/2077] mAP: 0.24154\n"
     ]
    },
    {
     "name": "stdout",
     "output_type": "stream",
     "text": [
      "Pred: tensor([[160.5462,  18.6024, 255.0632, 324.6237]], device='cuda:0')\n",
      "GT: tensor([[152.2560,  42.1547, 258.7520, 307.2853]], device='cuda:0')\n",
      "Pred: tensor([[103.1005, 153.3472, 301.6151, 318.4619]], device='cuda:0')\n",
      "GT: tensor([[124.8000, 139.7760, 283.7120, 337.2373]], device='cuda:0')\n",
      "Pred: tensor([[199.2666, 101.6595, 388.4166, 364.6678]], device='cuda:0')\n",
      "GT: tensor([[224.6400,  51.2192, 373.5680, 414.7508]], device='cuda:0')\n",
      "Pred: tensor([[307.3707, 119.2552, 431.9750, 428.3561]], device='cuda:0')\n",
      "GT: tensor([[127.2960,  66.2102, 275.3920, 414.7508]], device='cuda:0')\n",
      "Pred: tensor([[106.3594,  68.7632, 303.5858, 413.7045]], device='cuda:0')\n",
      "GT: tensor([[127.2960,  66.2102, 275.3920, 414.7508]], device='cuda:0')\n"
     ]
    },
    {
     "name": "stderr",
     "output_type": "stream",
     "text": [
      "[2019-05-31 10:47:52,497 <ipython-input-2-7667fb18f09c>] Batch [1606/2077] mAP: 0.24190\n",
      "[2019-05-31 10:47:52,596 <ipython-input-2-7667fb18f09c>] Batch [1607/2077] mAP: 0.24191\n",
      "[2019-05-31 10:47:52,638 <ipython-input-2-7667fb18f09c>] Batch [1608/2077] mAP: 0.24209\n",
      "[2019-05-31 10:47:52,690 <ipython-input-2-7667fb18f09c>] Batch [1609/2077] mAP: 0.24203\n"
     ]
    },
    {
     "name": "stdout",
     "output_type": "stream",
     "text": [
      "Pred: tensor([[307.3707, 119.2552, 431.9750, 428.3561]], device='cuda:0')\n",
      "GT: tensor([[323.6480, 126.1742, 415.1680, 414.7508]], device='cuda:0')\n",
      "Pred: tensor([[133.8557, 191.8962, 215.9776, 268.1343]], device='cuda:0')\n",
      "GT: tensor([[141.4400, 184.3767, 201.3440, 251.2133]], device='cuda:0')\n",
      "Pred: tensor([[133.8557, 191.8962, 215.9776, 268.1343]], device='cuda:0')\n",
      "GT: tensor([[141.4400, 183.2244, 207.1680, 255.8227]], device='cuda:0')\n",
      "Pred: tensor([[133.8557, 191.8962, 215.9776, 268.1343]], device='cuda:0')\n",
      "GT: tensor([[116.4800, 216.6427, 155.5840, 259.2798]], device='cuda:0')\n",
      "Pred: tensor([[133.8557, 191.8962, 215.9776, 268.1343]], device='cuda:0')\n",
      "GT: tensor([[ 94.8480, 214.3380, 122.3040, 256.9751]], device='cuda:0')\n",
      "Pred: tensor([[133.8557, 191.8962, 215.9776, 268.1343]], device='cuda:0')\n",
      "GT: tensor([[261.2480, 122.1496, 301.1840, 159.0249]], device='cuda:0')\n",
      "Pred: tensor([[133.8557, 191.8962, 215.9776, 268.1343]], device='cuda:0')\n",
      "GT: tensor([[214.6560, 144.0443, 237.9520, 156.7202]], device='cuda:0')\n",
      "Pred: tensor([[133.8557, 191.8962, 215.9776, 268.1343]], device='cuda:0')\n",
      "GT: tensor([[176.3840, 139.4349, 210.4960, 153.2632]], device='cuda:0')\n",
      "Pred: tensor([[133.8557, 191.8962, 215.9776, 268.1343]], device='cuda:0')\n",
      "GT: tensor([[161.4080, 138.2825, 172.2240, 154.4155]], device='cuda:0')\n",
      "Pred: tensor([[-19.2816,  82.2271, 430.0165, 333.6899]], device='cuda:0')\n",
      "GT: tensor([[ 43.2640,  35.4987, 402.6880, 378.2827]], device='cuda:0')\n"
     ]
    },
    {
     "name": "stderr",
     "output_type": "stream",
     "text": [
      "[2019-05-31 10:47:52,738 <ipython-input-2-7667fb18f09c>] Batch [1610/2077] mAP: 0.24186\n",
      "[2019-05-31 10:47:52,802 <ipython-input-2-7667fb18f09c>] Batch [1611/2077] mAP: 0.24193\n",
      "[2019-05-31 10:47:52,874 <ipython-input-2-7667fb18f09c>] Batch [1612/2077] mAP: 0.24181\n",
      "[2019-05-31 10:47:52,930 <ipython-input-2-7667fb18f09c>] Batch [1613/2077] mAP: 0.24199\n"
     ]
    },
    {
     "name": "stdout",
     "output_type": "stream",
     "text": [
      "Pred: tensor([[326.1572, 115.7957, 344.7539, 189.8456]], device='cuda:0')\n",
      "GT: tensor([[332.8000, 124.8000, 351.1040, 184.0800]], device='cuda:0')\n",
      "Pred: tensor([[192.7009, 372.1792, 218.9232, 403.7264]], device='cuda:0')\n",
      "GT: tensor([[332.8000, 124.8000, 351.1040, 184.0800]], device='cuda:0')\n",
      "Pred: tensor([[332.2176, 125.6835, 350.7258, 208.3310]], device='cuda:0')\n",
      "GT: tensor([[332.8000, 124.8000, 351.1040, 184.0800]], device='cuda:0')\n",
      "Pred: tensor([[ 68.2983,  80.0250, 349.7230, 397.7415]], device='cuda:0')\n",
      "GT: tensor([[ 81.5360, 181.9307, 193.8560, 298.4107]], device='cuda:0')\n",
      "Pred: tensor([[ 68.2983,  80.0250, 349.7230, 397.7415]], device='cuda:0')\n",
      "GT: tensor([[188.8640, 119.8080, 312.0000, 339.4560]], device='cuda:0')\n",
      "Pred: tensor([[ -2.1462,  87.2851, 412.2754, 319.1862]], device='cuda:0')\n",
      "GT: tensor([[  7.4880,  75.4347, 403.5200, 346.1120]], device='cuda:0')\n",
      "Pred: tensor([[ 18.8990, 196.9789,  71.4583, 346.2183]], device='cuda:0')\n",
      "GT: "
     ]
    },
    {
     "name": "stderr",
     "output_type": "stream",
     "text": [
      "[2019-05-31 10:47:53,022 <ipython-input-2-7667fb18f09c>] Batch [1614/2077] mAP: 0.24223\n",
      "[2019-05-31 10:47:53,081 <ipython-input-2-7667fb18f09c>] Batch [1615/2077] mAP: 0.24161\n",
      "[2019-05-31 10:47:53,140 <ipython-input-2-7667fb18f09c>] Batch [1616/2077] mAP: 0.24150\n"
     ]
    },
    {
     "name": "stdout",
     "output_type": "stream",
     "text": [
      "tensor([[234.8667,  31.2000, 351.8667, 414.8445]], device='cuda:0')\n",
      "Pred: tensor([[202.2855,  67.0393, 348.2421, 401.7698]], device='cuda:0')\n",
      "GT: tensor([[234.8667,  31.2000, 351.8667, 414.8445]], device='cuda:0')\n",
      "Pred: tensor([[ 18.8990, 196.9789,  71.4583, 346.2183]], device='cuda:0')\n",
      "GT: tensor([[131.7333,  40.4444, 234.8667, 412.5333]], device='cuda:0')\n",
      "Pred: tensor([[202.2855,  67.0393, 348.2421, 401.7698]], device='cuda:0')\n",
      "GT: tensor([[131.7333,  40.4444, 234.8667, 412.5333]], device='cuda:0')\n",
      "Pred: tensor([[ 18.8990, 196.9789,  71.4583, 346.2183]], device='cuda:0')\n",
      "GT: tensor([[ 89.2667,  70.4889, 149.0667, 407.9111]], device='cuda:0')\n",
      "Pred: tensor([[202.2855,  67.0393, 348.2421, 401.7698]], device='cuda:0')\n",
      "GT: tensor([[ 89.2667,  70.4889, 149.0667, 407.9111]], device='cuda:0')\n",
      "Pred: tensor([[ 18.8990, 196.9789,  71.4583, 346.2183]], device='cuda:0')\n",
      "GT: tensor([[  0.0000, 169.8667,  68.4667, 369.7778]], device='cuda:0')\n",
      "Pred: tensor([[127.2520, 210.4319, 284.6504, 346.2119]], device='cuda:0')\n",
      "GT: tensor([[171.3920, 232.9600, 248.7680, 332.8000]], device='cuda:0')\n"
     ]
    },
    {
     "name": "stderr",
     "output_type": "stream",
     "text": [
      "[2019-05-31 10:47:53,211 <ipython-input-2-7667fb18f09c>] Batch [1617/2077] mAP: 0.24144\n",
      "[2019-05-31 10:47:53,264 <ipython-input-2-7667fb18f09c>] Batch [1618/2077] mAP: 0.24162\n",
      "[2019-05-31 10:47:53,311 <ipython-input-2-7667fb18f09c>] Batch [1619/2077] mAP: 0.24174\n",
      "[2019-05-31 10:47:53,362 <ipython-input-2-7667fb18f09c>] Batch [1620/2077] mAP: 0.24163\n",
      "[2019-05-31 10:47:53,406 <ipython-input-2-7667fb18f09c>] Batch [1621/2077] mAP: 0.24140\n",
      "[2019-05-31 10:47:53,455 <ipython-input-2-7667fb18f09c>] Batch [1622/2077] mAP: 0.24129\n"
     ]
    },
    {
     "name": "stdout",
     "output_type": "stream",
     "text": [
      "Pred: tensor([[ 29.9064,  41.2335, 388.8585, 316.9471]], device='cuda:0')\n",
      "GT: tensor([[  6.6560,  76.2042, 415.1680, 284.8288]], device='cuda:0')\n",
      "Pred: tensor([[208.7327, 150.4837, 335.0149, 387.6399]], device='cuda:0')\n",
      "GT: tensor([[ 72.1067,  41.6000, 216.3200, 415.1680]], device='cuda:0')\n",
      "Pred: tensor([[208.7327, 150.4837, 335.0149, 387.6399]], device='cuda:0')\n",
      "GT: tensor([[209.6640, 115.6480, 346.1120, 415.1680]], device='cuda:0')\n",
      "Pred: tensor([[140.9948,  80.1750, 226.6525, 254.3640]], device='cuda:0')\n",
      "GT: tensor([[117.3120,   0.0000, 253.7600, 298.4107]], device='cuda:0')\n",
      "Pred: tensor([[140.9948,  80.1750, 226.6525, 254.3640]], device='cuda:0')\n",
      "GT: tensor([[ 10.8160, 352.7680,  77.3760, 411.5627]], device='cuda:0')\n"
     ]
    },
    {
     "name": "stderr",
     "output_type": "stream",
     "text": [
      "[2019-05-31 10:47:53,489 <ipython-input-2-7667fb18f09c>] Batch [1623/2077] mAP: 0.24124\n",
      "[2019-05-31 10:47:53,535 <ipython-input-2-7667fb18f09c>] Batch [1624/2077] mAP: 0.24141\n",
      "[2019-05-31 10:47:53,582 <ipython-input-2-7667fb18f09c>] Batch [1625/2077] mAP: 0.24136\n",
      "[2019-05-31 10:47:53,643 <ipython-input-2-7667fb18f09c>] Batch [1626/2077] mAP: 0.24153\n",
      "[2019-05-31 10:47:53,699 <ipython-input-2-7667fb18f09c>] Batch [1627/2077] mAP: 0.24148\n"
     ]
    },
    {
     "name": "stdout",
     "output_type": "stream",
     "text": [
      "Pred: tensor([[-23.3926,  57.3593, 439.0077, 302.3200]], device='cuda:0')\n",
      "GT: tensor([[ 29.9520,  21.0773, 388.5440, 315.0507]], device='cuda:0')\n",
      "Pred: tensor([[153.4294,  79.1579, 271.5920, 331.8540]], device='cuda:0')\n",
      "GT: tensor([[115.6480,  67.2323, 313.6640, 373.9798]], device='cuda:0')\n",
      "Pred: tensor([[ 46.5692,  74.6651, 367.5352, 344.1199]], device='cuda:0')\n",
      "GT: tensor([[115.6480,  67.2323, 313.6640, 373.9798]], device='cuda:0')\n",
      "Pred: tensor([[122.4122, 189.8726, 232.4470, 347.8479]], device='cuda:0')\n",
      "GT: tensor([[ 96.2000, 140.8000, 252.2000, 378.8800]], device='cuda:0')\n"
     ]
    },
    {
     "name": "stderr",
     "output_type": "stream",
     "text": [
      "[2019-05-31 10:47:53,818 <ipython-input-2-7667fb18f09c>] Batch [1628/2077] mAP: 0.24200\n",
      "[2019-05-31 10:47:53,876 <ipython-input-2-7667fb18f09c>] Batch [1629/2077] mAP: 0.24218\n",
      "[2019-05-31 10:47:53,923 <ipython-input-2-7667fb18f09c>] Batch [1630/2077] mAP: 0.24212\n"
     ]
    },
    {
     "name": "stdout",
     "output_type": "stream",
     "text": [
      "Pred: tensor([[ 35.2246, 224.9673, 244.2090, 339.1089]], device='cuda:0')\n",
      "GT: tensor([[ 88.1920, 239.6160, 189.6960, 329.4720]], device='cuda:0')\n",
      "Pred: tensor([[298.1127, -33.9309, 387.4846, 251.7879]], device='cuda:0')\n",
      "GT: tensor([[ 88.1920, 239.6160, 189.6960, 329.4720]], device='cuda:0')\n",
      "Pred: tensor([[121.6159, 265.7640, 147.7977, 325.2106]], device='cuda:0')\n",
      "GT: tensor([[ 88.1920, 239.6160, 189.6960, 329.4720]], device='cuda:0')\n",
      "Pred: tensor([[ 94.9725, 259.4427, 184.6914, 329.8337]], device='cuda:0')\n",
      "GT: tensor([[ 88.1920, 239.6160, 189.6960, 329.4720]], device='cuda:0')\n",
      "Pred: tensor([[ 35.2246, 224.9673, 244.2090, 339.1089]], device='cuda:0')\n",
      "GT: tensor([[247.1040, 112.0427, 335.2960, 239.6160]], device='cuda:0')\n",
      "Pred: tensor([[298.1127, -33.9309, 387.4846, 251.7879]], device='cuda:0')\n",
      "GT: tensor([[247.1040, 112.0427, 335.2960, 239.6160]], device='cuda:0')\n",
      "Pred: tensor([[121.6159, 265.7640, 147.7977, 325.2106]], device='cuda:0')\n",
      "GT: tensor([[247.1040, 112.0427, 335.2960, 239.6160]], device='cuda:0')\n",
      "Pred: tensor([[ 94.9725, 259.4427, 184.6914, 329.8337]], device='cuda:0')\n",
      "GT: tensor([[247.1040, 112.0427, 335.2960, 239.6160]], device='cuda:0')\n",
      "Pred: tensor([[247.8906, 124.6954, 310.9058, 230.1844]], device='cuda:0')\n",
      "GT: tensor([[247.1040, 112.0427, 335.2960, 239.6160]], device='cuda:0')\n",
      "Pred: tensor([[ 35.2246, 224.9673, 244.2090, 339.1089]], device='cuda:0')\n",
      "GT: tensor([[295.3600,   3.3280, 415.1680, 237.3973]], device='cuda:0')\n",
      "Pred: tensor([[298.1127, -33.9309, 387.4846, 251.7879]], device='cuda:0')\n",
      "GT: tensor([[295.3600,   3.3280, 415.1680, 237.3973]], device='cuda:0')\n",
      "Pred: tensor([[142.4447, 262.6329, 288.4215, 408.3144]], device='cuda:0')\n",
      "GT: tensor([[163.0720, 270.1176, 277.0560, 374.5882]], device='cuda:0')\n",
      "Pred: tensor([[157.4514, 205.5539, 248.4305, 340.3556]], device='cuda:0')\n",
      "GT: tensor([[139.0629, 207.1680, 401.7372, 351.1040]], device='cuda:0')\n"
     ]
    },
    {
     "name": "stderr",
     "output_type": "stream",
     "text": [
      "[2019-05-31 10:47:53,981 <ipython-input-2-7667fb18f09c>] Batch [1631/2077] mAP: 0.24231\n",
      "[2019-05-31 10:47:54,031 <ipython-input-2-7667fb18f09c>] Batch [1632/2077] mAP: 0.24225\n",
      "[2019-05-31 10:47:54,099 <ipython-input-2-7667fb18f09c>] Batch [1633/2077] mAP: 0.24260\n",
      "[2019-05-31 10:47:54,161 <ipython-input-2-7667fb18f09c>] Batch [1634/2077] mAP: 0.24277\n"
     ]
    },
    {
     "name": "stdout",
     "output_type": "stream",
     "text": [
      "Pred: tensor([[226.3101, 113.9449, 307.0189, 376.6788]], device='cuda:0')\n",
      "GT: tensor([[147.2640, 113.1520, 230.4640, 396.0320]], device='cuda:0')\n",
      "Pred: tensor([[130.5008,  84.8302, 231.2347, 408.1042]], device='cuda:0')\n",
      "GT: tensor([[147.2640, 113.1520, 230.4640, 396.0320]], device='cuda:0')\n",
      "Pred: tensor([[226.3101, 113.9449, 307.0189, 376.6788]], device='cuda:0')\n",
      "GT: tensor([[226.3040,  96.5120, 304.5120, 392.7040]], device='cuda:0')\n",
      "Pred: tensor([[ 30.1338,  35.3094, 442.8993, 381.0674]], device='cuda:0')\n",
      "GT: tensor([[ 77.3760,   9.9940, 415.1680, 414.7508]], device='cuda:0')\n",
      "Pred: tensor([[ 40.9335, 217.7590,  61.7455, 277.5023]], device='cuda:0')\n",
      "GT: tensor([[ 34.1120, 207.3754,  61.5680, 277.3333]], device='cuda:0')\n",
      "Pred: tensor([[ 36.0542, 132.4315, 379.8013, 360.3039]], device='cuda:0')\n",
      "GT: tensor([[ 52.4160, 140.1497, 361.0880, 359.2727]], device='cuda:0')\n"
     ]
    },
    {
     "name": "stderr",
     "output_type": "stream",
     "text": [
      "[2019-05-31 10:47:54,230 <ipython-input-2-7667fb18f09c>] Batch [1635/2077] mAP: 0.24307\n",
      "[2019-05-31 10:47:54,298 <ipython-input-2-7667fb18f09c>] Batch [1636/2077] mAP: 0.24319\n",
      "[2019-05-31 10:47:54,350 <ipython-input-2-7667fb18f09c>] Batch [1637/2077] mAP: 0.24313\n",
      "[2019-05-31 10:47:54,397 <ipython-input-2-7667fb18f09c>] Batch [1638/2077] mAP: 0.24331\n"
     ]
    },
    {
     "name": "stdout",
     "output_type": "stream",
     "text": [
      "Pred: tensor([[321.6645, 132.9396, 360.0198, 176.5277]], device='cuda:0')\n",
      "GT: tensor([[313.9413, 133.1200, 374.9547, 186.3680]], device='cuda:0')\n",
      "Pred: tensor([[321.6645, 132.9396, 360.0198, 176.5277]], device='cuda:0')\n",
      "GT: tensor([[112.0427, 128.1280, 210.7733, 188.0320]], device='cuda:0')\n",
      "Pred: tensor([[121.8865, 126.4258, 176.3973, 182.7424]], device='cuda:0')\n",
      "GT: tensor([[112.0427, 128.1280, 210.7733, 188.0320]], device='cuda:0')\n",
      "Pred: tensor([[321.6645, 132.9396, 360.0198, 176.5277]], device='cuda:0')\n",
      "GT: tensor([[  0.0000, 130.6240,  98.7307, 219.6480]], device='cuda:0')\n",
      "Pred: tensor([[121.8865, 126.4258, 176.3973, 182.7424]], device='cuda:0')\n",
      "GT: tensor([[  0.0000, 130.6240,  98.7307, 219.6480]], device='cuda:0')\n",
      "Pred: tensor([[171.4139,  50.8425, 245.8424, 423.2757]], device='cuda:0')\n",
      "GT: tensor([[173.8880, 120.9173, 234.6240, 348.3307]], device='cuda:0')\n",
      "Pred: tensor([[165.4163, -21.1274, 260.0899, 444.1102]], device='cuda:0')\n",
      "GT: tensor([[ 37.4400,   0.0000, 385.2160, 414.8907]], device='cuda:0')\n",
      "Pred: tensor([[  1.5704, 165.6411, 296.9328, 250.5217]], device='cuda:0')\n",
      "GT: tensor([[ 19.9680, 159.9039, 288.7040, 256.0961]], device='cuda:0')\n"
     ]
    },
    {
     "name": "stderr",
     "output_type": "stream",
     "text": [
      "[2019-05-31 10:47:54,471 <ipython-input-2-7667fb18f09c>] Batch [1639/2077] mAP: 0.24331\n",
      "[2019-05-31 10:47:54,511 <ipython-input-2-7667fb18f09c>] Batch [1640/2077] mAP: 0.24326\n",
      "[2019-05-31 10:47:54,564 <ipython-input-2-7667fb18f09c>] Batch [1641/2077] mAP: 0.24314\n",
      "[2019-05-31 10:47:54,612 <ipython-input-2-7667fb18f09c>] Batch [1642/2077] mAP: 0.24303\n",
      "[2019-05-31 10:47:54,651 <ipython-input-2-7667fb18f09c>] Batch [1643/2077] mAP: 0.24275\n"
     ]
    },
    {
     "name": "stdout",
     "output_type": "stream",
     "text": [
      "Pred: tensor([[228.7282, 153.1624, 370.9818, 404.6685]], device='cuda:0')\n",
      "GT: tensor([[177.4933, 206.3360, 410.4533, 406.8480]], device='cuda:0')\n",
      "Pred: tensor([[228.7282, 153.1624, 370.9818, 404.6685]], device='cuda:0')\n",
      "GT: tensor([[260.6933,  44.9280, 414.8907, 268.7360]], device='cuda:0')\n",
      "Pred: tensor([[228.7282, 153.1624, 370.9818, 404.6685]], device='cuda:0')\n",
      "GT: tensor([[ 87.6373,  25.7920, 247.3813, 248.7680]], device='cuda:0')\n"
     ]
    },
    {
     "name": "stderr",
     "output_type": "stream",
     "text": [
      "[2019-05-31 10:47:54,732 <ipython-input-2-7667fb18f09c>] Batch [1644/2077] mAP: 0.24270\n",
      "[2019-05-31 10:47:54,794 <ipython-input-2-7667fb18f09c>] Batch [1645/2077] mAP: 0.24237\n",
      "[2019-05-31 10:47:54,849 <ipython-input-2-7667fb18f09c>] Batch [1646/2077] mAP: 0.24226\n"
     ]
    },
    {
     "name": "stdout",
     "output_type": "stream",
     "text": [
      "Pred: tensor([[ -3.3300, 102.3028,  97.9279, 428.2130]], device='cuda:0')\n",
      "GT: tensor([[202.1760, 190.8053, 235.4560, 239.6160]], device='cuda:0')\n",
      "Pred: tensor([[ -3.3300, 102.3028,  97.9279, 428.2130]], device='cuda:0')\n",
      "GT: tensor([[ 56.5760, 122.0267, 119.8080, 260.6933]], device='cuda:0')\n",
      "Pred: tensor([[ -3.3300, 102.3028,  97.9279, 428.2130]], device='cuda:0')\n",
      "GT: tensor([[  0.0000, 112.0427,  89.0240, 414.8907]], device='cuda:0')\n",
      "Pred: tensor([[ -3.3300, 102.3028,  97.9279, 428.2130]], device='cuda:0')\n",
      "GT: tensor([[115.6480, 197.4613, 143.1040, 241.8347]], device='cuda:0')\n",
      "Pred: tensor([[ -3.3300, 102.3028,  97.9279, 428.2130]], device='cuda:0')\n",
      "GT: tensor([[127.2960, 170.8373, 152.2560, 198.5707]], device='cuda:0')\n"
     ]
    },
    {
     "name": "stderr",
     "output_type": "stream",
     "text": [
      "[2019-05-31 10:47:54,930 <ipython-input-2-7667fb18f09c>] Batch [1647/2077] mAP: 0.24244\n",
      "[2019-05-31 10:47:54,983 <ipython-input-2-7667fb18f09c>] Batch [1648/2077] mAP: 0.24261\n",
      "[2019-05-31 10:47:55,043 <ipython-input-2-7667fb18f09c>] Batch [1649/2077] mAP: 0.24296\n",
      "[2019-05-31 10:47:55,105 <ipython-input-2-7667fb18f09c>] Batch [1650/2077] mAP: 0.24285\n"
     ]
    },
    {
     "name": "stdout",
     "output_type": "stream",
     "text": [
      "Pred: tensor([[-10.6007,  24.6812,  98.3003, 148.6848]], device='cuda:0')\n",
      "GT: tensor([[  0.0000,   0.0000,  87.3600, 144.9129]], device='cuda:0')\n",
      "Pred: tensor([[-10.6007,  24.6812,  98.3003, 148.6848]], device='cuda:0')\n",
      "GT: tensor([[ 75.7120,   0.0000, 218.8160, 148.6607]], device='cuda:0')\n",
      "Pred: tensor([[-10.6007,  24.6812,  98.3003, 148.6848]], device='cuda:0')\n",
      "GT: tensor([[236.2880,  29.9820, 329.4720, 153.6577]], device='cuda:0')\n",
      "Pred: tensor([[123.8595,  15.8125, 240.0431, 339.9056]], device='cuda:0')\n",
      "GT: tensor([[132.2880,  37.4775, 242.9440, 324.8048]], device='cuda:0')\n",
      "Pred: tensor([[ 52.6670,  88.3329, 220.0874, 412.2343]], device='cuda:0')\n",
      "GT: tensor([[ 49.0880,  93.1840, 183.8720, 414.8907]], device='cuda:0')\n",
      "Pred: tensor([[127.3214,  17.5945, 234.0019, 340.3087]], device='cuda:0')\n",
      "GT: tensor([[142.2720,  28.5612, 232.9600, 325.3492]], device='cuda:0')\n",
      "Pred: tensor([[ 46.7325, 154.2629, 176.2072, 326.1562]], device='cuda:0')\n",
      "GT: tensor([[ 54.0800, 149.0149, 150.5920, 382.4716]], device='cuda:0')\n",
      "Pred: tensor([[195.0240, 159.5673, 221.9508, 258.9259]], device='cuda:0')\n",
      "GT: tensor([[193.0240, 159.7440, 233.7920, 276.2240]], device='cuda:0')\n"
     ]
    },
    {
     "name": "stderr",
     "output_type": "stream",
     "text": [
      "[2019-05-31 10:47:55,156 <ipython-input-2-7667fb18f09c>] Batch [1651/2077] mAP: 0.24297\n",
      "[2019-05-31 10:47:55,206 <ipython-input-2-7667fb18f09c>] Batch [1652/2077] mAP: 0.24314\n",
      "[2019-05-31 10:47:55,250 <ipython-input-2-7667fb18f09c>] Batch [1653/2077] mAP: 0.24332\n",
      "[2019-05-31 10:47:55,289 <ipython-input-2-7667fb18f09c>] Batch [1654/2077] mAP: 0.24343\n",
      "[2019-05-31 10:47:55,331 <ipython-input-2-7667fb18f09c>] Batch [1655/2077] mAP: 0.24338\n"
     ]
    },
    {
     "name": "stdout",
     "output_type": "stream",
     "text": [
      "Pred: tensor([[ 82.0454, 285.9391, 207.0421, 430.2325]], device='cuda:0')\n",
      "GT: tensor([[ 83.2000, 269.5680, 222.9760, 414.8907]], device='cuda:0')\n",
      "Pred: tensor([[ 82.0454, 285.9391, 207.0421, 430.2325]], device='cuda:0')\n",
      "GT: tensor([[362.7520, 288.4267, 415.1680, 414.8907]], device='cuda:0')\n",
      "Pred: tensor([[ 54.5619, 119.7299, 171.5107, 292.6487]], device='cuda:0')\n",
      "GT: tensor([[ 46.1217,  85.0087, 197.1478, 311.0956]], device='cuda:0')\n",
      "Pred: tensor([[215.6768,  51.0281, 314.3817, 189.4495]], device='cuda:0')\n",
      "GT: tensor([[147.5413,   0.0000, 413.7813, 220.4800]], device='cuda:0')\n",
      "Pred: tensor([[116.7088,  -7.4889, 427.9740, 242.4911]], device='cuda:0')\n",
      "GT: tensor([[147.5413,   0.0000, 413.7813, 220.4800]], device='cuda:0')\n",
      "Pred: tensor([[329.2118, 252.5061, 427.3435, 355.5547]], device='cuda:0')\n",
      "GT: tensor([[344.4480, 240.3832, 415.1680, 367.4251]], device='cuda:0')\n"
     ]
    },
    {
     "name": "stderr",
     "output_type": "stream",
     "text": [
      "[2019-05-31 10:47:55,380 <ipython-input-2-7667fb18f09c>] Batch [1656/2077] mAP: 0.24327\n",
      "[2019-05-31 10:47:55,457 <ipython-input-2-7667fb18f09c>] Batch [1657/2077] mAP: 0.24327\n",
      "[2019-05-31 10:47:55,498 <ipython-input-2-7667fb18f09c>] Batch [1658/2077] mAP: 0.24316\n",
      "[2019-05-31 10:47:55,544 <ipython-input-2-7667fb18f09c>] Batch [1659/2077] mAP: 0.24334\n",
      "[2019-05-31 10:47:55,606 <ipython-input-2-7667fb18f09c>] Batch [1660/2077] mAP: 0.24306\n"
     ]
    },
    {
     "name": "stdout",
     "output_type": "stream",
     "text": [
      "Pred: tensor([[ 33.1490,  69.7475,  59.1893, 136.3859]], device='cuda:0')\n",
      "GT: tensor([[ 47.4240,  24.9102, 159.7440, 414.7545]], device='cuda:0')\n",
      "Pred: tensor([[ 33.1490,  69.7475,  59.1893, 136.3859]], device='cuda:0')\n",
      "GT: tensor([[189.6960,  38.6108, 301.1840, 414.7545]], device='cuda:0')\n",
      "Pred: tensor([[ 33.1490,  69.7475,  59.1893, 136.3859]], device='cuda:0')\n",
      "GT: tensor([[283.7120,  13.7006, 386.8800, 414.7545]], device='cuda:0')\n",
      "Pred: tensor([[ 33.1490,  69.7475,  59.1893, 136.3859]], device='cuda:0')\n",
      "GT: tensor([[ 36.6080,  74.7305,  52.4160, 137.0060]], device='cuda:0')\n",
      "Pred: tensor([[ 64.9202, 159.2661, 353.4445, 330.8971]], device='cuda:0')\n",
      "GT: tensor([[ 36.6080, 148.6507, 374.4000, 329.4720]], device='cuda:0')\n"
     ]
    },
    {
     "name": "stderr",
     "output_type": "stream",
     "text": [
      "[2019-05-31 10:47:55,652 <ipython-input-2-7667fb18f09c>] Batch [1661/2077] mAP: 0.24300\n",
      "[2019-05-31 10:47:55,707 <ipython-input-2-7667fb18f09c>] Batch [1662/2077] mAP: 0.24307\n",
      "[2019-05-31 10:47:55,745 <ipython-input-2-7667fb18f09c>] Batch [1663/2077] mAP: 0.24295\n",
      "[2019-05-31 10:47:55,804 <ipython-input-2-7667fb18f09c>] Batch [1664/2077] mAP: 0.24313\n",
      "[2019-05-31 10:47:55,866 <ipython-input-2-7667fb18f09c>] Batch [1665/2077] mAP: 0.24330\n"
     ]
    },
    {
     "name": "stdout",
     "output_type": "stream",
     "text": [
      "Pred: tensor([[213.4237,  17.9516, 396.4248, 417.3267]], device='cuda:0')\n",
      "GT: tensor([[206.3360,  60.6975, 415.1680, 387.8719]], device='cuda:0')\n",
      "Pred: tensor([[ -5.8927, 212.1236,  85.0324, 328.7825]], device='cuda:0')\n",
      "GT: tensor([[ 13.3120, 219.1032,  52.4160, 328.6548]], device='cuda:0')\n",
      "Pred: tensor([[213.4237,  17.9516, 396.4248, 417.3267]], device='cuda:0')\n",
      "GT: tensor([[113.1520,  56.2562, 122.3040,  78.4626]], device='cuda:0')\n",
      "Pred: tensor([[150.0521,   6.3040, 334.7396, 339.4690]], device='cuda:0')\n",
      "GT: tensor([[  0.8320,   0.0000, 408.5120, 410.4533]], device='cuda:0')\n",
      "Pred: tensor([[ 81.6566,  62.4219, 346.8370, 348.7454]], device='cuda:0')\n",
      "GT: tensor([[  0.0000,  49.0880, 350.3158, 415.1680]], device='cuda:0')\n",
      "Pred: tensor([[ 50.7267, -42.9253, 415.3502, 458.6335]], device='cuda:0')\n",
      "GT: tensor([[ 44.9280,  11.2667, 396.8640, 415.1333]], device='cuda:0')\n"
     ]
    },
    {
     "name": "stderr",
     "output_type": "stream",
     "text": [
      "[2019-05-31 10:47:55,933 <ipython-input-2-7667fb18f09c>] Batch [1666/2077] mAP: 0.24330\n",
      "[2019-05-31 10:47:55,995 <ipython-input-2-7667fb18f09c>] Batch [1667/2077] mAP: 0.24348\n",
      "[2019-05-31 10:47:56,054 <ipython-input-2-7667fb18f09c>] Batch [1668/2077] mAP: 0.24271\n",
      "[2019-05-31 10:47:56,099 <ipython-input-2-7667fb18f09c>] Batch [1669/2077] mAP: 0.24288\n"
     ]
    },
    {
     "name": "stdout",
     "output_type": "stream",
     "text": [
      "Pred: tensor([[206.3575, 175.5426, 328.6447, 368.5963]], device='cuda:0')\n",
      "GT: tensor([[ 65.7280, 146.4320, 198.8480, 414.8907]], device='cuda:0')\n",
      "Pred: tensor([[206.3575, 175.5426, 328.6447, 368.5963]], device='cuda:0')\n",
      "GT: tensor([[188.8640, 161.9627, 340.2880, 386.0480]], device='cuda:0')\n",
      "Pred: tensor([[ 52.9506, 267.3795, 349.1675, 402.3833]], device='cuda:0')\n",
      "GT: tensor([[ 78.7627, 267.9040, 309.5040, 405.1840]], device='cuda:0')\n",
      "Pred: tensor([[133.0917, 173.3381, 290.6655, 364.5684]], device='cuda:0')\n",
      "GT: tensor([[103.1680, 148.2156, 315.3280, 384.8623]], device='cuda:0')\n"
     ]
    },
    {
     "name": "stderr",
     "output_type": "stream",
     "text": [
      "[2019-05-31 10:47:56,174 <ipython-input-2-7667fb18f09c>] Batch [1670/2077] mAP: 0.24244\n",
      "[2019-05-31 10:47:56,237 <ipython-input-2-7667fb18f09c>] Batch [1671/2077] mAP: 0.24273\n",
      "[2019-05-31 10:47:56,297 <ipython-input-2-7667fb18f09c>] Batch [1672/2077] mAP: 0.24296\n"
     ]
    },
    {
     "name": "stdout",
     "output_type": "stream",
     "text": [
      "Pred: tensor([[216.6837, 235.6918, 270.5837, 358.4518]], device='cuda:0')\n",
      "GT: tensor([[181.3760, 345.0027, 213.8240, 414.8907]], device='cuda:0')\n",
      "Pred: tensor([[216.6837, 235.6918, 270.5837, 358.4518]], device='cuda:0')\n",
      "GT: tensor([[  5.8240, 312.8320,  39.9360, 414.8907]], device='cuda:0')\n",
      "Pred: tensor([[216.6837, 235.6918, 270.5837, 358.4518]], device='cuda:0')\n",
      "GT: tensor([[336.9600, 267.3493, 388.5440, 362.7520]], device='cuda:0')\n",
      "Pred: tensor([[216.6837, 235.6918, 270.5837, 358.4518]], device='cuda:0')\n",
      "GT: tensor([[278.7200, 252.9280, 309.5040, 341.6747]], device='cuda:0')\n",
      "Pred: tensor([[216.6837, 235.6918, 270.5837, 358.4518]], device='cuda:0')\n",
      "GT: tensor([[249.6000, 255.1467, 283.7120, 350.5493]], device='cuda:0')\n",
      "Pred: tensor([[216.6837, 235.6918, 270.5837, 358.4518]], device='cuda:0')\n",
      "GT: tensor([[217.9840, 265.1307, 243.7760, 347.2213]], device='cuda:0')\n",
      "Pred: tensor([[216.6837, 235.6918, 270.5837, 358.4518]], device='cuda:0')\n",
      "GT: tensor([[162.2400, 258.4747, 193.0240, 349.4400]], device='cuda:0')\n",
      "Pred: tensor([[216.6837, 235.6918, 270.5837, 358.4518]], device='cuda:0')\n",
      "GT: tensor([[402.6880, 332.8000, 415.1680, 397.1413]], device='cuda:0')\n",
      "Pred: tensor([[-16.0571,  92.0234,  56.3119, 199.9912]], device='cuda:0')\n",
      "GT: tensor([[  0.0000,  56.0647,  53.2480, 230.9865]], device='cuda:0')\n",
      "Pred: tensor([[128.3339,  78.6157, 354.1069, 410.7212]], device='cuda:0')\n",
      "GT: tensor([[111.4880,  78.4906, 341.1200, 414.8787]], device='cuda:0')\n",
      "Pred: tensor([[273.4106, 143.3158, 408.2306, 396.3907]], device='cuda:0')\n",
      "GT: tensor([[ 63.2320, 183.0400, 211.3280, 414.8907]], device='cuda:0')\n",
      "Pred: tensor([[ 60.1872, 189.9612, 217.4363, 407.3796]], device='cuda:0')\n",
      "GT: tensor([[ 63.2320, 183.0400, 211.3280, 414.8907]], device='cuda:0')\n",
      "Pred: tensor([[273.4106, 143.3158, 408.2306, 396.3907]], device='cuda:0')\n",
      "GT: tensor([[180.5440, 163.0720, 374.4000, 414.8907]], device='cuda:0')\n",
      "Pred: tensor([[ 60.1872, 189.9612, 217.4363, 407.3796]], device='cuda:0')\n",
      "GT: tensor([[180.5440, 163.0720, 374.4000, 414.8907]], device='cuda:0')\n",
      "Pred: tensor([[273.4106, 143.3158, 408.2306, 396.3907]], device='cuda:0')\n",
      "GT: tensor([[273.7280, 178.6027, 406.0160, 414.8907]], device='cuda:0')\n"
     ]
    },
    {
     "name": "stderr",
     "output_type": "stream",
     "text": [
      "[2019-05-31 10:47:56,364 <ipython-input-2-7667fb18f09c>] Batch [1673/2077] mAP: 0.24307\n",
      "[2019-05-31 10:47:56,416 <ipython-input-2-7667fb18f09c>] Batch [1674/2077] mAP: 0.24319\n",
      "[2019-05-31 10:47:56,523 <ipython-input-2-7667fb18f09c>] Batch [1675/2077] mAP: 0.24281\n"
     ]
    },
    {
     "name": "stdout",
     "output_type": "stream",
     "text": [
      "Pred: tensor([[138.2447, 138.5001, 211.1115, 413.7340]], device='cuda:0')\n",
      "GT: tensor([[136.4480, 152.4084, 229.6320, 353.5375]], device='cuda:0')\n",
      "Pred: tensor([[138.2447, 138.5001, 211.1115, 413.7340]], device='cuda:0')\n",
      "GT: tensor([[137.2800, 246.1021, 196.3520, 381.0210]], device='cuda:0')\n",
      "Pred: tensor([[ 38.9771,  39.0485, 200.7260, 393.8182]], device='cuda:0')\n",
      "GT: tensor([[ 16.2402,  31.6160, 231.1111, 392.7040]], device='cuda:0')\n",
      "Pred: tensor([[333.1870, 253.1911, 408.2103, 355.2896]], device='cuda:0')\n",
      "GT: tensor([[  0.0000, 150.4983,  86.5280, 398.9625]], device='cuda:0')\n",
      "Pred: tensor([[370.0691, 265.7973, 413.2496, 336.6771]], device='cuda:0')\n",
      "GT: tensor([[  0.0000, 150.4983,  86.5280, 398.9625]], device='cuda:0')\n",
      "Pred: tensor([[333.1870, 253.1911, 408.2103, 355.2896]], device='cuda:0')\n",
      "GT: tensor([[ 84.0320, 181.7338, 123.1360, 265.5017]], device='cuda:0')\n",
      "Pred: tensor([[370.0691, 265.7973, 413.2496, 336.6771]], device='cuda:0')\n",
      "GT: tensor([[ 84.0320, 181.7338, 123.1360, 265.5017]], device='cuda:0')\n",
      "Pred: tensor([[333.1870, 253.1911, 408.2103, 355.2896]], device='cuda:0')\n",
      "GT: tensor([[117.3120, 102.2253, 179.7120, 414.5802]], device='cuda:0')\n",
      "Pred: tensor([[370.0691, 265.7973, 413.2496, 336.6771]], device='cuda:0')\n",
      "GT: tensor([[117.3120, 102.2253, 179.7120, 414.5802]], device='cuda:0')\n",
      "Pred: tensor([[333.1870, 253.1911, 408.2103, 355.2896]], device='cuda:0')\n",
      "GT: tensor([[266.2400, 244.2048, 339.4560, 414.5802]], device='cuda:0')\n",
      "Pred: tensor([[370.0691, 265.7973, 413.2496, 336.6771]], device='cuda:0')\n",
      "GT: tensor([[266.2400, 244.2048, 339.4560, 414.5802]], device='cuda:0')\n",
      "Pred: tensor([[333.1870, 253.1911, 408.2103, 355.2896]], device='cuda:0')\n",
      "GT: tensor([[293.6960, 245.6246, 339.4560, 335.0717]], device='cuda:0')\n",
      "Pred: tensor([[370.0691, 265.7973, 413.2496, 336.6771]], device='cuda:0')\n",
      "GT: tensor([[293.6960, 245.6246, 339.4560, 335.0717]], device='cuda:0')\n",
      "Pred: tensor([[333.1870, 253.1911, 408.2103, 355.2896]], device='cuda:0')\n",
      "GT: tensor([[350.2720, 241.3652, 415.1680, 352.1092]], device='cuda:0')\n",
      "Pred: tensor([[333.1870, 253.1911, 408.2103, 355.2896]], device='cuda:0')\n",
      "GT: tensor([[192.1920, 198.7713, 243.7760, 414.5802]], device='cuda:0')\n",
      "Pred: tensor([[370.0691, 265.7973, 413.2496, 336.6771]], device='cuda:0')\n",
      "GT: tensor([[192.1920, 198.7713, 243.7760, 414.5802]], device='cuda:0')\n",
      "Pred: tensor([[333.1870, 253.1911, 408.2103, 355.2896]], device='cuda:0')\n",
      "GT: tensor([[178.8800, 210.1297, 202.1760, 295.3174]], device='cuda:0')\n",
      "Pred: tensor([[370.0691, 265.7973, 413.2496, 336.6771]], device='cuda:0')\n",
      "GT: tensor([[178.8800, 210.1297, 202.1760, 295.3174]], device='cuda:0')\n"
     ]
    },
    {
     "name": "stderr",
     "output_type": "stream",
     "text": [
      "[2019-05-31 10:47:56,605 <ipython-input-2-7667fb18f09c>] Batch [1676/2077] mAP: 0.24304\n",
      "[2019-05-31 10:47:56,664 <ipython-input-2-7667fb18f09c>] Batch [1677/2077] mAP: 0.24293\n",
      "[2019-05-31 10:47:56,725 <ipython-input-2-7667fb18f09c>] Batch [1678/2077] mAP: 0.24327\n"
     ]
    },
    {
     "name": "stdout",
     "output_type": "stream",
     "text": [
      "Pred: tensor([[144.7046, 174.6873, 218.9064, 378.3499]], device='cuda:0')\n",
      "GT: tensor([[271.2320, 153.0880, 282.8800, 188.5867]], device='cuda:0')\n",
      "Pred: tensor([[192.7588, 147.9135, 270.1567, 380.5607]], device='cuda:0')\n",
      "GT: tensor([[271.2320, 153.0880, 282.8800, 188.5867]], device='cuda:0')\n",
      "Pred: tensor([[144.7046, 174.6873, 218.9064, 378.3499]], device='cuda:0')\n",
      "GT: tensor([[198.0160, 127.5733, 262.0800, 387.1573]], device='cuda:0')\n",
      "Pred: tensor([[192.7588, 147.9135, 270.1567, 380.5607]], device='cuda:0')\n",
      "GT: tensor([[198.0160, 127.5733, 262.0800, 387.1573]], device='cuda:0')\n",
      "Pred: tensor([[144.7046, 174.6873, 218.9064, 378.3499]], device='cuda:0')\n",
      "GT: tensor([[153.9200, 168.6187, 205.5040, 376.0640]], device='cuda:0')\n",
      "Pred: tensor([[276.4507, 216.4982, 404.7688, 434.7802]], device='cuda:0')\n",
      "GT: tensor([[271.2320, 238.6066, 415.1680, 413.5015]], device='cuda:0')\n",
      "Pred: tensor([[  2.8863, -17.7767, 411.6426, 437.3393]], device='cuda:0')\n",
      "GT: tensor([[  6.6560,   0.0000, 415.1680, 354.7868]], device='cuda:0')\n"
     ]
    },
    {
     "name": "stderr",
     "output_type": "stream",
     "text": [
      "[2019-05-31 10:47:56,784 <ipython-input-2-7667fb18f09c>] Batch [1679/2077] mAP: 0.24344\n",
      "[2019-05-31 10:47:56,851 <ipython-input-2-7667fb18f09c>] Batch [1680/2077] mAP: 0.24356\n",
      "[2019-05-31 10:47:56,905 <ipython-input-2-7667fb18f09c>] Batch [1681/2077] mAP: 0.24350\n",
      "[2019-05-31 10:47:56,973 <ipython-input-2-7667fb18f09c>] Batch [1682/2077] mAP: 0.24367\n"
     ]
    },
    {
     "name": "stdout",
     "output_type": "stream",
     "text": [
      "Pred: tensor([[ 44.6712,  79.1564, 366.2557, 402.0929]], device='cuda:0')\n",
      "GT: tensor([[ 51.5840,  75.1807, 326.1440, 414.7470]], device='cuda:0')\n",
      "Pred: tensor([[ 31.2867, 197.3333, 388.7726, 337.6686]], device='cuda:0')\n",
      "GT: tensor([[ 21.6320, 230.4000,  58.2400, 285.4400]], device='cuda:0')\n",
      "Pred: tensor([[ 31.2867, 197.3333, 388.7726, 337.6686]], device='cuda:0')\n",
      "GT: tensor([[  9.1520, 162.5600, 397.6960, 352.0000]], device='cuda:0')\n",
      "Pred: tensor([[ 73.5064,  91.4573, 340.3330, 315.1006]], device='cuda:0')\n",
      "GT: tensor([[ 41.6000,  95.4027, 344.4480, 293.9733]], device='cuda:0')\n"
     ]
    },
    {
     "name": "stderr",
     "output_type": "stream",
     "text": [
      "[2019-05-31 10:47:57,030 <ipython-input-2-7667fb18f09c>] Batch [1683/2077] mAP: 0.24356\n",
      "[2019-05-31 10:47:57,105 <ipython-input-2-7667fb18f09c>] Batch [1684/2077] mAP: 0.24324\n",
      "[2019-05-31 10:47:57,159 <ipython-input-2-7667fb18f09c>] Batch [1685/2077] mAP: 0.24336\n",
      "[2019-05-31 10:47:57,196 <ipython-input-2-7667fb18f09c>] Batch [1686/2077] mAP: 0.24314\n",
      "[2019-05-31 10:47:57,229 <ipython-input-2-7667fb18f09c>] Batch [1687/2077] mAP: 0.24309\n",
      "[2019-05-31 10:47:57,283 <ipython-input-2-7667fb18f09c>] Batch [1688/2077] mAP: 0.24303\n"
     ]
    },
    {
     "name": "stdout",
     "output_type": "stream",
     "text": [
      "Pred: tensor([[346.5796, -10.4227, 391.6952,  53.1118]], device='cuda:0')\n",
      "GT: tensor([[347.2213,   0.0000, 387.1573,  57.4080]], device='cuda:0')\n",
      "Pred: tensor([[219.4829, 177.3827, 316.1609, 278.3647]], device='cuda:0')\n",
      "GT: tensor([[242.1120, 176.3840, 297.8560, 262.9120]], device='cuda:0')\n",
      "Pred: tensor([[246.9431, 173.3855, 288.9807, 251.3093]], device='cuda:0')\n",
      "GT: tensor([[242.9440, 170.8373, 295.3600, 252.9280]], device='cuda:0')\n"
     ]
    },
    {
     "name": "stderr",
     "output_type": "stream",
     "text": [
      "[2019-05-31 10:47:57,346 <ipython-input-2-7667fb18f09c>] Batch [1689/2077] mAP: 0.24315\n",
      "[2019-05-31 10:47:57,394 <ipython-input-2-7667fb18f09c>] Batch [1690/2077] mAP: 0.24332\n",
      "[2019-05-31 10:47:57,434 <ipython-input-2-7667fb18f09c>] Batch [1691/2077] mAP: 0.24348\n",
      "[2019-05-31 10:47:57,500 <ipython-input-2-7667fb18f09c>] Batch [1692/2077] mAP: 0.24365\n"
     ]
    },
    {
     "name": "stdout",
     "output_type": "stream",
     "text": [
      "Pred: tensor([[284.2393, 170.6415, 385.3782, 323.0876]], device='cuda:0')\n",
      "GT: tensor([[272.8960, 197.1840, 414.8907, 315.3280]], device='cuda:0')\n",
      "Pred: tensor([[ 93.6587,  26.0042, 382.3100, 381.0562]], device='cuda:0')\n",
      "GT: tensor([[  0.0000,   0.0000, 373.5680, 414.8907]], device='cuda:0')\n",
      "Pred: tensor([[ 24.3872,  94.1659, 384.7261, 377.4862]], device='cuda:0')\n",
      "GT: tensor([[ 21.6320,  42.4745, 304.5120, 414.7508]], device='cuda:0')\n",
      "Pred: tensor([[108.6140, 185.8553, 313.1161, 342.0558]], device='cuda:0')\n",
      "GT: tensor([[ 62.4000, 158.2164, 363.5840, 358.7148]], device='cuda:0')\n"
     ]
    },
    {
     "name": "stderr",
     "output_type": "stream",
     "text": [
      "[2019-05-31 10:47:57,556 <ipython-input-2-7667fb18f09c>] Batch [1693/2077] mAP: 0.24377\n",
      "[2019-05-31 10:47:57,591 <ipython-input-2-7667fb18f09c>] Batch [1694/2077] mAP: 0.24371\n",
      "[2019-05-31 10:47:57,631 <ipython-input-2-7667fb18f09c>] Batch [1695/2077] mAP: 0.24383\n",
      "[2019-05-31 10:47:57,673 <ipython-input-2-7667fb18f09c>] Batch [1696/2077] mAP: 0.24367\n",
      "[2019-05-31 10:47:57,715 <ipython-input-2-7667fb18f09c>] Batch [1697/2077] mAP: 0.24362\n"
     ]
    },
    {
     "name": "stdout",
     "output_type": "stream",
     "text": [
      "Pred: tensor([[149.4351, 122.4068, 263.5543, 349.8855]], device='cuda:0')\n",
      "GT: tensor([[247.3813, 253.7600, 317.2693, 342.7840]], device='cuda:0')\n",
      "Pred: tensor([[149.4351, 122.4068, 263.5543, 349.8855]], device='cuda:0')\n",
      "GT: tensor([[156.4160, 119.8080, 262.9120, 333.6320]], device='cuda:0')\n",
      "Pred: tensor([[143.4200, 113.2777, 334.9286, 364.0301]], device='cuda:0')\n",
      "GT: tensor([[157.2480, 118.6987, 397.6960, 360.5333]], device='cuda:0')\n",
      "Pred: tensor([[257.1254,  98.9784, 399.4549, 321.9565]], device='cuda:0')\n",
      "GT: tensor([[238.7840,  77.6533, 408.5120, 332.8000]], device='cuda:0')\n",
      "Pred: tensor([[169.2994,  -6.6610, 313.5652, 433.5836]], device='cuda:0')\n",
      "GT: tensor([[164.7360,  61.0133, 287.0400, 391.5947]], device='cuda:0')\n"
     ]
    },
    {
     "name": "stderr",
     "output_type": "stream",
     "text": [
      "[2019-05-31 10:47:57,817 <ipython-input-2-7667fb18f09c>] Batch [1698/2077] mAP: 0.24309\n",
      "[2019-05-31 10:47:57,878 <ipython-input-2-7667fb18f09c>] Batch [1699/2077] mAP: 0.24326\n",
      "[2019-05-31 10:47:57,946 <ipython-input-2-7667fb18f09c>] Batch [1700/2077] mAP: 0.24337\n"
     ]
    },
    {
     "name": "stdout",
     "output_type": "stream",
     "text": [
      "Pred: tensor([[ 54.9185,  75.8023,  89.6265, 144.4888]], device='cuda:0')\n",
      "GT: tensor([[ 74.8800,  39.9360,  99.8400, 149.7600]], device='cuda:0')\n",
      "Pred: tensor([[ 54.9185,  75.8023,  89.6265, 144.4888]], device='cuda:0')\n",
      "GT: tensor([[ 58.2400,  59.9040,  82.3680, 153.0880]], device='cuda:0')\n",
      "Pred: tensor([[ 54.9185,  75.8023,  89.6265, 144.4888]], device='cuda:0')\n",
      "GT: tensor([[ 20.8000,  66.5600,  42.4320, 163.0720]], device='cuda:0')\n",
      "Pred: tensor([[ 54.9185,  75.8023,  89.6265, 144.4888]], device='cuda:0')\n",
      "GT: tensor([[ 13.3120,  28.8427,  39.9360, 115.3707]], device='cuda:0')\n",
      "Pred: tensor([[ 54.9185,  75.8023,  89.6265, 144.4888]], device='cuda:0')\n",
      "GT: tensor([[52.4160, 58.7947, 59.9040, 90.9653]], device='cuda:0')\n",
      "Pred: tensor([[ 54.9185,  75.8023,  89.6265, 144.4888]], device='cuda:0')\n",
      "GT: tensor([[52.4160, 38.8267, 64.0640, 84.3093]], device='cuda:0')\n",
      "Pred: tensor([[ 54.9185,  75.8023,  89.6265, 144.4888]], device='cuda:0')\n",
      "GT: tensor([[61.5680, 36.6080, 74.0480, 78.7627]], device='cuda:0')\n",
      "Pred: tensor([[ 54.9185,  75.8023,  89.6265, 144.4888]], device='cuda:0')\n",
      "GT: tensor([[ 82.3680,  31.0613, 102.3360, 132.0107]], device='cuda:0')\n",
      "Pred: tensor([[158.6006, 137.0049, 272.6649, 261.3591]], device='cuda:0')\n",
      "GT: tensor([[178.8800, 143.1040, 281.2160, 279.5520]], device='cuda:0')\n",
      "Pred: tensor([[208.0694, 138.2575, 394.7735, 355.8585]], device='cuda:0')\n",
      "GT: tensor([[176.3840, 135.3387, 415.1680, 377.1733]], device='cuda:0')\n"
     ]
    },
    {
     "name": "stderr",
     "output_type": "stream",
     "text": [
      "[2019-05-31 10:47:57,999 <ipython-input-2-7667fb18f09c>] Batch [1701/2077] mAP: 0.24343\n",
      "[2019-05-31 10:47:58,075 <ipython-input-2-7667fb18f09c>] Batch [1702/2077] mAP: 0.24295\n",
      "[2019-05-31 10:47:58,137 <ipython-input-2-7667fb18f09c>] Batch [1703/2077] mAP: 0.24312\n",
      "[2019-05-31 10:47:58,185 <ipython-input-2-7667fb18f09c>] Batch [1704/2077] mAP: 0.24328\n"
     ]
    },
    {
     "name": "stdout",
     "output_type": "stream",
     "text": [
      "Pred: tensor([[ 42.6769, 122.3786, 311.6690, 285.1926]], device='cuda:0')\n",
      "GT: tensor([[ 49.9200,  80.4034, 296.1920, 308.7955]], device='cuda:0')\n",
      "Pred: tensor([[383.5775, 191.7888, 407.2348, 239.8346]], device='cuda:0')\n",
      "GT: tensor([[385.2160, 199.2605, 396.0320, 230.7227]], device='cuda:0')\n",
      "Pred: tensor([[ 69.3625,  83.6524, 223.9481, 328.6094]], device='cuda:0')\n",
      "GT: tensor([[ 74.8800,  67.6693, 216.3200, 283.9893]], device='cuda:0')\n",
      "Pred: tensor([[ 69.3625,  83.6524, 223.9481, 328.6094]], device='cuda:0')\n",
      "GT: tensor([[217.9840,  78.7627, 379.3920, 347.2213]], device='cuda:0')\n",
      "Pred: tensor([[ 69.3625,  83.6524, 223.9481, 328.6094]], device='cuda:0')\n",
      "GT: tensor([[358.5920,  65.4507, 415.1680, 186.3680]], device='cuda:0')\n",
      "Pred: tensor([[ 69.3625,  83.6524, 223.9481, 328.6094]], device='cuda:0')\n",
      "GT: tensor([[376.8960, 103.1680, 415.1680, 186.3680]], device='cuda:0')\n",
      "Pred: tensor([[ 69.3625,  83.6524, 223.9481, 328.6094]], device='cuda:0')\n",
      "GT: tensor([[306.1760, 107.6053, 323.6480, 129.7920]], device='cuda:0')\n",
      "Pred: tensor([[ 69.3625,  83.6524, 223.9481, 328.6094]], device='cuda:0')\n",
      "GT: tensor([[285.3760,  97.6213, 299.5200, 143.1040]], device='cuda:0')\n",
      "Pred: tensor([[ 40.0219,  96.5602, 434.9764, 324.7256]], device='cuda:0')\n",
      "GT: tensor([[  0.0000,  48.2560, 379.7718, 415.1680]], device='cuda:0')\n",
      "Pred: tensor([[ 98.1112, 128.4917, 377.4630, 289.1786]], device='cuda:0')\n",
      "GT: tensor([[ 85.6960,  74.9550, 395.2000, 319.8078]], device='cuda:0')\n"
     ]
    },
    {
     "name": "stderr",
     "output_type": "stream",
     "text": [
      "[2019-05-31 10:47:58,246 <ipython-input-2-7667fb18f09c>] Batch [1705/2077] mAP: 0.24345\n",
      "[2019-05-31 10:47:58,292 <ipython-input-2-7667fb18f09c>] Batch [1706/2077] mAP: 0.24334\n",
      "[2019-05-31 10:47:58,334 <ipython-input-2-7667fb18f09c>] Batch [1707/2077] mAP: 0.24346\n",
      "[2019-05-31 10:47:58,394 <ipython-input-2-7667fb18f09c>] Batch [1708/2077] mAP: 0.24362\n"
     ]
    },
    {
     "name": "stdout",
     "output_type": "stream",
     "text": [
      "Pred: tensor([[216.2986, 126.5472, 385.5147, 436.9786]], device='cuda:0')\n",
      "GT: tensor([[215.4880, 131.5663, 410.1760, 414.7470]], device='cuda:0')\n",
      "Pred: tensor([[288.1563, 195.5734, 385.2672, 392.5444]], device='cuda:0')\n",
      "GT: tensor([[279.5520, 173.0560, 415.1680, 414.8907]], device='cuda:0')\n",
      "Pred: tensor([[ 33.1201,  29.9275, 386.2638, 387.7889]], device='cuda:0')\n",
      "GT: tensor([[ 67.7486,  14.1440, 341.1200, 398.5280]], device='cuda:0')\n"
     ]
    },
    {
     "name": "stderr",
     "output_type": "stream",
     "text": [
      "[2019-05-31 10:47:58,458 <ipython-input-2-7667fb18f09c>] Batch [1709/2077] mAP: 0.24379\n",
      "[2019-05-31 10:47:58,527 <ipython-input-2-7667fb18f09c>] Batch [1710/2077] mAP: 0.24374\n",
      "[2019-05-31 10:47:58,606 <ipython-input-2-7667fb18f09c>] Batch [1711/2077] mAP: 0.24391\n"
     ]
    },
    {
     "name": "stdout",
     "output_type": "stream",
     "text": [
      "Pred: tensor([[112.7885, 177.8731, 376.5477, 289.3141]], device='cuda:0')\n",
      "GT: tensor([[136.4480, 164.1813, 370.2400, 303.9573]], device='cuda:0')\n",
      "Pred: tensor([[107.5884, 129.6166, 243.3678, 346.9506]], device='cuda:0')\n",
      "GT: tensor([[  0.0000,  98.1760, 257.7872, 397.6960]], device='cuda:0')\n",
      "Pred: tensor([[  9.4142, 153.9570, 335.4331, 327.7493]], device='cuda:0')\n",
      "GT: tensor([[  0.0000,  98.1760, 257.7872, 397.6960]], device='cuda:0')\n",
      "Pred: tensor([[317.2131, 262.2703, 418.1312, 422.2688]], device='cuda:0')\n",
      "GT: tensor([[ 16.6400, 295.3600,  77.6533, 415.1680]], device='cuda:0')\n",
      "Pred: tensor([[ 56.1020,  84.3455, 354.8886, 464.7487]], device='cuda:0')\n",
      "GT: tensor([[ 16.6400, 295.3600,  77.6533, 415.1680]], device='cuda:0')\n",
      "Pred: tensor([[317.2131, 262.2703, 418.1312, 422.2688]], device='cuda:0')\n",
      "GT: tensor([[287.3173, 275.3920, 414.8907, 415.1680]], device='cuda:0')\n",
      "Pred: tensor([[317.2131, 262.2703, 418.1312, 422.2688]], device='cuda:0')\n",
      "GT: tensor([[ 37.7173, 129.7920, 360.5333, 415.1680]], device='cuda:0')\n",
      "Pred: tensor([[ 56.1020,  84.3455, 354.8886, 464.7487]], device='cuda:0')\n",
      "GT: tensor([[ 37.7173, 129.7920, 360.5333, 415.1680]], device='cuda:0')\n"
     ]
    },
    {
     "name": "stderr",
     "output_type": "stream",
     "text": [
      "[2019-05-31 10:47:58,661 <ipython-input-2-7667fb18f09c>] Batch [1712/2077] mAP: 0.24385\n",
      "[2019-05-31 10:47:58,724 <ipython-input-2-7667fb18f09c>] Batch [1713/2077] mAP: 0.24402\n",
      "[2019-05-31 10:47:58,826 <ipython-input-2-7667fb18f09c>] Batch [1714/2077] mAP: 0.24403\n",
      "[2019-05-31 10:47:58,880 <ipython-input-2-7667fb18f09c>] Batch [1715/2077] mAP: 0.24414\n"
     ]
    },
    {
     "name": "stdout",
     "output_type": "stream",
     "text": [
      "Pred: tensor([[ 97.1891,  95.0418, 309.1276, 375.2372]], device='cuda:0')\n",
      "GT: tensor([[ 39.9360, 136.4480, 366.0800, 351.1040]], device='cuda:0')\n",
      "Pred: tensor([[360.6386, 177.3080, 423.2401, 242.1256]], device='cuda:0')\n",
      "GT: tensor([[ 62.4000, 125.3547, 342.7840, 311.7227]], device='cuda:0')\n",
      "Pred: tensor([[ 65.1866, 135.1607, 356.2498, 327.9311]], device='cuda:0')\n",
      "GT: tensor([[ 62.4000, 125.3547, 342.7840, 311.7227]], device='cuda:0')\n",
      "Pred: tensor([[360.6386, 177.3080, 423.2401, 242.1256]], device='cuda:0')\n",
      "GT: tensor([[341.9520, 164.1813, 415.1680, 259.5840]], device='cuda:0')\n",
      "Pred: tensor([[ 65.1866, 135.1607, 356.2498, 327.9311]], device='cuda:0')\n",
      "GT: tensor([[341.9520, 164.1813, 415.1680, 259.5840]], device='cuda:0')\n",
      "Pred: tensor([[360.6386, 177.3080, 423.2401, 242.1256]], device='cuda:0')\n",
      "GT: tensor([[  2.4960, 128.6827,  63.2320, 191.9147]], device='cuda:0')\n",
      "Pred: tensor([[ 65.1866, 135.1607, 356.2498, 327.9311]], device='cuda:0')\n",
      "GT: tensor([[  2.4960, 128.6827,  63.2320, 191.9147]], device='cuda:0')\n",
      "Pred: tensor([[360.6386, 177.3080, 423.2401, 242.1256]], device='cuda:0')\n",
      "GT: tensor([[ 66.5600, 141.9947, 130.6240, 189.6960]], device='cuda:0')\n",
      "Pred: tensor([[ 65.1866, 135.1607, 356.2498, 327.9311]], device='cuda:0')\n",
      "GT: tensor([[ 66.5600, 141.9947, 130.6240, 189.6960]], device='cuda:0')\n",
      "Pred: tensor([[ 48.0385, 156.8390, 368.4782, 320.6472]], device='cuda:0')\n",
      "GT: tensor([[ 59.9040, 147.9588, 337.7920, 318.4330]], device='cuda:0')\n",
      "Pred: tensor([[ 30.8900, 200.3656,  50.7836, 218.2855]], device='cuda:0')\n",
      "GT: tensor([[ 18.3040, 210.1443,  45.7600, 220.8660]], device='cuda:0')\n",
      "Pred: tensor([[ 14.7858, 200.9564,  33.3861, 223.3430]], device='cuda:0')\n",
      "GT: tensor([[ 18.3040, 210.1443,  45.7600, 220.8660]], device='cuda:0')\n"
     ]
    },
    {
     "name": "stderr",
     "output_type": "stream",
     "text": [
      "[2019-05-31 10:47:58,965 <ipython-input-2-7667fb18f09c>] Batch [1716/2077] mAP: 0.24409\n",
      "[2019-05-31 10:47:59,011 <ipython-input-2-7667fb18f09c>] Batch [1717/2077] mAP: 0.24425\n",
      "[2019-05-31 10:47:59,049 <ipython-input-2-7667fb18f09c>] Batch [1718/2077] mAP: 0.24415\n",
      "[2019-05-31 10:47:59,088 <ipython-input-2-7667fb18f09c>] Batch [1719/2077] mAP: 0.24431\n"
     ]
    },
    {
     "name": "stdout",
     "output_type": "stream",
     "text": [
      "Pred: tensor([[120.7669, 156.2711, 293.1807, 384.9403]], device='cuda:0')\n",
      "GT: tensor([[134.9189, 182.2080, 289.8258, 369.4080]], device='cuda:0')\n",
      "Pred: tensor([[120.7669, 156.2711, 293.1807, 384.9403]], device='cuda:0')\n",
      "GT: tensor([[309.8138, 183.0400, 352.2883, 337.7920]], device='cuda:0')\n",
      "Pred: tensor([[120.7669, 156.2711, 293.1807, 384.9403]], device='cuda:0')\n",
      "GT: tensor([[ 51.2192, 183.0400, 111.1832, 338.6240]], device='cuda:0')\n",
      "Pred: tensor([[120.7669, 156.2711, 293.1807, 384.9403]], device='cuda:0')\n",
      "GT: tensor([[ 81.2012, 183.0400, 113.6817, 209.6640]], device='cuda:0')\n",
      "Pred: tensor([[ 97.8647, 125.5361, 381.2903, 337.3369]], device='cuda:0')\n",
      "GT: tensor([[122.3040, 127.1847, 341.1200, 339.1592]], device='cuda:0')\n",
      "Pred: tensor([[ 32.5902,  49.3697, 379.2842, 363.3987]], device='cuda:0')\n",
      "GT: tensor([[ 12.4800,  37.7173, 411.8400, 359.4240]], device='cuda:0')\n"
     ]
    },
    {
     "name": "stderr",
     "output_type": "stream",
     "text": [
      "[2019-05-31 10:47:59,154 <ipython-input-2-7667fb18f09c>] Batch [1720/2077] mAP: 0.24415\n",
      "[2019-05-31 10:47:59,208 <ipython-input-2-7667fb18f09c>] Batch [1721/2077] mAP: 0.24410\n",
      "[2019-05-31 10:47:59,256 <ipython-input-2-7667fb18f09c>] Batch [1722/2077] mAP: 0.24421\n",
      "[2019-05-31 10:47:59,291 <ipython-input-2-7667fb18f09c>] Batch [1723/2077] mAP: 0.24416\n"
     ]
    },
    {
     "name": "stdout",
     "output_type": "stream",
     "text": [
      "Pred: tensor([[ 96.6036,  50.5343, 113.6659, 105.1356]], device='cuda:0')\n",
      "GT: tensor([[ 99.8400,  73.2160, 106.4960,  93.1840]], device='cuda:0')\n",
      "Pred: tensor([[ 75.0930,  44.4895, 101.7002, 112.0325]], device='cuda:0')\n",
      "GT: tensor([[ 99.8400,  73.2160, 106.4960,  93.1840]], device='cuda:0')\n",
      "Pred: tensor([[ 92.1420, 138.3520, 199.5586, 274.1647]], device='cuda:0')\n",
      "GT: tensor([[104.8320, 114.2613, 200.5120, 276.2240]], device='cuda:0')\n"
     ]
    },
    {
     "name": "stderr",
     "output_type": "stream",
     "text": [
      "[2019-05-31 10:47:59,346 <ipython-input-2-7667fb18f09c>] Batch [1724/2077] mAP: 0.24410\n",
      "[2019-05-31 10:47:59,402 <ipython-input-2-7667fb18f09c>] Batch [1725/2077] mAP: 0.24416\n",
      "[2019-05-31 10:47:59,450 <ipython-input-2-7667fb18f09c>] Batch [1726/2077] mAP: 0.24449\n",
      "[2019-05-31 10:47:59,494 <ipython-input-2-7667fb18f09c>] Batch [1727/2077] mAP: 0.24460\n",
      "[2019-05-31 10:47:59,533 <ipython-input-2-7667fb18f09c>] Batch [1728/2077] mAP: 0.24466\n",
      "[2019-05-31 10:47:59,566 <ipython-input-2-7667fb18f09c>] Batch [1729/2077] mAP: 0.24461\n"
     ]
    },
    {
     "name": "stdout",
     "output_type": "stream",
     "text": [
      "Pred: tensor([[101.8551, 121.2954, 318.7905, 358.4238]], device='cuda:0')\n",
      "GT: tensor([[293.9733, 139.7760, 414.8907, 406.8480]], device='cuda:0')\n",
      "Pred: tensor([[101.8551, 121.2954, 318.7905, 358.4238]], device='cuda:0')\n",
      "GT: tensor([[126.4640,  90.6880, 362.7520, 415.1680]], device='cuda:0')\n",
      "Pred: tensor([[ 44.6930, 109.4551, 444.5797, 376.4094]], device='cuda:0')\n",
      "GT: tensor([[109.8240, 146.9701, 415.1680, 383.6168]], device='cuda:0')\n",
      "Pred: tensor([[ 47.2843, 265.3748, 113.2500, 415.7469]], device='cuda:0')\n",
      "GT: tensor([[ 43.2640, 270.2755, 108.9920, 414.7545]], device='cuda:0')\n",
      "Pred: tensor([[ 43.0545,  18.4431, 324.1588, 335.6917]], device='cuda:0')\n",
      "GT: tensor([[ 29.1200,  13.3120, 335.2960, 349.4400]], device='cuda:0')\n",
      "Pred: tensor([[ 43.0545,  18.4431, 324.1588, 335.6917]], device='cuda:0')\n",
      "GT: tensor([[281.2160,  89.8560, 415.1680, 279.5520]], device='cuda:0')\n",
      "Pred: tensor([[234.7935,  77.6106, 305.6354, 138.7668]], device='cuda:0')\n",
      "GT: tensor([[249.3333,  69.6163, 313.3333, 139.2327]], device='cuda:0')\n"
     ]
    },
    {
     "name": "stderr",
     "output_type": "stream",
     "text": [
      "[2019-05-31 10:47:59,629 <ipython-input-2-7667fb18f09c>] Batch [1730/2077] mAP: 0.24477\n",
      "[2019-05-31 10:47:59,692 <ipython-input-2-7667fb18f09c>] Batch [1731/2077] mAP: 0.24478\n",
      "[2019-05-31 10:47:59,759 <ipython-input-2-7667fb18f09c>] Batch [1732/2077] mAP: 0.24494\n",
      "[2019-05-31 10:47:59,814 <ipython-input-2-7667fb18f09c>] Batch [1733/2077] mAP: 0.24489\n"
     ]
    },
    {
     "name": "stdout",
     "output_type": "stream",
     "text": [
      "Pred: tensor([[130.4268,  63.2164, 411.6011, 401.5192]], device='cuda:0')\n",
      "GT: tensor([[118.8571,   0.0000, 386.2857, 396.5217]], device='cuda:0')\n",
      "Pred: tensor([[-11.9302, 103.7467, 301.6818, 248.5027]], device='cuda:0')\n",
      "GT: tensor([[ 10.8160,  86.8174, 240.4480, 288.1855]], device='cuda:0')\n",
      "Pred: tensor([[ 57.6237,  25.1199, 157.0799, 154.7344]], device='cuda:0')\n",
      "GT: tensor([[ 81.5360,  30.1449, 136.4480, 184.4870]], device='cuda:0')\n",
      "Pred: tensor([[-11.9302, 103.7467, 301.6818, 248.5027]], device='cuda:0')\n",
      "GT: tensor([[357.7600, 141.0783, 415.1680, 274.9218]], device='cuda:0')\n",
      "Pred: tensor([[ 57.6237,  25.1199, 157.0799, 154.7344]], device='cuda:0')\n",
      "GT: tensor([[392.7040, 100.0812, 415.1680, 166.4000]], device='cuda:0')\n",
      "Pred: tensor([[ 82.3795, 121.3479, 330.8806, 300.4799]], device='cuda:0')\n",
      "GT: tensor([[ 88.1920,  86.3170, 323.6480, 334.4784]], device='cuda:0')\n"
     ]
    },
    {
     "name": "stderr",
     "output_type": "stream",
     "text": [
      "[2019-05-31 10:47:59,858 <ipython-input-2-7667fb18f09c>] Batch [1734/2077] mAP: 0.24484\n",
      "[2019-05-31 10:47:59,941 <ipython-input-2-7667fb18f09c>] Batch [1735/2077] mAP: 0.24506\n",
      "[2019-05-31 10:47:59,982 <ipython-input-2-7667fb18f09c>] Batch [1736/2077] mAP: 0.24500\n",
      "[2019-05-31 10:48:00,035 <ipython-input-2-7667fb18f09c>] Batch [1737/2077] mAP: 0.24469\n",
      "[2019-05-31 10:48:00,098 <ipython-input-2-7667fb18f09c>] Batch [1738/2077] mAP: 0.24469\n"
     ]
    },
    {
     "name": "stdout",
     "output_type": "stream",
     "text": [
      "Pred: tensor([[270.0293, 182.4073, 331.1952, 404.8204]], device='cuda:0')\n",
      "GT: tensor([[275.3920, 186.1728, 327.8080, 412.1482]], device='cuda:0')\n",
      "Pred: tensor([[270.0293, 182.4073, 331.1952, 404.8204]], device='cuda:0')\n",
      "GT: tensor([[220.4800, 186.1728, 242.1120, 283.7531]], device='cuda:0')\n",
      "Pred: tensor([[270.0293, 182.4073, 331.1952, 404.8204]], device='cuda:0')\n",
      "GT: tensor([[143.9360, 205.4321, 167.2320, 308.1482]], device='cuda:0')\n",
      "Pred: tensor([[178.8731, 184.0347, 242.1756, 243.9781]], device='cuda:0')\n",
      "GT: tensor([[188.0320, 182.3210, 243.7760, 251.6543]], device='cuda:0')\n",
      "Pred: tensor([[9.8347e-02, 1.2913e+02, 4.0596e+01, 1.7046e+02]], device='cuda:0')\n",
      "GT: tensor([[  7.4955, 133.9520, 414.7508, 357.7600]], device='cuda:0')\n",
      "Pred: tensor([[9.8347e-02, 1.2913e+02, 4.0596e+01, 1.7046e+02]], device='cuda:0')\n",
      "GT: tensor([[  0.0000, 133.1200,  71.2072, 180.5440]], device='cuda:0')\n",
      "Pred: tensor([[160.1699, 171.5260, 306.8364, 359.5905]], device='cuda:0')\n",
      "GT: tensor([[ 33.7297,  94.0160, 212.3724, 366.9120]], device='cuda:0')\n",
      "Pred: tensor([[160.1699, 171.5260, 306.8364, 359.5905]], device='cuda:0')\n",
      "GT: tensor([[167.3994, 168.8960, 297.3213, 340.2880]], device='cuda:0')\n"
     ]
    },
    {
     "name": "stderr",
     "output_type": "stream",
     "text": [
      "[2019-05-31 10:48:00,140 <ipython-input-2-7667fb18f09c>] Batch [1739/2077] mAP: 0.24480\n",
      "[2019-05-31 10:48:00,191 <ipython-input-2-7667fb18f09c>] Batch [1740/2077] mAP: 0.24448\n",
      "[2019-05-31 10:48:00,245 <ipython-input-2-7667fb18f09c>] Batch [1741/2077] mAP: 0.24438\n",
      "[2019-05-31 10:48:00,305 <ipython-input-2-7667fb18f09c>] Batch [1742/2077] mAP: 0.24454\n"
     ]
    },
    {
     "name": "stdout",
     "output_type": "stream",
     "text": [
      "Pred: tensor([[ 35.6927,   1.6054, 371.2054, 215.4208]], device='cuda:0')\n",
      "GT: tensor([[ 54.0800,  18.8587, 351.1040, 170.8373]], device='cuda:0')\n",
      "Pred: tensor([[198.3383, 158.6614, 222.0855, 194.9084]], device='cuda:0')\n",
      "GT: tensor([[198.0160, 138.6667, 225.4720, 212.9920]], device='cuda:0')\n",
      "Pred: tensor([[ 97.6835, 120.5003, 190.5961, 348.3385]], device='cuda:0')\n",
      "GT: tensor([[203.0080, 129.7920, 327.8080, 408.2347]], device='cuda:0')\n",
      "Pred: tensor([[ 97.6835, 120.5003, 190.5961, 348.3385]], device='cuda:0')\n",
      "GT: tensor([[ 89.0240, 132.0107, 244.6080, 406.0160]], device='cuda:0')\n",
      "Pred: tensor([[242.8739, 123.3776, 372.4874, 310.0100]], device='cuda:0')\n",
      "GT: tensor([[232.9600, 137.3585, 360.2560, 321.8113]], device='cuda:0')\n"
     ]
    },
    {
     "name": "stderr",
     "output_type": "stream",
     "text": [
      "[2019-05-31 10:48:00,438 <ipython-input-2-7667fb18f09c>] Batch [1743/2077] mAP: 0.24444\n",
      "[2019-05-31 10:48:00,553 <ipython-input-2-7667fb18f09c>] Batch [1744/2077] mAP: 0.24407\n"
     ]
    },
    {
     "name": "stdout",
     "output_type": "stream",
     "text": [
      "Pred: tensor([[216.8304, 107.4987, 262.5878, 184.0898]], device='cuda:0')\n",
      "GT: tensor([[198.0160,  99.8400, 255.4240, 244.0533]], device='cuda:0')\n",
      "Pred: tensor([[200.5767,  68.8868, 260.6805, 268.3321]], device='cuda:0')\n",
      "GT: tensor([[198.0160,  99.8400, 255.4240, 244.0533]], device='cuda:0')\n",
      "Pred: tensor([[216.8304, 107.4987, 262.5878, 184.0898]], device='cuda:0')\n",
      "GT: tensor([[328.6400, 112.0427, 365.2480, 188.5867]], device='cuda:0')\n",
      "Pred: tensor([[200.5767,  68.8868, 260.6805, 268.3321]], device='cuda:0')\n",
      "GT: tensor([[328.6400, 112.0427, 365.2480, 188.5867]], device='cuda:0')\n",
      "Pred: tensor([[216.8304, 107.4987, 262.5878, 184.0898]], device='cuda:0')\n",
      "GT: tensor([[198.0160, 115.3707, 357.7600, 414.8907]], device='cuda:0')\n",
      "Pred: tensor([[200.5767,  68.8868, 260.6805, 268.3321]], device='cuda:0')\n",
      "GT: tensor([[198.0160, 115.3707, 357.7600, 414.8907]], device='cuda:0')\n",
      "Pred: tensor([[216.8304, 107.4987, 262.5878, 184.0898]], device='cuda:0')\n",
      "GT: tensor([[285.3760,  66.5600, 297.8560,  90.9653]], device='cuda:0')\n",
      "Pred: tensor([[200.5767,  68.8868, 260.6805, 268.3321]], device='cuda:0')\n",
      "GT: tensor([[285.3760,  66.5600, 297.8560,  90.9653]], device='cuda:0')\n",
      "Pred: tensor([[216.8304, 107.4987, 262.5878, 184.0898]], device='cuda:0')\n",
      "GT: tensor([[ 49.0880,  13.3120, 224.6400, 414.8907]], device='cuda:0')\n",
      "Pred: tensor([[200.5767,  68.8868, 260.6805, 268.3321]], device='cuda:0')\n",
      "GT: tensor([[ 49.0880,  13.3120, 224.6400, 414.8907]], device='cuda:0')\n",
      "Pred: tensor([[216.8304, 107.4987, 262.5878, 184.0898]], device='cuda:0')\n",
      "GT: tensor([[341.1200,  94.2933, 415.1680, 404.9067]], device='cuda:0')\n",
      "Pred: tensor([[200.5767,  68.8868, 260.6805, 268.3321]], device='cuda:0')\n",
      "GT: tensor([[341.1200,  94.2933, 415.1680, 404.9067]], device='cuda:0')\n",
      "Pred: tensor([[251.0688, 155.5344, 405.2401, 393.5530]], device='cuda:0')\n",
      "GT: tensor([[ 19.1360, 127.5733, 101.5040, 414.8907]], device='cuda:0')\n",
      "Pred: tensor([[251.0688, 155.5344, 405.2401, 393.5530]], device='cuda:0')\n",
      "GT: tensor([[ 89.8560, 137.5573, 158.9120, 414.8907]], device='cuda:0')\n",
      "Pred: tensor([[251.0688, 155.5344, 405.2401, 393.5530]], device='cuda:0')\n",
      "GT: tensor([[144.7680, 169.7280, 209.6640, 414.8907]], device='cuda:0')\n",
      "Pred: tensor([[251.0688, 155.5344, 405.2401, 393.5530]], device='cuda:0')\n",
      "GT: tensor([[202.1760, 146.4320, 271.2320, 414.8907]], device='cuda:0')\n",
      "Pred: tensor([[251.0688, 155.5344, 405.2401, 393.5530]], device='cuda:0')\n",
      "GT: tensor([[254.5920, 165.2907, 297.8560, 414.8907]], device='cuda:0')\n",
      "Pred: tensor([[251.0688, 155.5344, 405.2401, 393.5530]], device='cuda:0')\n",
      "GT: tensor([[271.2320, 156.4160, 339.4560, 414.8907]], device='cuda:0')\n",
      "Pred: tensor([[251.0688, 155.5344, 405.2401, 393.5530]], device='cuda:0')\n",
      "GT: tensor([[316.9920, 145.3227, 380.2240, 414.8907]], device='cuda:0')\n"
     ]
    },
    {
     "name": "stderr",
     "output_type": "stream",
     "text": [
      "[2019-05-31 10:48:00,596 <ipython-input-2-7667fb18f09c>] Batch [1745/2077] mAP: 0.24402\n",
      "[2019-05-31 10:48:00,650 <ipython-input-2-7667fb18f09c>] Batch [1746/2077] mAP: 0.24397\n",
      "[2019-05-31 10:48:00,692 <ipython-input-2-7667fb18f09c>] Batch [1747/2077] mAP: 0.24381\n",
      "[2019-05-31 10:48:00,739 <ipython-input-2-7667fb18f09c>] Batch [1748/2077] mAP: 0.24397\n",
      "[2019-05-31 10:48:00,818 <ipython-input-2-7667fb18f09c>] Batch [1749/2077] mAP: 0.24381\n",
      "[2019-05-31 10:48:00,873 <ipython-input-2-7667fb18f09c>] Batch [1750/2077] mAP: 0.24398\n",
      "[2019-05-31 10:48:00,920 <ipython-input-2-7667fb18f09c>] Batch [1751/2077] mAP: 0.24409\n"
     ]
    },
    {
     "name": "stdout",
     "output_type": "stream",
     "text": [
      "Pred: tensor([[184.5132, 232.6299, 354.4577, 375.8973]], device='cuda:0')\n",
      "GT: tensor([[156.4160, 231.1111, 384.3840, 379.7718]], device='cuda:0')\n",
      "Pred: tensor([[128.3360, 211.6303, 213.7018, 307.3970]], device='cuda:0')\n",
      "GT: tensor([[160.5760, 221.8667, 200.5120, 307.2853]], device='cuda:0')\n",
      "Pred: tensor([[178.0585, 199.4727, 306.4565, 273.2295]], device='cuda:0')\n",
      "GT: tensor([[223.8080, 198.5707, 287.0400, 276.2240]], device='cuda:0')\n",
      "Pred: tensor([[146.8879, 135.7778, 196.5244, 352.9935]], device='cuda:0')\n",
      "GT: tensor([[160.5760, 196.3520, 198.8480, 278.4427]], device='cuda:0')\n",
      "Pred: tensor([[-35.1113,  44.3985, 442.3936, 384.4946]], device='cuda:0')\n",
      "GT: tensor([[ 35.7760,  17.4895, 355.2640, 414.7508]], device='cuda:0')\n",
      "Pred: tensor([[103.6236, 131.5894, 207.7246, 307.9585]], device='cuda:0')\n",
      "GT: tensor([[ 90.1333, 130.8667, 199.9111, 315.4667]], device='cuda:0')\n"
     ]
    },
    {
     "name": "stderr",
     "output_type": "stream",
     "text": [
      "[2019-05-31 10:48:00,971 <ipython-input-2-7667fb18f09c>] Batch [1752/2077] mAP: 0.24398\n",
      "[2019-05-31 10:48:01,017 <ipython-input-2-7667fb18f09c>] Batch [1753/2077] mAP: 0.24372\n",
      "[2019-05-31 10:48:01,078 <ipython-input-2-7667fb18f09c>] Batch [1754/2077] mAP: 0.24399\n",
      "[2019-05-31 10:48:01,125 <ipython-input-2-7667fb18f09c>] Batch [1755/2077] mAP: 0.24410\n",
      "[2019-05-31 10:48:01,186 <ipython-input-2-7667fb18f09c>] Batch [1756/2077] mAP: 0.24405\n"
     ]
    },
    {
     "name": "stdout",
     "output_type": "stream",
     "text": [
      "Pred: tensor([[114.5498,  98.3338, 226.0011, 304.7988]], device='cuda:0')\n",
      "GT: tensor([[111.4880, 116.3730, 227.1360, 302.3022]], device='cuda:0')\n",
      "Pred: tensor([[110.0487,  59.6752, 227.3980, 293.8637]], device='cuda:0')\n",
      "GT: tensor([[104.8320,  42.8039, 208.8320, 230.0707]], device='cuda:0')\n",
      "Pred: tensor([[110.0487,  59.6752, 227.3980, 293.8637]], device='cuda:0')\n",
      "GT: tensor([[283.7120, 197.9678, 347.7760, 318.3537]], device='cuda:0')\n",
      "Pred: tensor([[ 61.8127, 118.1956, 160.6789, 368.9753]], device='cuda:0')\n",
      "GT: tensor([[ 76.5440,  88.7467, 148.0960, 403.7973]], device='cuda:0')\n",
      "Pred: tensor([[134.8564, 122.1752, 279.7676, 402.3552]], device='cuda:0')\n",
      "GT: tensor([[ 51.0293, 148.9280, 366.0800, 409.3440]], device='cuda:0')\n",
      "Pred: tensor([[166.2654, 155.9005, 252.0262, 321.9775]], device='cuda:0')\n",
      "GT: tensor([[142.2720, 179.7120, 241.2800, 280.6613]], device='cuda:0')\n",
      "Pred: tensor([[309.2188, 180.6702, 367.2738, 236.5358]], device='cuda:0')\n",
      "GT: tensor([[142.2720, 179.7120, 241.2800, 280.6613]], device='cuda:0')\n",
      "Pred: tensor([[166.2654, 155.9005, 252.0262, 321.9775]], device='cuda:0')\n",
      "GT: tensor([[305.3440, 167.5093, 372.7360, 247.3813]], device='cuda:0')\n",
      "Pred: tensor([[309.2188, 180.6702, 367.2738, 236.5358]], device='cuda:0')\n",
      "GT: "
     ]
    },
    {
     "name": "stderr",
     "output_type": "stream",
     "text": [
      "[2019-05-31 10:48:01,278 <ipython-input-2-7667fb18f09c>] Batch [1757/2077] mAP: 0.24379\n",
      "[2019-05-31 10:48:01,343 <ipython-input-2-7667fb18f09c>] Batch [1758/2077] mAP: 0.24380\n",
      "[2019-05-31 10:48:01,410 <ipython-input-2-7667fb18f09c>] Batch [1759/2077] mAP: 0.24391\n",
      "[2019-05-31 10:48:01,458 <ipython-input-2-7667fb18f09c>] Batch [1760/2077] mAP: 0.24407\n"
     ]
    },
    {
     "name": "stdout",
     "output_type": "stream",
     "text": [
      "tensor([[305.3440, 167.5093, 372.7360, 247.3813]], device='cuda:0')\n",
      "Pred: tensor([[166.2654, 155.9005, 252.0262, 321.9775]], device='cuda:0')\n",
      "GT: tensor([[266.2400, 155.3067, 293.6960, 183.0400]], device='cuda:0')\n",
      "Pred: tensor([[309.2188, 180.6702, 367.2738, 236.5358]], device='cuda:0')\n",
      "GT: tensor([[266.2400, 155.3067, 293.6960, 183.0400]], device='cuda:0')\n",
      "Pred: tensor([[309.0971,  35.4429, 430.2110, 199.3825]], device='cuda:0')\n",
      "GT: tensor([[  7.4880,   0.0000, 398.5280, 414.7508]], device='cuda:0')\n",
      "Pred: tensor([[309.0971,  35.4429, 430.2110, 199.3825]], device='cuda:0')\n",
      "GT: tensor([[346.9440,  13.7417, 415.1680, 207.3754]], device='cuda:0')\n",
      "Pred: tensor([[309.0971,  35.4429, 430.2110, 199.3825]], device='cuda:0')\n",
      "GT: tensor([[  0.0000,   0.0000,  56.5760, 359.7838]], device='cuda:0')\n",
      "Pred: tensor([[ 52.8862, 211.9225, 354.3309, 346.7590]], device='cuda:0')\n",
      "GT: tensor([[ 48.8107, 173.8880, 332.8000, 401.8560]], device='cuda:0')\n",
      "Pred: tensor([[ 52.8862, 211.9225, 354.3309, 346.7590]], device='cuda:0')\n",
      "GT: tensor([[231.8507, 160.5760, 387.1573, 319.4880]], device='cuda:0')\n",
      "Pred: tensor([[ 93.5412,  80.9290, 267.7339, 315.6951]], device='cuda:0')\n",
      "GT: tensor([[ 71.5520,   5.5467, 312.0000, 326.1440]], device='cuda:0')\n"
     ]
    },
    {
     "name": "stderr",
     "output_type": "stream",
     "text": [
      "[2019-05-31 10:48:01,509 <ipython-input-2-7667fb18f09c>] Batch [1761/2077] mAP: 0.24396\n",
      "[2019-05-31 10:48:01,558 <ipython-input-2-7667fb18f09c>] Batch [1762/2077] mAP: 0.24413\n",
      "[2019-05-31 10:48:01,593 <ipython-input-2-7667fb18f09c>] Batch [1763/2077] mAP: 0.24407\n",
      "[2019-05-31 10:48:01,678 <ipython-input-2-7667fb18f09c>] Batch [1764/2077] mAP: 0.24408\n",
      "[2019-05-31 10:48:01,736 <ipython-input-2-7667fb18f09c>] Batch [1765/2077] mAP: 0.24392\n"
     ]
    },
    {
     "name": "stdout",
     "output_type": "stream",
     "text": [
      "Pred: tensor([[ 31.7376,  68.2439, 387.1461, 297.2327]], device='cuda:0')\n",
      "GT: tensor([[ 21.6320, 110.2939, 399.3600, 286.5245]], device='cuda:0')\n",
      "Pred: tensor([[278.5884,  81.0369, 389.2010, 347.7804]], device='cuda:0')\n",
      "GT: tensor([[ 71.5991,   9.1520, 336.2440, 415.1680]], device='cuda:0')\n",
      "Pred: tensor([[278.5884,  81.0369, 389.2010, 347.7804]], device='cuda:0')\n",
      "GT: tensor([[ 72.5054, 157.2480, 319.9303, 415.1680]], device='cuda:0')\n",
      "Pred: tensor([[278.5884,  81.0369, 389.2010, 347.7804]], device='cuda:0')\n",
      "GT: tensor([[267.3638,  36.6080, 389.7168, 415.1680]], device='cuda:0')\n",
      "Pred: tensor([[278.5884,  81.0369, 389.2010, 347.7804]], device='cuda:0')\n",
      "GT: tensor([[ 30.8148,  22.4640, 154.9804, 269.5680]], device='cuda:0')\n"
     ]
    },
    {
     "name": "stderr",
     "output_type": "stream",
     "text": [
      "[2019-05-31 10:48:01,784 <ipython-input-2-7667fb18f09c>] Batch [1766/2077] mAP: 0.24387\n",
      "[2019-05-31 10:48:01,844 <ipython-input-2-7667fb18f09c>] Batch [1767/2077] mAP: 0.24382\n",
      "[2019-05-31 10:48:01,890 <ipython-input-2-7667fb18f09c>] Batch [1768/2077] mAP: 0.24377\n",
      "[2019-05-31 10:48:01,942 <ipython-input-2-7667fb18f09c>] Batch [1769/2077] mAP: 0.24372\n",
      "[2019-05-31 10:48:01,998 <ipython-input-2-7667fb18f09c>] Batch [1770/2077] mAP: 0.24404\n",
      "[2019-05-31 10:48:02,033 <ipython-input-2-7667fb18f09c>] Batch [1771/2077] mAP: 0.24399\n"
     ]
    },
    {
     "name": "stdout",
     "output_type": "stream",
     "text": [
      "Pred: tensor([[292.5001, 247.7440, 443.6359, 432.2036]], device='cuda:0')\n",
      "GT: tensor([[332.8000, 281.7707, 415.1680, 380.5013]], device='cuda:0')\n",
      "Pred: tensor([[ 48.5396,  71.5985, 366.3630, 344.8262]], device='cuda:0')\n",
      "GT: tensor([[ 29.9520,  38.7267, 393.5360, 358.5345]], device='cuda:0')\n",
      "Pred: tensor([[158.4999,  96.1938, 270.1944, 203.5329]], device='cuda:0')\n",
      "GT: tensor([[178.8800,  98.6907, 247.1040, 188.6366]], device='cuda:0')\n"
     ]
    },
    {
     "name": "stderr",
     "output_type": "stream",
     "text": [
      "[2019-05-31 10:48:02,123 <ipython-input-2-7667fb18f09c>] Batch [1772/2077] mAP: 0.24426\n",
      "[2019-05-31 10:48:02,177 <ipython-input-2-7667fb18f09c>] Batch [1773/2077] mAP: 0.24405\n",
      "[2019-05-31 10:48:02,255 <ipython-input-2-7667fb18f09c>] Batch [1774/2077] mAP: 0.24410\n"
     ]
    },
    {
     "name": "stdout",
     "output_type": "stream",
     "text": [
      "Pred: tensor([[233.0049, 118.6746, 376.0085, 244.6875]], device='cuda:0')\n",
      "GT: tensor([[ 37.4400, 159.7440, 182.2080, 226.3040]], device='cuda:0')\n",
      "Pred: tensor([[ 39.4504, 140.4989, 182.8209, 230.9680]], device='cuda:0')\n",
      "GT: tensor([[ 37.4400, 159.7440, 182.2080, 226.3040]], device='cuda:0')\n",
      "Pred: tensor([[233.0049, 118.6746, 376.0085, 244.6875]], device='cuda:0')\n",
      "GT: tensor([[318.6560, 163.0720, 396.8640, 218.5387]], device='cuda:0')\n",
      "Pred: tensor([[ 39.4504, 140.4989, 182.8209, 230.9680]], device='cuda:0')\n",
      "GT: tensor([[318.6560, 163.0720, 396.8640, 218.5387]], device='cuda:0')\n",
      "Pred: tensor([[233.0049, 118.6746, 376.0085, 244.6875]], device='cuda:0')\n",
      "GT: tensor([[218.8160, 149.7600, 386.0480, 227.4133]], device='cuda:0')\n",
      "Pred: tensor([[ 18.4044,  64.7383, 321.3731, 409.6215]], device='cuda:0')\n",
      "GT: tensor([[  0.0000,  44.3733, 247.9360, 414.8907]], device='cuda:0')\n",
      "Pred: tensor([[ 18.4044,  64.7383, 321.3731, 409.6215]], device='cuda:0')\n",
      "GT: tensor([[206.3360,  62.1227, 415.1680, 414.8907]], device='cuda:0')\n",
      "Pred: tensor([[220.5556,  92.8651, 326.4616, 339.6606]], device='cuda:0')\n",
      "GT: tensor([[206.3360,  62.1227, 415.1680, 414.8907]], device='cuda:0')\n",
      "Pred: tensor([[ 18.4044,  64.7383, 321.3731, 409.6215]], device='cuda:0')\n",
      "GT: tensor([[349.4400, 113.1520, 415.1680, 414.8907]], device='cuda:0')\n",
      "Pred: tensor([[220.5556,  92.8651, 326.4616, 339.6606]], device='cuda:0')\n",
      "GT: tensor([[349.4400, 113.1520, 415.1680, 414.8907]], device='cuda:0')\n"
     ]
    },
    {
     "name": "stderr",
     "output_type": "stream",
     "text": [
      "[2019-05-31 10:48:02,315 <ipython-input-2-7667fb18f09c>] Batch [1775/2077] mAP: 0.24427\n",
      "[2019-05-31 10:48:02,369 <ipython-input-2-7667fb18f09c>] Batch [1776/2077] mAP: 0.24421\n",
      "[2019-05-31 10:48:02,421 <ipython-input-2-7667fb18f09c>] Batch [1777/2077] mAP: 0.24437\n",
      "[2019-05-31 10:48:02,474 <ipython-input-2-7667fb18f09c>] Batch [1778/2077] mAP: 0.24453\n"
     ]
    },
    {
     "name": "stdout",
     "output_type": "stream",
     "text": [
      "Pred: tensor([[ -7.7621,  32.3073, 424.8015, 381.5880]], device='cuda:0')\n",
      "GT: tensor([[ 54.9120,   0.0000, 415.1680, 415.1680]], device='cuda:0')\n",
      "Pred: tensor([[ 29.8682, 112.3669, 378.0002, 366.1578]], device='cuda:0')\n",
      "GT: tensor([[ 35.5333, 119.8080, 415.1333, 391.0400]], device='cuda:0')\n",
      "Pred: tensor([[150.5311, 172.2093, 329.3506, 378.3488]], device='cuda:0')\n",
      "GT: tensor([[118.1440, 161.9627, 366.9120, 410.4533]], device='cuda:0')\n"
     ]
    },
    {
     "name": "stderr",
     "output_type": "stream",
     "text": [
      "[2019-05-31 10:48:02,517 <ipython-input-2-7667fb18f09c>] Batch [1779/2077] mAP: 0.24407\n",
      "[2019-05-31 10:48:02,560 <ipython-input-2-7667fb18f09c>] Batch [1780/2077] mAP: 0.24423\n",
      "[2019-05-31 10:48:02,650 <ipython-input-2-7667fb18f09c>] Batch [1781/2077] mAP: 0.24408\n",
      "[2019-05-31 10:48:02,695 <ipython-input-2-7667fb18f09c>] Batch [1782/2077] mAP: 0.24397\n",
      "[2019-05-31 10:48:02,747 <ipython-input-2-7667fb18f09c>] Batch [1783/2077] mAP: 0.24408\n"
     ]
    },
    {
     "name": "stdout",
     "output_type": "stream",
     "text": [
      "Pred: tensor([[197.6172, 211.0530, 343.9866, 345.8147]], device='cuda:0')\n",
      "GT: tensor([[183.8720, 216.7395, 341.1200, 353.0756]], device='cuda:0')\n",
      "Pred: tensor([[ 13.5955,  77.7368, 160.9053, 343.1670]], device='cuda:0')\n",
      "GT: tensor([[206.3360,  17.7493, 415.1680, 414.8907]], device='cuda:0')\n",
      "Pred: tensor([[ 13.5955,  77.7368, 160.9053, 343.1670]], device='cuda:0')\n",
      "GT: tensor([[  0.0000,  13.3120, 193.0240, 414.8907]], device='cuda:0')\n",
      "Pred: tensor([[ 13.5955,  77.7368, 160.9053, 343.1670]], device='cuda:0')\n",
      "GT: tensor([[112.3200, 168.6187, 178.8800, 414.8907]], device='cuda:0')\n",
      "Pred: tensor([[ 13.5955,  77.7368, 160.9053, 343.1670]], device='cuda:0')\n",
      "GT: tensor([[355.2640, 270.6773, 415.1680, 414.8907]], device='cuda:0')\n",
      "Pred: tensor([[235.1968, 175.0596, 380.8711, 362.6282]], device='cuda:0')\n",
      "GT: tensor([[ 17.4895,  52.4160, 414.7508, 415.1680]], device='cuda:0')\n",
      "Pred: tensor([[235.1968, 175.0596, 380.8711, 362.6282]], device='cuda:0')\n",
      "GT: tensor([[237.3574, 168.8960, 386.0180, 349.4400]], device='cuda:0')\n"
     ]
    },
    {
     "name": "stderr",
     "output_type": "stream",
     "text": [
      "[2019-05-31 10:48:02,800 <ipython-input-2-7667fb18f09c>] Batch [1784/2077] mAP: 0.24403\n",
      "[2019-05-31 10:48:02,870 <ipython-input-2-7667fb18f09c>] Batch [1785/2077] mAP: 0.24414\n",
      "[2019-05-31 10:48:02,921 <ipython-input-2-7667fb18f09c>] Batch [1786/2077] mAP: 0.24441\n",
      "[2019-05-31 10:48:02,956 <ipython-input-2-7667fb18f09c>] Batch [1787/2077] mAP: 0.24420\n",
      "[2019-05-31 10:48:03,028 <ipython-input-2-7667fb18f09c>] Batch [1788/2077] mAP: 0.24431\n"
     ]
    },
    {
     "name": "stdout",
     "output_type": "stream",
     "text": [
      "Pred: tensor([[ 46.8240, 115.7323, 238.3543, 430.7723]], device='cuda:0')\n",
      "GT: tensor([[ 66.5600, 125.3547, 221.3120, 414.8907]], device='cuda:0')\n",
      "Pred: tensor([[ 46.8240, 115.7323, 238.3543, 430.7723]], device='cuda:0')\n",
      "GT: tensor([[173.0560,  65.4507, 340.2880, 414.8907]], device='cuda:0')\n",
      "Pred: tensor([[ 23.1679, 184.1642, 130.3456, 298.6267]], device='cuda:0')\n",
      "GT: tensor([[173.0560,  65.4507, 340.2880, 414.8907]], device='cuda:0')\n",
      "Pred: tensor([[ 92.3390, 125.5566, 250.0390, 397.9170]], device='cuda:0')\n",
      "GT: tensor([[138.9440, 133.1200, 238.7840, 403.7973]], device='cuda:0')\n",
      "Pred: tensor([[ 92.3390, 125.5566, 250.0390, 397.9170]], device='cuda:0')\n",
      "GT: tensor([[ 79.8720,  74.3253, 239.6160, 393.8133]], device='cuda:0')\n",
      "Pred: tensor([[ 30.9683, 142.4878, 386.3156, 352.1638]], device='cuda:0')\n",
      "GT: tensor([[ 17.4720, 127.5733, 399.3600, 398.2507]], device='cuda:0')\n",
      "Pred: tensor([[ 30.9683, 142.4878, 386.3156, 352.1638]], device='cuda:0')\n",
      "GT: tensor([[  0.0000, 204.1173,  38.2720, 288.4267]], device='cuda:0')\n",
      "Pred: tensor([[126.9765, 160.6816, 275.2151, 364.5479]], device='cuda:0')\n",
      "GT: tensor([[  0.0000, 204.1173,  38.2720, 288.4267]], device='cuda:0')\n"
     ]
    },
    {
     "name": "stderr",
     "output_type": "stream",
     "text": [
      "[2019-05-31 10:48:03,089 <ipython-input-2-7667fb18f09c>] Batch [1789/2077] mAP: 0.24426\n",
      "[2019-05-31 10:48:03,164 <ipython-input-2-7667fb18f09c>] Batch [1790/2077] mAP: 0.24375\n",
      "[2019-05-31 10:48:03,233 <ipython-input-2-7667fb18f09c>] Batch [1791/2077] mAP: 0.24370\n"
     ]
    },
    {
     "name": "stdout",
     "output_type": "stream",
     "text": [
      "Pred: tensor([[305.0513,  38.9380, 365.8517, 121.6923]], device='cuda:0')\n",
      "GT: tensor([[ 24.4053,   8.3200, 414.8907, 415.1680]], device='cuda:0')\n",
      "Pred: tensor([[305.0513,  38.9380, 365.8517, 121.6923]], device='cuda:0')\n",
      "GT: tensor([[ 17.7493, 108.1600,  59.9040, 138.1120]], device='cuda:0')\n",
      "Pred: tensor([[305.0513,  38.9380, 365.8517, 121.6923]], device='cuda:0')\n",
      "GT: tensor([[319.4880,  40.7680, 363.8613, 103.1680]], device='cuda:0')\n",
      "Pred: tensor([[305.0513,  38.9380, 365.8517, 121.6923]], device='cuda:0')\n",
      "GT: tensor([[285.0987,  24.9600, 316.1600,  46.5920]], device='cuda:0')\n",
      "Pred: tensor([[230.6048, 171.0088, 252.0385, 240.1502]], device='cuda:0')\n",
      "GT: tensor([[237.1200, 156.0000, 250.6400, 226.9091]], device='cuda:0')\n",
      "Pred: tensor([[230.6048, 171.0088, 252.0385, 240.1502]], device='cuda:0')\n",
      "GT: tensor([[227.7600, 163.8788, 243.3600, 237.9394]], device='cuda:0')\n",
      "Pred: tensor([[230.6048, 171.0088, 252.0385, 240.1502]], device='cuda:0')\n",
      "GT: tensor([[214.2400, 138.6667, 229.8400, 237.9394]], device='cuda:0')\n",
      "Pred: tensor([[172.8298,  77.6425, 255.1749, 148.1322]], device='cuda:0')\n",
      "GT: tensor([[186.3680,  88.7467, 308.6720, 143.1040]], device='cuda:0')\n"
     ]
    },
    {
     "name": "stderr",
     "output_type": "stream",
     "text": [
      "[2019-05-31 10:48:03,304 <ipython-input-2-7667fb18f09c>] Batch [1792/2077] mAP: 0.24402\n",
      "[2019-05-31 10:48:03,359 <ipython-input-2-7667fb18f09c>] Batch [1793/2077] mAP: 0.24361\n",
      "[2019-05-31 10:48:03,419 <ipython-input-2-7667fb18f09c>] Batch [1794/2077] mAP: 0.24355\n"
     ]
    },
    {
     "name": "stdout",
     "output_type": "stream",
     "text": [
      "Pred: tensor([[ 73.5407,  81.1652, 341.9695, 386.7389]], device='cuda:0')\n",
      "GT: tensor([[112.0427,  44.9280, 361.6427, 415.1680]], device='cuda:0')\n",
      "Pred: tensor([[ 73.5407,  81.1652, 341.9695, 386.7389]], device='cuda:0')\n",
      "GT: tensor([[ 53.2480,   9.9840, 295.0827, 415.1680]], device='cuda:0')\n",
      "Pred: tensor([[233.9095, 159.7220, 430.0876, 384.4943]], device='cuda:0')\n",
      "GT: tensor([[169.7280, 143.1040, 247.3813, 362.7520]], device='cuda:0')\n",
      "Pred: tensor([[177.8542, 125.2206, 249.4596, 396.7328]], device='cuda:0')\n",
      "GT: tensor([[169.7280, 143.1040, 247.3813, 362.7520]], device='cuda:0')\n",
      "Pred: tensor([[233.9095, 159.7220, 430.0876, 384.4943]], device='cuda:0')\n",
      "GT: tensor([[287.3173, 153.0880, 412.6720, 415.1680]], device='cuda:0')\n",
      "Pred: tensor([[233.9095, 159.7220, 430.0876, 384.4943]], device='cuda:0')\n",
      "GT: "
     ]
    },
    {
     "name": "stderr",
     "output_type": "stream",
     "text": [
      "[2019-05-31 10:48:03,500 <ipython-input-2-7667fb18f09c>] Batch [1795/2077] mAP: 0.24377\n",
      "[2019-05-31 10:48:03,552 <ipython-input-2-7667fb18f09c>] Batch [1796/2077] mAP: 0.24372\n",
      "[2019-05-31 10:48:03,593 <ipython-input-2-7667fb18f09c>] Batch [1797/2077] mAP: 0.24367\n",
      "[2019-05-31 10:48:03,648 <ipython-input-2-7667fb18f09c>] Batch [1798/2077] mAP: 0.24398\n"
     ]
    },
    {
     "name": "stdout",
     "output_type": "stream",
     "text": [
      "tensor([[244.0533, 143.9360, 311.7227, 406.0160]], device='cuda:0')\n",
      "Pred: tensor([[177.8542, 125.2206, 249.4596, 396.7328]], device='cuda:0')\n",
      "GT: tensor([[244.0533, 143.9360, 311.7227, 406.0160]], device='cuda:0')\n",
      "Pred: tensor([[314.0602, 236.3177, 374.1176, 419.0682]], device='cuda:0')\n",
      "GT: tensor([[322.8160, 266.2400, 378.2827, 412.6720]], device='cuda:0')\n",
      "Pred: tensor([[314.0602, 236.3177, 374.1176, 419.0682]], device='cuda:0')\n",
      "GT: tensor([[350.5493, 188.0320, 386.0480, 295.3600]], device='cuda:0')\n",
      "Pred: tensor([[346.3761, 173.8852, 389.1158, 298.5061]], device='cuda:0')\n",
      "GT: tensor([[350.5493, 188.0320, 386.0480, 295.3600]], device='cuda:0')\n"
     ]
    },
    {
     "name": "stderr",
     "output_type": "stream",
     "text": [
      "[2019-05-31 10:48:03,700 <ipython-input-2-7667fb18f09c>] Batch [1799/2077] mAP: 0.24393\n",
      "[2019-05-31 10:48:03,734 <ipython-input-2-7667fb18f09c>] Batch [1800/2077] mAP: 0.24388\n",
      "[2019-05-31 10:48:03,794 <ipython-input-2-7667fb18f09c>] Batch [1801/2077] mAP: 0.24404\n",
      "[2019-05-31 10:48:03,848 <ipython-input-2-7667fb18f09c>] Batch [1802/2077] mAP: 0.24420\n",
      "[2019-05-31 10:48:03,889 <ipython-input-2-7667fb18f09c>] Batch [1803/2077] mAP: 0.24338\n",
      "[2019-05-31 10:48:03,947 <ipython-input-2-7667fb18f09c>] Batch [1804/2077] mAP: 0.24354\n"
     ]
    },
    {
     "name": "stdout",
     "output_type": "stream",
     "text": [
      "Pred: tensor([[111.8877, 197.2771, 304.3036, 342.0257]], device='cuda:0')\n",
      "GT: tensor([[ 89.0240, 169.2766, 361.0880, 352.9362]], device='cuda:0')\n",
      "Pred: tensor([[  3.2747,  -0.4388, 410.5778, 416.6002]], device='cuda:0')\n",
      "GT: tensor([[  1.2492,   0.0000, 398.5105, 415.1680]], device='cuda:0')\n",
      "Pred: tensor([[210.2562, 228.9641, 397.3978, 360.0942]], device='cuda:0')\n",
      "GT: tensor([[241.2800, 226.3040, 374.4000, 353.8773]], device='cuda:0')\n"
     ]
    },
    {
     "name": "stderr",
     "output_type": "stream",
     "text": [
      "[2019-05-31 10:48:04,020 <ipython-input-2-7667fb18f09c>] Batch [1805/2077] mAP: 0.24365\n",
      "[2019-05-31 10:48:04,083 <ipython-input-2-7667fb18f09c>] Batch [1806/2077] mAP: 0.24360\n",
      "[2019-05-31 10:48:04,160 <ipython-input-2-7667fb18f09c>] Batch [1807/2077] mAP: 0.24376\n"
     ]
    },
    {
     "name": "stdout",
     "output_type": "stream",
     "text": [
      "Pred: tensor([[ 64.3914, 119.2381, 223.8033, 286.8769]], device='cuda:0')\n",
      "GT: tensor([[ 55.7440, 134.2293, 218.8160, 256.2560]], device='cuda:0')\n",
      "Pred: tensor([[ 64.3914, 119.2381, 223.8033, 286.8769]], device='cuda:0')\n",
      "GT: tensor([[269.5680, 141.9947, 415.1680, 329.4720]], device='cuda:0')\n",
      "Pred: tensor([[284.9923, 201.2492, 403.3661, 321.8904]], device='cuda:0')\n",
      "GT: tensor([[292.3886, 233.7920, 414.8114, 284.5440]], device='cuda:0')\n",
      "Pred: tensor([[300.8915, 222.0772, 356.5561, 303.2909]], device='cuda:0')\n",
      "GT: tensor([[292.3886, 233.7920, 414.8114, 284.5440]], device='cuda:0')\n",
      "Pred: tensor([[ 15.5915, 114.1169, 342.0272, 418.6906]], device='cuda:0')\n",
      "GT: tensor([[ 31.6160, 120.9173, 326.9760, 383.8293]], device='cuda:0')\n",
      "Pred: tensor([[ 20.9677, 100.8945, 335.9905, 385.5297]], device='cuda:0')\n",
      "GT: tensor([[ 98.1760,  99.8400, 286.2080, 414.8907]], device='cuda:0')\n",
      "Pred: tensor([[ 20.9677, 100.8945, 335.9905, 385.5297]], device='cuda:0')\n",
      "GT: tensor([[292.0320,   0.0000, 415.1680, 414.8907]], device='cuda:0')\n"
     ]
    },
    {
     "name": "stderr",
     "output_type": "stream",
     "text": [
      "[2019-05-31 10:48:04,222 <ipython-input-2-7667fb18f09c>] Batch [1808/2077] mAP: 0.24392\n",
      "[2019-05-31 10:48:04,274 <ipython-input-2-7667fb18f09c>] Batch [1809/2077] mAP: 0.24407\n",
      "[2019-05-31 10:48:04,329 <ipython-input-2-7667fb18f09c>] Batch [1810/2077] mAP: 0.24402\n",
      "[2019-05-31 10:48:04,391 <ipython-input-2-7667fb18f09c>] Batch [1811/2077] mAP: 0.24418\n"
     ]
    },
    {
     "name": "stdout",
     "output_type": "stream",
     "text": [
      "Pred: tensor([[122.5859,  34.1255, 359.6075, 378.4127]], device='cuda:0')\n",
      "GT: tensor([[ 45.6784,   0.0000, 414.3686, 414.7161]], device='cuda:0')\n",
      "Pred: tensor([[158.2066, -41.5390, 376.3601, 332.1591]], device='cuda:0')\n",
      "GT: tensor([[131.4560,   0.0000, 415.1680, 414.7545]], device='cuda:0')\n",
      "Pred: tensor([[ 91.7131, 110.6648, 322.4889, 349.4857]], device='cuda:0')\n",
      "GT: tensor([[ 67.2739,  70.3838, 337.7426, 414.9495]], device='cuda:0')\n"
     ]
    },
    {
     "name": "stderr",
     "output_type": "stream",
     "text": [
      "[2019-05-31 10:48:04,438 <ipython-input-2-7667fb18f09c>] Batch [1812/2077] mAP: 0.24424\n",
      "[2019-05-31 10:48:04,509 <ipython-input-2-7667fb18f09c>] Batch [1813/2077] mAP: 0.24408\n",
      "[2019-05-31 10:48:04,561 <ipython-input-2-7667fb18f09c>] Batch [1814/2077] mAP: 0.24373\n",
      "[2019-05-31 10:48:04,611 <ipython-input-2-7667fb18f09c>] Batch [1815/2077] mAP: 0.24277\n"
     ]
    },
    {
     "name": "stdout",
     "output_type": "stream",
     "text": [
      "Pred: tensor([[252.2979, 165.3008, 345.4498, 427.7975]], device='cuda:0')\n",
      "GT: tensor([[251.2640, 167.0384, 329.4720, 414.9361]], device='cuda:0')\n",
      "Pred: tensor([[ 65.7671, 217.2211,  91.1075, 271.3643]], device='cuda:0')\n",
      "GT: tensor([[ 67.3920, 223.6156,  99.0080, 301.0691]], device='cuda:0')\n"
     ]
    },
    {
     "name": "stderr",
     "output_type": "stream",
     "text": [
      "[2019-05-31 10:48:04,665 <ipython-input-2-7667fb18f09c>] Batch [1816/2077] mAP: 0.24272\n",
      "[2019-05-31 10:48:04,731 <ipython-input-2-7667fb18f09c>] Batch [1817/2077] mAP: 0.24304\n",
      "[2019-05-31 10:48:04,772 <ipython-input-2-7667fb18f09c>] Batch [1818/2077] mAP: 0.24299\n",
      "[2019-05-31 10:48:04,820 <ipython-input-2-7667fb18f09c>] Batch [1819/2077] mAP: 0.24330\n",
      "[2019-05-31 10:48:04,876 <ipython-input-2-7667fb18f09c>] Batch [1820/2077] mAP: 0.24325\n"
     ]
    },
    {
     "name": "stdout",
     "output_type": "stream",
     "text": [
      "Pred: tensor([[115.4727, 142.7612, 227.9546, 319.2538]], device='cuda:0')\n",
      "GT: tensor([[ 89.0240, 142.2801, 228.8000, 303.5309]], device='cuda:0')\n",
      "Pred: tensor([[148.6011, 108.7469, 196.3976, 237.1354]], device='cuda:0')\n",
      "GT: tensor([[158.0800, 115.1792, 189.6960, 245.2638]], device='cuda:0')\n",
      "Pred: tensor([[104.7949,  31.8108, 308.4914, 252.5288]], device='cuda:0')\n",
      "GT: tensor([[ 59.9040,   0.0000, 376.0640, 255.1467]], device='cuda:0')\n",
      "Pred: tensor([[136.8212, 164.0380, 206.1309, 310.4469]], device='cuda:0')\n",
      "GT: tensor([[132.2880, 144.2133, 198.0160, 335.0187]], device='cuda:0')\n",
      "Pred: tensor([[171.5669,  12.7829, 245.8691, 218.2964]], device='cuda:0')\n"
     ]
    },
    {
     "name": "stderr",
     "output_type": "stream",
     "text": [
      "[2019-05-31 10:48:04,923 <ipython-input-2-7667fb18f09c>] Batch [1821/2077] mAP: 0.24335\n",
      "[2019-05-31 10:48:04,985 <ipython-input-2-7667fb18f09c>] Batch [1822/2077] mAP: 0.24325\n",
      "[2019-05-31 10:48:05,026 <ipython-input-2-7667fb18f09c>] Batch [1823/2077] mAP: 0.24320\n",
      "[2019-05-31 10:48:05,080 <ipython-input-2-7667fb18f09c>] Batch [1824/2077] mAP: 0.24310\n"
     ]
    },
    {
     "name": "stdout",
     "output_type": "stream",
     "text": [
      "GT: tensor([[198.0160,   3.3280, 245.4400, 206.3360]], device='cuda:0')\n",
      "Pred: tensor([[116.4423, 175.0405, 366.5005, 365.8502]], device='cuda:0')\n",
      "GT: tensor([[ 98.6907, 213.8240, 388.5165, 311.1680]], device='cuda:0')\n"
     ]
    },
    {
     "name": "stderr",
     "output_type": "stream",
     "text": [
      "[2019-05-31 10:48:05,129 <ipython-input-2-7667fb18f09c>] Batch [1825/2077] mAP: 0.24326\n",
      "[2019-05-31 10:48:05,229 <ipython-input-2-7667fb18f09c>] Batch [1826/2077] mAP: 0.24337\n",
      "[2019-05-31 10:48:05,277 <ipython-input-2-7667fb18f09c>] Batch [1827/2077] mAP: 0.24307\n"
     ]
    },
    {
     "name": "stdout",
     "output_type": "stream",
     "text": [
      "Pred: tensor([[ 98.0522,  99.1762, 266.2886, 386.0997]], device='cuda:0')\n",
      "GT: tensor([[ 76.5440,  80.7040, 299.5200, 384.3840]], device='cuda:0')\n",
      "Pred: tensor([[269.7924, 182.7817, 331.3903, 351.9900]], device='cuda:0')\n",
      "GT: tensor([[ 73.2160, 152.7403, 165.5680, 414.7582]], device='cuda:0')\n",
      "Pred: tensor([[ 71.5305, 149.0290, 210.1761, 403.2520]], device='cuda:0')\n",
      "GT: tensor([[ 73.2160, 152.7403, 165.5680, 414.7582]], device='cuda:0')\n",
      "Pred: tensor([[269.7924, 182.7817, 331.3903, 351.9900]], device='cuda:0')\n",
      "GT: tensor([[267.9040, 178.8179, 305.3440, 326.5910]], device='cuda:0')\n",
      "Pred: tensor([[ 71.5305, 149.0290, 210.1761, 403.2520]], device='cuda:0')\n",
      "GT: tensor([[267.9040, 178.8179, 305.3440, 326.5910]], device='cuda:0')\n",
      "Pred: tensor([[254.2020, 198.4763, 309.6147, 291.0643]], device='cuda:0')\n",
      "GT: tensor([[267.9040, 178.8179, 305.3440, 326.5910]], device='cuda:0')\n"
     ]
    },
    {
     "name": "stderr",
     "output_type": "stream",
     "text": [
      "[2019-05-31 10:48:05,350 <ipython-input-2-7667fb18f09c>] Batch [1828/2077] mAP: 0.24317\n",
      "[2019-05-31 10:48:05,411 <ipython-input-2-7667fb18f09c>] Batch [1829/2077] mAP: 0.24333\n",
      "[2019-05-31 10:48:05,457 <ipython-input-2-7667fb18f09c>] Batch [1830/2077] mAP: 0.24328\n",
      "[2019-05-31 10:48:05,510 <ipython-input-2-7667fb18f09c>] Batch [1831/2077] mAP: 0.24313\n"
     ]
    },
    {
     "name": "stdout",
     "output_type": "stream",
     "text": [
      "Pred: tensor([[111.8807, 131.3286, 307.8096, 357.8248]], device='cuda:0')\n",
      "GT: tensor([[ 84.0320, 153.0880, 355.2640, 366.0800]], device='cuda:0')\n",
      "Pred: tensor([[111.8807, 131.3286, 307.8096, 357.8248]], device='cuda:0')\n",
      "GT: tensor([[139.7760, 120.9173, 313.6640, 180.8213]], device='cuda:0')\n",
      "Pred: tensor([[ 95.7453,  54.6640, 198.8118, 283.7234]], device='cuda:0')\n",
      "GT: tensor([[ 53.2480,   0.0000, 212.1600, 277.3333]], device='cuda:0')\n"
     ]
    },
    {
     "name": "stderr",
     "output_type": "stream",
     "text": [
      "[2019-05-31 10:48:05,555 <ipython-input-2-7667fb18f09c>] Batch [1832/2077] mAP: 0.24308\n",
      "[2019-05-31 10:48:05,634 <ipython-input-2-7667fb18f09c>] Batch [1833/2077] mAP: 0.24283\n",
      "[2019-05-31 10:48:05,679 <ipython-input-2-7667fb18f09c>] Batch [1834/2077] mAP: 0.24298\n",
      "[2019-05-31 10:48:05,720 <ipython-input-2-7667fb18f09c>] Batch [1835/2077] mAP: 0.24288\n"
     ]
    },
    {
     "name": "stdout",
     "output_type": "stream",
     "text": [
      "Pred: tensor([[125.1905, 157.3763, 302.2041, 373.8549]], device='cuda:0')\n",
      "GT: tensor([[127.2960, 168.8276, 209.6640, 274.7586]], device='cuda:0')\n",
      "Pred: tensor([[125.1905, 157.3763, 302.2041, 373.8549]], device='cuda:0')\n",
      "GT: tensor([[137.2800, 212.9655, 318.6560, 317.7931]], device='cuda:0')\n",
      "Pred: tensor([[125.1905, 157.3763, 302.2041, 373.8549]], device='cuda:0')\n",
      "GT: tensor([[ 37.4400, 120.2759,  96.5120, 194.2069]], device='cuda:0')\n",
      "Pred: tensor([[125.1905, 157.3763, 302.2041, 373.8549]], device='cuda:0')\n",
      "GT: tensor([[273.7280, 199.7241, 321.9840, 233.9310]], device='cuda:0')\n",
      "Pred: tensor([[  7.7202, 135.9344, 412.4509, 279.9653]], device='cuda:0')\n",
      "GT: tensor([[ 51.5840, 139.9159, 318.6560, 266.0901]], device='cuda:0')\n",
      "Pred: tensor([[122.2514,  13.5677, 290.7013, 347.3224]], device='cuda:0')\n",
      "GT: tensor([[ 17.4617,  45.7600, 297.8766, 400.4000]], device='cuda:0')\n",
      "Pred: tensor([[172.0657, 160.4011, 249.6807, 214.6905]], device='cuda:0')\n",
      "GT: tensor([[179.7120, 188.5867, 221.3120, 210.7733]], device='cuda:0')\n",
      "Pred: tensor([[185.2175, 164.9344, 213.8759, 231.4188]], device='cuda:0')\n",
      "GT: tensor([[179.7120, 188.5867, 221.3120, 210.7733]], device='cuda:0')\n",
      "Pred: tensor([[172.0657, 160.4011, 249.6807, 214.6905]], device='cuda:0')\n",
      "GT: tensor([[227.9680, 160.8533, 247.1040, 170.8373]], device='cuda:0')\n",
      "Pred: tensor([[185.2175, 164.9344, 213.8759, 231.4188]], device='cuda:0')\n",
      "GT: tensor([[227.9680, 160.8533, 247.1040, 170.8373]], device='cuda:0')\n"
     ]
    },
    {
     "name": "stderr",
     "output_type": "stream",
     "text": [
      "[2019-05-31 10:48:05,811 <ipython-input-2-7667fb18f09c>] Batch [1836/2077] mAP: 0.24278\n",
      "[2019-05-31 10:48:05,875 <ipython-input-2-7667fb18f09c>] Batch [1837/2077] mAP: 0.24294\n",
      "[2019-05-31 10:48:05,932 <ipython-input-2-7667fb18f09c>] Batch [1838/2077] mAP: 0.24289\n",
      "[2019-05-31 10:48:06,001 <ipython-input-2-7667fb18f09c>] Batch [1839/2077] mAP: 0.24304\n",
      "[2019-05-31 10:48:06,068 <ipython-input-2-7667fb18f09c>] Batch [1840/2077] mAP: 0.24290\n"
     ]
    },
    {
     "name": "stdout",
     "output_type": "stream",
     "text": [
      "Pred: tensor([[ 89.9726, 152.1218, 276.9677, 311.2375]], device='cuda:0')\n",
      "GT: tensor([[116.4800, 122.7541, 249.6000, 318.5761]], device='cuda:0')\n",
      "Pred: tensor([[ -2.6522,  80.1523, 420.8178, 324.7975]], device='cuda:0')\n",
      "GT: tensor([[ 11.6480,  66.5600, 415.1680, 292.8640]], device='cuda:0')\n",
      "Pred: tensor([[ 84.9600,  99.5279, 276.2011, 433.8929]], device='cuda:0')\n",
      "GT: tensor([[ 64.8960,  99.3103, 290.3680, 414.8965]], device='cuda:0')\n"
     ]
    },
    {
     "name": "stderr",
     "output_type": "stream",
     "text": [
      "[2019-05-31 10:48:06,169 <ipython-input-2-7667fb18f09c>] Batch [1841/2077] mAP: 0.24327\n",
      "[2019-05-31 10:48:06,275 <ipython-input-2-7667fb18f09c>] Batch [1842/2077] mAP: 0.24363\n",
      "[2019-05-31 10:48:06,312 <ipython-input-2-7667fb18f09c>] Batch [1843/2077] mAP: 0.24358\n"
     ]
    },
    {
     "name": "stdout",
     "output_type": "stream",
     "text": [
      "Pred: tensor([[ 78.1376,  89.8554, 131.7964, 242.7099]], device='cuda:0')\n",
      "GT: tensor([[267.0720, 241.6070, 321.1520, 405.1004]], device='cuda:0')\n",
      "Pred: tensor([[247.5449, 234.3481, 341.0706, 422.3871]], device='cuda:0')\n",
      "GT: tensor([[267.0720, 241.6070, 321.1520, 405.1004]], device='cuda:0')\n",
      "Pred: tensor([[ 78.1376,  89.8554, 131.7964, 242.7099]], device='cuda:0')\n",
      "GT: tensor([[ 76.5440,  93.5546, 128.9600, 232.5240]], device='cuda:0')\n",
      "Pred: tensor([[ 78.1376,  89.8554, 131.7964, 242.7099]], device='cuda:0')\n",
      "GT: tensor([[ 34.9440,  80.8384,  76.5440, 230.7074]], device='cuda:0')\n",
      "Pred: tensor([[247.5449, 234.3481, 341.0706, 422.3871]], device='cuda:0')\n",
      "GT: tensor([[ 34.9440,  80.8384,  76.5440, 230.7074]], device='cuda:0')\n",
      "Pred: tensor([[ 16.1806,  43.5874,  81.7094, 249.2997]], device='cuda:0')\n",
      "GT: tensor([[ 34.9440,  80.8384,  76.5440, 230.7074]], device='cuda:0')\n",
      "Pred: tensor([[ 78.1376,  89.8554, 131.7964, 242.7099]], device='cuda:0')\n",
      "GT: tensor([[ 17.4720,  55.4061,  69.8880, 205.2751]], device='cuda:0')\n",
      "Pred: tensor([[247.5449, 234.3481, 341.0706, 422.3871]], device='cuda:0')\n",
      "GT: tensor([[ 17.4720,  55.4061,  69.8880, 205.2751]], device='cuda:0')\n",
      "Pred: tensor([[ 16.1806,  43.5874,  81.7094, 249.2997]], device='cuda:0')\n",
      "GT: tensor([[ 17.4720,  55.4061,  69.8880, 205.2751]], device='cuda:0')\n",
      "Pred: tensor([[ 78.1376,  89.8554, 131.7964, 242.7099]], device='cuda:0')\n",
      "GT: tensor([[ 96.5120,  77.2052, 137.2800, 212.5415]], device='cuda:0')\n",
      "Pred: tensor([[247.5449, 234.3481, 341.0706, 422.3871]], device='cuda:0')\n",
      "GT: tensor([[ 96.5120,  77.2052, 137.2800, 212.5415]], device='cuda:0')\n",
      "Pred: tensor([[ 16.1806,  43.5874,  81.7094, 249.2997]], device='cuda:0')\n",
      "GT: tensor([[ 96.5120,  77.2052, 137.2800, 212.5415]], device='cuda:0')\n",
      "Pred: tensor([[ 77.4621, 101.0778, 209.9229, 375.1193]], device='cuda:0')\n",
      "GT: tensor([[ 85.6960,  67.6693, 187.2000, 414.8907]], device='cuda:0')\n",
      "Pred: tensor([[ 77.4621, 101.0778, 209.9229, 375.1193]], device='cuda:0')\n",
      "GT: tensor([[154.7520,  74.3253, 280.3840, 414.8907]], device='cuda:0')\n",
      "Pred: tensor([[145.1229,  99.4126, 279.6742, 380.9664]], device='cuda:0')\n",
      "GT: tensor([[154.7520,  74.3253, 280.3840, 414.8907]], device='cuda:0')\n",
      "Pred: tensor([[ 77.4621, 101.0778, 209.9229, 375.1193]], device='cuda:0')\n",
      "GT: tensor([[258.7520,  65.4507, 341.9520, 414.8907]], device='cuda:0')\n",
      "Pred: tensor([[145.1229,  99.4126, 279.6742, 380.9664]], device='cuda:0')\n",
      "GT: tensor([[258.7520,  65.4507, 341.9520, 414.8907]], device='cuda:0')\n",
      "Pred: tensor([[ 58.6860, 173.6886, 102.6490, 231.5094]], device='cuda:0')\n",
      "GT: tensor([[ 64.0640, 164.1813,  94.8480, 241.8347]], device='cuda:0')\n"
     ]
    },
    {
     "name": "stderr",
     "output_type": "stream",
     "text": [
      "[2019-05-31 10:48:06,347 <ipython-input-2-7667fb18f09c>] Batch [1844/2077] mAP: 0.24348\n",
      "[2019-05-31 10:48:06,391 <ipython-input-2-7667fb18f09c>] Batch [1845/2077] mAP: 0.24353\n",
      "[2019-05-31 10:48:06,461 <ipython-input-2-7667fb18f09c>] Batch [1846/2077] mAP: 0.24324\n",
      "[2019-05-31 10:48:06,530 <ipython-input-2-7667fb18f09c>] Batch [1847/2077] mAP: 0.24289\n",
      "[2019-05-31 10:48:06,584 <ipython-input-2-7667fb18f09c>] Batch [1848/2077] mAP: 0.24284\n"
     ]
    },
    {
     "name": "stdout",
     "output_type": "stream",
     "text": [
      "Pred: tensor([[ -0.8568,  64.9224, 357.2603, 404.8773]], device='cuda:0')\n",
      "GT: tensor([[ 23.2960,   3.3280, 359.4240, 356.0960]], device='cuda:0')\n",
      "Pred: tensor([[ 81.9943, 203.2519, 140.0070, 282.8356]], device='cuda:0')\n",
      "GT: tensor([[188.0320, 195.1605, 216.3200, 296.5926]], device='cuda:0')\n",
      "Pred: tensor([[ 81.9943, 203.2519, 140.0070, 282.8356]], device='cuda:0')\n",
      "GT: tensor([[298.6880, 173.3333, 345.2800, 300.4445]], device='cuda:0')\n",
      "Pred: tensor([[ 81.9943, 203.2519, 140.0070, 282.8356]], device='cuda:0')\n",
      "GT: tensor([[ 89.0240, 178.4691, 123.1360, 288.8889]], device='cuda:0')\n",
      "Pred: tensor([[270.4379,  22.8419, 345.1356, 269.8948]], device='cuda:0')\n",
      "GT: tensor([[ 75.7120,  88.7467, 270.4000, 414.8907]], device='cuda:0')\n",
      "Pred: tensor([[270.4379,  22.8419, 345.1356, 269.8948]], device='cuda:0')\n",
      "GT: tensor([[161.4080,  87.6373, 345.2800, 414.8907]], device='cuda:0')\n",
      "Pred: tensor([[270.4379,  22.8419, 345.1356, 269.8948]], device='cuda:0')\n",
      "GT: tensor([[304.5120,  27.7333, 355.2640, 289.5360]], device='cuda:0')\n",
      "Pred: tensor([[270.4379,  22.8419, 345.1356, 269.8948]], device='cuda:0')\n",
      "GT: tensor([[265.4080,  28.8427, 312.0000, 305.0667]], device='cuda:0')\n",
      "Pred: tensor([[270.4379,  22.8419, 345.1356, 269.8948]], device='cuda:0')\n",
      "GT: tensor([[197.1840,  14.4213, 250.4320, 189.6960]], device='cuda:0')\n",
      "Pred: tensor([[270.4379,  22.8419, 345.1356, 269.8948]], device='cuda:0')\n",
      "GT: tensor([[ 69.0560,  14.4213, 123.9680, 222.9760]], device='cuda:0')\n"
     ]
    },
    {
     "name": "stderr",
     "output_type": "stream",
     "text": [
      "[2019-05-31 10:48:06,661 <ipython-input-2-7667fb18f09c>] Batch [1849/2077] mAP: 0.24300\n",
      "[2019-05-31 10:48:06,695 <ipython-input-2-7667fb18f09c>] Batch [1850/2077] mAP: 0.24295\n",
      "[2019-05-31 10:48:06,729 <ipython-input-2-7667fb18f09c>] Batch [1851/2077] mAP: 0.24281\n",
      "[2019-05-31 10:48:06,777 <ipython-input-2-7667fb18f09c>] Batch [1852/2077] mAP: 0.24271\n",
      "[2019-05-31 10:48:06,825 <ipython-input-2-7667fb18f09c>] Batch [1853/2077] mAP: 0.24266\n"
     ]
    },
    {
     "name": "stdout",
     "output_type": "stream",
     "text": [
      "Pred: tensor([[151.4029,  84.0954, 199.9677, 348.4072]], device='cuda:0')\n",
      "GT: tensor([[158.0800, 125.6798, 200.5120, 317.9698]], device='cuda:0')\n",
      "Pred: tensor([[255.6412, 124.9115, 425.4118, 282.0263]], device='cuda:0')\n",
      "GT: tensor([[251.2640, 108.0846, 415.1680, 289.0634]], device='cuda:0')\n",
      "Pred: tensor([[255.6412, 124.9115, 425.4118, 282.0263]], device='cuda:0')\n",
      "GT: tensor([[  0.0000,  99.2870, 121.4720, 277.7523]], device='cuda:0')\n",
      "Pred: tensor([[255.6412, 124.9115, 425.4118, 282.0263]], device='cuda:0')\n",
      "GT: tensor([[ 53.2480, 133.2206, 151.4240, 247.5891]], device='cuda:0')\n",
      "Pred: tensor([[255.6412, 124.9115, 425.4118, 282.0263]], device='cuda:0')\n",
      "GT: tensor([[184.7040, 136.9909, 214.6560, 180.9789]], device='cuda:0')\n",
      "Pred: tensor([[-52.3035, 112.8564, 469.1219, 313.5294]], device='cuda:0')\n",
      "GT: tensor([[ 73.2160,  42.1547, 391.8720, 410.4533]], device='cuda:0')\n"
     ]
    },
    {
     "name": "stderr",
     "output_type": "stream",
     "text": [
      "[2019-05-31 10:48:06,886 <ipython-input-2-7667fb18f09c>] Batch [1854/2077] mAP: 0.24281\n",
      "[2019-05-31 10:48:06,933 <ipython-input-2-7667fb18f09c>] Batch [1855/2077] mAP: 0.24296\n",
      "[2019-05-31 10:48:07,020 <ipython-input-2-7667fb18f09c>] Batch [1856/2077] mAP: 0.24302\n",
      "[2019-05-31 10:48:07,068 <ipython-input-2-7667fb18f09c>] Batch [1857/2077] mAP: 0.24302\n"
     ]
    },
    {
     "name": "stdout",
     "output_type": "stream",
     "text": [
      "Pred: tensor([[ 54.4695,  50.9819, 238.9916, 420.9132]], device='cuda:0')\n",
      "GT: tensor([[  0.0000,  85.4187, 302.0160, 378.2827]], device='cuda:0')\n",
      "Pred: tensor([[124.4907, 117.2612, 341.9755, 347.3751]], device='cuda:0')\n",
      "GT: tensor([[ 98.1760, 127.5733, 331.9680, 290.6453]], device='cuda:0')\n",
      "Pred: tensor([[ 60.9174,  47.0714, 348.8381, 361.2308]], device='cuda:0')\n",
      "GT: tensor([[ 60.7360,  44.3733, 366.0800, 349.4400]], device='cuda:0')\n",
      "Pred: tensor([[ 60.9174,  47.0714, 348.8381, 361.2308]], device='cuda:0')\n",
      "GT: tensor([[337.7920, 107.6053, 398.5280, 157.5253]], device='cuda:0')\n",
      "Pred: tensor([[134.3756, 106.6596, 295.4293, 295.0048]], device='cuda:0')\n",
      "GT: tensor([[337.7920, 107.6053, 398.5280, 157.5253]], device='cuda:0')\n",
      "Pred: tensor([[ 60.9174,  47.0714, 348.8381, 361.2308]], device='cuda:0')\n",
      "GT: tensor([[317.8240, 109.8240, 363.5840, 157.5253]], device='cuda:0')\n",
      "Pred: tensor([[134.3756, 106.6596, 295.4293, 295.0048]], device='cuda:0')\n",
      "GT: tensor([[317.8240, 109.8240, 363.5840, 157.5253]], device='cuda:0')\n",
      "Pred: tensor([[110.8372,  65.0238, 356.2707, 397.6610]], device='cuda:0')\n",
      "GT: tensor([[128.1280,  68.7787, 334.4640, 357.2053]], device='cuda:0')\n"
     ]
    },
    {
     "name": "stderr",
     "output_type": "stream",
     "text": [
      "[2019-05-31 10:48:07,154 <ipython-input-2-7667fb18f09c>] Batch [1858/2077] mAP: 0.24313\n",
      "[2019-05-31 10:48:07,201 <ipython-input-2-7667fb18f09c>] Batch [1859/2077] mAP: 0.24308\n",
      "[2019-05-31 10:48:07,304 <ipython-input-2-7667fb18f09c>] Batch [1860/2077] mAP: 0.24304\n"
     ]
    },
    {
     "name": "stdout",
     "output_type": "stream",
     "text": [
      "Pred: tensor([[136.9394, 113.6970, 333.5614, 379.4267]], device='cuda:0')\n",
      "GT: tensor([[ 97.3440,  78.9398, 348.6080, 393.4458]], device='cuda:0')\n",
      "Pred: tensor([[136.9394, 113.6970, 333.5614, 379.4267]], device='cuda:0')\n",
      "GT: tensor([[384.3840, 162.8916, 415.1680, 204.2410]], device='cuda:0')\n",
      "Pred: tensor([[261.3327, 167.3442, 341.8547, 310.6978]], device='cuda:0')\n",
      "GT: tensor([[ 82.0907, 183.0400, 230.7413, 337.7920]], device='cuda:0')\n",
      "Pred: tensor([[179.6593, 157.5227, 363.6055, 325.7230]], device='cuda:0')\n",
      "GT: tensor([[ 82.0907, 183.0400, 230.7413, 337.7920]], device='cuda:0')\n",
      "Pred: tensor([[261.3327, 167.3442, 341.8547, 310.6978]], device='cuda:0')\n",
      "GT: tensor([[214.1013, 176.3840, 363.8613, 320.3200]], device='cuda:0')\n",
      "Pred: tensor([[179.6593, 157.5227, 363.6055, 325.7230]], device='cuda:0')\n",
      "GT: tensor([[214.1013, 176.3840, 363.8613, 320.3200]], device='cuda:0')\n",
      "Pred: tensor([[261.3327, 167.3442, 341.8547, 310.6978]], device='cuda:0')\n",
      "GT: tensor([[237.3973, 166.4000, 326.1440, 272.8960]], device='cuda:0')\n",
      "Pred: tensor([[179.6593, 157.5227, 363.6055, 325.7230]], device='cuda:0')\n",
      "GT: tensor([[237.3973, 166.4000, 326.1440, 272.8960]], device='cuda:0')\n",
      "Pred: tensor([[261.3327, 167.3442, 341.8547, 310.6978]], device='cuda:0')\n",
      "GT: tensor([[109.8240, 171.3920, 230.7413, 298.6880]], device='cuda:0')\n",
      "Pred: tensor([[179.6593, 157.5227, 363.6055, 325.7230]], device='cuda:0')\n",
      "GT: tensor([[109.8240, 171.3920, 230.7413, 298.6880]], device='cuda:0')\n"
     ]
    },
    {
     "name": "stderr",
     "output_type": "stream",
     "text": [
      "[2019-05-31 10:48:07,376 <ipython-input-2-7667fb18f09c>] Batch [1861/2077] mAP: 0.24319\n",
      "[2019-05-31 10:48:07,438 <ipython-input-2-7667fb18f09c>] Batch [1862/2077] mAP: 0.24314\n",
      "[2019-05-31 10:48:07,493 <ipython-input-2-7667fb18f09c>] Batch [1863/2077] mAP: 0.24304\n",
      "[2019-05-31 10:48:07,538 <ipython-input-2-7667fb18f09c>] Batch [1864/2077] mAP: 0.24270\n"
     ]
    },
    {
     "name": "stdout",
     "output_type": "stream",
     "text": [
      "Pred: tensor([[ 29.7259,  65.4584, 381.3410, 356.1178]], device='cuda:0')\n",
      "GT: tensor([[ 14.9760,  56.5760, 396.8640, 380.5013]], device='cuda:0')\n",
      "Pred: tensor([[156.4181, 110.5870, 333.9113, 362.2025]], device='cuda:0')\n",
      "GT: tensor([[102.4781, 143.9360, 383.5317, 285.3760]], device='cuda:0')\n"
     ]
    },
    {
     "name": "stderr",
     "output_type": "stream",
     "text": [
      "[2019-05-31 10:48:07,688 <ipython-input-2-7667fb18f09c>] Batch [1865/2077] mAP: 0.24251\n",
      "[2019-05-31 10:48:07,727 <ipython-input-2-7667fb18f09c>] Batch [1866/2077] mAP: 0.24266\n",
      "[2019-05-31 10:48:07,760 <ipython-input-2-7667fb18f09c>] Batch [1867/2077] mAP: 0.24256\n"
     ]
    },
    {
     "name": "stdout",
     "output_type": "stream",
     "text": [
      "Pred: tensor([[ 73.3798, 192.4202,  97.8077, 233.7559]], device='cuda:0')\n",
      "GT: tensor([[281.2160, 236.2993, 321.1520, 348.0816]], device='cuda:0')\n",
      "Pred: tensor([[245.5832, 192.8699, 348.4880, 415.3937]], device='cuda:0')\n",
      "GT: tensor([[281.2160, 236.2993, 321.1520, 348.0816]], device='cuda:0')\n",
      "Pred: tensor([[ 92.9547, 194.4754, 119.3648, 239.4673]], device='cuda:0')\n",
      "GT: tensor([[281.2160, 236.2993, 321.1520, 348.0816]], device='cuda:0')\n",
      "Pred: tensor([[266.7335, 245.0654, 332.9708, 366.2454]], device='cuda:0')\n",
      "GT: tensor([[281.2160, 236.2993, 321.1520, 348.0816]], device='cuda:0')\n",
      "Pred: tensor([[265.1093, 278.3721, 328.8548, 375.7417]], device='cuda:0')\n",
      "GT: tensor([[287.0400, 304.2177, 312.0000, 372.1360]], device='cuda:0')\n",
      "Pred: tensor([[ 91.6150, 210.9288, 123.8971, 248.7316]], device='cuda:0')\n",
      "GT: tensor([[287.0400, 304.2177, 312.0000, 372.1360]], device='cuda:0')\n",
      "Pred: tensor([[188.2641, 225.5982, 293.3188, 301.2333]], device='cuda:0')\n",
      "GT: tensor([[207.1680, 220.7347, 273.7280, 292.8979]], device='cuda:0')\n",
      "Pred: tensor([[265.1093, 278.3721, 328.8548, 375.7417]], device='cuda:0')\n",
      "GT: tensor([[269.5680, 239.1293, 285.3760, 285.8231]], device='cuda:0')\n",
      "Pred: tensor([[ 91.6150, 210.9288, 123.8971, 248.7316]], device='cuda:0')\n",
      "GT: tensor([[269.5680, 239.1293, 285.3760, 285.8231]], device='cuda:0')\n",
      "Pred: tensor([[ 73.3798, 192.4202,  97.8077, 233.7559]], device='cuda:0')\n",
      "GT: tensor([[108.9920, 216.4898, 121.4720, 247.6190]], device='cuda:0')\n",
      "Pred: tensor([[245.5832, 192.8699, 348.4880, 415.3937]], device='cuda:0')\n",
      "GT: tensor([[108.9920, 216.4898, 121.4720, 247.6190]], device='cuda:0')\n",
      "Pred: tensor([[ 92.9547, 194.4754, 119.3648, 239.4673]], device='cuda:0')\n",
      "GT: tensor([[108.9920, 216.4898, 121.4720, 247.6190]], device='cuda:0')\n",
      "Pred: tensor([[266.7335, 245.0654, 332.9708, 366.2454]], device='cuda:0')\n",
      "GT: tensor([[108.9920, 216.4898, 121.4720, 247.6190]], device='cuda:0')\n",
      "Pred: tensor([[ 73.3798, 192.4202,  97.8077, 233.7559]], device='cuda:0')\n",
      "GT: tensor([[ 63.2320, 199.5102,  75.7120, 233.4694]], device='cuda:0')\n",
      "Pred: tensor([[245.5832, 192.8699, 348.4880, 415.3937]], device='cuda:0')\n",
      "GT: tensor([[ 63.2320, 199.5102,  75.7120, 233.4694]], device='cuda:0')\n",
      "Pred: tensor([[ 92.9547, 194.4754, 119.3648, 239.4673]], device='cuda:0')\n",
      "GT: tensor([[ 63.2320, 199.5102,  75.7120, 233.4694]], device='cuda:0')\n",
      "Pred: tensor([[266.7335, 245.0654, 332.9708, 366.2454]], device='cuda:0')\n",
      "GT: tensor([[ 63.2320, 199.5102,  75.7120, 233.4694]], device='cuda:0')\n",
      "Pred: tensor([[265.1093, 278.3721, 328.8548, 375.7417]], device='cuda:0')\n",
      "GT: tensor([[ 64.0640, 220.7347,  78.2080, 239.1293]], device='cuda:0')\n",
      "Pred: tensor([[ 91.6150, 210.9288, 123.8971, 248.7316]], device='cuda:0')\n",
      "GT: tensor([[ 64.0640, 220.7347,  78.2080, 239.1293]], device='cuda:0')\n",
      "Pred: tensor([[265.1093, 278.3721, 328.8548, 375.7417]], device='cuda:0')\n",
      "GT: tensor([[105.6640, 227.8095, 123.1360, 249.0340]], device='cuda:0')\n",
      "Pred: tensor([[ 91.6150, 210.9288, 123.8971, 248.7316]], device='cuda:0')\n",
      "GT: tensor([[105.6640, 227.8095, 123.1360, 249.0340]], device='cuda:0')\n",
      "Pred: tensor([[ 69.7878,  85.0309, 334.2112, 347.7569]], device='cuda:0')\n",
      "GT: tensor([[ 45.7600, 131.1712, 359.4240, 282.3303]], device='cuda:0')\n"
     ]
    },
    {
     "name": "stderr",
     "output_type": "stream",
     "text": [
      "[2019-05-31 10:48:07,817 <ipython-input-2-7667fb18f09c>] Batch [1868/2077] mAP: 0.24252\n",
      "[2019-05-31 10:48:07,884 <ipython-input-2-7667fb18f09c>] Batch [1869/2077] mAP: 0.24282\n",
      "[2019-05-31 10:48:07,958 <ipython-input-2-7667fb18f09c>] Batch [1870/2077] mAP: 0.24292\n"
     ]
    },
    {
     "name": "stdout",
     "output_type": "stream",
     "text": [
      "Pred: tensor([[ 59.6902, 331.1815, 105.0151, 360.9287]], device='cuda:0')\n",
      "GT: tensor([[ 68.2240, 318.7532, 116.4800, 376.3810]], device='cuda:0')\n",
      "Pred: tensor([[ -1.2741,  -6.5269, 154.0541, 100.4283]], device='cuda:0')\n",
      "GT: tensor([[  0.0000,   0.0000, 133.9520,  73.7057]], device='cuda:0')\n",
      "Pred: tensor([[146.2930, 132.2858, 390.6732, 404.2682]], device='cuda:0')\n",
      "GT: tensor([[161.4080, 151.1592, 372.7360, 414.7508]], device='cuda:0')\n",
      "Pred: tensor([[ 11.0873, 162.2657,  99.6624, 441.1929]], device='cuda:0')\n",
      "GT: tensor([[  0.8320, 171.9467, 235.4560, 414.8907]], device='cuda:0')\n",
      "Pred: tensor([[ 92.1122, 177.6288, 275.1201, 352.4717]], device='cuda:0')\n",
      "GT: tensor([[ 94.8480, 143.1040, 281.2160, 414.8907]], device='cuda:0')\n"
     ]
    },
    {
     "name": "stderr",
     "output_type": "stream",
     "text": [
      "[2019-05-31 10:48:08,069 <ipython-input-2-7667fb18f09c>] Batch [1871/2077] mAP: 0.24269\n",
      "[2019-05-31 10:48:08,143 <ipython-input-2-7667fb18f09c>] Batch [1872/2077] mAP: 0.24269\n",
      "[2019-05-31 10:48:08,185 <ipython-input-2-7667fb18f09c>] Batch [1873/2077] mAP: 0.24264\n"
     ]
    },
    {
     "name": "stdout",
     "output_type": "stream",
     "text": [
      "Pred: tensor([[328.2059, 166.9658, 409.9955, 246.3829]], device='cuda:0')\n",
      "GT: tensor([[386.8800, 169.8979, 415.1680, 218.6186]], device='cuda:0')\n",
      "Pred: tensor([[328.2059, 166.9658, 409.9955, 246.3829]], device='cuda:0')\n",
      "GT: tensor([[327.8080, 174.8949, 399.3600, 234.8589]], device='cuda:0')\n",
      "Pred: tensor([[328.2059, 166.9658, 409.9955, 246.3829]], device='cuda:0')\n",
      "GT: tensor([[ 96.5120, 147.4114, 330.3040, 374.7748]], device='cuda:0')\n",
      "Pred: tensor([[328.2059, 166.9658, 409.9955, 246.3829]], device='cuda:0')\n",
      "GT: tensor([[ 32.4480, 198.6306, 167.2320, 333.5496]], device='cuda:0')\n",
      "Pred: tensor([[328.2059, 166.9658, 409.9955, 246.3829]], device='cuda:0')\n",
      "GT: tensor([[ 30.7840, 196.1321, 117.3120, 243.6036]], device='cuda:0')\n",
      "Pred: tensor([[328.2059, 166.9658, 409.9955, 246.3829]], device='cuda:0')\n",
      "GT: tensor([[119.8080, 182.3904, 168.0640, 199.8799]], device='cuda:0')\n",
      "Pred: tensor([[328.2059, 166.9658, 409.9955, 246.3829]], device='cuda:0')\n",
      "GT: tensor([[ 76.5440, 184.8889, 126.4640, 204.8769]], device='cuda:0')\n",
      "Pred: tensor([[328.2059, 166.9658, 409.9955, 246.3829]], device='cuda:0')\n",
      "GT: tensor([[ 42.4320, 184.8889,  91.5200, 224.8649]], device='cuda:0')\n",
      "Pred: tensor([[328.2059, 166.9658, 409.9955, 246.3829]], device='cuda:0')\n",
      "GT: tensor([[163.9040, 177.3934, 205.5040, 211.1231]], device='cuda:0')\n",
      "Pred: tensor([[257.2496, 188.0851, 357.6774, 357.7118]], device='cuda:0')\n",
      "GT: tensor([[264.0213, 196.3520, 380.5013, 349.4400]], device='cuda:0')\n"
     ]
    },
    {
     "name": "stderr",
     "output_type": "stream",
     "text": [
      "[2019-05-31 10:48:08,238 <ipython-input-2-7667fb18f09c>] Batch [1874/2077] mAP: 0.24245\n",
      "[2019-05-31 10:48:08,344 <ipython-input-2-7667fb18f09c>] Batch [1875/2077] mAP: 0.24187\n",
      "[2019-05-31 10:48:08,391 <ipython-input-2-7667fb18f09c>] Batch [1876/2077] mAP: 0.24197\n",
      "[2019-05-31 10:48:08,433 <ipython-input-2-7667fb18f09c>] Batch [1877/2077] mAP: 0.24207\n"
     ]
    },
    {
     "name": "stdout",
     "output_type": "stream",
     "text": [
      "Pred: tensor([[161.0972, 297.1853, 184.1203, 316.3082]], device='cuda:0')\n",
      "GT: tensor([[319.4880, 290.6453, 403.5200, 335.0187]], device='cuda:0')\n",
      "Pred: tensor([[135.4632, 290.4417, 157.6676, 309.2077]], device='cuda:0')\n",
      "GT: tensor([[319.4880, 290.6453, 403.5200, 335.0187]], device='cuda:0')\n",
      "Pred: tensor([[161.0972, 297.1853, 184.1203, 316.3082]], device='cuda:0')\n",
      "GT: tensor([[159.7440, 291.7547, 178.8800, 310.6133]], device='cuda:0')\n",
      "Pred: tensor([[135.4632, 290.4417, 157.6676, 309.2077]], device='cuda:0')\n",
      "GT: tensor([[159.7440, 291.7547, 178.8800, 310.6133]], device='cuda:0')\n",
      "Pred: tensor([[161.0972, 297.1853, 184.1203, 316.3082]], device='cuda:0')\n",
      "GT: tensor([[141.4400, 290.6453, 154.7520, 305.0667]], device='cuda:0')\n",
      "Pred: tensor([[135.4632, 290.4417, 157.6676, 309.2077]], device='cuda:0')\n",
      "GT: tensor([[141.4400, 290.6453, 154.7520, 305.0667]], device='cuda:0')\n",
      "Pred: tensor([[161.0972, 297.1853, 184.1203, 316.3082]], device='cuda:0')\n",
      "GT: tensor([[127.2960, 289.5360, 139.7760, 301.7387]], device='cuda:0')\n",
      "Pred: tensor([[135.4632, 290.4417, 157.6676, 309.2077]], device='cuda:0')\n",
      "GT: tensor([[127.2960, 289.5360, 139.7760, 301.7387]], device='cuda:0')\n",
      "Pred: tensor([[161.0972, 297.1853, 184.1203, 316.3082]], device='cuda:0')\n",
      "GT: tensor([[114.8160, 292.8640, 121.4720, 300.6293]], device='cuda:0')\n",
      "Pred: tensor([[135.4632, 290.4417, 157.6676, 309.2077]], device='cuda:0')\n",
      "GT: tensor([[114.8160, 292.8640, 121.4720, 300.6293]], device='cuda:0')\n",
      "Pred: tensor([[161.0972, 297.1853, 184.1203, 316.3082]], device='cuda:0')\n",
      "GT: tensor([[111.4880, 295.0827, 116.4800, 301.7387]], device='cuda:0')\n",
      "Pred: tensor([[135.4632, 290.4417, 157.6676, 309.2077]], device='cuda:0')\n",
      "GT: tensor([[111.4880, 295.0827, 116.4800, 301.7387]], device='cuda:0')\n",
      "Pred: tensor([[161.0972, 297.1853, 184.1203, 316.3082]], device='cuda:0')\n",
      "GT: tensor([[122.3040, 290.6453, 129.7920, 300.6293]], device='cuda:0')\n",
      "Pred: tensor([[135.4632, 290.4417, 157.6676, 309.2077]], device='cuda:0')\n",
      "GT: tensor([[122.3040, 290.6453, 129.7920, 300.6293]], device='cuda:0')\n",
      "Pred: tensor([[ 51.6735,  37.4687, 367.3477, 377.8970]], device='cuda:0')\n",
      "GT: tensor([[ 57.0435,  29.9520, 389.5652, 415.1680]], device='cuda:0')\n",
      "Pred: tensor([[ 30.2059,  98.6784, 126.4550, 185.3998]], device='cuda:0')\n",
      "GT: tensor([[  0.0000,  83.2000,  72.3478, 228.8000]], device='cuda:0')\n",
      "Pred: tensor([[115.2167, 129.1616, 287.0248, 297.0877]], device='cuda:0')\n",
      "GT: tensor([[105.6640,  79.8720, 296.1920, 317.2693]], device='cuda:0')\n"
     ]
    },
    {
     "name": "stderr",
     "output_type": "stream",
     "text": [
      "[2019-05-31 10:48:08,497 <ipython-input-2-7667fb18f09c>] Batch [1878/2077] mAP: 0.24188\n",
      "[2019-05-31 10:48:08,551 <ipython-input-2-7667fb18f09c>] Batch [1879/2077] mAP: 0.24174\n",
      "[2019-05-31 10:48:08,603 <ipython-input-2-7667fb18f09c>] Batch [1880/2077] mAP: 0.24169\n",
      "[2019-05-31 10:48:08,645 <ipython-input-2-7667fb18f09c>] Batch [1881/2077] mAP: 0.24154\n",
      "[2019-05-31 10:48:08,685 <ipython-input-2-7667fb18f09c>] Batch [1882/2077] mAP: 0.24145\n",
      "[2019-05-31 10:48:08,731 <ipython-input-2-7667fb18f09c>] Batch [1883/2077] mAP: 0.24160\n",
      "[2019-05-31 10:48:08,795 <ipython-input-2-7667fb18f09c>] Batch [1884/2077] mAP: 0.24170\n",
      "[2019-05-31 10:48:08,852 <ipython-input-2-7667fb18f09c>] Batch [1885/2077] mAP: 0.24185\n"
     ]
    },
    {
     "name": "stdout",
     "output_type": "stream",
     "text": [
      "Pred: tensor([[160.0346, 144.9165, 333.4222, 267.1465]], device='cuda:0')\n",
      "GT: tensor([[141.4400, 132.4204, 344.4480, 268.5886]], device='cuda:0')\n",
      "Pred: tensor([[  1.6680,   8.6620, 408.2145, 407.8434]], device='cuda:0')\n",
      "GT: tensor([[  0.0000,  28.3917, 410.1760, 381.4362]], device='cuda:0')\n",
      "Pred: tensor([[  1.6680,   8.6620, 408.2145, 407.8434]], device='cuda:0')\n",
      "GT: tensor([[337.7920,   3.7033, 415.1680, 153.0683]], device='cuda:0')\n",
      "Pred: tensor([[342.0030,  30.2485, 401.2229,  72.8102]], device='cuda:0')\n",
      "GT: tensor([[337.7920,   3.7033, 415.1680, 153.0683]], device='cuda:0')\n",
      "Pred: tensor([[364.8765,  34.7353, 421.9836, 120.3362]], device='cuda:0')\n",
      "GT: tensor([[337.7920,   3.7033, 415.1680, 153.0683]], device='cuda:0')\n",
      "Pred: tensor([[111.4634, 147.0013, 257.7731, 313.5563]], device='cuda:0')\n",
      "GT: tensor([[ 85.6960, 122.0267, 260.4160, 359.4240]], device='cuda:0')\n",
      "Pred: tensor([[ 83.2037,  77.0542, 337.8951, 336.5163]], device='cuda:0')\n",
      "GT: tensor([[ 70.7200,  94.4295, 331.1360, 341.9877]], device='cuda:0')\n",
      "Pred: tensor([[ 83.2037,  77.0542, 337.8951, 336.5163]], device='cuda:0')\n",
      "GT: tensor([[332.8000,  67.6319, 415.1680, 367.5092]], device='cuda:0')\n",
      "Pred: tensor([[128.9884, 114.0140, 282.5797, 303.6173]], device='cuda:0')\n",
      "GT: "
     ]
    },
    {
     "name": "stderr",
     "output_type": "stream",
     "text": [
      "[2019-05-31 10:48:08,940 <ipython-input-2-7667fb18f09c>] Batch [1886/2077] mAP: 0.24191\n",
      "[2019-05-31 10:48:08,989 <ipython-input-2-7667fb18f09c>] Batch [1887/2077] mAP: 0.24181\n",
      "[2019-05-31 10:48:09,066 <ipython-input-2-7667fb18f09c>] Batch [1888/2077] mAP: 0.24206\n",
      "[2019-05-31 10:48:09,115 <ipython-input-2-7667fb18f09c>] Batch [1889/2077] mAP: 0.24207\n"
     ]
    },
    {
     "name": "stdout",
     "output_type": "stream",
     "text": [
      "tensor([[183.0400, 164.6135, 212.9920, 259.0429]], device='cuda:0')\n",
      "Pred: tensor([[334.4573,  55.8101, 408.9457, 368.4154]], device='cuda:0')\n",
      "GT: tensor([[183.0400, 164.6135, 212.9920, 259.0429]], device='cuda:0')\n",
      "Pred: tensor([[172.0844, 133.8824, 223.9773, 297.7070]], device='cuda:0')\n",
      "GT: tensor([[183.0400, 164.6135, 212.9920, 259.0429]], device='cuda:0')\n",
      "Pred: tensor([[199.6915,  40.0817, 345.8112, 101.3482]], device='cuda:0')\n",
      "GT: tensor([[161.4080,   1.2455, 392.7040, 108.3593]], device='cuda:0')\n",
      "Pred: tensor([[199.6915,  40.0817, 345.8112, 101.3482]], device='cuda:0')\n",
      "GT: tensor([[  4.1600, 150.7066, 392.7040, 310.1317]], device='cuda:0')\n",
      "Pred: tensor([[125.5860, 116.9329, 225.8553, 360.6354]], device='cuda:0')\n",
      "GT: tensor([[  0.0000,  93.1840, 198.5707, 415.1680]], device='cuda:0')\n",
      "Pred: tensor([[204.1800, 222.7560, 335.1452, 329.5695]], device='cuda:0')\n",
      "GT: tensor([[189.6960, 225.4720, 370.5173, 330.3040]], device='cuda:0')\n",
      "Pred: tensor([[125.5860, 116.9329, 225.8553, 360.6354]], device='cuda:0')\n",
      "GT: tensor([[123.1360, 128.1280, 220.7573, 348.6080]], device='cuda:0')\n",
      "Pred: tensor([[ 19.7608,  75.1960, 331.4258, 338.1382]], device='cuda:0')\n",
      "GT: tensor([[ 22.4640,  54.0423, 387.7120, 360.7009]], device='cuda:0')\n"
     ]
    },
    {
     "name": "stderr",
     "output_type": "stream",
     "text": [
      "[2019-05-31 10:48:09,178 <ipython-input-2-7667fb18f09c>] Batch [1890/2077] mAP: 0.24222\n",
      "[2019-05-31 10:48:09,234 <ipython-input-2-7667fb18f09c>] Batch [1891/2077] mAP: 0.24227\n",
      "[2019-05-31 10:48:09,293 <ipython-input-2-7667fb18f09c>] Batch [1892/2077] mAP: 0.24223\n",
      "[2019-05-31 10:48:09,346 <ipython-input-2-7667fb18f09c>] Batch [1893/2077] mAP: 0.24218\n"
     ]
    },
    {
     "name": "stdout",
     "output_type": "stream",
     "text": [
      "Pred: tensor([[176.8238, 146.6081, 308.9265, 346.5200]], device='cuda:0')\n",
      "GT: tensor([[181.1411, 142.2720, 308.5646, 366.0800]], device='cuda:0')\n",
      "Pred: tensor([[ 51.2631, 129.7097, 227.7115, 355.1133]], device='cuda:0')\n",
      "GT: tensor([[  9.9840, 156.4160, 245.4400, 350.5493]], device='cuda:0')\n",
      "Pred: tensor([[ 51.2631, 129.7097, 227.7115, 355.1133]], device='cuda:0')\n",
      "GT: tensor([[235.4560, 163.0720, 394.3680, 242.9440]], device='cuda:0')\n"
     ]
    },
    {
     "name": "stderr",
     "output_type": "stream",
     "text": [
      "[2019-05-31 10:48:09,390 <ipython-input-2-7667fb18f09c>] Batch [1894/2077] mAP: 0.24208\n",
      "[2019-05-31 10:48:09,444 <ipython-input-2-7667fb18f09c>] Batch [1895/2077] mAP: 0.24203\n",
      "[2019-05-31 10:48:09,492 <ipython-input-2-7667fb18f09c>] Batch [1896/2077] mAP: 0.24218\n",
      "[2019-05-31 10:48:09,668 <ipython-input-2-7667fb18f09c>] Batch [1897/2077] mAP: 0.24230\n"
     ]
    },
    {
     "name": "stdout",
     "output_type": "stream",
     "text": [
      "Pred: tensor([[ 20.6566, 173.8251, 204.1351, 298.2487]], device='cuda:0')\n",
      "GT: tensor([[  0.0000, 186.3680, 226.3040, 282.8800]], device='cuda:0')\n",
      "Pred: tensor([[107.5272, 211.4925, 164.3308, 390.0388]], device='cuda:0')\n",
      "GT: tensor([[100.6720, 179.7120, 163.9040, 414.8907]], device='cuda:0')\n",
      "Pred: tensor([[107.5272, 211.4925, 164.3308, 390.0388]], device='cuda:0')\n",
      "GT: tensor([[196.3520, 135.3387, 272.8960, 414.8907]], device='cuda:0')\n",
      "Pred: tensor([[174.2048,  92.4025, 305.0007, 448.9464]], device='cuda:0')\n",
      "GT: tensor([[196.3520, 135.3387, 272.8960, 414.8907]], device='cuda:0')\n",
      "Pred: tensor([[340.8229, 232.8622, 387.4970, 303.4431]], device='cuda:0')\n",
      "GT: tensor([[196.3520, 135.3387, 272.8960, 414.8907]], device='cuda:0')\n",
      "Pred: tensor([[107.5272, 211.4925, 164.3308, 390.0388]], device='cuda:0')\n",
      "GT: tensor([[282.0480, 230.7413, 348.6080, 328.3627]], device='cuda:0')\n",
      "Pred: tensor([[174.2048,  92.4025, 305.0007, 448.9464]], device='cuda:0')\n",
      "GT: tensor([[282.0480, 230.7413, 348.6080, 328.3627]], device='cuda:0')\n",
      "Pred: tensor([[340.8229, 232.8622, 387.4970, 303.4431]], device='cuda:0')\n",
      "GT: tensor([[282.0480, 230.7413, 348.6080, 328.3627]], device='cuda:0')\n",
      "Pred: tensor([[107.5272, 211.4925, 164.3308, 390.0388]], device='cuda:0')\n",
      "GT: tensor([[382.7200, 204.1173, 415.1680, 249.6000]], device='cuda:0')\n",
      "Pred: tensor([[174.2048,  92.4025, 305.0007, 448.9464]], device='cuda:0')\n",
      "GT: tensor([[382.7200, 204.1173, 415.1680, 249.6000]], device='cuda:0')\n",
      "Pred: tensor([[340.8229, 232.8622, 387.4970, 303.4431]], device='cuda:0')\n",
      "GT: tensor([[382.7200, 204.1173, 415.1680, 249.6000]], device='cuda:0')\n",
      "Pred: tensor([[107.5272, 211.4925, 164.3308, 390.0388]], device='cuda:0')\n",
      "GT: tensor([[351.1040, 230.7413, 389.3760, 286.2080]], device='cuda:0')\n",
      "Pred: tensor([[174.2048,  92.4025, 305.0007, 448.9464]], device='cuda:0')\n",
      "GT: tensor([[351.1040, 230.7413, 389.3760, 286.2080]], device='cuda:0')\n",
      "Pred: tensor([[340.8229, 232.8622, 387.4970, 303.4431]], device='cuda:0')\n",
      "GT: tensor([[351.1040, 230.7413, 389.3760, 286.2080]], device='cuda:0')\n",
      "Pred: tensor([[107.5272, 211.4925, 164.3308, 390.0388]], device='cuda:0')\n",
      "GT: tensor([[331.1360, 224.0853, 356.9280, 278.4427]], device='cuda:0')\n",
      "Pred: tensor([[174.2048,  92.4025, 305.0007, 448.9464]], device='cuda:0')\n",
      "GT: tensor([[331.1360, 224.0853, 356.9280, 278.4427]], device='cuda:0')\n",
      "Pred: tensor([[340.8229, 232.8622, 387.4970, 303.4431]], device='cuda:0')\n",
      "GT: tensor([[331.1360, 224.0853, 356.9280, 278.4427]], device='cuda:0')\n",
      "Pred: tensor([[107.5272, 211.4925, 164.3308, 390.0388]], device='cuda:0')\n",
      "GT: tensor([[328.6400, 226.3040, 341.9520, 267.3493]], device='cuda:0')\n",
      "Pred: tensor([[174.2048,  92.4025, 305.0007, 448.9464]], device='cuda:0')\n",
      "GT: tensor([[328.6400, 226.3040, 341.9520, 267.3493]], device='cuda:0')\n",
      "Pred: tensor([[340.8229, 232.8622, 387.4970, 303.4431]], device='cuda:0')\n",
      "GT: tensor([[328.6400, 226.3040, 341.9520, 267.3493]], device='cuda:0')\n",
      "Pred: tensor([[107.5272, 211.4925, 164.3308, 390.0388]], device='cuda:0')\n",
      "GT: tensor([[334.4640, 244.0533, 376.0640, 310.6133]], device='cuda:0')\n",
      "Pred: tensor([[174.2048,  92.4025, 305.0007, 448.9464]], device='cuda:0')\n",
      "GT: tensor([[334.4640, 244.0533, 376.0640, 310.6133]], device='cuda:0')\n",
      "Pred: tensor([[340.8229, 232.8622, 387.4970, 303.4431]], device='cuda:0')\n",
      "GT: tensor([[334.4640, 244.0533, 376.0640, 310.6133]], device='cuda:0')\n"
     ]
    },
    {
     "name": "stderr",
     "output_type": "stream",
     "text": [
      "[2019-05-31 10:48:09,716 <ipython-input-2-7667fb18f09c>] Batch [1898/2077] mAP: 0.24250\n",
      "[2019-05-31 10:48:09,748 <ipython-input-2-7667fb18f09c>] Batch [1899/2077] mAP: 0.24245\n",
      "[2019-05-31 10:48:09,794 <ipython-input-2-7667fb18f09c>] Batch [1900/2077] mAP: 0.24260\n",
      "[2019-05-31 10:48:09,853 <ipython-input-2-7667fb18f09c>] Batch [1901/2077] mAP: 0.24271\n"
     ]
    },
    {
     "name": "stdout",
     "output_type": "stream",
     "text": [
      "Pred: tensor([[253.3041, 129.4727, 338.4003, 341.2822]], device='cuda:0')\n",
      "GT: tensor([[222.1440, 117.5893, 327.8080, 303.9573]], device='cuda:0')\n",
      "Pred: tensor([[253.3041, 129.4727, 338.4003, 341.2822]], device='cuda:0')\n",
      "GT: tensor([[263.7440, 129.7920, 318.6560, 338.3467]], device='cuda:0')\n",
      "Pred: tensor([[ 78.9155,  -2.8548, 456.2021, 359.7542]], device='cuda:0')\n",
      "GT: tensor([[ 83.6997,  12.4800, 414.7508, 387.7120]], device='cuda:0')\n",
      "Pred: tensor([[128.5244, 303.9672, 152.8511, 361.8938]], device='cuda:0')\n",
      "GT: tensor([[113.1520, 313.8683, 156.4160, 362.4431]], device='cuda:0')\n",
      "Pred: tensor([[261.1474, 156.1996, 393.2469, 335.3374]], device='cuda:0')\n",
      "GT: tensor([[229.6320, 152.2560, 402.6880, 357.7600]], device='cuda:0')\n",
      "Pred: tensor([[261.1474, 156.1996, 393.2469, 335.3374]], device='cuda:0')\n",
      "GT: tensor([[ 12.4800, 235.4560,  86.5280, 364.4160]], device='cuda:0')\n",
      "Pred: "
     ]
    },
    {
     "name": "stderr",
     "output_type": "stream",
     "text": [
      "[2019-05-31 10:48:09,939 <ipython-input-2-7667fb18f09c>] Batch [1902/2077] mAP: 0.24257\n",
      "[2019-05-31 10:48:09,997 <ipython-input-2-7667fb18f09c>] Batch [1903/2077] mAP: 0.24272\n",
      "[2019-05-31 10:48:10,063 <ipython-input-2-7667fb18f09c>] Batch [1904/2077] mAP: 0.24282\n",
      "[2019-05-31 10:48:10,108 <ipython-input-2-7667fb18f09c>] Batch [1905/2077] mAP: 0.24297\n"
     ]
    },
    {
     "name": "stdout",
     "output_type": "stream",
     "text": [
      "tensor([[-10.8496, 206.2472, 104.3027, 395.1896]], device='cuda:0')\n",
      "GT: tensor([[ 12.4800, 235.4560,  86.5280, 364.4160]], device='cuda:0')\n",
      "Pred: tensor([[261.1474, 156.1996, 393.2469, 335.3374]], device='cuda:0')\n",
      "GT: tensor([[ 52.4160, 342.7840,  73.2160, 361.9200]], device='cuda:0')\n",
      "Pred: tensor([[-10.8496, 206.2472, 104.3027, 395.1896]], device='cuda:0')\n",
      "GT: tensor([[ 52.4160, 342.7840,  73.2160, 361.9200]], device='cuda:0')\n",
      "Pred: tensor([[261.1474, 156.1996, 393.2469, 335.3374]], device='cuda:0')\n",
      "GT: tensor([[ 72.3840, 341.1200,  90.6880, 361.0880]], device='cuda:0')\n",
      "Pred: tensor([[-10.8496, 206.2472, 104.3027, 395.1896]], device='cuda:0')\n",
      "GT: tensor([[ 72.3840, 341.1200,  90.6880, 361.0880]], device='cuda:0')\n",
      "Pred: tensor([[261.1474, 156.1996, 393.2469, 335.3374]], device='cuda:0')\n",
      "GT: tensor([[ 89.0240, 336.9600, 108.9920, 361.9200]], device='cuda:0')\n",
      "Pred: tensor([[-10.8496, 206.2472, 104.3027, 395.1896]], device='cuda:0')\n",
      "GT: tensor([[ 89.0240, 336.9600, 108.9920, 361.9200]], device='cuda:0')\n",
      "Pred: tensor([[114.4165, 106.7498, 301.5963, 374.1354]], device='cuda:0')\n",
      "GT: tensor([[138.6667, 128.1280, 263.6190, 341.1200]], device='cuda:0')\n",
      "Pred: tensor([[151.9935,  76.9152, 262.0065, 160.8273]], device='cuda:0')\n",
      "GT: tensor([[127.2960,  33.2800, 297.8560, 187.4773]], device='cuda:0')\n",
      "Pred: tensor([[100.6054,  53.0589, 318.3823, 178.6491]], device='cuda:0')\n",
      "GT: tensor([[127.2960,  33.2800, 297.8560, 187.4773]], device='cuda:0')\n",
      "Pred: tensor([[ 62.7077,  23.3707, 283.3334, 391.9542]], device='cuda:0')\n",
      "GT: tensor([[  0.0000,   0.0000, 340.2880, 414.7317]], device='cuda:0')\n"
     ]
    },
    {
     "name": "stderr",
     "output_type": "stream",
     "text": [
      "[2019-05-31 10:48:10,156 <ipython-input-2-7667fb18f09c>] Batch [1906/2077] mAP: 0.24287\n",
      "[2019-05-31 10:48:10,197 <ipython-input-2-7667fb18f09c>] Batch [1907/2077] mAP: 0.24278\n",
      "[2019-05-31 10:48:10,245 <ipython-input-2-7667fb18f09c>] Batch [1908/2077] mAP: 0.24258\n",
      "[2019-05-31 10:48:10,318 <ipython-input-2-7667fb18f09c>] Batch [1909/2077] mAP: 0.24264\n",
      "[2019-05-31 10:48:10,364 <ipython-input-2-7667fb18f09c>] Batch [1910/2077] mAP: 0.24259\n",
      "[2019-05-31 10:48:10,404 <ipython-input-2-7667fb18f09c>] Batch [1911/2077] mAP: 0.24254\n"
     ]
    },
    {
     "name": "stdout",
     "output_type": "stream",
     "text": [
      "Pred: tensor([[191.6127, 199.8545, 281.6201, 345.1120]], device='cuda:0')\n",
      "GT: tensor([[ 66.5600, 235.0769, 115.6480, 331.0769]], device='cuda:0')\n",
      "Pred: tensor([[191.6127, 199.8545, 281.6201, 345.1120]], device='cuda:0')\n",
      "GT: tensor([[125.6320, 262.1538, 173.8880, 327.3846]], device='cuda:0')\n",
      "Pred: tensor([[191.6127, 199.8545, 281.6201, 345.1120]], device='cuda:0')\n",
      "GT: tensor([[211.3280, 220.3077, 264.5760, 318.7692]], device='cuda:0')\n",
      "Pred: tensor([[ 34.8947,  59.5589, 393.0673, 474.1145]], device='cuda:0')\n",
      "GT: tensor([[ 17.3333, 106.4960, 414.2667, 407.6800]], device='cuda:0')\n",
      "Pred: tensor([[ 34.8947,  59.5589, 393.0673, 474.1145]], device='cuda:0')\n",
      "GT: tensor([[ 36.4000, 155.5840,  88.4000, 177.2160]], device='cuda:0')\n",
      "Pred: tensor([[ 26.1538, 163.4332,  59.7685, 196.3105]], device='cuda:0')\n",
      "GT: tensor([[ 36.4000, 155.5840,  88.4000, 177.2160]], device='cuda:0')\n",
      "Pred: tensor([[  9.0097, 156.8009,  35.8175, 191.6959]], device='cuda:0')\n",
      "GT: tensor([[ 36.4000, 155.5840,  88.4000, 177.2160]], device='cuda:0')\n",
      "Pred: tensor([[ 34.8947,  59.5589, 393.0673, 474.1145]], device='cuda:0')\n",
      "GT: tensor([[  0.0000, 159.7440,  27.7333, 179.7120]], device='cuda:0')\n",
      "Pred: tensor([[ 26.1538, 163.4332,  59.7685, 196.3105]], device='cuda:0')\n",
      "GT: tensor([[  0.0000, 159.7440,  27.7333, 179.7120]], device='cuda:0')\n",
      "Pred: tensor([[  9.0097, 156.8009,  35.8175, 191.6959]], device='cuda:0')\n",
      "GT: tensor([[  0.0000, 159.7440,  27.7333, 179.7120]], device='cuda:0')\n"
     ]
    },
    {
     "name": "stderr",
     "output_type": "stream",
     "text": [
      "[2019-05-31 10:48:10,453 <ipython-input-2-7667fb18f09c>] Batch [1912/2077] mAP: 0.24245\n",
      "[2019-05-31 10:48:10,516 <ipython-input-2-7667fb18f09c>] Batch [1913/2077] mAP: 0.24260\n",
      "[2019-05-31 10:48:10,582 <ipython-input-2-7667fb18f09c>] Batch [1914/2077] mAP: 0.24260\n",
      "[2019-05-31 10:48:10,620 <ipython-input-2-7667fb18f09c>] Batch [1915/2077] mAP: 0.24232\n",
      "[2019-05-31 10:48:10,658 <ipython-input-2-7667fb18f09c>] Batch [1916/2077] mAP: 0.24247\n"
     ]
    },
    {
     "name": "stdout",
     "output_type": "stream",
     "text": [
      "Pred: tensor([[121.4546, 123.7950, 245.3948, 339.5090]], device='cuda:0')\n",
      "GT: tensor([[  0.0000,  48.2560, 297.5304, 415.1680]], device='cuda:0')\n",
      "Pred: tensor([[ 55.7509,  65.8251, 299.0725, 409.3198]], device='cuda:0')\n",
      "GT: tensor([[  0.0000,  48.2560, 297.5304, 415.1680]], device='cuda:0')\n",
      "Pred: tensor([[  4.1763, 114.5872,  87.6214, 301.3112]], device='cuda:0')\n",
      "GT: tensor([[ 69.8880,  22.1867, 362.7520, 414.8907]], device='cuda:0')\n",
      "Pred: tensor([[  4.1763, 114.5872,  87.6214, 301.3112]], device='cuda:0')\n",
      "GT: tensor([[  0.0000, 112.0427, 103.1680, 313.9413]], device='cuda:0')\n",
      "Pred: tensor([[309.7496, 197.9915, 431.6898, 272.4910]], device='cuda:0')\n",
      "GT: tensor([[340.2880, 185.2587, 415.1680, 289.5360]], device='cuda:0')\n",
      "Pred: tensor([[ 17.9879,  44.8360, 395.5188, 374.8870]], device='cuda:0')\n",
      "GT: tensor([[340.2880, 185.2587, 415.1680, 289.5360]], device='cuda:0')\n",
      "Pred: tensor([[309.7496, 197.9915, 431.6898, 272.4910]], device='cuda:0')\n",
      "GT: tensor([[338.6240, 204.1173, 389.3760, 224.0853]], device='cuda:0')\n",
      "Pred: tensor([[ 17.9879,  44.8360, 395.5188, 374.8870]], device='cuda:0')\n",
      "GT: tensor([[338.6240, 204.1173, 389.3760, 224.0853]], device='cuda:0')\n",
      "Pred: tensor([[ 26.1753,  83.7242, 339.1124, 269.4171]], device='cuda:0')\n",
      "GT: tensor([[ 10.8160,  87.1856, 401.0240, 272.7665]], device='cuda:0')\n"
     ]
    },
    {
     "name": "stderr",
     "output_type": "stream",
     "text": [
      "[2019-05-31 10:48:10,718 <ipython-input-2-7667fb18f09c>] Batch [1917/2077] mAP: 0.24261\n",
      "[2019-05-31 10:48:10,775 <ipython-input-2-7667fb18f09c>] Batch [1918/2077] mAP: 0.24276\n",
      "[2019-05-31 10:48:10,835 <ipython-input-2-7667fb18f09c>] Batch [1919/2077] mAP: 0.24272\n",
      "[2019-05-31 10:48:10,891 <ipython-input-2-7667fb18f09c>] Batch [1920/2077] mAP: 0.24263\n"
     ]
    },
    {
     "name": "stdout",
     "output_type": "stream",
     "text": [
      "Pred: tensor([[ 40.2293,  54.1097, 370.3685, 372.4714]], device='cuda:0')\n",
      "GT: tensor([[ 78.5532,  14.1440, 325.2766, 396.0320]], device='cuda:0')\n",
      "Pred: tensor([[-15.0993,  64.6144, 120.6595, 212.2457]], device='cuda:0')\n",
      "GT: tensor([[  0.0000,  31.1444, 123.9680, 201.3262]], device='cuda:0')\n",
      "Pred: tensor([[ 51.0094, 101.8666, 119.8484, 312.7361]], device='cuda:0')\n",
      "GT: tensor([[ 39.9360,  89.3252, 122.3040, 311.3620]], device='cuda:0')\n",
      "Pred: tensor([[ 51.0094, 101.8666, 119.8484, 312.7361]], device='cuda:0')\n",
      "GT: tensor([[205.5040, 145.4724, 309.5040, 294.7730]], device='cuda:0')\n",
      "Pred: tensor([[ 51.0094, 101.8666, 119.8484, 312.7361]], device='cuda:0')\n",
      "GT: tensor([[263.7440, 121.2270, 415.1680, 414.7239]], device='cuda:0')\n"
     ]
    },
    {
     "name": "stderr",
     "output_type": "stream",
     "text": [
      "[2019-05-31 10:48:10,959 <ipython-input-2-7667fb18f09c>] Batch [1921/2077] mAP: 0.24268\n",
      "[2019-05-31 10:48:11,009 <ipython-input-2-7667fb18f09c>] Batch [1922/2077] mAP: 0.24263\n",
      "[2019-05-31 10:48:11,054 <ipython-input-2-7667fb18f09c>] Batch [1923/2077] mAP: 0.24254\n",
      "[2019-05-31 10:48:11,123 <ipython-input-2-7667fb18f09c>] Batch [1924/2077] mAP: 0.24264\n"
     ]
    },
    {
     "name": "stdout",
     "output_type": "stream",
     "text": [
      "Pred: tensor([[229.2111, 215.7338, 304.4786, 335.5809]], device='cuda:0')\n",
      "GT: tensor([[  0.0000, 125.3547, 261.2480, 414.8907]], device='cuda:0')\n",
      "Pred: tensor([[ 20.3652, 106.4852, 274.0719, 437.5972]], device='cuda:0')\n",
      "GT: tensor([[  0.0000, 125.3547, 261.2480, 414.8907]], device='cuda:0')\n",
      "Pred: tensor([[229.2111, 215.7338, 304.4786, 335.5809]], device='cuda:0')\n",
      "GT: tensor([[215.4880, 169.7280, 313.6640, 414.8907]], device='cuda:0')\n",
      "Pred: tensor([[ 20.3652, 106.4852, 274.0719, 437.5972]], device='cuda:0')\n",
      "GT: tensor([[215.4880, 169.7280, 313.6640, 414.8907]], device='cuda:0')\n",
      "Pred: tensor([[ 76.9015, 256.7843, 212.8887, 349.7354]], device='cuda:0')\n",
      "GT: tensor([[ 76.5440, 238.2222, 415.1680, 415.1111]], device='cuda:0')\n",
      "Pred: tensor([[ 29.1805,  38.8455, 323.8857, 385.9222]], device='cuda:0')\n",
      "GT: tensor([[ 34.1120,  34.6667, 329.4720, 415.1111]], device='cuda:0')\n"
     ]
    },
    {
     "name": "stderr",
     "output_type": "stream",
     "text": [
      "[2019-05-31 10:48:11,164 <ipython-input-2-7667fb18f09c>] Batch [1925/2077] mAP: 0.24259\n",
      "[2019-05-31 10:48:11,211 <ipython-input-2-7667fb18f09c>] Batch [1926/2077] mAP: 0.24288\n",
      "[2019-05-31 10:48:11,279 <ipython-input-2-7667fb18f09c>] Batch [1927/2077] mAP: 0.24270\n",
      "[2019-05-31 10:48:11,349 <ipython-input-2-7667fb18f09c>] Batch [1928/2077] mAP: 0.24275\n",
      "[2019-05-31 10:48:11,387 <ipython-input-2-7667fb18f09c>] Batch [1929/2077] mAP: 0.24270\n"
     ]
    },
    {
     "name": "stdout",
     "output_type": "stream",
     "text": [
      "Pred: tensor([[335.5876, 171.0071, 392.1333, 298.8036]], device='cuda:0')\n",
      "GT: tensor([[321.9840, 170.3501, 385.2160, 308.6053]], device='cuda:0')\n",
      "Pred: tensor([[213.4852, 217.9590, 326.0394, 394.2196]], device='cuda:0')\n",
      "GT: tensor([[211.3280, 255.5252, 325.3120, 365.3887]], device='cuda:0')\n",
      "Pred: tensor([[171.0566, 157.8052, 358.9197, 398.3038]], device='cuda:0')\n",
      "GT: tensor([[ 29.9520, 127.4234, 207.1680, 414.7508]], device='cuda:0')\n",
      "Pred: tensor([[171.0566, 157.8052, 358.9197, 398.3038]], device='cuda:0')\n",
      "GT: tensor([[196.3520, 129.9219, 335.2960, 414.7508]], device='cuda:0')\n",
      "Pred: tensor([[171.0566, 157.8052, 358.9197, 398.3038]], device='cuda:0')\n",
      "GT: tensor([[310.3360, 124.9249, 415.1680, 414.7508]], device='cuda:0')\n"
     ]
    },
    {
     "name": "stderr",
     "output_type": "stream",
     "text": [
      "[2019-05-31 10:48:11,434 <ipython-input-2-7667fb18f09c>] Batch [1930/2077] mAP: 0.24261\n",
      "[2019-05-31 10:48:11,467 <ipython-input-2-7667fb18f09c>] Batch [1931/2077] mAP: 0.24256\n",
      "[2019-05-31 10:48:11,527 <ipython-input-2-7667fb18f09c>] Batch [1932/2077] mAP: 0.24271\n",
      "[2019-05-31 10:48:11,581 <ipython-input-2-7667fb18f09c>] Batch [1933/2077] mAP: 0.24266\n"
     ]
    },
    {
     "name": "stdout",
     "output_type": "stream",
     "text": [
      "Pred: tensor([[ 14.6255, 155.5004,  83.4694, 340.8954]], device='cuda:0')\n",
      "GT: tensor([[  0.0000, 102.0587, 366.0800, 414.8907]], device='cuda:0')\n",
      "Pred: tensor([[ 14.6255, 155.5004,  83.4694, 340.8954]], device='cuda:0')\n",
      "GT: tensor([[ 55.7440,   0.0000, 415.1680, 333.9093]], device='cuda:0')\n",
      "Pred: tensor([[140.8070, 145.2646, 347.3785, 274.1891]], device='cuda:0')\n",
      "GT: tensor([[107.3280, 117.4294, 371.0720, 299.8198]], device='cuda:0')\n"
     ]
    },
    {
     "name": "stderr",
     "output_type": "stream",
     "text": [
      "[2019-05-31 10:48:11,670 <ipython-input-2-7667fb18f09c>] Batch [1934/2077] mAP: 0.24272\n",
      "[2019-05-31 10:48:11,781 <ipython-input-2-7667fb18f09c>] Batch [1935/2077] mAP: 0.24258\n"
     ]
    },
    {
     "name": "stdout",
     "output_type": "stream",
     "text": [
      "Pred: tensor([[ 64.7448, 208.4746, 227.1163, 392.5015]], device='cuda:0')\n",
      "GT: tensor([[ 93.1840, 227.4804, 231.2960, 403.4320]], device='cuda:0')\n",
      "Pred: tensor([[176.0711, 207.2740, 243.3355, 337.5365]], device='cuda:0')\n",
      "GT: tensor([[ 74.8800, 226.2236, 108.1600, 361.9577]], device='cuda:0')\n",
      "Pred: tensor([[176.0711, 207.2740, 243.3355, 337.5365]], device='cuda:0')\n",
      "GT: tensor([[ 98.1760, 243.8187, 164.7360, 395.8912]], device='cuda:0')\n",
      "Pred: tensor([[176.0711, 207.2740, 243.3355, 337.5365]], device='cuda:0')\n",
      "GT: tensor([[148.9280, 260.1571, 223.8080, 414.7432]], device='cuda:0')\n",
      "Pred: tensor([[176.0711, 207.2740, 243.3355, 337.5365]], device='cuda:0')\n",
      "GT: tensor([[186.3680, 224.9668, 239.6160, 368.2417]], device='cuda:0')\n",
      "Pred: tensor([[176.0711, 207.2740, 243.3355, 337.5365]], device='cuda:0')\n",
      "GT: tensor([[181.3760, 214.9124, 209.6640, 257.6435]], device='cuda:0')\n",
      "Pred: tensor([[176.0711, 207.2740, 243.3355, 337.5365]], device='cuda:0')\n",
      "GT: tensor([[103.1680, 203.6012, 141.4400, 235.0211]], device='cuda:0')\n",
      "Pred: tensor([[ 54.5632, 225.9956, 181.6519, 306.5287]], device='cuda:0')\n",
      "GT: tensor([[263.7440, 119.0289, 324.4800, 187.5607]], device='cuda:0')\n",
      "Pred: tensor([[122.5842, 217.6397, 221.7654, 323.5711]], device='cuda:0')\n",
      "GT: tensor([[263.7440, 119.0289, 324.4800, 187.5607]], device='cuda:0')\n",
      "Pred: tensor([[275.4928,  94.0484, 319.3474, 211.7321]], device='cuda:0')\n",
      "GT: tensor([[263.7440, 119.0289, 324.4800, 187.5607]], device='cuda:0')\n",
      "Pred: tensor([[ 54.5632, 225.9956, 181.6519, 306.5287]], device='cuda:0')\n",
      "GT: tensor([[150.5920, 232.0462, 206.3360, 286.1503]], device='cuda:0')\n",
      "Pred: tensor([[122.5842, 217.6397, 221.7654, 323.5711]], device='cuda:0')\n",
      "GT: tensor([[150.5920, 232.0462, 206.3360, 286.1503]], device='cuda:0')\n",
      "Pred: tensor([[275.4928,  94.0484, 319.3474, 211.7321]], device='cuda:0')\n",
      "GT: tensor([[150.5920, 232.0462, 206.3360, 286.1503]], device='cuda:0')\n",
      "Pred: tensor([[ 54.5632, 225.9956, 181.6519, 306.5287]], device='cuda:0')\n",
      "GT: tensor([[ 65.7280, 240.4624, 158.0800, 288.5549]], device='cuda:0')\n",
      "Pred: tensor([[122.5842, 217.6397, 221.7654, 323.5711]], device='cuda:0')\n",
      "GT: tensor([[ 65.7280, 240.4624, 158.0800, 288.5549]], device='cuda:0')\n",
      "Pred: tensor([[275.4928,  94.0484, 319.3474, 211.7321]], device='cuda:0')\n",
      "GT: tensor([[ 65.7280, 240.4624, 158.0800, 288.5549]], device='cuda:0')\n"
     ]
    },
    {
     "name": "stderr",
     "output_type": "stream",
     "text": [
      "[2019-05-31 10:48:11,836 <ipython-input-2-7667fb18f09c>] Batch [1936/2077] mAP: 0.24248\n",
      "[2019-05-31 10:48:11,890 <ipython-input-2-7667fb18f09c>] Batch [1937/2077] mAP: 0.24258\n",
      "[2019-05-31 10:48:11,951 <ipython-input-2-7667fb18f09c>] Batch [1938/2077] mAP: 0.24273\n",
      "[2019-05-31 10:48:11,995 <ipython-input-2-7667fb18f09c>] Batch [1939/2077] mAP: 0.24254\n",
      "[2019-05-31 10:48:12,067 <ipython-input-2-7667fb18f09c>] Batch [1940/2077] mAP: 0.24255\n"
     ]
    },
    {
     "name": "stdout",
     "output_type": "stream",
     "text": [
      "Pred: tensor([[ 40.5048,  74.3697, 441.2882, 340.3491]], device='cuda:0')\n",
      "GT: tensor([[ 33.2800, 305.7350, 129.7920, 392.1928]], device='cuda:0')\n",
      "Pred: tensor([[ 40.5048,  74.3697, 441.2882, 340.3491]], device='cuda:0')\n",
      "GT: tensor([[ 98.1760,  60.1446, 351.9360, 364.6265]], device='cuda:0')\n",
      "Pred: tensor([[ -4.3798, 144.2538, 349.6591, 383.5025]], device='cuda:0')\n",
      "GT: tensor([[  0.0000, 124.3854, 320.3200, 398.0332]], device='cuda:0')\n",
      "Pred: tensor([[101.4197,  68.6177, 196.3270, 284.3145]], device='cuda:0')\n",
      "GT: tensor([[ 71.6600,  43.4627, 201.9508, 296.7881]], device='cuda:0')\n",
      "Pred: tensor([[101.4197,  68.6177, 196.3270, 284.3145]], device='cuda:0')\n",
      "GT: tensor([[185.1991,  13.6597, 361.0917, 300.5134]], device='cuda:0')\n",
      "Pred: tensor([[101.4197,  68.6177, 196.3270, 284.3145]], device='cuda:0')\n",
      "GT: tensor([[151.6958, 214.8298, 236.3848, 304.2388]], device='cuda:0')\n"
     ]
    },
    {
     "name": "stderr",
     "output_type": "stream",
     "text": [
      "[2019-05-31 10:48:12,126 <ipython-input-2-7667fb18f09c>] Batch [1941/2077] mAP: 0.24269\n",
      "[2019-05-31 10:48:12,194 <ipython-input-2-7667fb18f09c>] Batch [1942/2077] mAP: 0.24284\n",
      "[2019-05-31 10:48:12,259 <ipython-input-2-7667fb18f09c>] Batch [1943/2077] mAP: 0.24295\n",
      "[2019-05-31 10:48:12,317 <ipython-input-2-7667fb18f09c>] Batch [1944/2077] mAP: 0.24309\n"
     ]
    },
    {
     "name": "stdout",
     "output_type": "stream",
     "text": [
      "Pred: tensor([[ 20.7557,  14.7597, 380.6333, 397.1603]], device='cuda:0')\n",
      "GT: tensor([[ 69.8880,  28.9939, 350.2720, 364.3152]], device='cuda:0')\n",
      "Pred: tensor([[ 23.6440,  26.4392, 383.5909, 443.0845]], device='cuda:0')\n",
      "GT: tensor([[ 54.2155,  61.5680, 414.9574, 415.1680]], device='cuda:0')\n",
      "Pred: tensor([[ 39.1189, 119.6854, 311.3198, 364.5251]], device='cuda:0')\n",
      "GT: tensor([[302.8480, 124.6766, 415.1680, 386.3739]], device='cuda:0')\n",
      "Pred: tensor([[ 39.1189, 119.6854, 311.3198, 364.5251]], device='cuda:0')\n",
      "GT: tensor([[ 54.9120, 124.6766, 282.0480, 360.4510]], device='cuda:0')\n",
      "Pred: tensor([[291.9293, 140.6552, 431.3579, 351.0328]], device='cuda:0')\n",
      "GT: tensor([[277.0560, 199.9763, 304.5120, 257.9941]], device='cuda:0')\n",
      "Pred: tensor([[283.9425, 272.3093, 315.9655, 385.5880]], device='cuda:0')\n",
      "GT: tensor([[288.7040, 276.5104, 311.1680, 372.7953]], device='cuda:0')\n",
      "Pred: tensor([[168.4619, 160.5484, 233.8358, 246.2253]], device='cuda:0')\n",
      "GT: tensor([[176.3840, 171.9467, 217.9840, 248.4907]], device='cuda:0')\n"
     ]
    },
    {
     "name": "stderr",
     "output_type": "stream",
     "text": [
      "[2019-05-31 10:48:12,387 <ipython-input-2-7667fb18f09c>] Batch [1945/2077] mAP: 0.24286\n",
      "[2019-05-31 10:48:12,450 <ipython-input-2-7667fb18f09c>] Batch [1946/2077] mAP: 0.24282\n",
      "[2019-05-31 10:48:12,498 <ipython-input-2-7667fb18f09c>] Batch [1947/2077] mAP: 0.24296\n",
      "[2019-05-31 10:48:12,552 <ipython-input-2-7667fb18f09c>] Batch [1948/2077] mAP: 0.24311\n",
      "[2019-05-31 10:48:12,602 <ipython-input-2-7667fb18f09c>] Batch [1949/2077] mAP: 0.24301\n"
     ]
    },
    {
     "name": "stdout",
     "output_type": "stream",
     "text": [
      "Pred: tensor([[ 56.0579, 264.9351, 106.7798, 406.2303]], device='cuda:0')\n",
      "GT: tensor([[ 59.9040, 283.9893, 123.9680, 392.7040]], device='cuda:0')\n",
      "Pred: tensor([[ 56.0579, 264.9351, 106.7798, 406.2303]], device='cuda:0')\n",
      "GT: tensor([[143.9360, 270.6773, 197.1840, 371.6267]], device='cuda:0')\n",
      "Pred: tensor([[ 69.3749,   2.0022, 356.0988, 356.3547]], device='cuda:0')\n",
      "GT: tensor([[ 49.9200,  64.3413, 392.7040, 346.1120]], device='cuda:0')\n",
      "Pred: tensor([[ 87.3784, 122.5850, 194.2857, 411.1095]], device='cuda:0')\n",
      "GT: tensor([[226.3529, 229.6320, 310.7765, 373.5680]], device='cuda:0')\n",
      "Pred: tensor([[227.4793, 198.1782, 300.3032, 395.8025]], device='cuda:0')\n",
      "GT: tensor([[226.3529, 229.6320, 310.7765, 373.5680]], device='cuda:0')\n"
     ]
    },
    {
     "name": "stderr",
     "output_type": "stream",
     "text": [
      "[2019-05-31 10:48:12,674 <ipython-input-2-7667fb18f09c>] Batch [1950/2077] mAP: 0.24331\n",
      "[2019-05-31 10:48:12,737 <ipython-input-2-7667fb18f09c>] Batch [1951/2077] mAP: 0.24336\n",
      "[2019-05-31 10:48:12,795 <ipython-input-2-7667fb18f09c>] Batch [1952/2077] mAP: 0.24331\n",
      "[2019-05-31 10:48:12,860 <ipython-input-2-7667fb18f09c>] Batch [1953/2077] mAP: 0.24322\n"
     ]
    },
    {
     "name": "stdout",
     "output_type": "stream",
     "text": [
      "Pred: tensor([[ 86.4402, 182.4123, 259.9561, 345.3066]], device='cuda:0')\n",
      "GT: tensor([[ 73.2160, 153.6577, 267.9040, 352.2883]], device='cuda:0')\n",
      "Pred: tensor([[-14.0144, 126.4026, 169.0120, 286.3460]], device='cuda:0')\n",
      "GT: tensor([[  0.0000, 141.1652, 188.0320, 283.5796]], device='cuda:0')\n",
      "Pred: tensor([[ 15.6914,  89.8396, 324.0353, 333.1431]], device='cuda:0')\n",
      "GT: tensor([[ 13.3120,  78.7027, 269.5680, 381.0210]], device='cuda:0')\n",
      "Pred: tensor([[ 15.6914,  89.8396, 324.0353, 333.1431]], device='cuda:0')\n",
      "GT: tensor([[310.3360,  92.4444, 389.3760, 326.0540]], device='cuda:0')\n",
      "Pred: tensor([[ 15.6914,  89.8396, 324.0353, 333.1431]], device='cuda:0')\n",
      "GT: tensor([[205.5040,  51.2192, 324.4800, 258.5946]], device='cuda:0')\n",
      "Pred: tensor([[ 34.0455, 316.3898, 110.3910, 403.5053]], device='cuda:0')\n",
      "GT: tensor([[ 50.7520, 309.5040,  76.5440, 402.6880]], device='cuda:0')\n",
      "Pred: tensor([[ 52.0399, 293.4754,  89.3159, 428.3602]], device='cuda:0')\n",
      "GT: tensor([[ 50.7520, 309.5040,  76.5440, 402.6880]], device='cuda:0')\n",
      "Pred: tensor([[ 34.0455, 316.3898, 110.3910, 403.5053]], device='cuda:0')\n",
      "GT: tensor([[217.9840, 309.5040, 258.7520, 390.4853]], device='cuda:0')\n",
      "Pred: tensor([[ 52.0399, 293.4754,  89.3159, 428.3602]], device='cuda:0')\n",
      "GT: tensor([[217.9840, 309.5040, 258.7520, 390.4853]], device='cuda:0')\n"
     ]
    },
    {
     "name": "stderr",
     "output_type": "stream",
     "text": [
      "[2019-05-31 10:48:12,922 <ipython-input-2-7667fb18f09c>] Batch [1954/2077] mAP: 0.24336\n",
      "[2019-05-31 10:48:12,971 <ipython-input-2-7667fb18f09c>] Batch [1955/2077] mAP: 0.24341\n",
      "[2019-05-31 10:48:13,033 <ipython-input-2-7667fb18f09c>] Batch [1956/2077] mAP: 0.24318\n",
      "[2019-05-31 10:48:13,090 <ipython-input-2-7667fb18f09c>] Batch [1957/2077] mAP: 0.24313\n"
     ]
    },
    {
     "name": "stdout",
     "output_type": "stream",
     "text": [
      "Pred: tensor([[ -9.5049, 117.9169, 417.4093, 304.8780]], device='cuda:0')\n",
      "GT: tensor([[  9.1520, 149.0867, 398.5280, 295.7688]], device='cuda:0')\n",
      "Pred: tensor([[ 50.8361,  11.5721, 416.3528, 419.0802]], device='cuda:0')\n",
      "GT: tensor([[ 41.6000,  36.1263, 414.3360, 412.7158]], device='cuda:0')\n"
     ]
    },
    {
     "name": "stderr",
     "output_type": "stream",
     "text": [
      "[2019-05-31 10:48:13,176 <ipython-input-2-7667fb18f09c>] Batch [1958/2077] mAP: 0.24333\n",
      "[2019-05-31 10:48:13,270 <ipython-input-2-7667fb18f09c>] Batch [1959/2077] mAP: 0.24291\n",
      "[2019-05-31 10:48:13,337 <ipython-input-2-7667fb18f09c>] Batch [1960/2077] mAP: 0.24301\n"
     ]
    },
    {
     "name": "stdout",
     "output_type": "stream",
     "text": [
      "Pred: tensor([[181.3232,  98.3764, 250.5530, 391.3188]], device='cuda:0')\n",
      "GT: tensor([[176.3840, 126.3313, 225.4720, 381.5460]], device='cuda:0')\n",
      "Pred: tensor([[181.3232,  98.3764, 250.5530, 391.3188]], device='cuda:0')\n",
      "GT: tensor([[205.5040, 111.0184, 257.0880, 367.5092]], device='cuda:0')\n",
      "Pred: tensor([[306.3989, 159.0302, 358.9890, 180.7159]], device='cuda:0')\n",
      "GT: tensor([[292.8640, 149.3006, 341.1200, 182.4785]], device='cuda:0')\n",
      "Pred: tensor([[ 58.0029, 242.2130,  92.5923, 303.5661]], device='cuda:0')\n",
      "GT: tensor([[ 57.4080, 247.2889,  75.7120, 302.7556]], device='cuda:0')\n",
      "Pred: tensor([[ 58.0029, 242.2130,  92.5923, 303.5661]], device='cuda:0')\n",
      "GT: tensor([[383.5520, 246.1333, 408.5120, 320.0889]], device='cuda:0')\n",
      "Pred: tensor([[ 58.0029, 242.2130,  92.5923, 303.5661]], device='cuda:0')\n",
      "GT: tensor([[  0.0000, 241.5111,  15.8080, 307.3778]], device='cuda:0')\n",
      "Pred: tensor([[ 74.5378,  51.9393, 344.9573, 422.8510]], device='cuda:0')\n",
      "GT: tensor([[ 54.9120,   0.0000, 361.9200, 390.4853]], device='cuda:0')\n",
      "Pred: tensor([[ 74.5378,  51.9393, 344.9573, 422.8510]], device='cuda:0')\n",
      "GT: tensor([[  0.0000,   0.0000,  39.1040, 300.6293]], device='cuda:0')\n"
     ]
    },
    {
     "name": "stderr",
     "output_type": "stream",
     "text": [
      "[2019-05-31 10:48:13,394 <ipython-input-2-7667fb18f09c>] Batch [1961/2077] mAP: 0.24292\n",
      "[2019-05-31 10:48:13,453 <ipython-input-2-7667fb18f09c>] Batch [1962/2077] mAP: 0.24316\n",
      "[2019-05-31 10:48:13,498 <ipython-input-2-7667fb18f09c>] Batch [1963/2077] mAP: 0.24284\n",
      "[2019-05-31 10:48:13,566 <ipython-input-2-7667fb18f09c>] Batch [1964/2077] mAP: 0.24274\n",
      "[2019-05-31 10:48:13,634 <ipython-input-2-7667fb18f09c>] Batch [1965/2077] mAP: 0.24284\n"
     ]
    },
    {
     "name": "stdout",
     "output_type": "stream",
     "text": [
      "Pred: tensor([[ 39.7132,  60.3280, 314.0060, 298.1873]], device='cuda:0')\n",
      "GT: tensor([[284.5440,  65.4507, 415.1680, 224.0853]], device='cuda:0')\n",
      "Pred: tensor([[ 39.7132,  60.3280, 314.0060, 298.1873]], device='cuda:0')\n",
      "GT: tensor([[ 56.5760,  79.8720, 289.5360, 281.7707]], device='cuda:0')\n",
      "Pred: tensor([[270.6616, 134.2372, 345.5245, 338.2253]], device='cuda:0')\n",
      "GT: tensor([[261.2480, 138.6667, 341.9520, 319.4880]], device='cuda:0')\n",
      "Pred: tensor([[112.1027, 245.2905, 292.9081, 347.6434]], device='cuda:0')\n",
      "GT: tensor([[144.7680, 248.4907, 242.9440, 311.7227]], device='cuda:0')\n",
      "Pred: tensor([[102.2231, 104.8932, 258.3021, 365.0281]], device='cuda:0')\n",
      "GT: tensor([[ 85.6960, 109.8240, 361.9200, 414.8907]], device='cuda:0')\n",
      "Pred: tensor([[134.7524,  63.8162, 353.2747, 336.2862]], device='cuda:0')\n",
      "GT: tensor([[131.4560,  52.4685, 386.0480, 338.5465]], device='cuda:0')\n"
     ]
    },
    {
     "name": "stderr",
     "output_type": "stream",
     "text": [
      "[2019-05-31 10:48:13,721 <ipython-input-2-7667fb18f09c>] Batch [1966/2077] mAP: 0.24275\n",
      "[2019-05-31 10:48:13,782 <ipython-input-2-7667fb18f09c>] Batch [1967/2077] mAP: 0.24290\n",
      "[2019-05-31 10:48:13,863 <ipython-input-2-7667fb18f09c>] Batch [1968/2077] mAP: 0.24295\n"
     ]
    },
    {
     "name": "stdout",
     "output_type": "stream",
     "text": [
      "Pred: tensor([[281.3347, 203.0951, 376.4673, 407.9329]], device='cuda:0')\n",
      "GT: tensor([[ 29.9520,  41.0453, 232.1280, 414.8907]], device='cuda:0')\n",
      "Pred: tensor([[281.3347, 203.0951, 376.4673, 407.9329]], device='cuda:0')\n",
      "GT: tensor([[305.3440,   6.6560, 415.1680, 402.6880]], device='cuda:0')\n",
      "Pred: tensor([[281.3347, 203.0951, 376.4673, 407.9329]], device='cuda:0')\n",
      "GT: tensor([[287.0400, 206.3360, 357.7600, 414.8907]], device='cuda:0')\n",
      "Pred: tensor([[281.3347, 203.0951, 376.4673, 407.9329]], device='cuda:0')\n",
      "GT: tensor([[220.4800, 216.3200, 307.8400, 414.8907]], device='cuda:0')\n",
      "Pred: tensor([[281.3347, 203.0951, 376.4673, 407.9329]], device='cuda:0')\n",
      "GT: tensor([[  0.0000, 303.9573,  87.3600, 414.8907]], device='cuda:0')\n",
      "Pred: tensor([[121.3683, 137.4077, 251.6574, 328.2802]], device='cuda:0')\n",
      "GT: tensor([[112.3200, 121.1772, 259.5840, 342.2943]], device='cuda:0')\n",
      "Pred: tensor([[ 65.9499, 112.2954, 290.5783, 297.5223]], device='cuda:0')\n",
      "GT: tensor([[ 77.3760,  56.1270, 281.2160, 346.6667]], device='cuda:0')\n",
      "Pred: tensor([[361.6040, 183.3849, 374.1334, 220.0635]], device='cuda:0')\n",
      "GT: tensor([[366.9120, 179.9365, 380.2240, 227.8095]], device='cuda:0')\n",
      "Pred: tensor([[ 34.7914, 196.4001,  54.5260, 221.7849]], device='cuda:0')\n",
      "GT: tensor([[ 33.2800, 189.8413,  70.7200, 224.5079]], device='cuda:0')\n"
     ]
    },
    {
     "name": "stderr",
     "output_type": "stream",
     "text": [
      "[2019-05-31 10:48:13,912 <ipython-input-2-7667fb18f09c>] Batch [1969/2077] mAP: 0.24309\n",
      "[2019-05-31 10:48:14,017 <ipython-input-2-7667fb18f09c>] Batch [1970/2077] mAP: 0.24268\n",
      "[2019-05-31 10:48:14,077 <ipython-input-2-7667fb18f09c>] Batch [1971/2077] mAP: 0.24287\n"
     ]
    },
    {
     "name": "stdout",
     "output_type": "stream",
     "text": [
      "Pred: tensor([[ 44.6081,  82.0459, 371.5084, 331.8612]], device='cuda:0')\n",
      "GT: tensor([[  6.6560,  94.9183, 410.1760, 318.7380]], device='cuda:0')\n",
      "Pred: tensor([[214.5891,  94.2663, 392.1613, 322.1231]], device='cuda:0')\n",
      "GT: tensor([[267.3393, 145.6000, 342.2943, 247.1040]], device='cuda:0')\n",
      "Pred: tensor([[214.5891,  94.2663, 392.1613, 322.1231]], device='cuda:0')\n",
      "GT: tensor([[ 27.4835, 222.1440,  64.9610, 288.7040]], device='cuda:0')\n",
      "Pred: tensor([[214.5891,  94.2663, 392.1613, 322.1231]], device='cuda:0')\n",
      "GT: tensor([[103.6877, 230.4640, 131.1712, 297.8560]], device='cuda:0')\n",
      "Pred: tensor([[214.5891,  94.2663, 392.1613, 322.1231]], device='cuda:0')\n",
      "GT: tensor([[113.6817, 233.7920, 151.1592, 303.6800]], device='cuda:0')\n",
      "Pred: tensor([[214.5891,  94.2663, 392.1613, 322.1231]], device='cuda:0')\n",
      "GT: tensor([[147.4114, 228.8000, 187.3874, 305.3440]], device='cuda:0')\n",
      "Pred: tensor([[214.5891,  94.2663, 392.1613, 322.1231]], device='cuda:0')\n",
      "GT: tensor([[362.2823, 208.0000, 388.5165, 230.4640]], device='cuda:0')\n",
      "Pred: tensor([[214.5891,  94.2663, 392.1613, 322.1231]], device='cuda:0')\n",
      "GT: tensor([[396.0120, 208.0000, 414.7508, 236.2880]], device='cuda:0')\n",
      "Pred: tensor([[214.5891,  94.2663, 392.1613, 322.1231]], device='cuda:0')\n",
      "GT: tensor([[398.5105, 227.9680, 414.7508, 302.8480]], device='cuda:0')\n",
      "Pred: tensor([[  3.8464, 198.9907,  30.3093, 233.4513]], device='cuda:0')\n",
      "GT: tensor([[  0.0000, 203.0080,  24.1280, 237.3973]], device='cuda:0')\n",
      "Pred: tensor([[  3.8464, 198.9907,  30.3093, 233.4513]], device='cuda:0')\n",
      "GT: tensor([[ 22.4640, 210.7733,  38.2720, 231.8507]], device='cuda:0')\n",
      "Pred: tensor([[  3.8464, 198.9907,  30.3093, 233.4513]], device='cuda:0')\n",
      "GT: tensor([[ 99.0080, 204.1173, 119.8080, 229.6320]], device='cuda:0')\n",
      "Pred: tensor([[102.9339, 155.3183, 325.1836, 304.9696]], device='cuda:0')\n",
      "GT: tensor([[ 74.8800, 151.9787, 348.6080, 282.8800]], device='cuda:0')\n"
     ]
    },
    {
     "name": "stderr",
     "output_type": "stream",
     "text": [
      "[2019-05-31 10:48:14,243 <ipython-input-2-7667fb18f09c>] Batch [1972/2077] mAP: 0.24261\n",
      "[2019-05-31 10:48:14,276 <ipython-input-2-7667fb18f09c>] Batch [1973/2077] mAP: 0.24256\n"
     ]
    },
    {
     "name": "stdout",
     "output_type": "stream",
     "text": [
      "Pred: tensor([[131.6401,  91.4725, 235.6726, 393.5058]], device='cuda:0')\n",
      "GT: tensor([[331.9680, 168.6187, 354.4320, 298.4107]], device='cuda:0')\n",
      "Pred: tensor([[209.9912,  88.6013, 323.0704, 387.2092]], device='cuda:0')\n",
      "GT: tensor([[331.9680, 168.6187, 354.4320, 298.4107]], device='cuda:0')\n",
      "Pred: tensor([[ 88.1169, 176.1086, 137.6526, 294.0148]], device='cuda:0')\n",
      "GT: tensor([[331.9680, 168.6187, 354.4320, 298.4107]], device='cuda:0')\n",
      "Pred: tensor([[131.6401,  91.4725, 235.6726, 393.5058]], device='cuda:0')\n",
      "GT: tensor([[222.1440,  98.7307, 285.3760, 368.2987]], device='cuda:0')\n",
      "Pred: tensor([[209.9912,  88.6013, 323.0704, 387.2092]], device='cuda:0')\n",
      "GT: tensor([[222.1440,  98.7307, 285.3760, 368.2987]], device='cuda:0')\n",
      "Pred: tensor([[131.6401,  91.4725, 235.6726, 393.5058]], device='cuda:0')\n",
      "GT: tensor([[138.9440, 133.1200, 188.0320, 336.1280]], device='cuda:0')\n",
      "Pred: tensor([[209.9912,  88.6013, 323.0704, 387.2092]], device='cuda:0')\n",
      "GT: tensor([[138.9440, 133.1200, 188.0320, 336.1280]], device='cuda:0')\n",
      "Pred: tensor([[ 88.1169, 176.1086, 137.6526, 294.0148]], device='cuda:0')\n",
      "GT: tensor([[138.9440, 133.1200, 188.0320, 336.1280]], device='cuda:0')\n",
      "Pred: tensor([[131.6401,  91.4725, 235.6726, 393.5058]], device='cuda:0')\n",
      "GT: tensor([[171.3920, 116.4800, 236.2880, 370.5173]], device='cuda:0')\n",
      "Pred: tensor([[131.6401,  91.4725, 235.6726, 393.5058]], device='cuda:0')\n",
      "GT: tensor([[123.1360, 191.9147, 157.2480, 266.2400]], device='cuda:0')\n",
      "Pred: tensor([[209.9912,  88.6013, 323.0704, 387.2092]], device='cuda:0')\n",
      "GT: tensor([[123.1360, 191.9147, 157.2480, 266.2400]], device='cuda:0')\n",
      "Pred: tensor([[ 88.1169, 176.1086, 137.6526, 294.0148]], device='cuda:0')\n",
      "GT: tensor([[123.1360, 191.9147, 157.2480, 266.2400]], device='cuda:0')\n",
      "Pred: tensor([[131.6401,  91.4725, 235.6726, 393.5058]], device='cuda:0')\n",
      "GT: tensor([[ 83.2000, 197.4613, 121.4720, 303.9573]], device='cuda:0')\n",
      "Pred: tensor([[209.9912,  88.6013, 323.0704, 387.2092]], device='cuda:0')\n",
      "GT: tensor([[ 83.2000, 197.4613, 121.4720, 303.9573]], device='cuda:0')\n",
      "Pred: tensor([[ 88.1169, 176.1086, 137.6526, 294.0148]], device='cuda:0')\n",
      "GT: tensor([[ 83.2000, 197.4613, 121.4720, 303.9573]], device='cuda:0')\n",
      "Pred: tensor([[131.6401,  91.4725, 235.6726, 393.5058]], device='cuda:0')\n",
      "GT: tensor([[108.1600, 180.8213, 129.7920, 250.7093]], device='cuda:0')\n",
      "Pred: tensor([[209.9912,  88.6013, 323.0704, 387.2092]], device='cuda:0')\n",
      "GT: tensor([[108.1600, 180.8213, 129.7920, 250.7093]], device='cuda:0')\n",
      "Pred: tensor([[ 88.1169, 176.1086, 137.6526, 294.0148]], device='cuda:0')\n",
      "GT: tensor([[108.1600, 180.8213, 129.7920, 250.7093]], device='cuda:0')\n",
      "Pred: tensor([[131.6401,  91.4725, 235.6726, 393.5058]], device='cuda:0')\n",
      "GT: tensor([[ 82.3680, 184.1493, 105.6640, 230.7413]], device='cuda:0')\n",
      "Pred: tensor([[209.9912,  88.6013, 323.0704, 387.2092]], device='cuda:0')\n",
      "GT: tensor([[ 82.3680, 184.1493, 105.6640, 230.7413]], device='cuda:0')\n",
      "Pred: tensor([[ 88.1169, 176.1086, 137.6526, 294.0148]], device='cuda:0')\n",
      "GT: tensor([[ 82.3680, 184.1493, 105.6640, 230.7413]], device='cuda:0')\n",
      "Pred: tensor([[131.6401,  91.4725, 235.6726, 393.5058]], device='cuda:0')\n",
      "GT: tensor([[ 51.5840, 180.8213,  75.7120, 238.5067]], device='cuda:0')\n",
      "Pred: tensor([[209.9912,  88.6013, 323.0704, 387.2092]], device='cuda:0')\n",
      "GT: tensor([[ 51.5840, 180.8213,  75.7120, 238.5067]], device='cuda:0')\n",
      "Pred: tensor([[ 88.1169, 176.1086, 137.6526, 294.0148]], device='cuda:0')\n",
      "GT: tensor([[ 51.5840, 180.8213,  75.7120, 238.5067]], device='cuda:0')\n",
      "Pred: tensor([[131.6401,  91.4725, 235.6726, 393.5058]], device='cuda:0')\n",
      "GT: tensor([[ 30.7840, 176.3840,  52.4160, 260.6933]], device='cuda:0')\n",
      "Pred: tensor([[209.9912,  88.6013, 323.0704, 387.2092]], device='cuda:0')\n",
      "GT: tensor([[ 30.7840, 176.3840,  52.4160, 260.6933]], device='cuda:0')\n",
      "Pred: tensor([[ 88.1169, 176.1086, 137.6526, 294.0148]], device='cuda:0')\n",
      "GT: tensor([[ 30.7840, 176.3840,  52.4160, 260.6933]], device='cuda:0')\n"
     ]
    },
    {
     "name": "stderr",
     "output_type": "stream",
     "text": [
      "[2019-05-31 10:48:14,336 <ipython-input-2-7667fb18f09c>] Batch [1974/2077] mAP: 0.24271\n",
      "[2019-05-31 10:48:14,387 <ipython-input-2-7667fb18f09c>] Batch [1975/2077] mAP: 0.24280\n",
      "[2019-05-31 10:48:14,443 <ipython-input-2-7667fb18f09c>] Batch [1976/2077] mAP: 0.24276\n",
      "[2019-05-31 10:48:14,507 <ipython-input-2-7667fb18f09c>] Batch [1977/2077] mAP: 0.24290\n"
     ]
    },
    {
     "name": "stdout",
     "output_type": "stream",
     "text": [
      "Pred: tensor([[ 22.2607,  89.1913, 453.6638, 333.6716]], device='cuda:0')\n",
      "GT: tensor([[ 29.9520,  58.7147, 376.8960, 354.7868]], device='cuda:0')\n",
      "Pred: tensor([[ 61.5806, 114.2412, 353.8813, 353.3214]], device='cuda:0')\n",
      "GT: tensor([[ 82.3680, 108.7147, 325.3120, 349.4400]], device='cuda:0')\n",
      "Pred: tensor([[108.5990,  22.5536, 292.3085, 254.6808]], device='cuda:0')\n",
      "GT: tensor([[161.4080,  37.7173, 225.4720, 246.2720]], device='cuda:0')\n",
      "Pred: tensor([[119.2221, 134.0729, 288.9579, 331.6189]], device='cuda:0')\n",
      "GT: tensor([[ 98.1760, 135.3387, 310.3360, 311.7227]], device='cuda:0')\n"
     ]
    },
    {
     "name": "stderr",
     "output_type": "stream",
     "text": [
      "[2019-05-31 10:48:14,558 <ipython-input-2-7667fb18f09c>] Batch [1978/2077] mAP: 0.24304\n",
      "[2019-05-31 10:48:14,611 <ipython-input-2-7667fb18f09c>] Batch [1979/2077] mAP: 0.24291\n",
      "[2019-05-31 10:48:14,707 <ipython-input-2-7667fb18f09c>] Batch [1980/2077] mAP: 0.24245\n"
     ]
    },
    {
     "name": "stdout",
     "output_type": "stream",
     "text": [
      "Pred: tensor([[  4.9740,  -7.3804, 357.0226, 414.3331]], device='cuda:0')\n",
      "GT: tensor([[ 15.4074,  20.8000, 403.1605, 415.1680]], device='cuda:0')\n",
      "Pred: tensor([[109.0340,  46.7864, 307.0146, 258.2770]], device='cuda:0')\n",
      "GT: tensor([[ 0.0000, 16.3137, 19.9680, 81.5686]], device='cuda:0')\n",
      "Pred: tensor([[109.0340,  46.7864, 307.0146, 258.2770]], device='cuda:0')\n",
      "GT: tensor([[ 12.4800,   8.1569,  54.0800, 175.3725]], device='cuda:0')\n",
      "Pred: tensor([[109.0340,  46.7864, 307.0146, 258.2770]], device='cuda:0')\n",
      "GT: tensor([[ 60.7360,   0.0000, 100.6720, 188.9673]], device='cuda:0')\n",
      "Pred: tensor([[109.0340,  46.7864, 307.0146, 258.2770]], device='cuda:0')\n",
      "GT: tensor([[120.6400,   9.5163, 160.5760, 123.7124]], device='cuda:0')\n",
      "Pred: tensor([[109.0340,  46.7864, 307.0146, 258.2770]], device='cuda:0')\n",
      "GT: tensor([[171.3920,  44.8627, 239.6160, 274.6144]], device='cuda:0')\n",
      "Pred: tensor([[109.0340,  46.7864, 307.0146, 258.2770]], device='cuda:0')\n",
      "GT: tensor([[227.1360,  63.8954, 264.5760, 259.6601]], device='cuda:0')\n",
      "Pred: tensor([[109.0340,  46.7864, 307.0146, 258.2770]], device='cuda:0')\n",
      "GT: tensor([[254.5920,  23.1111, 297.8560, 209.3595]], device='cuda:0')\n",
      "Pred: tensor([[109.0340,  46.7864, 307.0146, 258.2770]], device='cuda:0')\n",
      "GT: tensor([[285.3760,  12.2353, 353.6000, 216.1569]], device='cuda:0')\n",
      "Pred: tensor([[109.0340,  46.7864, 307.0146, 258.2770]], device='cuda:0')\n",
      "GT: tensor([[352.7680,  16.3137, 386.8800, 229.7516]], device='cuda:0')\n",
      "Pred: tensor([[109.0340,  46.7864, 307.0146, 258.2770]], device='cuda:0')\n",
      "GT: tensor([[371.9040,   0.0000, 415.1680, 251.5033]], device='cuda:0')\n"
     ]
    },
    {
     "name": "stderr",
     "output_type": "stream",
     "text": [
      "[2019-05-31 10:48:14,760 <ipython-input-2-7667fb18f09c>] Batch [1981/2077] mAP: 0.24236\n",
      "[2019-05-31 10:48:14,812 <ipython-input-2-7667fb18f09c>] Batch [1982/2077] mAP: 0.24231\n",
      "[2019-05-31 10:48:14,854 <ipython-input-2-7667fb18f09c>] Batch [1983/2077] mAP: 0.24217\n",
      "[2019-05-31 10:48:14,946 <ipython-input-2-7667fb18f09c>] Batch [1984/2077] mAP: 0.24232\n",
      "[2019-05-31 10:48:14,986 <ipython-input-2-7667fb18f09c>] Batch [1985/2077] mAP: 0.24228\n",
      "[2019-05-31 10:48:15,047 <ipython-input-2-7667fb18f09c>] Batch [1986/2077] mAP: 0.24233\n",
      "[2019-05-31 10:48:15,105 <ipython-input-2-7667fb18f09c>] Batch [1987/2077] mAP: 0.24242\n"
     ]
    },
    {
     "name": "stdout",
     "output_type": "stream",
     "text": [
      "Pred: tensor([[204.4670, 263.7397, 267.4583, 358.4623]], device='cuda:0')\n",
      "GT: tensor([[202.1760, 253.5976, 248.7680, 379.7718]], device='cuda:0')\n",
      "Pred: tensor([[204.4670, 263.7397, 267.4583, 358.4623]], device='cuda:0')\n",
      "GT: tensor([[  8.3200, 244.8529,  67.3920, 402.2583]], device='cuda:0')\n",
      "Pred: tensor([[204.4670, 263.7397, 267.4583, 358.4623]], device='cuda:0')\n",
      "GT: tensor([[356.9280, 358.5345, 415.1680, 404.7567]], device='cuda:0')\n",
      "Pred: tensor([[204.4670, 263.7397, 267.4583, 358.4623]], device='cuda:0')\n",
      "GT: tensor([[371.9040, 377.2733, 415.1680, 414.7508]], device='cuda:0')\n",
      "Pred: tensor([[226.0136,  92.2070, 307.9451, 378.3450]], device='cuda:0')\n",
      "GT: tensor([[232.1280, 106.1862, 285.3760, 398.5105]], device='cuda:0')\n",
      "Pred: tensor([[153.5725, 168.0864, 282.1863, 371.6883]], device='cuda:0')\n",
      "GT: tensor([[156.4160, 151.9787, 279.5520, 414.8907]], device='cuda:0')\n",
      "Pred: tensor([[  7.2212, 147.9584,  87.0785, 381.1055]], device='cuda:0')\n",
      "GT: tensor([[104.0000,   0.0000, 396.8640, 365.7931]], device='cuda:0')\n",
      "Pred: tensor([[  7.2212, 147.9584,  87.0785, 381.1055]], device='cuda:0')\n",
      "GT: tensor([[  0.0000, 117.1494, 103.1680, 414.8046]], device='cuda:0')\n"
     ]
    },
    {
     "name": "stderr",
     "output_type": "stream",
     "text": [
      "[2019-05-31 10:48:15,203 <ipython-input-2-7667fb18f09c>] Batch [1988/2077] mAP: 0.24262\n",
      "[2019-05-31 10:48:15,270 <ipython-input-2-7667fb18f09c>] Batch [1989/2077] mAP: 0.24234\n",
      "[2019-05-31 10:48:15,328 <ipython-input-2-7667fb18f09c>] Batch [1990/2077] mAP: 0.24249\n"
     ]
    },
    {
     "name": "stdout",
     "output_type": "stream",
     "text": [
      "Pred: tensor([[146.1967, 149.1527, 340.9796, 263.7735]], device='cuda:0')\n",
      "GT: tensor([[153.0880, 158.6546, 338.6240, 267.3393]], device='cuda:0')\n",
      "Pred: tensor([[ 37.9923, 192.2809, 108.8754, 247.5759]], device='cuda:0')\n",
      "GT: tensor([[ 29.1200, 201.1291, 111.4880, 247.3513]], device='cuda:0')\n",
      "Pred: tensor([[ 37.9923, 192.2809, 108.8754, 247.5759]], device='cuda:0')\n",
      "GT: tensor([[341.1200, 188.6366, 387.7120, 222.3664]], device='cuda:0')\n",
      "Pred: tensor([[352.5950, 198.1719, 382.4323, 219.3720]], device='cuda:0')\n",
      "GT: tensor([[341.1200, 188.6366, 387.7120, 222.3664]], device='cuda:0')\n",
      "Pred: tensor([[ 28.9393, 199.4194,  78.8588, 239.9913]], device='cuda:0')\n",
      "GT: tensor([[341.1200, 188.6366, 387.7120, 222.3664]], device='cuda:0')\n",
      "Pred: tensor([[ 37.9923, 192.2809, 108.8754, 247.5759]], device='cuda:0')\n",
      "GT: tensor([[383.5520, 193.6336, 408.5120, 222.3664]], device='cuda:0')\n",
      "Pred: tensor([[352.5950, 198.1719, 382.4323, 219.3720]], device='cuda:0')\n",
      "GT: tensor([[383.5520, 193.6336, 408.5120, 222.3664]], device='cuda:0')\n",
      "Pred: tensor([[ 28.9393, 199.4194,  78.8588, 239.9913]], device='cuda:0')\n",
      "GT: tensor([[383.5520, 193.6336, 408.5120, 222.3664]], device='cuda:0')\n",
      "Pred: tensor([[116.8704,  62.4441, 251.5706, 366.2930]], device='cuda:0')\n",
      "GT: tensor([[ 92.4444,  80.0000, 254.2222, 358.0000]], device='cuda:0')\n"
     ]
    },
    {
     "name": "stderr",
     "output_type": "stream",
     "text": [
      "[2019-05-31 10:48:15,387 <ipython-input-2-7667fb18f09c>] Batch [1991/2077] mAP: 0.24244\n",
      "[2019-05-31 10:48:15,444 <ipython-input-2-7667fb18f09c>] Batch [1992/2077] mAP: 0.24213\n",
      "[2019-05-31 10:48:15,515 <ipython-input-2-7667fb18f09c>] Batch [1993/2077] mAP: 0.24190\n",
      "[2019-05-31 10:48:15,555 <ipython-input-2-7667fb18f09c>] Batch [1994/2077] mAP: 0.24186\n",
      "[2019-05-31 10:48:15,605 <ipython-input-2-7667fb18f09c>] Batch [1995/2077] mAP: 0.24200\n"
     ]
    },
    {
     "name": "stdout",
     "output_type": "stream",
     "text": [
      "Pred: tensor([[138.2829, 245.1807, 280.2492, 415.6671]], device='cuda:0')\n",
      "GT: tensor([[129.7920, 249.8462, 265.4080, 391.3846]], device='cuda:0')\n",
      "Pred: tensor([[210.7740, 162.9909, 324.7887, 317.4604]], device='cuda:0')\n",
      "GT: tensor([[245.4400, 150.8693, 308.6720, 295.0827]], device='cuda:0')\n",
      "Pred: tensor([[210.7740, 162.9909, 324.7887, 317.4604]], device='cuda:0')\n",
      "GT: tensor([[202.1760, 144.2133, 256.2560, 276.2240]], device='cuda:0')\n",
      "Pred: tensor([[210.7740, 162.9909, 324.7887, 317.4604]], device='cuda:0')\n",
      "GT: tensor([[302.8480, 127.5733, 322.8160, 232.9600]], device='cuda:0')\n",
      "Pred: tensor([[  8.9874, 162.9898, 142.8422, 267.9472]], device='cuda:0')\n",
      "GT: tensor([[  4.9920, 161.9627, 125.6320, 269.5680]], device='cuda:0')\n"
     ]
    },
    {
     "name": "stderr",
     "output_type": "stream",
     "text": [
      "[2019-05-31 10:48:15,657 <ipython-input-2-7667fb18f09c>] Batch [1996/2077] mAP: 0.24191\n",
      "[2019-05-31 10:48:15,719 <ipython-input-2-7667fb18f09c>] Batch [1997/2077] mAP: 0.24205\n",
      "[2019-05-31 10:48:15,805 <ipython-input-2-7667fb18f09c>] Batch [1998/2077] mAP: 0.24210\n",
      "[2019-05-31 10:48:15,866 <ipython-input-2-7667fb18f09c>] Batch [1999/2077] mAP: 0.24224\n"
     ]
    },
    {
     "name": "stdout",
     "output_type": "stream",
     "text": [
      "Pred: tensor([[ 45.9544,  19.4782, 370.4389, 391.6631]], device='cuda:0')\n",
      "GT: tensor([[ 31.6160,  18.7541, 390.2080, 381.9016]], device='cuda:0')\n",
      "Pred: tensor([[273.3757, 183.2254, 378.9512, 309.6692]], device='cuda:0')\n",
      "GT: tensor([[210.4960, 112.4324, 415.1680, 392.2643]], device='cuda:0')\n",
      "Pred: tensor([[203.1357, 103.9369, 418.8852, 386.8766]], device='cuda:0')\n",
      "GT: tensor([[210.4960, 112.4324, 415.1680, 392.2643]], device='cuda:0')\n",
      "Pred: tensor([[273.3757, 183.2254, 378.9512, 309.6692]], device='cuda:0')\n",
      "GT: tensor([[ 53.2480,  23.7357, 414.3360, 241.1051]], device='cuda:0')\n",
      "Pred: tensor([[203.1357, 103.9369, 418.8852, 386.8766]], device='cuda:0')\n",
      "GT: tensor([[ 53.2480,  23.7357, 414.3360, 241.1051]], device='cuda:0')\n",
      "Pred: tensor([[251.9437, 134.4119, 402.8241, 353.1033]], device='cuda:0')\n",
      "GT: tensor([[306.1760, 198.6306, 339.4560, 243.6036]], device='cuda:0')\n",
      "Pred: tensor([[283.5361, 170.6181, 367.3354, 297.1030]], device='cuda:0')\n",
      "GT: tensor([[306.1760, 198.6306, 339.4560, 243.6036]], device='cuda:0')\n",
      "Pred: tensor([[116.9780,  87.1255, 175.4044, 257.3151]], device='cuda:0')\n",
      "GT: tensor([[117.3120,  90.9653, 180.5440, 228.5227]], device='cuda:0')\n"
     ]
    },
    {
     "name": "stderr",
     "output_type": "stream",
     "text": [
      "[2019-05-31 10:48:15,934 <ipython-input-2-7667fb18f09c>] Batch [2000/2077] mAP: 0.24234\n",
      "[2019-05-31 10:48:15,973 <ipython-input-2-7667fb18f09c>] Batch [2001/2077] mAP: 0.24229\n",
      "[2019-05-31 10:48:16,058 <ipython-input-2-7667fb18f09c>] Batch [2002/2077] mAP: 0.24225\n",
      "[2019-05-31 10:48:16,102 <ipython-input-2-7667fb18f09c>] Batch [2003/2077] mAP: 0.24216\n"
     ]
    },
    {
     "name": "stdout",
     "output_type": "stream",
     "text": [
      "Pred: tensor([[ 19.3692, 128.6755, 151.5996, 287.6103]], device='cuda:0')\n",
      "GT: tensor([[  0.0000, 127.2960, 194.1333, 295.3600]], device='cuda:0')\n",
      "Pred: tensor([[ 94.7648,  84.1658, 132.8123, 133.7067]], device='cuda:0')\n",
      "GT: tensor([[104.2773, 131.4560, 414.8907, 415.1680]], device='cuda:0')\n",
      "Pred: tensor([[129.6319,  95.9651, 234.2313, 366.2579]], device='cuda:0')\n",
      "GT: tensor([[282.0480, 127.5238, 415.1680, 310.7619]], device='cuda:0')\n",
      "Pred: tensor([[129.6319,  95.9651, 234.2313, 366.2579]], device='cuda:0')\n",
      "GT: tensor([[224.6400, 142.3810, 295.3600, 345.4286]], device='cuda:0')\n",
      "Pred: tensor([[129.6319,  95.9651, 234.2313, 366.2579]], device='cuda:0')\n",
      "GT: tensor([[119.8080, 121.3333, 235.4560, 341.7143]], device='cuda:0')\n",
      "Pred: tensor([[129.6319,  95.9651, 234.2313, 366.2579]], device='cuda:0')\n",
      "GT: tensor([[ 57.4080, 148.5714, 151.4240, 386.2857]], device='cuda:0')\n",
      "Pred: tensor([[129.6319,  95.9651, 234.2313, 366.2579]], device='cuda:0')\n",
      "GT: tensor([[  0.0000, 147.3333,  82.3680, 372.6667]], device='cuda:0')\n",
      "Pred: tensor([[130.3594, 164.5692, 279.9666, 367.4844]], device='cuda:0')\n",
      "GT: tensor([[  0.0000,   0.0000, 280.3840, 414.7470]], device='cuda:0')\n"
     ]
    },
    {
     "name": "stderr",
     "output_type": "stream",
     "text": [
      "[2019-05-31 10:48:16,136 <ipython-input-2-7667fb18f09c>] Batch [2004/2077] mAP: 0.24212\n",
      "[2019-05-31 10:48:16,198 <ipython-input-2-7667fb18f09c>] Batch [2005/2077] mAP: 0.24236\n",
      "[2019-05-31 10:48:16,256 <ipython-input-2-7667fb18f09c>] Batch [2006/2077] mAP: 0.24250\n",
      "[2019-05-31 10:48:16,298 <ipython-input-2-7667fb18f09c>] Batch [2007/2077] mAP: 0.24223\n",
      "[2019-05-31 10:48:16,353 <ipython-input-2-7667fb18f09c>] Batch [2008/2077] mAP: 0.24218\n"
     ]
    },
    {
     "name": "stdout",
     "output_type": "stream",
     "text": [
      "Pred: tensor([[  4.5560, 100.2066, 404.1873, 376.5276]], device='cuda:0')\n",
      "GT: tensor([[ 26.6240,  95.4027, 366.0800, 380.5013]], device='cuda:0')\n",
      "Pred: tensor([[  4.5560, 100.2066, 404.1873, 376.5276]], device='cuda:0')\n",
      "GT: tensor([[329.4720,  76.5440, 353.6000,  89.8560]], device='cuda:0')\n",
      "Pred: tensor([[322.8139,  74.5964, 354.3986,  88.9643]], device='cuda:0')\n",
      "GT: tensor([[329.4720,  76.5440, 353.6000,  89.8560]], device='cuda:0')\n",
      "Pred: tensor([[  4.5560, 100.2066, 404.1873, 376.5276]], device='cuda:0')\n",
      "GT: tensor([[351.9360,  73.2160, 372.7360,  87.6373]], device='cuda:0')\n",
      "Pred: tensor([[322.8139,  74.5964, 354.3986,  88.9643]], device='cuda:0')\n",
      "GT: tensor([[351.9360,  73.2160, 372.7360,  87.6373]], device='cuda:0')\n",
      "Pred: tensor([[348.8556,  75.9504, 378.8124,  93.6016]], device='cuda:0')\n",
      "GT: tensor([[351.9360,  73.2160, 372.7360,  87.6373]], device='cuda:0')\n",
      "Pred: tensor([[199.7586, 181.5233, 358.7914, 365.8879]], device='cuda:0')\n",
      "GT: tensor([[206.3360, 178.6503, 355.2640, 377.7178]], device='cuda:0')\n"
     ]
    },
    {
     "name": "stderr",
     "output_type": "stream",
     "text": [
      "[2019-05-31 10:48:16,406 <ipython-input-2-7667fb18f09c>] Batch [2009/2077] mAP: 0.24232\n",
      "[2019-05-31 10:48:16,470 <ipython-input-2-7667fb18f09c>] Batch [2010/2077] mAP: 0.24210\n",
      "[2019-05-31 10:48:16,549 <ipython-input-2-7667fb18f09c>] Batch [2011/2077] mAP: 0.24201\n",
      "[2019-05-31 10:48:16,596 <ipython-input-2-7667fb18f09c>] Batch [2012/2077] mAP: 0.24197\n"
     ]
    },
    {
     "name": "stdout",
     "output_type": "stream",
     "text": [
      "Pred: tensor([[135.7618,  89.0234, 277.6262, 275.1583]], device='cuda:0')\n",
      "GT: tensor([[108.9920,  97.6526, 287.8720, 289.0516]], device='cuda:0')\n",
      "Pred: tensor([[184.5177, 194.9110, 300.0560, 348.6006]], device='cuda:0')\n",
      "GT: tensor([[218.8160, 251.8187, 292.0320, 328.3627]], device='cuda:0')\n",
      "Pred: tensor([[337.9089, 253.9761, 385.8510, 466.1945]], device='cuda:0')\n",
      "GT: tensor([[228.8000, 209.6640, 271.2320, 290.6453]], device='cuda:0')\n",
      "Pred: tensor([[337.9089, 253.9761, 385.8510, 466.1945]], device='cuda:0')\n",
      "GT: tensor([[349.4400, 306.1760, 391.0400, 414.8907]], device='cuda:0')\n",
      "Pred: tensor([[337.9089, 253.9761, 385.8510, 466.1945]], device='cuda:0')\n",
      "GT: tensor([[386.0480, 280.6613, 403.5200, 354.9867]], device='cuda:0')\n",
      "Pred: tensor([[337.9089, 253.9761, 385.8510, 466.1945]], device='cuda:0')\n",
      "GT: tensor([[249.6000, 331.6907, 265.4080, 353.8773]], device='cuda:0')\n",
      "Pred: tensor([[ 41.4513,  38.9369, 372.0508, 368.9843]], device='cuda:0')\n",
      "GT: tensor([[ 98.1760,  34.8743, 323.6480, 373.6527]], device='cuda:0')\n",
      "Pred: tensor([[359.4779,  75.0782, 423.0998, 208.6674]], device='cuda:0')\n",
      "GT: tensor([[334.4640,  63.5210, 356.0960, 146.9701]], device='cuda:0')\n",
      "Pred: tensor([[323.2516,  78.2498, 348.7402, 146.8770]], device='cuda:0')\n",
      "GT: tensor([[334.4640,  63.5210, 356.0960, 146.9701]], device='cuda:0')\n",
      "Pred: tensor([[359.4779,  75.0782, 423.0998, 208.6674]], device='cuda:0')\n",
      "GT: tensor([[346.1120,  70.9940, 375.2320, 179.3533]], device='cuda:0')\n",
      "Pred: tensor([[323.2516,  78.2498, 348.7402, 146.8770]], device='cuda:0')\n",
      "GT: tensor([[346.1120,  70.9940, 375.2320, 179.3533]], device='cuda:0')\n",
      "Pred: tensor([[359.4779,  75.0782, 423.0998, 208.6674]], device='cuda:0')\n",
      "GT: tensor([[387.7120,  38.6108, 415.1680, 220.4551]], device='cuda:0')\n",
      "Pred: tensor([[323.2516,  78.2498, 348.7402, 146.8770]], device='cuda:0')\n",
      "GT: tensor([[387.7120,  38.6108, 415.1680, 220.4551]], device='cuda:0')\n",
      "Pred: tensor([[ 41.4513,  38.9369, 372.0508, 368.9843]], device='cuda:0')\n",
      "GT: tensor([[  0.0000, 115.8323,  81.5360, 163.1617]], device='cuda:0')\n",
      "Pred: tensor([[ 41.4513,  38.9369, 372.0508, 368.9843]], device='cuda:0')\n",
      "GT: tensor([[371.0720,  79.7126, 394.3680, 184.3353]], device='cuda:0')\n",
      "Pred: tensor([[119.5238, 184.7280, 217.2026, 300.6748]], device='cuda:0')\n",
      "GT: tensor([[  0.0000, 119.8080, 193.8560, 414.8907]], device='cuda:0')\n",
      "Pred: tensor([[ 71.5227, 129.7584, 269.3706, 349.6020]], device='cuda:0')\n",
      "GT: tensor([[  0.0000, 119.8080, 193.8560, 414.8907]], device='cuda:0')\n"
     ]
    },
    {
     "name": "stderr",
     "output_type": "stream",
     "text": [
      "[2019-05-31 10:48:16,652 <ipython-input-2-7667fb18f09c>] Batch [2013/2077] mAP: 0.24188\n",
      "[2019-05-31 10:48:16,781 <ipython-input-2-7667fb18f09c>] Batch [2014/2077] mAP: 0.24217\n",
      "[2019-05-31 10:48:16,850 <ipython-input-2-7667fb18f09c>] Batch [2015/2077] mAP: 0.24245\n"
     ]
    },
    {
     "name": "stdout",
     "output_type": "stream",
     "text": [
      "Pred: tensor([[187.4312, 229.6683, 351.2714, 380.0366]], device='cuda:0')\n",
      "GT: tensor([[ 16.6400,  79.8720, 194.6880, 414.8907]], device='cuda:0')\n",
      "Pred: tensor([[234.5481,  37.3235, 259.0331, 118.3269]], device='cuda:0')\n",
      "GT: tensor([[ 16.6400,  79.8720, 194.6880, 414.8907]], device='cuda:0')\n",
      "Pred: tensor([[ 24.6010, 102.1517, 207.2333, 371.3315]], device='cuda:0')\n",
      "GT: tensor([[ 16.6400,  79.8720, 194.6880, 414.8907]], device='cuda:0')\n",
      "Pred: tensor([[187.4312, 229.6683, 351.2714, 380.0366]], device='cuda:0')\n",
      "GT: tensor([[  0.0000,  73.2160,  18.3040, 102.0587]], device='cuda:0')\n",
      "Pred: tensor([[234.5481,  37.3235, 259.0331, 118.3269]], device='cuda:0')\n",
      "GT: tensor([[  0.0000,  73.2160,  18.3040, 102.0587]], device='cuda:0')\n",
      "Pred: tensor([[ 24.6010, 102.1517, 207.2333, 371.3315]], device='cuda:0')\n",
      "GT: tensor([[  0.0000,  73.2160,  18.3040, 102.0587]], device='cuda:0')\n",
      "Pred: tensor([[187.4312, 229.6683, 351.2714, 380.0366]], device='cuda:0')\n",
      "GT: tensor([[238.7840,  34.3893, 269.5680, 120.9173]], device='cuda:0')\n",
      "Pred: tensor([[234.5481,  37.3235, 259.0331, 118.3269]], device='cuda:0')\n",
      "GT: tensor([[238.7840,  34.3893, 269.5680, 120.9173]], device='cuda:0')\n",
      "Pred: tensor([[187.4312, 229.6683, 351.2714, 380.0366]], device='cuda:0')\n",
      "GT: tensor([[198.0160, 197.4613, 327.8080, 414.8907]], device='cuda:0')\n",
      "Pred: tensor([[187.4312, 229.6683, 351.2714, 380.0366]], device='cuda:0')\n",
      "GT: tensor([[216.3200,  69.8880, 400.1920, 414.8907]], device='cuda:0')\n",
      "Pred: tensor([[234.5481,  37.3235, 259.0331, 118.3269]], device='cuda:0')\n",
      "GT: tensor([[216.3200,  69.8880, 400.1920, 414.8907]], device='cuda:0')\n",
      "Pred: tensor([[ 24.6010, 102.1517, 207.2333, 371.3315]], device='cuda:0')\n",
      "GT: tensor([[216.3200,  69.8880, 400.1920, 414.8907]], device='cuda:0')\n",
      "Pred: tensor([[187.4312, 229.6683, 351.2714, 380.0366]], device='cuda:0')\n",
      "GT: tensor([[ 85.6960,  61.0133, 192.1920, 414.8907]], device='cuda:0')\n",
      "Pred: tensor([[234.5481,  37.3235, 259.0331, 118.3269]], device='cuda:0')\n",
      "GT: tensor([[ 85.6960,  61.0133, 192.1920, 414.8907]], device='cuda:0')\n",
      "Pred: tensor([[ 24.6010, 102.1517, 207.2333, 371.3315]], device='cuda:0')\n",
      "GT: tensor([[ 85.6960,  61.0133, 192.1920, 414.8907]], device='cuda:0')\n",
      "Pred: tensor([[122.8685, 134.2044, 355.1290, 392.0549]], device='cuda:0')\n",
      "GT: tensor([[122.3040,  98.7119, 373.5680, 373.6949]], device='cuda:0')\n",
      "Pred: tensor([[165.2346,  22.5340, 323.3638, 382.5663]], device='cuda:0')\n",
      "GT: tensor([[168.0640,  28.2034, 315.3280, 313.7627]], device='cuda:0')\n"
     ]
    },
    {
     "name": "stderr",
     "output_type": "stream",
     "text": [
      "[2019-05-31 10:48:16,915 <ipython-input-2-7667fb18f09c>] Batch [2016/2077] mAP: 0.24259\n",
      "[2019-05-31 10:48:16,960 <ipython-input-2-7667fb18f09c>] Batch [2017/2077] mAP: 0.24254\n",
      "[2019-05-31 10:48:17,025 <ipython-input-2-7667fb18f09c>] Batch [2018/2077] mAP: 0.24250\n",
      "[2019-05-31 10:48:17,091 <ipython-input-2-7667fb18f09c>] Batch [2019/2077] mAP: 0.24274\n"
     ]
    },
    {
     "name": "stdout",
     "output_type": "stream",
     "text": [
      "Pred: tensor([[ 53.4006,  57.8772, 222.9066, 417.9173]], device='cuda:0')\n",
      "GT: tensor([[ 43.2640,  57.4655, 207.1680, 414.7508]], device='cuda:0')\n",
      "Pred: tensor([[194.0284,  55.3061, 295.1544, 342.7666]], device='cuda:0')\n",
      "GT: tensor([[202.1760,  77.6533, 309.5040, 312.8320]], device='cuda:0')\n",
      "Pred: tensor([[316.4243,  55.6878, 414.4100, 160.1895]], device='cuda:0')\n",
      "GT: tensor([[306.1760,  61.0133, 415.1680, 123.1360]], device='cuda:0')\n",
      "Pred: tensor([[316.4243,  55.6878, 414.4100, 160.1895]], device='cuda:0')\n",
      "GT: tensor([[176.3840,  54.3573, 230.4640,  84.3093]], device='cuda:0')\n",
      "Pred: tensor([[ -7.2286, 161.6777, 418.0781, 306.9339]], device='cuda:0')\n",
      "GT: tensor([[176.3840,  54.3573, 230.4640,  84.3093]], device='cuda:0')\n",
      "Pred: tensor([[316.4243,  55.6878, 414.4100, 160.1895]], device='cuda:0')\n",
      "GT: tensor([[ 13.3120, 105.3867, 392.7040, 299.5200]], device='cuda:0')\n",
      "Pred: tensor([[ -7.2286, 161.6777, 418.0781, 306.9339]], device='cuda:0')\n",
      "GT: tensor([[ 13.3120, 105.3867, 392.7040, 299.5200]], device='cuda:0')\n"
     ]
    },
    {
     "name": "stderr",
     "output_type": "stream",
     "text": [
      "[2019-05-31 10:48:17,143 <ipython-input-2-7667fb18f09c>] Batch [2020/2077] mAP: 0.24269\n",
      "[2019-05-31 10:48:17,198 <ipython-input-2-7667fb18f09c>] Batch [2021/2077] mAP: 0.24279\n",
      "[2019-05-31 10:48:17,257 <ipython-input-2-7667fb18f09c>] Batch [2022/2077] mAP: 0.24274\n",
      "[2019-05-31 10:48:17,320 <ipython-input-2-7667fb18f09c>] Batch [2023/2077] mAP: 0.24275\n",
      "[2019-05-31 10:48:17,368 <ipython-input-2-7667fb18f09c>] Batch [2024/2077] mAP: 0.24280\n"
     ]
    },
    {
     "name": "stdout",
     "output_type": "stream",
     "text": [
      "Pred: tensor([[ 32.1332,  30.0137, 388.5164, 387.2394]], device='cuda:0')\n",
      "GT: tensor([[  0.0000,  52.1387, 176.3840, 268.4587]], device='cuda:0')\n",
      "Pred: tensor([[ 32.1332,  30.0137, 388.5164, 387.2394]], device='cuda:0')\n",
      "GT: tensor([[ 18.3040,   0.0000, 414.3360, 407.1253]], device='cuda:0')\n",
      "Pred: tensor([[ 97.2474,  22.4268, 127.9365, 119.8707]], device='cuda:0')\n",
      "GT: tensor([[ 89.0240,   0.0000, 125.6320, 124.2453]], device='cuda:0')\n",
      "Pred: tensor([[ 11.9857, 114.6881,  82.2810, 380.6904]], device='cuda:0')\n",
      "GT: tensor([[  0.0000, 122.0267, 101.5040, 414.8907]], device='cuda:0')\n"
     ]
    },
    {
     "name": "stderr",
     "output_type": "stream",
     "text": [
      "[2019-05-31 10:48:17,419 <ipython-input-2-7667fb18f09c>] Batch [2025/2077] mAP: 0.24271\n",
      "[2019-05-31 10:48:17,464 <ipython-input-2-7667fb18f09c>] Batch [2026/2077] mAP: 0.24249\n",
      "[2019-05-31 10:48:17,547 <ipython-input-2-7667fb18f09c>] Batch [2027/2077] mAP: 0.24263\n",
      "[2019-05-31 10:48:17,593 <ipython-input-2-7667fb18f09c>] Batch [2028/2077] mAP: 0.24259\n",
      "[2019-05-31 10:48:17,648 <ipython-input-2-7667fb18f09c>] Batch [2029/2077] mAP: 0.24227\n"
     ]
    },
    {
     "name": "stdout",
     "output_type": "stream",
     "text": [
      "Pred: tensor([[209.3980, 106.8758, 326.6781, 371.5584]], device='cuda:0')\n",
      "GT: tensor([[ 34.3893, 102.3360, 234.0693, 386.8800]], device='cuda:0')\n",
      "Pred: tensor([[ 69.6192,  81.5469, 222.9766, 413.2941]], device='cuda:0')\n",
      "GT: tensor([[ 34.3893, 102.3360, 234.0693, 386.8800]], device='cuda:0')\n",
      "Pred: tensor([[209.3980, 106.8758, 326.6781, 371.5584]], device='cuda:0')\n",
      "GT: tensor([[218.5387, 110.6560, 329.4720, 360.2560]], device='cuda:0')\n",
      "Pred: tensor([[219.0191, 127.4394, 259.2122, 163.7412]], device='cuda:0')\n",
      "GT: tensor([[180.8213, 148.9280, 224.0853, 171.3920]], device='cuda:0')\n",
      "Pred: tensor([[319.6221, 132.0186, 348.1978, 162.9830]], device='cuda:0')\n",
      "GT: tensor([[180.8213, 148.9280, 224.0853, 171.3920]], device='cuda:0')\n",
      "Pred: tensor([[219.0191, 127.4394, 259.2122, 163.7412]], device='cuda:0')\n",
      "GT: tensor([[317.2693, 143.1040, 358.3147, 163.9040]], device='cuda:0')\n",
      "Pred: tensor([[319.6221, 132.0186, 348.1978, 162.9830]], device='cuda:0')\n",
      "GT: tensor([[317.2693, 143.1040, 358.3147, 163.9040]], device='cuda:0')\n",
      "Pred: tensor([[219.0191, 127.4394, 259.2122, 163.7412]], device='cuda:0')\n",
      "GT: tensor([[238.5067, 135.6160, 281.7707, 157.2480]], device='cuda:0')\n",
      "Pred: tensor([[319.6221, 132.0186, 348.1978, 162.9830]], device='cuda:0')\n",
      "GT: tensor([[238.5067, 135.6160, 281.7707, 157.2480]], device='cuda:0')\n",
      "Pred: tensor([[105.8452, 228.7374, 124.1321, 247.6760]], device='cuda:0')\n",
      "GT: tensor([[ 93.1840, 225.4371, 128.1280, 244.1198]], device='cuda:0')\n",
      "Pred: tensor([[ 76.5337,  67.6198, 393.5698, 401.3440]], device='cuda:0')\n",
      "GT: "
     ]
    },
    {
     "name": "stderr",
     "output_type": "stream",
     "text": [
      "[2019-05-31 10:48:17,710 <ipython-input-2-7667fb18f09c>] Batch [2030/2077] mAP: 0.24241\n",
      "[2019-05-31 10:48:17,786 <ipython-input-2-7667fb18f09c>] Batch [2031/2077] mAP: 0.24251\n",
      "[2019-05-31 10:48:17,840 <ipython-input-2-7667fb18f09c>] Batch [2032/2077] mAP: 0.24242\n",
      "[2019-05-31 10:48:17,886 <ipython-input-2-7667fb18f09c>] Batch [2033/2077] mAP: 0.24233\n"
     ]
    },
    {
     "name": "stdout",
     "output_type": "stream",
     "text": [
      "tensor([[ 39.9360,   4.9970, 379.3920, 414.7508]], device='cuda:0')\n",
      "Pred: tensor([[ 56.6884,  27.3544, 369.1573, 389.2630]], device='cuda:0')\n",
      "GT: tensor([[ 56.5760,  23.5472, 371.0720, 377.8760]], device='cuda:0')\n",
      "Pred: tensor([[ 56.6884,  27.3544, 369.1573, 389.2630]], device='cuda:0')\n",
      "GT: tensor([[145.6000,  14.5768, 206.3360,  44.8518]], device='cuda:0')\n"
     ]
    },
    {
     "name": "stderr",
     "output_type": "stream",
     "text": [
      "[2019-05-31 10:48:17,941 <ipython-input-2-7667fb18f09c>] Batch [2034/2077] mAP: 0.24215\n",
      "[2019-05-31 10:48:17,983 <ipython-input-2-7667fb18f09c>] Batch [2035/2077] mAP: 0.24206\n",
      "[2019-05-31 10:48:18,026 <ipython-input-2-7667fb18f09c>] Batch [2036/2077] mAP: 0.24207\n",
      "[2019-05-31 10:48:18,067 <ipython-input-2-7667fb18f09c>] Batch [2037/2077] mAP: 0.24202\n",
      "[2019-05-31 10:48:18,123 <ipython-input-2-7667fb18f09c>] Batch [2038/2077] mAP: 0.24216\n",
      "[2019-05-31 10:48:18,178 <ipython-input-2-7667fb18f09c>] Batch [2039/2077] mAP: 0.24244\n"
     ]
    },
    {
     "name": "stdout",
     "output_type": "stream",
     "text": [
      "Pred: tensor([[123.5008, 202.3808, 292.5004, 393.7395]], device='cuda:0')\n",
      "GT: tensor([[115.6480, 195.6958, 302.8480, 394.9070]], device='cuda:0')\n",
      "Pred: tensor([[102.3344, 289.1002, 173.0694, 371.0967]], device='cuda:0')\n",
      "GT: tensor([[148.0960,   0.0000, 312.0000, 414.8907]], device='cuda:0')\n",
      "Pred: tensor([[140.4518,  57.4696, 263.4553, 285.0014]], device='cuda:0')\n",
      "GT: tensor([[127.2960,  44.8987, 280.3840, 258.3965]], device='cuda:0')\n",
      "Pred: tensor([[118.8973, 141.0542, 224.7009, 262.9314]], device='cuda:0')\n",
      "GT: tensor([[ 96.5120, 148.6507, 252.9280, 259.5840]], device='cuda:0')\n",
      "Pred: tensor([[217.2645, 180.2932, 331.9608, 361.3005]], device='cuda:0')\n",
      "GT: tensor([[217.9840, 220.7573, 350.2720, 331.6907]], device='cuda:0')\n"
     ]
    },
    {
     "name": "stderr",
     "output_type": "stream",
     "text": [
      "[2019-05-31 10:48:18,279 <ipython-input-2-7667fb18f09c>] Batch [2040/2077] mAP: 0.24209\n",
      "[2019-05-31 10:48:18,339 <ipython-input-2-7667fb18f09c>] Batch [2041/2077] mAP: 0.24191\n",
      "[2019-05-31 10:48:18,385 <ipython-input-2-7667fb18f09c>] Batch [2042/2077] mAP: 0.24186\n",
      "[2019-05-31 10:48:18,426 <ipython-input-2-7667fb18f09c>] Batch [2043/2077] mAP: 0.24178\n"
     ]
    },
    {
     "name": "stdout",
     "output_type": "stream",
     "text": [
      "Pred: tensor([[ 61.6058, 221.3885, 173.2654, 446.3308]], device='cuda:0')\n",
      "GT: tensor([[ 88.7467, 253.7600, 159.7440, 408.5120]], device='cuda:0')\n",
      "Pred: tensor([[ 61.6058, 221.3885, 173.2654, 446.3308]], device='cuda:0')\n",
      "GT: tensor([[  0.0000, 242.1120,  35.4987, 401.0240]], device='cuda:0')\n",
      "Pred: tensor([[ 61.6058, 221.3885, 173.2654, 446.3308]], device='cuda:0')\n",
      "GT: tensor([[ 15.5307, 252.0960,  66.5600, 390.2080]], device='cuda:0')\n",
      "Pred: tensor([[ 61.6058, 221.3885, 173.2654, 446.3308]], device='cuda:0')\n",
      "GT: tensor([[234.0693, 290.3680, 251.8187, 326.9760]], device='cuda:0')\n",
      "Pred: tensor([[ 61.6058, 221.3885, 173.2654, 446.3308]], device='cuda:0')\n",
      "GT: tensor([[212.9920, 295.3600, 227.4133, 326.9760]], device='cuda:0')\n",
      "Pred: tensor([[ 61.6058, 221.3885, 173.2654, 446.3308]], device='cuda:0')\n",
      "GT: tensor([[170.8373, 275.3920, 188.5867, 313.6640]], device='cuda:0')\n",
      "Pred: tensor([[ 61.6058, 221.3885, 173.2654, 446.3308]], device='cuda:0')\n",
      "GT: tensor([[155.3067, 281.2160, 171.9467, 315.3280]], device='cuda:0')\n",
      "Pred: tensor([[ 61.6058, 221.3885, 173.2654, 446.3308]], device='cuda:0')\n",
      "GT: tensor([[197.4613, 276.2240, 217.4293, 305.3440]], device='cuda:0')\n"
     ]
    },
    {
     "name": "stderr",
     "output_type": "stream",
     "text": [
      "[2019-05-31 10:48:18,517 <ipython-input-2-7667fb18f09c>] Batch [2044/2077] mAP: 0.24161\n",
      "[2019-05-31 10:48:18,589 <ipython-input-2-7667fb18f09c>] Batch [2045/2077] mAP: 0.24166\n",
      "[2019-05-31 10:48:18,651 <ipython-input-2-7667fb18f09c>] Batch [2046/2077] mAP: 0.24179\n"
     ]
    },
    {
     "name": "stdout",
     "output_type": "stream",
     "text": [
      "Pred: tensor([[ 85.7728,  40.1892, 319.4099, 372.8297]], device='cuda:0')\n",
      "GT: tensor([[ 72.1067,  30.7840, 325.0347, 349.4400]], device='cuda:0')\n",
      "Pred: tensor([[344.8238, 237.9600, 398.8184, 316.6259]], device='cuda:0')\n",
      "GT: tensor([[ 86.5280, 197.1840, 154.1973, 327.8080]], device='cuda:0')\n",
      "Pred: tensor([[344.8238, 237.9600, 398.8184, 316.6259]], device='cuda:0')\n",
      "GT: tensor([[207.4453, 184.7040, 267.3493, 239.6160]], device='cuda:0')\n",
      "Pred: tensor([[344.8238, 237.9600, 398.8184, 316.6259]], device='cuda:0')\n",
      "GT: tensor([[340.5653, 217.1520, 381.6107, 306.1760]], device='cuda:0')\n",
      "Pred: tensor([[344.8238, 237.9600, 398.8184, 316.6259]], device='cuda:0')\n",
      "GT: tensor([[ 15.5307, 204.6720,  76.5440, 335.2960]], device='cuda:0')\n",
      "Pred: tensor([[344.8238, 237.9600, 398.8184, 316.6259]], device='cuda:0')\n",
      "GT: tensor([[  0.0000, 212.9920,  19.9680, 237.9520]], device='cuda:0')\n",
      "Pred: tensor([[344.8238, 237.9600, 398.8184, 316.6259]], device='cuda:0')\n",
      "GT: tensor([[  0.0000, 235.4560,  38.8267, 341.1200]], device='cuda:0')\n",
      "Pred: tensor([[344.8238, 237.9600, 398.8184, 316.6259]], device='cuda:0')\n",
      "GT: tensor([[ 51.0293, 210.4960,  86.5280, 297.8560]], device='cuda:0')\n",
      "Pred: tensor([[ 49.5567,  97.5047, 358.0383, 383.8774]], device='cuda:0')\n",
      "GT: tensor([[ 69.9580, 217.9840, 331.0511, 385.2160]], device='cuda:0')\n",
      "Pred: tensor([[240.7750, 131.0004, 305.2139, 286.3502]], device='cuda:0')\n",
      "GT: tensor([[ 79.9520, 117.3120, 261.0931, 320.3200]], device='cuda:0')\n",
      "Pred: tensor([[240.7750, 131.0004, 305.2139, 286.3502]], device='cuda:0')\n",
      "GT: tensor([[227.3634, 121.4720, 321.0571, 302.8480]], device='cuda:0')\n",
      "Pred: tensor([[148.8230, 133.5130, 267.5366, 294.9108]], device='cuda:0')\n",
      "GT: tensor([[166.4000, 147.5413, 245.4400, 271.7867]], device='cuda:0')\n"
     ]
    },
    {
     "name": "stderr",
     "output_type": "stream",
     "text": [
      "[2019-05-31 10:48:18,715 <ipython-input-2-7667fb18f09c>] Batch [2047/2077] mAP: 0.24166\n",
      "[2019-05-31 10:48:18,782 <ipython-input-2-7667fb18f09c>] Batch [2048/2077] mAP: 0.24180\n",
      "[2019-05-31 10:48:18,825 <ipython-input-2-7667fb18f09c>] Batch [2049/2077] mAP: 0.24171\n",
      "[2019-05-31 10:48:18,880 <ipython-input-2-7667fb18f09c>] Batch [2050/2077] mAP: 0.24140\n"
     ]
    },
    {
     "name": "stdout",
     "output_type": "stream",
     "text": [
      "Pred: tensor([[273.4174, 160.1431, 383.2867, 386.3031]], device='cuda:0')\n",
      "GT: tensor([[237.9520, 127.9292, 415.1680, 415.0797]], device='cuda:0')\n",
      "Pred: tensor([[273.4174, 160.1431, 383.2867, 386.3031]], device='cuda:0')\n",
      "GT: tensor([[ 13.3120,  11.9646, 287.0400, 415.0797]], device='cuda:0')\n",
      "Pred: tensor([[273.4174, 160.1431, 383.2867, 386.3031]], device='cuda:0')\n",
      "GT: tensor([[  0.0000, 178.5487,  79.0400, 415.0797]], device='cuda:0')\n",
      "Pred: tensor([[170.9443, 106.6650, 327.1627, 379.1058]], device='cuda:0')\n",
      "GT: tensor([[158.3111,  67.7926, 323.5555, 414.4593]], device='cuda:0')\n"
     ]
    },
    {
     "name": "stderr",
     "output_type": "stream",
     "text": [
      "[2019-05-31 10:48:18,928 <ipython-input-2-7667fb18f09c>] Batch [2051/2077] mAP: 0.24154\n",
      "[2019-05-31 10:48:19,006 <ipython-input-2-7667fb18f09c>] Batch [2052/2077] mAP: 0.24141\n",
      "[2019-05-31 10:48:19,054 <ipython-input-2-7667fb18f09c>] Batch [2053/2077] mAP: 0.24132\n",
      "[2019-05-31 10:48:19,110 <ipython-input-2-7667fb18f09c>] Batch [2054/2077] mAP: 0.24128\n"
     ]
    },
    {
     "name": "stdout",
     "output_type": "stream",
     "text": [
      "Pred: tensor([[ 93.0386,  62.4375, 320.4917, 345.5889]], device='cuda:0')\n",
      "GT: tensor([[ 69.8880,  28.7327, 337.7920, 394.7628]], device='cuda:0')\n",
      "Pred: tensor([[254.9130, 163.9822, 349.5152, 244.1526]], device='cuda:0')\n",
      "GT: tensor([[284.5440, 166.4000, 339.4560, 230.8800]], device='cuda:0')\n"
     ]
    },
    {
     "name": "stderr",
     "output_type": "stream",
     "text": [
      "[2019-05-31 10:48:19,181 <ipython-input-2-7667fb18f09c>] Batch [2055/2077] mAP: 0.24151\n",
      "[2019-05-31 10:48:19,262 <ipython-input-2-7667fb18f09c>] Batch [2056/2077] mAP: 0.24156\n",
      "[2019-05-31 10:48:19,330 <ipython-input-2-7667fb18f09c>] Batch [2057/2077] mAP: 0.24170\n"
     ]
    },
    {
     "name": "stdout",
     "output_type": "stream",
     "text": [
      "Pred: tensor([[ 79.8583,  89.7012, 334.1985, 404.9008]], device='cuda:0')\n",
      "GT: tensor([[289.5360, 304.5120, 414.8907, 415.1680]], device='cuda:0')\n",
      "Pred: tensor([[ 37.4913, 135.3558, 179.6698, 345.6931]], device='cuda:0')\n",
      "GT: tensor([[289.5360, 304.5120, 414.8907, 415.1680]], device='cuda:0')\n",
      "Pred: tensor([[ 79.8583,  89.7012, 334.1985, 404.9008]], device='cuda:0')\n",
      "GT: tensor([[  8.8747,  89.8560, 364.9707, 415.1680]], device='cuda:0')\n",
      "Pred: tensor([[ 79.8583,  89.7012, 334.1985, 404.9008]], device='cuda:0')\n",
      "GT: tensor([[ 14.4213,  84.0320, 173.0560, 415.1680]], device='cuda:0')\n",
      "Pred: tensor([[ 37.4913, 135.3558, 179.6698, 345.6931]], device='cuda:0')\n",
      "GT: tensor([[ 14.4213,  84.0320, 173.0560, 415.1680]], device='cuda:0')\n",
      "Pred: tensor([[211.3866, 195.4674, 320.3521, 342.6455]], device='cuda:0')\n",
      "GT: tensor([[203.8400, 176.3840, 322.8160, 359.4240]], device='cuda:0')\n",
      "Pred: tensor([[168.0749, 134.5232, 190.8326, 152.7820]], device='cuda:0')\n",
      "GT: tensor([[171.3920, 129.7920, 203.8400, 158.6347]], device='cuda:0')\n",
      "Pred: tensor([[189.8687, 134.6710, 217.6666, 151.2610]], device='cuda:0')\n",
      "GT: tensor([[171.3920, 129.7920, 203.8400, 158.6347]], device='cuda:0')\n",
      "Pred: tensor([[213.9433, 141.2467, 315.7985, 334.5992]], device='cuda:0')\n",
      "GT: tensor([[236.2880, 126.4640, 289.5360, 319.4880]], device='cuda:0')\n",
      "Pred: tensor([[ 24.5762,  29.9393, 269.0330, 258.7623]], device='cuda:0')\n",
      "GT: tensor([[ 39.1040,  38.8434, 258.7520, 234.3132]], device='cuda:0')\n"
     ]
    },
    {
     "name": "stderr",
     "output_type": "stream",
     "text": [
      "[2019-05-31 10:48:19,398 <ipython-input-2-7667fb18f09c>] Batch [2058/2077] mAP: 0.24179\n",
      "[2019-05-31 10:48:19,449 <ipython-input-2-7667fb18f09c>] Batch [2059/2077] mAP: 0.24193\n",
      "[2019-05-31 10:48:19,519 <ipython-input-2-7667fb18f09c>] Batch [2060/2077] mAP: 0.24202\n",
      "[2019-05-31 10:48:19,582 <ipython-input-2-7667fb18f09c>] Batch [2061/2077] mAP: 0.24198\n"
     ]
    },
    {
     "name": "stdout",
     "output_type": "stream",
     "text": [
      "Pred: tensor([[134.8725, 138.1823, 349.5709, 324.5574]], device='cuda:0')\n",
      "GT: tensor([[109.8240, 153.6577, 371.9040, 294.8228]], device='cuda:0')\n",
      "Pred: tensor([[134.8725, 138.1823, 349.5709, 324.5574]], device='cuda:0')\n",
      "GT: tensor([[226.3040, 119.9279, 267.9040, 153.6577]], device='cuda:0')\n",
      "Pred: tensor([[ 30.8189, 109.2643, 247.3953, 354.1885]], device='cuda:0')\n",
      "GT: tensor([[  0.0000, 104.2773, 268.7360, 352.7680]], device='cuda:0')\n",
      "Pred: tensor([[245.0655,  51.6281, 362.6777, 369.4930]], device='cuda:0')\n",
      "GT: tensor([[  0.0000,   4.4373, 226.3040, 414.8907]], device='cuda:0')\n",
      "Pred: tensor([[245.0655,  51.6281, 362.6777, 369.4930]], device='cuda:0')\n",
      "GT: tensor([[209.6640,  55.4667, 415.1680, 402.6880]], device='cuda:0')\n",
      "Pred: tensor([[111.5640,  77.0543, 290.4339, 323.8734]], device='cuda:0')\n",
      "GT: tensor([[ 14.9760,  87.6373, 371.9040, 303.9573]], device='cuda:0')\n"
     ]
    },
    {
     "name": "stderr",
     "output_type": "stream",
     "text": [
      "[2019-05-31 10:48:19,645 <ipython-input-2-7667fb18f09c>] Batch [2062/2077] mAP: 0.24150\n",
      "[2019-05-31 10:48:19,703 <ipython-input-2-7667fb18f09c>] Batch [2063/2077] mAP: 0.24145\n",
      "[2019-05-31 10:48:19,766 <ipython-input-2-7667fb18f09c>] Batch [2064/2077] mAP: 0.24159\n",
      "[2019-05-31 10:48:19,815 <ipython-input-2-7667fb18f09c>] Batch [2065/2077] mAP: 0.24173\n",
      "[2019-05-31 10:48:19,873 <ipython-input-2-7667fb18f09c>] Batch [2066/2077] mAP: 0.24187\n",
      "[2019-05-31 10:48:19,934 <ipython-input-2-7667fb18f09c>] Batch [2067/2077] mAP: 0.24200\n"
     ]
    },
    {
     "name": "stdout",
     "output_type": "stream",
     "text": [
      "Pred: tensor([[ 99.7369,  14.3454, 373.5433, 388.1163]], device='cuda:0')\n",
      "GT: tensor([[ 18.8520,  34.6667, 370.7553, 377.8667]], device='cuda:0')\n",
      "Pred: tensor([[ 69.5869, 160.2018, 331.8062, 324.1116]], device='cuda:0')\n",
      "GT: tensor([[107.3280, 149.3617, 281.2160, 319.7447]], device='cuda:0')\n",
      "Pred: tensor([[125.6553, 172.4954, 308.0184, 454.6794]], device='cuda:0')\n",
      "GT: tensor([[151.4240, 200.7893, 288.7040, 414.8907]], device='cuda:0')\n",
      "Pred: tensor([[ 61.9892,  98.0177, 281.7775, 313.1729]], device='cuda:0')\n",
      "GT: tensor([[ 44.9280,  49.9200, 311.1680, 343.8933]], device='cuda:0')\n"
     ]
    },
    {
     "name": "stderr",
     "output_type": "stream",
     "text": [
      "[2019-05-31 10:48:19,974 <ipython-input-2-7667fb18f09c>] Batch [2068/2077] mAP: 0.24192\n",
      "[2019-05-31 10:48:20,015 <ipython-input-2-7667fb18f09c>] Batch [2069/2077] mAP: 0.24183\n",
      "[2019-05-31 10:48:20,070 <ipython-input-2-7667fb18f09c>] Batch [2070/2077] mAP: 0.24174\n",
      "[2019-05-31 10:48:20,119 <ipython-input-2-7667fb18f09c>] Batch [2071/2077] mAP: 0.24188\n",
      "[2019-05-31 10:48:20,179 <ipython-input-2-7667fb18f09c>] Batch [2072/2077] mAP: 0.24188\n"
     ]
    },
    {
     "name": "stdout",
     "output_type": "stream",
     "text": [
      "Pred: tensor([[332.8380, 146.2014, 354.5612, 207.5418]], device='cuda:0')\n",
      "GT: tensor([[339.4560, 168.6187, 363.5840, 208.5547]], device='cuda:0')\n",
      "Pred: tensor([[101.5426,  62.2999, 262.2227, 360.2790]], device='cuda:0')\n",
      "GT: tensor([[ 94.8480,  25.1789, 368.5760, 410.5263]], device='cuda:0')\n",
      "Pred: tensor([[ 32.4232,  48.2249, 436.8276, 375.8412]], device='cuda:0')\n",
      "GT: tensor([[  0.0000,   0.0000, 415.1680, 414.9600]], device='cuda:0')\n",
      "Pred: tensor([[ 65.7604, 142.8221, 234.7059, 381.4711]], device='cuda:0')\n",
      "GT: tensor([[ 57.4080, 116.4800, 274.5600, 414.8907]], device='cuda:0')\n"
     ]
    },
    {
     "name": "stderr",
     "output_type": "stream",
     "text": [
      "[2019-05-31 10:48:20,235 <ipython-input-2-7667fb18f09c>] Batch [2073/2077] mAP: 0.24175\n",
      "[2019-05-31 10:48:20,297 <ipython-input-2-7667fb18f09c>] Batch [2074/2077] mAP: 0.24180\n",
      "[2019-05-31 10:48:20,430 <ipython-input-2-7667fb18f09c>] Batch [2075/2077] mAP: 0.24150\n",
      "[2019-05-31 10:48:20,475 <ipython-input-2-7667fb18f09c>] Batch [2076/2077] mAP: 0.24178\n"
     ]
    },
    {
     "name": "stdout",
     "output_type": "stream",
     "text": [
      "Pred: tensor([[ 30.8931, 148.9504, 142.7956, 402.0780]], device='cuda:0')\n",
      "GT: tensor([[ 36.6080, 165.9391, 135.6160, 414.8477]], device='cuda:0')\n",
      "Pred: tensor([[ 30.8931, 148.9504, 142.7956, 402.0780]], device='cuda:0')\n",
      "GT: tensor([[ 71.5520,  44.9418, 153.9200, 239.6898]], device='cuda:0')\n",
      "Pred: tensor([[ 30.8931, 148.9504, 142.7956, 402.0780]], device='cuda:0')\n",
      "GT: tensor([[256.2560, 142.8920, 381.0560, 414.8477]], device='cuda:0')\n",
      "Pred: tensor([[ 59.4697, 132.9512, 281.4747, 395.5777]], device='cuda:0')\n",
      "GT: tensor([[ 58.2400,  86.1982, 247.1040, 414.7508]], device='cuda:0')\n",
      "Pred: tensor([[ 59.4697, 132.9512, 281.4747, 395.5777]], device='cuda:0')\n",
      "GT: tensor([[326.1440,  73.7057, 353.6000, 187.3874]], device='cuda:0')\n",
      "Pred: tensor([[253.6291,  95.2695, 289.3322, 177.1430]], device='cuda:0')\n",
      "GT: tensor([[326.1440,  73.7057, 353.6000, 187.3874]], device='cuda:0')\n",
      "Pred: tensor([[ 59.4697, 132.9512, 281.4747, 395.5777]], device='cuda:0')\n",
      "GT: tensor([[282.8800,  99.9399, 297.8560, 163.6517]], device='cuda:0')\n",
      "Pred: tensor([[253.6291,  95.2695, 289.3322, 177.1430]], device='cuda:0')\n",
      "GT: tensor([[282.8800,  99.9399, 297.8560, 163.6517]], device='cuda:0')\n",
      "Pred: tensor([[ 59.4697, 132.9512, 281.4747, 395.5777]], device='cuda:0')\n",
      "GT: tensor([[265.4080, 102.4384, 277.8880, 161.1532]], device='cuda:0')\n",
      "Pred: tensor([[253.6291,  95.2695, 289.3322, 177.1430]], device='cuda:0')\n",
      "GT: tensor([[265.4080, 102.4384, 277.8880, 161.1532]], device='cuda:0')\n",
      "Pred: tensor([[ 59.4697, 132.9512, 281.4747, 395.5777]], device='cuda:0')\n",
      "GT: tensor([[256.2560, 102.4384, 268.7360, 159.9039]], device='cuda:0')\n",
      "Pred: tensor([[253.6291,  95.2695, 289.3322, 177.1430]], device='cuda:0')\n",
      "GT: tensor([[256.2560, 102.4384, 268.7360, 159.9039]], device='cuda:0')\n",
      "Pred: tensor([[ 59.4697, 132.9512, 281.4747, 395.5777]], device='cuda:0')\n",
      "GT: tensor([[295.3600, 108.6847, 302.8480, 153.6577]], device='cuda:0')\n",
      "Pred: tensor([[253.6291,  95.2695, 289.3322, 177.1430]], device='cuda:0')\n",
      "GT: tensor([[295.3600, 108.6847, 302.8480, 153.6577]], device='cuda:0')\n",
      "Pred: tensor([[ 59.4697, 132.9512, 281.4747, 395.5777]], device='cuda:0')\n",
      "GT: tensor([[243.7760, 104.9369, 254.5920, 173.6456]], device='cuda:0')\n",
      "Pred: tensor([[253.6291,  95.2695, 289.3322, 177.1430]], device='cuda:0')\n",
      "GT: tensor([[243.7760, 104.9369, 254.5920, 173.6456]], device='cuda:0')\n",
      "Pred: tensor([[ 59.4697, 132.9512, 281.4747, 395.5777]], device='cuda:0')\n",
      "GT: tensor([[232.1280, 109.9339, 245.4400, 177.3934]], device='cuda:0')\n",
      "Pred: tensor([[253.6291,  95.2695, 289.3322, 177.1430]], device='cuda:0')\n",
      "GT: tensor([[232.1280, 109.9339, 245.4400, 177.3934]], device='cuda:0')\n",
      "Pred: tensor([[ 59.4697, 132.9512, 281.4747, 395.5777]], device='cuda:0')\n",
      "GT: tensor([[320.3200,  94.9429, 330.3040, 161.1532]], device='cuda:0')\n",
      "Pred: tensor([[253.6291,  95.2695, 289.3322, 177.1430]], device='cuda:0')\n",
      "GT: tensor([[320.3200,  94.9429, 330.3040, 161.1532]], device='cuda:0')\n",
      "Pred: tensor([[ 59.4697, 132.9512, 281.4747, 395.5777]], device='cuda:0')\n",
      "GT: tensor([[315.3280,  94.9429, 325.3120, 154.9069]], device='cuda:0')\n",
      "Pred: tensor([[253.6291,  95.2695, 289.3322, 177.1430]], device='cuda:0')\n",
      "GT: tensor([[315.3280,  94.9429, 325.3120, 154.9069]], device='cuda:0')\n",
      "Pred: tensor([[ 59.4697, 132.9512, 281.4747, 395.5777]], device='cuda:0')\n",
      "GT: tensor([[304.5120,  97.4414, 313.6640, 149.9099]], device='cuda:0')\n",
      "Pred: tensor([[253.6291,  95.2695, 289.3322, 177.1430]], device='cuda:0')\n",
      "GT: tensor([[304.5120,  97.4414, 313.6640, 149.9099]], device='cuda:0')\n",
      "Pred: tensor([[132.0880, 146.9575, 350.4952, 334.0175]], device='cuda:0')\n",
      "GT: tensor([[127.2960, 136.4480, 366.9120, 387.1573]], device='cuda:0')\n",
      "Pred: tensor([[155.2329,  41.5911, 328.3671, 306.3336]], device='cuda:0')\n",
      "GT: tensor([[148.9280,  35.4987, 324.4800, 300.6293]], device='cuda:0')\n"
     ]
    },
    {
     "name": "stderr",
     "output_type": "stream",
     "text": [
      "[2019-05-31 10:48:21,316 <ipython-input-2-7667fb18f09c>] Mean Average Precision: 0.24178\n"
     ]
    }
   ],
   "source": [
    "def main():\n",
    "    logging.basicConfig(level=logging.DEBUG,\n",
    "                        format=\"[%(asctime)s %(filename)s] %(message)s\")\n",
    "\n",
    "    config = {}\n",
    "    config[\"batch_size\"] = 1\n",
    "    config['backbone_name'] = \"darknet_53\"\n",
    "    config['backbone_pretrained'] = \"\"\n",
    "    config['anchors'] = [[[116, 90], [156, 198], [373, 326]],\n",
    "                                [[30, 61], [62, 45], [59, 119]],\n",
    "                                [[10, 13], [16, 30], [33, 23]]]\n",
    "    config['classes'] = 20\n",
    "    config['img_h'] = config['img_w'] = 416\n",
    "    config['confidence_threshold'] = 0.5\n",
    "    config['pretrain_snapshot'] = \"./states/20190530222509/model.pth\"\n",
    "    config['classes_names_path'] = \"./data/voc.names\"\n",
    "    config['images_path'] = \"./images\"\n",
    "\n",
    "    # Start training\n",
    "    evaluate(config)\n",
    "\n",
    "if __name__ == \"__main__\":\n",
    "    main()"
   ]
  },
  {
   "cell_type": "code",
   "execution_count": null,
   "metadata": {},
   "outputs": [],
   "source": []
  }
 ],
 "metadata": {
  "kernelspec": {
   "display_name": "Python 3",
   "language": "python",
   "name": "python3"
  },
  "language_info": {
   "codemirror_mode": {
    "name": "ipython",
    "version": 3
   },
   "file_extension": ".py",
   "mimetype": "text/x-python",
   "name": "python",
   "nbconvert_exporter": "python",
   "pygments_lexer": "ipython3",
   "version": "3.6.8"
  }
 },
 "nbformat": 4,
 "nbformat_minor": 2
}
