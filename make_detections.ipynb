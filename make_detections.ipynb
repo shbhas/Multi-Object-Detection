{
 "cells": [
  {
   "cell_type": "code",
   "execution_count": 1,
   "metadata": {},
   "outputs": [],
   "source": [
    "# coding='utf-8'\n",
    "import os\n",
    "import sys\n",
    "import numpy as np\n",
    "import time\n",
    "import datetime\n",
    "import json\n",
    "import importlib\n",
    "import logging\n",
    "import shutil\n",
    "import time\n",
    "\n",
    "import torch\n",
    "import torch.nn as nn\n",
    "\n",
    "from yolo_model import yoloModel\n",
    "from yolo_model_dcnn import dcnnyoloModel\n",
    "from PASCAL_Dataloader import create_split_loaders\n",
    "from YOLO_Loss import YoloLoss\n",
    "from utils import NMS, remove_nulls, convert_to_xywh\n",
    "from bbox import non_max_suppression\n",
    "from detect import plot_detections\n"
   ]
  },
  {
   "cell_type": "code",
   "execution_count": 2,
   "metadata": {},
   "outputs": [],
   "source": [
    "config = {}\n",
    "config[\"batch_size\"] = 16\n",
    "config['backbone_name'] = \"darknet_53\"\n",
    "config['backbone_pretrained'] = \"\"\n",
    "config['anchors'] = [[[116, 90], [156, 198], [373, 326]],\n",
    "                            [[30, 61], [62, 45], [59, 119]],\n",
    "                            [[10, 13], [16, 30], [33, 23]]]\n",
    "config['classes'] = 20\n",
    "config['img_h'] = config['img_w'] = 416\n",
    "config['confidence_threshold'] = 0.5\n",
    "config['nms_threshold'] = 0.4\n",
    "config['root_dir'] = '/datasets/ee285f-public/PascalVOC2012'\n",
    "\n",
    "'''\n",
    "UPDATE THESE VALUES!\n",
    "\n",
    "'''\n",
    "config['pretrain_snapshot'] = \"./states/20190531004422/model.pth\" # \"./states/20190530222509/model.pth\"\n",
    "config['output_dir'] = './detected_images/'\n",
    "model = 'Baseline'  "
   ]
  },
  {
   "cell_type": "code",
   "execution_count": 3,
   "metadata": {},
   "outputs": [],
   "source": [
    "CLASS_ID = [\"aeroplane\", \"bicycle\", \"bird\", \"boat\", \"bottle\", \"bus\", \"car\", \\\n",
    "            \"cat\", \"chair\", \"cow\", \"diningtable\", \"dog\", \"horse\", \"motorbike\", \\\n",
    "            \"person\", \"pottedplant\", \"sheep\", \"sofa\", \"train\", \"tvmonitor\"]"
   ]
  },
  {
   "cell_type": "code",
   "execution_count": 4,
   "metadata": {},
   "outputs": [
    {
     "name": "stdout",
     "output_type": "stream",
     "text": [
      "There are 130 batches in test set. This only runs the first 15 batches.\n",
      "To run the entire test set, set is_break to False\n"
     ]
    }
   ],
   "source": [
    "_, _, test_loader = create_split_loaders(root_dir=config['root_dir'], batch_size=config['batch_size'])\n",
    "print('There are %d batches in test set. This only runs the first 15 batches.' %len(test_loader))\n",
    "print('To run the entire test set, set is_break to False')"
   ]
  },
  {
   "cell_type": "code",
   "execution_count": 5,
   "metadata": {},
   "outputs": [],
   "source": [
    "def test(config, test_loader, output_dir=config['output_dir'], architecture = 'Baseline', is_break=True):\n",
    "    # Creates the output folder for the results if not already created.\n",
    "    if not os.path.isdir(output_dir):\n",
    "        os.makedirs(output_dir)\n",
    "\n",
    "    # Load and initialize network\n",
    "    if architecture == \"Baseline\":\n",
    "        net = yoloModel(config).cuda()\n",
    "    elif architecture == \"DeformConv\":\n",
    "        net = dcnnyoloModel(config).cuda()\n",
    "    else:\n",
    "        raise Exception(\"Error: Incorrect architecture\")\n",
    "\n",
    "    # Restore pretrain model\n",
    "    if config[\"pretrain_snapshot\"]:\n",
    "        print('Loading model...')\n",
    "        logging.info(\"load checkpoint from {}\".format(config[\"pretrain_snapshot\"]))\n",
    "        state_dict = torch.load(config[\"pretrain_snapshot\"])\n",
    "        net.load_state_dict(state_dict)\n",
    "    else:\n",
    "        raise Exception(\"missing pretrain_snapshot!!!\")\n",
    "\n",
    "\n",
    "    # YOLO loss with 3 scales\n",
    "    yolo_losses = []\n",
    "    for i in range(3):\n",
    "        yolo_losses.append(YoloLoss(config[\"classes\"], (config[\"img_w\"], config[\"img_h\"]), config[\"anchors\"][i]))\n",
    "        \n",
    "    # Start inference\n",
    "    print('Ready for detections!')             \n",
    "    for batch, sample in enumerate(test_loader):\n",
    "        if batch >=15 and is_break:\n",
    "            print('\\nbreaking')\n",
    "            break\n",
    "            \n",
    "        images, labels = sample[\"image\"], sample[\"label\"]\n",
    "        orig_W, orig_H = sample[\"orig_img\"][0], sample[\"orig_img\"][1]\n",
    "        target_labels = sample[\"target_label\"]\n",
    "        imgfiles = sample[\"imgfile\"]\n",
    "        \n",
    "        # Create image pathfiles\n",
    "        imgpaths = [os.path.join(config[\"root_dir\"], 'JPEGImages', x) for x in imgfiles]\n",
    "        \n",
    "        orig_W = orig_W.to('cpu').numpy()\n",
    "        orig_H = orig_H.to('cpu').numpy()\n",
    "        images = images.cuda()\n",
    "        \n",
    "        # Run images through model, get predictions, and apply NMS.\n",
    "        with torch.no_grad():\n",
    "            outputs = net(images)\n",
    "            output_list = []\n",
    "            for i in range(3):\n",
    "                output_list.append(yolo_losses[i](outputs[i]))\n",
    "            detections = torch.cat(output_list, 1)\n",
    "            detections = non_max_suppression(detections, 20)\n",
    "\n",
    "        for ii, detection in enumerate(detections): ## 0 to 15\n",
    "        # ------------------------------------- #\n",
    "        # Parsing targets and detections labels #\n",
    "        # ------------------------------------- #\n",
    "            print('\\nbatch %d, sample %d' %(batch,ii))\n",
    "            targets = convert_to_xywh(remove_nulls(target_labels[ii,:].to('cpu').numpy())) #70x5\n",
    "            print('target labels (cls, x, y, w, h)\\n', targets)           \n",
    "            \n",
    "            if detection is not None:\n",
    "                # Rescale coordinates to original dimensions\n",
    "                RATIO_W = orig_W[ii] / config[\"img_w\"]\n",
    "                RATIO_H = orig_H[ii] / config[\"img_h\"]\n",
    "            \n",
    "                predictions = np.zeros((len(detection),5), dtype=int)\n",
    "                for jj, (x1, y1, x2, y2, conf, cls_conf, cls_pred) in enumerate(detection):        \n",
    "                    x = int(x1 * RATIO_W)\n",
    "                    y = int(y1 * RATIO_H)\n",
    "                    w = int(abs(x2 - x1) * RATIO_W)\n",
    "                    h = int(abs(y2 - y1) * RATIO_H)\n",
    "                    predictions[jj,:] = (int(cls_pred), x, y, w, h) \n",
    "                print('predicted labels (cls, x, y, w, h)\\n', predictions)\n",
    "                \n",
    "            else:\n",
    "                predictions = []\n",
    "                print('predicted labels (cls, x, y, w, h) - No objects detected!!')\n",
    "            \n",
    "            # ----------------------------------------- #\n",
    "            # Plot targets and detections bounding boxes #\n",
    "            # ------------------------------------------ #\n",
    "            plot_detections(imgpaths[ii], targets, predictions, \\\n",
    "                        batch=batch, sample=ii, output_dir=output_dir, is_demo=False)\n",
    "    \n",
    "    print('Finished object detections! Check the results.')\n",
    "\n",
    "\n"
   ]
  },
  {
   "cell_type": "code",
   "execution_count": 6,
   "metadata": {},
   "outputs": [
    {
     "name": "stdout",
     "output_type": "stream",
     "text": [
      "Loading model...\n",
      "Ready for detections!\n",
      "\n",
      "batch 0, sample 0\n",
      "target labels (cls, x, y, w, h)\n",
      " [[  1 232 174 156 152]]\n",
      "predicted labels (cls, x, y, w, h)\n",
      " [[  1 261 181 117 129]]\n",
      "\n",
      "batch 0, sample 1\n",
      "target labels (cls, x, y, w, h)\n",
      " [[ 11 202 151 107  73]]\n",
      "predicted labels (cls, x, y, w, h)\n",
      " [[ 11 189 146 113  91]]\n",
      "\n",
      "batch 0, sample 2\n",
      "target labels (cls, x, y, w, h)\n",
      " [[  6   1 193 147 138]\n",
      " [  5 100  32 338 282]\n",
      " [ 14 437 206  30  83]\n",
      " [ 14 468 210  15  46]\n",
      " [ 14 481 209  18  47]]\n",
      "predicted labels (cls, x, y, w, h)\n",
      " [[  6 -26 176 174 148]\n",
      " [ 14 455 211  27  53]\n",
      " [ 14 441 208  26  56]]\n",
      "\n",
      "batch 0, sample 3\n",
      "target labels (cls, x, y, w, h)\n",
      " [[  4  95 181  30  92]\n",
      " [ 14  49  71  99 174]\n",
      " [ 14 248 115 125 117]\n",
      " [ 14 318  96 182 230]\n",
      " [ 10   1 205 410 121]]\n",
      "predicted labels (cls, x, y, w, h)\n",
      " [[ 14  47  70 106 179]\n",
      " [ 14 336 106 132 206]\n",
      " [ 14 236 107 120 117]]\n",
      "\n",
      "batch 0, sample 4\n",
      "target labels (cls, x, y, w, h)\n",
      " [[ 13  73 102 370 254]\n",
      " [ 14 199  56 147 298]\n",
      " [  6 449  52  38  14]\n",
      " [  6 409  58  23   7]\n",
      " [  6 414  51  22  11]]\n",
      "predicted labels (cls, x, y, w, h)\n",
      " [[  6 427  54  33  17]]\n",
      "\n",
      "batch 0, sample 5\n",
      "target labels (cls, x, y, w, h)\n",
      " [[  6 117 114 325 219]\n",
      " [ 14 257 151  42  39]]\n",
      "predicted labels (cls, x, y, w, h)\n",
      " [[  6 134 130 302 184]]\n",
      "\n",
      "batch 0, sample 6\n",
      "target labels (cls, x, y, w, h)\n",
      " [[  0 164  14 167 127]]\n",
      "predicted labels (cls, x, y, w, h) - No objects detected!!\n",
      "\n",
      "batch 0, sample 7\n",
      "target labels (cls, x, y, w, h)\n",
      " [[ 14  24   1 277 178]\n",
      " [ 11   1  81 374 386]]\n",
      "predicted labels (cls, x, y, w, h) - No objects detected!!\n",
      "\n",
      "batch 0, sample 8\n",
      "target labels (cls, x, y, w, h)\n",
      " [[ 14  65   1 310 499]\n",
      " [ 14   1 203 188 297]]\n",
      "predicted labels (cls, x, y, w, h) - No objects detected!!\n",
      "\n",
      "batch 0, sample 9\n",
      "target labels (cls, x, y, w, h)\n",
      " [[  1  54 353 200 141]]\n",
      "predicted labels (cls, x, y, w, h) - No objects detected!!\n",
      "\n",
      "batch 0, sample 10\n",
      "target labels (cls, x, y, w, h)\n",
      " [[  2   1  85 333 415]]\n",
      "predicted labels (cls, x, y, w, h) - No objects detected!!\n",
      "\n",
      "batch 0, sample 11\n",
      "target labels (cls, x, y, w, h)\n",
      " [[ 11   1 232 177 144]\n",
      " [ 14 404   1  96 171]]\n",
      "predicted labels (cls, x, y, w, h) - No objects detected!!\n",
      "\n",
      "batch 0, sample 12\n",
      "target labels (cls, x, y, w, h)\n",
      " [[ 14   1 203 258 297]\n",
      " [ 14 287 383  35  67]]\n",
      "predicted labels (cls, x, y, w, h) - No objects detected!!\n",
      "\n",
      "batch 0, sample 13\n",
      "target labels (cls, x, y, w, h)\n",
      " [[ 11   1   1 374 499]]\n",
      "predicted labels (cls, x, y, w, h) - No objects detected!!\n",
      "\n",
      "batch 0, sample 14\n",
      "target labels (cls, x, y, w, h)\n",
      " [[ 16 357 234  83  57]\n",
      " [ 16 409 262  91 113]\n",
      " [ 16 150 271 140 104]\n",
      " [ 16  28 206  80  53]\n",
      " [ 16   1 281 154  94]\n",
      " [ 16   1 249  69  47]\n",
      " [ 16 444 233  56  44]\n",
      " [ 16 190 216  61  65]\n",
      " [ 16   1 220  47  37]]\n",
      "predicted labels (cls, x, y, w, h)\n",
      " [[ 16  34 217  54  45]\n",
      " [ 16  63 211  54  56]]\n",
      "\n",
      "batch 0, sample 15\n",
      "target labels (cls, x, y, w, h)\n",
      " [[ 14 148 113 250 220]]\n",
      "predicted labels (cls, x, y, w, h) - No objects detected!!\n",
      "\n",
      "batch 1, sample 0\n",
      "target labels (cls, x, y, w, h)\n",
      " [[ 14   1   2 374 498]\n",
      " [ 14 145  24 230 476]]\n",
      "predicted labels (cls, x, y, w, h) - No objects detected!!\n",
      "\n",
      "batch 1, sample 1\n",
      "target labels (cls, x, y, w, h)\n",
      " [[ 13   8  21 399 298]\n",
      " [ 15 147  45 108  91]\n",
      " [ 14 371 120 129 255]]\n",
      "predicted labels (cls, x, y, w, h)\n",
      " [[ 14 384 113 115 269]]\n",
      "\n",
      "batch 1, sample 2\n",
      "target labels (cls, x, y, w, h)\n",
      " [[ 12  76 132 288 211]\n",
      " [ 14 183  45  86 188]\n",
      " [ 14 187 236  29  69]\n",
      " [ 14 251 251  32  49]]\n",
      "predicted labels (cls, x, y, w, h)\n",
      " [[ 14 168  59 106 152]]\n",
      "\n",
      "batch 1, sample 3\n",
      "target labels (cls, x, y, w, h)\n",
      " [[ 11  14  47 351 415]]\n",
      "predicted labels (cls, x, y, w, h) - No objects detected!!\n"
     ]
    },
    {
     "name": "stderr",
     "output_type": "stream",
     "text": [
      "/opt/conda/lib/python3.6/site-packages/matplotlib/pyplot.py:514: RuntimeWarning: More than 20 figures have been opened. Figures created through the pyplot interface (`matplotlib.pyplot.figure`) are retained until explicitly closed and may consume too much memory. (To control this warning, see the rcParam `figure.max_open_warning`).\n",
      "  max_open_warning, RuntimeWarning)\n"
     ]
    },
    {
     "name": "stdout",
     "output_type": "stream",
     "text": [
      "\n",
      "batch 1, sample 4\n",
      "target labels (cls, x, y, w, h)\n",
      " [[  2 264 153  35  47]\n",
      " [  2 207 173  57  30]\n",
      " [  2 184 148  33  43]\n",
      " [  2  84 195  22  33]\n",
      " [  2 129 143  31  52]\n",
      " [  2 152 156  29  36]]\n",
      "predicted labels (cls, x, y, w, h) - No objects detected!!\n",
      "\n",
      "batch 1, sample 5\n",
      "target labels (cls, x, y, w, h)\n",
      " [[  2 336 224  38  67]\n",
      " [  2 134 234  96  51]\n",
      " [  2 174 176  78  43]\n",
      " [  2  46 169  75  49]\n",
      " [  2 398  44  80  50]\n",
      " [  2 142 121  97  41]\n",
      " [  2  79  93  82  40]\n",
      " [  2   1 104  34  50]\n",
      " [  2   1 242  46  46]\n",
      " [  2 221 284  78  76]\n",
      " [  2 369 146  38  51]\n",
      " [  2 445 222  55  26]\n",
      " [  2 247  15  51  39]]\n",
      "predicted labels (cls, x, y, w, h)\n",
      " [[  2  82 108  37  37]\n",
      " [  2 114 110  42  34]\n",
      " [  2 399  47  77  49]\n",
      " [  2 260  22  46  37]\n",
      " [  2  67 161  47  56]]\n",
      "\n",
      "batch 1, sample 6\n",
      "target labels (cls, x, y, w, h)\n",
      " [[  3  73 133 361  60]]\n",
      "predicted labels (cls, x, y, w, h)\n",
      " [[   3 -164   95  834  128]]\n",
      "\n",
      "batch 1, sample 7\n",
      "target labels (cls, x, y, w, h)\n",
      " [[ 11  42  89 404 309]\n",
      " [ 15   1   1 135 309]]\n",
      "predicted labels (cls, x, y, w, h) - No objects detected!!\n",
      "\n",
      "batch 1, sample 8\n",
      "target labels (cls, x, y, w, h)\n",
      " [[  3  50  53  24  18]\n",
      " [  3   1 150 463 215]\n",
      " [  3  77 282 274  83]\n",
      " [ 14 408  76  67 219]]\n",
      "predicted labels (cls, x, y, w, h)\n",
      " [[ 14 405  84  72 205]]\n",
      "\n",
      "batch 1, sample 9\n",
      "target labels (cls, x, y, w, h)\n",
      " [[  2 132 101 215 196]]\n",
      "predicted labels (cls, x, y, w, h) - No objects detected!!\n",
      "\n",
      "batch 1, sample 10\n",
      "target labels (cls, x, y, w, h)\n",
      " [[ 12 378 204  82  49]\n",
      " [ 12 198 191  52  32]]\n",
      "predicted labels (cls, x, y, w, h)\n",
      " [[  9 184 194  63  28]]\n",
      "\n",
      "batch 1, sample 11\n",
      "target labels (cls, x, y, w, h)\n",
      " [[  5 404 147  96  74]\n",
      " [  5 358 141  47  75]\n",
      " [  5 223 136 140  88]\n",
      " [  5 180 147  51  62]\n",
      " [  5  86 139  96  87]\n",
      " [  5   1 142  81  90]]\n",
      "predicted labels (cls, x, y, w, h)\n",
      " [[  5 205 136 170  99]\n",
      " [  5  75 116 114 136]]\n",
      "\n",
      "batch 1, sample 12\n",
      "target labels (cls, x, y, w, h)\n",
      " [[  0 237 195 154 125]]\n",
      "predicted labels (cls, x, y, w, h) - No objects detected!!\n",
      "\n",
      "batch 1, sample 13\n",
      "target labels (cls, x, y, w, h)\n",
      " [[ 19 310 103 190 182]\n",
      " [ 14  11  79 172 292]\n",
      " [ 14 167 144 182 231]\n",
      " [  8  45 270 142 105]]\n",
      "predicted labels (cls, x, y, w, h)\n",
      " [[ 19 280 103 183 172]]\n",
      "\n",
      "batch 1, sample 14\n",
      "target labels (cls, x, y, w, h)\n",
      " [[ 11 337 157 163 218]\n",
      " [  6   1   1 178 127]]\n",
      "predicted labels (cls, x, y, w, h) - No objects detected!!\n",
      "\n",
      "batch 1, sample 15\n",
      "target labels (cls, x, y, w, h)\n",
      " [[  6   1   1 105 116]\n",
      " [  6  92   1 172 119]\n",
      " [  6 285  25 112  99]\n",
      " [ 14 160  31 133 230]\n",
      " [  1 175 169 107 115]]\n",
      "predicted labels (cls, x, y, w, h)\n",
      " [[  6 -22   0 149 141]\n",
      " [ 14 157  33 126 216]]\n",
      "\n",
      "batch 2, sample 0\n",
      "target labels (cls, x, y, w, h)\n",
      " [[ 10   1  40 499 335]\n",
      " [  4 239   4  57 183]]\n",
      "predicted labels (cls, x, y, w, h) - No objects detected!!\n",
      "\n",
      "batch 2, sample 1\n",
      "target labels (cls, x, y, w, h)\n",
      " [[ 19 179 109  49  64]\n",
      " [  8 230 179 118 154]\n",
      " [ 15 257 148  34  49]]\n",
      "predicted labels (cls, x, y, w, h)\n",
      " [[  8 231 194 105 137]]\n",
      "\n",
      "batch 2, sample 2\n",
      "target labels (cls, x, y, w, h)\n",
      " [[ 11   1 107 254 289]\n",
      " [  8   3   2 344 498]]\n",
      "predicted labels (cls, x, y, w, h) - No objects detected!!\n",
      "\n",
      "batch 2, sample 3\n",
      "target labels (cls, x, y, w, h)\n",
      " [[  7  71  40 313 424]]\n",
      "predicted labels (cls, x, y, w, h)\n",
      " [[  7  88  61 257 402]]\n",
      "\n",
      "batch 2, sample 4\n",
      "target labels (cls, x, y, w, h)\n",
      " [[  7 141 121 278 151]\n",
      " [  8   1   3 499 350]]\n",
      "predicted labels (cls, x, y, w, h)\n",
      " [[  7 107 119 359 159]]\n",
      "\n",
      "batch 2, sample 5\n",
      "target labels (cls, x, y, w, h)\n",
      " [[ 19 223  79  68  64]\n",
      " [ 14 347  15  49  78]\n",
      " [ 17 296 192 204 183]\n",
      " [ 17   1 231 158 140]\n",
      " [  8 141 117  78  93]]\n",
      "predicted labels (cls, x, y, w, h) - No objects detected!!\n",
      "\n",
      "batch 2, sample 6\n",
      "target labels (cls, x, y, w, h)\n",
      " [[  0  16  92 465 277]\n",
      " [  6 329 317 162  58]\n",
      " [  6 313 289 187  86]\n",
      " [ 14 180 230  28  30]\n",
      " [ 14 169 242  14  43]]\n",
      "predicted labels (cls, x, y, w, h) - No objects detected!!\n",
      "\n",
      "batch 2, sample 7\n",
      "target labels (cls, x, y, w, h)\n",
      " [[  8   1 267 166 233]\n",
      " [  8 190 116 141 237]\n",
      " [  8  90 105 127 185]\n",
      " [  8  16  94 128 170]\n",
      " [  8   1  92  82 146]\n",
      " [  8   1 254  67 102]]\n",
      "predicted labels (cls, x, y, w, h)\n",
      " [[  8  19  84  95 168]\n",
      " [  8 106 102 117 209]]\n",
      "\n",
      "batch 2, sample 8\n",
      "target labels (cls, x, y, w, h)\n",
      " [[  5  94  35 245 176]\n",
      " [ 14 442 110  16  29]\n",
      " [  6  41 116  45  21]]\n",
      "predicted labels (cls, x, y, w, h)\n",
      " [[  5 153  50 109 117]\n",
      " [ 14 443 109  14  24]\n",
      " [ 14 158  83  40  51]\n",
      " [ 14 151  83  25  37]]\n",
      "\n",
      "batch 2, sample 9\n",
      "target labels (cls, x, y, w, h)\n",
      " [[ 16   1 194 165 134]\n",
      " [ 16   1 164  72  37]\n",
      " [ 14 268 107 127 168]\n",
      " [ 14 318 118  66 188]]\n",
      "predicted labels (cls, x, y, w, h) - No objects detected!!\n",
      "\n",
      "batch 2, sample 10\n",
      "target labels (cls, x, y, w, h)\n",
      " [[ 19 363 163 137 137]\n",
      " [  8 181 174  50  97]\n",
      " [  8  38 213  86 162]\n",
      " [ 14  70 106 261 269]]\n",
      "predicted labels (cls, x, y, w, h)\n",
      " [[ 14 104 161 199 152]]\n",
      "\n",
      "batch 2, sample 11\n",
      "target labels (cls, x, y, w, h)\n",
      " [[ 11  91  54 227 426]]\n",
      "predicted labels (cls, x, y, w, h)\n",
      " [[ 11  33  76 307 363]]\n",
      "\n",
      "batch 2, sample 12\n",
      "target labels (cls, x, y, w, h)\n",
      " [[ 19 128  73 229 214]\n",
      " [ 15 448   1  52 261]]\n",
      "predicted labels (cls, x, y, w, h)\n",
      " [[ 19 110  63 274 247]]\n",
      "\n",
      "batch 2, sample 13\n",
      "target labels (cls, x, y, w, h)\n",
      " [[ 11 146 134 194 195]\n",
      " [ 14   1   1 374 446]]\n",
      "predicted labels (cls, x, y, w, h) - No objects detected!!\n",
      "\n",
      "batch 2, sample 14\n",
      "target labels (cls, x, y, w, h)\n",
      " [[ 13 328 123 172 136]\n",
      " [ 13 141 127 182 112]\n",
      " [ 13  57 127 189 142]\n",
      " [ 14  28 103  68 205]\n",
      " [ 14  69 124 112  67]]\n",
      "predicted labels (cls, x, y, w, h)\n",
      " [[ 13 183 132 133 104]\n",
      " [ 13 351 110 163 140]\n",
      " [ 13  95 106 149 163]]\n",
      "\n",
      "batch 2, sample 15\n",
      "target labels (cls, x, y, w, h)\n",
      " [[ 14  66  51 130 449]\n",
      " [ 14 190 140 123 360]]\n",
      "predicted labels (cls, x, y, w, h)\n",
      " [[ 14  76  98 110 369]\n",
      " [ 14 191 138 119 374]]\n",
      "\n",
      "batch 3, sample 0\n",
      "target labels (cls, x, y, w, h)\n",
      " [[ 12 140 168 225 170]\n",
      " [ 14   8 136  89 117]\n",
      " [ 14 450 207  23  54]\n",
      " [ 14 478 204  22  60]]\n",
      "predicted labels (cls, x, y, w, h)\n",
      " [[ 14 438 206  29  52]\n",
      " [ 14 451 207  38  61]\n",
      " [ 14   0  99 102 168]]\n",
      "\n",
      "batch 3, sample 1\n",
      "target labels (cls, x, y, w, h)\n",
      " [[ 14 195  90 167 410]\n",
      " [ 14  62   1 189 499]]\n",
      "predicted labels (cls, x, y, w, h) - No objects detected!!\n",
      "\n",
      "batch 3, sample 2\n",
      "target labels (cls, x, y, w, h)\n",
      " [[  1  72 323 208 165]]\n",
      "predicted labels (cls, x, y, w, h)\n",
      " [[  1  88 300 197 209]]\n",
      "\n",
      "batch 3, sample 3\n",
      "target labels (cls, x, y, w, h)\n",
      " [[ 19  86  19 144 135]]\n",
      "predicted labels (cls, x, y, w, h)\n",
      " [[ 19  64   4 175 176]]\n",
      "\n",
      "batch 3, sample 4\n",
      "target labels (cls, x, y, w, h)\n",
      " [[ 12 296 168 154 119]\n",
      " [ 12 177 172 140 116]\n",
      " [ 12  59 160 115 126]\n",
      " [ 14 227 153  34  79]\n",
      " [ 14 360 136  56  99]\n",
      " [ 14 108 140  41  86]]\n",
      "predicted labels (cls, x, y, w, h)\n",
      " [[ 12 194 163 102 138]\n",
      " [ 12 317 170  97 121]\n",
      " [ 12  97 174  66  76]\n",
      " [ 14 105 143  55  86]\n",
      " [ 14 351 151  44  69]]\n",
      "\n",
      "batch 3, sample 5\n",
      "target labels (cls, x, y, w, h)\n",
      " [[ 14  19  36 395 319]]\n",
      "predicted labels (cls, x, y, w, h) - No objects detected!!\n",
      "\n",
      "batch 3, sample 6\n",
      "target labels (cls, x, y, w, h)\n",
      " [[  2 216  47  35  38]\n",
      " [  2 227  94  49  31]\n",
      " [  2 219 207  24  34]\n",
      " [  2 272 211  26  31]\n",
      " [  2 272 287  25  40]]\n",
      "predicted labels (cls, x, y, w, h)\n",
      " [[  2 220 155  61 114]]\n",
      "\n",
      "batch 3, sample 7\n",
      "target labels (cls, x, y, w, h)\n",
      " [[ 13  97 336 182 133]]\n",
      "predicted labels (cls, x, y, w, h)\n",
      " [[  1  86 309 208 185]]\n",
      "\n",
      "batch 3, sample 8\n",
      "target labels (cls, x, y, w, h)\n",
      " [[ 19  95  37 120 145]\n",
      " [ 14 252 144 101 204]\n",
      " [  4 306  78  23  68]\n",
      " [  8 208 197 230 178]\n",
      " [ 14 340  32  13  20]\n",
      " [ 14 325  30  13  18]]\n",
      "predicted labels (cls, x, y, w, h)\n",
      " [[  8 335 211 209 168]\n",
      " [ 14 228 150 130 187]\n",
      " [ 19  78  38 193 134]]\n",
      "\n",
      "batch 3, sample 9\n",
      "target labels (cls, x, y, w, h)\n",
      " [[ 18  28  44 433 317]]\n",
      "predicted labels (cls, x, y, w, h) - No objects detected!!\n",
      "\n",
      "batch 3, sample 10\n",
      "target labels (cls, x, y, w, h)\n",
      " [[ 0 40 96 53 39]]\n",
      "predicted labels (cls, x, y, w, h) - No objects detected!!\n",
      "\n",
      "batch 3, sample 11\n",
      "target labels (cls, x, y, w, h)\n",
      " [[  6  83 178  58  32]]\n",
      "predicted labels (cls, x, y, w, h)\n",
      " [[  6 105 176  54  21]]\n",
      "\n",
      "batch 3, sample 12\n",
      "target labels (cls, x, y, w, h)\n",
      " [[  3  73 170 179  88]\n",
      " [ 14 236 209  39  91]]\n",
      "predicted labels (cls, x, y, w, h)\n",
      " [[ 14 235 224  22  49]]\n",
      "\n",
      "batch 3, sample 13\n",
      "target labels (cls, x, y, w, h)\n",
      " [[ 11  34  36 291 355]]\n",
      "predicted labels (cls, x, y, w, h) - No objects detected!!\n",
      "\n",
      "batch 3, sample 14\n",
      "target labels (cls, x, y, w, h)\n",
      " [[ 19 295 162  75 134]\n",
      " [ 14 252  24 109 138]\n",
      " [ 11  50 119 264 298]\n",
      " [  8  37 301 212 157]\n",
      " [  8  53 394 249 106]]\n",
      "predicted labels (cls, x, y, w, h)\n",
      " [[  7  29 128 309 313]\n",
      " [ 14 223 -15 158 228]\n",
      " [ 19 292 138  66 155]]\n"
     ]
    },
    {
     "name": "stdout",
     "output_type": "stream",
     "text": [
      "\n",
      "batch 3, sample 15\n",
      "target labels (cls, x, y, w, h)\n",
      " [[  2  93  90 232 285]]\n",
      "predicted labels (cls, x, y, w, h) - No objects detected!!\n",
      "\n",
      "batch 4, sample 0\n",
      "target labels (cls, x, y, w, h)\n",
      " [[  1  93  67 332 227]]\n",
      "predicted labels (cls, x, y, w, h) - No objects detected!!\n",
      "\n",
      "batch 4, sample 1\n",
      "target labels (cls, x, y, w, h)\n",
      " [[ 13 337 196  68  45]\n",
      " [ 14 294 184  22  58]\n",
      " [ 14 191 216  46  58]\n",
      " [ 14 276 180  19  62]\n",
      " [  6 146 162 130  94]]\n",
      "predicted labels (cls, x, y, w, h)\n",
      " [[  6 232 196  34  35]\n",
      " [ 13 342 193  49  46]\n",
      " [ 14 281 183  31  50]]\n",
      "\n",
      "batch 4, sample 2\n",
      "target labels (cls, x, y, w, h)\n",
      " [[  7 100 112 175 366]]\n",
      "predicted labels (cls, x, y, w, h)\n",
      " [[  7 102 122 127 340]]\n",
      "\n",
      "batch 4, sample 3\n",
      "target labels (cls, x, y, w, h)\n",
      " [[ 14 178 103 100 255]\n",
      " [ 14 273  88  94 267]\n",
      " [ 19  35 196  69  71]\n",
      " [  8 343 228  56 102]\n",
      " [  8 241 221  49 106]]\n",
      "predicted labels (cls, x, y, w, h) - No objects detected!!\n",
      "\n",
      "batch 4, sample 4\n",
      "target labels (cls, x, y, w, h)\n",
      " [[ 17   1 160 161 215]\n",
      " [  8 117 129  95 116]\n",
      " [  8 229 126 102 113]\n",
      " [  8 325 139 122 117]]\n",
      "predicted labels (cls, x, y, w, h) - No objects detected!!\n",
      "\n",
      "batch 4, sample 5\n",
      "target labels (cls, x, y, w, h)\n",
      " [[ 15  59 232 114  98]\n",
      " [ 14 360 194  15  49]]\n",
      "predicted labels (cls, x, y, w, h)\n",
      " [[ 15 105 247  45  84]\n",
      " [ 15  87 241  41  92]]\n",
      "\n",
      "batch 4, sample 6\n",
      "target labels (cls, x, y, w, h)\n",
      " [[ 14 238 205  15  34]]\n",
      "predicted labels (cls, x, y, w, h) - No objects detected!!\n",
      "\n",
      "batch 4, sample 7\n",
      "target labels (cls, x, y, w, h)\n",
      " [[ 18  65 107 382  94]]\n",
      "predicted labels (cls, x, y, w, h) - No objects detected!!\n",
      "\n",
      "batch 4, sample 8\n",
      "target labels (cls, x, y, w, h)\n",
      " [[ 19 300  88 200 153]]\n",
      "predicted labels (cls, x, y, w, h) - No objects detected!!\n",
      "\n",
      "batch 4, sample 9\n",
      "target labels (cls, x, y, w, h)\n",
      " [[ 13  67  48 390 269]]\n",
      "predicted labels (cls, x, y, w, h) - No objects detected!!\n",
      "\n",
      "batch 4, sample 10\n",
      "target labels (cls, x, y, w, h)\n",
      " [[ 19 187 155 294 284]\n",
      " [ 19   1   1 165 499]]\n",
      "predicted labels (cls, x, y, w, h)\n",
      " [[ 19 144 110 295 272]]\n",
      "\n",
      "batch 4, sample 11\n",
      "target labels (cls, x, y, w, h)\n",
      " [[ 11  19  82 447 231]\n",
      " [ 14   1   1 499 374]]\n",
      "predicted labels (cls, x, y, w, h) - No objects detected!!\n",
      "\n",
      "batch 4, sample 12\n",
      "target labels (cls, x, y, w, h)\n",
      " [[ 13  55  46 320 265]]\n",
      "predicted labels (cls, x, y, w, h)\n",
      " [[ 13  58  25 305 327]]\n",
      "\n",
      "batch 4, sample 13\n",
      "target labels (cls, x, y, w, h)\n",
      " [[ 13  64  46 431 303]]\n",
      "predicted labels (cls, x, y, w, h) - No objects detected!!\n",
      "\n",
      "batch 4, sample 14\n",
      "target labels (cls, x, y, w, h)\n",
      " [[ 13 139 116 165 298]\n",
      " [ 14  20 128 177 241]]\n",
      "predicted labels (cls, x, y, w, h) - No objects detected!!\n",
      "\n",
      "batch 4, sample 15\n",
      "target labels (cls, x, y, w, h)\n",
      " [[ 14   1   1 372 499]]\n",
      "predicted labels (cls, x, y, w, h) - No objects detected!!\n",
      "\n",
      "batch 5, sample 0\n",
      "target labels (cls, x, y, w, h)\n",
      " [[  5   1   1 499 360]]\n",
      "predicted labels (cls, x, y, w, h) - No objects detected!!\n",
      "\n",
      "batch 5, sample 1\n",
      "target labels (cls, x, y, w, h)\n",
      " [[ 14   8 130 325 370]]\n",
      "predicted labels (cls, x, y, w, h)\n",
      " [[ 14 -66  79 466 496]]\n",
      "\n",
      "batch 5, sample 2\n",
      "target labels (cls, x, y, w, h)\n",
      " [[ 14  53  97 169 278]]\n",
      "predicted labels (cls, x, y, w, h)\n",
      " [[ 14  48  73 165 337]]\n",
      "\n",
      "batch 5, sample 3\n",
      "target labels (cls, x, y, w, h)\n",
      " [[  0  23 113 459 110]]\n",
      "predicted labels (cls, x, y, w, h) - No objects detected!!\n",
      "\n",
      "batch 5, sample 4\n",
      "target labels (cls, x, y, w, h)\n",
      " [[  7 147  26 353 349]]\n",
      "predicted labels (cls, x, y, w, h) - No objects detected!!\n",
      "\n",
      "batch 5, sample 5\n",
      "target labels (cls, x, y, w, h)\n",
      " [[ 11 106  60 273 242]]\n",
      "predicted labels (cls, x, y, w, h)\n",
      " [[  7 101  63 304 241]]\n",
      "\n",
      "batch 5, sample 6\n",
      "target labels (cls, x, y, w, h)\n",
      " [[  7 110 132 265 338]\n",
      " [ 14 143   1 174 191]]\n",
      "predicted labels (cls, x, y, w, h)\n",
      " [[  7 132  94 232 372]\n",
      " [ 14   0 -56 140 542]]\n",
      "\n",
      "batch 5, sample 7\n",
      "target labels (cls, x, y, w, h)\n",
      " [[ 11   1   4 140 109]\n",
      " [  7 387  68 106  52]]\n",
      "predicted labels (cls, x, y, w, h)\n",
      " [[ 11 399  71  71  42]]\n",
      "\n",
      "batch 5, sample 8\n",
      "target labels (cls, x, y, w, h)\n",
      " [[  9  17  86 265 359]]\n",
      "predicted labels (cls, x, y, w, h)\n",
      " [[  9  47 103 217 354]]\n",
      "\n",
      "batch 5, sample 9\n",
      "target labels (cls, x, y, w, h)\n",
      " [[  7  85  30 415 345]]\n",
      "predicted labels (cls, x, y, w, h)\n",
      " [[  7  92  69 387 288]]\n",
      "\n",
      "batch 5, sample 10\n",
      "target labels (cls, x, y, w, h)\n",
      " [[ 18  84  39 318 274]\n",
      " [ 18   1  56 156 251]\n",
      " [ 14 406 114  14  31]]\n",
      "predicted labels (cls, x, y, w, h)\n",
      " [[ 14 400 115  15  42]\n",
      " [ 14 405 109  14  27]]\n",
      "\n",
      "batch 5, sample 11\n",
      "target labels (cls, x, y, w, h)\n",
      " [[ 12   2   1 318 499]]\n",
      "predicted labels (cls, x, y, w, h) - No objects detected!!\n",
      "\n",
      "batch 5, sample 12\n",
      "target labels (cls, x, y, w, h)\n",
      " [[  8 105   1 290 374]]\n",
      "predicted labels (cls, x, y, w, h) - No objects detected!!\n",
      "\n",
      "batch 5, sample 13\n",
      "target labels (cls, x, y, w, h)\n",
      " [[  7 134 145 195 197]]\n",
      "predicted labels (cls, x, y, w, h)\n",
      " [[  7 152 134 183 216]]\n",
      "\n",
      "batch 5, sample 14\n",
      "target labels (cls, x, y, w, h)\n",
      " [[ 14  87 152 190 200]\n",
      " [ 14 253 163 191 192]]\n",
      "predicted labels (cls, x, y, w, h)\n",
      " [[ 14 246 112 229 281]]\n",
      "\n",
      "batch 5, sample 15\n",
      "target labels (cls, x, y, w, h)\n",
      " [[ 18   1 128 388 176]\n",
      " [ 18 241 144 231 149]]\n",
      "predicted labels (cls, x, y, w, h)\n",
      " [[  0 -44 105 507 225]]\n",
      "\n",
      "batch 6, sample 0\n",
      "target labels (cls, x, y, w, h)\n",
      " [[ 19 106  31 180 190]\n",
      " [ 19 401  31  99 114]\n",
      " [ 14 180  88 320 287]]\n",
      "predicted labels (cls, x, y, w, h) - No objects detected!!\n",
      "\n",
      "batch 6, sample 1\n",
      "target labels (cls, x, y, w, h)\n",
      " [[ 14 284 381  22  64]\n",
      " [  3 238 339  74  15]]\n",
      "predicted labels (cls, x, y, w, h) - No objects detected!!\n",
      "\n",
      "batch 6, sample 2\n",
      "target labels (cls, x, y, w, h)\n",
      " [[  6  69  22 378 316]\n",
      " [  6 176  14  73  27]]\n",
      "predicted labels (cls, x, y, w, h)\n",
      " [[  6  30  58 444 244]]\n",
      "\n",
      "batch 6, sample 3\n",
      "target labels (cls, x, y, w, h)\n",
      " [[  5  25 157 461 176]\n",
      " [ 14 135 207  17  19]]\n",
      "predicted labels (cls, x, y, w, h)\n",
      " [[   5 -115  120  728  245]]\n",
      "\n",
      "batch 6, sample 4\n",
      "target labels (cls, x, y, w, h)\n",
      " [[  6 201 115 107  98]]\n",
      "predicted labels (cls, x, y, w, h)\n",
      " [[  6 170 106 161 108]]\n",
      "\n",
      "batch 6, sample 5\n",
      "target labels (cls, x, y, w, h)\n",
      " [[ 14  60  85 162 290]]\n",
      "predicted labels (cls, x, y, w, h) - No objects detected!!\n",
      "\n",
      "batch 6, sample 6\n",
      "target labels (cls, x, y, w, h)\n",
      " [[  7 179 113 178 240]]\n",
      "predicted labels (cls, x, y, w, h) - No objects detected!!\n",
      "\n",
      "batch 6, sample 7\n",
      "target labels (cls, x, y, w, h)\n",
      " [[  6 422   4  71  24]\n",
      " [  6 266   1 113  59]\n",
      " [  6  82   1 303 234]\n",
      " [ 14 244  71 129 212]\n",
      " [  1 167 168 298 198]]\n",
      "predicted labels (cls, x, y, w, h) - No objects detected!!\n",
      "\n",
      "batch 6, sample 8\n",
      "target labels (cls, x, y, w, h)\n",
      " [[ 14   1  23  70 170]\n",
      " [ 14 111  52 286 322]\n",
      " [ 10   1 245 399 255]\n",
      " [  8 172  68  54 113]]\n",
      "predicted labels (cls, x, y, w, h)\n",
      " [[  8 176  54  41  89]\n",
      " [  8 116  63  47 128]\n",
      " [ 14   4  32  34 125]]\n",
      "\n",
      "batch 6, sample 9\n",
      "target labels (cls, x, y, w, h)\n",
      " [[  7  11  95 248 169]\n",
      " [ 15 211  24  78  85]\n",
      " [ 15 272  57  87  76]\n",
      " [ 15 346   1 108 148]\n",
      " [  4   8  18  54 148]]\n",
      "predicted labels (cls, x, y, w, h) - No objects detected!!\n",
      "\n",
      "batch 6, sample 10\n",
      "target labels (cls, x, y, w, h)\n",
      " [[ 13  26 136 451 232]\n",
      " [ 14 133 110 213 157]]\n",
      "predicted labels (cls, x, y, w, h)\n",
      " [[ 13  78 132 330 202]]\n",
      "\n",
      "batch 6, sample 11\n",
      "target labels (cls, x, y, w, h)\n",
      " [[  4  50 179 108 321]\n",
      " [  4 185 172 127 328]\n",
      " [  4 152 176 107 324]\n",
      " [ 15 279 151  42  77]]\n",
      "predicted labels (cls, x, y, w, h) - No objects detected!!\n",
      "\n",
      "batch 6, sample 12\n",
      "target labels (cls, x, y, w, h)\n",
      " [[ 14 387 128  65 118]\n",
      " [ 14 339  81  72 200]\n",
      " [ 14 289 140  20  33]\n",
      " [ 14 126  80  92  84]\n",
      " [ 14  10  83 162 287]\n",
      " [  3   2   1 498 374]]\n",
      "predicted labels (cls, x, y, w, h)\n",
      " [[ 14  32 126 122 192]\n",
      " [ 14 330  80  63 166]]\n",
      "\n",
      "batch 6, sample 13\n",
      "target labels (cls, x, y, w, h)\n",
      " [[  8 423 260  76 103]]\n",
      "predicted labels (cls, x, y, w, h)\n",
      " [[  8 405 265  84  83]]\n",
      "\n",
      "batch 6, sample 14\n",
      "target labels (cls, x, y, w, h)\n",
      " [[ 17   1  34 483 341]]\n",
      "predicted labels (cls, x, y, w, h) - No objects detected!!\n",
      "\n",
      "batch 6, sample 15\n",
      "target labels (cls, x, y, w, h)\n",
      " [[ 14   4  27 432 348]]\n",
      "predicted labels (cls, x, y, w, h) - No objects detected!!\n",
      "\n",
      "batch 7, sample 0\n",
      "target labels (cls, x, y, w, h)\n",
      " [[ 17   1  52 263 257]\n",
      " [  8 194  53 172 188]\n",
      " [ 14  93  18 148 220]\n",
      " [ 14  48 154 327 346]]\n",
      "predicted labels (cls, x, y, w, h) - No objects detected!!\n",
      "\n",
      "batch 7, sample 1\n",
      "target labels (cls, x, y, w, h)\n",
      " [[  3 160 102  82  70]]\n",
      "predicted labels (cls, x, y, w, h)\n",
      " [[  3 144 109 120  54]]\n",
      "\n",
      "batch 7, sample 2\n",
      "target labels (cls, x, y, w, h)\n",
      " [[  8 450 144  25  23]\n",
      " [  8 453 150  16  18]\n",
      " [  8 462 163  38  94]\n",
      " [  8 400 163  24  34]\n",
      " [  8 435 182  51  98]\n",
      " [  8 475 205  25  17]\n",
      " [  8 368 195  85 121]\n",
      " [  8 375 234 114 141]\n",
      " [  8 323 191  65 133]\n",
      " [  8 327 222  68 128]\n",
      " [  8 380 239 120 136]\n",
      " [  8 355 328  30  47]\n",
      " [  8 202 366  88   9]\n",
      " [  8  11 366  54   9]\n",
      " [ 10 461 152  39  73]\n",
      " [ 10 416 167  84  97]\n",
      " [ 10 332 202 147 148]\n",
      " [ 10  63 269 240 106]\n",
      " [ 14 213 160 141 215]\n",
      " [  8 336 245  12  30]\n",
      " [ 14 203  69  64 151]]\n",
      "predicted labels (cls, x, y, w, h)\n",
      " [[  8 402 259  86 136]\n",
      " [ 14 222  81  37 105]]\n"
     ]
    },
    {
     "name": "stdout",
     "output_type": "stream",
     "text": [
      "\n",
      "batch 7, sample 3\n",
      "target labels (cls, x, y, w, h)\n",
      " [[  1   8   1 367 470]]\n",
      "predicted labels (cls, x, y, w, h) - No objects detected!!\n",
      "\n",
      "batch 7, sample 4\n",
      "target labels (cls, x, y, w, h)\n",
      " [[ 14   1   1 434 374]]\n",
      "predicted labels (cls, x, y, w, h)\n",
      " [[  14 -131  -49  757  471]]\n",
      "\n",
      "batch 7, sample 5\n",
      "target labels (cls, x, y, w, h)\n",
      " [[ 14   1  80 300 295]\n",
      " [ 14 178  64 322 311]\n",
      " [ 19  28  98  42  34]]\n",
      "predicted labels (cls, x, y, w, h)\n",
      " [[ 14 200  65 250 305]]\n",
      "\n",
      "batch 7, sample 6\n",
      "target labels (cls, x, y, w, h)\n",
      " [[  7  22   9 449 453]]\n",
      "predicted labels (cls, x, y, w, h)\n",
      " [[  7 118  82 259 311]]\n",
      "\n",
      "batch 7, sample 7\n",
      "target labels (cls, x, y, w, h)\n",
      " [[  2 330  70 154  92]\n",
      " [  2  23  47 141  96]]\n",
      "predicted labels (cls, x, y, w, h)\n",
      " [[  2  29  54 128 105]]\n",
      "\n",
      "batch 7, sample 8\n",
      "target labels (cls, x, y, w, h)\n",
      " [[  7  26  28 395 294]]\n",
      "predicted labels (cls, x, y, w, h) - No objects detected!!\n",
      "\n",
      "batch 7, sample 9\n",
      "target labels (cls, x, y, w, h)\n",
      " [[ 17 128 159 372 147]\n",
      " [  8 283 184 106 155]\n",
      " [  8  18 174 118 141]\n",
      " [  8 106 163  77 120]\n",
      " [  8 141 201 112 128]]\n",
      "predicted labels (cls, x, y, w, h) - No objects detected!!\n",
      "\n",
      "batch 7, sample 10\n",
      "target labels (cls, x, y, w, h)\n",
      " [[ 11 142  13 221 292]]\n",
      "predicted labels (cls, x, y, w, h) - No objects detected!!\n",
      "\n",
      "batch 7, sample 11\n",
      "target labels (cls, x, y, w, h)\n",
      " [[  3   1   1 498 262]]\n",
      "predicted labels (cls, x, y, w, h) - No objects detected!!\n",
      "\n",
      "batch 7, sample 12\n",
      "target labels (cls, x, y, w, h)\n",
      " [[  1  43  29 379 219]]\n",
      "predicted labels (cls, x, y, w, h) - No objects detected!!\n",
      "\n",
      "batch 7, sample 13\n",
      "target labels (cls, x, y, w, h)\n",
      " [[  8 153 232  65  60]\n",
      " [  8 281 232 112  72]\n",
      " [  8   1 310  72  65]\n",
      " [  8 180 336 180  39]\n",
      " [ 10   1 282 499  93]]\n",
      "predicted labels (cls, x, y, w, h)\n",
      " [[  8 274 255 107  89]\n",
      " [  8 292 249  80  49]]\n",
      "\n",
      "batch 7, sample 14\n",
      "target labels (cls, x, y, w, h)\n",
      " [[ 14 271  42 179 291]]\n",
      "predicted labels (cls, x, y, w, h)\n",
      " [[ 14 282  84 152 210]]\n",
      "\n",
      "batch 7, sample 15\n",
      "target labels (cls, x, y, w, h)\n",
      " [[  5 115 151 193 138]]\n",
      "predicted labels (cls, x, y, w, h)\n",
      " [[  5  84 132 248 168]]\n",
      "\n",
      "batch 8, sample 0\n",
      "target labels (cls, x, y, w, h)\n",
      " [[  9 302 160  64  67]\n",
      " [  9 269 161  40  62]\n",
      " [  9  88 162  31  45]\n",
      " [  9  64 169  24  29]\n",
      " [  9 133 167  24  33]\n",
      " [  9 172 166  23  28]\n",
      " [  6 172 163 119  91]\n",
      " [  6 368 152  81  72]\n",
      " [  6 321 141  33  25]]\n",
      "predicted labels (cls, x, y, w, h)\n",
      " [[  6 158 158 172 101]]\n",
      "\n",
      "batch 8, sample 1\n",
      "target labels (cls, x, y, w, h)\n",
      " [[ 11 175 122 189 253]\n",
      " [ 14   1 198 499 177]]\n",
      "predicted labels (cls, x, y, w, h)\n",
      " [[  4 357  55  14  21]\n",
      " [  4 350  56   8  12]]\n",
      "\n",
      "batch 8, sample 2\n",
      "target labels (cls, x, y, w, h)\n",
      " [[ 17   1 137 498 243]\n",
      " [ 14 115  24 329 352]]\n",
      "predicted labels (cls, x, y, w, h) - No objects detected!!\n",
      "\n",
      "batch 8, sample 3\n",
      "target labels (cls, x, y, w, h)\n",
      " [[ 14  42 249  57 126]\n",
      " [ 14 313 242  41 128]\n",
      " [ 14 347 247  26 109]\n",
      " [ 14 123 235  50 140]\n",
      " [ 14 122 246  25  82]\n",
      " [ 14 282 249  25  74]\n",
      " [ 14 367 256  17  71]\n",
      " [ 15 226 262  75  23]]\n",
      "predicted labels (cls, x, y, w, h)\n",
      " [[ 14 311 259  39  84]\n",
      " [ 14 110 213  65 166]]\n",
      "\n",
      "batch 8, sample 4\n",
      "target labels (cls, x, y, w, h)\n",
      " [[ 14  58  21 135 313]\n",
      " [ 14 229  32 134 302]\n",
      " [ 14 342  12 124 322]\n",
      " [ 14  45  61  19  50]]\n",
      "predicted labels (cls, x, y, w, h)\n",
      " [[ 14  44  64  27  43]\n",
      " [ 14  39  67  18  32]\n",
      " [ 14  76  51 104 242]\n",
      " [ 14 234 -47 113 470]]\n",
      "\n",
      "batch 8, sample 5\n",
      "target labels (cls, x, y, w, h)\n",
      " [[ 19   8 111 155 144]\n",
      " [ 19 157 115 179 174]\n",
      " [ 19 151   1 113  37]\n",
      " [ 17 364  36 136 113]\n",
      " [ 14 128 149  10  20]\n",
      " [ 14 119 151  15  20]\n",
      " [  8   1  63 114  68]]\n",
      "predicted labels (cls, x, y, w, h) - No objects detected!!\n",
      "\n",
      "batch 8, sample 6\n",
      "target labels (cls, x, y, w, h)\n",
      " [[ 18  86 161 386  96]]\n",
      "predicted labels (cls, x, y, w, h) - No objects detected!!\n",
      "\n",
      "batch 8, sample 7\n",
      "target labels (cls, x, y, w, h)\n",
      " [[  4 159 289  40 122]\n",
      " [ 14   2  42 294 369]\n",
      " [  8   2 187  79 183]]\n",
      "predicted labels (cls, x, y, w, h)\n",
      " [[  4 117 309 130 100]\n",
      " [ 10  63 308 205 104]\n",
      " [ 14  36  31 209 352]]\n",
      "\n",
      "batch 8, sample 8\n",
      "target labels (cls, x, y, w, h)\n",
      " [[  5 253 171  39  30]\n",
      " [  6   1 188 196 187]\n",
      " [  6 417 181  83 194]]\n",
      "predicted labels (cls, x, y, w, h)\n",
      " [[  6 257 173  57  34]\n",
      " [  6 430 203  81 143]]\n",
      "\n",
      "batch 8, sample 9\n",
      "target labels (cls, x, y, w, h)\n",
      " [[ 14  42  35 203 259]]\n",
      "predicted labels (cls, x, y, w, h) - No objects detected!!\n",
      "\n",
      "batch 8, sample 10\n",
      "target labels (cls, x, y, w, h)\n",
      " [[ 11 169  52 213 283]]\n",
      "predicted labels (cls, x, y, w, h)\n",
      " [[ 11 183  31 210 320]]\n",
      "\n",
      "batch 8, sample 11\n",
      "target labels (cls, x, y, w, h)\n",
      " [[ 14  62 120 138 317]\n",
      " [ 15 150  57 208 255]]\n",
      "predicted labels (cls, x, y, w, h)\n",
      " [[ 15 208  57 127 303]]\n",
      "\n",
      "batch 8, sample 12\n",
      "target labels (cls, x, y, w, h)\n",
      " [[  9   1   1 459 374]]\n",
      "predicted labels (cls, x, y, w, h) - No objects detected!!\n",
      "\n",
      "batch 8, sample 13\n",
      "target labels (cls, x, y, w, h)\n",
      " [[ 18  51 126 208 117]\n",
      " [ 14 369 221  18  43]\n",
      " [ 14 389 218  12  41]]\n",
      "predicted labels (cls, x, y, w, h)\n",
      " [[ 14 370 223  11  26]\n",
      " [ 14 393 217  16  31]\n",
      " [ 14 385 224  11  24]\n",
      " [ 14 386 214  11  24]\n",
      " [ 14 362 218  14  26]\n",
      " [ 18 -85 116 502 130]]\n",
      "\n",
      "batch 8, sample 14\n",
      "target labels (cls, x, y, w, h)\n",
      " [[  6 130  95 317 146]]\n",
      "predicted labels (cls, x, y, w, h)\n",
      " [[  6  24  54 531 218]]\n",
      "\n",
      "batch 8, sample 15\n",
      "target labels (cls, x, y, w, h)\n",
      " [[ 16 219 127 281 248]\n",
      " [ 14  73  90 123 285]]\n",
      "predicted labels (cls, x, y, w, h)\n",
      " [[ 14  62  64 144 321]]\n",
      "\n",
      "batch 9, sample 0\n",
      "target labels (cls, x, y, w, h)\n",
      " [[  0 369  56 131  56]\n",
      " [  0 213  50  65  27]\n",
      " [  0  17  96 456 175]]\n",
      "predicted labels (cls, x, y, w, h)\n",
      " [[  0 369  74 136  47]\n",
      " [  6 158  72  47  11]]\n",
      "\n",
      "batch 9, sample 1\n",
      "target labels (cls, x, y, w, h)\n",
      " [[ 11 184   3 237 299]]\n",
      "predicted labels (cls, x, y, w, h)\n",
      " [[ 11 172  37 240 251]]\n",
      "\n",
      "batch 9, sample 2\n",
      "target labels (cls, x, y, w, h)\n",
      " [[ 14   1   1 374 499]]\n",
      "predicted labels (cls, x, y, w, h) - No objects detected!!\n",
      "\n",
      "batch 9, sample 3\n",
      "target labels (cls, x, y, w, h)\n",
      " [[ 14   1   1 463 374]\n",
      " [ 14 274  33 226 342]]\n",
      "predicted labels (cls, x, y, w, h) - No objects detected!!\n",
      "\n",
      "batch 9, sample 4\n",
      "target labels (cls, x, y, w, h)\n",
      " [[  2 192 105 308 198]\n",
      " [  2 151 124  93 208]]\n",
      "predicted labels (cls, x, y, w, h) - No objects detected!!\n",
      "\n",
      "batch 9, sample 5\n",
      "target labels (cls, x, y, w, h)\n",
      " [[  3   1 138 408 195]\n",
      " [ 14 220 146 223 160]\n",
      " [ 14 110 122 132 169]\n",
      " [ 14 145 168 104 107]]\n",
      "predicted labels (cls, x, y, w, h)\n",
      " [[ 14 241 172 108 133]]\n",
      "\n",
      "batch 9, sample 6\n",
      "target labels (cls, x, y, w, h)\n",
      " [[  5  86  75 313 194]\n",
      " [  5 401  54  99 235]\n",
      " [ 14 221 130  36  74]]\n",
      "predicted labels (cls, x, y, w, h)\n",
      " [[  5 161  90 173 148]\n",
      " [ 14 217 109  47  96]]\n",
      "\n",
      "batch 9, sample 7\n",
      "target labels (cls, x, y, w, h)\n",
      " [[ 11 138 108 232 173]\n",
      " [  8  31  80 469 295]]\n",
      "predicted labels (cls, x, y, w, h)\n",
      " [[ 11 109 103 346 221]]\n",
      "\n",
      "batch 9, sample 8\n",
      "target labels (cls, x, y, w, h)\n",
      " [[  9   1  37 495 278]]\n",
      "predicted labels (cls, x, y, w, h) - No objects detected!!\n",
      "\n",
      "batch 9, sample 9\n",
      "target labels (cls, x, y, w, h)\n",
      " [[ 14 181   1 319 374]\n",
      " [ 14   1   1 256 351]]\n",
      "predicted labels (cls, x, y, w, h)\n",
      " [[ 14 167 -45 257 461]\n",
      " [ 14  50  32 170 300]]\n",
      "\n",
      "batch 9, sample 10\n",
      "target labels (cls, x, y, w, h)\n",
      " [[ 18  93  48 269 222]]\n",
      "predicted labels (cls, x, y, w, h) - No objects detected!!\n",
      "\n",
      "batch 9, sample 11\n",
      "target labels (cls, x, y, w, h)\n",
      " [[  7  69  63 414 178]]\n",
      "predicted labels (cls, x, y, w, h) - No objects detected!!\n",
      "\n",
      "batch 9, sample 12\n",
      "target labels (cls, x, y, w, h)\n",
      " [[ 18   1 137 456 238]]\n",
      "predicted labels (cls, x, y, w, h) - No objects detected!!\n",
      "\n",
      "batch 9, sample 13\n",
      "target labels (cls, x, y, w, h)\n",
      " [[ 14   1 184 212 191]\n",
      " [ 11 190 133 236 242]]\n",
      "predicted labels (cls, x, y, w, h) - No objects detected!!\n",
      "\n",
      "batch 9, sample 14\n",
      "target labels (cls, x, y, w, h)\n",
      " [[  7   1  89 318 286]\n",
      " [  7 115 130 376 245]\n",
      " [ 17   1   1 338 164]]\n",
      "predicted labels (cls, x, y, w, h) - No objects detected!!\n",
      "\n",
      "batch 9, sample 15\n",
      "target labels (cls, x, y, w, h)\n",
      " [[  7  37  63 296 329]]\n",
      "predicted labels (cls, x, y, w, h) - No objects detected!!\n",
      "\n",
      "batch 10, sample 0\n",
      "target labels (cls, x, y, w, h)\n",
      " [[  8  64 188 206 187]\n",
      " [ 14  24  86 212 289]\n",
      " [ 14 277  76 223 299]\n",
      " [ 11 297 154 201 221]]\n",
      "predicted labels (cls, x, y, w, h)\n",
      " [[ 11 241 142 252 256]\n",
      " [ 14  73  68 125 298]]\n",
      "\n",
      "batch 10, sample 1\n",
      "target labels (cls, x, y, w, h)\n",
      " [[ 17  17 200 483 175]]\n",
      "predicted labels (cls, x, y, w, h)\n",
      " [[ 17  39 176 505 244]\n",
      " [ 17 188 186 266 181]]\n",
      "\n",
      "batch 10, sample 2\n",
      "target labels (cls, x, y, w, h)\n",
      " [[ 18  13 140 443 135]]\n",
      "predicted labels (cls, x, y, w, h) - No objects detected!!\n"
     ]
    },
    {
     "name": "stdout",
     "output_type": "stream",
     "text": [
      "\n",
      "batch 10, sample 3\n",
      "target labels (cls, x, y, w, h)\n",
      " [[  1 111   1 264 499]]\n",
      "predicted labels (cls, x, y, w, h) - No objects detected!!\n",
      "\n",
      "batch 10, sample 4\n",
      "target labels (cls, x, y, w, h)\n",
      " [[ 14  24 119 241 178]]\n",
      "predicted labels (cls, x, y, w, h) - No objects detected!!\n",
      "\n",
      "batch 10, sample 5\n",
      "target labels (cls, x, y, w, h)\n",
      " [[ 19 108 170 206 179]\n",
      " [  4  66 254  49 116]\n",
      " [  4 209  51  25  64]]\n",
      "predicted labels (cls, x, y, w, h)\n",
      " [[ 19  70 101 282 295]]\n",
      "\n",
      "batch 10, sample 6\n",
      "target labels (cls, x, y, w, h)\n",
      " [[ 11  87   1 402 374]]\n",
      "predicted labels (cls, x, y, w, h)\n",
      " [[ 11 103  16 370 344]]\n",
      "\n",
      "batch 10, sample 7\n",
      "target labels (cls, x, y, w, h)\n",
      " [[ 11 247 282 103  61]]\n",
      "predicted labels (cls, x, y, w, h) - No objects detected!!\n",
      "\n",
      "batch 10, sample 8\n",
      "target labels (cls, x, y, w, h)\n",
      " [[  7  54  42 446 333]]\n",
      "predicted labels (cls, x, y, w, h) - No objects detected!!\n",
      "\n",
      "batch 10, sample 9\n",
      "target labels (cls, x, y, w, h)\n",
      " [[ 14   1 109 233 266]]\n",
      "predicted labels (cls, x, y, w, h)\n",
      " [[ 14 165 137  83 147]\n",
      " [ 14 122 143 106 100]]\n",
      "\n",
      "batch 10, sample 10\n",
      "target labels (cls, x, y, w, h)\n",
      " [[ 12 223 208  90 104]\n",
      " [ 12  78 241  54  62]]\n",
      "predicted labels (cls, x, y, w, h) - No objects detected!!\n",
      "\n",
      "batch 10, sample 11\n",
      "target labels (cls, x, y, w, h)\n",
      " [[  7  65  41 112 139]]\n",
      "predicted labels (cls, x, y, w, h)\n",
      " [[  7  86  47  76 117]]\n",
      "\n",
      "batch 10, sample 12\n",
      "target labels (cls, x, y, w, h)\n",
      " [[  2 160  94 106 194]]\n",
      "predicted labels (cls, x, y, w, h) - No objects detected!!\n",
      "\n",
      "batch 10, sample 13\n",
      "target labels (cls, x, y, w, h)\n",
      " [[ 15 211 227 143  82]\n",
      " [ 15  66 218 109  60]\n",
      " [ 15 393 203  71  43]\n",
      " [ 15 225 171  37  42]\n",
      " [ 15  18 176  81  74]\n",
      " [ 15  80 135 146 121]\n",
      " [ 15 277 161  28  29]\n",
      " [ 15 257 185  67  44]\n",
      " [ 15 261 216  89  40]\n",
      " [ 15 320 155  76  78]\n",
      " [ 15 481 196  19  50]]\n",
      "predicted labels (cls, x, y, w, h)\n",
      " [[ 15 418 188  54  51]\n",
      " [ 15 247 179  81 130]\n",
      " [ 15 422 168  46  47]\n",
      " [ 15 375 179  68  70]]\n",
      "\n",
      "batch 10, sample 14\n",
      "target labels (cls, x, y, w, h)\n",
      " [[ 15   5  53 336 447]\n",
      " [ 14   1 423 175  77]]\n",
      "predicted labels (cls, x, y, w, h) - No objects detected!!\n",
      "\n",
      "batch 10, sample 15\n",
      "target labels (cls, x, y, w, h)\n",
      " [[ 18 184 159 316  35]]\n",
      "predicted labels (cls, x, y, w, h) - No objects detected!!\n",
      "\n",
      "batch 11, sample 0\n",
      "target labels (cls, x, y, w, h)\n",
      " [[ 14 156 181 187 319]\n",
      " [ 14  88  82 246 418]\n",
      " [ 14  92 104 112 135]]\n",
      "predicted labels (cls, x, y, w, h)\n",
      " [[ 14  86 101  93 144]]\n",
      "\n",
      "batch 11, sample 1\n",
      "target labels (cls, x, y, w, h)\n",
      " [[ 11 177  30 185 259]]\n",
      "predicted labels (cls, x, y, w, h)\n",
      " [[ 11 216  66 136 195]]\n",
      "\n",
      "batch 11, sample 2\n",
      "target labels (cls, x, y, w, h)\n",
      " [[  4  96   1 179 499]]\n",
      "predicted labels (cls, x, y, w, h)\n",
      " [[  4 125   6 127 478]]\n",
      "\n",
      "batch 11, sample 3\n",
      "target labels (cls, x, y, w, h)\n",
      " [[ 14   1  41 298 334]\n",
      " [ 14 249  57 251 318]\n",
      " [ 14 421 103  79 272]]\n",
      "predicted labels (cls, x, y, w, h)\n",
      " [[ 14  65  59 224 306]]\n",
      "\n",
      "batch 11, sample 4\n",
      "target labels (cls, x, y, w, h)\n",
      " [[ 12  26   3 395 497]]\n",
      "predicted labels (cls, x, y, w, h)\n",
      " [[ 12  34  64 357 371]]\n",
      "\n",
      "batch 11, sample 5\n",
      "target labels (cls, x, y, w, h)\n",
      " [[  1 352   8 111  96]\n",
      " [  8  18 130 117 169]\n",
      " [  1   1  32 181 112]\n",
      " [  1   1   9 111 114]]\n",
      "predicted labels (cls, x, y, w, h)\n",
      " [[  1 359  21 102  79]\n",
      " [  1  14  25 158 132]]\n",
      "\n",
      "batch 11, sample 6\n",
      "target labels (cls, x, y, w, h)\n",
      " [[  7   1   1 499 374]]\n",
      "predicted labels (cls, x, y, w, h)\n",
      " [[  7   3  14 494 343]]\n",
      "\n",
      "batch 11, sample 7\n",
      "target labels (cls, x, y, w, h)\n",
      " [[  3   1   1 400 354]]\n",
      "predicted labels (cls, x, y, w, h)\n",
      " [[ 14 233 184  40  68]]\n",
      "\n",
      "batch 11, sample 8\n",
      "target labels (cls, x, y, w, h)\n",
      " [[ 10   1  78 499 255]\n",
      " [ 17  94   1 406 208]]\n",
      "predicted labels (cls, x, y, w, h) - No objects detected!!\n",
      "\n",
      "batch 11, sample 9\n",
      "target labels (cls, x, y, w, h)\n",
      " [[ 11  56  69 249 390]]\n",
      "predicted labels (cls, x, y, w, h)\n",
      " [[ 11  61  88 190 336]]\n",
      "\n",
      "batch 11, sample 10\n",
      "target labels (cls, x, y, w, h)\n",
      " [[  6 401 282  92  48]\n",
      " [  5 236 207 196 126]\n",
      " [ 14  34 281  19  55]\n",
      " [ 14  53 282  21  54]\n",
      " [ 14 134 288  15  44]\n",
      " [ 14 194 287  15  40]\n",
      " [ 14 208 287  15  42]]\n",
      "predicted labels (cls, x, y, w, h)\n",
      " [[  5 259 222 140  93]\n",
      " [  6 406 280  81  51]\n",
      " [ 14  42 285  25  40]\n",
      " [ 14 311 231  33  26]\n",
      " [ 14 321 215  14  14]\n",
      " [ 14 121 285  27  44]\n",
      " [ 14 191 290  22  36]]\n",
      "\n",
      "batch 11, sample 11\n",
      "target labels (cls, x, y, w, h)\n",
      " [[ 15   1   1 499 374]]\n",
      "predicted labels (cls, x, y, w, h) - No objects detected!!\n",
      "\n",
      "batch 11, sample 12\n",
      "target labels (cls, x, y, w, h)\n",
      " [[  7 231 113 156 218]\n",
      " [  7 137 108 134 138]]\n",
      "predicted labels (cls, x, y, w, h) - No objects detected!!\n",
      "\n",
      "batch 11, sample 13\n",
      "target labels (cls, x, y, w, h)\n",
      " [[  2  41  84 341 163]]\n",
      "predicted labels (cls, x, y, w, h)\n",
      " [[  2 150 121 196 107]]\n",
      "\n",
      "batch 11, sample 14\n",
      "target labels (cls, x, y, w, h)\n",
      " [[  0 146 158 285  93]]\n",
      "predicted labels (cls, x, y, w, h)\n",
      " [[  0 143 163 295  78]]\n",
      "\n",
      "batch 11, sample 15\n",
      "target labels (cls, x, y, w, h)\n",
      " [[ 12   1 119 233 360]]\n",
      "predicted labels (cls, x, y, w, h) - No objects detected!!\n",
      "\n",
      "batch 12, sample 0\n",
      "target labels (cls, x, y, w, h)\n",
      " [[ 10  27 219 432 156]\n",
      " [ 14 342  51 158 321]\n",
      " [ 14   8  92 106 218]\n",
      " [ 14 216  85 125 148]\n",
      " [ 15 277   2  23  29]\n",
      " [ 15 160   1  30  30]\n",
      " [  8  91  81  40  64]\n",
      " [  8 123  82  13  67]\n",
      " [ 14  23  56  46  37]]\n",
      "predicted labels (cls, x, y, w, h)\n",
      " [[ 14 199  85 163 146]\n",
      " [ 14  23  51  62  90]\n",
      " [ 14  40  60  31  37]]\n",
      "\n",
      "batch 12, sample 1\n",
      "target labels (cls, x, y, w, h)\n",
      " [[ 17  21 136 208 177]\n",
      " [ 19 352 109  65  52]]\n",
      "predicted labels (cls, x, y, w, h)\n",
      " [[ 17   7 134 264 162]\n",
      " [ 19 310  86 123  89]]\n",
      "\n",
      "batch 12, sample 2\n",
      "target labels (cls, x, y, w, h)\n",
      " [[ 14  23  78 134 389]\n",
      " [ 14 117  82 104 271]\n",
      " [ 14 188 120 103 289]]\n",
      "predicted labels (cls, x, y, w, h)\n",
      " [[ 14  25  62 125 399]\n",
      " [ 14 204 121  74 275]]\n",
      "\n",
      "batch 12, sample 3\n",
      "target labels (cls, x, y, w, h)\n",
      " [[  0  23  66 469 156]]\n",
      "predicted labels (cls, x, y, w, h) - No objects detected!!\n",
      "\n",
      "batch 12, sample 4\n",
      "target labels (cls, x, y, w, h)\n",
      " [[  1  16  35 480 290]]\n",
      "predicted labels (cls, x, y, w, h) - No objects detected!!\n",
      "\n",
      "batch 12, sample 5\n",
      "target labels (cls, x, y, w, h)\n",
      " [[  6   1   1 161  59]\n",
      " [ 11 195 122 254 211]]\n",
      "predicted labels (cls, x, y, w, h) - No objects detected!!\n",
      "\n",
      "batch 12, sample 6\n",
      "target labels (cls, x, y, w, h)\n",
      " [[  7 213 123 287 218]\n",
      " [ 14   1   1 164 374]]\n",
      "predicted labels (cls, x, y, w, h) - No objects detected!!\n",
      "\n",
      "batch 12, sample 7\n",
      "target labels (cls, x, y, w, h)\n",
      " [[  8 286 191  97  80]\n",
      " [ 17  55 181 222 194]]\n",
      "predicted labels (cls, x, y, w, h) - No objects detected!!\n",
      "\n",
      "batch 12, sample 8\n",
      "target labels (cls, x, y, w, h)\n",
      " [[ 18  61  50 350 248]]\n",
      "predicted labels (cls, x, y, w, h) - No objects detected!!\n",
      "\n",
      "batch 12, sample 9\n",
      "target labels (cls, x, y, w, h)\n",
      " [[  9  77 180 176 240]]\n",
      "predicted labels (cls, x, y, w, h)\n",
      " [[  9  38 171 240 231]]\n",
      "\n",
      "batch 12, sample 10\n",
      "target labels (cls, x, y, w, h)\n",
      " [[  1   1  22 499 353]]\n",
      "predicted labels (cls, x, y, w, h) - No objects detected!!\n",
      "\n",
      "batch 12, sample 11\n",
      "target labels (cls, x, y, w, h)\n",
      " [[  4 232 253  28  79]\n",
      " [  4 181 192  34  73]\n",
      " [  4 129 201  59  56]\n",
      " [  4  54 274  31  58]\n",
      " [  4 147 269  22  64]\n",
      " [  8 385 273  61  58]\n",
      " [  8   1 235  47  59]\n",
      " [ 10   1 253 363  79]\n",
      " [ 14 184 118 221 215]\n",
      " [ 14  40  91 146 182]]\n",
      "predicted labels (cls, x, y, w, h) - No objects detected!!\n",
      "\n",
      "batch 12, sample 12\n",
      "target labels (cls, x, y, w, h)\n",
      " [[  0   1  99 422 142]\n",
      " [  6 410 139  40  31]]\n",
      "predicted labels (cls, x, y, w, h)\n",
      " [[  6 407 136  63  38]]\n",
      "\n",
      "batch 12, sample 13\n",
      "target labels (cls, x, y, w, h)\n",
      " [[  4 291 162  42 156]\n",
      " [  7 141 123 141 195]]\n",
      "predicted labels (cls, x, y, w, h)\n",
      " [[  7 133 123 163 197]]\n",
      "\n",
      "batch 12, sample 14\n",
      "target labels (cls, x, y, w, h)\n",
      " [[ 16 169 262 206 115]\n",
      " [ 16 216  18 123 124]\n",
      " [ 14 193  87 112 191]\n",
      " [ 14   1  55  36 146]\n",
      " [ 14   1   1  73 144]\n",
      " [ 14  99   1  53  70]\n",
      " [ 14  98   1  69  40]\n",
      " [ 14 183   1  58  96]\n",
      " [ 14 285   1  36  32]\n",
      " [ 14 402  55  80 149]\n",
      " [ 14 364  20 136 184]\n",
      " [ 14 427  82  73 295]\n",
      " [ 14 469   1  31  40]]\n",
      "predicted labels (cls, x, y, w, h)\n",
      " [[ 14 186  -2  59  81]\n",
      " [ 14 397  31  82 152]\n",
      " [ 16 229  37 107  79]]\n",
      "\n",
      "batch 12, sample 15\n",
      "target labels (cls, x, y, w, h)\n",
      " [[ 14  86   1 414 374]]\n",
      "predicted labels (cls, x, y, w, h) - No objects detected!!\n",
      "\n",
      "batch 13, sample 0\n",
      "target labels (cls, x, y, w, h)\n",
      " [[ 14  98 149 136 294]\n",
      " [  1 115 279 128 203]]\n",
      "predicted labels (cls, x, y, w, h)\n",
      " [[  1  80 232 175 264]\n",
      " [ 14 101 165 129 243]]\n"
     ]
    },
    {
     "name": "stdout",
     "output_type": "stream",
     "text": [
      "\n",
      "batch 13, sample 1\n",
      "target labels (cls, x, y, w, h)\n",
      " [[ 14 234  25 113 230]\n",
      " [ 14 144  56  91 117]\n",
      " [ 13 101 140 331 178]\n",
      " [ 13  31 133 123 153]]\n",
      "predicted labels (cls, x, y, w, h) - No objects detected!!\n",
      "\n",
      "batch 13, sample 2\n",
      "target labels (cls, x, y, w, h)\n",
      " [[ 14  93  28 407 372]]\n",
      "predicted labels (cls, x, y, w, h) - No objects detected!!\n",
      "\n",
      "batch 13, sample 3\n",
      "target labels (cls, x, y, w, h)\n",
      " [[ 14 187 123 120 377]\n",
      " [ 14  93 167 116 318]\n",
      " [  8 274 267  87 146]\n",
      " [ 15  33 251  38  90]\n",
      " [ 15   1 191  38 148]]\n",
      "predicted labels (cls, x, y, w, h)\n",
      " [[ 14  88 155 128 336]\n",
      " [ 15  22 250  34  79]]\n",
      "\n",
      "batch 13, sample 4\n",
      "target labels (cls, x, y, w, h)\n",
      " [[ 19 251  41 175 135]\n",
      " [ 19  17  41 176 140]\n",
      " [ 14   1 175  32 116]\n",
      " [ 14 289 183  83  84]]\n",
      "predicted labels (cls, x, y, w, h)\n",
      " [[ 14  -4 181  54 183]\n",
      " [ 14 247 152 153 135]\n",
      " [ 14 310 183  48  79]]\n",
      "\n",
      "batch 13, sample 5\n",
      "target labels (cls, x, y, w, h)\n",
      " [[ 15 387  99  98 131]\n",
      " [ 15 368 185  64  50]\n",
      " [ 15 244 168  29  29]\n",
      " [ 15 255 110  78  72]\n",
      " [  8 267 141  83  74]\n",
      " [ 14 247  53  35  92]\n",
      " [  8 310 141 121  85]]\n",
      "predicted labels (cls, x, y, w, h)\n",
      " [[  8 264 159  46  46]\n",
      " [ 14 235  47  42  63]\n",
      " [ 15 401  99  78 120]\n",
      " [ 15 366 170  73  68]\n",
      " [ 15 264 128  47  62]]\n",
      "\n",
      "batch 13, sample 6\n",
      "target labels (cls, x, y, w, h)\n",
      " [[  1 280 258  72  39]\n",
      " [ 14 293 233  41  55]\n",
      " [  6 144 248  54  27]\n",
      " [  6 418 240  19  23]]\n",
      "predicted labels (cls, x, y, w, h)\n",
      " [[  1 302 255  35  40]\n",
      " [  1 278 255  35  34]\n",
      " [ 14 294 225  40  55]]\n",
      "\n",
      "batch 13, sample 7\n",
      "target labels (cls, x, y, w, h)\n",
      " [[ 16 131 121  89 141]\n",
      " [ 16 206 121 100 142]\n",
      " [ 16 275 135  88 130]\n",
      " [ 16 310 154  90 146]]\n",
      "predicted labels (cls, x, y, w, h)\n",
      " [[ 16 270 135 123 171]]\n",
      "\n",
      "batch 13, sample 8\n",
      "target labels (cls, x, y, w, h)\n",
      " [[ 11 205  97 190 277]]\n",
      "predicted labels (cls, x, y, w, h) - No objects detected!!\n",
      "\n",
      "batch 13, sample 9\n",
      "target labels (cls, x, y, w, h)\n",
      " [[ 11 119   1 262 328]]\n",
      "predicted labels (cls, x, y, w, h) - No objects detected!!\n",
      "\n",
      "batch 13, sample 10\n",
      "target labels (cls, x, y, w, h)\n",
      " [[  8 189 146 110 139]\n",
      " [  8 397 143 103 159]\n",
      " [ 15  26 237 120  97]]\n",
      "predicted labels (cls, x, y, w, h)\n",
      " [[  8 395 131 105 178]\n",
      " [  8 199 163  96 102]\n",
      " [ 15  11 209 167 128]]\n",
      "\n",
      "batch 13, sample 11\n",
      "target labels (cls, x, y, w, h)\n",
      " [[  1 295 163 128 112]\n",
      " [  1  83 109 112 103]\n",
      " [ 14 323  85  83 165]\n",
      " [ 14  80  75  70 110]]\n",
      "predicted labels (cls, x, y, w, h)\n",
      " [[  1  70 112 129  95]\n",
      " [ 14 313  78  90 175]\n",
      " [ 14 101  93  64  98]]\n",
      "\n",
      "batch 13, sample 12\n",
      "target labels (cls, x, y, w, h)\n",
      " [[ 11 219 105 153 131]\n",
      " [ 11   1 138 144  76]]\n",
      "predicted labels (cls, x, y, w, h) - No objects detected!!\n",
      "\n",
      "batch 13, sample 13\n",
      "target labels (cls, x, y, w, h)\n",
      " [[  9 119  29 163 246]\n",
      " [  9 209 137  72 140]]\n",
      "predicted labels (cls, x, y, w, h) - No objects detected!!\n",
      "\n",
      "batch 13, sample 14\n",
      "target labels (cls, x, y, w, h)\n",
      " [[  6   2   1 498 374]]\n",
      "predicted labels (cls, x, y, w, h) - No objects detected!!\n",
      "\n",
      "batch 13, sample 15\n",
      "target labels (cls, x, y, w, h)\n",
      " [[  8  19  17 288 462]]\n",
      "predicted labels (cls, x, y, w, h) - No objects detected!!\n",
      "\n",
      "batch 14, sample 0\n",
      "target labels (cls, x, y, w, h)\n",
      " [[  3 369  89  90 196]\n",
      " [  3 276 115  70 173]\n",
      " [  3  24 141 114 201]]\n",
      "predicted labels (cls, x, y, w, h)\n",
      " [[ 14  74 298  35  32]\n",
      " [ 14 325 247  15  28]\n",
      " [ 14 429 241  14  27]\n",
      " [ 14 398 242  15  26]]\n",
      "\n",
      "batch 14, sample 1\n",
      "target labels (cls, x, y, w, h)\n",
      " [[ 13  27   1 473 374]]\n",
      "predicted labels (cls, x, y, w, h) - No objects detected!!\n",
      "\n",
      "batch 14, sample 2\n",
      "target labels (cls, x, y, w, h)\n",
      " [[ 18   1 259 285 125]]\n",
      "predicted labels (cls, x, y, w, h) - No objects detected!!\n",
      "\n",
      "batch 14, sample 3\n",
      "target labels (cls, x, y, w, h)\n",
      " [[  4  50  10 113 301]]\n",
      "predicted labels (cls, x, y, w, h) - No objects detected!!\n",
      "\n",
      "batch 14, sample 4\n",
      "target labels (cls, x, y, w, h)\n",
      " [[  5  79 152 347 125]]\n",
      "predicted labels (cls, x, y, w, h)\n",
      " [[  5  59 131 386 162]]\n",
      "\n",
      "batch 14, sample 5\n",
      "target labels (cls, x, y, w, h)\n",
      " [[  8 103 136 221 228]\n",
      " [  8 328 184 172 191]\n",
      " [  4  63 280  72  61]\n",
      " [ 14  73  79 421 237]]\n",
      "predicted labels (cls, x, y, w, h) - No objects detected!!\n",
      "\n",
      "batch 14, sample 6\n",
      "target labels (cls, x, y, w, h)\n",
      " [[  9 130  74 239 297]]\n",
      "predicted labels (cls, x, y, w, h)\n",
      " [[  9 100 103 297 225]]\n",
      "\n",
      "batch 14, sample 7\n",
      "target labels (cls, x, y, w, h)\n",
      " [[ 11 288 182  85  55]\n",
      " [ 14  26   6 303 332]\n",
      " [  8  54 106 196 225]]\n",
      "predicted labels (cls, x, y, w, h) - No objects detected!!\n",
      "\n",
      "batch 14, sample 8\n",
      "target labels (cls, x, y, w, h)\n",
      " [[  2 155  72 268 249]\n",
      " [  2 240   1 260 156]]\n",
      "predicted labels (cls, x, y, w, h) - No objects detected!!\n",
      "\n",
      "batch 14, sample 9\n",
      "target labels (cls, x, y, w, h)\n",
      " [[  2 126 133 274 130]]\n",
      "predicted labels (cls, x, y, w, h) - No objects detected!!\n",
      "\n",
      "batch 14, sample 10\n",
      "target labels (cls, x, y, w, h)\n",
      " [[ 14 118  82 123 274]\n",
      " [ 14 210  54 177 302]\n",
      " [  4 230 205  34  51]\n",
      " [ 14 428 231  58  75]\n",
      " [  6  60 157  79  62]]\n",
      "predicted labels (cls, x, y, w, h)\n",
      " [[  6  31 142 128  81]\n",
      " [ 14 419 231  58 108]]\n",
      "\n",
      "batch 14, sample 11\n",
      "target labels (cls, x, y, w, h)\n",
      " [[ 14  28 100 147 206]\n",
      " [ 14   2   1 101 238]]\n",
      "predicted labels (cls, x, y, w, h)\n",
      " [[ 14  -7  13 105 244]]\n",
      "\n",
      "batch 14, sample 12\n",
      "target labels (cls, x, y, w, h)\n",
      " [[  8 147 288 124  87]\n",
      " [  8 289 270 113 105]\n",
      " [  8 144 246  96 129]\n",
      " [  8 273 239  57 109]\n",
      " [ 10 121 253 242 122]]\n",
      "predicted labels (cls, x, y, w, h)\n",
      " [[  8 262 228  54  35]]\n",
      "\n",
      "batch 14, sample 13\n",
      "target labels (cls, x, y, w, h)\n",
      " [[  7  15  78 309 333]]\n",
      "predicted labels (cls, x, y, w, h) - No objects detected!!\n",
      "\n",
      "batch 14, sample 14\n",
      "target labels (cls, x, y, w, h)\n",
      " [[  6 349  80 151 153]\n",
      " [  6   9  55  35  21]\n",
      " [  6  45  57  35  19]\n",
      " [ 13  14 143 410 212]\n",
      " [ 14 163  49  47 101]\n",
      " [  6  61  65 224  82]\n",
      " [ 14 258  62 135 293]]\n",
      "predicted labels (cls, x, y, w, h)\n",
      " [[  6 153  63 127  65]\n",
      " [  6  35  52  46  25]\n",
      " [  6 324  48 238 200]\n",
      " [  6  60  53  69  30]\n",
      " [ 14 363  56  12  21]]\n",
      "\n",
      "batch 14, sample 15\n",
      "target labels (cls, x, y, w, h)\n",
      " [[  2 178  93 166 153]]\n",
      "predicted labels (cls, x, y, w, h)\n",
      " [[  2 187 117 126  96]]\n",
      "\n",
      "breaking\n",
      "Finished object detections! Check the results.\n",
      "95.7883882522583\n"
     ]
    },
    {
     "data": {
      "text/plain": [
       "<Figure size 432x288 with 0 Axes>"
      ]
     },
     "metadata": {},
     "output_type": "display_data"
    },
    {
     "data": {
      "text/plain": [
       "<Figure size 432x288 with 0 Axes>"
      ]
     },
     "metadata": {},
     "output_type": "display_data"
    },
    {
     "data": {
      "text/plain": [
       "<Figure size 432x288 with 0 Axes>"
      ]
     },
     "metadata": {},
     "output_type": "display_data"
    },
    {
     "data": {
      "text/plain": [
       "<Figure size 432x288 with 0 Axes>"
      ]
     },
     "metadata": {},
     "output_type": "display_data"
    },
    {
     "data": {
      "text/plain": [
       "<Figure size 432x288 with 0 Axes>"
      ]
     },
     "metadata": {},
     "output_type": "display_data"
    },
    {
     "data": {
      "text/plain": [
       "<Figure size 432x288 with 0 Axes>"
      ]
     },
     "metadata": {},
     "output_type": "display_data"
    },
    {
     "data": {
      "text/plain": [
       "<Figure size 432x288 with 0 Axes>"
      ]
     },
     "metadata": {},
     "output_type": "display_data"
    },
    {
     "data": {
      "text/plain": [
       "<Figure size 432x288 with 0 Axes>"
      ]
     },
     "metadata": {},
     "output_type": "display_data"
    },
    {
     "data": {
      "text/plain": [
       "<Figure size 432x288 with 0 Axes>"
      ]
     },
     "metadata": {},
     "output_type": "display_data"
    },
    {
     "data": {
      "text/plain": [
       "<Figure size 432x288 with 0 Axes>"
      ]
     },
     "metadata": {},
     "output_type": "display_data"
    },
    {
     "data": {
      "text/plain": [
       "<Figure size 432x288 with 0 Axes>"
      ]
     },
     "metadata": {},
     "output_type": "display_data"
    },
    {
     "data": {
      "text/plain": [
       "<Figure size 432x288 with 0 Axes>"
      ]
     },
     "metadata": {},
     "output_type": "display_data"
    },
    {
     "data": {
      "text/plain": [
       "<Figure size 432x288 with 0 Axes>"
      ]
     },
     "metadata": {},
     "output_type": "display_data"
    },
    {
     "data": {
      "text/plain": [
       "<Figure size 432x288 with 0 Axes>"
      ]
     },
     "metadata": {},
     "output_type": "display_data"
    },
    {
     "data": {
      "text/plain": [
       "<Figure size 432x288 with 0 Axes>"
      ]
     },
     "metadata": {},
     "output_type": "display_data"
    },
    {
     "data": {
      "text/plain": [
       "<Figure size 432x288 with 0 Axes>"
      ]
     },
     "metadata": {},
     "output_type": "display_data"
    },
    {
     "data": {
      "text/plain": [
       "<Figure size 432x288 with 0 Axes>"
      ]
     },
     "metadata": {},
     "output_type": "display_data"
    },
    {
     "data": {
      "text/plain": [
       "<Figure size 432x288 with 0 Axes>"
      ]
     },
     "metadata": {},
     "output_type": "display_data"
    },
    {
     "data": {
      "text/plain": [
       "<Figure size 432x288 with 0 Axes>"
      ]
     },
     "metadata": {},
     "output_type": "display_data"
    },
    {
     "data": {
      "text/plain": [
       "<Figure size 432x288 with 0 Axes>"
      ]
     },
     "metadata": {},
     "output_type": "display_data"
    },
    {
     "data": {
      "text/plain": [
       "<Figure size 432x288 with 0 Axes>"
      ]
     },
     "metadata": {},
     "output_type": "display_data"
    },
    {
     "data": {
      "text/plain": [
       "<Figure size 432x288 with 0 Axes>"
      ]
     },
     "metadata": {},
     "output_type": "display_data"
    },
    {
     "data": {
      "text/plain": [
       "<Figure size 432x288 with 0 Axes>"
      ]
     },
     "metadata": {},
     "output_type": "display_data"
    },
    {
     "data": {
      "text/plain": [
       "<Figure size 432x288 with 0 Axes>"
      ]
     },
     "metadata": {},
     "output_type": "display_data"
    },
    {
     "data": {
      "text/plain": [
       "<Figure size 432x288 with 0 Axes>"
      ]
     },
     "metadata": {},
     "output_type": "display_data"
    },
    {
     "data": {
      "text/plain": [
       "<Figure size 432x288 with 0 Axes>"
      ]
     },
     "metadata": {},
     "output_type": "display_data"
    },
    {
     "data": {
      "text/plain": [
       "<Figure size 432x288 with 0 Axes>"
      ]
     },
     "metadata": {},
     "output_type": "display_data"
    },
    {
     "data": {
      "text/plain": [
       "<Figure size 432x288 with 0 Axes>"
      ]
     },
     "metadata": {},
     "output_type": "display_data"
    },
    {
     "data": {
      "text/plain": [
       "<Figure size 432x288 with 0 Axes>"
      ]
     },
     "metadata": {},
     "output_type": "display_data"
    },
    {
     "data": {
      "text/plain": [
       "<Figure size 432x288 with 0 Axes>"
      ]
     },
     "metadata": {},
     "output_type": "display_data"
    },
    {
     "data": {
      "text/plain": [
       "<Figure size 432x288 with 0 Axes>"
      ]
     },
     "metadata": {},
     "output_type": "display_data"
    },
    {
     "data": {
      "text/plain": [
       "<Figure size 432x288 with 0 Axes>"
      ]
     },
     "metadata": {},
     "output_type": "display_data"
    },
    {
     "data": {
      "text/plain": [
       "<Figure size 432x288 with 0 Axes>"
      ]
     },
     "metadata": {},
     "output_type": "display_data"
    },
    {
     "data": {
      "text/plain": [
       "<Figure size 432x288 with 0 Axes>"
      ]
     },
     "metadata": {},
     "output_type": "display_data"
    },
    {
     "data": {
      "text/plain": [
       "<Figure size 432x288 with 0 Axes>"
      ]
     },
     "metadata": {},
     "output_type": "display_data"
    },
    {
     "data": {
      "text/plain": [
       "<Figure size 432x288 with 0 Axes>"
      ]
     },
     "metadata": {},
     "output_type": "display_data"
    },
    {
     "data": {
      "text/plain": [
       "<Figure size 432x288 with 0 Axes>"
      ]
     },
     "metadata": {},
     "output_type": "display_data"
    },
    {
     "data": {
      "text/plain": [
       "<Figure size 432x288 with 0 Axes>"
      ]
     },
     "metadata": {},
     "output_type": "display_data"
    },
    {
     "data": {
      "text/plain": [
       "<Figure size 432x288 with 0 Axes>"
      ]
     },
     "metadata": {},
     "output_type": "display_data"
    },
    {
     "data": {
      "text/plain": [
       "<Figure size 432x288 with 0 Axes>"
      ]
     },
     "metadata": {},
     "output_type": "display_data"
    },
    {
     "data": {
      "text/plain": [
       "<Figure size 432x288 with 0 Axes>"
      ]
     },
     "metadata": {},
     "output_type": "display_data"
    },
    {
     "data": {
      "text/plain": [
       "<Figure size 432x288 with 0 Axes>"
      ]
     },
     "metadata": {},
     "output_type": "display_data"
    },
    {
     "data": {
      "text/plain": [
       "<Figure size 432x288 with 0 Axes>"
      ]
     },
     "metadata": {},
     "output_type": "display_data"
    },
    {
     "data": {
      "text/plain": [
       "<Figure size 432x288 with 0 Axes>"
      ]
     },
     "metadata": {},
     "output_type": "display_data"
    },
    {
     "data": {
      "text/plain": [
       "<Figure size 432x288 with 0 Axes>"
      ]
     },
     "metadata": {},
     "output_type": "display_data"
    },
    {
     "data": {
      "text/plain": [
       "<Figure size 432x288 with 0 Axes>"
      ]
     },
     "metadata": {},
     "output_type": "display_data"
    },
    {
     "data": {
      "text/plain": [
       "<Figure size 432x288 with 0 Axes>"
      ]
     },
     "metadata": {},
     "output_type": "display_data"
    },
    {
     "data": {
      "text/plain": [
       "<Figure size 432x288 with 0 Axes>"
      ]
     },
     "metadata": {},
     "output_type": "display_data"
    },
    {
     "data": {
      "text/plain": [
       "<Figure size 432x288 with 0 Axes>"
      ]
     },
     "metadata": {},
     "output_type": "display_data"
    },
    {
     "data": {
      "text/plain": [
       "<Figure size 432x288 with 0 Axes>"
      ]
     },
     "metadata": {},
     "output_type": "display_data"
    },
    {
     "data": {
      "text/plain": [
       "<Figure size 432x288 with 0 Axes>"
      ]
     },
     "metadata": {},
     "output_type": "display_data"
    },
    {
     "data": {
      "text/plain": [
       "<Figure size 432x288 with 0 Axes>"
      ]
     },
     "metadata": {},
     "output_type": "display_data"
    },
    {
     "data": {
      "text/plain": [
       "<Figure size 432x288 with 0 Axes>"
      ]
     },
     "metadata": {},
     "output_type": "display_data"
    },
    {
     "data": {
      "text/plain": [
       "<Figure size 432x288 with 0 Axes>"
      ]
     },
     "metadata": {},
     "output_type": "display_data"
    },
    {
     "data": {
      "text/plain": [
       "<Figure size 432x288 with 0 Axes>"
      ]
     },
     "metadata": {},
     "output_type": "display_data"
    },
    {
     "data": {
      "text/plain": [
       "<Figure size 432x288 with 0 Axes>"
      ]
     },
     "metadata": {},
     "output_type": "display_data"
    },
    {
     "data": {
      "text/plain": [
       "<Figure size 432x288 with 0 Axes>"
      ]
     },
     "metadata": {},
     "output_type": "display_data"
    },
    {
     "data": {
      "text/plain": [
       "<Figure size 432x288 with 0 Axes>"
      ]
     },
     "metadata": {},
     "output_type": "display_data"
    },
    {
     "data": {
      "text/plain": [
       "<Figure size 432x288 with 0 Axes>"
      ]
     },
     "metadata": {},
     "output_type": "display_data"
    },
    {
     "data": {
      "text/plain": [
       "<Figure size 432x288 with 0 Axes>"
      ]
     },
     "metadata": {},
     "output_type": "display_data"
    },
    {
     "data": {
      "text/plain": [
       "<Figure size 432x288 with 0 Axes>"
      ]
     },
     "metadata": {},
     "output_type": "display_data"
    },
    {
     "data": {
      "text/plain": [
       "<Figure size 432x288 with 0 Axes>"
      ]
     },
     "metadata": {},
     "output_type": "display_data"
    },
    {
     "data": {
      "text/plain": [
       "<Figure size 432x288 with 0 Axes>"
      ]
     },
     "metadata": {},
     "output_type": "display_data"
    },
    {
     "data": {
      "text/plain": [
       "<Figure size 432x288 with 0 Axes>"
      ]
     },
     "metadata": {},
     "output_type": "display_data"
    },
    {
     "data": {
      "text/plain": [
       "<Figure size 432x288 with 0 Axes>"
      ]
     },
     "metadata": {},
     "output_type": "display_data"
    },
    {
     "data": {
      "text/plain": [
       "<Figure size 432x288 with 0 Axes>"
      ]
     },
     "metadata": {},
     "output_type": "display_data"
    },
    {
     "data": {
      "text/plain": [
       "<Figure size 432x288 with 0 Axes>"
      ]
     },
     "metadata": {},
     "output_type": "display_data"
    },
    {
     "data": {
      "text/plain": [
       "<Figure size 432x288 with 0 Axes>"
      ]
     },
     "metadata": {},
     "output_type": "display_data"
    },
    {
     "data": {
      "text/plain": [
       "<Figure size 432x288 with 0 Axes>"
      ]
     },
     "metadata": {},
     "output_type": "display_data"
    },
    {
     "data": {
      "text/plain": [
       "<Figure size 432x288 with 0 Axes>"
      ]
     },
     "metadata": {},
     "output_type": "display_data"
    },
    {
     "data": {
      "text/plain": [
       "<Figure size 432x288 with 0 Axes>"
      ]
     },
     "metadata": {},
     "output_type": "display_data"
    },
    {
     "data": {
      "text/plain": [
       "<Figure size 432x288 with 0 Axes>"
      ]
     },
     "metadata": {},
     "output_type": "display_data"
    },
    {
     "data": {
      "text/plain": [
       "<Figure size 432x288 with 0 Axes>"
      ]
     },
     "metadata": {},
     "output_type": "display_data"
    },
    {
     "data": {
      "text/plain": [
       "<Figure size 432x288 with 0 Axes>"
      ]
     },
     "metadata": {},
     "output_type": "display_data"
    },
    {
     "data": {
      "text/plain": [
       "<Figure size 432x288 with 0 Axes>"
      ]
     },
     "metadata": {},
     "output_type": "display_data"
    },
    {
     "data": {
      "text/plain": [
       "<Figure size 432x288 with 0 Axes>"
      ]
     },
     "metadata": {},
     "output_type": "display_data"
    },
    {
     "data": {
      "text/plain": [
       "<Figure size 432x288 with 0 Axes>"
      ]
     },
     "metadata": {},
     "output_type": "display_data"
    },
    {
     "data": {
      "text/plain": [
       "<Figure size 432x288 with 0 Axes>"
      ]
     },
     "metadata": {},
     "output_type": "display_data"
    },
    {
     "data": {
      "text/plain": [
       "<Figure size 432x288 with 0 Axes>"
      ]
     },
     "metadata": {},
     "output_type": "display_data"
    },
    {
     "data": {
      "text/plain": [
       "<Figure size 432x288 with 0 Axes>"
      ]
     },
     "metadata": {},
     "output_type": "display_data"
    },
    {
     "data": {
      "text/plain": [
       "<Figure size 432x288 with 0 Axes>"
      ]
     },
     "metadata": {},
     "output_type": "display_data"
    },
    {
     "data": {
      "text/plain": [
       "<Figure size 432x288 with 0 Axes>"
      ]
     },
     "metadata": {},
     "output_type": "display_data"
    },
    {
     "data": {
      "text/plain": [
       "<Figure size 432x288 with 0 Axes>"
      ]
     },
     "metadata": {},
     "output_type": "display_data"
    },
    {
     "data": {
      "text/plain": [
       "<Figure size 432x288 with 0 Axes>"
      ]
     },
     "metadata": {},
     "output_type": "display_data"
    },
    {
     "data": {
      "text/plain": [
       "<Figure size 432x288 with 0 Axes>"
      ]
     },
     "metadata": {},
     "output_type": "display_data"
    },
    {
     "data": {
      "text/plain": [
       "<Figure size 432x288 with 0 Axes>"
      ]
     },
     "metadata": {},
     "output_type": "display_data"
    },
    {
     "data": {
      "text/plain": [
       "<Figure size 432x288 with 0 Axes>"
      ]
     },
     "metadata": {},
     "output_type": "display_data"
    },
    {
     "data": {
      "text/plain": [
       "<Figure size 432x288 with 0 Axes>"
      ]
     },
     "metadata": {},
     "output_type": "display_data"
    },
    {
     "data": {
      "text/plain": [
       "<Figure size 432x288 with 0 Axes>"
      ]
     },
     "metadata": {},
     "output_type": "display_data"
    },
    {
     "data": {
      "text/plain": [
       "<Figure size 432x288 with 0 Axes>"
      ]
     },
     "metadata": {},
     "output_type": "display_data"
    },
    {
     "data": {
      "text/plain": [
       "<Figure size 432x288 with 0 Axes>"
      ]
     },
     "metadata": {},
     "output_type": "display_data"
    },
    {
     "data": {
      "text/plain": [
       "<Figure size 432x288 with 0 Axes>"
      ]
     },
     "metadata": {},
     "output_type": "display_data"
    },
    {
     "data": {
      "text/plain": [
       "<Figure size 432x288 with 0 Axes>"
      ]
     },
     "metadata": {},
     "output_type": "display_data"
    },
    {
     "data": {
      "text/plain": [
       "<Figure size 432x288 with 0 Axes>"
      ]
     },
     "metadata": {},
     "output_type": "display_data"
    },
    {
     "data": {
      "text/plain": [
       "<Figure size 432x288 with 0 Axes>"
      ]
     },
     "metadata": {},
     "output_type": "display_data"
    },
    {
     "data": {
      "text/plain": [
       "<Figure size 432x288 with 0 Axes>"
      ]
     },
     "metadata": {},
     "output_type": "display_data"
    },
    {
     "data": {
      "text/plain": [
       "<Figure size 432x288 with 0 Axes>"
      ]
     },
     "metadata": {},
     "output_type": "display_data"
    },
    {
     "data": {
      "text/plain": [
       "<Figure size 432x288 with 0 Axes>"
      ]
     },
     "metadata": {},
     "output_type": "display_data"
    },
    {
     "data": {
      "text/plain": [
       "<Figure size 432x288 with 0 Axes>"
      ]
     },
     "metadata": {},
     "output_type": "display_data"
    },
    {
     "data": {
      "text/plain": [
       "<Figure size 432x288 with 0 Axes>"
      ]
     },
     "metadata": {},
     "output_type": "display_data"
    },
    {
     "data": {
      "text/plain": [
       "<Figure size 432x288 with 0 Axes>"
      ]
     },
     "metadata": {},
     "output_type": "display_data"
    },
    {
     "data": {
      "text/plain": [
       "<Figure size 432x288 with 0 Axes>"
      ]
     },
     "metadata": {},
     "output_type": "display_data"
    },
    {
     "data": {
      "text/plain": [
       "<Figure size 432x288 with 0 Axes>"
      ]
     },
     "metadata": {},
     "output_type": "display_data"
    },
    {
     "data": {
      "text/plain": [
       "<Figure size 432x288 with 0 Axes>"
      ]
     },
     "metadata": {},
     "output_type": "display_data"
    },
    {
     "data": {
      "text/plain": [
       "<Figure size 432x288 with 0 Axes>"
      ]
     },
     "metadata": {},
     "output_type": "display_data"
    },
    {
     "data": {
      "text/plain": [
       "<Figure size 432x288 with 0 Axes>"
      ]
     },
     "metadata": {},
     "output_type": "display_data"
    },
    {
     "data": {
      "text/plain": [
       "<Figure size 432x288 with 0 Axes>"
      ]
     },
     "metadata": {},
     "output_type": "display_data"
    },
    {
     "data": {
      "text/plain": [
       "<Figure size 432x288 with 0 Axes>"
      ]
     },
     "metadata": {},
     "output_type": "display_data"
    },
    {
     "data": {
      "text/plain": [
       "<Figure size 432x288 with 0 Axes>"
      ]
     },
     "metadata": {},
     "output_type": "display_data"
    },
    {
     "data": {
      "text/plain": [
       "<Figure size 432x288 with 0 Axes>"
      ]
     },
     "metadata": {},
     "output_type": "display_data"
    },
    {
     "data": {
      "text/plain": [
       "<Figure size 432x288 with 0 Axes>"
      ]
     },
     "metadata": {},
     "output_type": "display_data"
    },
    {
     "data": {
      "text/plain": [
       "<Figure size 432x288 with 0 Axes>"
      ]
     },
     "metadata": {},
     "output_type": "display_data"
    },
    {
     "data": {
      "text/plain": [
       "<Figure size 432x288 with 0 Axes>"
      ]
     },
     "metadata": {},
     "output_type": "display_data"
    },
    {
     "data": {
      "text/plain": [
       "<Figure size 432x288 with 0 Axes>"
      ]
     },
     "metadata": {},
     "output_type": "display_data"
    },
    {
     "data": {
      "text/plain": [
       "<Figure size 432x288 with 0 Axes>"
      ]
     },
     "metadata": {},
     "output_type": "display_data"
    },
    {
     "data": {
      "text/plain": [
       "<Figure size 432x288 with 0 Axes>"
      ]
     },
     "metadata": {},
     "output_type": "display_data"
    },
    {
     "data": {
      "text/plain": [
       "<Figure size 432x288 with 0 Axes>"
      ]
     },
     "metadata": {},
     "output_type": "display_data"
    },
    {
     "data": {
      "text/plain": [
       "<Figure size 432x288 with 0 Axes>"
      ]
     },
     "metadata": {},
     "output_type": "display_data"
    },
    {
     "data": {
      "text/plain": [
       "<Figure size 432x288 with 0 Axes>"
      ]
     },
     "metadata": {},
     "output_type": "display_data"
    },
    {
     "data": {
      "text/plain": [
       "<Figure size 432x288 with 0 Axes>"
      ]
     },
     "metadata": {},
     "output_type": "display_data"
    },
    {
     "data": {
      "text/plain": [
       "<Figure size 432x288 with 0 Axes>"
      ]
     },
     "metadata": {},
     "output_type": "display_data"
    },
    {
     "data": {
      "text/plain": [
       "<Figure size 432x288 with 0 Axes>"
      ]
     },
     "metadata": {},
     "output_type": "display_data"
    },
    {
     "data": {
      "text/plain": [
       "<Figure size 432x288 with 0 Axes>"
      ]
     },
     "metadata": {},
     "output_type": "display_data"
    },
    {
     "data": {
      "text/plain": [
       "<Figure size 432x288 with 0 Axes>"
      ]
     },
     "metadata": {},
     "output_type": "display_data"
    },
    {
     "data": {
      "text/plain": [
       "<Figure size 432x288 with 0 Axes>"
      ]
     },
     "metadata": {},
     "output_type": "display_data"
    },
    {
     "data": {
      "text/plain": [
       "<Figure size 432x288 with 0 Axes>"
      ]
     },
     "metadata": {},
     "output_type": "display_data"
    },
    {
     "data": {
      "text/plain": [
       "<Figure size 432x288 with 0 Axes>"
      ]
     },
     "metadata": {},
     "output_type": "display_data"
    },
    {
     "data": {
      "text/plain": [
       "<Figure size 432x288 with 0 Axes>"
      ]
     },
     "metadata": {},
     "output_type": "display_data"
    },
    {
     "data": {
      "text/plain": [
       "<Figure size 432x288 with 0 Axes>"
      ]
     },
     "metadata": {},
     "output_type": "display_data"
    },
    {
     "data": {
      "text/plain": [
       "<Figure size 432x288 with 0 Axes>"
      ]
     },
     "metadata": {},
     "output_type": "display_data"
    },
    {
     "data": {
      "text/plain": [
       "<Figure size 432x288 with 0 Axes>"
      ]
     },
     "metadata": {},
     "output_type": "display_data"
    },
    {
     "data": {
      "text/plain": [
       "<Figure size 432x288 with 0 Axes>"
      ]
     },
     "metadata": {},
     "output_type": "display_data"
    },
    {
     "data": {
      "text/plain": [
       "<Figure size 432x288 with 0 Axes>"
      ]
     },
     "metadata": {},
     "output_type": "display_data"
    },
    {
     "data": {
      "text/plain": [
       "<Figure size 432x288 with 0 Axes>"
      ]
     },
     "metadata": {},
     "output_type": "display_data"
    },
    {
     "data": {
      "text/plain": [
       "<Figure size 432x288 with 0 Axes>"
      ]
     },
     "metadata": {},
     "output_type": "display_data"
    },
    {
     "data": {
      "text/plain": [
       "<Figure size 432x288 with 0 Axes>"
      ]
     },
     "metadata": {},
     "output_type": "display_data"
    },
    {
     "data": {
      "text/plain": [
       "<Figure size 432x288 with 0 Axes>"
      ]
     },
     "metadata": {},
     "output_type": "display_data"
    },
    {
     "data": {
      "text/plain": [
       "<Figure size 432x288 with 0 Axes>"
      ]
     },
     "metadata": {},
     "output_type": "display_data"
    },
    {
     "data": {
      "text/plain": [
       "<Figure size 432x288 with 0 Axes>"
      ]
     },
     "metadata": {},
     "output_type": "display_data"
    },
    {
     "data": {
      "text/plain": [
       "<Figure size 432x288 with 0 Axes>"
      ]
     },
     "metadata": {},
     "output_type": "display_data"
    },
    {
     "data": {
      "text/plain": [
       "<Figure size 432x288 with 0 Axes>"
      ]
     },
     "metadata": {},
     "output_type": "display_data"
    },
    {
     "data": {
      "text/plain": [
       "<Figure size 432x288 with 0 Axes>"
      ]
     },
     "metadata": {},
     "output_type": "display_data"
    },
    {
     "data": {
      "text/plain": [
       "<Figure size 432x288 with 0 Axes>"
      ]
     },
     "metadata": {},
     "output_type": "display_data"
    },
    {
     "data": {
      "text/plain": [
       "<Figure size 432x288 with 0 Axes>"
      ]
     },
     "metadata": {},
     "output_type": "display_data"
    },
    {
     "data": {
      "text/plain": [
       "<Figure size 432x288 with 0 Axes>"
      ]
     },
     "metadata": {},
     "output_type": "display_data"
    },
    {
     "data": {
      "text/plain": [
       "<Figure size 432x288 with 0 Axes>"
      ]
     },
     "metadata": {},
     "output_type": "display_data"
    },
    {
     "data": {
      "text/plain": [
       "<Figure size 432x288 with 0 Axes>"
      ]
     },
     "metadata": {},
     "output_type": "display_data"
    },
    {
     "data": {
      "text/plain": [
       "<Figure size 432x288 with 0 Axes>"
      ]
     },
     "metadata": {},
     "output_type": "display_data"
    },
    {
     "data": {
      "text/plain": [
       "<Figure size 432x288 with 0 Axes>"
      ]
     },
     "metadata": {},
     "output_type": "display_data"
    },
    {
     "data": {
      "text/plain": [
       "<Figure size 432x288 with 0 Axes>"
      ]
     },
     "metadata": {},
     "output_type": "display_data"
    },
    {
     "data": {
      "text/plain": [
       "<Figure size 432x288 with 0 Axes>"
      ]
     },
     "metadata": {},
     "output_type": "display_data"
    },
    {
     "data": {
      "text/plain": [
       "<Figure size 432x288 with 0 Axes>"
      ]
     },
     "metadata": {},
     "output_type": "display_data"
    },
    {
     "data": {
      "text/plain": [
       "<Figure size 432x288 with 0 Axes>"
      ]
     },
     "metadata": {},
     "output_type": "display_data"
    },
    {
     "data": {
      "text/plain": [
       "<Figure size 432x288 with 0 Axes>"
      ]
     },
     "metadata": {},
     "output_type": "display_data"
    },
    {
     "data": {
      "text/plain": [
       "<Figure size 432x288 with 0 Axes>"
      ]
     },
     "metadata": {},
     "output_type": "display_data"
    },
    {
     "data": {
      "text/plain": [
       "<Figure size 432x288 with 0 Axes>"
      ]
     },
     "metadata": {},
     "output_type": "display_data"
    },
    {
     "data": {
      "text/plain": [
       "<Figure size 432x288 with 0 Axes>"
      ]
     },
     "metadata": {},
     "output_type": "display_data"
    },
    {
     "data": {
      "text/plain": [
       "<Figure size 432x288 with 0 Axes>"
      ]
     },
     "metadata": {},
     "output_type": "display_data"
    },
    {
     "data": {
      "text/plain": [
       "<Figure size 432x288 with 0 Axes>"
      ]
     },
     "metadata": {},
     "output_type": "display_data"
    },
    {
     "data": {
      "text/plain": [
       "<Figure size 432x288 with 0 Axes>"
      ]
     },
     "metadata": {},
     "output_type": "display_data"
    },
    {
     "data": {
      "text/plain": [
       "<Figure size 432x288 with 0 Axes>"
      ]
     },
     "metadata": {},
     "output_type": "display_data"
    },
    {
     "data": {
      "text/plain": [
       "<Figure size 432x288 with 0 Axes>"
      ]
     },
     "metadata": {},
     "output_type": "display_data"
    },
    {
     "data": {
      "text/plain": [
       "<Figure size 432x288 with 0 Axes>"
      ]
     },
     "metadata": {},
     "output_type": "display_data"
    },
    {
     "data": {
      "text/plain": [
       "<Figure size 432x288 with 0 Axes>"
      ]
     },
     "metadata": {},
     "output_type": "display_data"
    },
    {
     "data": {
      "text/plain": [
       "<Figure size 432x288 with 0 Axes>"
      ]
     },
     "metadata": {},
     "output_type": "display_data"
    },
    {
     "data": {
      "text/plain": [
       "<Figure size 432x288 with 0 Axes>"
      ]
     },
     "metadata": {},
     "output_type": "display_data"
    },
    {
     "data": {
      "text/plain": [
       "<Figure size 432x288 with 0 Axes>"
      ]
     },
     "metadata": {},
     "output_type": "display_data"
    },
    {
     "data": {
      "text/plain": [
       "<Figure size 432x288 with 0 Axes>"
      ]
     },
     "metadata": {},
     "output_type": "display_data"
    },
    {
     "data": {
      "text/plain": [
       "<Figure size 432x288 with 0 Axes>"
      ]
     },
     "metadata": {},
     "output_type": "display_data"
    },
    {
     "data": {
      "text/plain": [
       "<Figure size 432x288 with 0 Axes>"
      ]
     },
     "metadata": {},
     "output_type": "display_data"
    },
    {
     "data": {
      "text/plain": [
       "<Figure size 432x288 with 0 Axes>"
      ]
     },
     "metadata": {},
     "output_type": "display_data"
    },
    {
     "data": {
      "text/plain": [
       "<Figure size 432x288 with 0 Axes>"
      ]
     },
     "metadata": {},
     "output_type": "display_data"
    },
    {
     "data": {
      "text/plain": [
       "<Figure size 432x288 with 0 Axes>"
      ]
     },
     "metadata": {},
     "output_type": "display_data"
    },
    {
     "data": {
      "text/plain": [
       "<Figure size 432x288 with 0 Axes>"
      ]
     },
     "metadata": {},
     "output_type": "display_data"
    },
    {
     "data": {
      "text/plain": [
       "<Figure size 432x288 with 0 Axes>"
      ]
     },
     "metadata": {},
     "output_type": "display_data"
    },
    {
     "data": {
      "text/plain": [
       "<Figure size 432x288 with 0 Axes>"
      ]
     },
     "metadata": {},
     "output_type": "display_data"
    },
    {
     "data": {
      "text/plain": [
       "<Figure size 432x288 with 0 Axes>"
      ]
     },
     "metadata": {},
     "output_type": "display_data"
    },
    {
     "data": {
      "text/plain": [
       "<Figure size 432x288 with 0 Axes>"
      ]
     },
     "metadata": {},
     "output_type": "display_data"
    },
    {
     "data": {
      "text/plain": [
       "<Figure size 432x288 with 0 Axes>"
      ]
     },
     "metadata": {},
     "output_type": "display_data"
    },
    {
     "data": {
      "text/plain": [
       "<Figure size 432x288 with 0 Axes>"
      ]
     },
     "metadata": {},
     "output_type": "display_data"
    },
    {
     "data": {
      "text/plain": [
       "<Figure size 432x288 with 0 Axes>"
      ]
     },
     "metadata": {},
     "output_type": "display_data"
    },
    {
     "data": {
      "text/plain": [
       "<Figure size 432x288 with 0 Axes>"
      ]
     },
     "metadata": {},
     "output_type": "display_data"
    },
    {
     "data": {
      "text/plain": [
       "<Figure size 432x288 with 0 Axes>"
      ]
     },
     "metadata": {},
     "output_type": "display_data"
    },
    {
     "data": {
      "text/plain": [
       "<Figure size 432x288 with 0 Axes>"
      ]
     },
     "metadata": {},
     "output_type": "display_data"
    },
    {
     "data": {
      "text/plain": [
       "<Figure size 432x288 with 0 Axes>"
      ]
     },
     "metadata": {},
     "output_type": "display_data"
    },
    {
     "data": {
      "text/plain": [
       "<Figure size 432x288 with 0 Axes>"
      ]
     },
     "metadata": {},
     "output_type": "display_data"
    },
    {
     "data": {
      "text/plain": [
       "<Figure size 432x288 with 0 Axes>"
      ]
     },
     "metadata": {},
     "output_type": "display_data"
    },
    {
     "data": {
      "text/plain": [
       "<Figure size 432x288 with 0 Axes>"
      ]
     },
     "metadata": {},
     "output_type": "display_data"
    },
    {
     "data": {
      "text/plain": [
       "<Figure size 432x288 with 0 Axes>"
      ]
     },
     "metadata": {},
     "output_type": "display_data"
    },
    {
     "data": {
      "text/plain": [
       "<Figure size 432x288 with 0 Axes>"
      ]
     },
     "metadata": {},
     "output_type": "display_data"
    },
    {
     "data": {
      "text/plain": [
       "<Figure size 432x288 with 0 Axes>"
      ]
     },
     "metadata": {},
     "output_type": "display_data"
    },
    {
     "data": {
      "text/plain": [
       "<Figure size 432x288 with 0 Axes>"
      ]
     },
     "metadata": {},
     "output_type": "display_data"
    },
    {
     "data": {
      "text/plain": [
       "<Figure size 432x288 with 0 Axes>"
      ]
     },
     "metadata": {},
     "output_type": "display_data"
    },
    {
     "data": {
      "text/plain": [
       "<Figure size 432x288 with 0 Axes>"
      ]
     },
     "metadata": {},
     "output_type": "display_data"
    },
    {
     "data": {
      "text/plain": [
       "<Figure size 432x288 with 0 Axes>"
      ]
     },
     "metadata": {},
     "output_type": "display_data"
    },
    {
     "data": {
      "text/plain": [
       "<Figure size 432x288 with 0 Axes>"
      ]
     },
     "metadata": {},
     "output_type": "display_data"
    },
    {
     "data": {
      "text/plain": [
       "<Figure size 432x288 with 0 Axes>"
      ]
     },
     "metadata": {},
     "output_type": "display_data"
    },
    {
     "data": {
      "text/plain": [
       "<Figure size 432x288 with 0 Axes>"
      ]
     },
     "metadata": {},
     "output_type": "display_data"
    },
    {
     "data": {
      "text/plain": [
       "<Figure size 432x288 with 0 Axes>"
      ]
     },
     "metadata": {},
     "output_type": "display_data"
    },
    {
     "data": {
      "text/plain": [
       "<Figure size 432x288 with 0 Axes>"
      ]
     },
     "metadata": {},
     "output_type": "display_data"
    },
    {
     "data": {
      "text/plain": [
       "<Figure size 432x288 with 0 Axes>"
      ]
     },
     "metadata": {},
     "output_type": "display_data"
    },
    {
     "data": {
      "text/plain": [
       "<Figure size 432x288 with 0 Axes>"
      ]
     },
     "metadata": {},
     "output_type": "display_data"
    },
    {
     "data": {
      "text/plain": [
       "<Figure size 432x288 with 0 Axes>"
      ]
     },
     "metadata": {},
     "output_type": "display_data"
    },
    {
     "data": {
      "text/plain": [
       "<Figure size 432x288 with 0 Axes>"
      ]
     },
     "metadata": {},
     "output_type": "display_data"
    },
    {
     "data": {
      "text/plain": [
       "<Figure size 432x288 with 0 Axes>"
      ]
     },
     "metadata": {},
     "output_type": "display_data"
    },
    {
     "data": {
      "text/plain": [
       "<Figure size 432x288 with 0 Axes>"
      ]
     },
     "metadata": {},
     "output_type": "display_data"
    },
    {
     "data": {
      "text/plain": [
       "<Figure size 432x288 with 0 Axes>"
      ]
     },
     "metadata": {},
     "output_type": "display_data"
    },
    {
     "data": {
      "text/plain": [
       "<Figure size 432x288 with 0 Axes>"
      ]
     },
     "metadata": {},
     "output_type": "display_data"
    },
    {
     "data": {
      "text/plain": [
       "<Figure size 432x288 with 0 Axes>"
      ]
     },
     "metadata": {},
     "output_type": "display_data"
    },
    {
     "data": {
      "text/plain": [
       "<Figure size 432x288 with 0 Axes>"
      ]
     },
     "metadata": {},
     "output_type": "display_data"
    },
    {
     "data": {
      "text/plain": [
       "<Figure size 432x288 with 0 Axes>"
      ]
     },
     "metadata": {},
     "output_type": "display_data"
    },
    {
     "data": {
      "text/plain": [
       "<Figure size 432x288 with 0 Axes>"
      ]
     },
     "metadata": {},
     "output_type": "display_data"
    },
    {
     "data": {
      "text/plain": [
       "<Figure size 432x288 with 0 Axes>"
      ]
     },
     "metadata": {},
     "output_type": "display_data"
    },
    {
     "data": {
      "text/plain": [
       "<Figure size 432x288 with 0 Axes>"
      ]
     },
     "metadata": {},
     "output_type": "display_data"
    },
    {
     "data": {
      "text/plain": [
       "<Figure size 432x288 with 0 Axes>"
      ]
     },
     "metadata": {},
     "output_type": "display_data"
    },
    {
     "data": {
      "text/plain": [
       "<Figure size 432x288 with 0 Axes>"
      ]
     },
     "metadata": {},
     "output_type": "display_data"
    },
    {
     "data": {
      "text/plain": [
       "<Figure size 432x288 with 0 Axes>"
      ]
     },
     "metadata": {},
     "output_type": "display_data"
    },
    {
     "data": {
      "text/plain": [
       "<Figure size 432x288 with 0 Axes>"
      ]
     },
     "metadata": {},
     "output_type": "display_data"
    },
    {
     "data": {
      "text/plain": [
       "<Figure size 432x288 with 0 Axes>"
      ]
     },
     "metadata": {},
     "output_type": "display_data"
    },
    {
     "data": {
      "text/plain": [
       "<Figure size 432x288 with 0 Axes>"
      ]
     },
     "metadata": {},
     "output_type": "display_data"
    },
    {
     "data": {
      "text/plain": [
       "<Figure size 432x288 with 0 Axes>"
      ]
     },
     "metadata": {},
     "output_type": "display_data"
    },
    {
     "data": {
      "text/plain": [
       "<Figure size 432x288 with 0 Axes>"
      ]
     },
     "metadata": {},
     "output_type": "display_data"
    },
    {
     "data": {
      "text/plain": [
       "<Figure size 432x288 with 0 Axes>"
      ]
     },
     "metadata": {},
     "output_type": "display_data"
    },
    {
     "data": {
      "text/plain": [
       "<Figure size 432x288 with 0 Axes>"
      ]
     },
     "metadata": {},
     "output_type": "display_data"
    },
    {
     "data": {
      "text/plain": [
       "<Figure size 432x288 with 0 Axes>"
      ]
     },
     "metadata": {},
     "output_type": "display_data"
    },
    {
     "data": {
      "text/plain": [
       "<Figure size 432x288 with 0 Axes>"
      ]
     },
     "metadata": {},
     "output_type": "display_data"
    },
    {
     "data": {
      "text/plain": [
       "<Figure size 432x288 with 0 Axes>"
      ]
     },
     "metadata": {},
     "output_type": "display_data"
    },
    {
     "data": {
      "text/plain": [
       "<Figure size 432x288 with 0 Axes>"
      ]
     },
     "metadata": {},
     "output_type": "display_data"
    },
    {
     "data": {
      "text/plain": [
       "<Figure size 432x288 with 0 Axes>"
      ]
     },
     "metadata": {},
     "output_type": "display_data"
    },
    {
     "data": {
      "text/plain": [
       "<Figure size 432x288 with 0 Axes>"
      ]
     },
     "metadata": {},
     "output_type": "display_data"
    },
    {
     "data": {
      "text/plain": [
       "<Figure size 432x288 with 0 Axes>"
      ]
     },
     "metadata": {},
     "output_type": "display_data"
    },
    {
     "data": {
      "text/plain": [
       "<Figure size 432x288 with 0 Axes>"
      ]
     },
     "metadata": {},
     "output_type": "display_data"
    },
    {
     "data": {
      "text/plain": [
       "<Figure size 432x288 with 0 Axes>"
      ]
     },
     "metadata": {},
     "output_type": "display_data"
    },
    {
     "data": {
      "text/plain": [
       "<Figure size 432x288 with 0 Axes>"
      ]
     },
     "metadata": {},
     "output_type": "display_data"
    },
    {
     "data": {
      "text/plain": [
       "<Figure size 432x288 with 0 Axes>"
      ]
     },
     "metadata": {},
     "output_type": "display_data"
    },
    {
     "data": {
      "text/plain": [
       "<Figure size 432x288 with 0 Axes>"
      ]
     },
     "metadata": {},
     "output_type": "display_data"
    },
    {
     "data": {
      "text/plain": [
       "<Figure size 432x288 with 0 Axes>"
      ]
     },
     "metadata": {},
     "output_type": "display_data"
    },
    {
     "data": {
      "text/plain": [
       "<Figure size 432x288 with 0 Axes>"
      ]
     },
     "metadata": {},
     "output_type": "display_data"
    },
    {
     "data": {
      "text/plain": [
       "<Figure size 432x288 with 0 Axes>"
      ]
     },
     "metadata": {},
     "output_type": "display_data"
    },
    {
     "data": {
      "text/plain": [
       "<Figure size 432x288 with 0 Axes>"
      ]
     },
     "metadata": {},
     "output_type": "display_data"
    }
   ],
   "source": [
    "if __name__ == \"__main__\":\n",
    "    test(config,test_loader,architecture = model)"
   ]
  }
 ],
 "metadata": {
  "kernelspec": {
   "display_name": "Python 3",
   "language": "python",
   "name": "python3"
  },
  "language_info": {
   "codemirror_mode": {
    "name": "ipython",
    "version": 3
   },
   "file_extension": ".py",
   "mimetype": "text/x-python",
   "name": "python",
   "nbconvert_exporter": "python",
   "pygments_lexer": "ipython3",
   "version": "3.7.1"
  },
  "toc": {
   "base_numbering": 1,
   "nav_menu": {},
   "number_sections": false,
   "sideBar": false,
   "skip_h1_title": true,
   "title_cell": "Table of Contents",
   "title_sidebar": "Contents",
   "toc_cell": false,
   "toc_position": {},
   "toc_section_display": true,
   "toc_window_display": false
  }
 },
 "nbformat": 4,
 "nbformat_minor": 2
}
