{
 "cells": [
  {
   "cell_type": "code",
   "execution_count": 1,
   "metadata": {},
   "outputs": [],
   "source": [
    "# coding='utf-8'\n",
    "import os\n",
    "import sys\n",
    "import numpy as np\n",
    "import time\n",
    "import datetime\n",
    "import json\n",
    "import importlib\n",
    "import logging\n",
    "import shutil\n",
    "import random\n",
    "\n",
    "# import matplotlib\n",
    "# matplotlib.use('Agg')\n",
    "# import matplotlib.pyplot as plt\n",
    "# import matplotlib.patches as patches\n",
    "# from matplotlib.ticker import NullLocator\n",
    "# from PIL import Image\n",
    "import torch\n",
    "import torch.nn as nn\n",
    "\n",
    "from yolo_model import yoloModel\n",
    "from PASCAL_Dataloader import create_split_loaders\n",
    "from YOLO_Loss import YoloLoss\n",
    "from utils import NMS, remove_nulls, convert_to_xywh\n",
    "from bbox import non_max_suppression\n",
    "from detect import plot_detections\n",
    "\n",
    "%matplotlib inline"
   ]
  },
  {
   "cell_type": "code",
   "execution_count": 2,
   "metadata": {},
   "outputs": [],
   "source": [
    "config = {}\n",
    "config[\"batch_size\"] = 16\n",
    "config['backbone_name'] = \"darknet_53\"\n",
    "config['backbone_pretrained'] = \"\"\n",
    "config['anchors'] = [[[116, 90], [156, 198], [373, 326]],\n",
    "                            [[30, 61], [62, 45], [59, 119]],\n",
    "                            [[10, 13], [16, 30], [33, 23]]]\n",
    "config['classes'] = 20\n",
    "config['img_h'] = config['img_w'] = 416\n",
    "config['confidence_threshold'] = 0.5\n",
    "config['nms_threshold'] = 0.4\n",
    "\n",
    "'''\n",
    "UPDATE THESE VALUES!\n",
    "\n",
    "'''\n",
    "config['pretrain_snapshot'] = \"./states/20190531004422/model.pth\" # \"./states/20190530222509/model.pth\"\n",
    "config['root_dir'] = './VOC2012'\n",
    "config['output_dir'] = './detected_images/'"
   ]
  },
  {
   "cell_type": "code",
   "execution_count": 3,
   "metadata": {},
   "outputs": [],
   "source": [
    "CLASS_ID = [\"aeroplane\", \"bicycle\", \"bird\", \"boat\", \"bottle\", \"bus\", \"car\", \\\n",
    "            \"cat\", \"chair\", \"cow\", \"diningtable\", \"dog\", \"horse\", \"motorbike\", \\\n",
    "            \"person\", \"pottedplant\", \"sheep\", \"sofa\", \"train\", \"tvmonitor\"]"
   ]
  },
  {
   "cell_type": "code",
   "execution_count": 5,
   "metadata": {},
   "outputs": [
    {
     "name": "stdout",
     "output_type": "stream",
     "text": [
      "There are 130 batches in test set. This only runs the first 15 batches.\n",
      "To run the entire test set, set is_break to False\n"
     ]
    }
   ],
   "source": [
    "_, _, test_loader = create_split_loaders(root_dir=config['root_dir'], batch_size=config['batch_size'])\n",
    "print('There are %d batches in test set. This only runs the first 15 batches.' %len(test_loader))\n",
    "print('To run the entire test set, set is_break to False')"
   ]
  },
  {
   "cell_type": "code",
   "execution_count": 6,
   "metadata": {},
   "outputs": [],
   "source": [
    "def test(config, test_loader, output_dir=config['output_dir'], is_break=True):\n",
    "    # Creates the output folder for the results if not already created.\n",
    "    if not os.path.isdir(output_dir):\n",
    "        os.makedirs(output_dir)\n",
    "    \n",
    "    # Load and initialize network\n",
    "    net = yoloModel(config).cuda()\n",
    "\n",
    "    # Restore pretrain model\n",
    "    if config[\"pretrain_snapshot\"]:\n",
    "        print('Loading model...')\n",
    "        logging.info(\"load checkpoint from {}\".format(config[\"pretrain_snapshot\"]))\n",
    "        state_dict = torch.load(config[\"pretrain_snapshot\"])\n",
    "        net.load_state_dict(state_dict)\n",
    "    else:\n",
    "        raise Exception(\"missing pretrain_snapshot!!!\")\n",
    "\n",
    "\n",
    "    # YOLO loss with 3 scales\n",
    "    yolo_losses = []\n",
    "    for i in range(3):\n",
    "        yolo_losses.append(YoloLoss(config[\"classes\"], (config[\"img_w\"], config[\"img_h\"]), config[\"anchors\"][i]))\n",
    "        \n",
    "    # Start inference\n",
    "    print('Ready for detections!')             \n",
    "    for batch, sample in enumerate(test_loader):\n",
    "        if batch >=15 and is_break:\n",
    "            print('\\nbreaking')\n",
    "            break\n",
    "            \n",
    "        images, labels = sample[\"image\"], sample[\"label\"]\n",
    "        orig_W, orig_H = sample[\"orig_img\"][0], sample[\"orig_img\"][1]\n",
    "        target_labels = sample[\"target_label\"]\n",
    "        imgfiles = sample[\"imgfile\"]\n",
    "        \n",
    "        # Create image pathfiles\n",
    "        imgpaths = [os.path.join(config[\"root_dir\"], 'JPEGImages', x) for x in imgfiles]\n",
    "        \n",
    "        orig_W = orig_W.to('cpu').numpy()\n",
    "        orig_H = orig_H.to('cpu').numpy()\n",
    "        images = images.cuda()\n",
    "        \n",
    "        # Run images through model, get predictions, and apply NMS.\n",
    "        with torch.no_grad():\n",
    "            outputs = net(images)\n",
    "            output_list = []\n",
    "            for i in range(3):\n",
    "                output_list.append(yolo_losses[i](outputs[i]))\n",
    "            detections = torch.cat(output_list, 1)\n",
    "            detections = non_max_suppression(detections, 20)\n",
    "\n",
    "        for ii, detection in enumerate(detections): ## 0 to 15\n",
    "        # ------------------------------------- #\n",
    "        # Parsing targets and detections labels #\n",
    "        # ------------------------------------- #\n",
    "            print('\\nbatch %d, sample %d' %(batch,ii))\n",
    "            targets = convert_to_xywh(remove_nulls(target_labels[ii,:].to('cpu').numpy())) #70x5\n",
    "            print('target labels (cls, x, y, w, h)\\n', targets)           \n",
    "            \n",
    "            if detection is not None:\n",
    "                # Rescale coordinates to original dimensions\n",
    "                RATIO_W = orig_W[ii] / config[\"img_w\"]\n",
    "                RATIO_H = orig_H[ii] / config[\"img_h\"]\n",
    "            \n",
    "                predictions = np.zeros((len(detection),5), dtype=int)\n",
    "                for jj, (x1, y1, x2, y2, conf, cls_conf, cls_pred) in enumerate(detection):        \n",
    "                    x = int(x1 * RATIO_W)\n",
    "                    y = int(y1 * RATIO_H)\n",
    "                    w = int(abs(x2 - x1) * RATIO_W)\n",
    "                    h = int(abs(y2 - y1) * RATIO_H)\n",
    "                    predictions[jj,:] = (int(cls_pred), x, y, w, h) \n",
    "                print('predicted labels (cls, x, y, w, h)\\n', predictions)\n",
    "                \n",
    "            else:\n",
    "                predictions = []\n",
    "                print('predicted labels (cls, x, y, w, h) - No objects detected!!')\n",
    "            \n",
    "             # ----------------------------------------- #\n",
    "            # Plot targets and detections bounding boxes #\n",
    "            # ------------------------------------------ #\n",
    "            plot_detections(imgpaths[ii], targets, predictions, \\\n",
    "                        batch=batch, sample=ii, output_dir=output_dir, is_demo=False)\n",
    "    \n",
    "    print('Finished object detections! Check the results.')\n",
    "    \n",
    "#         # ------------------- #\n",
    "#         # Plot bounding boxes #\n",
    "#         # ------------------- #\n",
    "#             plt.figure()\n",
    "# #             fig, ax = plt.subplots(1)\n",
    "#             fig, ax = plt.subplots(1, 2, figsize=(8,4))\n",
    "#             img = Image.open(imgpaths[ii]).convert('RGB')\n",
    "#             ax[0].imshow(img)\n",
    "#             ax[1].imshow(img)\n",
    "#             ax[0].set_title('Groundtruth Bounding Boxes')\n",
    "#             ax[1].set_title('Predicted Bounding Boxes')\n",
    "#             ax[0].axis('off')\n",
    "#             ax[1].axis('off')\n",
    "            \n",
    "#             # -------------------------- #\n",
    "#             # Plotting groundtruth boxes #\n",
    "#             # -------------------------- #\n",
    "#             for jj in range(len(targets)):\n",
    "#                 cls, x, y, w, h = targets[jj,0], targets[jj,1], targets[jj,2], targets[jj,3], targets[jj,4]\n",
    "#                 color = colors[cls]\n",
    "#                 # Create a Rectangle patches\n",
    "#                 bbox = patches.Rectangle((x, y), w, h, linewidth=2, \\\n",
    "#                                          edgecolor=color, facecolor='none')\n",
    "#                 # Add the bbox to the plot\n",
    "#                 ax[0].add_patch(bbox)\n",
    "#                 # Add label\n",
    "#                 ax[0].text(x, y, s=CLASS_ID[cls], color='white', \\\n",
    "#                          verticalalignment='top',bbox={'color': color, 'pad': 0})\n",
    "            \n",
    "            \n",
    "#             # ------------------------ #\n",
    "#             # Plotting predicted boxes #\n",
    "#             # ------------------------ #\n",
    "#             for jj in range(len(predictions)):\n",
    "#                 cls, x, y, w, h = predictions[jj,0], predictions[jj,1], \\\n",
    "#                                   predictions[jj,2], predictions[jj,3], predictions[jj,4]\n",
    "#                 color = colors[cls+20]\n",
    "#                 # Create a Rectangle patches\n",
    "#                 bbox = patches.Rectangle((x, y), w, h, linewidth=2, \\\n",
    "#                                          edgecolor=color, facecolor='none')\n",
    "#                 # Add the bbox to the plot\n",
    "#                 ax[1].add_patch(bbox)\n",
    "#                 # Add label\n",
    "#                 ax[1].text(x, y, s=CLASS_ID[cls], color='black', \\\n",
    "#                          verticalalignment='top',bbox={'color': color, 'pad': 0})\n",
    "                \n",
    "#             # Save generated image with detections\n",
    "#             plt.tight_layout()\n",
    "#             plt.gca().xaxis.set_major_locator(NullLocator())\n",
    "#             plt.gca().yaxis.set_major_locator(NullLocator())\n",
    "#             outputfile = output_dir + '/{}_{}.jpg'.format(batch, ii)\n",
    "#             plt.savefig(outputfile, bbox_inches='tight', pad_inches=0.0)\n",
    "#             plt.close()\n",
    "            \n"
   ]
  },
  {
   "cell_type": "code",
   "execution_count": 7,
   "metadata": {},
   "outputs": [
    {
     "name": "stdout",
     "output_type": "stream",
     "text": [
      "Loading model...\n",
      "Ready for detections!\n",
      "\n",
      "batch 0, sample 0\n",
      "target labels (cls, x, y, w, h)\n",
      " [[  9  17  86 265 359]]\n",
      "predicted labels (cls, x, y, w, h)\n",
      " [[  9  24  84 260 392]]\n",
      "\n",
      "batch 0, sample 1\n",
      "target labels (cls, x, y, w, h)\n",
      " [[  8 213   1  97 147]\n",
      " [  8 295  22 100 144]\n",
      " [ 10 223   1 178 129]]\n",
      "predicted labels (cls, x, y, w, h)\n",
      " [[  8 299  35 103 120]]\n",
      "\n",
      "batch 0, sample 2\n",
      "target labels (cls, x, y, w, h)\n",
      " [[  2  65  71 407 235]]\n",
      "predicted labels (cls, x, y, w, h) - No objects detected!!\n",
      "\n",
      "batch 0, sample 3\n",
      "target labels (cls, x, y, w, h)\n",
      " [[ 15   1   1 499 374]]\n",
      "predicted labels (cls, x, y, w, h) - No objects detected!!\n",
      "\n",
      "batch 0, sample 4\n",
      "target labels (cls, x, y, w, h)\n",
      " [[ 14  89 124 111 211]\n",
      " [ 14 323 145  45 119]]\n",
      "predicted labels (cls, x, y, w, h)\n",
      " [[ 14 343 182  34  72]]\n",
      "\n",
      "batch 0, sample 5\n",
      "target labels (cls, x, y, w, h)\n",
      " [[  7   1  78 374 422]\n",
      " [ 19   1  24 106 160]]\n",
      "predicted labels (cls, x, y, w, h) - No objects detected!!\n",
      "\n",
      "batch 0, sample 6\n",
      "target labels (cls, x, y, w, h)\n",
      " [[ 19 113 166 106 103]\n",
      " [ 19  57   1  99  75]]\n",
      "predicted labels (cls, x, y, w, h) - No objects detected!!\n",
      "\n",
      "batch 0, sample 7\n",
      "target labels (cls, x, y, w, h)\n",
      " [[  4 218 255  45  93]\n",
      " [  8   1 104  90 112]\n",
      " [  8  48 100  64  88]\n",
      " [  8 286  75  42  53]\n",
      " [  8 316  82  78 100]\n",
      " [  8 316  92  71 109]\n",
      " [  8 475  89  21  37]\n",
      " [  8  89 196  53  65]\n",
      " [  8 160 170  33  68]\n",
      " [ 14  38  34 115 146]\n",
      " [ 14 163  28  69  68]\n",
      " [ 14 130  44 102 164]\n",
      " [ 10  70  86 113 120]\n",
      " [ 10 350  77 143  88]\n",
      " [ 14 306  32  63 131]\n",
      " [ 14   1 133 163 242]\n",
      " [ 14 178  65 140 172]\n",
      " [ 14 374  65 126 179]\n",
      " [ 10 100 212 400 163]]\n",
      "predicted labels (cls, x, y, w, h)\n",
      " [[ 14 302  35  55  75]\n",
      " [ 14 165  24  76  93]\n",
      " [ 14 194  81 111 162]\n",
      " [ 14 137  51  84  98]\n",
      " [ 14 367  49 136 220]]\n",
      "\n",
      "batch 0, sample 8\n",
      "target labels (cls, x, y, w, h)\n",
      " [[  5  54  26 340 344]\n",
      " [  6   1 236  28  21]\n",
      " [ 14 193 210  53  54]\n",
      " [ 14 196  97  13  19]\n",
      " [ 14 341 103  13  17]\n",
      " [ 14 264  86  57  31]]\n",
      "predicted labels (cls, x, y, w, h)\n",
      " [[  6   3 227  29  35]]\n",
      "\n",
      "batch 0, sample 9\n",
      "target labels (cls, x, y, w, h)\n",
      " [[ 11 169  52 213 283]]\n",
      "predicted labels (cls, x, y, w, h) - No objects detected!!\n",
      "\n",
      "batch 0, sample 10\n",
      "target labels (cls, x, y, w, h)\n",
      " [[  7  39  23 431 426]]\n",
      "predicted labels (cls, x, y, w, h)\n",
      " [[  7  32  55 442 374]]\n",
      "\n",
      "batch 0, sample 11\n",
      "target labels (cls, x, y, w, h)\n",
      " [[ 15 387  99  98 131]\n",
      " [ 15 368 185  64  50]\n",
      " [ 15 244 168  29  29]\n",
      " [ 15 255 110  78  72]\n",
      " [  8 267 141  83  74]\n",
      " [ 14 247  53  35  92]\n",
      " [  8 310 141 121  85]]\n",
      "predicted labels (cls, x, y, w, h)\n",
      " [[ 15 405 108  70 104]\n",
      " [ 15 269 161  35  42]\n",
      " [ 15 367 170  72  67]\n",
      " [ 15 268 129  40  62]]\n",
      "\n",
      "batch 0, sample 12\n",
      "target labels (cls, x, y, w, h)\n",
      " [[  2 234  20 239 173]]\n",
      "predicted labels (cls, x, y, w, h) - No objects detected!!\n",
      "\n",
      "batch 0, sample 13\n",
      "target labels (cls, x, y, w, h)\n",
      " [[  0   3 140 449 134]]\n",
      "predicted labels (cls, x, y, w, h) - No objects detected!!\n",
      "\n",
      "batch 0, sample 14\n",
      "target labels (cls, x, y, w, h)\n",
      " [[ 18 157 124  65  83]]\n",
      "predicted labels (cls, x, y, w, h)\n",
      " [[ 18 139 149  95  60]]\n",
      "\n",
      "batch 0, sample 15\n",
      "target labels (cls, x, y, w, h)\n",
      " [[  6   1  41 458 334]]\n",
      "predicted labels (cls, x, y, w, h) - No objects detected!!\n",
      "\n",
      "batch 1, sample 0\n",
      "target labels (cls, x, y, w, h)\n",
      " [[  3  25  56  45  11]\n",
      " [  3  99  61 271  51]]\n",
      "predicted labels (cls, x, y, w, h) - No objects detected!!\n",
      "\n",
      "batch 1, sample 1\n",
      "target labels (cls, x, y, w, h)\n",
      " [[ 14   1  19 206 373]\n",
      " [ 14 133  51 228 344]]\n",
      "predicted labels (cls, x, y, w, h) - No objects detected!!\n",
      "\n",
      "batch 1, sample 2\n",
      "target labels (cls, x, y, w, h)\n",
      " [[ 18  42 128 318  90]\n",
      " [ 14 336 176  21  33]\n",
      " [ 14 433 167  23  27]\n",
      " [ 14  66 203  34  32]]\n",
      "predicted labels (cls, x, y, w, h) - No objects detected!!\n",
      "\n",
      "batch 1, sample 3\n",
      "target labels (cls, x, y, w, h)\n",
      " [[  6  12 171 373 311]\n",
      " [  6 248 140  60  43]\n",
      " [  6 299 218  75  40]\n",
      " [  6 177 165  58  38]\n",
      " [ 14   5 175  39  39]]\n",
      "predicted labels (cls, x, y, w, h)\n",
      " [[  6 -67 126 532 393]\n",
      " [  6 259 147  63  51]\n",
      " [  6 233 149  61  44]\n",
      " [  6 290 162  62  99]\n",
      " [ 14   6 161  22  91]]\n"
     ]
    },
    {
     "name": "stderr",
     "output_type": "stream",
     "text": [
      "/opt/conda/lib/python3.6/site-packages/matplotlib/pyplot.py:514: RuntimeWarning: More than 20 figures have been opened. Figures created through the pyplot interface (`matplotlib.pyplot.figure`) are retained until explicitly closed and may consume too much memory. (To control this warning, see the rcParam `figure.max_open_warning`).\n",
      "  max_open_warning, RuntimeWarning)\n"
     ]
    },
    {
     "name": "stdout",
     "output_type": "stream",
     "text": [
      "\n",
      "batch 1, sample 4\n",
      "target labels (cls, x, y, w, h)\n",
      " [[  1  89 175  92 123]\n",
      " [  1 192 171 101 111]\n",
      " [ 14 197  89  96 150]\n",
      " [ 14  86  95  85 170]\n",
      " [ 14  98  77  49  55]]\n",
      "predicted labels (cls, x, y, w, h)\n",
      " [[  1 100 158  69 115]\n",
      " [ 14 106 117  44 146]\n",
      " [ 14 214  93  61 151]]\n",
      "\n",
      "batch 1, sample 5\n",
      "target labels (cls, x, y, w, h)\n",
      " [[ 13  70  98 201 365]]\n",
      "predicted labels (cls, x, y, w, h) - No objects detected!!\n",
      "\n",
      "batch 1, sample 6\n",
      "target labels (cls, x, y, w, h)\n",
      " [[  9 129   1 288 285]]\n",
      "predicted labels (cls, x, y, w, h) - No objects detected!!\n",
      "\n",
      "batch 1, sample 7\n",
      "target labels (cls, x, y, w, h)\n",
      " [[ 14 151  45 271 289]\n",
      " [ 14 301  77 199 260]\n",
      " [  3  36 261 464 114]]\n",
      "predicted labels (cls, x, y, w, h)\n",
      " [[ 14 156  14 179 347]]\n",
      "\n",
      "batch 1, sample 8\n",
      "target labels (cls, x, y, w, h)\n",
      " [[ 11  35   1 465 374]]\n",
      "predicted labels (cls, x, y, w, h) - No objects detected!!\n",
      "\n",
      "batch 1, sample 9\n",
      "target labels (cls, x, y, w, h)\n",
      " [[ 11   1   4 140 109]\n",
      " [  7 387  68 106  52]]\n",
      "predicted labels (cls, x, y, w, h)\n",
      " [[  7 401  73  70  40]]\n",
      "\n",
      "batch 1, sample 10\n",
      "target labels (cls, x, y, w, h)\n",
      " [[  7  67   1 433 499]]\n",
      "predicted labels (cls, x, y, w, h) - No objects detected!!\n",
      "\n",
      "batch 1, sample 11\n",
      "target labels (cls, x, y, w, h)\n",
      " [[  0   9  82 485 191]]\n",
      "predicted labels (cls, x, y, w, h) - No objects detected!!\n",
      "\n",
      "batch 1, sample 12\n",
      "target labels (cls, x, y, w, h)\n",
      " [[ 10 236 198 264 174]\n",
      " [  8 122 160  84 166]\n",
      " [  8 206 182 102 132]\n",
      " [  8 371 266 129 106]\n",
      " [  8 192 200 124 173]\n",
      " [  8  99 160  61 109]\n",
      " [ 14 231 118 129 147]]\n",
      "predicted labels (cls, x, y, w, h) - No objects detected!!\n",
      "\n",
      "batch 1, sample 13\n",
      "target labels (cls, x, y, w, h)\n",
      " [[  6 490  92  10  14]\n",
      " [  6 470  93  22  13]\n",
      " [  6 446  93  29  15]\n",
      " [  6 406  97  26   8]\n",
      " [  6 350  95  61  29]\n",
      " [  6 304  92  60  23]\n",
      " [  6 259 100  45   8]\n",
      " [  6  53  90 137  53]\n",
      " [  6   1 113  22  27]\n",
      " [  6   1 138  39  49]\n",
      " [  6 400  98  59  33]\n",
      " [  6 439 105  61  48]\n",
      " [  6 121 105 303 125]]\n",
      "predicted labels (cls, x, y, w, h)\n",
      " [[  6  -4 106  49  70]\n",
      " [  6  41  87 129  62]]\n",
      "\n",
      "batch 1, sample 14\n",
      "target labels (cls, x, y, w, h)\n",
      " [[  7  99 104 355 183]]\n",
      "predicted labels (cls, x, y, w, h) - No objects detected!!\n",
      "\n",
      "batch 1, sample 15\n",
      "target labels (cls, x, y, w, h)\n",
      " [[  2  53  50 299 448]]\n",
      "predicted labels (cls, x, y, w, h) - No objects detected!!\n",
      "\n",
      "batch 2, sample 0\n",
      "target labels (cls, x, y, w, h)\n",
      " [[  8  72   1 325 374]]\n",
      "predicted labels (cls, x, y, w, h) - No objects detected!!\n",
      "\n",
      "batch 2, sample 1\n",
      "target labels (cls, x, y, w, h)\n",
      " [[ 11  59  86 288 328]]\n",
      "predicted labels (cls, x, y, w, h)\n",
      " [[ 11  50  64 282 366]]\n",
      "\n",
      "batch 2, sample 2\n",
      "target labels (cls, x, y, w, h)\n",
      " [[  7  22   9 449 453]]\n",
      "predicted labels (cls, x, y, w, h)\n",
      " [[  7 105  71 283 329]]\n",
      "\n",
      "batch 2, sample 3\n",
      "target labels (cls, x, y, w, h)\n",
      " [[ 11 226   7 244 329]\n",
      " [ 19   7  60 493 276]\n",
      " [ 11 172 113 173 223]]\n",
      "predicted labels (cls, x, y, w, h) - No objects detected!!\n",
      "\n",
      "batch 2, sample 4\n",
      "target labels (cls, x, y, w, h)\n",
      " [[  5  57  49 382 170]]\n",
      "predicted labels (cls, x, y, w, h)\n",
      " [[  5  67  30 368 174]]\n",
      "\n",
      "batch 2, sample 5\n",
      "target labels (cls, x, y, w, h)\n",
      " [[  2 188  78 175 158]\n",
      " [  1   1  64 498 311]]\n",
      "predicted labels (cls, x, y, w, h) - No objects detected!!\n",
      "\n",
      "batch 2, sample 6\n",
      "target labels (cls, x, y, w, h)\n",
      " [[  2  82  37 179 328]\n",
      " [  2 187 177 283 105]]\n",
      "predicted labels (cls, x, y, w, h)\n",
      " [[  2 278 195  87  71]]\n",
      "\n",
      "batch 2, sample 7\n",
      "target labels (cls, x, y, w, h)\n",
      " [[ 13 139 116 165 298]\n",
      " [ 14  20 128 177 241]]\n",
      "predicted labels (cls, x, y, w, h) - No objects detected!!\n",
      "\n",
      "batch 2, sample 8\n",
      "target labels (cls, x, y, w, h)\n",
      " [[  6  76 117 362 147]]\n",
      "predicted labels (cls, x, y, w, h)\n",
      " [[  6  92 103 323 179]]\n",
      "\n",
      "batch 2, sample 9\n",
      "target labels (cls, x, y, w, h)\n",
      " [[ 14 215  60  77 149]\n",
      " [  1 225 110  88 140]]\n",
      "predicted labels (cls, x, y, w, h)\n",
      " [[ 14 222  74  60 141]]\n",
      "\n",
      "batch 2, sample 10\n",
      "target labels (cls, x, y, w, h)\n",
      " [[  6   7  65 490 252]]\n",
      "predicted labels (cls, x, y, w, h) - No objects detected!!\n",
      "\n",
      "batch 2, sample 11\n",
      "target labels (cls, x, y, w, h)\n",
      " [[  8   1 133 331 367]]\n",
      "predicted labels (cls, x, y, w, h) - No objects detected!!\n",
      "\n",
      "batch 2, sample 12\n",
      "target labels (cls, x, y, w, h)\n",
      " [[ 14 403 166  30  71]\n",
      " [ 18  80 111 317 147]]\n",
      "predicted labels (cls, x, y, w, h)\n",
      " [[ 14 414 170  13  58]\n",
      " [ 18  41 118 373 146]]\n",
      "\n",
      "batch 2, sample 13\n",
      "target labels (cls, x, y, w, h)\n",
      " [[ 14  52  95 167 250]]\n",
      "predicted labels (cls, x, y, w, h) - No objects detected!!\n",
      "\n",
      "batch 2, sample 14\n",
      "target labels (cls, x, y, w, h)\n",
      " [[ 13   1   1 499 374]]\n",
      "predicted labels (cls, x, y, w, h)\n",
      " [[ 13  45 -12 404 404]]\n",
      "\n",
      "batch 2, sample 15\n",
      "target labels (cls, x, y, w, h)\n",
      " [[ 18 184 159 316  35]]\n",
      "predicted labels (cls, x, y, w, h) - No objects detected!!\n",
      "\n",
      "batch 3, sample 0\n",
      "target labels (cls, x, y, w, h)\n",
      " [[ 14 296 208 204 167]\n",
      " [ 14  60 233 173 142]]\n",
      "predicted labels (cls, x, y, w, h) - No objects detected!!\n",
      "\n",
      "batch 3, sample 1\n",
      "target labels (cls, x, y, w, h)\n",
      " [[ 14 183 182 165 193]]\n",
      "predicted labels (cls, x, y, w, h) - No objects detected!!\n",
      "\n",
      "batch 3, sample 2\n",
      "target labels (cls, x, y, w, h)\n",
      " [[ 14  21  42 140 274]\n",
      " [  5 127   1 373 327]]\n",
      "predicted labels (cls, x, y, w, h)\n",
      " [[ 14  46  74  89 189]]\n",
      "\n",
      "batch 3, sample 3\n",
      "target labels (cls, x, y, w, h)\n",
      " [[  8   4 314 170 186]\n",
      " [  8 159 301 146 199]\n",
      " [  8 268 308 107 192]\n",
      " [ 10   1 305 315 195]]\n",
      "predicted labels (cls, x, y, w, h) - No objects detected!!\n",
      "\n",
      "batch 3, sample 4\n",
      "target labels (cls, x, y, w, h)\n",
      " [[ 14 132 143 129 243]\n",
      " [ 14   1  47 233 356]\n",
      " [ 14   1   1 115 237]\n",
      " [  4 329  80  17   8]\n",
      " [  4 195  48  17   7]\n",
      " [  4 205 146  20  18]\n",
      " [  4 248 122  14  19]\n",
      " [  4  54 236  23  28]]\n",
      "predicted labels (cls, x, y, w, h)\n",
      " [[ 14 101 138 117 148]]\n",
      "\n",
      "batch 3, sample 5\n",
      "target labels (cls, x, y, w, h)\n",
      " [[  6 217 187 129  68]\n",
      " [  6 259 163  30  22]\n",
      " [  6 156 152  43  21]]\n",
      "predicted labels (cls, x, y, w, h) - No objects detected!!\n",
      "\n",
      "batch 3, sample 6\n",
      "target labels (cls, x, y, w, h)\n",
      " [[ 19   1   1 134 143]\n",
      " [  7 190 108 289 218]]\n",
      "predicted labels (cls, x, y, w, h)\n",
      " [[  7 181 118 221 200]]\n",
      "\n",
      "batch 3, sample 7\n",
      "target labels (cls, x, y, w, h)\n",
      " [[  8 153 232  65  60]\n",
      " [  8 281 232 112  72]\n",
      " [  8   1 310  72  65]\n",
      " [  8 180 336 180  39]\n",
      " [ 10   1 282 499  93]]\n",
      "predicted labels (cls, x, y, w, h)\n",
      " [[  8 289 249  84  51]\n",
      " [  8 275 258 103  84]]\n",
      "\n",
      "batch 3, sample 8\n",
      "target labels (cls, x, y, w, h)\n",
      " [[ 15  27  35 340 298]]\n",
      "predicted labels (cls, x, y, w, h) - No objects detected!!\n",
      "\n",
      "batch 3, sample 9\n",
      "target labels (cls, x, y, w, h)\n",
      " [[  1  39 116 382 237]]\n",
      "predicted labels (cls, x, y, w, h) - No objects detected!!\n",
      "\n",
      "batch 3, sample 10\n",
      "target labels (cls, x, y, w, h)\n",
      " [[  8 227 214 217 161]\n",
      " [  4 458 349  28  26]\n",
      " [ 14   1 143 191 232]\n",
      " [ 14   2  49 171 325]\n",
      " [ 14 151  83  66 279]\n",
      " [ 14 203 149  52 158]\n",
      " [ 14 209 129 121 246]\n",
      " [ 14 242 248 114 127]\n",
      " [ 14 320  92  89 221]\n",
      " [ 14 384  88  96 260]\n",
      " [ 14 243  78  53 115]\n",
      " [ 14 150  72  32  72]]\n",
      "predicted labels (cls, x, y, w, h)\n",
      " [[ 14 146  80  32  55]\n",
      " [ 14 121  81 104 270]]\n",
      "\n",
      "batch 3, sample 11\n",
      "target labels (cls, x, y, w, h)\n",
      " [[  6   1 154 267 152]\n",
      " [  6 342 183 158 187]\n",
      " [ 14 102 164  71 206]\n",
      " [ 14 177 166  39 161]\n",
      " [ 14 292 160 116 215]\n",
      " [  4 395 217  11  19]\n",
      " [ 14 272 161  62 151]\n",
      " [ 14 252 177  38 126]]\n",
      "predicted labels (cls, x, y, w, h)\n",
      " [[  6 219 163  61 114]\n",
      " [  6 140 150 144 137]\n",
      " [  6 170 170  94  40]\n",
      " [ 14 272 178  33  82]\n",
      " [ 14 298 172  46  88]\n",
      " [ 14 268 156  46 174]]\n",
      "\n",
      "batch 3, sample 12\n",
      "target labels (cls, x, y, w, h)\n",
      " [[ 14  61   6 288 369]\n",
      " [  8  45 133 431 242]]\n",
      "predicted labels (cls, x, y, w, h) - No objects detected!!\n",
      "\n",
      "batch 3, sample 13\n",
      "target labels (cls, x, y, w, h)\n",
      " [[  9 173 120 277 217]\n",
      " [ 14 124  53 144 285]]\n",
      "predicted labels (cls, x, y, w, h) - No objects detected!!\n",
      "\n",
      "batch 3, sample 14\n",
      "target labels (cls, x, y, w, h)\n",
      " [[ 11   1  77 303 423]]\n",
      "predicted labels (cls, x, y, w, h) - No objects detected!!\n",
      "\n",
      "batch 3, sample 15\n",
      "target labels (cls, x, y, w, h)\n",
      " [[ 16  74  45 264 189]]\n",
      "predicted labels (cls, x, y, w, h) - No objects detected!!\n",
      "\n",
      "batch 4, sample 0\n",
      "target labels (cls, x, y, w, h)\n",
      " [[  2 195   2 278  86]\n",
      " [  2   6 122 467 128]]\n",
      "predicted labels (cls, x, y, w, h) - No objects detected!!\n",
      "\n",
      "batch 4, sample 1\n",
      "target labels (cls, x, y, w, h)\n",
      " [[ 12  14  73 276 167]\n",
      " [ 14  99  26  66 128]\n",
      " [ 12 431 118  69 111]\n",
      " [ 14 473  84  27  55]]\n",
      "predicted labels (cls, x, y, w, h)\n",
      " [[ 12 448 127  48  82]\n",
      " [ 14  90  20  88 105]\n",
      " [ 14 449 104  48  85]]\n"
     ]
    },
    {
     "name": "stdout",
     "output_type": "stream",
     "text": [
      "\n",
      "batch 4, sample 2\n",
      "target labels (cls, x, y, w, h)\n",
      " [[ 14 433 159  44 110]\n",
      " [  6  65 158 380 125]\n",
      " [ 14 284 148  21  45]\n",
      " [  6   1 159 192  76]\n",
      " [  6   1 158  74  29]]\n",
      "predicted labels (cls, x, y, w, h)\n",
      " [[  6  -2 137 192 102]\n",
      " [  6  83 132 318 161]]\n",
      "\n",
      "batch 4, sample 3\n",
      "target labels (cls, x, y, w, h)\n",
      " [[ 14   1   5 272 370]\n",
      " [ 14 253  51 247 313]]\n",
      "predicted labels (cls, x, y, w, h) - No objects detected!!\n",
      "\n",
      "batch 4, sample 4\n",
      "target labels (cls, x, y, w, h)\n",
      " [[  0 164  14 167 127]]\n",
      "predicted labels (cls, x, y, w, h) - No objects detected!!\n",
      "\n",
      "batch 4, sample 5\n",
      "target labels (cls, x, y, w, h)\n",
      " [[  5 222 187 189 117]]\n",
      "predicted labels (cls, x, y, w, h)\n",
      " [[  5 223 175 201 123]]\n",
      "\n",
      "batch 4, sample 6\n",
      "target labels (cls, x, y, w, h)\n",
      " [[  1  93  67 332 227]]\n",
      "predicted labels (cls, x, y, w, h)\n",
      " [[  1 113 130 275 177]]\n",
      "\n",
      "batch 4, sample 7\n",
      "target labels (cls, x, y, w, h)\n",
      " [[  7   1   1 499 332]]\n",
      "predicted labels (cls, x, y, w, h)\n",
      " [[  7   9  35 482 256]]\n",
      "\n",
      "batch 4, sample 8\n",
      "target labels (cls, x, y, w, h)\n",
      " [[  8 248  13 127 278]\n",
      " [ 15   1  93 138 181]\n",
      " [ 15 367 158  76 107]\n",
      " [ 15 430 186  70  72]]\n",
      "predicted labels (cls, x, y, w, h)\n",
      " [[ 15 382 167  54  93]\n",
      " [ 15 420 190  36  52]\n",
      " [ 15 -13  90 143 184]\n",
      " [ 15 459 192  27  53]]\n",
      "\n",
      "batch 4, sample 9\n",
      "target labels (cls, x, y, w, h)\n",
      " [[ 14 312  81  98 294]\n",
      " [ 14 249  64  86 205]\n",
      " [ 14 177  86  76 157]\n",
      " [ 14  85  76 101 183]\n",
      " [ 14 195 213 190 162]\n",
      " [ 14   1 206 202 169]\n",
      " [ 14 237  42  30  74]]\n",
      "predicted labels (cls, x, y, w, h)\n",
      " [[ 14 434  82  19  39]\n",
      " [ 14 307  71 109 295]\n",
      " [ 14  80  91 109 145]\n",
      " [ 14 420  84  24  45]\n",
      " [ 14 178  96  82 167]\n",
      " [ 14 224  51 121 264]\n",
      " [ 14 196 236 171 131]]\n",
      "\n",
      "batch 4, sample 10\n",
      "target labels (cls, x, y, w, h)\n",
      " [[  5  66  38 228 383]\n",
      " [ 14  79 238  61 157]\n",
      " [ 14 188 223  54  66]\n",
      " [ 14 308 262  37 107]\n",
      " [ 14  15 247  55 157]\n",
      " [ 14   1 257  18  30]\n",
      " [ 14   1 284  35 127]\n",
      " [ 14  47 254  32 105]]\n",
      "predicted labels (cls, x, y, w, h)\n",
      " [[  5 150 144  72 204]\n",
      " [ 14  22 250  34 151]]\n",
      "\n",
      "batch 4, sample 11\n",
      "target labels (cls, x, y, w, h)\n",
      " [[ 11  30 119 247 268]\n",
      " [ 14  53  47 338 453]\n",
      " [ 17   1 114 390 386]]\n",
      "predicted labels (cls, x, y, w, h)\n",
      " [[  7  42 100 238 306]]\n",
      "\n",
      "batch 4, sample 12\n",
      "target labels (cls, x, y, w, h)\n",
      " [[  6   1  48 212 195]\n",
      " [  6  23   1 476 367]]\n",
      "predicted labels (cls, x, y, w, h)\n",
      " [[   6 -157  -55  819  480]]\n",
      "\n",
      "batch 4, sample 13\n",
      "target labels (cls, x, y, w, h)\n",
      " [[ 17 113 145 294 228]\n",
      " [ 19   1 152 121 201]]\n",
      "predicted labels (cls, x, y, w, h) - No objects detected!!\n",
      "\n",
      "batch 4, sample 14\n",
      "target labels (cls, x, y, w, h)\n",
      " [[  3  96  24 354 282]\n",
      " [  3 303 293 104  36]]\n",
      "predicted labels (cls, x, y, w, h) - No objects detected!!\n",
      "\n",
      "batch 4, sample 15\n",
      "target labels (cls, x, y, w, h)\n",
      " [[  3 267 157  68 168]\n",
      " [  3 127 151  71 191]\n",
      " [  3 175 144  63 156]]\n",
      "predicted labels (cls, x, y, w, h) - No objects detected!!\n",
      "\n",
      "batch 5, sample 0\n",
      "target labels (cls, x, y, w, h)\n",
      " [[ 16   2  26 472 386]]\n",
      "predicted labels (cls, x, y, w, h) - No objects detected!!\n",
      "\n",
      "batch 5, sample 1\n",
      "target labels (cls, x, y, w, h)\n",
      " [[  6  33  87 408 257]\n",
      " [  6 397  70  29  12]\n",
      " [  6 424  67  25  13]]\n",
      "predicted labels (cls, x, y, w, h)\n",
      " [[  6 390  62  35  19]\n",
      " [  6 420  60  38  26]\n",
      " [  6  42 101 402 222]]\n",
      "\n",
      "batch 5, sample 2\n",
      "target labels (cls, x, y, w, h)\n",
      " [[ 15  41 125  56  70]\n",
      " [ 15 235 161  33  45]\n",
      " [ 15 197 327  39  44]]\n",
      "predicted labels (cls, x, y, w, h)\n",
      " [[ 15  54 124  33  90]\n",
      " [ 15 237 155  20  48]]\n",
      "\n",
      "batch 5, sample 3\n",
      "target labels (cls, x, y, w, h)\n",
      " [[ 14 130 295  25  64]\n",
      " [ 14 176 284  30  72]\n",
      " [ 14 226 286  30  69]\n",
      " [ 14 111 290  24  70]\n",
      " [ 14 205 290  26  66]\n",
      " [ 14 236 241  12  24]]\n",
      "predicted labels (cls, x, y, w, h)\n",
      " [[ 14 210 292  12  64]\n",
      " [ 14 232 285  13  75]\n",
      " [ 14 184 301  14  50]\n",
      " [ 14 127 289  17  73]\n",
      " [ 14 111 286  17  63]\n",
      " [ 14 238 285  11  63]]\n",
      "\n",
      "batch 5, sample 4\n",
      "target labels (cls, x, y, w, h)\n",
      " [[ 11 143  23 198 351]]\n",
      "predicted labels (cls, x, y, w, h) - No objects detected!!\n",
      "\n",
      "batch 5, sample 5\n",
      "target labels (cls, x, y, w, h)\n",
      " [[ 11   7 208 368 292]\n",
      " [ 14 295  68  80 272]\n",
      " [ 14   1  12 276 488]]\n",
      "predicted labels (cls, x, y, w, h) - No objects detected!!\n",
      "\n",
      "batch 5, sample 6\n",
      "target labels (cls, x, y, w, h)\n",
      " [[  7  44  36 409 303]]\n",
      "predicted labels (cls, x, y, w, h) - No objects detected!!\n",
      "\n",
      "batch 5, sample 7\n",
      "target labels (cls, x, y, w, h)\n",
      " [[  1   1  22 499 353]]\n",
      "predicted labels (cls, x, y, w, h) - No objects detected!!\n",
      "\n",
      "batch 5, sample 8\n",
      "target labels (cls, x, y, w, h)\n",
      " [[  0  15  14 485 129]]\n",
      "predicted labels (cls, x, y, w, h) - No objects detected!!\n",
      "\n",
      "batch 5, sample 9\n",
      "target labels (cls, x, y, w, h)\n",
      " [[ 14 141  32 359 342]]\n",
      "predicted labels (cls, x, y, w, h) - No objects detected!!\n",
      "\n",
      "batch 5, sample 10\n",
      "target labels (cls, x, y, w, h)\n",
      " [[  7  48  64 311 394]]\n",
      "predicted labels (cls, x, y, w, h)\n",
      " [[  7 118 115 186 267]]\n",
      "\n",
      "batch 5, sample 11\n",
      "target labels (cls, x, y, w, h)\n",
      " [[ 11  51  34 448 344]\n",
      " [  3   1  19  39  34]\n",
      " [  3  30  20  66  20]]\n",
      "predicted labels (cls, x, y, w, h) - No objects detected!!\n",
      "\n",
      "batch 5, sample 12\n",
      "target labels (cls, x, y, w, h)\n",
      " [[ 14  84   1 307 374]\n",
      " [ 14 159  81 149 267]\n",
      " [ 13  88 170 306 205]]\n",
      "predicted labels (cls, x, y, w, h)\n",
      " [[ 14 145  99 193 236]]\n",
      "\n",
      "batch 5, sample 13\n",
      "target labels (cls, x, y, w, h)\n",
      " [[ 19 186  27 105  89]\n",
      " [  4 290  75  15  43]\n",
      " [  4 205  83  16  49]]\n",
      "predicted labels (cls, x, y, w, h)\n",
      " [[ 19 206  29  83  80]]\n",
      "\n",
      "batch 5, sample 14\n",
      "target labels (cls, x, y, w, h)\n",
      " [[  6  37 165 294 258]]\n",
      "predicted labels (cls, x, y, w, h)\n",
      " [[  6  22 135 321 298]]\n",
      "\n",
      "batch 5, sample 15\n",
      "target labels (cls, x, y, w, h)\n",
      " [[  7  30  31 296 262]\n",
      " [  7 141 203 223 267]\n",
      " [  7 303 120 128 233]\n",
      " [  7 303  59 167 236]]\n",
      "predicted labels (cls, x, y, w, h)\n",
      " [[  7 145 209 198 244]\n",
      " [  7  -8  37 441 275]]\n",
      "\n",
      "batch 6, sample 0\n",
      "target labels (cls, x, y, w, h)\n",
      " [[  6   4  39 147  63]\n",
      " [  6 139  58 140  49]\n",
      " [ 14 138 134 103 158]\n",
      " [ 14 245  93 103 197]\n",
      " [  1 340 229 160  72]]\n",
      "predicted labels (cls, x, y, w, h)\n",
      " [[  1  53  51  73  86]\n",
      " [  6   0  18 177 114]\n",
      " [  6 115  34 196  85]\n",
      " [ 14 239  78 116 222]\n",
      " [ 14 127  83 107 260]]\n",
      "\n",
      "batch 6, sample 1\n",
      "target labels (cls, x, y, w, h)\n",
      " [[ 14   2 106 498 209]\n",
      " [ 11 175 207 283 121]]\n",
      "predicted labels (cls, x, y, w, h) - No objects detected!!\n",
      "\n",
      "batch 6, sample 2\n",
      "target labels (cls, x, y, w, h)\n",
      " [[  7 227 159 207 173]\n",
      " [  7   1  98 299 234]]\n",
      "predicted labels (cls, x, y, w, h) - No objects detected!!\n",
      "\n",
      "batch 6, sample 3\n",
      "target labels (cls, x, y, w, h)\n",
      " [[  9 226 166  42  51]]\n",
      "predicted labels (cls, x, y, w, h)\n",
      " [[  9 208 169  78  44]]\n",
      "\n",
      "batch 6, sample 4\n",
      "target labels (cls, x, y, w, h)\n",
      " [[  6 313 152  77  32]]\n",
      "predicted labels (cls, x, y, w, h)\n",
      " [[  6 314 146  91  41]]\n",
      "\n",
      "batch 6, sample 5\n",
      "target labels (cls, x, y, w, h)\n",
      " [[ 19   1   1 129 295]]\n",
      "predicted labels (cls, x, y, w, h) - No objects detected!!\n",
      "\n",
      "batch 6, sample 6\n",
      "target labels (cls, x, y, w, h)\n",
      " [[ 11 341 134 159 188]\n",
      " [ 11 287  27 136  63]\n",
      " [ 14   1  10 312 323]]\n",
      "predicted labels (cls, x, y, w, h) - No objects detected!!\n",
      "\n",
      "batch 6, sample 7\n",
      "target labels (cls, x, y, w, h)\n",
      " [[  0  93 137 379 161]\n",
      " [ 14 224 178  18  20]]\n",
      "predicted labels (cls, x, y, w, h) - No objects detected!!\n",
      "\n",
      "batch 6, sample 8\n",
      "target labels (cls, x, y, w, h)\n",
      " [[  6 227 408  68  34]\n",
      " [  6 311 410  62  22]\n",
      " [  6  43 409  16  20]\n",
      " [  6  59 415  13   8]]\n",
      "predicted labels (cls, x, y, w, h) - No objects detected!!\n",
      "\n",
      "batch 6, sample 9\n",
      "target labels (cls, x, y, w, h)\n",
      " [[ 18  27  62 473 202]]\n",
      "predicted labels (cls, x, y, w, h) - No objects detected!!\n",
      "\n",
      "batch 6, sample 10\n",
      "target labels (cls, x, y, w, h)\n",
      " [[  3 198 189 115  62]\n",
      " [ 14 441  60  59 250]\n",
      " [ 14 369  81  72 234]\n",
      " [ 14 288  68  97 245]\n",
      " [ 14 115  66  89 242]\n",
      " [ 14  45  81  78 213]\n",
      " [ 14   1  72  37 222]]\n",
      "predicted labels (cls, x, y, w, h)\n",
      " [[ 14 357  79  82 225]\n",
      " [ 14 123  48  94 245]\n",
      " [ 14   1  93  47 196]\n",
      " [ 14 299  59  57 260]]\n",
      "\n",
      "batch 6, sample 11\n",
      "target labels (cls, x, y, w, h)\n",
      " [[ 11 195  89 225 235]\n",
      " [ 11 117 225 115 122]]\n",
      "predicted labels (cls, x, y, w, h) - No objects detected!!\n",
      "\n",
      "batch 6, sample 12\n",
      "target labels (cls, x, y, w, h)\n",
      " [[ 12  94   9 406 324]\n",
      " [ 14  42 167  33  56]]\n",
      "predicted labels (cls, x, y, w, h)\n",
      " [[ 12  14  32 538 264]\n",
      " [ 14  32 164  31  65]]\n",
      "\n",
      "batch 6, sample 13\n",
      "target labels (cls, x, y, w, h)\n",
      " [[  6 438 265  62  83]\n",
      " [  6 180 271  66  24]\n",
      " [  6  88 263  74  31]\n",
      " [  6  63 269  60  37]\n",
      " [  6   1 256  67  53]\n",
      " [  6   1 275  39  41]]\n",
      "predicted labels (cls, x, y, w, h)\n",
      " [[  6   6 247  96  63]\n",
      " [  6 390 255 111  94]\n",
      " [  6  46 245  97  64]\n",
      " [  6 153 251 119  52]]\n"
     ]
    },
    {
     "name": "stdout",
     "output_type": "stream",
     "text": [
      "\n",
      "batch 6, sample 14\n",
      "target labels (cls, x, y, w, h)\n",
      " [[ 11   1  26 345 474]]\n",
      "predicted labels (cls, x, y, w, h) - No objects detected!!\n",
      "\n",
      "batch 6, sample 15\n",
      "target labels (cls, x, y, w, h)\n",
      " [[  9  23 183 210  91]\n",
      " [  9  32  93 323 169]]\n",
      "predicted labels (cls, x, y, w, h) - No objects detected!!\n",
      "\n",
      "batch 7, sample 0\n",
      "target labels (cls, x, y, w, h)\n",
      " [[  0   1  35 486 258]\n",
      " [ 14 385 236  21  62]\n",
      " [ 14 329 245  17  49]\n",
      " [ 14 353 239  23  59]\n",
      " [ 14 356 239  24  51]\n",
      " [ 14 480 239   7  18]\n",
      " [ 14 471 236   7  21]\n",
      " [ 14 466 237   7  18]\n",
      " [ 14 455 236   9  19]\n",
      " [ 14 461 238   5  18]\n",
      " [ 14 439 237   6  16]\n",
      " [ 14 435 237   6  16]\n",
      " [ 14 426 239   6  14]\n",
      " [ 14 412 238   6  17]\n",
      " [ 14 416 237   6  15]\n",
      " [ 14 420 239   3  12]\n",
      " [ 14 422 237   4  15]\n",
      " [ 14 382 235   7  15]\n",
      " [ 14 375 235   6  13]]\n",
      "predicted labels (cls, x, y, w, h)\n",
      " [[  0  24  67 447 184]\n",
      " [ 14 462 226  13  29]\n",
      " [ 14 401 239  15  21]\n",
      " [ 14 437 236  12  25]\n",
      " [ 14 428 241  23  56]\n",
      " [ 14 384 244  16  40]\n",
      " [ 14 444 237  15  24]\n",
      " [ 14 359 239  23  23]]\n",
      "\n",
      "batch 7, sample 1\n",
      "target labels (cls, x, y, w, h)\n",
      " [[  4 291 162  42 156]\n",
      " [  7 141 123 141 195]]\n",
      "predicted labels (cls, x, y, w, h)\n",
      " [[  7 131 117 169 205]]\n",
      "\n",
      "batch 7, sample 2\n",
      "target labels (cls, x, y, w, h)\n",
      " [[ 14  42 215 147 103]\n",
      " [ 14 173 223 105 142]\n",
      " [ 14 262 258  71 146]]\n",
      "predicted labels (cls, x, y, w, h) - No objects detected!!\n",
      "\n",
      "batch 7, sample 3\n",
      "target labels (cls, x, y, w, h)\n",
      " [[  6 470 225  18  16]\n",
      " [ 14 458 230  22  49]]\n",
      "predicted labels (cls, x, y, w, h)\n",
      " [[  1 244 303  82  55]\n",
      " [ 14 458 231  20  40]\n",
      " [ 14 462 227  12  26]]\n",
      "\n",
      "batch 7, sample 4\n",
      "target labels (cls, x, y, w, h)\n",
      " [[  6 252 227  59  44]]\n",
      "predicted labels (cls, x, y, w, h)\n",
      " [[  6 242 217  68  43]]\n",
      "\n",
      "batch 7, sample 5\n",
      "target labels (cls, x, y, w, h)\n",
      " [[ 10   1  31 292 341]\n",
      " [  7 166  85 211 136]\n",
      " [  8 159   1 316 374]\n",
      " [  8 283   1 206 351]\n",
      " [  8   1 158  66 133]\n",
      " [ 15 144 110  75  94]\n",
      " [ 15 444  96  21  36]\n",
      " [ 15 466 107  24  40]]\n",
      "predicted labels (cls, x, y, w, h)\n",
      " [[  7 230 100 125 123]]\n",
      "\n",
      "batch 7, sample 6\n",
      "target labels (cls, x, y, w, h)\n",
      " [[ 11 264 197  39  89]\n",
      " [ 14 125   1 107 185]\n",
      " [  1 207  19  90 205]]\n",
      "predicted labels (cls, x, y, w, h)\n",
      " [[  1 170   7 151 256]\n",
      " [ 14 139  -3  80 198]]\n",
      "\n",
      "batch 7, sample 7\n",
      "target labels (cls, x, y, w, h)\n",
      " [[ 14 118 148  48 156]\n",
      " [ 11 137 253  52  39]]\n",
      "predicted labels (cls, x, y, w, h)\n",
      " [[ 14 110 135  56 167]]\n",
      "\n",
      "batch 7, sample 8\n",
      "target labels (cls, x, y, w, h)\n",
      " [[ 11   1   9 438 491]]\n",
      "predicted labels (cls, x, y, w, h) - No objects detected!!\n",
      "\n",
      "batch 7, sample 9\n",
      "target labels (cls, x, y, w, h)\n",
      " [[ 17   1  14 499 319]\n",
      " [ 14  71  40 378 293]\n",
      " [ 14   1  63 322 270]]\n",
      "predicted labels (cls, x, y, w, h) - No objects detected!!\n",
      "\n",
      "batch 7, sample 10\n",
      "target labels (cls, x, y, w, h)\n",
      " [[  0   1  46 427 327]\n",
      " [  0 374 100 126 275]]\n",
      "predicted labels (cls, x, y, w, h)\n",
      " [[   0 -102   54  635  312]]\n",
      "\n",
      "batch 7, sample 11\n",
      "target labels (cls, x, y, w, h)\n",
      " [[ 11 123  50 186 188]]\n",
      "predicted labels (cls, x, y, w, h) - No objects detected!!\n",
      "\n",
      "batch 7, sample 12\n",
      "target labels (cls, x, y, w, h)\n",
      " [[ 11  90  95 225 185]]\n",
      "predicted labels (cls, x, y, w, h)\n",
      " [[ 11  73  75 209 223]]\n",
      "\n",
      "batch 7, sample 13\n",
      "target labels (cls, x, y, w, h)\n",
      " [[ 12 378 204  82  49]\n",
      " [ 12 198 191  52  32]]\n",
      "predicted labels (cls, x, y, w, h)\n",
      " [[  9 186 192  58  29]]\n",
      "\n",
      "batch 7, sample 14\n",
      "target labels (cls, x, y, w, h)\n",
      " [[  5 185 260 255 158]\n",
      " [ 14 245 297  35  31]]\n",
      "predicted labels (cls, x, y, w, h) - No objects detected!!\n",
      "\n",
      "batch 7, sample 15\n",
      "target labels (cls, x, y, w, h)\n",
      " [[  5 109 327 388  48]]\n",
      "predicted labels (cls, x, y, w, h) - No objects detected!!\n",
      "\n",
      "batch 8, sample 0\n",
      "target labels (cls, x, y, w, h)\n",
      " [[  6 148 120  41  32]]\n",
      "predicted labels (cls, x, y, w, h) - No objects detected!!\n",
      "\n",
      "batch 8, sample 1\n",
      "target labels (cls, x, y, w, h)\n",
      " [[ 16 169 262 206 115]\n",
      " [ 16 216  18 123 124]\n",
      " [ 14 193  87 112 191]\n",
      " [ 14   1  55  36 146]\n",
      " [ 14   1   1  73 144]\n",
      " [ 14  99   1  53  70]\n",
      " [ 14  98   1  69  40]\n",
      " [ 14 183   1  58  96]\n",
      " [ 14 285   1  36  32]\n",
      " [ 14 402  55  80 149]\n",
      " [ 14 364  20 136 184]\n",
      " [ 14 427  82  73 295]\n",
      " [ 14 469   1  31  40]]\n",
      "predicted labels (cls, x, y, w, h)\n",
      " [[  9 338   1  65  38]\n",
      " [ 14 191   0  51  76]\n",
      " [ 14 401  37  75 140]\n",
      " [ 16 238  40  87  74]]\n",
      "\n",
      "batch 8, sample 2\n",
      "target labels (cls, x, y, w, h)\n",
      " [[ 17 115 194 246 142]\n",
      " [  8   1 290 282 210]]\n",
      "predicted labels (cls, x, y, w, h) - No objects detected!!\n",
      "\n",
      "batch 8, sample 3\n",
      "target labels (cls, x, y, w, h)\n",
      " [[ 11  82 205 150  92]\n",
      " [  6 345 182  30  27]\n",
      " [  6   1  61 309 439]]\n",
      "predicted labels (cls, x, y, w, h) - No objects detected!!\n",
      "\n",
      "batch 8, sample 4\n",
      "target labels (cls, x, y, w, h)\n",
      " [[  5 102  79 304 147]\n",
      " [ 14 409 147  28  54]\n",
      " [  6  65 150  42  31]\n",
      " [ 14 275 127  37  37]]\n",
      "predicted labels (cls, x, y, w, h)\n",
      " [[  5 179  92 153 101]\n",
      " [  6  75 145  38  38]]\n",
      "\n",
      "batch 8, sample 5\n",
      "target labels (cls, x, y, w, h)\n",
      " [[ 13   1 105 376 395]\n",
      " [ 13   1  92 376 260]\n",
      " [ 13   1  52 320 135]\n",
      " [ 13   1  39 288  79]\n",
      " [ 13   1   1 274  92]\n",
      " [ 14 242   1 135 166]]\n",
      "predicted labels (cls, x, y, w, h) - No objects detected!!\n",
      "\n",
      "batch 8, sample 6\n",
      "target labels (cls, x, y, w, h)\n",
      " [[  2 103 131 244  48]]\n",
      "predicted labels (cls, x, y, w, h) - No objects detected!!\n",
      "\n",
      "batch 8, sample 7\n",
      "target labels (cls, x, y, w, h)\n",
      " [[  5  85  21 352 354]\n",
      " [  5   1 102 124 182]\n",
      " [  6 410 168  90  94]\n",
      " [  6 408 185  61  18]]\n",
      "predicted labels (cls, x, y, w, h)\n",
      " [[  5 -40  34 185 306]]\n",
      "\n",
      "batch 8, sample 8\n",
      "target labels (cls, x, y, w, h)\n",
      " [[ 14   1 184 212 191]\n",
      " [ 11 190 133 236 242]]\n",
      "predicted labels (cls, x, y, w, h) - No objects detected!!\n",
      "\n",
      "batch 8, sample 9\n",
      "target labels (cls, x, y, w, h)\n",
      " [[ 14  60  65 274 435]]\n",
      "predicted labels (cls, x, y, w, h) - No objects detected!!\n",
      "\n",
      "batch 8, sample 10\n",
      "target labels (cls, x, y, w, h)\n",
      " [[  8  36   6 464 369]\n",
      " [ 14 143 122 246 188]\n",
      " [ 14   1   1 451 374]]\n",
      "predicted labels (cls, x, y, w, h) - No objects detected!!\n",
      "\n",
      "batch 8, sample 11\n",
      "target labels (cls, x, y, w, h)\n",
      " [[  5  59  59 403 228]\n",
      " [  6   1 202  84  98]\n",
      " [  6 460 189  40  38]]\n",
      "predicted labels (cls, x, y, w, h)\n",
      " [[  6  -5 203  62  76]]\n",
      "\n",
      "batch 8, sample 12\n",
      "target labels (cls, x, y, w, h)\n",
      " [[ 13  21  17 464 294]\n",
      " [  6 367   1 133 167]\n",
      " [  6  68   1 301 100]]\n",
      "predicted labels (cls, x, y, w, h) - No objects detected!!\n",
      "\n",
      "batch 8, sample 13\n",
      "target labels (cls, x, y, w, h)\n",
      " [[ 13 194 201  48  77]\n",
      " [  6 270 180  76  70]\n",
      " [ 14 194 178  46  74]]\n",
      "predicted labels (cls, x, y, w, h)\n",
      " [[  6 272 176  95  70]]\n",
      "\n",
      "batch 8, sample 14\n",
      "target labels (cls, x, y, w, h)\n",
      " [[  6   1 193 147 138]\n",
      " [  5 100  32 338 282]\n",
      " [ 14 437 206  30  83]\n",
      " [ 14 468 210  15  46]\n",
      " [ 14 481 209  18  47]]\n",
      "predicted labels (cls, x, y, w, h)\n",
      " [[  6 -33 170 190 160]\n",
      " [ 14 454 208  30  58]]\n",
      "\n",
      "batch 8, sample 15\n",
      "target labels (cls, x, y, w, h)\n",
      " [[  0   1  14 499 318]]\n",
      "predicted labels (cls, x, y, w, h)\n",
      " [[   0 -201   29  902  318]]\n",
      "\n",
      "batch 9, sample 0\n",
      "target labels (cls, x, y, w, h)\n",
      " [[  0  10  69 476 244]]\n",
      "predicted labels (cls, x, y, w, h)\n",
      " [[  0 -24  79 553 216]]\n",
      "\n",
      "batch 9, sample 1\n",
      "target labels (cls, x, y, w, h)\n",
      " [[ 15 260 442  48  56]\n",
      " [ 15 303 442  43  52]\n",
      " [ 15 341 414  34  64]\n",
      " [ 15 319 300  56 119]\n",
      " [ 15 304 196  64  64]\n",
      " [  4 229 174  14  52]\n",
      " [  4 214 172  15  55]\n",
      " [  4 187 173  14  53]\n",
      " [  4 174 177  16  50]\n",
      " [  4 157 177  15  51]\n",
      " [  4 137 184  17  45]\n",
      " [  4 152 245  15  52]\n",
      " [  4 138 245  16  52]\n",
      " [  4 122 245  13  52]\n",
      " [  4 111 252  18  46]\n",
      " [  4  96 245  14  52]\n",
      " [  4  85 248  15  51]\n",
      " [  4  65 250  16  49]\n",
      " [  4  35 251  16  48]\n",
      " [  4  23 251  14  45]\n",
      " [  4 106 244  12  51]]\n",
      "predicted labels (cls, x, y, w, h)\n",
      " [[  4 207 166  11  82]\n",
      " [ 15 314 198  36  97]\n",
      " [ 15 318 406  27  74]]\n",
      "\n",
      "batch 9, sample 2\n",
      "target labels (cls, x, y, w, h)\n",
      " [[ 18 174 118 209 127]]\n",
      "predicted labels (cls, x, y, w, h) - No objects detected!!\n",
      "\n",
      "batch 9, sample 3\n",
      "target labels (cls, x, y, w, h)\n",
      " [[  8  95 195  46 107]\n",
      " [ 14 108 158  88 151]\n",
      " [ 14 191 159  46 127]\n",
      " [ 14 237 156  46 135]\n",
      " [ 14 283 155  64 142]\n",
      " [ 14 306 162  87 159]\n",
      " [  8 340 213  74 125]\n",
      " [  8 118 211  74 125]\n",
      " [  8 197 226  71 112]\n",
      " [ 11 274 291  45  39]\n",
      " [ 10 157 204 163 115]]\n",
      "predicted labels (cls, x, y, w, h)\n",
      " [[  8 323 179  71 139]\n",
      " [ 14 293 190  77 111]]\n",
      "\n",
      "batch 9, sample 4\n",
      "target labels (cls, x, y, w, h)\n",
      " [[  2  17 107 221  94]\n",
      " [  2 363 241 118  62]]\n",
      "predicted labels (cls, x, y, w, h) - No objects detected!!\n",
      "\n",
      "batch 9, sample 5\n",
      "target labels (cls, x, y, w, h)\n",
      " [[ 12  71  32 285 268]\n",
      " [ 14 375  83  16  44]\n",
      " [ 14 362  85  15  37]]\n",
      "predicted labels (cls, x, y, w, h)\n",
      " [[ 14 366  81  18  33]]\n"
     ]
    },
    {
     "name": "stdout",
     "output_type": "stream",
     "text": [
      "\n",
      "batch 9, sample 6\n",
      "target labels (cls, x, y, w, h)\n",
      " [[  5 240 114 244 172]\n",
      " [  5   7 149 202  97]\n",
      " [ 14   5 206  37  99]\n",
      " [ 14 208 218  16  35]\n",
      " [ 14  37 217  18  74]\n",
      " [  1 223 224  18  11]\n",
      " [ 14 232 210   9  18]\n",
      " [ 14   1 221   7  40]]\n",
      "predicted labels (cls, x, y, w, h)\n",
      " [[  5 228  96 266 188]\n",
      " [  5  40 161 123 102]\n",
      " [ 14   0 203  54  99]]\n",
      "\n",
      "batch 9, sample 7\n",
      "target labels (cls, x, y, w, h)\n",
      " [[  9 432  28  18  27]\n",
      " [  9 179  40  42  30]\n",
      " [  9 117  49  32  23]\n",
      " [  9 156  36  42  33]\n",
      " [  9 339  84 161 249]\n",
      " [  9  80  88 134 241]\n",
      " [  9 199 114 185 231]\n",
      " [  9   1 127 102 156]]\n",
      "predicted labels (cls, x, y, w, h)\n",
      " [[  9 420  29  39  22]]\n",
      "\n",
      "batch 9, sample 8\n",
      "target labels (cls, x, y, w, h)\n",
      " [[ 14 286 374  28  75]\n",
      " [ 14 312 380  21  70]]\n",
      "predicted labels (cls, x, y, w, h)\n",
      " [[ 14 285 367  28  76]]\n",
      "\n",
      "batch 9, sample 9\n",
      "target labels (cls, x, y, w, h)\n",
      " [[ 14 111 126 153 374]\n",
      " [  1  91 267 154 233]]\n",
      "predicted labels (cls, x, y, w, h) - No objects detected!!\n",
      "\n",
      "batch 9, sample 10\n",
      "target labels (cls, x, y, w, h)\n",
      " [[  8  45  80 195 156]]\n",
      "predicted labels (cls, x, y, w, h) - No objects detected!!\n",
      "\n",
      "batch 9, sample 11\n",
      "target labels (cls, x, y, w, h)\n",
      " [[ 14 225  50 257 283]\n",
      " [ 14 105  50  41 113]\n",
      " [ 14 129  50  36 104]\n",
      " [ 14  72  38  23 109]\n",
      " [ 14  87  54  21  77]\n",
      " [ 14 431  67  21  40]\n",
      " [ 14 456  70  24  51]\n",
      " [ 14 474  63  18  70]]\n",
      "predicted labels (cls, x, y, w, h)\n",
      " [[ 14  71  38  57 111]\n",
      " [ 14  89  23  71 171]\n",
      " [ 14 455  68  30  54]]\n",
      "\n",
      "batch 9, sample 12\n",
      "target labels (cls, x, y, w, h)\n",
      " [[  5  61  70 296 196]\n",
      " [  1 464 180  26  16]\n",
      " [ 14 464 172  13  27]]\n",
      "predicted labels (cls, x, y, w, h) - No objects detected!!\n",
      "\n",
      "batch 9, sample 13\n",
      "target labels (cls, x, y, w, h)\n",
      " [[  8  32 174 239 326]\n",
      " [ 14  84 111 213 363]\n",
      " [ 14 282   1  51 330]]\n",
      "predicted labels (cls, x, y, w, h) - No objects detected!!\n",
      "\n",
      "batch 9, sample 14\n",
      "target labels (cls, x, y, w, h)\n",
      " [[  0   1 104 499 168]]\n",
      "predicted labels (cls, x, y, w, h) - No objects detected!!\n",
      "\n",
      "batch 9, sample 15\n",
      "target labels (cls, x, y, w, h)\n",
      " [[  7   1   1 312 374]\n",
      " [  7 222   1 278 374]]\n",
      "predicted labels (cls, x, y, w, h)\n",
      " [[ 11 -27 -25 544 426]]\n",
      "\n",
      "batch 10, sample 0\n",
      "target labels (cls, x, y, w, h)\n",
      " [[ 14  42 249  57 126]\n",
      " [ 14 313 242  41 128]\n",
      " [ 14 347 247  26 109]\n",
      " [ 14 123 235  50 140]\n",
      " [ 14 122 246  25  82]\n",
      " [ 14 282 249  25  74]\n",
      " [ 14 367 256  17  71]\n",
      " [ 15 226 262  75  23]]\n",
      "predicted labels (cls, x, y, w, h)\n",
      " [[ 14 317 256  33  94]\n",
      " [ 14 108 196  68 199]\n",
      " [ 14 344 252  29  95]\n",
      " [ 14 125 254  37  92]\n",
      " [ 14  28 237  58 135]]\n",
      "\n",
      "batch 10, sample 1\n",
      "target labels (cls, x, y, w, h)\n",
      " [[ 11   1  59 329 441]]\n",
      "predicted labels (cls, x, y, w, h)\n",
      " [[ 11  58  82 282 420]]\n",
      "\n",
      "batch 10, sample 2\n",
      "target labels (cls, x, y, w, h)\n",
      " [[ 11 201  13 201 315]]\n",
      "predicted labels (cls, x, y, w, h)\n",
      " [[ 11 212  52 165 219]]\n",
      "\n",
      "batch 10, sample 3\n",
      "target labels (cls, x, y, w, h)\n",
      " [[  5  74  17 414 358]]\n",
      "predicted labels (cls, x, y, w, h) - No objects detected!!\n",
      "\n",
      "batch 10, sample 4\n",
      "target labels (cls, x, y, w, h)\n",
      " [[ 14 179 130 145 199]\n",
      " [ 17 252   1 248 227]\n",
      " [  8   1   1 126 180]]\n",
      "predicted labels (cls, x, y, w, h)\n",
      " [[ 14 -15 -22 152 244]\n",
      " [ 14 171 110 172 201]]\n",
      "\n",
      "batch 10, sample 5\n",
      "target labels (cls, x, y, w, h)\n",
      " [[  2   1  85 333 415]]\n",
      "predicted labels (cls, x, y, w, h) - No objects detected!!\n",
      "\n",
      "batch 10, sample 6\n",
      "target labels (cls, x, y, w, h)\n",
      " [[  0  39 119 454 133]]\n",
      "predicted labels (cls, x, y, w, h)\n",
      " [[  0   4 126 501 135]]\n",
      "\n",
      "batch 10, sample 7\n",
      "target labels (cls, x, y, w, h)\n",
      " [[  6 142  52 275 202]]\n",
      "predicted labels (cls, x, y, w, h) - No objects detected!!\n",
      "\n",
      "batch 10, sample 8\n",
      "target labels (cls, x, y, w, h)\n",
      " [[  0 244 113  48  79]]\n",
      "predicted labels (cls, x, y, w, h) - No objects detected!!\n",
      "\n",
      "batch 10, sample 9\n",
      "target labels (cls, x, y, w, h)\n",
      " [[  7  66  54 415 262]]\n",
      "predicted labels (cls, x, y, w, h)\n",
      " [[  7 157  91 271 195]]\n",
      "\n",
      "batch 10, sample 10\n",
      "target labels (cls, x, y, w, h)\n",
      " [[  0  23  66 469 156]]\n",
      "predicted labels (cls, x, y, w, h) - No objects detected!!\n",
      "\n",
      "batch 10, sample 11\n",
      "target labels (cls, x, y, w, h)\n",
      " [[  5  86  75 313 194]\n",
      " [  5 401  54  99 235]\n",
      " [ 14 221 130  36  74]]\n",
      "predicted labels (cls, x, y, w, h)\n",
      " [[  5 144  92 207 142]\n",
      " [ 14 215 107  51 101]]\n",
      "\n",
      "batch 10, sample 12\n",
      "target labels (cls, x, y, w, h)\n",
      " [[ 14  50  68 197 328]]\n",
      "predicted labels (cls, x, y, w, h) - No objects detected!!\n",
      "\n",
      "batch 10, sample 13\n",
      "target labels (cls, x, y, w, h)\n",
      " [[ 14 187 123 120 377]\n",
      " [ 14  93 167 116 318]\n",
      " [  8 274 267  87 146]\n",
      " [ 15  33 251  38  90]\n",
      " [ 15   1 191  38 148]]\n",
      "predicted labels (cls, x, y, w, h)\n",
      " [[  8 274 287  66 143]\n",
      " [ 14 104 186  98 277]\n",
      " [ 15  57 315  30  94]\n",
      " [ 15  25 258  31  65]\n",
      " [ 15  32 298  24  59]\n",
      " [ 15  -2 159  40 182]]\n",
      "\n",
      "batch 10, sample 14\n",
      "target labels (cls, x, y, w, h)\n",
      " [[  3 164   1 229 253]\n",
      " [ 14 311 193  30  37]\n",
      " [ 14 296 194  21  35]\n",
      " [ 14 284 194   8  17]]\n",
      "predicted labels (cls, x, y, w, h)\n",
      " [[ 14 275 170  25  41]\n",
      " [ 14 276 194  34  37]\n",
      " [ 14 309 198  11  20]\n",
      " [ 14 310 197  23  28]\n",
      " [ 14 314 178  19  29]]\n",
      "\n",
      "batch 10, sample 15\n",
      "target labels (cls, x, y, w, h)\n",
      " [[  7 120   7 367 368]]\n",
      "predicted labels (cls, x, y, w, h)\n",
      " [[  7 150  34 268 313]]\n",
      "\n",
      "batch 11, sample 0\n",
      "target labels (cls, x, y, w, h)\n",
      " [[ 13  97 336 182 133]]\n",
      "predicted labels (cls, x, y, w, h)\n",
      " [[  1  99 318 180 170]]\n",
      "\n",
      "batch 11, sample 1\n",
      "target labels (cls, x, y, w, h)\n",
      " [[ 14 167 107 115 214]\n",
      " [ 14 152  89 134  79]\n",
      " [ 14 244 117  88 128]]\n",
      "predicted labels (cls, x, y, w, h)\n",
      " [[ 14 143  96 132 232]]\n",
      "\n",
      "batch 11, sample 2\n",
      "target labels (cls, x, y, w, h)\n",
      " [[ 11  91  54 227 426]]\n",
      "predicted labels (cls, x, y, w, h)\n",
      " [[ 11  18  94 337 323]]\n",
      "\n",
      "batch 11, sample 3\n",
      "target labels (cls, x, y, w, h)\n",
      " [[ 17  23 166 119  59]]\n",
      "predicted labels (cls, x, y, w, h)\n",
      " [[ 17  41 134 106 121]]\n",
      "\n",
      "batch 11, sample 4\n",
      "target labels (cls, x, y, w, h)\n",
      " [[  0   1  10 486 310]\n",
      " [  0 310  86  33  13]\n",
      " [  0 343  90  26   6]\n",
      " [  0 369  90  17   7]\n",
      " [  0 385  89  22   9]\n",
      " [  0 409  93  11   4]\n",
      " [  0 417  90  24   8]]\n",
      "predicted labels (cls, x, y, w, h)\n",
      " [[  0 336  84  66  16]\n",
      " [  0 366  81  67  23]]\n",
      "\n",
      "batch 11, sample 5\n",
      "target labels (cls, x, y, w, h)\n",
      " [[ 14  54  37 344 338]]\n",
      "predicted labels (cls, x, y, w, h) - No objects detected!!\n",
      "\n",
      "batch 11, sample 6\n",
      "target labels (cls, x, y, w, h)\n",
      " [[ 18   1 157 332 343]]\n",
      "predicted labels (cls, x, y, w, h) - No objects detected!!\n",
      "\n",
      "batch 11, sample 7\n",
      "target labels (cls, x, y, w, h)\n",
      " [[  7 159   1 341 333]]\n",
      "predicted labels (cls, x, y, w, h) - No objects detected!!\n",
      "\n",
      "batch 11, sample 8\n",
      "target labels (cls, x, y, w, h)\n",
      " [[ 17   1  97 499 243]\n",
      " [ 15  22  77  49  36]\n",
      " [ 15 345   1  77 121]]\n",
      "predicted labels (cls, x, y, w, h) - No objects detected!!\n",
      "\n",
      "batch 11, sample 9\n",
      "target labels (cls, x, y, w, h)\n",
      " [[ 11 247 282 103  61]]\n",
      "predicted labels (cls, x, y, w, h) - No objects detected!!\n",
      "\n",
      "batch 11, sample 10\n",
      "target labels (cls, x, y, w, h)\n",
      " [[  2 167 173  60 140]]\n",
      "predicted labels (cls, x, y, w, h)\n",
      " [[  2 161 176  59 128]]\n",
      "\n",
      "batch 11, sample 11\n",
      "target labels (cls, x, y, w, h)\n",
      " [[ 11   1  10 332 454]]\n",
      "predicted labels (cls, x, y, w, h) - No objects detected!!\n",
      "\n",
      "batch 11, sample 12\n",
      "target labels (cls, x, y, w, h)\n",
      " [[ 16 165 123 112 161]\n",
      " [ 16 166 198  71 108]]\n",
      "predicted labels (cls, x, y, w, h)\n",
      " [[  9 160 116 112 153]\n",
      " [  9 161 178  83 119]]\n",
      "\n",
      "batch 11, sample 13\n",
      "target labels (cls, x, y, w, h)\n",
      " [[ 16 109   1 259 374]\n",
      " [ 16 296 260 204 115]\n",
      " [ 16   1   1 114  81]]\n",
      "predicted labels (cls, x, y, w, h)\n",
      " [[ 11 316 273 174 102]]\n",
      "\n",
      "batch 11, sample 14\n",
      "target labels (cls, x, y, w, h)\n",
      " [[ 17  36   1 297 327]\n",
      " [ 11  80 258 232 117]]\n",
      "predicted labels (cls, x, y, w, h)\n",
      " [[ 11  72 209 193 213]]\n",
      "\n",
      "batch 11, sample 15\n",
      "target labels (cls, x, y, w, h)\n",
      " [[  6  62 122 358 201]\n",
      " [ 14 212  65  56 102]]\n",
      "predicted labels (cls, x, y, w, h)\n",
      " [[  6  62  67 364 279]\n",
      " [ 14 194  17  83 164]]\n",
      "\n",
      "batch 12, sample 0\n",
      "target labels (cls, x, y, w, h)\n",
      " [[ 11 212  21 268 310]]\n",
      "predicted labels (cls, x, y, w, h) - No objects detected!!\n",
      "\n",
      "batch 12, sample 1\n",
      "target labels (cls, x, y, w, h)\n",
      " [[ 19 128  25 243 166]]\n",
      "predicted labels (cls, x, y, w, h) - No objects detected!!\n",
      "\n",
      "batch 12, sample 2\n",
      "target labels (cls, x, y, w, h)\n",
      " [[  6 176  94 299 217]\n",
      " [  6 438  77  62  49]\n",
      " [  6   1  57 161 237]\n",
      " [  6   1  26 159  83]\n",
      " [  6 137  46 115  94]\n",
      " [  6 184  51 175  47]\n",
      " [  6 264  52 137  49]\n",
      " [  6 324  54  99  50]\n",
      " [  6 464  48  36  26]]\n",
      "predicted labels (cls, x, y, w, h)\n",
      " [[  6 254  47 157  54]\n",
      " [  6 111  48 125  88]\n",
      " [  6 359  48  83  50]\n",
      " [  6 199  53 110  48]\n",
      " [  6 420  53  51  39]\n",
      " [  6 167  67 303 281]]\n"
     ]
    },
    {
     "name": "stdout",
     "output_type": "stream",
     "text": [
      "\n",
      "batch 12, sample 3\n",
      "target labels (cls, x, y, w, h)\n",
      " [[  6 389 138 111  81]\n",
      " [ 14  70 105 178 270]\n",
      " [ 14 257  97 226 278]\n",
      " [ 14 218  76 109 299]\n",
      " [ 14 409 116  16  31]\n",
      " [ 14 436 112  18  34]\n",
      " [  6 418 191  82 160]\n",
      " [ 14 474 162  26  28]]\n",
      "predicted labels (cls, x, y, w, h)\n",
      " [[ 14 407 106  13  35]\n",
      " [ 14 429 107  18  44]\n",
      " [ 14 422 123  17  24]\n",
      " [ 14  73 100 138 278]]\n",
      "\n",
      "batch 12, sample 4\n",
      "target labels (cls, x, y, w, h)\n",
      " [[ 14 371 170  76  80]\n",
      " [ 14 282 170 106 106]\n",
      " [ 13   1 145 257 132]\n",
      " [  3 352 187 143 166]]\n",
      "predicted labels (cls, x, y, w, h) - No objects detected!!\n",
      "\n",
      "batch 12, sample 5\n",
      "target labels (cls, x, y, w, h)\n",
      " [[ 11 162 120 107 112]]\n",
      "predicted labels (cls, x, y, w, h)\n",
      " [[ 11 113  72 188 233]]\n",
      "\n",
      "batch 12, sample 6\n",
      "target labels (cls, x, y, w, h)\n",
      " [[ 11   1   1 374 499]]\n",
      "predicted labels (cls, x, y, w, h) - No objects detected!!\n",
      "\n",
      "batch 12, sample 7\n",
      "target labels (cls, x, y, w, h)\n",
      " [[ 18   1  21 374 448]\n",
      " [ 14  21 196  92 255]\n",
      " [ 14 140 196  82 158]\n",
      " [ 14 211 184  98 128]]\n",
      "predicted labels (cls, x, y, w, h)\n",
      " [[ 14  30 148  82 363]]\n",
      "\n",
      "batch 12, sample 8\n",
      "target labels (cls, x, y, w, h)\n",
      " [[  4 204 136 296 239]\n",
      " [ 11   1  44 457 331]\n",
      " [ 14   1   1 172 374]]\n",
      "predicted labels (cls, x, y, w, h) - No objects detected!!\n",
      "\n",
      "batch 12, sample 9\n",
      "target labels (cls, x, y, w, h)\n",
      " [[  3 110 264  50  27]\n",
      " [ 14 124 266  11  12]\n",
      " [ 14 138 263  16  14]]\n",
      "predicted labels (cls, x, y, w, h)\n",
      " [[  3 122 267  37  36]]\n",
      "\n",
      "batch 12, sample 10\n",
      "target labels (cls, x, y, w, h)\n",
      " [[ 10   1   1 499 374]]\n",
      "predicted labels (cls, x, y, w, h) - No objects detected!!\n",
      "\n",
      "batch 12, sample 11\n",
      "target labels (cls, x, y, w, h)\n",
      " [[  1 120 226 102 106]]\n",
      "predicted labels (cls, x, y, w, h)\n",
      " [[  1 103 214 128 138]]\n",
      "\n",
      "batch 12, sample 12\n",
      "target labels (cls, x, y, w, h)\n",
      " [[ 16 241 137  58 108]\n",
      " [ 16 434 141  66  37]\n",
      " [ 16  29 144  54  64]\n",
      " [ 16 427 156  73  75]\n",
      " [ 16 426 247  28  72]]\n",
      "predicted labels (cls, x, y, w, h)\n",
      " [[ 16 186 114 198 149]]\n",
      "\n",
      "batch 12, sample 13\n",
      "target labels (cls, x, y, w, h)\n",
      " [[  3   1 138 408 195]\n",
      " [ 14 220 146 223 160]\n",
      " [ 14 110 122 132 169]\n",
      " [ 14 145 168 104 107]]\n",
      "predicted labels (cls, x, y, w, h)\n",
      " [[ 14 248 139  60 117]\n",
      " [ 14 238 128 108 175]\n",
      " [ 14 230 152  60  69]]\n",
      "\n",
      "batch 12, sample 14\n",
      "target labels (cls, x, y, w, h)\n",
      " [[  6 130  95 317 146]]\n",
      "predicted labels (cls, x, y, w, h) - No objects detected!!\n",
      "\n",
      "batch 12, sample 15\n",
      "target labels (cls, x, y, w, h)\n",
      " [[  6  42  66 384 192]]\n",
      "predicted labels (cls, x, y, w, h)\n",
      " [[  6  54  58 374 206]]\n",
      "\n",
      "batch 13, sample 0\n",
      "target labels (cls, x, y, w, h)\n",
      " [[  8 247 238 128 142]\n",
      " [ 14 149 132 121 361]]\n",
      "predicted labels (cls, x, y, w, h)\n",
      " [[  8 211 246 188 143]]\n",
      "\n",
      "batch 13, sample 1\n",
      "target labels (cls, x, y, w, h)\n",
      " [[ 17   3   1 496 370]\n",
      " [  7   1  18 421 245]]\n",
      "predicted labels (cls, x, y, w, h)\n",
      " [[  7 -20  15 469 282]]\n",
      "\n",
      "batch 13, sample 2\n",
      "target labels (cls, x, y, w, h)\n",
      " [[  5  85  24 337 266]]\n",
      "predicted labels (cls, x, y, w, h) - No objects detected!!\n",
      "\n",
      "batch 13, sample 3\n",
      "target labels (cls, x, y, w, h)\n",
      " [[ 14   1   1 455 365]]\n",
      "predicted labels (cls, x, y, w, h)\n",
      " [[ 19 -26  -9 545 379]]\n",
      "\n",
      "batch 13, sample 4\n",
      "target labels (cls, x, y, w, h)\n",
      " [[ 11 235 147 223 183]\n",
      " [  7 105  12 266 333]\n",
      " [  7  21  90 233 285]]\n",
      "predicted labels (cls, x, y, w, h) - No objects detected!!\n",
      "\n",
      "batch 13, sample 5\n",
      "target labels (cls, x, y, w, h)\n",
      " [[  5  41  97 314 236]\n",
      " [ 14  23   1  17  41]\n",
      " [  1 198  24  30  38]\n",
      " [ 13 262   9  53  40]\n",
      " [ 13 283   2  49  36]]\n",
      "predicted labels (cls, x, y, w, h)\n",
      " [[  5  20  62 358 294]\n",
      " [ 14  15   0  28  40]]\n",
      "\n",
      "batch 13, sample 6\n",
      "target labels (cls, x, y, w, h)\n",
      " [[  3 203 159  24  38]\n",
      " [  3 265 178  24  11]\n",
      " [  2  13 182  12  22]]\n",
      "predicted labels (cls, x, y, w, h) - No objects detected!!\n",
      "\n",
      "batch 13, sample 7\n",
      "target labels (cls, x, y, w, h)\n",
      " [[ 14 141 106  66 216]\n",
      " [ 14 218  61  85 257]\n",
      " [ 14 320  72 118 257]\n",
      " [  6   1 128 154 134]\n",
      " [  6 288  48 212 281]]\n",
      "predicted labels (cls, x, y, w, h)\n",
      " [[  6 -44  67 278 243]\n",
      " [ 14 136 112  89 206]\n",
      " [ 14 344  89 109 209]\n",
      " [ 14 213  38  82 307]]\n",
      "\n",
      "batch 13, sample 8\n",
      "target labels (cls, x, y, w, h)\n",
      " [[  3 255 213  20  14]\n",
      " [  3 207 246  47  58]\n",
      " [  3  72 245  45  56]\n",
      " [ 14 114 176  75 221]\n",
      " [ 14   1 252  31  84]\n",
      " [ 14  88 257  23  59]\n",
      " [ 14 212 266  18  41]\n",
      " [ 14 201 250  15  40]]\n",
      "predicted labels (cls, x, y, w, h)\n",
      " [[ 14  96 153  97 277]\n",
      " [ 14   5 265  14  57]\n",
      " [ 14   3 247  26 102]\n",
      " [ 14  58 262  15  53]\n",
      " [ 14   3 281  15  73]]\n",
      "\n",
      "batch 13, sample 9\n",
      "target labels (cls, x, y, w, h)\n",
      " [[ 11  42  37 239 463]\n",
      " [  8   1 101  52 175]]\n",
      "predicted labels (cls, x, y, w, h)\n",
      " [[ 11  52  11 199 485]]\n",
      "\n",
      "batch 13, sample 10\n",
      "target labels (cls, x, y, w, h)\n",
      " [[  1  19  52 459 292]]\n",
      "predicted labels (cls, x, y, w, h)\n",
      " [[  1   7  42 484 290]]\n",
      "\n",
      "batch 13, sample 11\n",
      "target labels (cls, x, y, w, h)\n",
      " [[ 19 190   1 203  70]\n",
      " [ 19 388   1 112  84]]\n",
      "predicted labels (cls, x, y, w, h) - No objects detected!!\n",
      "\n",
      "batch 13, sample 12\n",
      "target labels (cls, x, y, w, h)\n",
      " [[  1 142  83  76 124]]\n",
      "predicted labels (cls, x, y, w, h)\n",
      " [[  1 138  90  67 139]]\n",
      "\n",
      "batch 13, sample 13\n",
      "target labels (cls, x, y, w, h)\n",
      " [[  1  92  57 362 240]\n",
      " [  1   1 110 122 237]]\n",
      "predicted labels (cls, x, y, w, h)\n",
      " [[ 15 396  54  93  81]]\n",
      "\n",
      "batch 13, sample 14\n",
      "target labels (cls, x, y, w, h)\n",
      " [[ 18  34 205 299 107]]\n",
      "predicted labels (cls, x, y, w, h)\n",
      " [[ 18 -41 180 420 140]]\n",
      "\n",
      "batch 13, sample 15\n",
      "target labels (cls, x, y, w, h)\n",
      " [[  2  18  12 346 488]]\n",
      "predicted labels (cls, x, y, w, h) - No objects detected!!\n",
      "\n",
      "batch 14, sample 0\n",
      "target labels (cls, x, y, w, h)\n",
      " [[  5  77  66 378 200]\n",
      " [  5   1  76 314 185]]\n",
      "predicted labels (cls, x, y, w, h)\n",
      " [[  5  65  59 368 200]\n",
      " [ 14 166  40  23  26]]\n",
      "\n",
      "batch 14, sample 1\n",
      "target labels (cls, x, y, w, h)\n",
      " [[ 11  42 119 321 200]]\n",
      "predicted labels (cls, x, y, w, h) - No objects detected!!\n",
      "\n",
      "batch 14, sample 2\n",
      "target labels (cls, x, y, w, h)\n",
      " [[  3  73 133 361  60]]\n",
      "predicted labels (cls, x, y, w, h)\n",
      " [[  3  84  95 337  99]]\n",
      "\n",
      "batch 14, sample 3\n",
      "target labels (cls, x, y, w, h)\n",
      " [[ 12 168 128 131 106]\n",
      " [ 14 209  74  47 119]]\n",
      "predicted labels (cls, x, y, w, h)\n",
      " [[ 12 178 113 131 117]]\n",
      "\n",
      "batch 14, sample 4\n",
      "target labels (cls, x, y, w, h)\n",
      " [[  0 146 158 285  93]]\n",
      "predicted labels (cls, x, y, w, h)\n",
      " [[  0 156 161 267  80]]\n",
      "\n",
      "batch 14, sample 5\n",
      "target labels (cls, x, y, w, h)\n",
      " [[ 16  94  27 323 303]]\n",
      "predicted labels (cls, x, y, w, h)\n",
      " [[ 16  -1 -19 512 408]]\n",
      "\n",
      "batch 14, sample 6\n",
      "target labels (cls, x, y, w, h)\n",
      " [[ 17 140 195 236 157]\n",
      " [  8   2 214  73 125]]\n",
      "predicted labels (cls, x, y, w, h)\n",
      " [[ 17 143 199 228 146]]\n",
      "\n",
      "batch 14, sample 7\n",
      "target labels (cls, x, y, w, h)\n",
      " [[ 11   1  37 293 188]]\n",
      "predicted labels (cls, x, y, w, h) - No objects detected!!\n",
      "\n",
      "batch 14, sample 8\n",
      "target labels (cls, x, y, w, h)\n",
      " [[  2 187  12 186 317]]\n",
      "predicted labels (cls, x, y, w, h) - No objects detected!!\n",
      "\n",
      "batch 14, sample 9\n",
      "target labels (cls, x, y, w, h)\n",
      " [[  0   1  86 488 159]]\n",
      "predicted labels (cls, x, y, w, h)\n",
      " [[   0 -190   76  883  185]]\n",
      "\n",
      "batch 14, sample 10\n",
      "target labels (cls, x, y, w, h)\n",
      " [[  8  38 110 419 364]\n",
      " [ 14  27  91 432 395]]\n",
      "predicted labels (cls, x, y, w, h)\n",
      " [[ 17  10 145 466 291]]\n",
      "\n",
      "batch 14, sample 11\n",
      "target labels (cls, x, y, w, h)\n",
      " [[ 17 106  50 142 216]\n",
      " [ 14   1  48 374 452]\n",
      " [ 14   1   1 143 247]]\n",
      "predicted labels (cls, x, y, w, h)\n",
      " [[ 14  -8 227 161 263]]\n",
      "\n",
      "batch 14, sample 12\n",
      "target labels (cls, x, y, w, h)\n",
      " [[  8 100 228 243 147]\n",
      " [ 14 139  44 198 331]]\n",
      "predicted labels (cls, x, y, w, h)\n",
      " [[ 14 128  43 186 346]]\n",
      "\n",
      "batch 14, sample 13\n",
      "target labels (cls, x, y, w, h)\n",
      " [[ 18   1  90 499  84]\n",
      " [ 14 222 125 113 250]]\n",
      "predicted labels (cls, x, y, w, h)\n",
      " [[ 14 211  99 137 288]]\n",
      "\n",
      "batch 14, sample 14\n",
      "target labels (cls, x, y, w, h)\n",
      " [[  4 224 306  63 107]\n",
      " [  4 142 145  96 257]]\n",
      "predicted labels (cls, x, y, w, h)\n",
      " [[  2  62 272  62  89]\n",
      " [  4 147  96  68 306]]\n",
      "\n",
      "batch 14, sample 15\n",
      "target labels (cls, x, y, w, h)\n",
      " [[  8 147 288 124  87]\n",
      " [  8 289 270 113 105]\n",
      " [  8 144 246  96 129]\n",
      " [  8 273 239  57 109]\n",
      " [ 10 121 253 242 122]]\n",
      "predicted labels (cls, x, y, w, h)\n",
      " [[  8 161 290  96  85]\n",
      " [  8 265 231  46  30]\n",
      " [  8 325 267  56 120]\n",
      " [  8 231 235  46  28]\n",
      " [  8 150 243  51  63]]\n",
      "\n",
      "breaking\n",
      "Finished object detections! Check the results.\n"
     ]
    },
    {
     "data": {
      "text/plain": [
       "<Figure size 432x288 with 0 Axes>"
      ]
     },
     "metadata": {},
     "output_type": "display_data"
    },
    {
     "data": {
      "text/plain": [
       "<Figure size 432x288 with 0 Axes>"
      ]
     },
     "metadata": {},
     "output_type": "display_data"
    },
    {
     "data": {
      "text/plain": [
       "<Figure size 432x288 with 0 Axes>"
      ]
     },
     "metadata": {},
     "output_type": "display_data"
    },
    {
     "data": {
      "text/plain": [
       "<Figure size 432x288 with 0 Axes>"
      ]
     },
     "metadata": {},
     "output_type": "display_data"
    },
    {
     "data": {
      "text/plain": [
       "<Figure size 432x288 with 0 Axes>"
      ]
     },
     "metadata": {},
     "output_type": "display_data"
    },
    {
     "data": {
      "text/plain": [
       "<Figure size 432x288 with 0 Axes>"
      ]
     },
     "metadata": {},
     "output_type": "display_data"
    },
    {
     "data": {
      "text/plain": [
       "<Figure size 432x288 with 0 Axes>"
      ]
     },
     "metadata": {},
     "output_type": "display_data"
    },
    {
     "data": {
      "text/plain": [
       "<Figure size 432x288 with 0 Axes>"
      ]
     },
     "metadata": {},
     "output_type": "display_data"
    },
    {
     "data": {
      "text/plain": [
       "<Figure size 432x288 with 0 Axes>"
      ]
     },
     "metadata": {},
     "output_type": "display_data"
    },
    {
     "data": {
      "text/plain": [
       "<Figure size 432x288 with 0 Axes>"
      ]
     },
     "metadata": {},
     "output_type": "display_data"
    },
    {
     "data": {
      "text/plain": [
       "<Figure size 432x288 with 0 Axes>"
      ]
     },
     "metadata": {},
     "output_type": "display_data"
    },
    {
     "data": {
      "text/plain": [
       "<Figure size 432x288 with 0 Axes>"
      ]
     },
     "metadata": {},
     "output_type": "display_data"
    },
    {
     "data": {
      "text/plain": [
       "<Figure size 432x288 with 0 Axes>"
      ]
     },
     "metadata": {},
     "output_type": "display_data"
    },
    {
     "data": {
      "text/plain": [
       "<Figure size 432x288 with 0 Axes>"
      ]
     },
     "metadata": {},
     "output_type": "display_data"
    },
    {
     "data": {
      "text/plain": [
       "<Figure size 432x288 with 0 Axes>"
      ]
     },
     "metadata": {},
     "output_type": "display_data"
    },
    {
     "data": {
      "text/plain": [
       "<Figure size 432x288 with 0 Axes>"
      ]
     },
     "metadata": {},
     "output_type": "display_data"
    },
    {
     "data": {
      "text/plain": [
       "<Figure size 432x288 with 0 Axes>"
      ]
     },
     "metadata": {},
     "output_type": "display_data"
    },
    {
     "data": {
      "text/plain": [
       "<Figure size 432x288 with 0 Axes>"
      ]
     },
     "metadata": {},
     "output_type": "display_data"
    },
    {
     "data": {
      "text/plain": [
       "<Figure size 432x288 with 0 Axes>"
      ]
     },
     "metadata": {},
     "output_type": "display_data"
    },
    {
     "data": {
      "text/plain": [
       "<Figure size 432x288 with 0 Axes>"
      ]
     },
     "metadata": {},
     "output_type": "display_data"
    },
    {
     "data": {
      "text/plain": [
       "<Figure size 432x288 with 0 Axes>"
      ]
     },
     "metadata": {},
     "output_type": "display_data"
    },
    {
     "data": {
      "text/plain": [
       "<Figure size 432x288 with 0 Axes>"
      ]
     },
     "metadata": {},
     "output_type": "display_data"
    },
    {
     "data": {
      "text/plain": [
       "<Figure size 432x288 with 0 Axes>"
      ]
     },
     "metadata": {},
     "output_type": "display_data"
    },
    {
     "data": {
      "text/plain": [
       "<Figure size 432x288 with 0 Axes>"
      ]
     },
     "metadata": {},
     "output_type": "display_data"
    },
    {
     "data": {
      "text/plain": [
       "<Figure size 432x288 with 0 Axes>"
      ]
     },
     "metadata": {},
     "output_type": "display_data"
    },
    {
     "data": {
      "text/plain": [
       "<Figure size 432x288 with 0 Axes>"
      ]
     },
     "metadata": {},
     "output_type": "display_data"
    },
    {
     "data": {
      "text/plain": [
       "<Figure size 432x288 with 0 Axes>"
      ]
     },
     "metadata": {},
     "output_type": "display_data"
    },
    {
     "data": {
      "text/plain": [
       "<Figure size 432x288 with 0 Axes>"
      ]
     },
     "metadata": {},
     "output_type": "display_data"
    },
    {
     "data": {
      "text/plain": [
       "<Figure size 432x288 with 0 Axes>"
      ]
     },
     "metadata": {},
     "output_type": "display_data"
    },
    {
     "data": {
      "text/plain": [
       "<Figure size 432x288 with 0 Axes>"
      ]
     },
     "metadata": {},
     "output_type": "display_data"
    },
    {
     "data": {
      "text/plain": [
       "<Figure size 432x288 with 0 Axes>"
      ]
     },
     "metadata": {},
     "output_type": "display_data"
    },
    {
     "data": {
      "text/plain": [
       "<Figure size 432x288 with 0 Axes>"
      ]
     },
     "metadata": {},
     "output_type": "display_data"
    },
    {
     "data": {
      "text/plain": [
       "<Figure size 432x288 with 0 Axes>"
      ]
     },
     "metadata": {},
     "output_type": "display_data"
    },
    {
     "data": {
      "text/plain": [
       "<Figure size 432x288 with 0 Axes>"
      ]
     },
     "metadata": {},
     "output_type": "display_data"
    },
    {
     "data": {
      "text/plain": [
       "<Figure size 432x288 with 0 Axes>"
      ]
     },
     "metadata": {},
     "output_type": "display_data"
    },
    {
     "data": {
      "text/plain": [
       "<Figure size 432x288 with 0 Axes>"
      ]
     },
     "metadata": {},
     "output_type": "display_data"
    },
    {
     "data": {
      "text/plain": [
       "<Figure size 432x288 with 0 Axes>"
      ]
     },
     "metadata": {},
     "output_type": "display_data"
    },
    {
     "data": {
      "text/plain": [
       "<Figure size 432x288 with 0 Axes>"
      ]
     },
     "metadata": {},
     "output_type": "display_data"
    },
    {
     "data": {
      "text/plain": [
       "<Figure size 432x288 with 0 Axes>"
      ]
     },
     "metadata": {},
     "output_type": "display_data"
    },
    {
     "data": {
      "text/plain": [
       "<Figure size 432x288 with 0 Axes>"
      ]
     },
     "metadata": {},
     "output_type": "display_data"
    },
    {
     "data": {
      "text/plain": [
       "<Figure size 432x288 with 0 Axes>"
      ]
     },
     "metadata": {},
     "output_type": "display_data"
    },
    {
     "data": {
      "text/plain": [
       "<Figure size 432x288 with 0 Axes>"
      ]
     },
     "metadata": {},
     "output_type": "display_data"
    },
    {
     "data": {
      "text/plain": [
       "<Figure size 432x288 with 0 Axes>"
      ]
     },
     "metadata": {},
     "output_type": "display_data"
    },
    {
     "data": {
      "text/plain": [
       "<Figure size 432x288 with 0 Axes>"
      ]
     },
     "metadata": {},
     "output_type": "display_data"
    },
    {
     "data": {
      "text/plain": [
       "<Figure size 432x288 with 0 Axes>"
      ]
     },
     "metadata": {},
     "output_type": "display_data"
    },
    {
     "data": {
      "text/plain": [
       "<Figure size 432x288 with 0 Axes>"
      ]
     },
     "metadata": {},
     "output_type": "display_data"
    },
    {
     "data": {
      "text/plain": [
       "<Figure size 432x288 with 0 Axes>"
      ]
     },
     "metadata": {},
     "output_type": "display_data"
    },
    {
     "data": {
      "text/plain": [
       "<Figure size 432x288 with 0 Axes>"
      ]
     },
     "metadata": {},
     "output_type": "display_data"
    },
    {
     "data": {
      "text/plain": [
       "<Figure size 432x288 with 0 Axes>"
      ]
     },
     "metadata": {},
     "output_type": "display_data"
    },
    {
     "data": {
      "text/plain": [
       "<Figure size 432x288 with 0 Axes>"
      ]
     },
     "metadata": {},
     "output_type": "display_data"
    },
    {
     "data": {
      "text/plain": [
       "<Figure size 432x288 with 0 Axes>"
      ]
     },
     "metadata": {},
     "output_type": "display_data"
    },
    {
     "data": {
      "text/plain": [
       "<Figure size 432x288 with 0 Axes>"
      ]
     },
     "metadata": {},
     "output_type": "display_data"
    },
    {
     "data": {
      "text/plain": [
       "<Figure size 432x288 with 0 Axes>"
      ]
     },
     "metadata": {},
     "output_type": "display_data"
    },
    {
     "data": {
      "text/plain": [
       "<Figure size 432x288 with 0 Axes>"
      ]
     },
     "metadata": {},
     "output_type": "display_data"
    },
    {
     "data": {
      "text/plain": [
       "<Figure size 432x288 with 0 Axes>"
      ]
     },
     "metadata": {},
     "output_type": "display_data"
    },
    {
     "data": {
      "text/plain": [
       "<Figure size 432x288 with 0 Axes>"
      ]
     },
     "metadata": {},
     "output_type": "display_data"
    },
    {
     "data": {
      "text/plain": [
       "<Figure size 432x288 with 0 Axes>"
      ]
     },
     "metadata": {},
     "output_type": "display_data"
    },
    {
     "data": {
      "text/plain": [
       "<Figure size 432x288 with 0 Axes>"
      ]
     },
     "metadata": {},
     "output_type": "display_data"
    },
    {
     "data": {
      "text/plain": [
       "<Figure size 432x288 with 0 Axes>"
      ]
     },
     "metadata": {},
     "output_type": "display_data"
    },
    {
     "data": {
      "text/plain": [
       "<Figure size 432x288 with 0 Axes>"
      ]
     },
     "metadata": {},
     "output_type": "display_data"
    },
    {
     "data": {
      "text/plain": [
       "<Figure size 432x288 with 0 Axes>"
      ]
     },
     "metadata": {},
     "output_type": "display_data"
    },
    {
     "data": {
      "text/plain": [
       "<Figure size 432x288 with 0 Axes>"
      ]
     },
     "metadata": {},
     "output_type": "display_data"
    },
    {
     "data": {
      "text/plain": [
       "<Figure size 432x288 with 0 Axes>"
      ]
     },
     "metadata": {},
     "output_type": "display_data"
    },
    {
     "data": {
      "text/plain": [
       "<Figure size 432x288 with 0 Axes>"
      ]
     },
     "metadata": {},
     "output_type": "display_data"
    },
    {
     "data": {
      "text/plain": [
       "<Figure size 432x288 with 0 Axes>"
      ]
     },
     "metadata": {},
     "output_type": "display_data"
    },
    {
     "data": {
      "text/plain": [
       "<Figure size 432x288 with 0 Axes>"
      ]
     },
     "metadata": {},
     "output_type": "display_data"
    },
    {
     "data": {
      "text/plain": [
       "<Figure size 432x288 with 0 Axes>"
      ]
     },
     "metadata": {},
     "output_type": "display_data"
    },
    {
     "data": {
      "text/plain": [
       "<Figure size 432x288 with 0 Axes>"
      ]
     },
     "metadata": {},
     "output_type": "display_data"
    },
    {
     "data": {
      "text/plain": [
       "<Figure size 432x288 with 0 Axes>"
      ]
     },
     "metadata": {},
     "output_type": "display_data"
    },
    {
     "data": {
      "text/plain": [
       "<Figure size 432x288 with 0 Axes>"
      ]
     },
     "metadata": {},
     "output_type": "display_data"
    },
    {
     "data": {
      "text/plain": [
       "<Figure size 432x288 with 0 Axes>"
      ]
     },
     "metadata": {},
     "output_type": "display_data"
    },
    {
     "data": {
      "text/plain": [
       "<Figure size 432x288 with 0 Axes>"
      ]
     },
     "metadata": {},
     "output_type": "display_data"
    },
    {
     "data": {
      "text/plain": [
       "<Figure size 432x288 with 0 Axes>"
      ]
     },
     "metadata": {},
     "output_type": "display_data"
    },
    {
     "data": {
      "text/plain": [
       "<Figure size 432x288 with 0 Axes>"
      ]
     },
     "metadata": {},
     "output_type": "display_data"
    },
    {
     "data": {
      "text/plain": [
       "<Figure size 432x288 with 0 Axes>"
      ]
     },
     "metadata": {},
     "output_type": "display_data"
    },
    {
     "data": {
      "text/plain": [
       "<Figure size 432x288 with 0 Axes>"
      ]
     },
     "metadata": {},
     "output_type": "display_data"
    },
    {
     "data": {
      "text/plain": [
       "<Figure size 432x288 with 0 Axes>"
      ]
     },
     "metadata": {},
     "output_type": "display_data"
    },
    {
     "data": {
      "text/plain": [
       "<Figure size 432x288 with 0 Axes>"
      ]
     },
     "metadata": {},
     "output_type": "display_data"
    },
    {
     "data": {
      "text/plain": [
       "<Figure size 432x288 with 0 Axes>"
      ]
     },
     "metadata": {},
     "output_type": "display_data"
    },
    {
     "data": {
      "text/plain": [
       "<Figure size 432x288 with 0 Axes>"
      ]
     },
     "metadata": {},
     "output_type": "display_data"
    },
    {
     "data": {
      "text/plain": [
       "<Figure size 432x288 with 0 Axes>"
      ]
     },
     "metadata": {},
     "output_type": "display_data"
    },
    {
     "data": {
      "text/plain": [
       "<Figure size 432x288 with 0 Axes>"
      ]
     },
     "metadata": {},
     "output_type": "display_data"
    },
    {
     "data": {
      "text/plain": [
       "<Figure size 432x288 with 0 Axes>"
      ]
     },
     "metadata": {},
     "output_type": "display_data"
    },
    {
     "data": {
      "text/plain": [
       "<Figure size 432x288 with 0 Axes>"
      ]
     },
     "metadata": {},
     "output_type": "display_data"
    },
    {
     "data": {
      "text/plain": [
       "<Figure size 432x288 with 0 Axes>"
      ]
     },
     "metadata": {},
     "output_type": "display_data"
    },
    {
     "data": {
      "text/plain": [
       "<Figure size 432x288 with 0 Axes>"
      ]
     },
     "metadata": {},
     "output_type": "display_data"
    },
    {
     "data": {
      "text/plain": [
       "<Figure size 432x288 with 0 Axes>"
      ]
     },
     "metadata": {},
     "output_type": "display_data"
    },
    {
     "data": {
      "text/plain": [
       "<Figure size 432x288 with 0 Axes>"
      ]
     },
     "metadata": {},
     "output_type": "display_data"
    },
    {
     "data": {
      "text/plain": [
       "<Figure size 432x288 with 0 Axes>"
      ]
     },
     "metadata": {},
     "output_type": "display_data"
    },
    {
     "data": {
      "text/plain": [
       "<Figure size 432x288 with 0 Axes>"
      ]
     },
     "metadata": {},
     "output_type": "display_data"
    },
    {
     "data": {
      "text/plain": [
       "<Figure size 432x288 with 0 Axes>"
      ]
     },
     "metadata": {},
     "output_type": "display_data"
    },
    {
     "data": {
      "text/plain": [
       "<Figure size 432x288 with 0 Axes>"
      ]
     },
     "metadata": {},
     "output_type": "display_data"
    },
    {
     "data": {
      "text/plain": [
       "<Figure size 432x288 with 0 Axes>"
      ]
     },
     "metadata": {},
     "output_type": "display_data"
    },
    {
     "data": {
      "text/plain": [
       "<Figure size 432x288 with 0 Axes>"
      ]
     },
     "metadata": {},
     "output_type": "display_data"
    },
    {
     "data": {
      "text/plain": [
       "<Figure size 432x288 with 0 Axes>"
      ]
     },
     "metadata": {},
     "output_type": "display_data"
    },
    {
     "data": {
      "text/plain": [
       "<Figure size 432x288 with 0 Axes>"
      ]
     },
     "metadata": {},
     "output_type": "display_data"
    },
    {
     "data": {
      "text/plain": [
       "<Figure size 432x288 with 0 Axes>"
      ]
     },
     "metadata": {},
     "output_type": "display_data"
    },
    {
     "data": {
      "text/plain": [
       "<Figure size 432x288 with 0 Axes>"
      ]
     },
     "metadata": {},
     "output_type": "display_data"
    },
    {
     "data": {
      "text/plain": [
       "<Figure size 432x288 with 0 Axes>"
      ]
     },
     "metadata": {},
     "output_type": "display_data"
    },
    {
     "data": {
      "text/plain": [
       "<Figure size 432x288 with 0 Axes>"
      ]
     },
     "metadata": {},
     "output_type": "display_data"
    },
    {
     "data": {
      "text/plain": [
       "<Figure size 432x288 with 0 Axes>"
      ]
     },
     "metadata": {},
     "output_type": "display_data"
    },
    {
     "data": {
      "text/plain": [
       "<Figure size 432x288 with 0 Axes>"
      ]
     },
     "metadata": {},
     "output_type": "display_data"
    },
    {
     "data": {
      "text/plain": [
       "<Figure size 432x288 with 0 Axes>"
      ]
     },
     "metadata": {},
     "output_type": "display_data"
    },
    {
     "data": {
      "text/plain": [
       "<Figure size 432x288 with 0 Axes>"
      ]
     },
     "metadata": {},
     "output_type": "display_data"
    },
    {
     "data": {
      "text/plain": [
       "<Figure size 432x288 with 0 Axes>"
      ]
     },
     "metadata": {},
     "output_type": "display_data"
    },
    {
     "data": {
      "text/plain": [
       "<Figure size 432x288 with 0 Axes>"
      ]
     },
     "metadata": {},
     "output_type": "display_data"
    },
    {
     "data": {
      "text/plain": [
       "<Figure size 432x288 with 0 Axes>"
      ]
     },
     "metadata": {},
     "output_type": "display_data"
    },
    {
     "data": {
      "text/plain": [
       "<Figure size 432x288 with 0 Axes>"
      ]
     },
     "metadata": {},
     "output_type": "display_data"
    },
    {
     "data": {
      "text/plain": [
       "<Figure size 432x288 with 0 Axes>"
      ]
     },
     "metadata": {},
     "output_type": "display_data"
    },
    {
     "data": {
      "text/plain": [
       "<Figure size 432x288 with 0 Axes>"
      ]
     },
     "metadata": {},
     "output_type": "display_data"
    },
    {
     "data": {
      "text/plain": [
       "<Figure size 432x288 with 0 Axes>"
      ]
     },
     "metadata": {},
     "output_type": "display_data"
    },
    {
     "data": {
      "text/plain": [
       "<Figure size 432x288 with 0 Axes>"
      ]
     },
     "metadata": {},
     "output_type": "display_data"
    },
    {
     "data": {
      "text/plain": [
       "<Figure size 432x288 with 0 Axes>"
      ]
     },
     "metadata": {},
     "output_type": "display_data"
    },
    {
     "data": {
      "text/plain": [
       "<Figure size 432x288 with 0 Axes>"
      ]
     },
     "metadata": {},
     "output_type": "display_data"
    },
    {
     "data": {
      "text/plain": [
       "<Figure size 432x288 with 0 Axes>"
      ]
     },
     "metadata": {},
     "output_type": "display_data"
    },
    {
     "data": {
      "text/plain": [
       "<Figure size 432x288 with 0 Axes>"
      ]
     },
     "metadata": {},
     "output_type": "display_data"
    },
    {
     "data": {
      "text/plain": [
       "<Figure size 432x288 with 0 Axes>"
      ]
     },
     "metadata": {},
     "output_type": "display_data"
    },
    {
     "data": {
      "text/plain": [
       "<Figure size 432x288 with 0 Axes>"
      ]
     },
     "metadata": {},
     "output_type": "display_data"
    },
    {
     "data": {
      "text/plain": [
       "<Figure size 432x288 with 0 Axes>"
      ]
     },
     "metadata": {},
     "output_type": "display_data"
    },
    {
     "data": {
      "text/plain": [
       "<Figure size 432x288 with 0 Axes>"
      ]
     },
     "metadata": {},
     "output_type": "display_data"
    },
    {
     "data": {
      "text/plain": [
       "<Figure size 432x288 with 0 Axes>"
      ]
     },
     "metadata": {},
     "output_type": "display_data"
    },
    {
     "data": {
      "text/plain": [
       "<Figure size 432x288 with 0 Axes>"
      ]
     },
     "metadata": {},
     "output_type": "display_data"
    },
    {
     "data": {
      "text/plain": [
       "<Figure size 432x288 with 0 Axes>"
      ]
     },
     "metadata": {},
     "output_type": "display_data"
    },
    {
     "data": {
      "text/plain": [
       "<Figure size 432x288 with 0 Axes>"
      ]
     },
     "metadata": {},
     "output_type": "display_data"
    },
    {
     "data": {
      "text/plain": [
       "<Figure size 432x288 with 0 Axes>"
      ]
     },
     "metadata": {},
     "output_type": "display_data"
    },
    {
     "data": {
      "text/plain": [
       "<Figure size 432x288 with 0 Axes>"
      ]
     },
     "metadata": {},
     "output_type": "display_data"
    },
    {
     "data": {
      "text/plain": [
       "<Figure size 432x288 with 0 Axes>"
      ]
     },
     "metadata": {},
     "output_type": "display_data"
    },
    {
     "data": {
      "text/plain": [
       "<Figure size 432x288 with 0 Axes>"
      ]
     },
     "metadata": {},
     "output_type": "display_data"
    },
    {
     "data": {
      "text/plain": [
       "<Figure size 432x288 with 0 Axes>"
      ]
     },
     "metadata": {},
     "output_type": "display_data"
    },
    {
     "data": {
      "text/plain": [
       "<Figure size 432x288 with 0 Axes>"
      ]
     },
     "metadata": {},
     "output_type": "display_data"
    },
    {
     "data": {
      "text/plain": [
       "<Figure size 432x288 with 0 Axes>"
      ]
     },
     "metadata": {},
     "output_type": "display_data"
    },
    {
     "data": {
      "text/plain": [
       "<Figure size 432x288 with 0 Axes>"
      ]
     },
     "metadata": {},
     "output_type": "display_data"
    },
    {
     "data": {
      "text/plain": [
       "<Figure size 432x288 with 0 Axes>"
      ]
     },
     "metadata": {},
     "output_type": "display_data"
    },
    {
     "data": {
      "text/plain": [
       "<Figure size 432x288 with 0 Axes>"
      ]
     },
     "metadata": {},
     "output_type": "display_data"
    },
    {
     "data": {
      "text/plain": [
       "<Figure size 432x288 with 0 Axes>"
      ]
     },
     "metadata": {},
     "output_type": "display_data"
    },
    {
     "data": {
      "text/plain": [
       "<Figure size 432x288 with 0 Axes>"
      ]
     },
     "metadata": {},
     "output_type": "display_data"
    },
    {
     "data": {
      "text/plain": [
       "<Figure size 432x288 with 0 Axes>"
      ]
     },
     "metadata": {},
     "output_type": "display_data"
    },
    {
     "data": {
      "text/plain": [
       "<Figure size 432x288 with 0 Axes>"
      ]
     },
     "metadata": {},
     "output_type": "display_data"
    },
    {
     "data": {
      "text/plain": [
       "<Figure size 432x288 with 0 Axes>"
      ]
     },
     "metadata": {},
     "output_type": "display_data"
    },
    {
     "data": {
      "text/plain": [
       "<Figure size 432x288 with 0 Axes>"
      ]
     },
     "metadata": {},
     "output_type": "display_data"
    },
    {
     "data": {
      "text/plain": [
       "<Figure size 432x288 with 0 Axes>"
      ]
     },
     "metadata": {},
     "output_type": "display_data"
    },
    {
     "data": {
      "text/plain": [
       "<Figure size 432x288 with 0 Axes>"
      ]
     },
     "metadata": {},
     "output_type": "display_data"
    },
    {
     "data": {
      "text/plain": [
       "<Figure size 432x288 with 0 Axes>"
      ]
     },
     "metadata": {},
     "output_type": "display_data"
    },
    {
     "data": {
      "text/plain": [
       "<Figure size 432x288 with 0 Axes>"
      ]
     },
     "metadata": {},
     "output_type": "display_data"
    },
    {
     "data": {
      "text/plain": [
       "<Figure size 432x288 with 0 Axes>"
      ]
     },
     "metadata": {},
     "output_type": "display_data"
    },
    {
     "data": {
      "text/plain": [
       "<Figure size 432x288 with 0 Axes>"
      ]
     },
     "metadata": {},
     "output_type": "display_data"
    },
    {
     "data": {
      "text/plain": [
       "<Figure size 432x288 with 0 Axes>"
      ]
     },
     "metadata": {},
     "output_type": "display_data"
    },
    {
     "data": {
      "text/plain": [
       "<Figure size 432x288 with 0 Axes>"
      ]
     },
     "metadata": {},
     "output_type": "display_data"
    },
    {
     "data": {
      "text/plain": [
       "<Figure size 432x288 with 0 Axes>"
      ]
     },
     "metadata": {},
     "output_type": "display_data"
    },
    {
     "data": {
      "text/plain": [
       "<Figure size 432x288 with 0 Axes>"
      ]
     },
     "metadata": {},
     "output_type": "display_data"
    },
    {
     "data": {
      "text/plain": [
       "<Figure size 432x288 with 0 Axes>"
      ]
     },
     "metadata": {},
     "output_type": "display_data"
    },
    {
     "data": {
      "text/plain": [
       "<Figure size 432x288 with 0 Axes>"
      ]
     },
     "metadata": {},
     "output_type": "display_data"
    },
    {
     "data": {
      "text/plain": [
       "<Figure size 432x288 with 0 Axes>"
      ]
     },
     "metadata": {},
     "output_type": "display_data"
    },
    {
     "data": {
      "text/plain": [
       "<Figure size 432x288 with 0 Axes>"
      ]
     },
     "metadata": {},
     "output_type": "display_data"
    },
    {
     "data": {
      "text/plain": [
       "<Figure size 432x288 with 0 Axes>"
      ]
     },
     "metadata": {},
     "output_type": "display_data"
    },
    {
     "data": {
      "text/plain": [
       "<Figure size 432x288 with 0 Axes>"
      ]
     },
     "metadata": {},
     "output_type": "display_data"
    },
    {
     "data": {
      "text/plain": [
       "<Figure size 432x288 with 0 Axes>"
      ]
     },
     "metadata": {},
     "output_type": "display_data"
    },
    {
     "data": {
      "text/plain": [
       "<Figure size 432x288 with 0 Axes>"
      ]
     },
     "metadata": {},
     "output_type": "display_data"
    },
    {
     "data": {
      "text/plain": [
       "<Figure size 432x288 with 0 Axes>"
      ]
     },
     "metadata": {},
     "output_type": "display_data"
    },
    {
     "data": {
      "text/plain": [
       "<Figure size 432x288 with 0 Axes>"
      ]
     },
     "metadata": {},
     "output_type": "display_data"
    },
    {
     "data": {
      "text/plain": [
       "<Figure size 432x288 with 0 Axes>"
      ]
     },
     "metadata": {},
     "output_type": "display_data"
    },
    {
     "data": {
      "text/plain": [
       "<Figure size 432x288 with 0 Axes>"
      ]
     },
     "metadata": {},
     "output_type": "display_data"
    },
    {
     "data": {
      "text/plain": [
       "<Figure size 432x288 with 0 Axes>"
      ]
     },
     "metadata": {},
     "output_type": "display_data"
    },
    {
     "data": {
      "text/plain": [
       "<Figure size 432x288 with 0 Axes>"
      ]
     },
     "metadata": {},
     "output_type": "display_data"
    },
    {
     "data": {
      "text/plain": [
       "<Figure size 432x288 with 0 Axes>"
      ]
     },
     "metadata": {},
     "output_type": "display_data"
    },
    {
     "data": {
      "text/plain": [
       "<Figure size 432x288 with 0 Axes>"
      ]
     },
     "metadata": {},
     "output_type": "display_data"
    },
    {
     "data": {
      "text/plain": [
       "<Figure size 432x288 with 0 Axes>"
      ]
     },
     "metadata": {},
     "output_type": "display_data"
    },
    {
     "data": {
      "text/plain": [
       "<Figure size 432x288 with 0 Axes>"
      ]
     },
     "metadata": {},
     "output_type": "display_data"
    },
    {
     "data": {
      "text/plain": [
       "<Figure size 432x288 with 0 Axes>"
      ]
     },
     "metadata": {},
     "output_type": "display_data"
    },
    {
     "data": {
      "text/plain": [
       "<Figure size 432x288 with 0 Axes>"
      ]
     },
     "metadata": {},
     "output_type": "display_data"
    },
    {
     "data": {
      "text/plain": [
       "<Figure size 432x288 with 0 Axes>"
      ]
     },
     "metadata": {},
     "output_type": "display_data"
    },
    {
     "data": {
      "text/plain": [
       "<Figure size 432x288 with 0 Axes>"
      ]
     },
     "metadata": {},
     "output_type": "display_data"
    },
    {
     "data": {
      "text/plain": [
       "<Figure size 432x288 with 0 Axes>"
      ]
     },
     "metadata": {},
     "output_type": "display_data"
    },
    {
     "data": {
      "text/plain": [
       "<Figure size 432x288 with 0 Axes>"
      ]
     },
     "metadata": {},
     "output_type": "display_data"
    },
    {
     "data": {
      "text/plain": [
       "<Figure size 432x288 with 0 Axes>"
      ]
     },
     "metadata": {},
     "output_type": "display_data"
    },
    {
     "data": {
      "text/plain": [
       "<Figure size 432x288 with 0 Axes>"
      ]
     },
     "metadata": {},
     "output_type": "display_data"
    },
    {
     "data": {
      "text/plain": [
       "<Figure size 432x288 with 0 Axes>"
      ]
     },
     "metadata": {},
     "output_type": "display_data"
    },
    {
     "data": {
      "text/plain": [
       "<Figure size 432x288 with 0 Axes>"
      ]
     },
     "metadata": {},
     "output_type": "display_data"
    },
    {
     "data": {
      "text/plain": [
       "<Figure size 432x288 with 0 Axes>"
      ]
     },
     "metadata": {},
     "output_type": "display_data"
    },
    {
     "data": {
      "text/plain": [
       "<Figure size 432x288 with 0 Axes>"
      ]
     },
     "metadata": {},
     "output_type": "display_data"
    },
    {
     "data": {
      "text/plain": [
       "<Figure size 432x288 with 0 Axes>"
      ]
     },
     "metadata": {},
     "output_type": "display_data"
    },
    {
     "data": {
      "text/plain": [
       "<Figure size 432x288 with 0 Axes>"
      ]
     },
     "metadata": {},
     "output_type": "display_data"
    },
    {
     "data": {
      "text/plain": [
       "<Figure size 432x288 with 0 Axes>"
      ]
     },
     "metadata": {},
     "output_type": "display_data"
    },
    {
     "data": {
      "text/plain": [
       "<Figure size 432x288 with 0 Axes>"
      ]
     },
     "metadata": {},
     "output_type": "display_data"
    },
    {
     "data": {
      "text/plain": [
       "<Figure size 432x288 with 0 Axes>"
      ]
     },
     "metadata": {},
     "output_type": "display_data"
    },
    {
     "data": {
      "text/plain": [
       "<Figure size 432x288 with 0 Axes>"
      ]
     },
     "metadata": {},
     "output_type": "display_data"
    },
    {
     "data": {
      "text/plain": [
       "<Figure size 432x288 with 0 Axes>"
      ]
     },
     "metadata": {},
     "output_type": "display_data"
    },
    {
     "data": {
      "text/plain": [
       "<Figure size 432x288 with 0 Axes>"
      ]
     },
     "metadata": {},
     "output_type": "display_data"
    },
    {
     "data": {
      "text/plain": [
       "<Figure size 432x288 with 0 Axes>"
      ]
     },
     "metadata": {},
     "output_type": "display_data"
    },
    {
     "data": {
      "text/plain": [
       "<Figure size 432x288 with 0 Axes>"
      ]
     },
     "metadata": {},
     "output_type": "display_data"
    },
    {
     "data": {
      "text/plain": [
       "<Figure size 432x288 with 0 Axes>"
      ]
     },
     "metadata": {},
     "output_type": "display_data"
    },
    {
     "data": {
      "text/plain": [
       "<Figure size 432x288 with 0 Axes>"
      ]
     },
     "metadata": {},
     "output_type": "display_data"
    },
    {
     "data": {
      "text/plain": [
       "<Figure size 432x288 with 0 Axes>"
      ]
     },
     "metadata": {},
     "output_type": "display_data"
    },
    {
     "data": {
      "text/plain": [
       "<Figure size 432x288 with 0 Axes>"
      ]
     },
     "metadata": {},
     "output_type": "display_data"
    },
    {
     "data": {
      "text/plain": [
       "<Figure size 432x288 with 0 Axes>"
      ]
     },
     "metadata": {},
     "output_type": "display_data"
    },
    {
     "data": {
      "text/plain": [
       "<Figure size 432x288 with 0 Axes>"
      ]
     },
     "metadata": {},
     "output_type": "display_data"
    },
    {
     "data": {
      "text/plain": [
       "<Figure size 432x288 with 0 Axes>"
      ]
     },
     "metadata": {},
     "output_type": "display_data"
    },
    {
     "data": {
      "text/plain": [
       "<Figure size 432x288 with 0 Axes>"
      ]
     },
     "metadata": {},
     "output_type": "display_data"
    },
    {
     "data": {
      "text/plain": [
       "<Figure size 432x288 with 0 Axes>"
      ]
     },
     "metadata": {},
     "output_type": "display_data"
    },
    {
     "data": {
      "text/plain": [
       "<Figure size 432x288 with 0 Axes>"
      ]
     },
     "metadata": {},
     "output_type": "display_data"
    },
    {
     "data": {
      "text/plain": [
       "<Figure size 432x288 with 0 Axes>"
      ]
     },
     "metadata": {},
     "output_type": "display_data"
    },
    {
     "data": {
      "text/plain": [
       "<Figure size 432x288 with 0 Axes>"
      ]
     },
     "metadata": {},
     "output_type": "display_data"
    },
    {
     "data": {
      "text/plain": [
       "<Figure size 432x288 with 0 Axes>"
      ]
     },
     "metadata": {},
     "output_type": "display_data"
    },
    {
     "data": {
      "text/plain": [
       "<Figure size 432x288 with 0 Axes>"
      ]
     },
     "metadata": {},
     "output_type": "display_data"
    },
    {
     "data": {
      "text/plain": [
       "<Figure size 432x288 with 0 Axes>"
      ]
     },
     "metadata": {},
     "output_type": "display_data"
    },
    {
     "data": {
      "text/plain": [
       "<Figure size 432x288 with 0 Axes>"
      ]
     },
     "metadata": {},
     "output_type": "display_data"
    },
    {
     "data": {
      "text/plain": [
       "<Figure size 432x288 with 0 Axes>"
      ]
     },
     "metadata": {},
     "output_type": "display_data"
    },
    {
     "data": {
      "text/plain": [
       "<Figure size 432x288 with 0 Axes>"
      ]
     },
     "metadata": {},
     "output_type": "display_data"
    },
    {
     "data": {
      "text/plain": [
       "<Figure size 432x288 with 0 Axes>"
      ]
     },
     "metadata": {},
     "output_type": "display_data"
    },
    {
     "data": {
      "text/plain": [
       "<Figure size 432x288 with 0 Axes>"
      ]
     },
     "metadata": {},
     "output_type": "display_data"
    },
    {
     "data": {
      "text/plain": [
       "<Figure size 432x288 with 0 Axes>"
      ]
     },
     "metadata": {},
     "output_type": "display_data"
    },
    {
     "data": {
      "text/plain": [
       "<Figure size 432x288 with 0 Axes>"
      ]
     },
     "metadata": {},
     "output_type": "display_data"
    },
    {
     "data": {
      "text/plain": [
       "<Figure size 432x288 with 0 Axes>"
      ]
     },
     "metadata": {},
     "output_type": "display_data"
    },
    {
     "data": {
      "text/plain": [
       "<Figure size 432x288 with 0 Axes>"
      ]
     },
     "metadata": {},
     "output_type": "display_data"
    },
    {
     "data": {
      "text/plain": [
       "<Figure size 432x288 with 0 Axes>"
      ]
     },
     "metadata": {},
     "output_type": "display_data"
    },
    {
     "data": {
      "text/plain": [
       "<Figure size 432x288 with 0 Axes>"
      ]
     },
     "metadata": {},
     "output_type": "display_data"
    },
    {
     "data": {
      "text/plain": [
       "<Figure size 432x288 with 0 Axes>"
      ]
     },
     "metadata": {},
     "output_type": "display_data"
    },
    {
     "data": {
      "text/plain": [
       "<Figure size 432x288 with 0 Axes>"
      ]
     },
     "metadata": {},
     "output_type": "display_data"
    },
    {
     "data": {
      "text/plain": [
       "<Figure size 432x288 with 0 Axes>"
      ]
     },
     "metadata": {},
     "output_type": "display_data"
    },
    {
     "data": {
      "text/plain": [
       "<Figure size 432x288 with 0 Axes>"
      ]
     },
     "metadata": {},
     "output_type": "display_data"
    },
    {
     "data": {
      "text/plain": [
       "<Figure size 432x288 with 0 Axes>"
      ]
     },
     "metadata": {},
     "output_type": "display_data"
    },
    {
     "data": {
      "text/plain": [
       "<Figure size 432x288 with 0 Axes>"
      ]
     },
     "metadata": {},
     "output_type": "display_data"
    },
    {
     "data": {
      "text/plain": [
       "<Figure size 432x288 with 0 Axes>"
      ]
     },
     "metadata": {},
     "output_type": "display_data"
    },
    {
     "data": {
      "text/plain": [
       "<Figure size 432x288 with 0 Axes>"
      ]
     },
     "metadata": {},
     "output_type": "display_data"
    },
    {
     "data": {
      "text/plain": [
       "<Figure size 432x288 with 0 Axes>"
      ]
     },
     "metadata": {},
     "output_type": "display_data"
    },
    {
     "data": {
      "text/plain": [
       "<Figure size 432x288 with 0 Axes>"
      ]
     },
     "metadata": {},
     "output_type": "display_data"
    },
    {
     "data": {
      "text/plain": [
       "<Figure size 432x288 with 0 Axes>"
      ]
     },
     "metadata": {},
     "output_type": "display_data"
    },
    {
     "data": {
      "text/plain": [
       "<Figure size 432x288 with 0 Axes>"
      ]
     },
     "metadata": {},
     "output_type": "display_data"
    },
    {
     "data": {
      "text/plain": [
       "<Figure size 432x288 with 0 Axes>"
      ]
     },
     "metadata": {},
     "output_type": "display_data"
    },
    {
     "data": {
      "text/plain": [
       "<Figure size 432x288 with 0 Axes>"
      ]
     },
     "metadata": {},
     "output_type": "display_data"
    },
    {
     "data": {
      "text/plain": [
       "<Figure size 432x288 with 0 Axes>"
      ]
     },
     "metadata": {},
     "output_type": "display_data"
    },
    {
     "data": {
      "text/plain": [
       "<Figure size 432x288 with 0 Axes>"
      ]
     },
     "metadata": {},
     "output_type": "display_data"
    },
    {
     "data": {
      "text/plain": [
       "<Figure size 432x288 with 0 Axes>"
      ]
     },
     "metadata": {},
     "output_type": "display_data"
    },
    {
     "data": {
      "text/plain": [
       "<Figure size 432x288 with 0 Axes>"
      ]
     },
     "metadata": {},
     "output_type": "display_data"
    },
    {
     "data": {
      "text/plain": [
       "<Figure size 432x288 with 0 Axes>"
      ]
     },
     "metadata": {},
     "output_type": "display_data"
    },
    {
     "data": {
      "text/plain": [
       "<Figure size 432x288 with 0 Axes>"
      ]
     },
     "metadata": {},
     "output_type": "display_data"
    },
    {
     "data": {
      "text/plain": [
       "<Figure size 432x288 with 0 Axes>"
      ]
     },
     "metadata": {},
     "output_type": "display_data"
    },
    {
     "data": {
      "text/plain": [
       "<Figure size 432x288 with 0 Axes>"
      ]
     },
     "metadata": {},
     "output_type": "display_data"
    },
    {
     "data": {
      "text/plain": [
       "<Figure size 432x288 with 0 Axes>"
      ]
     },
     "metadata": {},
     "output_type": "display_data"
    },
    {
     "data": {
      "text/plain": [
       "<Figure size 432x288 with 0 Axes>"
      ]
     },
     "metadata": {},
     "output_type": "display_data"
    }
   ],
   "source": [
    "if __name__ == \"__main__\":\n",
    "    test(config,test_loader)"
   ]
  }
 ],
 "metadata": {
  "kernelspec": {
   "display_name": "Python 3",
   "language": "python",
   "name": "python3"
  },
  "language_info": {
   "codemirror_mode": {
    "name": "ipython",
    "version": 3
   },
   "file_extension": ".py",
   "mimetype": "text/x-python",
   "name": "python",
   "nbconvert_exporter": "python",
   "pygments_lexer": "ipython3",
   "version": "3.6.8"
  }
 },
 "nbformat": 4,
 "nbformat_minor": 2
}
