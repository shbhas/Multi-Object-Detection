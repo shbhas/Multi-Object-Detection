{
 "cells": [
  {
   "cell_type": "code",
   "execution_count": 36,
   "metadata": {},
   "outputs": [],
   "source": [
    "# coding='utf-8'\n",
    "import os\n",
    "import sys\n",
    "import numpy as np\n",
    "import time\n",
    "import datetime\n",
    "import json\n",
    "import importlib\n",
    "import logging\n",
    "import shutil\n",
    "import random\n",
    "\n",
    "import matplotlib\n",
    "# matplotlib.use('Agg')\n",
    "import matplotlib.pyplot as plt\n",
    "import matplotlib.patches as patches\n",
    "from matplotlib.ticker import NullLocator\n",
    "from PIL import Image\n",
    "import torch\n",
    "import torch.nn as nn\n",
    "\n",
    "from yolo_model import yoloModel\n",
    "from PASCAL_Dataloader import create_split_loaders\n",
    "from YOLO_Loss import YoloLoss\n",
    "from utils import NMS, remove_nulls, convert_to_xywh\n",
    "from bbox import non_max_suppression\n",
    "\n",
    "%matplotlib inline"
   ]
  },
  {
   "cell_type": "code",
   "execution_count": 2,
   "metadata": {},
   "outputs": [],
   "source": [
    "config = {}\n",
    "config[\"batch_size\"] = 16\n",
    "config['backbone_name'] = \"darknet_53\"\n",
    "config['backbone_pretrained'] = \"\"\n",
    "config['anchors'] = [[[116, 90], [156, 198], [373, 326]],\n",
    "                            [[30, 61], [62, 45], [59, 119]],\n",
    "                            [[10, 13], [16, 30], [33, 23]]]\n",
    "config['classes'] = 20\n",
    "config['img_h'] = config['img_w'] = 416\n",
    "config['confidence_threshold'] = 0.5\n",
    "config['nms_threshold'] = 0.4\n",
    "config['pretrain_snapshot'] = \"./states/20190531004422/model.pth\" # \"./states/20190530222509/model.pth\"\n",
    "config['root_dir'] = './VOC2012'"
   ]
  },
  {
   "cell_type": "code",
   "execution_count": 3,
   "metadata": {},
   "outputs": [],
   "source": [
    "CLASS_ID = [\"aeroplane\", \"bicycle\", \"bird\", \"boat\", \"bottle\", \"bus\", \"car\", \\\n",
    "                \"cat\", \"chair\", \"cow\", \"diningtable\", \"dog\", \"horse\", \"motorbike\", \\\n",
    "                \"person\", \"pottedplant\", \"sheep\", \"sofa\", \"train\", \"tvmonitor\"]"
   ]
  },
  {
   "cell_type": "code",
   "execution_count": 4,
   "metadata": {},
   "outputs": [],
   "source": [
    "_, _, test_loader = create_split_loaders(root_dir=config['root_dir'], batch_size=config['batch_size'])"
   ]
  },
  {
   "cell_type": "code",
   "execution_count": 46,
   "metadata": {},
   "outputs": [],
   "source": [
    "def test(config, test_loader):\n",
    "    # Configurations for plots\n",
    "    if not os.path.isdir(\"./detected_images/\"):\n",
    "        os.makedirs(\"./detected_images/\")\n",
    "    cmap = plt.get_cmap('tab20b')\n",
    "    colors = [cmap(i) for i in np.linspace(0, 1, 40)]\n",
    "    \n",
    "    # Load and initialize network\n",
    "    net = yoloModel(config).cuda()\n",
    "\n",
    "    # Restore pretrain model\n",
    "    if config[\"pretrain_snapshot\"]:\n",
    "        print('Loading model...')\n",
    "        logging.info(\"load checkpoint from {}\".format(config[\"pretrain_snapshot\"]))\n",
    "        state_dict = torch.load(config[\"pretrain_snapshot\"])\n",
    "        net.load_state_dict(state_dict)\n",
    "    else:\n",
    "        raise Exception(\"missing pretrain_snapshot!!!\")\n",
    "\n",
    "\n",
    "    # YOLO loss with 3 scales\n",
    "    yolo_losses = []\n",
    "    for i in range(3):\n",
    "        yolo_losses.append(YoloLoss(config[\"classes\"], (config[\"img_w\"], config[\"img_h\"]), config[\"anchors\"][i]))\n",
    "        \n",
    "    # Start inference\n",
    "    print('Ready for detections!')             \n",
    "    for batch, sample in enumerate(test_loader):\n",
    "        if batch >=10:\n",
    "            print('breaking')\n",
    "            break\n",
    "            \n",
    "        images, labels = sample[\"image\"], sample[\"label\"]\n",
    "        orig_W, orig_H = sample[\"orig_img\"][0], sample[\"orig_img\"][1]\n",
    "        target_labels = sample[\"target_label\"]\n",
    "        imgfiles = sample[\"imgfile\"]\n",
    "        imgpaths = [os.path.join(config[\"root_dir\"], 'JPEGImages', x) for x in imgfiles]\n",
    "        \n",
    "        orig_W = orig_W.to('cpu').numpy()\n",
    "        orig_H = orig_H.to('cpu').numpy()\n",
    "        images = images.cuda()\n",
    "        \n",
    "        with torch.no_grad():\n",
    "            outputs = net(images)\n",
    "            output_list = []\n",
    "            for i in range(3):\n",
    "                output_list.append(yolo_losses[i](outputs[i]))\n",
    "            detections = torch.cat(output_list, 1)\n",
    "            detections = non_max_suppression(detections, 20)\n",
    "\n",
    "        for ii, detection in enumerate(detections): ## 0 to 15\n",
    "        # ------------------------------------- #\n",
    "        # Parsing targets and detections labels #\n",
    "        # ------------------------------------- #\n",
    "            print('\\nbatch %d, sample %d' %(batch,ii))\n",
    "            targets = convert_to_xywh(remove_nulls(target_labels[ii,:].to('cpu').numpy())) #70x5\n",
    "            print('target labels (cls, x, y, w, h)\\n', targets)           \n",
    "            \n",
    "            if detection is not None:\n",
    "                # Rescale coordinates to original dimensions\n",
    "                RATIO_W = orig_W[ii] / config[\"img_w\"]\n",
    "                RATIO_H = orig_H[ii] / config[\"img_h\"]\n",
    "            \n",
    "                predictions = np.zeros((len(detection),5), dtype=int)\n",
    "                for jj, (x1, y1, x2, y2, conf, cls_conf, cls_pred) in enumerate(detection):        \n",
    "                    x = int(x1 * RATIO_W)\n",
    "                    y = int(y1 * RATIO_H)\n",
    "                    w = int(abs(x2 - x1) * RATIO_W)\n",
    "                    h = int(abs(y2 - y1) * RATIO_H)\n",
    "                    predictions[jj,:] = (int(cls_pred), x, y, w, h) \n",
    "                print('predicted labels (cls, x, y, w, h)\\n', predictions)\n",
    "                \n",
    "            else:\n",
    "                predictions = []\n",
    "                print('predicted labels (cls, x, y, w, h)\\n - No objects detected!!')\n",
    "        \n",
    "        # ------------------- #\n",
    "        # Plot bounding boxes #\n",
    "        # ------------------- #\n",
    "            plt.figure()\n",
    "            fig, ax = plt.subplots(1)\n",
    "            img = Image.open(imgpaths[ii]).convert('RGB')\n",
    "            ax.imshow(img)\n",
    "            \n",
    "            # -------------------------- #\n",
    "            # Plotting groundtruth boxes #\n",
    "            # -------------------------- #\n",
    "            for jj in range(len(targets)):\n",
    "                cls, x, y, w, h = targets[jj,0], targets[jj,1], targets[jj,2], targets[jj,3], targets[jj,4]\n",
    "                color = colors[cls]\n",
    "                # Create a Rectangle patches\n",
    "                bbox = patches.Rectangle((x, y), w, h, linewidth=2, \\\n",
    "                                         edgecolor=color, facecolor='none')\n",
    "                # Add the bbox to the plot\n",
    "                ax.add_patch(bbox)\n",
    "                # Add label\n",
    "                plt.text(x, y, s=CLASS_ID[cls], color='white', \\\n",
    "                         verticalalignment='top',bbox={'color': color, 'pad': 0})\n",
    "            \n",
    "            # ------------------------ #\n",
    "            # Plotting predicted boxes #\n",
    "            # ------------------------ #\n",
    "            for jj in range(len(predictions)):\n",
    "                cls, x, y, w, h = predictions[jj,0], predictions[jj,1], \\\n",
    "                                  predictions[jj,2], predictions[jj,3], predictions[jj,4]\n",
    "                color = colors[cls+20]\n",
    "                # Create a Rectangle patches\n",
    "                bbox = patches.Rectangle((x, y), w, h, linewidth=2, \\\n",
    "                                         edgecolor=color, facecolor='none')\n",
    "                # Add the bbox to the plot\n",
    "                ax.add_patch(bbox)\n",
    "                # Add label\n",
    "                plt.text(x, y, s=CLASS_ID[cls], color='black', \\\n",
    "                         verticalalignment='top',bbox={'color': color, 'pad': 0})\n",
    "                \n",
    "            # Save generated image with detections\n",
    "            plt.axis('off')\n",
    "            plt.gca().xaxis.set_major_locator(NullLocator())\n",
    "            plt.gca().yaxis.set_major_locator(NullLocator())\n",
    "            plt.savefig('detected_images/{}_{}.jpg'.format(batch, ii), bbox_inches='tight', pad_inches=0.0)\n",
    "            plt.close()\n",
    "            \n"
   ]
  },
  {
   "cell_type": "code",
   "execution_count": 47,
   "metadata": {},
   "outputs": [
    {
     "name": "stdout",
     "output_type": "stream",
     "text": [
      "Loading model...\n",
      "Ready for detections!\n",
      "\n",
      "batch 0, sample 0\n",
      "target labels (cls, x, y, w, h)\n",
      " [[  3  73 133 361  60]]\n",
      "predicted labels (cls, x, y, w, h)\n",
      " - No objects detected!!\n",
      "\n",
      "batch 0, sample 1\n",
      "target labels (cls, x, y, w, h)\n",
      " [[  4 159 289  40 122]\n",
      " [ 14   2  42 294 369]\n",
      " [  8   2 187  79 183]]\n",
      "predicted labels (cls, x, y, w, h)\n",
      " [[  4 137 309  93  98]]\n",
      "\n",
      "batch 0, sample 2\n",
      "target labels (cls, x, y, w, h)\n",
      " [[ 13   1   1 499 374]]\n",
      "predicted labels (cls, x, y, w, h)\n",
      " - No objects detected!!\n",
      "\n",
      "batch 0, sample 3\n",
      "target labels (cls, x, y, w, h)\n",
      " [[ 11   5   1 445 309]]\n",
      "predicted labels (cls, x, y, w, h)\n",
      " - No objects detected!!\n",
      "\n",
      "batch 0, sample 4\n",
      "target labels (cls, x, y, w, h)\n",
      " [[ 13 139 116 165 298]\n",
      " [ 14  20 128 177 241]]\n",
      "predicted labels (cls, x, y, w, h)\n",
      " - No objects detected!!\n",
      "\n",
      "batch 0, sample 5\n",
      "target labels (cls, x, y, w, h)\n",
      " [[ 10  12  38 473 337]\n",
      " [  4 233 145  49 105]\n",
      " [  8   1   1 145 132]\n",
      " [  8 409 221  91 154]\n",
      " [  8 349   1 119  59]\n",
      " [ 14 170 164  64  39]]\n",
      "predicted labels (cls, x, y, w, h)\n",
      " [[  8  30  16  73 116]]\n",
      "\n",
      "batch 0, sample 6\n",
      "target labels (cls, x, y, w, h)\n",
      " [[ 17  17  82 483 252]]\n",
      "predicted labels (cls, x, y, w, h)\n",
      " - No objects detected!!\n",
      "\n",
      "batch 0, sample 7\n",
      "target labels (cls, x, y, w, h)\n",
      " [[ 18  53  85 447 129]]\n",
      "predicted labels (cls, x, y, w, h)\n",
      " - No objects detected!!\n",
      "\n",
      "batch 0, sample 8\n",
      "target labels (cls, x, y, w, h)\n",
      " [[  6 422   4  71  24]\n",
      " [  6 266   1 113  59]\n",
      " [  6  82   1 303 234]\n",
      " [ 14 244  71 129 212]\n",
      " [  1 167 168 298 198]]\n",
      "predicted labels (cls, x, y, w, h)\n",
      " [[ 14 230  42 131 276]]\n",
      "\n",
      "batch 0, sample 9\n",
      "target labels (cls, x, y, w, h)\n",
      " [[ 13 135  88 139 139]\n",
      " [ 14 127  33 125 140]\n",
      " [ 14 342 149  77  90]]\n",
      "predicted labels (cls, x, y, w, h)\n",
      " [[ 14 344 145  54 105]]\n",
      "\n",
      "batch 0, sample 10\n",
      "target labels (cls, x, y, w, h)\n",
      " [[  7 107  15 353 233]]\n",
      "predicted labels (cls, x, y, w, h)\n",
      " - No objects detected!!\n",
      "\n",
      "batch 0, sample 11\n",
      "target labels (cls, x, y, w, h)\n",
      " [[ 14   1 168 190 332]]\n",
      "predicted labels (cls, x, y, w, h)\n",
      " - No objects detected!!\n",
      "\n",
      "batch 0, sample 12\n",
      "target labels (cls, x, y, w, h)\n",
      " [[ 14 202 203  43 112]\n",
      " [ 14 104  55  49  63]\n",
      " [ 14 113 124  33  51]]\n",
      "predicted labels (cls, x, y, w, h)\n",
      " [[ 14 197 178  45 156]]\n",
      "\n",
      "batch 0, sample 13\n",
      "target labels (cls, x, y, w, h)\n",
      " [[  0  38   1 337 362]\n",
      " [  0   1 218 159  33]\n",
      " [ 14  70 193  91 290]\n",
      " [ 14 192 210  72 265]\n",
      " [ 14  20 256  13  53]\n",
      " [ 14   9 249  18  58]]\n",
      "predicted labels (cls, x, y, w, h)\n",
      " [[ 14  57 147  98 367]\n",
      " [ 14 172 170  96 322]\n",
      " [ 14  32 256  15  58]]\n",
      "\n",
      "batch 0, sample 14\n",
      "target labels (cls, x, y, w, h)\n",
      " [[  6 230 363  62  12]\n",
      " [  6  95 361  55  14]\n",
      " [  6  25 362  49  13]\n",
      " [  6   1 359  30  16]]\n",
      "predicted labels (cls, x, y, w, h)\n",
      " [[  6  71 346  44  18]\n",
      " [ 14 418 345  28  18]]\n",
      "\n",
      "batch 0, sample 15\n",
      "target labels (cls, x, y, w, h)\n",
      " [[  4 335 267  17  31]\n",
      " [ 14 361  38  98 281]\n",
      " [ 14  65  46 105 258]\n",
      " [  6 437 170  63  47]]\n",
      "predicted labels (cls, x, y, w, h)\n",
      " - No objects detected!!\n",
      "\n",
      "batch 1, sample 0\n",
      "target labels (cls, x, y, w, h)\n",
      " [[ 14 173 162 150 164]\n",
      " [ 15 259   3 111 148]\n",
      " [ 15 461 255  37  42]\n",
      " [  4 388 357  25  18]]\n",
      "predicted labels (cls, x, y, w, h)\n",
      " [[ 14 184 141 134 213]]\n",
      "\n",
      "batch 1, sample 1\n",
      "target labels (cls, x, y, w, h)\n",
      " [[ 19  76  12 325 263]]\n",
      "predicted labels (cls, x, y, w, h)\n",
      " [[ 19  84  15 272 235]]\n",
      "\n",
      "batch 1, sample 2\n",
      "target labels (cls, x, y, w, h)\n",
      " [[  5  94  35 245 176]\n",
      " [ 14 442 110  16  29]\n",
      " [  6  41 116  45  21]]\n",
      "predicted labels (cls, x, y, w, h)\n",
      " [[  5 156  49 100 121]\n",
      " [  6  31 112  44  22]\n",
      " [ 14 442 107  17  27]\n",
      " [ 14 144  84  37  52]\n",
      " [ 14 160  80  37  59]]\n",
      "\n",
      "batch 1, sample 3\n",
      "target labels (cls, x, y, w, h)\n",
      " [[ 19 130  90 155 140]\n",
      " [  8   1 213 141 162]\n",
      " [ 15 234   1  46  19]]\n",
      "predicted labels (cls, x, y, w, h)\n",
      " [[ 19 127  85 161 139]]\n",
      "\n",
      "batch 1, sample 4\n",
      "target labels (cls, x, y, w, h)\n",
      " [[  9 184 150 170 135]\n",
      " [ 14  80 130  72 133]\n",
      " [ 14   1 102 107 161]\n",
      " [ 14 353  23 128 207]]\n",
      "predicted labels (cls, x, y, w, h)\n",
      " [[ 14 340 -20 146 310]\n",
      " [ 14 -12  90 125 189]\n",
      " [ 14  45 109  98 160]\n",
      " [ 14 -50   8 197 347]]\n"
     ]
    },
    {
     "name": "stderr",
     "output_type": "stream",
     "text": [
      "/opt/conda/lib/python3.6/site-packages/matplotlib/pyplot.py:514: RuntimeWarning: More than 20 figures have been opened. Figures created through the pyplot interface (`matplotlib.pyplot.figure`) are retained until explicitly closed and may consume too much memory. (To control this warning, see the rcParam `figure.max_open_warning`).\n",
      "  max_open_warning, RuntimeWarning)\n"
     ]
    },
    {
     "name": "stdout",
     "output_type": "stream",
     "text": [
      "\n",
      "batch 1, sample 5\n",
      "target labels (cls, x, y, w, h)\n",
      " [[  7  23 192 290 307]\n",
      " [  7 116 210  51  52]\n",
      " [ 14  51   3 287 497]]\n",
      "predicted labels (cls, x, y, w, h)\n",
      " - No objects detected!!\n",
      "\n",
      "batch 1, sample 6\n",
      "target labels (cls, x, y, w, h)\n",
      " [[  7  69  63 414 178]]\n",
      "predicted labels (cls, x, y, w, h)\n",
      " - No objects detected!!\n",
      "\n",
      "batch 1, sample 7\n",
      "target labels (cls, x, y, w, h)\n",
      " [[  2  13 111 446 193]]\n",
      "predicted labels (cls, x, y, w, h)\n",
      " - No objects detected!!\n",
      "\n",
      "batch 1, sample 8\n",
      "target labels (cls, x, y, w, h)\n",
      " [[ 18  62 142 305  66]]\n",
      "predicted labels (cls, x, y, w, h)\n",
      " - No objects detected!!\n",
      "\n",
      "batch 1, sample 9\n",
      "target labels (cls, x, y, w, h)\n",
      " [[  6  23   1 477 278]]\n",
      "predicted labels (cls, x, y, w, h)\n",
      " - No objects detected!!\n",
      "\n",
      "batch 1, sample 10\n",
      "target labels (cls, x, y, w, h)\n",
      " [[ 17  23 166 119  59]]\n",
      "predicted labels (cls, x, y, w, h)\n",
      " - No objects detected!!\n",
      "\n",
      "batch 1, sample 11\n",
      "target labels (cls, x, y, w, h)\n",
      " [[ 13  33  79 429 181]\n",
      " [ 14 157  63 208 208]]\n",
      "predicted labels (cls, x, y, w, h)\n",
      " - No objects detected!!\n",
      "\n",
      "batch 1, sample 12\n",
      "target labels (cls, x, y, w, h)\n",
      " [[  7 157  89 129 117]]\n",
      "predicted labels (cls, x, y, w, h)\n",
      " - No objects detected!!\n",
      "\n",
      "batch 1, sample 13\n",
      "target labels (cls, x, y, w, h)\n",
      " [[ 17  33 231 244 144]\n",
      " [ 19  71 145  49  48]\n",
      " [ 17 300 218 120 151]]\n",
      "predicted labels (cls, x, y, w, h)\n",
      " - No objects detected!!\n",
      "\n",
      "batch 1, sample 14\n",
      "target labels (cls, x, y, w, h)\n",
      " [[  7  57   7 327 192]\n",
      " [ 14 155 121 295 249]]\n",
      "predicted labels (cls, x, y, w, h)\n",
      " [[  7  35  21 349 216]]\n",
      "\n",
      "batch 1, sample 15\n",
      "target labels (cls, x, y, w, h)\n",
      " [[  7  22  79 470 224]]\n",
      "predicted labels (cls, x, y, w, h)\n",
      " - No objects detected!!\n",
      "\n",
      "batch 2, sample 0\n",
      "target labels (cls, x, y, w, h)\n",
      " [[ 10   1 301 229  72]\n",
      " [  8  53 267  69  49]\n",
      " [  8   1 314 110  60]\n",
      " [ 19 200 124  71  52]\n",
      " [ 15 309  73  75 105]]\n",
      "predicted labels (cls, x, y, w, h)\n",
      " [[ 15 323 102  75 108]\n",
      " [ 19 225 130  37  53]]\n",
      "\n",
      "batch 2, sample 1\n",
      "target labels (cls, x, y, w, h)\n",
      " [[  2 158  32 164 235]]\n",
      "predicted labels (cls, x, y, w, h)\n",
      " - No objects detected!!\n",
      "\n",
      "batch 2, sample 2\n",
      "target labels (cls, x, y, w, h)\n",
      " [[  3  35  22 392 157]\n",
      " [ 14 252  92 248 283]]\n",
      "predicted labels (cls, x, y, w, h)\n",
      " [[ 14 274 117 181 248]]\n",
      "\n",
      "batch 2, sample 3\n",
      "target labels (cls, x, y, w, h)\n",
      " [[  7  54  20 236 463]]\n",
      "predicted labels (cls, x, y, w, h)\n",
      " [[  7  62  29 207 445]]\n",
      "\n",
      "batch 2, sample 4\n",
      "target labels (cls, x, y, w, h)\n",
      " [[ 16 109   1 259 374]\n",
      " [ 16 296 260 204 115]\n",
      " [ 16   1   1 114  81]]\n",
      "predicted labels (cls, x, y, w, h)\n",
      " - No objects detected!!\n",
      "\n",
      "batch 2, sample 5\n",
      "target labels (cls, x, y, w, h)\n",
      " [[  2 213 156  50  69]]\n",
      "predicted labels (cls, x, y, w, h)\n",
      " [[  2 218 157  55  51]]\n",
      "\n",
      "batch 2, sample 6\n",
      "target labels (cls, x, y, w, h)\n",
      " [[ 14  61   6 288 369]\n",
      " [  8  45 133 431 242]]\n",
      "predicted labels (cls, x, y, w, h)\n",
      " - No objects detected!!\n",
      "\n",
      "batch 2, sample 7\n",
      "target labels (cls, x, y, w, h)\n",
      " [[ 14 265   1 235 332]\n",
      " [  2 127  56 250 277]]\n",
      "predicted labels (cls, x, y, w, h)\n",
      " [[  7 139  74 218 235]]\n",
      "\n",
      "batch 2, sample 8\n",
      "target labels (cls, x, y, w, h)\n",
      " [[ 14   1 171 307 204]\n",
      " [ 14  61 161 353 214]\n",
      " [  4 409 128  17  30]\n",
      " [ 17   1 141 445 234]\n",
      " [ 14 156 106 332 269]]\n",
      "predicted labels (cls, x, y, w, h)\n",
      " [[ 15 291  21 150 154]]\n",
      "\n",
      "batch 2, sample 9\n",
      "target labels (cls, x, y, w, h)\n",
      " [[ 13   1   1 499 373]]\n",
      "predicted labels (cls, x, y, w, h)\n",
      " - No objects detected!!\n",
      "\n",
      "batch 2, sample 10\n",
      "target labels (cls, x, y, w, h)\n",
      " [[  5  51  87 364 179]]\n",
      "predicted labels (cls, x, y, w, h)\n",
      " [[  5  65  78 364 203]]\n",
      "\n",
      "batch 2, sample 11\n",
      "target labels (cls, x, y, w, h)\n",
      " [[ 14 313 176  56  70]\n",
      " [ 14 348 166  32  60]\n",
      " [  3   1   1 362 306]]\n",
      "predicted labels (cls, x, y, w, h)\n",
      " [[ 14 324 183  18  59]]\n",
      "\n",
      "batch 2, sample 12\n",
      "target labels (cls, x, y, w, h)\n",
      " [[  6 401 255  99  89]]\n",
      "predicted labels (cls, x, y, w, h)\n",
      " [[  6 366 258 147  79]]\n",
      "\n",
      "batch 2, sample 13\n",
      "target labels (cls, x, y, w, h)\n",
      " [[ 14  93  28 407 372]]\n",
      "predicted labels (cls, x, y, w, h)\n",
      " - No objects detected!!\n",
      "\n",
      "batch 2, sample 14\n",
      "target labels (cls, x, y, w, h)\n",
      " [[ 17 243 133 257 219]\n",
      " [  8 183 156  64  62]\n",
      " [  8  47 232  36  61]]\n",
      "predicted labels (cls, x, y, w, h)\n",
      " - No objects detected!!\n",
      "\n",
      "batch 2, sample 15\n",
      "target labels (cls, x, y, w, h)\n",
      " [[  1   8 361  69 100]\n",
      " [ 14 106 300  68 182]]\n",
      "predicted labels (cls, x, y, w, h)\n",
      " [[  1  27 356  65  99]\n",
      " [ 14 103 301  73 193]]\n",
      "\n",
      "batch 3, sample 0\n",
      "target labels (cls, x, y, w, h)\n",
      " [[  0   1  19 499 319]\n",
      " [ 14  89 158  18  26]\n",
      " [ 14  71 116  20  38]\n",
      " [  6  81  53  57  43]\n",
      " [ 14 454  76  16  34]]\n",
      "predicted labels (cls, x, y, w, h)\n",
      " [[ 14 455  68  30  59]\n",
      " [ 14  80 136  24  61]\n",
      " [ 14  76 102  34  84]\n",
      " [ 14 118 187 114  71]]\n",
      "\n",
      "batch 3, sample 1\n",
      "target labels (cls, x, y, w, h)\n",
      " [[  1  11 220 363 249]\n",
      " [  1 149 298 119  87]]\n",
      "predicted labels (cls, x, y, w, h)\n",
      " - No objects detected!!\n",
      "\n",
      "batch 3, sample 2\n",
      "target labels (cls, x, y, w, h)\n",
      " [[ 14  78 240  36  81]\n",
      " [ 14 124 238  10  17]\n",
      " [  6 420 258  80 106]\n",
      " [  5 167 164 201 127]]\n",
      "predicted labels (cls, x, y, w, h)\n",
      " [[  5 163 161 187 119]\n",
      " [  6 443 264  57  86]\n",
      " [ 14  83 235  27  75]\n",
      " [ 14  87 227  25  46]\n",
      " [ 14  73 252  27  57]]\n",
      "\n",
      "batch 3, sample 3\n",
      "target labels (cls, x, y, w, h)\n",
      " [[ 19  86  19 144 135]]\n",
      "predicted labels (cls, x, y, w, h)\n",
      " [[ 19  63  -6 179 194]]\n",
      "\n",
      "batch 3, sample 4\n",
      "target labels (cls, x, y, w, h)\n",
      " [[ 15  59   1 280 374]\n",
      " [ 15 269  48 173 287]\n",
      " [  6  31 183 272  88]]\n",
      "predicted labels (cls, x, y, w, h)\n",
      " [[ 15 263  62 204 252]]\n",
      "\n",
      "batch 3, sample 5\n",
      "target labels (cls, x, y, w, h)\n",
      " [[  0   6  68 487 144]]\n",
      "predicted labels (cls, x, y, w, h)\n",
      " [[  0 -54  90 608 102]]\n",
      "\n",
      "batch 3, sample 6\n",
      "target labels (cls, x, y, w, h)\n",
      " [[  8  23  55 206 373]]\n",
      "predicted labels (cls, x, y, w, h)\n",
      " - No objects detected!!\n",
      "\n",
      "batch 3, sample 7\n",
      "target labels (cls, x, y, w, h)\n",
      " [[  0  93 137 379 161]\n",
      " [ 14 224 178  18  20]]\n",
      "predicted labels (cls, x, y, w, h)\n",
      " - No objects detected!!\n",
      "\n",
      "batch 3, sample 8\n",
      "target labels (cls, x, y, w, h)\n",
      " [[ 15  31  97 198 202]\n",
      " [ 15 230  98 183 196]\n",
      " [  6  33   1 268 116]]\n",
      "predicted labels (cls, x, y, w, h)\n",
      " [[ 15 241  44 169 234]]\n",
      "\n",
      "batch 3, sample 9\n",
      "target labels (cls, x, y, w, h)\n",
      " [[  3 160 102  82  70]]\n",
      "predicted labels (cls, x, y, w, h)\n",
      " - No objects detected!!\n",
      "\n",
      "batch 3, sample 10\n",
      "target labels (cls, x, y, w, h)\n",
      " [[ 16  68 122 196 110]\n",
      " [ 16 325 129 175 169]]\n",
      "predicted labels (cls, x, y, w, h)\n",
      " [[  9 347 143 125 141]]\n",
      "\n",
      "batch 3, sample 11\n",
      "target labels (cls, x, y, w, h)\n",
      " [[ 11   1  56 377 237]]\n",
      "predicted labels (cls, x, y, w, h)\n",
      " - No objects detected!!\n",
      "\n",
      "batch 3, sample 12\n",
      "target labels (cls, x, y, w, h)\n",
      " [[ 12 115  23 312 352]]\n",
      "predicted labels (cls, x, y, w, h)\n",
      " [[ 12 124  65 254 245]]\n",
      "\n",
      "batch 3, sample 13\n",
      "target labels (cls, x, y, w, h)\n",
      " [[ 16  50  57 373 210]]\n",
      "predicted labels (cls, x, y, w, h)\n",
      " [[ 16  91  31 308 257]]\n",
      "\n",
      "batch 3, sample 14\n",
      "target labels (cls, x, y, w, h)\n",
      " [[  0 161 110 175  49]]\n",
      "predicted labels (cls, x, y, w, h)\n",
      " - No objects detected!!\n",
      "\n",
      "batch 3, sample 15\n",
      "target labels (cls, x, y, w, h)\n",
      " [[  3  77 130 337  63]\n",
      " [  3 412 176  46  16]]\n",
      "predicted labels (cls, x, y, w, h)\n",
      " - No objects detected!!\n",
      "\n",
      "batch 4, sample 0\n",
      "target labels (cls, x, y, w, h)\n",
      " [[ 13 107 152 262 149]\n",
      " [ 14  51  39 174 126]]\n",
      "predicted labels (cls, x, y, w, h)\n",
      " - No objects detected!!\n",
      "\n",
      "batch 4, sample 1\n",
      "target labels (cls, x, y, w, h)\n",
      " [[ 11 124  84 376 291]\n",
      " [  8   1   1 231 355]]\n",
      "predicted labels (cls, x, y, w, h)\n",
      " - No objects detected!!\n",
      "\n",
      "batch 4, sample 2\n",
      "target labels (cls, x, y, w, h)\n",
      " [[  4  25 127 321 119]]\n",
      "predicted labels (cls, x, y, w, h)\n",
      " - No objects detected!!\n",
      "\n",
      "batch 4, sample 3\n",
      "target labels (cls, x, y, w, h)\n",
      " [[  1  84 211  64  49]\n",
      " [  3 213 228  46  25]\n",
      " [  3 254 232  21  16]\n",
      " [  6 332 207  25  28]]\n",
      "predicted labels (cls, x, y, w, h)\n",
      " [[  6 300 203  22  15]]\n",
      "\n",
      "batch 4, sample 4\n",
      "target labels (cls, x, y, w, h)\n",
      " [[ 14  40   1 385 330]]\n",
      "predicted labels (cls, x, y, w, h)\n",
      " [[ 14 140   5 202 308]]\n",
      "\n",
      "batch 4, sample 5\n",
      "target labels (cls, x, y, w, h)\n",
      " [[ 11 138 108 232 173]\n",
      " [  8  31  80 469 295]]\n",
      "predicted labels (cls, x, y, w, h)\n",
      " [[ 11  83  99 398 229]]\n",
      "\n",
      "batch 4, sample 6\n",
      "target labels (cls, x, y, w, h)\n",
      " [[  0   9 119 491 180]\n",
      " [ 14 306  19  22  50]\n",
      " [ 14 101 165  19  34]\n",
      " [ 14 369 154  16  14]\n",
      " [ 15 292 277  53  52]\n",
      " [ 15  93  41  25  26]\n",
      " [ 15 256  42  22  24]\n",
      " [ 15 346  44  20  23]\n",
      " [ 15 472  46  20  24]]\n",
      "predicted labels (cls, x, y, w, h)\n",
      " [[ 14 318  30  17  25]]\n"
     ]
    },
    {
     "name": "stdout",
     "output_type": "stream",
     "text": [
      "\n",
      "batch 4, sample 7\n",
      "target labels (cls, x, y, w, h)\n",
      " [[ 14  46   3 175 497]\n",
      " [  1   1 295  78  99]]\n",
      "predicted labels (cls, x, y, w, h)\n",
      " [[ 14  62   0 136 438]]\n",
      "\n",
      "batch 4, sample 8\n",
      "target labels (cls, x, y, w, h)\n",
      " [[ 11 145  17 106 153]\n",
      " [ 11 410  11  89 138]\n",
      " [ 11 325 113 167 262]\n",
      " [ 11   1 125 134 239]]\n",
      "predicted labels (cls, x, y, w, h)\n",
      " - No objects detected!!\n",
      "\n",
      "batch 4, sample 9\n",
      "target labels (cls, x, y, w, h)\n",
      " [[  4   9 216 235 284]]\n",
      "predicted labels (cls, x, y, w, h)\n",
      " - No objects detected!!\n",
      "\n",
      "batch 4, sample 10\n",
      "target labels (cls, x, y, w, h)\n",
      " [[ 19  52  27 340 318]]\n",
      "predicted labels (cls, x, y, w, h)\n",
      " [[ 19  76  16 331 338]]\n",
      "\n",
      "batch 4, sample 11\n",
      "target labels (cls, x, y, w, h)\n",
      " [[ 14   1   1 319 239]\n",
      " [ 14  54  37 266 193]]\n",
      "predicted labels (cls, x, y, w, h)\n",
      " - No objects detected!!\n",
      "\n",
      "batch 4, sample 12\n",
      "target labels (cls, x, y, w, h)\n",
      " [[  6   1 149 499 128]]\n",
      "predicted labels (cls, x, y, w, h)\n",
      " - No objects detected!!\n",
      "\n",
      "batch 4, sample 13\n",
      "target labels (cls, x, y, w, h)\n",
      " [[ 18 210  82 290 259]]\n",
      "predicted labels (cls, x, y, w, h)\n",
      " [[ 18 199  85 323 268]]\n",
      "\n",
      "batch 4, sample 14\n",
      "target labels (cls, x, y, w, h)\n",
      " [[  1 275 249 225  84]\n",
      " [  1   1 290 197  43]\n",
      " [  6 235 122 148 130]\n",
      " [ 14 358  50 142 283]\n",
      " [ 14   9  41 248 292]]\n",
      "predicted labels (cls, x, y, w, h)\n",
      " [[  6 164  93 266 191]\n",
      " [ 14  57  44 160 303]]\n",
      "\n",
      "batch 4, sample 15\n",
      "target labels (cls, x, y, w, h)\n",
      " [[ 18 304   1 196 374]\n",
      " [ 18   1  59 256 214]]\n",
      "predicted labels (cls, x, y, w, h)\n",
      " - No objects detected!!\n",
      "\n",
      "batch 5, sample 0\n",
      "target labels (cls, x, y, w, h)\n",
      " [[  9  13  28  45  61]\n",
      " [  9  69  36 148  75]\n",
      " [  9 158  66 191 132]\n",
      " [  9 443  24  30  26]\n",
      " [  9 375  22  37  21]\n",
      " [  9 301  29  70  38]\n",
      " [  9 254  29  42  40]\n",
      " [  9 179  16  19  20]\n",
      " [  9 100  20  23  18]\n",
      " [  9 141  20  29  17]]\n",
      "predicted labels (cls, x, y, w, h)\n",
      " [[  9  58  38 157  62]]\n",
      "\n",
      "batch 5, sample 1\n",
      "target labels (cls, x, y, w, h)\n",
      " [[ 14 172  86 198 247]\n",
      " [ 14  90 106  72 227]]\n",
      "predicted labels (cls, x, y, w, h)\n",
      " - No objects detected!!\n",
      "\n",
      "batch 5, sample 2\n",
      "target labels (cls, x, y, w, h)\n",
      " [[  2 330  70 154  92]\n",
      " [  2  23  47 141  96]]\n",
      "predicted labels (cls, x, y, w, h)\n",
      " - No objects detected!!\n",
      "\n",
      "batch 5, sample 3\n",
      "target labels (cls, x, y, w, h)\n",
      " [[ 11 146 134 194 195]\n",
      " [ 14   1   1 374 446]]\n",
      "predicted labels (cls, x, y, w, h)\n",
      " - No objects detected!!\n",
      "\n",
      "batch 5, sample 4\n",
      "target labels (cls, x, y, w, h)\n",
      " [[ 18 397 199 103  29]\n",
      " [ 14 306 244  18  43]\n",
      " [ 14 280 254  12  31]\n",
      " [ 14 265 251  11  33]\n",
      " [ 14 164 246  17  40]\n",
      " [ 14   1 233  30 112]\n",
      " [ 14 486 239  14  59]\n",
      " [ 14 255 248  12  28]\n",
      " [ 14  60 244   9  31]\n",
      " [ 14 198 248   9  21]\n",
      " [ 14 189 243  10  26]\n",
      " [ 14 221 245  10  22]\n",
      " [ 14 120 243  10  24]\n",
      " [ 14  51 244  11  33]\n",
      " [ 14  41 243   9  23]]\n",
      "predicted labels (cls, x, y, w, h)\n",
      " [[ 14 272 252  12  26]\n",
      " [ 14 167 242  18  21]\n",
      " [ 14 463 244  22  55]\n",
      " [ 14 290 252  11  26]\n",
      " [ 14 276 248  24  40]\n",
      " [ 14  48 244  13  16]]\n",
      "\n",
      "batch 5, sample 5\n",
      "target labels (cls, x, y, w, h)\n",
      " [[ 11  33  11 303 229]\n",
      " [ 14 130   1 164  74]]\n",
      "predicted labels (cls, x, y, w, h)\n",
      " - No objects detected!!\n",
      "\n",
      "batch 5, sample 6\n",
      "target labels (cls, x, y, w, h)\n",
      " [[  6  36  76 451 209]]\n",
      "predicted labels (cls, x, y, w, h)\n",
      " - No objects detected!!\n",
      "\n",
      "batch 5, sample 7\n",
      "target labels (cls, x, y, w, h)\n",
      " [[ 18 111 103 330 111]]\n",
      "predicted labels (cls, x, y, w, h)\n",
      " - No objects detected!!\n",
      "\n",
      "batch 5, sample 8\n",
      "target labels (cls, x, y, w, h)\n",
      " [[  6 273 119  34  32]\n",
      " [ 13 295 116  45  50]\n",
      " [ 13 201 127  82 131]\n",
      " [ 14 121 116  50 113]\n",
      " [ 13 400 144 100 231]\n",
      " [ 14 227 112  25  39]]\n",
      "predicted labels (cls, x, y, w, h)\n",
      " [[ 13 207 109  82 160]\n",
      " [ 13 244 117  93  82]\n",
      " [ 13 298 136  47  40]\n",
      " [ 14  98 115  70 135]]\n",
      "\n",
      "batch 5, sample 9\n",
      "target labels (cls, x, y, w, h)\n",
      " [[  2 132 101 215 196]]\n",
      "predicted labels (cls, x, y, w, h)\n",
      " - No objects detected!!\n",
      "\n",
      "batch 5, sample 10\n",
      "target labels (cls, x, y, w, h)\n",
      " [[  7  30  31 296 262]\n",
      " [  7 141 203 223 267]\n",
      " [  7 303 120 128 233]\n",
      " [  7 303  59 167 236]]\n",
      "predicted labels (cls, x, y, w, h)\n",
      " - No objects detected!!\n",
      "\n",
      "batch 5, sample 11\n",
      "target labels (cls, x, y, w, h)\n",
      " [[ 11  41  90 315 162]\n",
      " [  8   1  93 106 188]]\n",
      "predicted labels (cls, x, y, w, h)\n",
      " - No objects detected!!\n",
      "\n",
      "batch 5, sample 12\n",
      "target labels (cls, x, y, w, h)\n",
      " [[ 14  88  47 196 328]\n",
      " [ 14 272  90 228 285]\n",
      " [ 19 370 127 130 113]]\n",
      "predicted labels (cls, x, y, w, h)\n",
      " - No objects detected!!\n",
      "\n",
      "batch 5, sample 13\n",
      "target labels (cls, x, y, w, h)\n",
      " [[ 18 208  91 212 180]]\n",
      "predicted labels (cls, x, y, w, h)\n",
      " [[ 18 234 104 174 157]]\n",
      "\n",
      "batch 5, sample 14\n",
      "target labels (cls, x, y, w, h)\n",
      " [[ 18   1 100 471 229]]\n",
      "predicted labels (cls, x, y, w, h)\n",
      " [[ 18 -12  95 453 241]]\n",
      "\n",
      "batch 5, sample 15\n",
      "target labels (cls, x, y, w, h)\n",
      " [[ 14  64 158  40 199]\n",
      " [ 14 105 166  42 191]]\n",
      "predicted labels (cls, x, y, w, h)\n",
      " [[ 14  93 175  43 179]]\n",
      "\n",
      "batch 6, sample 0\n",
      "target labels (cls, x, y, w, h)\n",
      " [[  4 168 271  18  53]\n",
      " [  4  76 243  20  33]\n",
      " [  4   5 265  26  69]\n",
      " [ 10   1 290 216  44]\n",
      " [ 14 223  88 166 246]]\n",
      "predicted labels (cls, x, y, w, h)\n",
      " [[  4  73 235  38  71]\n",
      " [  4  61 266  65  56]\n",
      " [ 14 225  90 131 238]]\n",
      "\n",
      "batch 6, sample 1\n",
      "target labels (cls, x, y, w, h)\n",
      " [[ 18 184 159 316  35]]\n",
      "predicted labels (cls, x, y, w, h)\n",
      " - No objects detected!!\n",
      "\n",
      "batch 6, sample 2\n",
      "target labels (cls, x, y, w, h)\n",
      " [[ 11 202 151 107  73]]\n",
      "predicted labels (cls, x, y, w, h)\n",
      " [[ 11 196 140  98 104]]\n",
      "\n",
      "batch 6, sample 3\n",
      "target labels (cls, x, y, w, h)\n",
      " [[  8  52   1 355 335]\n",
      " [  8 355   1 145 329]]\n",
      "predicted labels (cls, x, y, w, h)\n",
      " - No objects detected!!\n",
      "\n",
      "batch 6, sample 4\n",
      "target labels (cls, x, y, w, h)\n",
      " [[ 14   1   1 434 374]]\n",
      "predicted labels (cls, x, y, w, h)\n",
      " [[  14 -182  -63  856  497]]\n",
      "\n",
      "batch 6, sample 5\n",
      "target labels (cls, x, y, w, h)\n",
      " [[  6 115 104 339 152]]\n",
      "predicted labels (cls, x, y, w, h)\n",
      " [[  6 134  95 241 138]]\n",
      "\n",
      "batch 6, sample 6\n",
      "target labels (cls, x, y, w, h)\n",
      " [[  0 164  70 171  98]]\n",
      "predicted labels (cls, x, y, w, h)\n",
      " - No objects detected!!\n",
      "\n",
      "batch 6, sample 7\n",
      "target labels (cls, x, y, w, h)\n",
      " [[  6 108 102 246 176]]\n",
      "predicted labels (cls, x, y, w, h)\n",
      " [[  6  73 103 345 171]]\n",
      "\n",
      "batch 6, sample 8\n",
      "target labels (cls, x, y, w, h)\n",
      " [[ 10  64 181 376 194]\n",
      " [  4 314 132  28  72]\n",
      " [  4 248 184  46  76]\n",
      " [  4 228 207  25  44]\n",
      " [ 14 400 109 100 266]\n",
      " [ 14   1 107 182 268]\n",
      " [ 14  34  59 181 168]\n",
      " [  4  46   1  15  31]\n",
      " [  4  32   1  15  31]\n",
      " [  4   9   1  21  33]\n",
      " [ 15 301 133  75  71]]\n",
      "predicted labels (cls, x, y, w, h)\n",
      " [[  4 316 124  22  62]\n",
      " [ 14  97  68  93 175]]\n",
      "\n",
      "batch 6, sample 9\n",
      "target labels (cls, x, y, w, h)\n",
      " [[  9 266 211  68 242]\n",
      " [  9  79 135 185 341]]\n",
      "predicted labels (cls, x, y, w, h)\n",
      " [[  9 -12 135 357 324]]\n",
      "\n",
      "batch 6, sample 10\n",
      "target labels (cls, x, y, w, h)\n",
      " [[  6   1  96 412 193]]\n",
      "predicted labels (cls, x, y, w, h)\n",
      " [[  6  71  72 294 242]]\n",
      "\n",
      "batch 6, sample 11\n",
      "target labels (cls, x, y, w, h)\n",
      " [[  7 104 111 210 214]]\n",
      "predicted labels (cls, x, y, w, h)\n",
      " [[  7 111  68 205 292]]\n",
      "\n",
      "batch 6, sample 12\n",
      "target labels (cls, x, y, w, h)\n",
      " [[  5  73 139 334 159]\n",
      " [  6  23 197  33  10]]\n",
      "predicted labels (cls, x, y, w, h)\n",
      " [[  5  72 139 353 160]\n",
      " [  6  13 186  21  18]]\n",
      "\n",
      "batch 6, sample 13\n",
      "target labels (cls, x, y, w, h)\n",
      " [[  5   1  84  64 126]\n",
      " [  5 122  37 277 226]]\n",
      "predicted labels (cls, x, y, w, h)\n",
      " [[  5 152  22 241 243]\n",
      " [ 14 181  73 183 173]]\n",
      "\n",
      "batch 6, sample 14\n",
      "target labels (cls, x, y, w, h)\n",
      " [[  2 216 130 123 123]]\n",
      "predicted labels (cls, x, y, w, h)\n",
      " - No objects detected!!\n",
      "\n",
      "batch 6, sample 15\n",
      "target labels (cls, x, y, w, h)\n",
      " [[  2 145  27 303 230]]\n",
      "predicted labels (cls, x, y, w, h)\n",
      " [[  2 177  15 283 274]]\n",
      "\n",
      "batch 7, sample 0\n",
      "target labels (cls, x, y, w, h)\n",
      " [[ 11 169  52 213 283]]\n",
      "predicted labels (cls, x, y, w, h)\n",
      " [[ 11 200  41 179 298]]\n",
      "\n",
      "batch 7, sample 1\n",
      "target labels (cls, x, y, w, h)\n",
      " [[ 14 295 158  18  41]\n",
      " [  6 314 146  73  53]]\n",
      "predicted labels (cls, x, y, w, h)\n",
      " [[  6 323 146  79  40]\n",
      " [ 14 286 162  18  32]\n",
      " [ 14 274 125  30  81]]\n",
      "\n",
      "batch 7, sample 2\n",
      "target labels (cls, x, y, w, h)\n",
      " [[ 12   1  31 333 469]]\n",
      "predicted labels (cls, x, y, w, h)\n",
      " [[ 12  29  92 266 387]]\n",
      "\n",
      "batch 7, sample 3\n",
      "target labels (cls, x, y, w, h)\n",
      " [[ 16 176  16 160 317]\n",
      " [ 16 330 137 170 192]\n",
      " [ 16 294 211 124 122]\n",
      " [ 16   1 137  54 192]\n",
      " [ 16 281 311  51  25]]\n",
      "predicted labels (cls, x, y, w, h)\n",
      " [[ 16 180  24 143 319]\n",
      " [ 16 330 129 209 180]\n",
      " [ 16  -6 179  47 127]]\n"
     ]
    },
    {
     "name": "stdout",
     "output_type": "stream",
     "text": [
      "\n",
      "batch 7, sample 4\n",
      "target labels (cls, x, y, w, h)\n",
      " [[  0  14  71 469 149]]\n",
      "predicted labels (cls, x, y, w, h)\n",
      " [[  0  43 106 402  80]]\n",
      "\n",
      "batch 7, sample 5\n",
      "target labels (cls, x, y, w, h)\n",
      " [[ 14 118 148  48 156]\n",
      " [ 11 137 253  52  39]]\n",
      "predicted labels (cls, x, y, w, h)\n",
      " [[ 14 118 162  49 124]]\n",
      "\n",
      "batch 7, sample 6\n",
      "target labels (cls, x, y, w, h)\n",
      " [[ 18  27  62 473 202]]\n",
      "predicted labels (cls, x, y, w, h)\n",
      " - No objects detected!!\n",
      "\n",
      "batch 7, sample 7\n",
      "target labels (cls, x, y, w, h)\n",
      " [[ 11  42  89 404 309]\n",
      " [ 15   1   1 135 309]]\n",
      "predicted labels (cls, x, y, w, h)\n",
      " - No objects detected!!\n",
      "\n",
      "batch 7, sample 8\n",
      "target labels (cls, x, y, w, h)\n",
      " [[  7  55 112 281 286]]\n",
      "predicted labels (cls, x, y, w, h)\n",
      " - No objects detected!!\n",
      "\n",
      "batch 7, sample 9\n",
      "target labels (cls, x, y, w, h)\n",
      " [[  0 237 195 154 125]]\n",
      "predicted labels (cls, x, y, w, h)\n",
      " - No objects detected!!\n",
      "\n",
      "batch 7, sample 10\n",
      "target labels (cls, x, y, w, h)\n",
      " [[ 14  13   5 290 495]\n",
      " [ 14 167 240 188 172]]\n",
      "predicted labels (cls, x, y, w, h)\n",
      " - No objects detected!!\n",
      "\n",
      "batch 7, sample 11\n",
      "target labels (cls, x, y, w, h)\n",
      " [[  1 347 178  52  67]\n",
      " [ 14 347 144  48  81]]\n",
      "predicted labels (cls, x, y, w, h)\n",
      " [[  1 340 180  47  65]\n",
      " [ 14 344 136  33 109]]\n",
      "\n",
      "batch 7, sample 12\n",
      "target labels (cls, x, y, w, h)\n",
      " [[ 13  53  13 245 464]\n",
      " [ 14 277   3  59 135]]\n",
      "predicted labels (cls, x, y, w, h)\n",
      " [[  14  274  -14   56  161]\n",
      " [  14  271 -110   65  357]]\n",
      "\n",
      "batch 7, sample 13\n",
      "target labels (cls, x, y, w, h)\n",
      " [[ 11  75  66 292 192]]\n",
      "predicted labels (cls, x, y, w, h)\n",
      " - No objects detected!!\n",
      "\n",
      "batch 7, sample 14\n",
      "target labels (cls, x, y, w, h)\n",
      " [[ 15  21  81 251 347]\n",
      " [ 15   1 271  92 155]\n",
      " [  8 250 208 125 259]\n",
      " [ 10   1 259 298 241]]\n",
      "predicted labels (cls, x, y, w, h)\n",
      " [[ 15  76  98 219 309]]\n",
      "\n",
      "batch 7, sample 15\n",
      "target labels (cls, x, y, w, h)\n",
      " [[  7   1  39 247 261]]\n",
      "predicted labels (cls, x, y, w, h)\n",
      " - No objects detected!!\n",
      "\n",
      "batch 8, sample 0\n",
      "target labels (cls, x, y, w, h)\n",
      " [[  6   2 116 357 350]]\n",
      "predicted labels (cls, x, y, w, h)\n",
      " - No objects detected!!\n",
      "\n",
      "batch 8, sample 1\n",
      "target labels (cls, x, y, w, h)\n",
      " [[  7   1   4 330 494]]\n",
      "predicted labels (cls, x, y, w, h)\n",
      " [[  7  41  35 246 436]]\n",
      "\n",
      "batch 8, sample 2\n",
      "target labels (cls, x, y, w, h)\n",
      " [[  1   1   7 498 368]]\n",
      "predicted labels (cls, x, y, w, h)\n",
      " [[ 14  -7 140 123 157]]\n",
      "\n",
      "batch 8, sample 3\n",
      "target labels (cls, x, y, w, h)\n",
      " [[ 19 347 142 103  84]\n",
      " [ 15 358  73  35  62]\n",
      " [ 17 223 239 277 136]\n",
      " [  8   1 296 151  79]]\n",
      "predicted labels (cls, x, y, w, h)\n",
      " - No objects detected!!\n",
      "\n",
      "batch 8, sample 4\n",
      "target labels (cls, x, y, w, h)\n",
      " [[  3 125  52  81 318]]\n",
      "predicted labels (cls, x, y, w, h)\n",
      " [[  3  83 -16 167 525]]\n",
      "\n",
      "batch 8, sample 5\n",
      "target labels (cls, x, y, w, h)\n",
      " [[ 13   8  21 399 298]\n",
      " [ 15 147  45 108  91]\n",
      " [ 14 371 120 129 255]]\n",
      "predicted labels (cls, x, y, w, h)\n",
      " [[ 14 382 108 120 279]\n",
      " [ 15 140   9 139 129]]\n",
      "\n",
      "batch 8, sample 6\n",
      "target labels (cls, x, y, w, h)\n",
      " [[  7 307 158  60 143]]\n",
      "predicted labels (cls, x, y, w, h)\n",
      " - No objects detected!!\n",
      "\n",
      "batch 8, sample 7\n",
      "target labels (cls, x, y, w, h)\n",
      " [[ 17   1 223 164 152]\n",
      " [ 15  14 171  18  22]\n",
      " [ 15  13 102  17  23]\n",
      " [ 15  21  64  19  22]]\n",
      "predicted labels (cls, x, y, w, h)\n",
      " [[ 17   9 228 159 145]]\n",
      "\n",
      "batch 8, sample 8\n",
      "target labels (cls, x, y, w, h)\n",
      " [[  2 167 173  60 140]]\n",
      "predicted labels (cls, x, y, w, h)\n",
      " [[  2 160 174  60 132]]\n",
      "\n",
      "batch 8, sample 9\n",
      "target labels (cls, x, y, w, h)\n",
      " [[ 11   1  29 482 346]\n",
      " [  8  61   1 298 111]]\n",
      "predicted labels (cls, x, y, w, h)\n",
      " - No objects detected!!\n",
      "\n",
      "batch 8, sample 10\n",
      "target labels (cls, x, y, w, h)\n",
      " [[  7   1   1 499 374]]\n",
      "predicted labels (cls, x, y, w, h)\n",
      " [[  7  22  22 456 320]]\n",
      "\n",
      "batch 8, sample 11\n",
      "target labels (cls, x, y, w, h)\n",
      " [[ 15  31  69 133 210]\n",
      " [ 15 227 134  76 129]\n",
      " [ 15 305 150 112  41]\n",
      " [ 15 335 101  54  53]\n",
      " [ 15 217 293 102  82]\n",
      " [ 14 269  57 110 318]\n",
      " [ 14 132  81 131 294]\n",
      " [ 15 386 253  40  32]]\n",
      "predicted labels (cls, x, y, w, h)\n",
      " [[ 15  20  67 153 185]\n",
      " [ 15 203 279  96 102]]\n",
      "\n",
      "batch 8, sample 12\n",
      "target labels (cls, x, y, w, h)\n",
      " [[ 14   1   2 374 498]\n",
      " [ 14 145  24 230 476]]\n",
      "predicted labels (cls, x, y, w, h)\n",
      " - No objects detected!!\n",
      "\n",
      "batch 8, sample 13\n",
      "target labels (cls, x, y, w, h)\n",
      " [[  4  95 181  30  92]\n",
      " [ 14  49  71  99 174]\n",
      " [ 14 248 115 125 117]\n",
      " [ 14 318  96 182 230]\n",
      " [ 10   1 205 410 121]]\n",
      "predicted labels (cls, x, y, w, h)\n",
      " [[ 14 239 109 113 114]\n",
      " [ 14  41  66 116 185]\n",
      " [ 14 335 109 136 200]]\n",
      "\n",
      "batch 8, sample 14\n",
      "target labels (cls, x, y, w, h)\n",
      " [[ 18 160  88 186 187]\n",
      " [ 14  47 186  62 189]\n",
      " [ 14 120 190  12  48]\n",
      " [ 14 248 133  24  31]]\n",
      "predicted labels (cls, x, y, w, h)\n",
      " [[ 18 100 119 290 136]]\n",
      "\n",
      "batch 8, sample 15\n",
      "target labels (cls, x, y, w, h)\n",
      " [[  1   1   2 498 177]\n",
      " [ 14   1   1 185 184]]\n",
      "predicted labels (cls, x, y, w, h)\n",
      " - No objects detected!!\n",
      "\n",
      "batch 9, sample 0\n",
      "target labels (cls, x, y, w, h)\n",
      " [[ 10   1   2 319 238]\n",
      " [  4 272   1  42  68]\n",
      " [ 14  51   2 108  62]]\n",
      "predicted labels (cls, x, y, w, h)\n",
      " - No objects detected!!\n",
      "\n",
      "batch 9, sample 1\n",
      "target labels (cls, x, y, w, h)\n",
      " [[ 10   1 237 446  98]\n",
      " [ 14  78  36 140 204]\n",
      " [ 14 200  12 189 231]\n",
      " [ 14 164 174  91  72]]\n",
      "predicted labels (cls, x, y, w, h)\n",
      " [[ 14  75  16 157 249]\n",
      " [ 14 156 172 116  85]]\n",
      "\n",
      "batch 9, sample 2\n",
      "target labels (cls, x, y, w, h)\n",
      " [[ 10   6 340 494 160]\n",
      " [  8 184 224 169 117]]\n",
      "predicted labels (cls, x, y, w, h)\n",
      " [[ 15 295  92 212 248]\n",
      " [ 15  36  66 193 284]]\n",
      "\n",
      "batch 9, sample 3\n",
      "target labels (cls, x, y, w, h)\n",
      " [[ 14  53  97 169 278]]\n",
      "predicted labels (cls, x, y, w, h)\n",
      " [[ 14  47  82 164 321]]\n",
      "\n",
      "batch 9, sample 4\n",
      "target labels (cls, x, y, w, h)\n",
      " [[ 14 156 181 187 319]\n",
      " [ 14  88  82 246 418]\n",
      " [ 14  92 104 112 135]]\n",
      "predicted labels (cls, x, y, w, h)\n",
      " [[ 14  90  99  83 151]]\n",
      "\n",
      "batch 9, sample 5\n",
      "target labels (cls, x, y, w, h)\n",
      " [[ 11 305  20 179 262]\n",
      " [ 11  56  51 444 320]]\n",
      "predicted labels (cls, x, y, w, h)\n",
      " [[  7 101  96 297 225]]\n",
      "\n",
      "batch 9, sample 6\n",
      "target labels (cls, x, y, w, h)\n",
      " [[ 13  40  27 408 341]]\n",
      "predicted labels (cls, x, y, w, h)\n",
      " [[ 13  38  19 415 338]]\n",
      "\n",
      "batch 9, sample 7\n",
      "target labels (cls, x, y, w, h)\n",
      " [[ 12  76 132 288 211]\n",
      " [ 14 183  45  86 188]\n",
      " [ 14 187 236  29  69]\n",
      " [ 14 251 251  32  49]]\n",
      "predicted labels (cls, x, y, w, h)\n",
      " [[ 14 170  52 101 167]]\n",
      "\n",
      "batch 9, sample 8\n",
      "target labels (cls, x, y, w, h)\n",
      " [[  5  58 164 275 183]\n",
      " [ 14 181 216  25  50]]\n",
      "predicted labels (cls, x, y, w, h)\n",
      " [[  5 102 148 204 195]]\n",
      "\n",
      "batch 9, sample 9\n",
      "target labels (cls, x, y, w, h)\n",
      " [[  1  80   1 409 311]\n",
      " [ 14 201   1 167 195]]\n",
      "predicted labels (cls, x, y, w, h)\n",
      " - No objects detected!!\n",
      "\n",
      "batch 9, sample 10\n",
      "target labels (cls, x, y, w, h)\n",
      " [[  0 164  14 167 127]]\n",
      "predicted labels (cls, x, y, w, h)\n",
      " - No objects detected!!\n",
      "\n",
      "batch 9, sample 11\n",
      "target labels (cls, x, y, w, h)\n",
      " [[  7   6 144 494 238]\n",
      " [ 17   1 183 499 226]]\n",
      "predicted labels (cls, x, y, w, h)\n",
      " - No objects detected!!\n",
      "\n",
      "batch 9, sample 12\n",
      "target labels (cls, x, y, w, h)\n",
      " [[ 10   7  81 493 294]\n",
      " [  8   3 293 182  82]\n",
      " [  8 270  19  79  75]\n",
      " [  8 390  19  80 122]\n",
      " [ 10 343  29 157 128]\n",
      " [  8  99  21  78  86]]\n",
      "predicted labels (cls, x, y, w, h)\n",
      " - No objects detected!!\n",
      "\n",
      "batch 9, sample 13\n",
      "target labels (cls, x, y, w, h)\n",
      " [[  1  53  33 432 309]]\n",
      "predicted labels (cls, x, y, w, h)\n",
      " - No objects detected!!\n",
      "\n",
      "batch 9, sample 14\n",
      "target labels (cls, x, y, w, h)\n",
      " [[  7 119 116 281 147]]\n",
      "predicted labels (cls, x, y, w, h)\n",
      " [[  7 169 103 174 179]]\n",
      "\n",
      "batch 9, sample 15\n",
      "target labels (cls, x, y, w, h)\n",
      " [[  2  12  53 470 349]]\n",
      "predicted labels (cls, x, y, w, h)\n",
      " - No objects detected!!\n",
      "breaking\n"
     ]
    },
    {
     "data": {
      "text/plain": [
       "<Figure size 432x288 with 0 Axes>"
      ]
     },
     "metadata": {},
     "output_type": "display_data"
    },
    {
     "data": {
      "text/plain": [
       "<Figure size 432x288 with 0 Axes>"
      ]
     },
     "metadata": {},
     "output_type": "display_data"
    },
    {
     "data": {
      "text/plain": [
       "<Figure size 432x288 with 0 Axes>"
      ]
     },
     "metadata": {},
     "output_type": "display_data"
    },
    {
     "data": {
      "text/plain": [
       "<Figure size 432x288 with 0 Axes>"
      ]
     },
     "metadata": {},
     "output_type": "display_data"
    },
    {
     "data": {
      "text/plain": [
       "<Figure size 432x288 with 0 Axes>"
      ]
     },
     "metadata": {},
     "output_type": "display_data"
    },
    {
     "data": {
      "text/plain": [
       "<Figure size 432x288 with 0 Axes>"
      ]
     },
     "metadata": {},
     "output_type": "display_data"
    },
    {
     "data": {
      "text/plain": [
       "<Figure size 432x288 with 0 Axes>"
      ]
     },
     "metadata": {},
     "output_type": "display_data"
    },
    {
     "data": {
      "text/plain": [
       "<Figure size 432x288 with 0 Axes>"
      ]
     },
     "metadata": {},
     "output_type": "display_data"
    },
    {
     "data": {
      "text/plain": [
       "<Figure size 432x288 with 0 Axes>"
      ]
     },
     "metadata": {},
     "output_type": "display_data"
    },
    {
     "data": {
      "text/plain": [
       "<Figure size 432x288 with 0 Axes>"
      ]
     },
     "metadata": {},
     "output_type": "display_data"
    },
    {
     "data": {
      "text/plain": [
       "<Figure size 432x288 with 0 Axes>"
      ]
     },
     "metadata": {},
     "output_type": "display_data"
    },
    {
     "data": {
      "text/plain": [
       "<Figure size 432x288 with 0 Axes>"
      ]
     },
     "metadata": {},
     "output_type": "display_data"
    },
    {
     "data": {
      "text/plain": [
       "<Figure size 432x288 with 0 Axes>"
      ]
     },
     "metadata": {},
     "output_type": "display_data"
    },
    {
     "data": {
      "text/plain": [
       "<Figure size 432x288 with 0 Axes>"
      ]
     },
     "metadata": {},
     "output_type": "display_data"
    },
    {
     "data": {
      "text/plain": [
       "<Figure size 432x288 with 0 Axes>"
      ]
     },
     "metadata": {},
     "output_type": "display_data"
    },
    {
     "data": {
      "text/plain": [
       "<Figure size 432x288 with 0 Axes>"
      ]
     },
     "metadata": {},
     "output_type": "display_data"
    },
    {
     "data": {
      "text/plain": [
       "<Figure size 432x288 with 0 Axes>"
      ]
     },
     "metadata": {},
     "output_type": "display_data"
    },
    {
     "data": {
      "text/plain": [
       "<Figure size 432x288 with 0 Axes>"
      ]
     },
     "metadata": {},
     "output_type": "display_data"
    },
    {
     "data": {
      "text/plain": [
       "<Figure size 432x288 with 0 Axes>"
      ]
     },
     "metadata": {},
     "output_type": "display_data"
    },
    {
     "data": {
      "text/plain": [
       "<Figure size 432x288 with 0 Axes>"
      ]
     },
     "metadata": {},
     "output_type": "display_data"
    },
    {
     "data": {
      "text/plain": [
       "<Figure size 432x288 with 0 Axes>"
      ]
     },
     "metadata": {},
     "output_type": "display_data"
    },
    {
     "data": {
      "text/plain": [
       "<Figure size 432x288 with 0 Axes>"
      ]
     },
     "metadata": {},
     "output_type": "display_data"
    },
    {
     "data": {
      "text/plain": [
       "<Figure size 432x288 with 0 Axes>"
      ]
     },
     "metadata": {},
     "output_type": "display_data"
    },
    {
     "data": {
      "text/plain": [
       "<Figure size 432x288 with 0 Axes>"
      ]
     },
     "metadata": {},
     "output_type": "display_data"
    },
    {
     "data": {
      "text/plain": [
       "<Figure size 432x288 with 0 Axes>"
      ]
     },
     "metadata": {},
     "output_type": "display_data"
    },
    {
     "data": {
      "text/plain": [
       "<Figure size 432x288 with 0 Axes>"
      ]
     },
     "metadata": {},
     "output_type": "display_data"
    },
    {
     "data": {
      "text/plain": [
       "<Figure size 432x288 with 0 Axes>"
      ]
     },
     "metadata": {},
     "output_type": "display_data"
    },
    {
     "data": {
      "text/plain": [
       "<Figure size 432x288 with 0 Axes>"
      ]
     },
     "metadata": {},
     "output_type": "display_data"
    },
    {
     "data": {
      "text/plain": [
       "<Figure size 432x288 with 0 Axes>"
      ]
     },
     "metadata": {},
     "output_type": "display_data"
    },
    {
     "data": {
      "text/plain": [
       "<Figure size 432x288 with 0 Axes>"
      ]
     },
     "metadata": {},
     "output_type": "display_data"
    },
    {
     "data": {
      "text/plain": [
       "<Figure size 432x288 with 0 Axes>"
      ]
     },
     "metadata": {},
     "output_type": "display_data"
    },
    {
     "data": {
      "text/plain": [
       "<Figure size 432x288 with 0 Axes>"
      ]
     },
     "metadata": {},
     "output_type": "display_data"
    },
    {
     "data": {
      "text/plain": [
       "<Figure size 432x288 with 0 Axes>"
      ]
     },
     "metadata": {},
     "output_type": "display_data"
    },
    {
     "data": {
      "text/plain": [
       "<Figure size 432x288 with 0 Axes>"
      ]
     },
     "metadata": {},
     "output_type": "display_data"
    },
    {
     "data": {
      "text/plain": [
       "<Figure size 432x288 with 0 Axes>"
      ]
     },
     "metadata": {},
     "output_type": "display_data"
    },
    {
     "data": {
      "text/plain": [
       "<Figure size 432x288 with 0 Axes>"
      ]
     },
     "metadata": {},
     "output_type": "display_data"
    },
    {
     "data": {
      "text/plain": [
       "<Figure size 432x288 with 0 Axes>"
      ]
     },
     "metadata": {},
     "output_type": "display_data"
    },
    {
     "data": {
      "text/plain": [
       "<Figure size 432x288 with 0 Axes>"
      ]
     },
     "metadata": {},
     "output_type": "display_data"
    },
    {
     "data": {
      "text/plain": [
       "<Figure size 432x288 with 0 Axes>"
      ]
     },
     "metadata": {},
     "output_type": "display_data"
    },
    {
     "data": {
      "text/plain": [
       "<Figure size 432x288 with 0 Axes>"
      ]
     },
     "metadata": {},
     "output_type": "display_data"
    },
    {
     "data": {
      "text/plain": [
       "<Figure size 432x288 with 0 Axes>"
      ]
     },
     "metadata": {},
     "output_type": "display_data"
    },
    {
     "data": {
      "text/plain": [
       "<Figure size 432x288 with 0 Axes>"
      ]
     },
     "metadata": {},
     "output_type": "display_data"
    },
    {
     "data": {
      "text/plain": [
       "<Figure size 432x288 with 0 Axes>"
      ]
     },
     "metadata": {},
     "output_type": "display_data"
    },
    {
     "data": {
      "text/plain": [
       "<Figure size 432x288 with 0 Axes>"
      ]
     },
     "metadata": {},
     "output_type": "display_data"
    },
    {
     "data": {
      "text/plain": [
       "<Figure size 432x288 with 0 Axes>"
      ]
     },
     "metadata": {},
     "output_type": "display_data"
    },
    {
     "data": {
      "text/plain": [
       "<Figure size 432x288 with 0 Axes>"
      ]
     },
     "metadata": {},
     "output_type": "display_data"
    },
    {
     "data": {
      "text/plain": [
       "<Figure size 432x288 with 0 Axes>"
      ]
     },
     "metadata": {},
     "output_type": "display_data"
    },
    {
     "data": {
      "text/plain": [
       "<Figure size 432x288 with 0 Axes>"
      ]
     },
     "metadata": {},
     "output_type": "display_data"
    },
    {
     "data": {
      "text/plain": [
       "<Figure size 432x288 with 0 Axes>"
      ]
     },
     "metadata": {},
     "output_type": "display_data"
    },
    {
     "data": {
      "text/plain": [
       "<Figure size 432x288 with 0 Axes>"
      ]
     },
     "metadata": {},
     "output_type": "display_data"
    },
    {
     "data": {
      "text/plain": [
       "<Figure size 432x288 with 0 Axes>"
      ]
     },
     "metadata": {},
     "output_type": "display_data"
    },
    {
     "data": {
      "text/plain": [
       "<Figure size 432x288 with 0 Axes>"
      ]
     },
     "metadata": {},
     "output_type": "display_data"
    },
    {
     "data": {
      "text/plain": [
       "<Figure size 432x288 with 0 Axes>"
      ]
     },
     "metadata": {},
     "output_type": "display_data"
    },
    {
     "data": {
      "text/plain": [
       "<Figure size 432x288 with 0 Axes>"
      ]
     },
     "metadata": {},
     "output_type": "display_data"
    },
    {
     "data": {
      "text/plain": [
       "<Figure size 432x288 with 0 Axes>"
      ]
     },
     "metadata": {},
     "output_type": "display_data"
    },
    {
     "data": {
      "text/plain": [
       "<Figure size 432x288 with 0 Axes>"
      ]
     },
     "metadata": {},
     "output_type": "display_data"
    },
    {
     "data": {
      "text/plain": [
       "<Figure size 432x288 with 0 Axes>"
      ]
     },
     "metadata": {},
     "output_type": "display_data"
    },
    {
     "data": {
      "text/plain": [
       "<Figure size 432x288 with 0 Axes>"
      ]
     },
     "metadata": {},
     "output_type": "display_data"
    },
    {
     "data": {
      "text/plain": [
       "<Figure size 432x288 with 0 Axes>"
      ]
     },
     "metadata": {},
     "output_type": "display_data"
    },
    {
     "data": {
      "text/plain": [
       "<Figure size 432x288 with 0 Axes>"
      ]
     },
     "metadata": {},
     "output_type": "display_data"
    },
    {
     "data": {
      "text/plain": [
       "<Figure size 432x288 with 0 Axes>"
      ]
     },
     "metadata": {},
     "output_type": "display_data"
    },
    {
     "data": {
      "text/plain": [
       "<Figure size 432x288 with 0 Axes>"
      ]
     },
     "metadata": {},
     "output_type": "display_data"
    },
    {
     "data": {
      "text/plain": [
       "<Figure size 432x288 with 0 Axes>"
      ]
     },
     "metadata": {},
     "output_type": "display_data"
    },
    {
     "data": {
      "text/plain": [
       "<Figure size 432x288 with 0 Axes>"
      ]
     },
     "metadata": {},
     "output_type": "display_data"
    },
    {
     "data": {
      "text/plain": [
       "<Figure size 432x288 with 0 Axes>"
      ]
     },
     "metadata": {},
     "output_type": "display_data"
    },
    {
     "data": {
      "text/plain": [
       "<Figure size 432x288 with 0 Axes>"
      ]
     },
     "metadata": {},
     "output_type": "display_data"
    },
    {
     "data": {
      "text/plain": [
       "<Figure size 432x288 with 0 Axes>"
      ]
     },
     "metadata": {},
     "output_type": "display_data"
    },
    {
     "data": {
      "text/plain": [
       "<Figure size 432x288 with 0 Axes>"
      ]
     },
     "metadata": {},
     "output_type": "display_data"
    },
    {
     "data": {
      "text/plain": [
       "<Figure size 432x288 with 0 Axes>"
      ]
     },
     "metadata": {},
     "output_type": "display_data"
    },
    {
     "data": {
      "text/plain": [
       "<Figure size 432x288 with 0 Axes>"
      ]
     },
     "metadata": {},
     "output_type": "display_data"
    },
    {
     "data": {
      "text/plain": [
       "<Figure size 432x288 with 0 Axes>"
      ]
     },
     "metadata": {},
     "output_type": "display_data"
    },
    {
     "data": {
      "text/plain": [
       "<Figure size 432x288 with 0 Axes>"
      ]
     },
     "metadata": {},
     "output_type": "display_data"
    },
    {
     "data": {
      "text/plain": [
       "<Figure size 432x288 with 0 Axes>"
      ]
     },
     "metadata": {},
     "output_type": "display_data"
    },
    {
     "data": {
      "text/plain": [
       "<Figure size 432x288 with 0 Axes>"
      ]
     },
     "metadata": {},
     "output_type": "display_data"
    },
    {
     "data": {
      "text/plain": [
       "<Figure size 432x288 with 0 Axes>"
      ]
     },
     "metadata": {},
     "output_type": "display_data"
    },
    {
     "data": {
      "text/plain": [
       "<Figure size 432x288 with 0 Axes>"
      ]
     },
     "metadata": {},
     "output_type": "display_data"
    },
    {
     "data": {
      "text/plain": [
       "<Figure size 432x288 with 0 Axes>"
      ]
     },
     "metadata": {},
     "output_type": "display_data"
    },
    {
     "data": {
      "text/plain": [
       "<Figure size 432x288 with 0 Axes>"
      ]
     },
     "metadata": {},
     "output_type": "display_data"
    },
    {
     "data": {
      "text/plain": [
       "<Figure size 432x288 with 0 Axes>"
      ]
     },
     "metadata": {},
     "output_type": "display_data"
    },
    {
     "data": {
      "text/plain": [
       "<Figure size 432x288 with 0 Axes>"
      ]
     },
     "metadata": {},
     "output_type": "display_data"
    },
    {
     "data": {
      "text/plain": [
       "<Figure size 432x288 with 0 Axes>"
      ]
     },
     "metadata": {},
     "output_type": "display_data"
    },
    {
     "data": {
      "text/plain": [
       "<Figure size 432x288 with 0 Axes>"
      ]
     },
     "metadata": {},
     "output_type": "display_data"
    },
    {
     "data": {
      "text/plain": [
       "<Figure size 432x288 with 0 Axes>"
      ]
     },
     "metadata": {},
     "output_type": "display_data"
    },
    {
     "data": {
      "text/plain": [
       "<Figure size 432x288 with 0 Axes>"
      ]
     },
     "metadata": {},
     "output_type": "display_data"
    },
    {
     "data": {
      "text/plain": [
       "<Figure size 432x288 with 0 Axes>"
      ]
     },
     "metadata": {},
     "output_type": "display_data"
    },
    {
     "data": {
      "text/plain": [
       "<Figure size 432x288 with 0 Axes>"
      ]
     },
     "metadata": {},
     "output_type": "display_data"
    },
    {
     "data": {
      "text/plain": [
       "<Figure size 432x288 with 0 Axes>"
      ]
     },
     "metadata": {},
     "output_type": "display_data"
    },
    {
     "data": {
      "text/plain": [
       "<Figure size 432x288 with 0 Axes>"
      ]
     },
     "metadata": {},
     "output_type": "display_data"
    },
    {
     "data": {
      "text/plain": [
       "<Figure size 432x288 with 0 Axes>"
      ]
     },
     "metadata": {},
     "output_type": "display_data"
    },
    {
     "data": {
      "text/plain": [
       "<Figure size 432x288 with 0 Axes>"
      ]
     },
     "metadata": {},
     "output_type": "display_data"
    },
    {
     "data": {
      "text/plain": [
       "<Figure size 432x288 with 0 Axes>"
      ]
     },
     "metadata": {},
     "output_type": "display_data"
    },
    {
     "data": {
      "text/plain": [
       "<Figure size 432x288 with 0 Axes>"
      ]
     },
     "metadata": {},
     "output_type": "display_data"
    },
    {
     "data": {
      "text/plain": [
       "<Figure size 432x288 with 0 Axes>"
      ]
     },
     "metadata": {},
     "output_type": "display_data"
    },
    {
     "data": {
      "text/plain": [
       "<Figure size 432x288 with 0 Axes>"
      ]
     },
     "metadata": {},
     "output_type": "display_data"
    },
    {
     "data": {
      "text/plain": [
       "<Figure size 432x288 with 0 Axes>"
      ]
     },
     "metadata": {},
     "output_type": "display_data"
    },
    {
     "data": {
      "text/plain": [
       "<Figure size 432x288 with 0 Axes>"
      ]
     },
     "metadata": {},
     "output_type": "display_data"
    },
    {
     "data": {
      "text/plain": [
       "<Figure size 432x288 with 0 Axes>"
      ]
     },
     "metadata": {},
     "output_type": "display_data"
    },
    {
     "data": {
      "text/plain": [
       "<Figure size 432x288 with 0 Axes>"
      ]
     },
     "metadata": {},
     "output_type": "display_data"
    },
    {
     "data": {
      "text/plain": [
       "<Figure size 432x288 with 0 Axes>"
      ]
     },
     "metadata": {},
     "output_type": "display_data"
    },
    {
     "data": {
      "text/plain": [
       "<Figure size 432x288 with 0 Axes>"
      ]
     },
     "metadata": {},
     "output_type": "display_data"
    },
    {
     "data": {
      "text/plain": [
       "<Figure size 432x288 with 0 Axes>"
      ]
     },
     "metadata": {},
     "output_type": "display_data"
    },
    {
     "data": {
      "text/plain": [
       "<Figure size 432x288 with 0 Axes>"
      ]
     },
     "metadata": {},
     "output_type": "display_data"
    },
    {
     "data": {
      "text/plain": [
       "<Figure size 432x288 with 0 Axes>"
      ]
     },
     "metadata": {},
     "output_type": "display_data"
    },
    {
     "data": {
      "text/plain": [
       "<Figure size 432x288 with 0 Axes>"
      ]
     },
     "metadata": {},
     "output_type": "display_data"
    },
    {
     "data": {
      "text/plain": [
       "<Figure size 432x288 with 0 Axes>"
      ]
     },
     "metadata": {},
     "output_type": "display_data"
    },
    {
     "data": {
      "text/plain": [
       "<Figure size 432x288 with 0 Axes>"
      ]
     },
     "metadata": {},
     "output_type": "display_data"
    },
    {
     "data": {
      "text/plain": [
       "<Figure size 432x288 with 0 Axes>"
      ]
     },
     "metadata": {},
     "output_type": "display_data"
    },
    {
     "data": {
      "text/plain": [
       "<Figure size 432x288 with 0 Axes>"
      ]
     },
     "metadata": {},
     "output_type": "display_data"
    },
    {
     "data": {
      "text/plain": [
       "<Figure size 432x288 with 0 Axes>"
      ]
     },
     "metadata": {},
     "output_type": "display_data"
    },
    {
     "data": {
      "text/plain": [
       "<Figure size 432x288 with 0 Axes>"
      ]
     },
     "metadata": {},
     "output_type": "display_data"
    },
    {
     "data": {
      "text/plain": [
       "<Figure size 432x288 with 0 Axes>"
      ]
     },
     "metadata": {},
     "output_type": "display_data"
    },
    {
     "data": {
      "text/plain": [
       "<Figure size 432x288 with 0 Axes>"
      ]
     },
     "metadata": {},
     "output_type": "display_data"
    },
    {
     "data": {
      "text/plain": [
       "<Figure size 432x288 with 0 Axes>"
      ]
     },
     "metadata": {},
     "output_type": "display_data"
    },
    {
     "data": {
      "text/plain": [
       "<Figure size 432x288 with 0 Axes>"
      ]
     },
     "metadata": {},
     "output_type": "display_data"
    },
    {
     "data": {
      "text/plain": [
       "<Figure size 432x288 with 0 Axes>"
      ]
     },
     "metadata": {},
     "output_type": "display_data"
    },
    {
     "data": {
      "text/plain": [
       "<Figure size 432x288 with 0 Axes>"
      ]
     },
     "metadata": {},
     "output_type": "display_data"
    },
    {
     "data": {
      "text/plain": [
       "<Figure size 432x288 with 0 Axes>"
      ]
     },
     "metadata": {},
     "output_type": "display_data"
    },
    {
     "data": {
      "text/plain": [
       "<Figure size 432x288 with 0 Axes>"
      ]
     },
     "metadata": {},
     "output_type": "display_data"
    },
    {
     "data": {
      "text/plain": [
       "<Figure size 432x288 with 0 Axes>"
      ]
     },
     "metadata": {},
     "output_type": "display_data"
    },
    {
     "data": {
      "text/plain": [
       "<Figure size 432x288 with 0 Axes>"
      ]
     },
     "metadata": {},
     "output_type": "display_data"
    },
    {
     "data": {
      "text/plain": [
       "<Figure size 432x288 with 0 Axes>"
      ]
     },
     "metadata": {},
     "output_type": "display_data"
    },
    {
     "data": {
      "text/plain": [
       "<Figure size 432x288 with 0 Axes>"
      ]
     },
     "metadata": {},
     "output_type": "display_data"
    },
    {
     "data": {
      "text/plain": [
       "<Figure size 432x288 with 0 Axes>"
      ]
     },
     "metadata": {},
     "output_type": "display_data"
    },
    {
     "data": {
      "text/plain": [
       "<Figure size 432x288 with 0 Axes>"
      ]
     },
     "metadata": {},
     "output_type": "display_data"
    },
    {
     "data": {
      "text/plain": [
       "<Figure size 432x288 with 0 Axes>"
      ]
     },
     "metadata": {},
     "output_type": "display_data"
    },
    {
     "data": {
      "text/plain": [
       "<Figure size 432x288 with 0 Axes>"
      ]
     },
     "metadata": {},
     "output_type": "display_data"
    },
    {
     "data": {
      "text/plain": [
       "<Figure size 432x288 with 0 Axes>"
      ]
     },
     "metadata": {},
     "output_type": "display_data"
    },
    {
     "data": {
      "text/plain": [
       "<Figure size 432x288 with 0 Axes>"
      ]
     },
     "metadata": {},
     "output_type": "display_data"
    },
    {
     "data": {
      "text/plain": [
       "<Figure size 432x288 with 0 Axes>"
      ]
     },
     "metadata": {},
     "output_type": "display_data"
    },
    {
     "data": {
      "text/plain": [
       "<Figure size 432x288 with 0 Axes>"
      ]
     },
     "metadata": {},
     "output_type": "display_data"
    },
    {
     "data": {
      "text/plain": [
       "<Figure size 432x288 with 0 Axes>"
      ]
     },
     "metadata": {},
     "output_type": "display_data"
    },
    {
     "data": {
      "text/plain": [
       "<Figure size 432x288 with 0 Axes>"
      ]
     },
     "metadata": {},
     "output_type": "display_data"
    },
    {
     "data": {
      "text/plain": [
       "<Figure size 432x288 with 0 Axes>"
      ]
     },
     "metadata": {},
     "output_type": "display_data"
    },
    {
     "data": {
      "text/plain": [
       "<Figure size 432x288 with 0 Axes>"
      ]
     },
     "metadata": {},
     "output_type": "display_data"
    },
    {
     "data": {
      "text/plain": [
       "<Figure size 432x288 with 0 Axes>"
      ]
     },
     "metadata": {},
     "output_type": "display_data"
    },
    {
     "data": {
      "text/plain": [
       "<Figure size 432x288 with 0 Axes>"
      ]
     },
     "metadata": {},
     "output_type": "display_data"
    },
    {
     "data": {
      "text/plain": [
       "<Figure size 432x288 with 0 Axes>"
      ]
     },
     "metadata": {},
     "output_type": "display_data"
    },
    {
     "data": {
      "text/plain": [
       "<Figure size 432x288 with 0 Axes>"
      ]
     },
     "metadata": {},
     "output_type": "display_data"
    },
    {
     "data": {
      "text/plain": [
       "<Figure size 432x288 with 0 Axes>"
      ]
     },
     "metadata": {},
     "output_type": "display_data"
    },
    {
     "data": {
      "text/plain": [
       "<Figure size 432x288 with 0 Axes>"
      ]
     },
     "metadata": {},
     "output_type": "display_data"
    },
    {
     "data": {
      "text/plain": [
       "<Figure size 432x288 with 0 Axes>"
      ]
     },
     "metadata": {},
     "output_type": "display_data"
    },
    {
     "data": {
      "text/plain": [
       "<Figure size 432x288 with 0 Axes>"
      ]
     },
     "metadata": {},
     "output_type": "display_data"
    },
    {
     "data": {
      "text/plain": [
       "<Figure size 432x288 with 0 Axes>"
      ]
     },
     "metadata": {},
     "output_type": "display_data"
    },
    {
     "data": {
      "text/plain": [
       "<Figure size 432x288 with 0 Axes>"
      ]
     },
     "metadata": {},
     "output_type": "display_data"
    },
    {
     "data": {
      "text/plain": [
       "<Figure size 432x288 with 0 Axes>"
      ]
     },
     "metadata": {},
     "output_type": "display_data"
    },
    {
     "data": {
      "text/plain": [
       "<Figure size 432x288 with 0 Axes>"
      ]
     },
     "metadata": {},
     "output_type": "display_data"
    },
    {
     "data": {
      "text/plain": [
       "<Figure size 432x288 with 0 Axes>"
      ]
     },
     "metadata": {},
     "output_type": "display_data"
    },
    {
     "data": {
      "text/plain": [
       "<Figure size 432x288 with 0 Axes>"
      ]
     },
     "metadata": {},
     "output_type": "display_data"
    },
    {
     "data": {
      "text/plain": [
       "<Figure size 432x288 with 0 Axes>"
      ]
     },
     "metadata": {},
     "output_type": "display_data"
    },
    {
     "data": {
      "text/plain": [
       "<Figure size 432x288 with 0 Axes>"
      ]
     },
     "metadata": {},
     "output_type": "display_data"
    },
    {
     "data": {
      "text/plain": [
       "<Figure size 432x288 with 0 Axes>"
      ]
     },
     "metadata": {},
     "output_type": "display_data"
    },
    {
     "data": {
      "text/plain": [
       "<Figure size 432x288 with 0 Axes>"
      ]
     },
     "metadata": {},
     "output_type": "display_data"
    },
    {
     "data": {
      "text/plain": [
       "<Figure size 432x288 with 0 Axes>"
      ]
     },
     "metadata": {},
     "output_type": "display_data"
    },
    {
     "data": {
      "text/plain": [
       "<Figure size 432x288 with 0 Axes>"
      ]
     },
     "metadata": {},
     "output_type": "display_data"
    },
    {
     "data": {
      "text/plain": [
       "<Figure size 432x288 with 0 Axes>"
      ]
     },
     "metadata": {},
     "output_type": "display_data"
    },
    {
     "data": {
      "text/plain": [
       "<Figure size 432x288 with 0 Axes>"
      ]
     },
     "metadata": {},
     "output_type": "display_data"
    },
    {
     "data": {
      "text/plain": [
       "<Figure size 432x288 with 0 Axes>"
      ]
     },
     "metadata": {},
     "output_type": "display_data"
    },
    {
     "data": {
      "text/plain": [
       "<Figure size 432x288 with 0 Axes>"
      ]
     },
     "metadata": {},
     "output_type": "display_data"
    },
    {
     "data": {
      "text/plain": [
       "<Figure size 432x288 with 0 Axes>"
      ]
     },
     "metadata": {},
     "output_type": "display_data"
    },
    {
     "data": {
      "text/plain": [
       "<Figure size 432x288 with 0 Axes>"
      ]
     },
     "metadata": {},
     "output_type": "display_data"
    }
   ],
   "source": [
    "if __name__ == \"__main__\":\n",
    "    test(config,test_loader)"
   ]
  }
 ],
 "metadata": {
  "kernelspec": {
   "display_name": "Python 3",
   "language": "python",
   "name": "python3"
  },
  "language_info": {
   "codemirror_mode": {
    "name": "ipython",
    "version": 3
   },
   "file_extension": ".py",
   "mimetype": "text/x-python",
   "name": "python",
   "nbconvert_exporter": "python",
   "pygments_lexer": "ipython3",
   "version": "3.6.8"
  }
 },
 "nbformat": 4,
 "nbformat_minor": 2
}
